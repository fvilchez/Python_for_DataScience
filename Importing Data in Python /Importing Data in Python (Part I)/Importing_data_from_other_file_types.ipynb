{
 "cells": [
  {
   "cell_type": "markdown",
   "metadata": {},
   "source": [
    "# Loading a pickled file"
   ]
  },
  {
   "cell_type": "markdown",
   "metadata": {},
   "source": [
    "Tenemos ciertos tipos de datos que no pueden ser guardados en ficheros planos, por ejemplo listas y diccionarios. Si deseamos guardar este tipo de estructuras de datos, en ficheros que pueden ser leídos por las personas, debemos de hacer uso por ejemplo de los ficheros JSON, que son apropiados para guardar diccionarios.  Sin embargo, si nosotros lo único que queremos es ser capaces de importar estos datos en Python, podemos convertir nuestro objeto en una secuencia de bytes. Python dispone de los ficheros tipo **pickle** que lo que hacen es los indicado."
   ]
  },
  {
   "cell_type": "code",
   "execution_count": 1,
   "metadata": {
    "collapsed": true
   },
   "outputs": [],
   "source": [
    "#Importamos la librería\n",
    "import pickle\n",
    "\n",
    "#Abrimos el fichero \n",
    "with open('data.pkl', 'rb') as file:\n",
    "    d = pickle.load(file)"
   ]
  },
  {
   "cell_type": "markdown",
   "metadata": {},
   "source": [
    "# Listing sheets in Excel files"
   ]
  },
  {
   "cell_type": "markdown",
   "metadata": {},
   "source": [
    "A continuación aprenderemos a importar datos en hojas Excel haciendo uso de la librería pandas. Como bien sabemos un hoja excel puede estar compuesta de una o varias hojas. Por lo tanto, antes de importar datos debemos de saber el número de hojas de las que dispone nuestro fichero excel."
   ]
  },
  {
   "cell_type": "code",
   "execution_count": 2,
   "metadata": {},
   "outputs": [
    {
     "name": "stdout",
     "output_type": "stream",
     "text": [
      "['2002', '2004']\n"
     ]
    }
   ],
   "source": [
    "import pandas as pd\n",
    "\n",
    "#Cargamos la hoja excel\n",
    "xlsx = pd.ExcelFile(\"battledeath.xlsx\")\n",
    "\n",
    "#Mostramos las hojas de las que dispone nuestra hoja excel\n",
    "print(xlsx.sheet_names)"
   ]
  },
  {
   "cell_type": "markdown",
   "metadata": {},
   "source": [
    "# Importing sheets from Excel files"
   ]
  },
  {
   "cell_type": "markdown",
   "metadata": {},
   "source": [
    "Una vez ya conocema la estructura de nuestro fichero Excel, es decir, conocemos el número de hojas que tiene, ya estamos preparados para importar aquellas hojas que sean de nuestro interés. "
   ]
  },
  {
   "cell_type": "code",
   "execution_count": 4,
   "metadata": {},
   "outputs": [
    {
     "name": "stdout",
     "output_type": "stream",
     "text": [
      "  War, age-adjusted mortality due to       2002\n",
      "0                        Afghanistan  36.083990\n",
      "1                            Albania   0.128908\n",
      "2                            Algeria  18.314120\n"
     ]
    }
   ],
   "source": [
    "#Importamos la hoja de 2002\n",
    "df_2002 = xlsx.parse(\"2002\")\n",
    "\n",
    "#Vemos las 3 primeras observaciones\n",
    "print(df_2002.head(3))"
   ]
  },
  {
   "cell_type": "code",
   "execution_count": 5,
   "metadata": {},
   "outputs": [
    {
     "name": "stdout",
     "output_type": "stream",
     "text": [
      "  War(country)      2004\n",
      "0  Afghanistan  9.451028\n",
      "1      Albania  0.130354\n",
      "2      Algeria  3.407277\n"
     ]
    }
   ],
   "source": [
    "#Cargamos la hoja de 2004\n",
    "df_2004 = xlsx.parse(\"2004\")\n",
    "\n",
    "#Vemos las 3 primeras observaciones\n",
    "print(df_2004.head(3))"
   ]
  },
  {
   "cell_type": "markdown",
   "metadata": {},
   "source": [
    "# Customizing your spreadsheet import"
   ]
  },
  {
   "cell_type": "markdown",
   "metadata": {},
   "source": [
    "La función **parse()** dispone de una serie de parámetros adicionales que nos permiten importar los datos de una forma más personalizada. Además de por nombre de la hoja, también podemos acceder a la posición."
   ]
  },
  {
   "cell_type": "code",
   "execution_count": 7,
   "metadata": {},
   "outputs": [
    {
     "name": "stdout",
     "output_type": "stream",
     "text": [
      "               Country  AMM due to War (2002)\n",
      "0              Albania               0.128908\n",
      "1              Algeria              18.314120\n",
      "2              Andorra               0.000000\n",
      "3               Angola              18.964560\n",
      "4  Antigua and Barbuda               0.000000\n"
     ]
    }
   ],
   "source": [
    "#Parseamos la primera de las hojas\n",
    "df1 = xlsx.parse(0, skiprows = [0], names = ['Country', 'AMM due to War (2002)'])\n",
    "\n",
    "#Mostramos el resultado\n",
    "print(df1.head())"
   ]
  },
  {
   "cell_type": "code",
   "execution_count": 9,
   "metadata": {},
   "outputs": [
    {
     "name": "stdout",
     "output_type": "stream",
     "text": [
      "               Country\n",
      "0              Albania\n",
      "1              Algeria\n",
      "2              Andorra\n",
      "3               Angola\n",
      "4  Antigua and Barbuda\n"
     ]
    }
   ],
   "source": [
    "#Parseamos la segunda de las hojas\n",
    "df2 = xlsx.parse(1, skiprows = [0], parse_cols = [0], names = ['Country'])\n",
    "\n",
    "#Mostramos el resultado\n",
    "print(df2.head())"
   ]
  },
  {
   "cell_type": "markdown",
   "metadata": {},
   "source": [
    "# Importing SAS files"
   ]
  },
  {
   "cell_type": "markdown",
   "metadata": {},
   "source": [
    "A continuación veremos como importar ficheros **SAS** a DataFrame haciendo uso de Python. "
   ]
  },
  {
   "cell_type": "code",
   "execution_count": 17,
   "metadata": {},
   "outputs": [
    {
     "name": "stdout",
     "output_type": "stream",
     "text": [
      "     YEAR     P           S\n",
      "0  1950.0  12.9  181.899994\n",
      "1  1951.0  11.9  245.000000\n",
      "2  1952.0  10.7  250.199997\n",
      "3  1953.0  11.3  265.899994\n",
      "4  1954.0  11.2  248.500000\n"
     ]
    }
   ],
   "source": [
    "#Importamos las librerías necesarias\n",
    "import pandas as pd\n",
    "from sas7bdat import SAS7BDAT\n",
    "import matplotlib.pyplot as plt\n",
    "\n",
    "#Importamos los datos\n",
    "with SAS7BDAT('sales.sas7bdat') as file:\n",
    "    df_sas = file.to_data_frame()\n",
    "\n",
    "#Mostramos el resultado\n",
    "print(df_sas.head())"
   ]
  },
  {
   "cell_type": "code",
   "execution_count": 18,
   "metadata": {},
   "outputs": [
    {
     "data": {
      "image/png": "[encoded data removed]",
      "text/plain": [
       "<matplotlib.figure.Figure at 0x7f9ef8436e80>"
      ]
     },
     "metadata": {},
     "output_type": "display_data"
    }
   ],
   "source": [
    "#Visualizamos los datos mediante un histograma\n",
    "pd.DataFrame.hist(df_sas[['P']])\n",
    "plt.ylabel('count')\n",
    "plt.show()"
   ]
  },
  {
   "cell_type": "markdown",
   "metadata": {},
   "source": [
    "# Importing Stata files"
   ]
  },
  {
   "cell_type": "markdown",
   "metadata": {},
   "source": [
    "La librería pandas dispone de la función **read_stata()** que nos permite importar ficheros stata de una manera sencilla y simple."
   ]
  },
  {
   "cell_type": "code",
   "execution_count": 19,
   "metadata": {},
   "outputs": [
    {
     "name": "stdout",
     "output_type": "stream",
     "text": [
      "  wbcode      country  disa1  disa2  disa3  disa4  disa5  disa6  disa7  disa8  \\\n",
      "0    AFG  Afghanistan   0.00   0.00   0.76   0.73    0.0    0.0   0.00    0.0   \n",
      "1    AGO       Angola   0.32   0.02   0.56   0.00    0.0    0.0   0.56    0.0   \n",
      "2    ALB      Albania   0.00   0.00   0.02   0.00    0.0    0.0   0.00    0.0   \n",
      "\n",
      "    ...    disa16  disa17  disa18  disa19  disa20  disa21  disa22  disa23  \\\n",
      "0   ...       0.0     0.0     0.0    0.00     0.0     0.0    0.00    0.02   \n",
      "1   ...       0.0     0.4     0.0    0.61     0.0     0.0    0.99    0.98   \n",
      "2   ...       0.0     0.0     0.0    0.00     0.0     0.0    0.00    0.00   \n",
      "\n",
      "   disa24  disa25  \n",
      "0    0.00    0.00  \n",
      "1    0.61    0.00  \n",
      "2    0.00    0.16  \n",
      "\n",
      "[3 rows x 27 columns]\n"
     ]
    }
   ],
   "source": [
    "import pandas as pd\n",
    "import matplotlib.pyplot as plt\n",
    "\n",
    "#Hacemos uso de read_stata para importar datos\n",
    "df = pd.read_stata('disarea.dta')\n",
    "\n",
    "#Mostramos los resultados\n",
    "print(df.head(3))"
   ]
  },
  {
   "cell_type": "code",
   "execution_count": 20,
   "metadata": {},
   "outputs": [
    {
     "data": {
      "image/png": "[encoded data removed]",
      "text/plain": [
       "<matplotlib.figure.Figure at 0x7f9ef030d400>"
      ]
     },
     "metadata": {},
     "output_type": "display_data"
    }
   ],
   "source": [
    "#Visualizamos los resultados\n",
    "pd.DataFrame.hist(df[['disa10']])\n",
    "plt.ylabel('count')\n",
    "plt.show()"
   ]
  },
  {
   "cell_type": "markdown",
   "metadata": {
    "collapsed": true
   },
   "source": [
    "# Using h5py to import HDF5 files"
   ]
  },
  {
   "cell_type": "markdown",
   "metadata": {},
   "source": [
    "A la hora de importar datos de ficheros HDF5, Python dispone de la librería **h5py**. "
   ]
  },
  {
   "cell_type": "code",
   "execution_count": 5,
   "metadata": {},
   "outputs": [
    {
     "name": "stdout",
     "output_type": "stream",
     "text": [
      "<class 'h5py._hl.files.File'>\n"
     ]
    }
   ],
   "source": [
    "#Importamos las librerías \n",
    "import pandas as pd\n",
    "import h5py\n",
    "import numpy as np\n",
    "import matplotlib.pyplot as plt\n",
    "\n",
    "#Cargamos el fichero\n",
    "file = 'L-L1_LOSC_4_V1-1126259446-32.hdf5'\n",
    "data = h5py.File(file, 'r')\n",
    "\n",
    "#Vemos el tipo de datos\n",
    "print(type(data))"
   ]
  },
  {
   "cell_type": "code",
   "execution_count": 3,
   "metadata": {},
   "outputs": [
    {
     "name": "stdout",
     "output_type": "stream",
     "text": [
      "meta\n",
      "quality\n",
      "strain\n"
     ]
    }
   ],
   "source": [
    "#Obtenemos las claves del fichero\n",
    "for key in data.keys():\n",
    "    print(key)"
   ]
  },
  {
   "cell_type": "markdown",
   "metadata": {},
   "source": [
    "# Extracting data from your HDF5 file"
   ]
  },
  {
   "cell_type": "markdown",
   "metadata": {},
   "source": [
    "A continuación vamos a proceder a extraer los datos de nuestro fichero y a visualizarlos."
   ]
  },
  {
   "cell_type": "code",
   "execution_count": 4,
   "metadata": {},
   "outputs": [
    {
     "name": "stdout",
     "output_type": "stream",
     "text": [
      "Strain\n"
     ]
    }
   ],
   "source": [
    "#Obtenemos el grupo de nuestro fichero\n",
    "group = data['strain']\n",
    "\n",
    "#Vemos las claves de nuestro grupo\n",
    "for key in group.keys():\n",
    "    print(key)"
   ]
  },
  {
   "cell_type": "code",
   "execution_count": 8,
   "metadata": {},
   "outputs": [
    {
     "data": {
      "image/png": "[encoded data removed]",
      "text/plain": [
       "<matplotlib.figure.Figure at 0x7f17d93772b0>"
      ]
     },
     "metadata": {},
     "output_type": "display_data"
    }
   ],
   "source": [
    "#Obtenemos los valores\n",
    "strain = data['strain']['Strain'].value\n",
    "\n",
    "#Seleccionamos el número de muestra que queremos importar\n",
    "n_samples = 10000\n",
    "\n",
    "#Generamos un vector de tiempos \n",
    "time = np.arange(0, 1, 1/n_samples)\n",
    "\n",
    "#Visualizamos el resultado\n",
    "plt.plot(time, strain[:n_samples])\n",
    "plt.xlabel('GPS Time (s)')\n",
    "plt.ylabel('strain')\n",
    "plt.show()"
   ]
  },
  {
   "cell_type": "markdown",
   "metadata": {},
   "source": [
    "# Loading .mat files"
   ]
  },
  {
   "cell_type": "markdown",
   "metadata": {},
   "source": [
    "Python también nos permite cargar ficheros **matlab**, estos ficheros tiene extensión **.mat**."
   ]
  },
  {
   "cell_type": "code",
   "execution_count": 10,
   "metadata": {},
   "outputs": [
    {
     "name": "stdout",
     "output_type": "stream",
     "text": [
      "<class 'dict'>\n"
     ]
    }
   ],
   "source": [
    "#Importamos la librería para importar los ficheros de matlab\n",
    "import scipy.io\n",
    "\n",
    "#Cargamos los datos del fichero\n",
    "mat = scipy.io.loadmat('ja_data2.mat')\n",
    "\n",
    "#Vemos el tipo de dato generado\n",
    "print(type(mat))"
   ]
  },
  {
   "cell_type": "markdown",
   "metadata": {},
   "source": [
    "# The structure of .mat in Python"
   ]
  },
  {
   "cell_type": "markdown",
   "metadata": {},
   "source": [
    "Como podemos ver lo que tenemos es un diccionario. Cada elemento de este diccionario se corresponde con una variable del espacio de trabajo de matlab, por lo tanto, cada una de las claves de nuestro diccionario corresponde con el nombre de la variable y el el valor de nuestro diccionario es el valor de dicha variable."
   ]
  },
  {
   "cell_type": "code",
   "execution_count": 14,
   "metadata": {},
   "outputs": [
    {
     "name": "stdout",
     "output_type": "stream",
     "text": [
      "dict_keys(['__header__', '__version__', '__globals__', 'rfpCyt', 'rfpNuc', 'cfpNuc', 'cfpCyt', 'yfpNuc', 'yfpCyt', 'CYratioCyt'])\n"
     ]
    }
   ],
   "source": [
    "#Vemos las distintas variables que dispone nuestro fichero\n",
    "print(mat.keys())"
   ]
  },
  {
   "cell_type": "code",
   "execution_count": 15,
   "metadata": {},
   "outputs": [
    {
     "name": "stdout",
     "output_type": "stream",
     "text": [
      "<class 'numpy.ndarray'>\n"
     ]
    }
   ],
   "source": [
    "#Procemos a seleccionar una de las variables y ver su tipo \n",
    "print(type(mat['CYratioCyt']))"
   ]
  },
  {
   "cell_type": "code",
   "execution_count": 16,
   "metadata": {},
   "outputs": [
    {
     "name": "stdout",
     "output_type": "stream",
     "text": [
      "(200, 137)\n"
     ]
    }
   ],
   "source": [
    "#Vemos el tamaño de nuestra array\n",
    "print(mat['CYratioCyt'].shape)"
   ]
  },
  {
   "cell_type": "code",
   "execution_count": 17,
   "metadata": {},
   "outputs": [
    {
     "data": {
      "image/png": "[encoded data removed]",
      "text/plain": [
       "<matplotlib.figure.Figure at 0x7f17d12f9128>"
      ]
     },
     "metadata": {},
     "output_type": "display_data"
    }
   ],
   "source": [
    "#Procedemos a visualizar los datos\n",
    "data = mat['CYratioCyt'][25, 5:]\n",
    "fig = plt.figure()\n",
    "plt.plot(data)\n",
    "plt.xlabel('time (min.)')\n",
    "plt.ylabel('normalized fluorescence (measure of expression)')\n",
    "plt.show()"
   ]
  }
 ],
 "metadata": {
  "kernelspec": {
   "display_name": "Python 3",
   "language": "python",
   "name": "python3"
  },
  "language_info": {
   "codemirror_mode": {
    "name": "ipython",
    "version": 3
   },
   "file_extension": ".py",
   "mimetype": "text/x-python",
   "name": "python",
   "nbconvert_exporter": "python",
   "pygments_lexer": "ipython3",
   "version": "3.6.3"
  }
 },
 "nbformat": 4,
 "nbformat_minor": 2
}
