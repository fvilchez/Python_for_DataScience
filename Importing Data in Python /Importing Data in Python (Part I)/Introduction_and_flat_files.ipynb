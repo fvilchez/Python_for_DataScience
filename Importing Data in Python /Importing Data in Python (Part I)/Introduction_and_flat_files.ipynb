{
 "cells": [
  {
   "cell_type": "markdown",
   "metadata": {
    "collapsed": true
   },
   "source": [
    "# Exploring your working directory"
   ]
  },
  {
   "cell_type": "markdown",
   "metadata": {},
   "source": [
    "Antes de comenzar a exportar ficheros en Python debemos tener una idea de que ficheros tenemos disponibles en nuestro espacio de trabajo. Para esto disponemos del comando **!ls**."
   ]
  },
  {
   "cell_type": "code",
   "execution_count": 3,
   "metadata": {},
   "outputs": [
    {
     "name": "stdout",
     "output_type": "stream",
     "text": [
      "battledeath.xlsx\t\t   mnist_kaggle_some_rows.csv\r\n",
      "Chinook.sqlite\t\t\t   moby_dick.txt\r\n",
      "disarea.dta\t\t\t   sales.sas7bdat\r\n",
      "Introduction and flat files.ipynb  seaslug.txt\r\n",
      "ja_data2.mat\t\t\t   titanic_sub.csv\r\n",
      "L-L1_LOSC_4_V1-1126259446-32.hdf5\r\n"
     ]
    }
   ],
   "source": [
    "#Vemos los ficheros que disponemos en nuestro espacio de trabajo\n",
    "!ls"
   ]
  },
  {
   "cell_type": "markdown",
   "metadata": {},
   "source": [
    "# Importing entire text files"
   ]
  },
  {
   "cell_type": "markdown",
   "metadata": {},
   "source": [
    "A continuación vamos a proceder a trabajar con el fichero **moby_dick.txt**. Se trata de un fichero de texto plano que contiene un trozo de la novela moby dick. A continuación vamos a proceder a mostrar el contenido de este fichero."
   ]
  },
  {
   "cell_type": "code",
   "execution_count": 4,
   "metadata": {},
   "outputs": [
    {
     "name": "stdout",
     "output_type": "stream",
     "text": [
      "CHAPTER 1. Loomings.\n",
      "    \n",
      "Call me Ishmael. Some years ago--never mind how long precisely--having\n",
      "little or no money in my purse, and nothing particular to interest me on\n",
      "shore, I thought I would sail about a little and see the watery part of\n",
      "the world. It is a way I have of driving off the spleen and regulating\n",
      "the circulation. Whenever I find myself growing grim about the mouth;\n",
      "whenever it is a damp, drizzly November in my soul; whenever I find\n",
      "myself involuntarily pausing before coffin warehouses, and bringing up\n",
      "the rear of every funeral I meet; and especially whenever my hypos get\n",
      "such an upper hand of me, that it requires a strong moral principle to\n",
      "prevent me from deliberately stepping into the street, and methodically\n",
      "knocking people's hats off--then, I account it high time to get to sea\n",
      "as soon as I can. This is my substitute for pistol and ball. With a\n",
      "philosophical flourish Cato throws himself upon his sword; I quietly\n",
      "take to the ship. There is nothing surprising in this. If they but knew\n",
      "it, almost all men in their degree, some time or other, cherish very\n",
      "nearly the same feelings towards the ocean with me.\n",
      "\n"
     ]
    }
   ],
   "source": [
    "#Abrimos el fichero\n",
    "file = open(\"moby_dick.txt\", mode = \"r\")\n",
    "\n",
    "#Mostramos el contenido \n",
    "print(file.read())"
   ]
  },
  {
   "cell_type": "code",
   "execution_count": 10,
   "metadata": {
    "collapsed": true
   },
   "outputs": [],
   "source": [
    "#Chequeamos si el fichero fue cerrado en caso de que no sea así procedemos a cerrar\n",
    "if not(file.closed):\n",
    "    file.close()"
   ]
  },
  {
   "cell_type": "code",
   "execution_count": 11,
   "metadata": {},
   "outputs": [
    {
     "data": {
      "text/plain": [
       "True"
      ]
     },
     "execution_count": 11,
     "metadata": {},
     "output_type": "execute_result"
    }
   ],
   "source": [
    "#Chequeamos si el fichero fue cerrado\n",
    "file.closed"
   ]
  },
  {
   "cell_type": "markdown",
   "metadata": {},
   "source": [
    "# Importing text files line by line "
   ]
  },
  {
   "cell_type": "markdown",
   "metadata": {},
   "source": [
    "Cuando estamos trabajando con ficheros de texto muy muy grandes es posible que no estemos interesados en mostrar el fichero por completo. Si estamos interesados solamente en mostrar las primeras líneas de nuestro fichero de texto, podemos hacer uso del método **readline()**. Cada vez que ejecutamos este método, una nueva línea de nuestro fichero es mostrada. Haciendo uso del construct manager **with** podemos asociar directamente a una variable la lectura del fichero."
   ]
  },
  {
   "cell_type": "code",
   "execution_count": 13,
   "metadata": {},
   "outputs": [
    {
     "name": "stdout",
     "output_type": "stream",
     "text": [
      "CHAPTER 1. Loomings.\n",
      "\n",
      "    \n",
      "\n",
      "Call me Ishmael. Some years ago--never mind how long precisely--having\n",
      "\n"
     ]
    }
   ],
   "source": [
    "#Hacemos uso del construct manager with para abrir y leer las tres primeras líneas de nuestro fichero\n",
    "with open(\"moby_dick.txt\") as file:\n",
    "    print(file.readline())\n",
    "    print(file.readline())\n",
    "    print(file.readline())"
   ]
  },
  {
   "cell_type": "markdown",
   "metadata": {},
   "source": [
    "# Using Numpy to import flat files"
   ]
  },
  {
   "cell_type": "markdown",
   "metadata": {},
   "source": [
    "Cuado estamos trabajando con datos en los cuales todos sus valores se tratan de valores numéricos, es posible que la mejor opción para importar estos datos sea en un array. Para esto el paquete Numpy dispone de la función **loadtxt()** donde tenemos que:\n",
    "\n",
    "* El primer argumento es el path en donde se encuentra el fichero que deseamos cargar.\n",
    "\n",
    "* El segundo argumento es el delimitador de nuestro fichero.\n",
    "\n",
    "A continuación vamos a importar el conjunto de MNIST que únicamente contiene valores numéricos. Este conjunto de datos contiene valores asociados a píxeles de diferentes números del 0 al 9."
   ]
  },
  {
   "cell_type": "code",
   "execution_count": 1,
   "metadata": {},
   "outputs": [
    {
     "name": "stdout",
     "output_type": "stream",
     "text": [
      "<class 'numpy.ndarray'>\n"
     ]
    }
   ],
   "source": [
    "#Importamos numpy y matplotlib\n",
    "import numpy as np\n",
    "import matplotlib.pyplot as plt\n",
    "#Cargamos el path del fichero\n",
    "path_file = \"mnist_kaggle_some_rows.csv\"\n",
    "\n",
    "#Cargamos los datos en un array\n",
    "digits = np.loadtxt(path_file, delimiter = \",\")\n",
    "\n",
    "#Mostramos el tipo de datos de digits\n",
    "print(type(digits))"
   ]
  },
  {
   "cell_type": "code",
   "execution_count": 19,
   "metadata": {},
   "outputs": [
    {
     "data": {
      "image/png": "[encoded data removed]",
      "text/plain": [
       "<matplotlib.figure.Figure at 0x7ff767a767f0>"
      ]
     },
     "metadata": {},
     "output_type": "display_data"
    }
   ],
   "source": [
    "#Seleccionamos la fila 21 y todas las columnas a partir de la segunda\n",
    "row = digits[21, 1:]\n",
    "#Hacemos un reescalado\n",
    "row_reshape = np.reshape(row, (28, 28))\n",
    "#Mostramos por pantalla el resultado \n",
    "plt.imshow(row_reshape, cmap = \"Greys\", interpolation = \"nearest\")\n",
    "plt.show()"
   ]
  },
  {
   "cell_type": "markdown",
   "metadata": {},
   "source": [
    "# Customizing your Numpy import "
   ]
  },
  {
   "cell_type": "markdown",
   "metadata": {},
   "source": [
    "Puede que tengamos filas tales como cabeceras que no queramos importar. Además es posible que nuestro fichero esté delimitado por algún que otro delimitador que no sea la comma. Existen una serie de argumentos que nos proporciona la función **np.loadtxt()** que en determinados momentos pueden ser realmente útiles. Estos argumentos son:\n",
    "\n",
    "* **delimiter:** indicamos el tipo de delimitador de nuestro fichero (tabulador: \\t, coma:, etc).\n",
    "\n",
    "* **usecols:** mediante una lista indicamos el índice de las columnas que queremos importar.\n",
    "\n",
    "* **skiprows:** indicamos los índices de las filas que no deseamos cargar."
   ]
  },
  {
   "cell_type": "markdown",
   "metadata": {},
   "source": [
    "# Importing different data types"
   ]
  },
  {
   "cell_type": "markdown",
   "metadata": {},
   "source": [
    "A continuación vamos a proceder a hacer uso del fichero **seaslug.txt** que contiene texto como cabeceras y además se encuentra separado por tabulador. Este conjunto de datos contiene información del porcentaje de babosas marinas que se metarfosean en un tiempo determinado. Si tratamos de importar este tipo de datos haciendo uso de la función **loadtxt()**, Python nos dará un error indicando que no puede pasar strings a tipo float, existen dos formas de cargar este fichero:\n",
    "\n",
    "* Saltándonos la fila que corresponde a la cabecera haciendo uso del parámetro skiprows\n",
    "\n",
    "* Haciendo uso del argumento dtype e indicando que el tipo de datos a importar son strings, pero en este caso todos los datos serán importados como strings."
   ]
  },
  {
   "cell_type": "code",
   "execution_count": 23,
   "metadata": {},
   "outputs": [
    {
     "name": "stdout",
     "output_type": "stream",
     "text": [
      "[[  9.90000000e+01   6.70000000e-02]\n",
      " [  9.90000000e+01   1.33000000e-01]]\n"
     ]
    }
   ],
   "source": [
    "#Cargamos los datos haciendo uso de skiprows\n",
    "seaslug_skiprows = np.loadtxt(\"seaslug.txt\", delimiter = \"\\t\", skiprows = 1)\n",
    "#Mostramos una muestra de los datos\n",
    "print(seaslug_skiprows[0:2,:])"
   ]
  },
  {
   "cell_type": "code",
   "execution_count": 24,
   "metadata": {},
   "outputs": [
    {
     "name": "stdout",
     "output_type": "stream",
     "text": [
      "[['Time' 'Percent']\n",
      " ['99' '0.067']]\n"
     ]
    }
   ],
   "source": [
    "#Cargamos los datos haciendo uso del parámetro dtype = \"str\"\n",
    "seaslug_dtype = np.loadtxt(\"seaslug.txt\", delimiter = \"\\t\", dtype = \"str\")\n",
    "#Mostramos una muestra de los datos\n",
    "print(seaslug_dtype[0:2, :])"
   ]
  },
  {
   "cell_type": "code",
   "execution_count": 25,
   "metadata": {},
   "outputs": [
    {
     "data": {
      "image/png": "[encoded data removed]",
      "text/plain": [
       "<matplotlib.figure.Figure at 0x7ff767362cc0>"
      ]
     },
     "metadata": {},
     "output_type": "display_data"
    }
   ],
   "source": [
    "#Procedemos a mostrar los datos en un scatter plot\n",
    "plt.scatter(seaslug_skiprows[:,0], seaslug_skiprows[:,1])\n",
    "plt.xlabel(\"time(min)\")\n",
    "plt.ylabel(\"percentage of larvae\")\n",
    "plt.show()"
   ]
  },
  {
   "cell_type": "markdown",
   "metadata": {
    "collapsed": true
   },
   "source": [
    "# Working with mixed datatypes (1)"
   ]
  },
  {
   "cell_type": "markdown",
   "metadata": {},
   "source": [
    "En muchas ocasiones vamos a necesitar importar datos que están compuestos por diferentes tipos de datos, es decir, el tipo de dato que almacena una columna es distinto al tipo de datos que almacenará otra columna. La función **np.loadtxt()** no nos permite hacer esto. Para esto disponemos de la función **np.genfromtxt()** mediante la cual podemos manejar este tipo de estructuras. Si le pasamos el argumento **dtype = None**, inferirá que tipo de dato debe der ser cada columna."
   ]
  },
  {
   "cell_type": "code",
   "execution_count": 8,
   "metadata": {},
   "outputs": [
    {
     "data": {
      "text/plain": [
       "array([(2, 1, 1, b'female',  38., 1, 0, b'PC 17599',  71.2833, b'C85', b'C'),\n",
       "       (3, 1, 3, b'female',  26., 0, 0, b'STON/O2. 3101282',   7.925 , b'', b'S'),\n",
       "       (4, 1, 1, b'female',  35., 1, 0, b'113803',  53.1   , b'C123', b'S'),\n",
       "       (5, 0, 3, b'male',  35., 0, 0, b'373450',   8.05  , b'', b'S')],\n",
       "      dtype=[('PassengerId', '<i8'), ('Survived', '<i8'), ('Pclass', '<i8'), ('Sex', 'S6'), ('Age', '<f8'), ('SibSp', '<i8'), ('Parch', '<i8'), ('Ticket', 'S18'), ('Fare', '<f8'), ('Cabin', 'S15'), ('Embarked', 'S1')])"
      ]
     },
     "execution_count": 8,
     "metadata": {},
     "output_type": "execute_result"
    }
   ],
   "source": [
    "#Cargamos los datos de titanic.csv haciendo uso de la función np.genfromtxt()\n",
    "titanic = np.genfromtxt(\"titanic_sub.csv\", delimiter = \",\", dtype = None, names = True)\n",
    "titanic[1:5]"
   ]
  },
  {
   "cell_type": "markdown",
   "metadata": {},
   "source": [
    "# Working with mixed datatypes (2)"
   ]
  },
  {
   "cell_type": "markdown",
   "metadata": {},
   "source": [
    "Además de la función **np.genfromtxt()** para importar datos mixtos en formato array, disponemos de la función **np.recfromcsv()** esta función realizar un función similar a la función **np.genfromtxt()** con al diferencia que por defecto el valor del argument **dtype = None**, el argumento **delimiter = \",\"** y el argumento **names = True**, lo que hace que la llamada sea más simple."
   ]
  },
  {
   "cell_type": "code",
   "execution_count": 9,
   "metadata": {},
   "outputs": [
    {
     "data": {
      "text/plain": [
       "rec.array([(2, 1, 1, b'female',  38., 1, 0, b'PC 17599',  71.2833, b'C85', b'C'),\n",
       "           (3, 1, 3, b'female',  26., 0, 0, b'STON/O2. 3101282',   7.925 , b'', b'S'),\n",
       "           (4, 1, 1, b'female',  35., 1, 0, b'113803',  53.1   , b'C123', b'S'),\n",
       "           (5, 0, 3, b'male',  35., 0, 0, b'373450',   8.05  , b'', b'S')], \n",
       "          dtype=[('passengerid', '<i8'), ('survived', '<i8'), ('pclass', '<i8'), ('sex', 'S6'), ('age', '<f8'), ('sibsp', '<i8'), ('parch', '<i8'), ('ticket', 'S18'), ('fare', '<f8'), ('cabin', 'S15'), ('embarked', 'S1')])"
      ]
     },
     "execution_count": 9,
     "metadata": {},
     "output_type": "execute_result"
    }
   ],
   "source": [
    "titanic_2 = np.recfromcsv(\"titanic_sub.csv\")\n",
    "titanic_2[1:5]"
   ]
  },
  {
   "cell_type": "markdown",
   "metadata": {
    "collapsed": true
   },
   "source": [
    "# Using pandas to import flat files as DataFrames (1)"
   ]
  },
  {
   "cell_type": "markdown",
   "metadata": {},
   "source": [
    "En el ejercicio anterior aprendimos a hacer uso de Numpy para importar datos, donde cada columna era de un tipo diferente. Sin embargo, el objeto pandas **Dataframe** es mucho más apropiados para almacenar este tipo de datos. Para ello la librería **pandas** nos aporta funciones como **read_csv** y **read_table**."
   ]
  },
  {
   "cell_type": "code",
   "execution_count": 1,
   "metadata": {},
   "outputs": [
    {
     "name": "stdout",
     "output_type": "stream",
     "text": [
      "   PassengerId  Survived  Pclass     Sex   Age  SibSp  Parch  \\\n",
      "0            1         0       3    male  22.0      1      0   \n",
      "1            2         1       1  female  38.0      1      0   \n",
      "2            3         1       3  female  26.0      0      0   \n",
      "3            4         1       1  female  35.0      1      0   \n",
      "4            5         0       3    male  35.0      0      0   \n",
      "\n",
      "             Ticket     Fare Cabin Embarked  \n",
      "0         A/5 21171   7.2500   NaN        S  \n",
      "1          PC 17599  71.2833   C85        C  \n",
      "2  STON/O2. 3101282   7.9250   NaN        S  \n",
      "3            113803  53.1000  C123        S  \n",
      "4            373450   8.0500   NaN        S  \n"
     ]
    }
   ],
   "source": [
    "#Importamos la librería\n",
    "import pandas as pd\n",
    "\n",
    "#Hacemos la lectura de los datos\n",
    "df = pd.read_csv(\"titanic_sub.csv\")\n",
    "\n",
    "#Mostramos las 6 primeras observaciones\n",
    "print(df.head())"
   ]
  },
  {
   "cell_type": "markdown",
   "metadata": {},
   "source": [
    "# Using pandas to import flat files as DataFrames (2)"
   ]
  },
  {
   "cell_type": "markdown",
   "metadata": {},
   "source": [
    "Un **Dataframe** dispone del atributo **values** que nos permite pasar un **Dataframe** a Numpy array. Además el argumento **header** de la función **read_csv** nos permite indicar si vamos a cargar el conjunto de datos con cabecera o sin cabecera. El parámetro **nrows** nos permite indicar el número de filas que deseamos importar."
   ]
  },
  {
   "cell_type": "code",
   "execution_count": 3,
   "metadata": {},
   "outputs": [
    {
     "name": "stdout",
     "output_type": "stream",
     "text": [
      "<class 'numpy.ndarray'>\n"
     ]
    }
   ],
   "source": [
    "#Cargamos los datos\n",
    "data = pd.read_csv(\"mnist_kaggle_some_rows.csv\", header = None, nrows = 5)\n",
    "\n",
    "#Procedemos a extraer de los datos un Numpy Array\n",
    "np_data = data.values\n",
    "\n",
    "#Mostramos el tipo de dato que es np_data\n",
    "print(type(np_data))"
   ]
  },
  {
   "cell_type": "markdown",
   "metadata": {},
   "source": [
    "Además pandas cuenta con dos argumentos que pueden ser muy interesantes a la hora de cargar los datos:\n",
    "    \n",
    "* **na_values**: en este argumento indicamos que valores queremos que tome como NaN, es posible que tengamos ciertos valores que tomen el valor Nothing y queramos cambiar esto por NaN, para esto podemos darle el valor de Nothing a esta variable.\n",
    "\n",
    "* **comment**: toma el valor de un str, por ejemplo si comment toma el valor '#', esto nos indica que todo lo que venga a continuación de '#' no es importado."
   ]
  }
 ],
 "metadata": {
  "kernelspec": {
   "display_name": "Python 3",
   "language": "python",
   "name": "python3"
  },
  "language_info": {
   "codemirror_mode": {
    "name": "ipython",
    "version": 3
   },
   "file_extension": ".py",
   "mimetype": "text/x-python",
   "name": "python",
   "nbconvert_exporter": "python",
   "pygments_lexer": "ipython3",
   "version": "3.6.3"
  }
 },
 "nbformat": 4,
 "nbformat_minor": 2
}
