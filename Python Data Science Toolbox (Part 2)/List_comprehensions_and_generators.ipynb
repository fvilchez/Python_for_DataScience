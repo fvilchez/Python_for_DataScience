{
 "cells": [
  {
   "cell_type": "markdown",
   "metadata": {},
   "source": [
    "## Writing list comprehensions"
   ]
  },
  {
   "cell_type": "markdown",
   "metadata": {},
   "source": [
    "Vamos a proceder a crear nuestra primer lista comprimida que produce una lista con el cuadrado de los números del 0 al 9."
   ]
  },
  {
   "cell_type": "code",
   "execution_count": 2,
   "metadata": {},
   "outputs": [
    {
     "name": "stdout",
     "output_type": "stream",
     "text": [
      "[0, 1, 4, 9, 16, 25, 36, 49, 64, 81]\n"
     ]
    }
   ],
   "source": [
    "#Nos creamos nuestra lista comprimida\n",
    "squares = [num ** 2 for num in range(0,10)]\n",
    "\n",
    "#Mostramos el resultado \n",
    "print(squares)"
   ]
  },
  {
   "cell_type": "markdown",
   "metadata": {},
   "source": [
    "## Nested list comprehensions"
   ]
  },
  {
   "cell_type": "markdown",
   "metadata": {},
   "source": [
    "En el presente ejercicio vamos a proceder a crear una lista comprimida dentro de otra lista comprimida, también conocidas como **nested comprenhension**. Para ello nos vamos a crear una matriz 5x5 donde cada fila va a tener los números del 0 al 4."
   ]
  },
  {
   "cell_type": "code",
   "execution_count": 4,
   "metadata": {},
   "outputs": [
    {
     "data": {
      "text/plain": [
       "[[0, 1, 2, 3, 4],\n",
       " [0, 1, 2, 3, 4],\n",
       " [0, 1, 2, 3, 4],\n",
       " [0, 1, 2, 3, 4],\n",
       " [0, 1, 2, 3, 4]]"
      ]
     },
     "execution_count": 4,
     "metadata": {},
     "output_type": "execute_result"
    }
   ],
   "source": [
    "#Nos creamos nuestra matriz como lista comprimida\n",
    "matrix = [[col for col in range(5)] for row in range(5)]\n",
    "\n",
    "#Mostramos el resultado \n",
    "matrix"
   ]
  },
  {
   "cell_type": "markdown",
   "metadata": {},
   "source": [
    "## Using conditionals in comprehensions (I)"
   ]
  },
  {
   "cell_type": "markdown",
   "metadata": {},
   "source": [
    "Un mecanismo interesante en las lista comprimidas es que podemos crear listas con valores que solo sean recogidos bajo una determinada condición. "
   ]
  },
  {
   "cell_type": "code",
   "execution_count": 6,
   "metadata": {},
   "outputs": [
    {
     "name": "stdout",
     "output_type": "stream",
     "text": [
      "['samwise', 'aragorn', 'legolas', 'boromir']\n"
     ]
    }
   ],
   "source": [
    "#Nos creamos una lista\n",
    "fellowship = ['frodo', 'samwise', 'merry', 'aragorn', 'legolas', 'boromir', 'gimli']\n",
    "\n",
    "#Nos creamos una lista de forma que solo nos quedemos con los miembros que tenga una longitud de 7 o más\n",
    "new_members = [member for member in fellowship if len(member) >= 7]\n",
    "\n",
    "#Mostramos los resultados\n",
    "print(new_members)"
   ]
  },
  {
   "cell_type": "markdown",
   "metadata": {},
   "source": [
    "## Using conditionals in comprehensions (II)"
   ]
  },
  {
   "cell_type": "markdown",
   "metadata": {},
   "source": [
    "Al igual que podemos hacer uso del condicional **if** dentro una lista comprimida, también podemos hacer uso del condicional **if-else**.  A continuación para aquellos miembros que no cumplan la condición de tener 7 o más caracteres vamos a proceder a sustituirlos por \"\"."
   ]
  },
  {
   "cell_type": "code",
   "execution_count": 9,
   "metadata": {},
   "outputs": [
    {
     "name": "stdout",
     "output_type": "stream",
     "text": [
      "['', 'samwise', '', 'aragorn', 'legolas', 'boromir', '']\n"
     ]
    }
   ],
   "source": [
    "#Nos creamos la lista comprimida\n",
    "new_fellowship = [member if len(member) >= 7 else \"\" for member in fellowship]\n",
    "\n",
    "#Mostramos el resultado\n",
    "print(new_fellowship)"
   ]
  },
  {
   "cell_type": "markdown",
   "metadata": {},
   "source": [
    "## Dict comprehensions"
   ]
  },
  {
   "cell_type": "markdown",
   "metadata": {},
   "source": [
    "La compresión no solo está limitada a las listas, también podemos hacer diccionarios comprimidos. A continuación nos vamos a crear un diccionario comprimido donde la clave será el personaje y su valor será el número de letras de dicho personaje."
   ]
  },
  {
   "cell_type": "code",
   "execution_count": 10,
   "metadata": {},
   "outputs": [
    {
     "name": "stdout",
     "output_type": "stream",
     "text": [
      "{'frodo': 5, 'samwise': 7, 'merry': 5, 'aragorn': 7, 'legolas': 7, 'boromir': 7, 'gimli': 5}\n"
     ]
    }
   ],
   "source": [
    "#Nos creamos el diccionario comprimido\n",
    "dic_fellowship  = {member: len(member) for member in fellowship}\n",
    "\n",
    "#Mostramos el resultado por pantalla\n",
    "print(dic_fellowship)"
   ]
  },
  {
   "cell_type": "markdown",
   "metadata": {
    "collapsed": true
   },
   "source": [
    "## Write your own generator expressions"
   ]
  },
  {
   "cell_type": "markdown",
   "metadata": {},
   "source": [
    "Los generadores son creados de forma similar a las listas comprimidas con la diferencia de que los generadores hacen uso de los paréntesis en lugar de los corchetes. "
   ]
  },
  {
   "cell_type": "code",
   "execution_count": 3,
   "metadata": {},
   "outputs": [
    {
     "name": "stdout",
     "output_type": "stream",
     "text": [
      "0\n",
      "1\n",
      "2\n",
      "3\n",
      "4\n"
     ]
    }
   ],
   "source": [
    "#Nos creamos un generador con los números del 0 al 30\n",
    "result = (num for num in range(31))\n",
    "\n",
    "#Mostramos los 5 primeros resultados\n",
    "print(next(result))\n",
    "print(next(result))\n",
    "print(next(result))\n",
    "print(next(result))\n",
    "print(next(result))"
   ]
  },
  {
   "cell_type": "markdown",
   "metadata": {},
   "source": [
    "## Changing the output in generator expressions"
   ]
  },
  {
   "cell_type": "markdown",
   "metadata": {},
   "source": [
    "Al igual que en las listas comprimidas podemos hacer uso de funciones en los generadores."
   ]
  },
  {
   "cell_type": "code",
   "execution_count": 4,
   "metadata": {},
   "outputs": [
    {
     "name": "stdout",
     "output_type": "stream",
     "text": [
      "6\n",
      "5\n",
      "5\n",
      "6\n",
      "7\n"
     ]
    }
   ],
   "source": [
    "#Nos creamos una lista\n",
    "lannister = ['cersei', 'jaime', 'tywin', 'tyrion', 'joffrey']\n",
    "\n",
    "#Nos creamos un generador que contiene la longitud de cada element de la lista\n",
    "lengths = (len(value) for value in lannister)\n",
    "\n",
    "#Mostramos los resultados\n",
    "for value in lengths:\n",
    "    print(value)"
   ]
  },
  {
   "cell_type": "markdown",
   "metadata": {},
   "source": [
    "## Build a generator"
   ]
  },
  {
   "cell_type": "markdown",
   "metadata": {},
   "source": [
    "Además de expresiones generadoras, podemos crear funciones generadoras. Las funciones generadoras se tratan de funciones que son capaces de generar un conjunto de valores en lugar de un solo valor. Esta funciones se crean igual que las funciones convencionales, pero en lugar de hacer uso de la palabra reservada **return()** hace uso de la palabra reservada **yield**. La diferencia entre una función que hace uso de **return()** y una función que hace uso de **yield()** es que el **return()** ejecuta la función completa, mientras que el **yield()** ejecuta la función paso a paso de forma que guarda el estado anterior y cuando se vuelve ejecutar empieza desde la última vez ques e ejecutó. Las principales diferencias por tanto entre una función normal y una función generador son:\n",
    "\n",
    "* En primer lugar una función generador puede contener una o más sentencias de tipo **yield()**.\n",
    "\n",
    "* Cuando realizamos la llamada esta genera un objeto iterador, pero no se ejecuta de forma automática.\n",
    "\n",
    "* Las variables locales y sus estados son recordados para sucesivas llamadas. Es decir, a diferencia que las funciones normales las variables locales no son destruídas\n",
    "\n",
    "* Un objeto generador solo puede ser iterado una única vez. Para reempezar el proceso debemos de crearnos otro objeto iterador nuevo."
   ]
  },
  {
   "cell_type": "code",
   "execution_count": 5,
   "metadata": {},
   "outputs": [
    {
     "name": "stdout",
     "output_type": "stream",
     "text": [
      "6\n",
      "5\n",
      "5\n",
      "6\n",
      "7\n"
     ]
    }
   ],
   "source": [
    "#Nos creamos nuestra función generadora\n",
    "def get_lengths(input_list):\n",
    "    \"\"\"Función generadora que genera la longitud de los strings de la lista de entrada\"\"\"\n",
    "    for person in input_list:\n",
    "        yield len(person)\n",
    "\n",
    "#Mostramos los valores generados por nuestra función \n",
    "lannister = ['cersei', 'jaime', 'tywin', 'tyrion', 'joffrey']\n",
    "\n",
    "for value in get_lengths(lannister):\n",
    "    print(value)"
   ]
  },
  {
   "cell_type": "markdown",
   "metadata": {},
   "source": [
    "## List comprehensions for time-stamped data"
   ]
  },
  {
   "cell_type": "code",
   "execution_count": 7,
   "metadata": {},
   "outputs": [
    {
     "name": "stdout",
     "output_type": "stream",
     "text": [
      "['3:40:17', '3:40:17', '3:40:17', '3:40:17', '3:40:17', '3:40:17', '3:40:18', '3:40:17', '3:40:18', '3:40:18', '3:40:18', '3:40:17', '3:40:18', '3:40:18', '3:40:17', '3:40:18', '3:40:18', '3:40:17', '3:40:18', '3:40:17', '3:40:18', '3:40:18', '3:40:18', '3:40:18', '3:40:17', '3:40:18', '3:40:18', '3:40:17', '3:40:18', '3:40:18', '3:40:18', '3:40:18', '3:40:18', '3:40:18', '3:40:18', '3:40:18', '3:40:18', '3:40:18', '3:40:18', '3:40:18', '3:40:18', '3:40:18', '3:40:18', '3:40:18', '3:40:18', '3:40:18', '3:40:18', '3:40:18', '3:40:18', '3:40:18', '3:40:18', '3:40:18', '3:40:18', '3:40:18', '3:40:18', '3:40:18', '3:40:18', '3:40:18', '3:40:18', '3:40:18', '3:40:19', '3:40:18', '3:40:18', '3:40:18', '3:40:19', '3:40:19', '3:40:19', '3:40:18', '3:40:19', '3:40:19', '3:40:19', '3:40:18', '3:40:19', '3:40:19', '3:40:19', '3:40:18', '3:40:19', '3:40:19', '3:40:19', '3:40:19', '3:40:19', '3:40:19', '3:40:19', '3:40:19', '3:40:19', '3:40:19', '3:40:19', '3:40:19', '3:40:19', '3:40:19', '3:40:19', '3:40:19', '3:40:19', '3:40:19', '3:40:19', '3:40:19', '3:40:19', '3:40:19', '3:40:19', '3:40:19']\n"
     ]
    }
   ],
   "source": [
    "import pandas as pd\n",
    "\n",
    "#Cargamos los datos\n",
    "df = pd.read_csv(\"tweets.csv\")\n",
    "\n",
    "#Procedemos a extraer la columna created_at\n",
    "tweet_time = df[\"created_at\"]\n",
    "\n",
    "#Procedemos a acceder a las posiciones entre la 12 y la 19 de cada valor de tweet_time\n",
    "time = [value[12:19] for value in tweet_time]\n",
    "\n",
    "#Mostramos el resultado\n",
    "print(time)"
   ]
  },
  {
   "cell_type": "markdown",
   "metadata": {},
   "source": [
    "## Conditional list comprehesions for time-stamped data"
   ]
  },
  {
   "cell_type": "markdown",
   "metadata": {},
   "source": [
    "A continuación vamos a proceder a extraer la hora, en el caso de que los segundos sean igual a 19."
   ]
  },
  {
   "cell_type": "code",
   "execution_count": 8,
   "metadata": {},
   "outputs": [
    {
     "name": "stdout",
     "output_type": "stream",
     "text": [
      "['3:40:19', '3:40:19', '3:40:19', '3:40:19', '3:40:19', '3:40:19', '3:40:19', '3:40:19', '3:40:19', '3:40:19', '3:40:19', '3:40:19', '3:40:19', '3:40:19', '3:40:19', '3:40:19', '3:40:19', '3:40:19', '3:40:19', '3:40:19', '3:40:19', '3:40:19', '3:40:19', '3:40:19', '3:40:19', '3:40:19', '3:40:19', '3:40:19', '3:40:19', '3:40:19', '3:40:19', '3:40:19', '3:40:19', '3:40:19']\n"
     ]
    }
   ],
   "source": [
    "#Aplicamos las listas comprimidas para realizar esto\n",
    "time = [value[12:19] for value in tweet_time if value[17:19] == \"19\"]\n",
    "\n",
    "#Mostramos el resultado\n",
    "print(time)"
   ]
  }
 ],
 "metadata": {
  "kernelspec": {
   "display_name": "Python 3",
   "language": "python",
   "name": "python3"
  },
  "language_info": {
   "codemirror_mode": {
    "name": "ipython",
    "version": 3
   },
   "file_extension": ".py",
   "mimetype": "text/x-python",
   "name": "python",
   "nbconvert_exporter": "python",
   "pygments_lexer": "ipython3",
   "version": "3.6.3"
  }
 },
 "nbformat": 4,
 "nbformat_minor": 2
}
