{
 "cells": [
  {
   "cell_type": "markdown",
   "metadata": {},
   "source": [
    "## Iterators vs Iterables"
   ]
  },
  {
   "cell_type": "markdown",
   "metadata": {},
   "source": [
    "Un **iterable** es un objeto que retorna un **iterator**, mientras que un **iterator** es un objeto que guarda estados y reproduce el siguiente valor cuando hacemos uso de la función **next()**."
   ]
  },
  {
   "cell_type": "markdown",
   "metadata": {},
   "source": [
    "## Iterating over iterables (I)"
   ]
  },
  {
   "cell_type": "markdown",
   "metadata": {},
   "source": [
    "Dado un objeto **iterable** podemos pasarlo a tipo **iterator** haciendo uso de la función **iter()**."
   ]
  },
  {
   "cell_type": "code",
   "execution_count": 1,
   "metadata": {},
   "outputs": [
    {
     "name": "stdout",
     "output_type": "stream",
     "text": [
      "jay garrick\n",
      "barry allen\n",
      "wally west\n",
      "bart allen\n"
     ]
    }
   ],
   "source": [
    "#Nos creamos una lista que es un objeto iterable\n",
    "flash = ['jay garrick', 'barry allen', 'wally west', 'bart allen']\n",
    "\n",
    "#Recorremos dicho objeto iterable\n",
    "for value in flash:\n",
    "    print(value)"
   ]
  },
  {
   "cell_type": "code",
   "execution_count": 2,
   "metadata": {},
   "outputs": [
    {
     "name": "stdout",
     "output_type": "stream",
     "text": [
      "jay garrick\n",
      "barry allen\n",
      "wally west\n",
      "bart allen\n"
     ]
    }
   ],
   "source": [
    "#Convertimos la lista a un objeto de tipo iterator\n",
    "superspeed = iter(flash)\n",
    "#Mostramos cada uno de los elementos del iterator\n",
    "print(next(superspeed))\n",
    "print(next(superspeed))\n",
    "print(next(superspeed))\n",
    "print(next(superspeed))"
   ]
  },
  {
   "cell_type": "markdown",
   "metadata": {},
   "source": [
    "## Iterating over iterables (II)"
   ]
  },
  {
   "cell_type": "markdown",
   "metadata": {},
   "source": [
    "No todos los objetos **iterables** son listas. Un claro ejemplo es la función **range()**. La función **range()** no crea una lista sino lo que crea es un objeto de tipo range."
   ]
  },
  {
   "cell_type": "code",
   "execution_count": 4,
   "metadata": {},
   "outputs": [
    {
     "name": "stdout",
     "output_type": "stream",
     "text": [
      "0\n",
      "1\n",
      "2\n"
     ]
    }
   ],
   "source": [
    "#Creamos un objeto iterator a partir de un objeto range con pocos valores\n",
    "small_value = iter(range(3))\n",
    "\n",
    "#Mostramos los distintos valores\n",
    "print(next(small_value))\n",
    "print(next(small_value))\n",
    "print(next(small_value))"
   ]
  },
  {
   "cell_type": "code",
   "execution_count": 5,
   "metadata": {},
   "outputs": [
    {
     "name": "stdout",
     "output_type": "stream",
     "text": [
      "0\n",
      "1\n",
      "2\n",
      "3\n"
     ]
    }
   ],
   "source": [
    "#Creamos un iterador para range(10 ** 100): googol\n",
    "googol = iter(range(10 ** 100))\n",
    "\n",
    "#Mostramos los 4 primeros valroes\n",
    "print(next(googol))\n",
    "print(next(googol))\n",
    "print(next(googol))\n",
    "print(next(googol))"
   ]
  },
  {
   "cell_type": "markdown",
   "metadata": {},
   "source": [
    "## Using enumerate"
   ]
  },
  {
   "cell_type": "markdown",
   "metadata": {},
   "source": [
    "Ya que tenemos idea de lo que es un iterador, vamos a proceder a hacer uso de la función **enumerate()**, esta función recibe como parámetro un elemento **iterable**, como por ejemplo una lista y retorna un iterador que contiene una secuencia de tuplas del tipo índice-valor."
   ]
  },
  {
   "cell_type": "code",
   "execution_count": 6,
   "metadata": {},
   "outputs": [
    {
     "name": "stdout",
     "output_type": "stream",
     "text": [
      "0 charles xavier\n",
      "1 bobby drake\n",
      "2 kurt wagner\n",
      "3 max eisenhardt\n",
      "4 kitty pride\n"
     ]
    }
   ],
   "source": [
    "#Nos creamos una lista\n",
    "mutants = ['charles xavier', 'bobby drake', 'kurt wagner', 'max eisenhardt', 'kitty pride']\n",
    "#Nos creamos una lista de tuplas indice-valor\n",
    "mutant_list = list(enumerate(mutants))\n",
    "#Procedemos a mostrar el resultado\n",
    "for index,value in mutant_list:\n",
    "    print(index,value)"
   ]
  },
  {
   "cell_type": "markdown",
   "metadata": {},
   "source": [
    "La función **enumerate** tiene el argumento adicional **start**, que nos permite indicar el valor por el cual queremos que comience el índice."
   ]
  },
  {
   "cell_type": "code",
   "execution_count": 7,
   "metadata": {},
   "outputs": [
    {
     "name": "stdout",
     "output_type": "stream",
     "text": [
      "1 charles xavier\n",
      "2 bobby drake\n",
      "3 kurt wagner\n",
      "4 max eisenhardt\n",
      "5 kitty pride\n"
     ]
    }
   ],
   "source": [
    "for index,value in enumerate(mutants, start = 1):\n",
    "    print(index,value)"
   ]
  },
  {
   "cell_type": "markdown",
   "metadata": {},
   "source": [
    "## Using zip"
   ]
  },
  {
   "cell_type": "markdown",
   "metadata": {},
   "source": [
    "La función **zip()** puede recibir un número cualquiera de objetos de tipo **iterable** y retorna un objeto de tipo **iterator** de tuplas. Si queremos mostrar los valores del objeto tipo zip, podemos convertir dicho objeto a tipo lista y tras mostrar los resultados. Si queremos printar un objeto tipo zip de forma directa, debemos de desempaquetarlo. "
   ]
  },
  {
   "cell_type": "code",
   "execution_count": 22,
   "metadata": {},
   "outputs": [
    {
     "name": "stdout",
     "output_type": "stream",
     "text": [
      "[('charles xavier', 'prof x', 'telepathy'), ('bobby drake', 'iceman', 'thermokinesis'), ('kurt wagner', 'nightcrawler', 'teleportation'), ('max eisenhardt', 'magneto', 'magnetokinesis'), ('kitty pride', 'shadowcat', 'intangibility')]\n"
     ]
    }
   ],
   "source": [
    "#Nos creamos tres listas\n",
    "mutants = ['charles xavier', 'bobby drake', 'kurt wagner', 'max eisenhardt', 'kitty pride']\n",
    "aliases = ['prof x', 'iceman', 'nightcrawler', 'magneto', 'shadowcat']\n",
    "powers = ['telepathy', 'thermokinesis', 'teleportation', 'magnetokinesis', 'intangibility']\n",
    "\n",
    "#Nos creamos una lista de tuplas a partir de un zip\n",
    "mutant_list = list(zip(mutants, aliases, powers))\n",
    "#Mostramos el resultado\n",
    "print(mutant_list)"
   ]
  },
  {
   "cell_type": "code",
   "execution_count": 23,
   "metadata": {},
   "outputs": [
    {
     "name": "stdout",
     "output_type": "stream",
     "text": [
      "charles xavier prof x telepathy\n",
      "bobby drake iceman thermokinesis\n",
      "kurt wagner nightcrawler teleportation\n",
      "max eisenhardt magneto magnetokinesis\n",
      "kitty pride shadowcat intangibility\n"
     ]
    }
   ],
   "source": [
    "#Nos creamos un zip iterator\n",
    "mutant_zip = zip(mutants, aliases, powers)\n",
    "#Desempaquetamos\n",
    "for mutant, aliase, power in mutant_zip:\n",
    "    print(mutant, aliase, power)"
   ]
  },
  {
   "cell_type": "markdown",
   "metadata": {},
   "source": [
    "## Using * and zip to 'unzip'"
   ]
  },
  {
   "cell_type": "markdown",
   "metadata": {},
   "source": [
    "A la hora de desempaquetar un objeto tipo zip, no tenemos ninguna función que lo haga de forma inmediata. Sim embargo, tenemos la opción de hacer uso del operador * para desempaquetar este tipo de objetos."
   ]
  },
  {
   "cell_type": "code",
   "execution_count": 24,
   "metadata": {},
   "outputs": [
    {
     "name": "stdout",
     "output_type": "stream",
     "text": [
      "('charles xavier', 'telepathy') ('bobby drake', 'thermokinesis') ('kurt wagner', 'teleportation') ('max eisenhardt', 'magnetokinesis') ('kitty pride', 'intangibility')\n"
     ]
    }
   ],
   "source": [
    "#Nos creamos un objeto de tipo zip\n",
    "object_zip = zip(mutants, powers)\n",
    "#Procedemos a desempaquetar los resultados\n",
    "print(*object_zip)"
   ]
  },
  {
   "cell_type": "code",
   "execution_count": 25,
   "metadata": {},
   "outputs": [
    {
     "name": "stdout",
     "output_type": "stream",
     "text": [
      "('charles xavier', 'bobby drake', 'kurt wagner', 'max eisenhardt', 'kitty pride')\n",
      "('telepathy', 'thermokinesis', 'teleportation', 'magnetokinesis', 'intangibility')\n"
     ]
    }
   ],
   "source": [
    "#Procedemos a crearnos un objeto tipo zip y a desempaquetarlo en tuplas\n",
    "object_zip = zip(mutants, powers)\n",
    "mutant, powers = zip(*object_zip)\n",
    "print(mutant)\n",
    "print(powers)"
   ]
  },
  {
   "cell_type": "markdown",
   "metadata": {},
   "source": [
    "## Processing large amounts of Twitter data"
   ]
  },
  {
   "cell_type": "markdown",
   "metadata": {},
   "source": [
    "Existen situaciones en las cuales los datos que deseamos utilizar son demasiado grandes como para cargarlos por completo en memoria. Este problema que se le suele plantear a un Data Scientist, la solución a esto consiste en procesar nuestro conjunto de datos trozo a trozo. Para ello la función **read.csv()** contiene el argumento **chunksize** que lo que hace es devolver un elemento iterable de la dimensión indicada en dicho argumento."
   ]
  },
  {
   "cell_type": "code",
   "execution_count": 5,
   "metadata": {},
   "outputs": [
    {
     "name": "stdout",
     "output_type": "stream",
     "text": [
      "{'en': 97, 'et': 1, 'und': 2}\n"
     ]
    }
   ],
   "source": [
    "#Hacemos la carga las librerías necesarias\n",
    "import pandas as pd\n",
    "\n",
    "#Procedemos a realizar el cuenteo de idiomas\n",
    "count_dict = {}\n",
    "for chunk in pd.read_csv(\"tweets.csv\", chunksize = 10):\n",
    "    for entry in chunk[\"lang\"]:\n",
    "        if entry in count_dict.keys():\n",
    "            count_dict[entry] += 1\n",
    "        else:\n",
    "            count_dict[entry] = 1\n",
    "\n",
    "#Mostramos el resultado \n",
    "print(count_dict)"
   ]
  },
  {
   "cell_type": "markdown",
   "metadata": {},
   "source": [
    "## Extracting information for large amounts of Twitter data"
   ]
  },
  {
   "cell_type": "code",
   "execution_count": 6,
   "metadata": {},
   "outputs": [
    {
     "name": "stdout",
     "output_type": "stream",
     "text": [
      "{'en': 97, 'et': 1, 'und': 2}\n"
     ]
    }
   ],
   "source": [
    "def count_entries(csv_file, c_size, colname):\n",
    "    \"\"\"Return a dictionary with counts of ocurrences\n",
    "    as value for each key\"\"\"\n",
    "    counts_dict = {}\n",
    "    for chunk in pd.read_csv(csv_file, chunksize = c_size):\n",
    "        for entry in chunk[colname]:\n",
    "            if entry in counts_dict.keys():\n",
    "                counts_dict[entry] += 1\n",
    "            else:\n",
    "                counts_dict[entry] = 1\n",
    "    return counts_dict\n",
    "\n",
    "#Hacemos llamada a la función \n",
    "result_counts = count_entries('tweets.csv', 10, 'lang')\n",
    "print(result_counts)"
   ]
  },
  {
   "cell_type": "code",
   "execution_count": null,
   "metadata": {
    "collapsed": true
   },
   "outputs": [],
   "source": []
  }
 ],
 "metadata": {
  "kernelspec": {
   "display_name": "Python 3",
   "language": "python",
   "name": "python3"
  },
  "language_info": {
   "codemirror_mode": {
    "name": "ipython",
    "version": 3
   },
   "file_extension": ".py",
   "mimetype": "text/x-python",
   "name": "python",
   "nbconvert_exporter": "python",
   "pygments_lexer": "ipython3",
   "version": "3.6.3"
  }
 },
 "nbformat": 4,
 "nbformat_minor": 2
}
