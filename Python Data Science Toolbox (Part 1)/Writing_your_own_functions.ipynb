{
 "cells": [
  {
   "cell_type": "markdown",
   "metadata": {},
   "source": [
    "## Write a simple function"
   ]
  },
  {
   "cell_type": "markdown",
   "metadata": {},
   "source": [
    "A continuación vamos a proceder a realizar la función **shout()** que simplemente se trata de una función que añade tres signos de exclamación."
   ]
  },
  {
   "cell_type": "code",
   "execution_count": 1,
   "metadata": {},
   "outputs": [
    {
     "name": "stdout",
     "output_type": "stream",
     "text": [
      "congratulations!!!\n"
     ]
    }
   ],
   "source": [
    "#Definimos la función shout\n",
    "def shout():\n",
    "    \"\"\"Print a string with three exclamation marks\"\"\"\n",
    "    shout_word = \"congratulations\" + \"!!!\"\n",
    "    print(shout_word)\n",
    "\n",
    "#Realizamos la llamada a la función\n",
    "shout()"
   ]
  },
  {
   "cell_type": "markdown",
   "metadata": {},
   "source": [
    "## Single-parameter function"
   ]
  },
  {
   "cell_type": "markdown",
   "metadata": {},
   "source": [
    "A la función anterior podemos añadirle un parámetro que nos permita añadir los tres signos de exclamación a cualquier string."
   ]
  },
  {
   "cell_type": "code",
   "execution_count": 2,
   "metadata": {},
   "outputs": [
    {
     "name": "stdout",
     "output_type": "stream",
     "text": [
      "Champions!!!\n"
     ]
    }
   ],
   "source": [
    "#Definimos la función\n",
    "def shout(word):\n",
    "    \"\"\"Print a string with three exclamation marks\"\"\"\n",
    "    shout_word = word + \"!!!\"\n",
    "    print(shout_word)\n",
    "    \n",
    "#Realizamos la llamada a la función\n",
    "shout(\"Champions\")"
   ]
  },
  {
   "cell_type": "markdown",
   "metadata": {},
   "source": [
    "## Functions that return single values"
   ]
  },
  {
   "cell_type": "markdown",
   "metadata": {},
   "source": [
    "La palabra clave **return** nos permite retornar valores de una función. Esto nos permitirá almacenar el valor retornado en una variable y poder usar este valor en otro momento en caso de que sea necesario."
   ]
  },
  {
   "cell_type": "code",
   "execution_count": 3,
   "metadata": {},
   "outputs": [
    {
     "name": "stdout",
     "output_type": "stream",
     "text": [
      "Hala Madrid!!!\n"
     ]
    }
   ],
   "source": [
    "#Definimos la función \n",
    "def shout(word):\n",
    "    \"\"\"Print a string with three exclamation marks\"\"\"\n",
    "    return word + \"!!!\"\n",
    "\n",
    "#Realizamos la llamada a la función \n",
    "result = shout(\"Hala Madrid\")\n",
    "print(result)"
   ]
  },
  {
   "cell_type": "markdown",
   "metadata": {
    "collapsed": true
   },
   "source": [
    "## Functions with multiple parameters"
   ]
  },
  {
   "cell_type": "markdown",
   "metadata": {},
   "source": [
    "Podemos crear funciones que aceptan múltiples parámetros como argumentos de entrada. Para ello simplemente debemos separar los argumentos por comas."
   ]
  },
  {
   "cell_type": "code",
   "execution_count": 1,
   "metadata": {},
   "outputs": [
    {
     "name": "stdout",
     "output_type": "stream",
     "text": [
      "congratulations!!!you!!!\n"
     ]
    }
   ],
   "source": [
    "#Definimos la función\n",
    "def shout(word1, word2):\n",
    "    \"\"\"Concatenate strings with three exclamation marks\"\"\"\n",
    "    #Concatenamos word1 y word2 con tres signos de exclamación\n",
    "    shout1 = word1 + \"!!!\"\n",
    "    shout2 = word2 + \"!!!\"\n",
    "    #Concatenamos shou1 y shout2\n",
    "    shout = shout1 + shout2\n",
    "    return shout\n",
    "\n",
    "#Hacemos la llamada a la función \n",
    "yell = shout('congratulations', 'you')\n",
    "print(yell)"
   ]
  },
  {
   "cell_type": "markdown",
   "metadata": {},
   "source": [
    "## A brief introduction to tuples"
   ]
  },
  {
   "cell_type": "markdown",
   "metadata": {},
   "source": [
    "Las tuplas son listas inmutables. Entre las ventajas que presentan las tuplas es que son un tipo de estructura de almacenamiento de datos que es mucho más eficiente a la hora de recorrerla y además permite el desempaquetado."
   ]
  },
  {
   "cell_type": "code",
   "execution_count": 2,
   "metadata": {},
   "outputs": [
    {
     "name": "stdout",
     "output_type": "stream",
     "text": [
      "10\n",
      "11\n",
      "12\n"
     ]
    }
   ],
   "source": [
    "#Nos creamos la tupla champions\n",
    "champions = (10,11,12)\n",
    "\n",
    "#Desempaquetamos los valores de las tuplas\n",
    "Lisboa, Milan, Cardiff = champions\n",
    "\n",
    "#Vemos el resultado\n",
    "print(Lisboa)\n",
    "print(Milan)\n",
    "print(Cardiff)"
   ]
  },
  {
   "cell_type": "markdown",
   "metadata": {},
   "source": [
    "## Function that return multiple values"
   ]
  },
  {
   "cell_type": "markdown",
   "metadata": {},
   "source": [
    "Podemos hacer que un función en Python retorne múltiples valores, para ello debemos de retornar estos múltiples valores en una tupla."
   ]
  },
  {
   "cell_type": "code",
   "execution_count": 3,
   "metadata": {},
   "outputs": [
    {
     "name": "stdout",
     "output_type": "stream",
     "text": [
      "congratulations!!!\n",
      "you!!!\n"
     ]
    }
   ],
   "source": [
    "#Definimos la función\n",
    "def shout(word1, word2):\n",
    "    \"\"\"Function that return two words with three exclamation marks\"\"\"\n",
    "    shout1 = word1 + \"!!!\"\n",
    "    shout2 = word2 + \"!!!\"\n",
    "    return(shout1, shout2)\n",
    "\n",
    "yell1, yell2 = shout(\"congratulations\", \"you\")\n",
    "print(yell1)\n",
    "print(yell2)"
   ]
  },
  {
   "cell_type": "markdown",
   "metadata": {},
   "source": [
    "## Bringing it all together (I)"
   ]
  },
  {
   "cell_type": "markdown",
   "metadata": {},
   "source": [
    "A continuación vamos a proceder a realizar un ejercicio de Data Science con lo visto hasta ahora."
   ]
  },
  {
   "cell_type": "code",
   "execution_count": 5,
   "metadata": {
    "collapsed": true
   },
   "outputs": [],
   "source": [
    "#Importamos pandas\n",
    "import pandas as pd\n",
    "#Cargamos los datos \n",
    "df = pd.read_csv(\"tweets.csv\")"
   ]
  },
  {
   "cell_type": "markdown",
   "metadata": {},
   "source": [
    "El objetivo es contar el número de tweets que tenemos en cada uno de los idiomas, para retornaremos un diccionario que contendrá como clave el idioma y como valor el número de apariciones."
   ]
  },
  {
   "cell_type": "code",
   "execution_count": 10,
   "metadata": {},
   "outputs": [
    {
     "name": "stdout",
     "output_type": "stream",
     "text": [
      "{'en': 97, 'et': 1, 'und': 2}\n"
     ]
    }
   ],
   "source": [
    "#Nos definimos un diccionario vacío\n",
    "langs_count = {}\n",
    "\n",
    "#Extraemos la columna que nos interesa\n",
    "langs_col = df['lang']\n",
    "\n",
    "#Recorremos \n",
    "for lang in langs_col:\n",
    "    if lang in langs_count.keys():\n",
    "        langs_count[lang] += 1\n",
    "    else:\n",
    "        langs_count[lang] = 1\n",
    "\n",
    "print(langs_count)"
   ]
  },
  {
   "cell_type": "markdown",
   "metadata": {},
   "source": [
    "## Bringing it all together (II)"
   ]
  },
  {
   "cell_type": "markdown",
   "metadata": {},
   "source": [
    "A continuación vamos a proceder a realizar una función que realice la tarea anteriormente realizada."
   ]
  },
  {
   "cell_type": "code",
   "execution_count": 15,
   "metadata": {},
   "outputs": [
    {
     "name": "stdout",
     "output_type": "stream",
     "text": [
      "{'en': 97, 'et': 1, 'und': 2}\n"
     ]
    }
   ],
   "source": [
    "def count_lang(df, col_name):\n",
    "    \"\"\"Return a dictionary with counts of occurrences as value for each key.\"\"\"\n",
    "    lang_dic = {}\n",
    "    col = df[col_name]\n",
    "    for lang in col:\n",
    "        if lang in lang_dic.keys():\n",
    "            lang_dic[lang] += 1\n",
    "        else:\n",
    "            lang_dic[lang] = 1\n",
    "    return(lang_dic)\n",
    "\n",
    "result = count_lang(df, 'lang')\n",
    "print(result)"
   ]
  }
 ],
 "metadata": {
  "kernelspec": {
   "display_name": "Python 3",
   "language": "python",
   "name": "python3"
  },
  "language_info": {
   "codemirror_mode": {
    "name": "ipython",
    "version": 3
   },
   "file_extension": ".py",
   "mimetype": "text/x-python",
   "name": "python",
   "nbconvert_exporter": "python",
   "pygments_lexer": "ipython3",
   "version": "3.6.3"
  }
 },
 "nbformat": 4,
 "nbformat_minor": 2
}
