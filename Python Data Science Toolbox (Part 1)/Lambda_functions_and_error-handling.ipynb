{
 "cells": [
  {
   "cell_type": "markdown",
   "metadata": {},
   "source": [
    "## Writing a lambda function you already know"
   ]
  },
  {
   "cell_type": "markdown",
   "metadata": {},
   "source": [
    "Existen algunas funciones que son tan simples que pueden ser reducidas a una función **lambda**. Al hacer uso de funciones **lambda** reducimos en gran medida las líneas de código, algo que resulta realmente útil cuando estamos manteniendo programas realmente grandes."
   ]
  },
  {
   "cell_type": "code",
   "execution_count": 1,
   "metadata": {},
   "outputs": [
    {
     "name": "stdout",
     "output_type": "stream",
     "text": [
      "heyheyheyheyhey\n"
     ]
    }
   ],
   "source": [
    "#Definimos nuestra primera función lambda\n",
    "echoword = (lambda word1, echo : word1 * echo)\n",
    "#Realizamos la llamada de nuestra función lambda\n",
    "result = echoword(\"hey\", 5)\n",
    "#Vemos el resultado\n",
    "print(result)"
   ]
  },
  {
   "cell_type": "markdown",
   "metadata": {},
   "source": [
    "## Map() and lambda functions"
   ]
  },
  {
   "cell_type": "markdown",
   "metadata": {},
   "source": [
    "El mejor caso de uso de las funciones lambda, es cuando queremos agregar una simple funcionalidad de forma anónima a expresiones mucho más complejas. Es decir, la funcionalidad en este caso no queda almacenada en nuestro entorno a diferencia de **def**. Un ejemplo muy común es hacer uso de las función **map()** con funciones lambda. Recordemos que la función **map()** lo que hace es aplicar una determinada función a todos los elementos de una lista."
   ]
  },
  {
   "cell_type": "code",
   "execution_count": 2,
   "metadata": {},
   "outputs": [
    {
     "name": "stdout",
     "output_type": "stream",
     "text": [
      "['protego!!!', 'accio!!!', 'expecto patronum!!!', 'legilimens!!!']\n"
     ]
    }
   ],
   "source": [
    "#Nos creamos una lista\n",
    "spells = [\"protego\", \"accio\", \"expecto patronum\", \"legilimens\"]\n",
    "\n",
    "#Hacemos uso de la función map y la función lambda\n",
    "shout_spells = map(lambda x: x + \"!!!\", spells)\n",
    "\n",
    "#Ahora convertimos a tipo lista para poder imprimir el resultado \n",
    "shout_spells_list = list(shout_spells)\n",
    "\n",
    "#Mostramos el resultado\n",
    "print(shout_spells_list)"
   ]
  },
  {
   "cell_type": "markdown",
   "metadata": {},
   "source": [
    "## Filter() and lambda functions"
   ]
  },
  {
   "cell_type": "markdown",
   "metadata": {},
   "source": [
    "La función **filter()** se trata de una función que nos permite filtrar aquellos elementos de una determinada lista que no cumplen un determinado criterio. "
   ]
  },
  {
   "cell_type": "code",
   "execution_count": 3,
   "metadata": {},
   "outputs": [
    {
     "name": "stdout",
     "output_type": "stream",
     "text": [
      "['samwise', 'aragorn', 'legolas', 'boromir']\n"
     ]
    }
   ],
   "source": [
    "#Nos creamos una lista\n",
    "fellowship = ['frodo', 'samwise', 'merry', 'aragorn', 'legolas', 'boromir', 'gimli']\n",
    "\n",
    "#Filtramos aquellos componentes de la lista que tienen una longitud menor que 6\n",
    "result = filter(lambda x : len(x) > 6, fellowship)\n",
    "\n",
    "#Convertimos a tipo lista para poder imprimir los resultados\n",
    "result_list = list(result)\n",
    "\n",
    "#Imprimimos el resultado\n",
    "print(result_list)"
   ]
  },
  {
   "cell_type": "markdown",
   "metadata": {},
   "source": [
    "## Reduce() and lambda functions"
   ]
  },
  {
   "cell_type": "markdown",
   "metadata": {},
   "source": [
    "La función **reduce()** se trata de una función que es útil para realizar algunos cálculos sobre una lista, y a diferencia que las funciones **map()** y **filter()** lo que hace es retornar un único elemento. Reduce aplica la función a pares de valores de elementos de la lista."
   ]
  },
  {
   "cell_type": "code",
   "execution_count": 5,
   "metadata": {},
   "outputs": [
    {
     "name": "stdout",
     "output_type": "stream",
     "text": [
      "robbsansaaryaeddardjon\n"
     ]
    }
   ],
   "source": [
    "#Importamos la función\n",
    "from functools import reduce\n",
    "#Nos creamos una lista\n",
    "stark = ['robb', 'sansa', 'arya', 'eddard', 'jon']\n",
    "#Ahora supongamos que lo queremos es compactar todos estamos elementos en una lista\n",
    "result = reduce(lambda item1, item2 : item1 + item2, stark)\n",
    "#Mostramos el resultado\n",
    "print(result)"
   ]
  },
  {
   "cell_type": "markdown",
   "metadata": {
    "collapsed": true
   },
   "source": [
    "## Error handling with try-except"
   ]
  },
  {
   "cell_type": "markdown",
   "metadata": {},
   "source": [
    "Una buena práctica cuando escribimos nuestras propias funciones es anticiparse a un mal uso de dicha función por el resto de usuarios. Por ejemplo la función **len()** se trata de una función que nos retorna la longitud de un array, lista o string, sin embargo, no funciona bien cuando le pasamos un número entero, en el caso de que le pasemos un entero esta función nos retorna un mensaje de error. Para escribir nuestros propios mensajes de error disponemos de las palabras clave **try** y **except**."
   ]
  },
  {
   "cell_type": "code",
   "execution_count": 3,
   "metadata": {},
   "outputs": [
    {
     "name": "stdout",
     "output_type": "stream",
     "text": [
      "word1 must be a string and echo must be an integer\n"
     ]
    },
    {
     "data": {
      "text/plain": [
       "''"
      ]
     },
     "execution_count": 3,
     "metadata": {},
     "output_type": "execute_result"
    }
   ],
   "source": [
    "def shout_echo(word1, echo = 1):\n",
    "    \"\"\"Concatenate echo copies of word1 and three exclamation marks \n",
    "    at the end of the string\"\"\"\n",
    "    echo_word = \"\"\n",
    "    shout_word = \"\"\n",
    "    try:\n",
    "        echo_word = word1 * echo\n",
    "        shout_word = echo_word + \"!!!\"\n",
    "    except:\n",
    "        print(\"word1 must be a string and echo must be an integer\")\n",
    "    return shout_word\n",
    "\n",
    "#Hacemos la llamada a la función\n",
    "shout_echo(word1 = 'Hola', echo = 'adios')"
   ]
  },
  {
   "cell_type": "markdown",
   "metadata": {},
   "source": [
    "## Error handling by raising an error"
   ]
  },
  {
   "cell_type": "markdown",
   "metadata": {},
   "source": [
    "Otra forma de indicar un error es haciendo uso de la palabra clave **raise**. "
   ]
  },
  {
   "cell_type": "code",
   "execution_count": 5,
   "metadata": {},
   "outputs": [
    {
     "ename": "ValueError",
     "evalue": "echo must be greater than 0",
     "output_type": "error",
     "traceback": [
      "\u001b[0;31m---------------------------------------------------------------------------\u001b[0m",
      "\u001b[0;31mValueError\u001b[0m                                Traceback (most recent call last)",
      "\u001b[0;32m<ipython-input-5-134b4d12a43c>\u001b[0m in \u001b[0;36m<module>\u001b[0;34m()\u001b[0m\n\u001b[1;32m      9\u001b[0m \u001b[0;34m\u001b[0m\u001b[0m\n\u001b[1;32m     10\u001b[0m \u001b[0;31m#Hacemos la llamada a la función\u001b[0m\u001b[0;34m\u001b[0m\u001b[0;34m\u001b[0m\u001b[0m\n\u001b[0;32m---> 11\u001b[0;31m \u001b[0mshout_word\u001b[0m\u001b[0;34m(\u001b[0m\u001b[0;34m\"hola\"\u001b[0m\u001b[0;34m,\u001b[0m \u001b[0;34m-\u001b[0m\u001b[0;36m9\u001b[0m\u001b[0;34m)\u001b[0m\u001b[0;34m\u001b[0m\u001b[0m\n\u001b[0m",
      "\u001b[0;32m<ipython-input-5-134b4d12a43c>\u001b[0m in \u001b[0;36mshout_word\u001b[0;34m(word1, echo)\u001b[0m\n\u001b[1;32m      3\u001b[0m     \u001b[0mshout_word\u001b[0m \u001b[0;34m=\u001b[0m \u001b[0;34m\"\"\u001b[0m\u001b[0;34m\u001b[0m\u001b[0m\n\u001b[1;32m      4\u001b[0m     \u001b[0;32mif\u001b[0m \u001b[0mecho\u001b[0m \u001b[0;34m<\u001b[0m \u001b[0;36m0\u001b[0m\u001b[0;34m:\u001b[0m\u001b[0;34m\u001b[0m\u001b[0m\n\u001b[0;32m----> 5\u001b[0;31m         \u001b[0;32mraise\u001b[0m \u001b[0mValueError\u001b[0m\u001b[0;34m(\u001b[0m\u001b[0;34m\"echo must be greater than 0\"\u001b[0m\u001b[0;34m)\u001b[0m\u001b[0;34m\u001b[0m\u001b[0m\n\u001b[0m\u001b[1;32m      6\u001b[0m     \u001b[0mecho_word\u001b[0m \u001b[0;34m=\u001b[0m \u001b[0mword1\u001b[0m \u001b[0;34m*\u001b[0m \u001b[0mecho\u001b[0m\u001b[0;34m\u001b[0m\u001b[0m\n\u001b[1;32m      7\u001b[0m     \u001b[0mshout_word\u001b[0m \u001b[0;34m=\u001b[0m \u001b[0mecho_word\u001b[0m \u001b[0;34m+\u001b[0m \u001b[0;34m\"!!!\"\u001b[0m\u001b[0;34m\u001b[0m\u001b[0m\n",
      "\u001b[0;31mValueError\u001b[0m: echo must be greater than 0"
     ]
    }
   ],
   "source": [
    "def shout_word(word1, echo = 1):\n",
    "    echo_word = \"\"\n",
    "    shout_word = \"\"\n",
    "    if echo < 0:\n",
    "        raise ValueError(\"echo must be greater than 0\")\n",
    "    echo_word = word1 * echo\n",
    "    shout_word = echo_word + \"!!!\"\n",
    "    return shout_word\n",
    "\n",
    "#Hacemos la llamada a la función\n",
    "shout_word(\"hola\", -9)"
   ]
  },
  {
   "cell_type": "markdown",
   "metadata": {
    "collapsed": true
   },
   "source": [
    "## Bringing it all together (I)"
   ]
  },
  {
   "cell_type": "markdown",
   "metadata": {},
   "source": [
    "A continuación vamos a proceder cargar el conjunto de datos **tweets.csv**. Vamos a proceder a crear una función que nos permite ver si un tweet es o no RT."
   ]
  },
  {
   "cell_type": "code",
   "execution_count": 9,
   "metadata": {
    "collapsed": true
   },
   "outputs": [],
   "source": [
    "#Importamos los datos\n",
    "import pandas as pd\n",
    "tweets = pd.read_csv(\"tweets.csv\")\n",
    "#Nos creamos una función lambda que nos permite ver si un determinado tweet es o no RT, para ello debemos ver si las dos \n",
    "#primeras palabras del tweet son RT\n",
    "result = filter(lambda x : x[0:2] == \"RT\", tweets['text'])\n",
    "#Pasamos a tipo lista el resultado\n",
    "RTlist = list(result)"
   ]
  },
  {
   "cell_type": "markdown",
   "metadata": {},
   "source": [
    "## Bringing it all together (II)"
   ]
  },
  {
   "cell_type": "code",
   "execution_count": 10,
   "metadata": {},
   "outputs": [
    {
     "name": "stdout",
     "output_type": "stream",
     "text": [
      "{'en': 97, 'et': 1, 'und': 2}\n"
     ]
    }
   ],
   "source": [
    "def count_entries(df, col_name = 'lang'):\n",
    "    \"\"\"Return a dictionary with counts of ocurrences\n",
    "    as value for each key\"\"\"\n",
    "    #Inicializamos un diccionario \n",
    "    cols_count = {}\n",
    "    try:\n",
    "        col = df[col_name]\n",
    "        for value in col:\n",
    "            if value in cols_count.keys():\n",
    "                cols_count[value] += 1\n",
    "            else:\n",
    "                cols_count[value] = 1\n",
    "        return cols_count\n",
    "    except:\n",
    "        print('The DataFrame does not have a ' + col_name + ' column.')\n",
    "\n",
    "#Realizamos una llamada adecuada a la función \n",
    "result1 = count_entries(tweets, \"lang\")\n",
    "print(result1)"
   ]
  },
  {
   "cell_type": "code",
   "execution_count": 11,
   "metadata": {},
   "outputs": [
    {
     "name": "stdout",
     "output_type": "stream",
     "text": [
      "The DataFrame does not have a idioma column.\n"
     ]
    }
   ],
   "source": [
    "#Realizamos una llamada erronea con una columna inventada\n",
    "result2 = count_entries(tweets, 'idioma')"
   ]
  },
  {
   "cell_type": "markdown",
   "metadata": {},
   "source": [
    "## Bringing it all together (III)"
   ]
  },
  {
   "cell_type": "code",
   "execution_count": 14,
   "metadata": {},
   "outputs": [
    {
     "name": "stdout",
     "output_type": "stream",
     "text": [
      "{'en': 97, 'et': 1, 'und': 2}\n"
     ]
    }
   ],
   "source": [
    "def count_entries(df, col_name = 'lang'):\n",
    "    if col_name not in df.columns:\n",
    "        raise ValueError('The DataFrame does not have a ' + col_name + ' column.')\n",
    "    cols_count = {}\n",
    "    col = df[col_name]\n",
    "    for value in col:\n",
    "        if value in cols_count.keys():\n",
    "            cols_count[value] += 1\n",
    "        else:\n",
    "            cols_count[value] = 1\n",
    "    return cols_count\n",
    "\n",
    "#Realizamos una llamada adecuada a la función \n",
    "result1 = count_entries(tweets, 'lang')\n",
    "print(result1)"
   ]
  },
  {
   "cell_type": "code",
   "execution_count": 15,
   "metadata": {},
   "outputs": [
    {
     "ename": "ValueError",
     "evalue": "The DataFrame does not have a idioma column.",
     "output_type": "error",
     "traceback": [
      "\u001b[0;31m---------------------------------------------------------------------------\u001b[0m",
      "\u001b[0;31mValueError\u001b[0m                                Traceback (most recent call last)",
      "\u001b[0;32m<ipython-input-15-a21d178d05de>\u001b[0m in \u001b[0;36m<module>\u001b[0;34m()\u001b[0m\n\u001b[1;32m      1\u001b[0m \u001b[0;31m#Realizamos una llamada erronea de la función\u001b[0m\u001b[0;34m\u001b[0m\u001b[0;34m\u001b[0m\u001b[0m\n\u001b[0;32m----> 2\u001b[0;31m \u001b[0mresult2\u001b[0m \u001b[0;34m=\u001b[0m \u001b[0mcount_entries\u001b[0m\u001b[0;34m(\u001b[0m\u001b[0mtweets\u001b[0m\u001b[0;34m,\u001b[0m \u001b[0;34m'idioma'\u001b[0m\u001b[0;34m)\u001b[0m\u001b[0;34m\u001b[0m\u001b[0m\n\u001b[0m",
      "\u001b[0;32m<ipython-input-14-9bcfa26292ca>\u001b[0m in \u001b[0;36mcount_entries\u001b[0;34m(df, col_name)\u001b[0m\n\u001b[1;32m      1\u001b[0m \u001b[0;32mdef\u001b[0m \u001b[0mcount_entries\u001b[0m\u001b[0;34m(\u001b[0m\u001b[0mdf\u001b[0m\u001b[0;34m,\u001b[0m \u001b[0mcol_name\u001b[0m \u001b[0;34m=\u001b[0m \u001b[0;34m'lang'\u001b[0m\u001b[0;34m)\u001b[0m\u001b[0;34m:\u001b[0m\u001b[0;34m\u001b[0m\u001b[0m\n\u001b[1;32m      2\u001b[0m     \u001b[0;32mif\u001b[0m \u001b[0mcol_name\u001b[0m \u001b[0;32mnot\u001b[0m \u001b[0;32min\u001b[0m \u001b[0mdf\u001b[0m\u001b[0;34m.\u001b[0m\u001b[0mcolumns\u001b[0m\u001b[0;34m:\u001b[0m\u001b[0;34m\u001b[0m\u001b[0m\n\u001b[0;32m----> 3\u001b[0;31m         \u001b[0;32mraise\u001b[0m \u001b[0mValueError\u001b[0m\u001b[0;34m(\u001b[0m\u001b[0;34m'The DataFrame does not have a '\u001b[0m \u001b[0;34m+\u001b[0m \u001b[0mcol_name\u001b[0m \u001b[0;34m+\u001b[0m \u001b[0;34m' column.'\u001b[0m\u001b[0;34m)\u001b[0m\u001b[0;34m\u001b[0m\u001b[0m\n\u001b[0m\u001b[1;32m      4\u001b[0m     \u001b[0mcols_count\u001b[0m \u001b[0;34m=\u001b[0m \u001b[0;34m{\u001b[0m\u001b[0;34m}\u001b[0m\u001b[0;34m\u001b[0m\u001b[0m\n\u001b[1;32m      5\u001b[0m     \u001b[0mcol\u001b[0m \u001b[0;34m=\u001b[0m \u001b[0mdf\u001b[0m\u001b[0;34m[\u001b[0m\u001b[0mcol_name\u001b[0m\u001b[0;34m]\u001b[0m\u001b[0;34m\u001b[0m\u001b[0m\n",
      "\u001b[0;31mValueError\u001b[0m: The DataFrame does not have a idioma column."
     ]
    }
   ],
   "source": [
    "#Realizamos una llamada erronea de la función\n",
    "result2 = count_entries(tweets, 'idioma')"
   ]
  },
  {
   "cell_type": "code",
   "execution_count": null,
   "metadata": {
    "collapsed": true
   },
   "outputs": [],
   "source": []
  }
 ],
 "metadata": {
  "kernelspec": {
   "display_name": "Python 3",
   "language": "python",
   "name": "python3"
  },
  "language_info": {
   "codemirror_mode": {
    "name": "ipython",
    "version": 3
   },
   "file_extension": ".py",
   "mimetype": "text/x-python",
   "name": "python",
   "nbconvert_exporter": "python",
   "pygments_lexer": "ipython3",
   "version": "3.6.3"
  }
 },
 "nbformat": 4,
 "nbformat_minor": 2
}
