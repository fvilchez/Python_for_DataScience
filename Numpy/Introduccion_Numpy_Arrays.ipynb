{
 "cells": [
  {
   "cell_type": "code",
   "execution_count": 1,
   "metadata": {
    "collapsed": true
   },
   "outputs": [],
   "source": [
    "import numpy as np"
   ]
  },
  {
   "cell_type": "markdown",
   "metadata": {},
   "source": [
    "# Introducción  NumPy Arrays"
   ]
  },
  {
   "cell_type": "markdown",
   "metadata": {},
   "source": [
    "Numpy se trata de una librería de Python que puede ser usada para aplicaciones numéricas y científicas. Se trata de la herramienta usada para realizar operaciones de algebra lineal.\n",
    "La principal estructura de datos en Numpy es el **ndarray**, que es el nombre corto para un array N-dimensional. Un array tiene un tamaño fijo en memoria que contiene datos del mismo tipo, tales como enteros, floats, etc. "
   ]
  },
  {
   "cell_type": "markdown",
   "metadata": {},
   "source": [
    "## Creando nuestra primera Numpy Array"
   ]
  },
  {
   "cell_type": "markdown",
   "metadata": {},
   "source": [
    "Una de las formas más sencillas a la hora crear un Numpy Array, es a partir de una lista (todos los elementos de esta lista deben de tener el mismo tipo de dato) junto con la función **array()**."
   ]
  },
  {
   "cell_type": "code",
   "execution_count": 3,
   "metadata": {},
   "outputs": [
    {
     "name": "stdout",
     "output_type": "stream",
     "text": [
      "[1 2 3 4 5]\n"
     ]
    }
   ],
   "source": [
    "#Nos creamos un numpy array de numeros enteros\n",
    "array_aux = np.array([1,2,3,4,5])\n",
    "print(array_aux)"
   ]
  },
  {
   "cell_type": "markdown",
   "metadata": {},
   "source": [
    "## Atributos dtype y shape"
   ]
  },
  {
   "cell_type": "markdown",
   "metadata": {},
   "source": [
    "El atributo **dtype** nos permite conocer el tipo de dato soportado por nuestra numpy array. Por otro lado, el atributo **shape** nos permite saber la dimensión de nuestra array, este atributo nos retorna una tupla que contiene el número de filas y columnas de nuestra array."
   ]
  },
  {
   "cell_type": "code",
   "execution_count": 4,
   "metadata": {},
   "outputs": [
    {
     "name": "stdout",
     "output_type": "stream",
     "text": [
      "int64\n"
     ]
    }
   ],
   "source": [
    "#Vemos el tipo de dato soportado por nuestra array_aux\n",
    "print(array_aux.dtype)"
   ]
  },
  {
   "cell_type": "code",
   "execution_count": 5,
   "metadata": {},
   "outputs": [
    {
     "name": "stdout",
     "output_type": "stream",
     "text": [
      "(5,)\n"
     ]
    }
   ],
   "source": [
    "#Vemos la dimensión de nuestra array_aux\n",
    "print(array_aux.shape)"
   ]
  },
  {
   "cell_type": "markdown",
   "metadata": {},
   "source": [
    "## Funciones para crear arrays"
   ]
  },
  {
   "cell_type": "markdown",
   "metadata": {},
   "source": [
    "Numpy dispone de una gran cantidad de funciones que nos permiten generar arrays de forma más conveniente."
   ]
  },
  {
   "cell_type": "markdown",
   "metadata": {},
   "source": [
    "### Empty"
   ]
  },
  {
   "cell_type": "markdown",
   "metadata": {},
   "source": [
    "La función **empty()** nos permite crear un array de un tamaño que podemos especificar. El argumento que recibe esta función es una array o tupla donde se especifica la dimensión de nuestra array. Tras crear nuestra array esta contendrá valores aleatorios."
   ]
  },
  {
   "cell_type": "code",
   "execution_count": 11,
   "metadata": {},
   "outputs": [
    {
     "name": "stdout",
     "output_type": "stream",
     "text": [
      "[[6.91427843e-310 4.68834590e-310 6.91426883e-310]\n",
      " [6.91426883e-310 6.91426883e-310 6.91426883e-310]\n",
      " [6.91426883e-310 6.91426883e-310 3.95252517e-322]]\n"
     ]
    }
   ],
   "source": [
    "#Nos generamos un array mediante la función empty\n",
    "a = np.empty((3,3))\n",
    "print(a)"
   ]
  },
  {
   "cell_type": "markdown",
   "metadata": {},
   "source": [
    "Además del argumento principal que es la dimensión de nuestro ndarray, esta función nos permite seleccionar el tipo de dato que queremos que almacene nuestro array:\n",
    "\n",
    "* **dtype**: nos permite especificar el tipo de datos que deseamos que contenga nuestra array inicializada."
   ]
  },
  {
   "cell_type": "code",
   "execution_count": 15,
   "metadata": {},
   "outputs": [
    {
     "name": "stdout",
     "output_type": "stream",
     "text": [
      "[[-660857960      32583 -660857960]\n",
      " [     32583         32          0]\n",
      " [ 808797237  843399490         48]]\n"
     ]
    }
   ],
   "source": [
    "#NOs generamos un array que toma valores enteros de 32 bits \n",
    "a_2 = np.empty((3,3), dtype = np.int32)\n",
    "print(a_2)"
   ]
  },
  {
   "cell_type": "markdown",
   "metadata": {},
   "source": [
    "### Zeros"
   ]
  },
  {
   "cell_type": "markdown",
   "metadata": {},
   "source": [
    "La función **zeros()** nos permite crear un array de un tamaño que podemos especificar. El argumento que recibe es un array o tupla donde se especifica la dimensión de nuestra array. Tras crear nuestra array esta contendrá todos sus valores a cero."
   ]
  },
  {
   "cell_type": "code",
   "execution_count": 12,
   "metadata": {},
   "outputs": [
    {
     "name": "stdout",
     "output_type": "stream",
     "text": [
      "[[0. 0. 0. 0.]\n",
      " [0. 0. 0. 0.]\n",
      " [0. 0. 0. 0.]\n",
      " [0. 0. 0. 0.]]\n"
     ]
    }
   ],
   "source": [
    "#Nos generamos un array mediante la función zeros\n",
    "b = np.zeros([4,4])\n",
    "print(b)"
   ]
  },
  {
   "cell_type": "markdown",
   "metadata": {},
   "source": [
    "Además del argumento principal que es la dimensión de nuestro ndarray, esta función nos permite seleccionar el tipo de dato que queremos que almacene nuestro array:\n",
    "\n",
    "* **dtype**: nos permite especificar el tipo de datos que deseamos que contenga nuestra array inicializada. Por defecto toma el valor de float64."
   ]
  },
  {
   "cell_type": "code",
   "execution_count": 18,
   "metadata": {},
   "outputs": [
    {
     "name": "stdout",
     "output_type": "stream",
     "text": [
      "[[0 0 0 0]\n",
      " [0 0 0 0]\n",
      " [0 0 0 0]\n",
      " [0 0 0 0]]\n"
     ]
    }
   ],
   "source": [
    "#Nos generamos un array de ceros de tipo int64\n",
    "b_2 = np.zeros((4,4), dtype = np.int64)\n",
    "print(b_2)"
   ]
  },
  {
   "cell_type": "markdown",
   "metadata": {},
   "source": [
    "### Ones"
   ]
  },
  {
   "cell_type": "markdown",
   "metadata": {},
   "source": [
    "La función **ones()** nos permiter crear un array de un tamaño que podemos especificar. El argumento que recibe es un array o tupla donde se especifica la dimensión de nuestra array. Tras crear nuestra array esta contrandrá todos sus valores a uno. "
   ]
  },
  {
   "cell_type": "code",
   "execution_count": 13,
   "metadata": {},
   "outputs": [
    {
     "name": "stdout",
     "output_type": "stream",
     "text": [
      "[[1. 1.]\n",
      " [1. 1.]]\n"
     ]
    }
   ],
   "source": [
    "#Nos generamos un array mediante la función ones\n",
    "c = np.ones((2,2))\n",
    "print(c)"
   ]
  },
  {
   "cell_type": "markdown",
   "metadata": {},
   "source": [
    "Además del argumento principal que es la dimensión de nuestro ndarray, esta función nos permite seleccionar el tipo de dato que queremos que almacene nuestro array:\n",
    "\n",
    "* **dtype**: nos permite especificar el tipo de datos que deseamos que contenga nuestra array inicializada. Por defecto toma el valor de float64."
   ]
  },
  {
   "cell_type": "code",
   "execution_count": 19,
   "metadata": {},
   "outputs": [
    {
     "name": "stdout",
     "output_type": "stream",
     "text": [
      "[[1 1]\n",
      " [1 1]]\n"
     ]
    }
   ],
   "source": [
    "#Nos generamos un array de unos de tipo int8\n",
    "c_2 = np.ones([2,2], dtype = np.int8)\n",
    "print(c_2)"
   ]
  },
  {
   "cell_type": "markdown",
   "metadata": {},
   "source": [
    "## Combinando arrays"
   ]
  },
  {
   "cell_type": "markdown",
   "metadata": {},
   "source": [
    "Numpy nos proporciona una gran variedad de funciones para crear nuevas arrays a partir de arrays ya existentes."
   ]
  },
  {
   "cell_type": "markdown",
   "metadata": {},
   "source": [
    "### Vertical stack (vstack())"
   ]
  },
  {
   "cell_type": "markdown",
   "metadata": {},
   "source": [
    "Dadas dos o más arrays existentes podemos apilar de forma vertical dichas arrays haciendo uso de la función **vstack()**. Esta función recibe como argumento un array o tupla que contiene las arrays que queremos apilar."
   ]
  },
  {
   "cell_type": "code",
   "execution_count": 24,
   "metadata": {},
   "outputs": [
    {
     "name": "stdout",
     "output_type": "stream",
     "text": [
      "[[1 2 3]\n",
      " [4 5 6]]\n"
     ]
    }
   ],
   "source": [
    "#Nos generamos dos arrays\n",
    "array1 = np.array([1,2,3])\n",
    "array2 = np.array([4,5,6])\n",
    "\n",
    "#Las apilamos de forma vertical mediante vstack\n",
    "array_vstack = np.vstack((array1, array2))\n",
    "print(array_vstack)"
   ]
  },
  {
   "cell_type": "markdown",
   "metadata": {},
   "source": [
    "Para que dos arrays puedan ser apiladas de forma vertical ambas deben de contener el mismo número de columnas."
   ]
  },
  {
   "cell_type": "markdown",
   "metadata": {},
   "source": [
    "### Horizontal stack (hstack())"
   ]
  },
  {
   "cell_type": "markdown",
   "metadata": {},
   "source": [
    "Dadas dos o más arrays existentes podemos apilar de forma horizontal dichas arrays haciendo uso de la función **hstack()**. Esta función recibe como argumento un array o tupla que contiene las arrays que queremos apilar."
   ]
  },
  {
   "cell_type": "code",
   "execution_count": 34,
   "metadata": {},
   "outputs": [
    {
     "name": "stdout",
     "output_type": "stream",
     "text": [
      "[[1. 1. 0. 0.]\n",
      " [1. 1. 0. 0.]\n",
      " [1. 1. 0. 0.]]\n"
     ]
    }
   ],
   "source": [
    "#Nos generamos dos arrays\n",
    "array1 = np.ones((3,2))\n",
    "array2 = np.zeros((3,2))\n",
    "\n",
    "#Las apilamos de forma horizontal mediante hstack\n",
    "array_hstack = np.hstack([array1, array2])\n",
    "print(array_hstack)"
   ]
  },
  {
   "cell_type": "markdown",
   "metadata": {},
   "source": [
    "Para que dos o más arrays puedan ser apiladas de forma horizontal ambas deben de contener el mismo número de filas"
   ]
  }
 ],
 "metadata": {
  "kernelspec": {
   "display_name": "Python 3",
   "language": "python",
   "name": "python3"
  },
  "language_info": {
   "codemirror_mode": {
    "name": "ipython",
    "version": 3
   },
   "file_extension": ".py",
   "mimetype": "text/x-python",
   "name": "python",
   "nbconvert_exporter": "python",
   "pygments_lexer": "ipython3",
   "version": "3.6.3"
  }
 },
 "nbformat": 4,
 "nbformat_minor": 2
}
