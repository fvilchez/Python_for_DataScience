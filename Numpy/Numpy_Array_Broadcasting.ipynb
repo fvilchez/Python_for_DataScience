{
 "cells": [
  {
   "cell_type": "code",
   "execution_count": 62,
   "metadata": {
    "collapsed": true
   },
   "outputs": [],
   "source": [
    "import numpy as np \n",
    "import time"
   ]
  },
  {
   "cell_type": "markdown",
   "metadata": {},
   "source": [
    "# Introducción Numpy Broadcasting"
   ]
  },
  {
   "cell_type": "markdown",
   "metadata": {},
   "source": [
    "Generalmente arrays de diferentes tamaños no pueden ser usadas a la hora de realizar operaciones aritméticas entre ellas. Una forma de superar esta limitación es duplicar la array de menor tamaño para que su tamaño sea como el de la array mayor. Esto es conocido en Python como **array broadcasting** y está disponible en Python cuando hacemos operaciones aritméticas con arrays, esto nos va a permitir simplificar enormemento nuestro código."
   ]
  },
  {
   "cell_type": "markdown",
   "metadata": {},
   "source": [
    "# Limitaciones aritméticas con Arrays"
   ]
  },
  {
   "cell_type": "markdown",
   "metadata": {},
   "source": [
    "En Python podemos realizar operaciones aritméticas con Numpy arrays, tales como suma o resta de forma directa."
   ]
  },
  {
   "cell_type": "code",
   "execution_count": 3,
   "metadata": {},
   "outputs": [
    {
     "name": "stdout",
     "output_type": "stream",
     "text": [
      "[2 4 6]\n"
     ]
    }
   ],
   "source": [
    "#Nos generamos dos arrays\n",
    "a = np.array([1,2,3])\n",
    "b = np.array([1,2,3])\n",
    "\n",
    "#Hacemos la suma\n",
    "print(a+b)"
   ]
  },
  {
   "cell_type": "markdown",
   "metadata": {},
   "source": [
    "Hablando desde un punto de vista aritmético, dos arrays solo pueden ser sumadas o restadas si ambas tienen las mismas dimensiones. Esto puede llegar a sur una limitación, Numpy proporciona una solución para permitir la realización de operaciones aritméticas entre arrays de diferente tamaño."
   ]
  },
  {
   "cell_type": "markdown",
   "metadata": {},
   "source": [
    "# Array Broadcasting"
   ]
  },
  {
   "cell_type": "markdown",
   "metadata": {},
   "source": [
    "**Broadcasting** es el nombre que recibe el método que usa Numpy y que le permite realizar operaciones aritméticas entre arrays de diferente dimensión o tamaño. Aunque esta técnica fue desarrollada para Numpy, también ha sido adoptada por otras librerías como Theano, TensorFlow y Octave. Broadcasting resuelve el problema de operaciones aritméticas entre arrays de diferentes tamaños replicando la array más pequeña a lo largo de la dimensión no coincidente."
   ]
  },
  {
   "cell_type": "markdown",
   "metadata": {},
   "source": [
    "## Operación Broadcasting entre un escalar y un array de una dimensión"
   ]
  },
  {
   "cell_type": "markdown",
   "metadata": {},
   "source": [
    "Supongamos que tenemos un array a con los elementos [a1, a2, a3] y tenemos un escalar b = b1, podemos realizar la operación artimética entre ambos elementos para esto python lo que hará es duplicar este valor sobre nuestro array de la siguiente forma [a1+b1, a2+b1, a3+b1]."
   ]
  },
  {
   "cell_type": "code",
   "execution_count": 5,
   "metadata": {},
   "outputs": [
    {
     "name": "stdout",
     "output_type": "stream",
     "text": [
      "[3 4 5]\n"
     ]
    }
   ],
   "source": [
    "#Nos definimos un array\n",
    "a = np.array([1,2,3])\n",
    "b = 2\n",
    "\n",
    "#Vemos la suma\n",
    "print(a+b)"
   ]
  },
  {
   "cell_type": "markdown",
   "metadata": {},
   "source": [
    "## Operación Broadcasting entre un escalar y una array de dos dimensiones"
   ]
  },
  {
   "cell_type": "code",
   "execution_count": 7,
   "metadata": {},
   "outputs": [
    {
     "name": "stdout",
     "output_type": "stream",
     "text": [
      "[[-4 -3]\n",
      " [-2 -1]\n",
      " [-1  0]]\n"
     ]
    }
   ],
   "source": [
    "#Generamos un array\n",
    "a = np.array([[1,2], [3,4], [4,5]])\n",
    "b = 5\n",
    "\n",
    "#Vemos la resta\n",
    "print(a-b)"
   ]
  },
  {
   "cell_type": "markdown",
   "metadata": {},
   "source": [
    "## Operación Broadcasting entre arrays y reglas de Broadcasting"
   ]
  },
  {
   "cell_type": "markdown",
   "metadata": {},
   "source": [
    "Los ejemplos vistos hasta ahora son bastante sencillos aunque podemos ver casos bastante más complicados, donde nos puede llegar a extrañar los resultados en caso de no conocer bien como trabaja el broadcasting es por esto que es bastante importante conocer las reglas. Veamos un ejemplo un tanto más complicado."
   ]
  },
  {
   "cell_type": "code",
   "execution_count": 13,
   "metadata": {},
   "outputs": [
    {
     "name": "stdout",
     "output_type": "stream",
     "text": [
      "[[0 1 2]\n",
      " [1 2 3]\n",
      " [2 3 4]]\n"
     ]
    }
   ],
   "source": [
    "#Nos generamos dos arrays\n",
    "a = np.arange(3)\n",
    "b = np.arange(3)[:, np.newaxis]\n",
    "\n",
    "#Hacemos la suma\n",
    "print(b+a)"
   ]
  },
  {
   "cell_type": "markdown",
   "metadata": {},
   "source": [
    "Para poder entender este resultado es necesario conocer las reglas que subyacen al broadcasting, estas reglas son las siguientes:\n",
    "\n",
    "* **Regla 1:** si dos arrays difieren en sus dimensiones, aquella que es menor es padeada con unos hacia la izquierda.\n",
    "\n",
    "\n",
    "* **Regla 2:** si dos arrays no coinciden en ninguna de sus dimensiones, entonces la dimensión 1 se estira hasta que coincida.\n",
    "\n",
    "\n",
    "* **Regla 3:** si tras aplicar las reglas 1 y 2, alguna de las dimensiones no coincide y niguno es igual 1, entonces la operación aritméticas entre estas arrays no es posible"
   ]
  },
  {
   "cell_type": "markdown",
   "metadata": {},
   "source": [
    "Para entender bien la operación de broadcasting, podemos pensar que lo que se hace es replicar el array, sin embargo esto a nivel de memoria no es cierto."
   ]
  },
  {
   "cell_type": "markdown",
   "metadata": {},
   "source": [
    "# Ejemplo"
   ]
  },
  {
   "cell_type": "markdown",
   "metadata": {},
   "source": [
    "Supogamos que dispones de un array de 100K filas y 3 columna, cada calumna representa el valor de cotización en dolares, libras y yenes de determinadas empresas en un determinado histórico. Con el fin de pasar esto a euros debemos de multiplicar cada una de nuestras columnas por el factor que aplique."
   ]
  },
  {
   "cell_type": "code",
   "execution_count": 60,
   "metadata": {
    "collapsed": true
   },
   "outputs": [],
   "source": [
    "#Generamos nuestra array de cotizaciones\n",
    "data = np.random.uniform(low=0.5, high=13.3, size=(1000000,3))\n",
    "\n",
    "#Generamos nuestro factor de cambio\n",
    "factor_cambio = np.array([1.13, 0.90, 128.29])"
   ]
  },
  {
   "cell_type": "markdown",
   "metadata": {},
   "source": [
    "A la hora de realizar esto tenemos varias formas de hacerlo, una primera forma sería acceder a cada una de las filas y realizar el producto, para esto es necesario hacer uso de un bucle"
   ]
  },
  {
   "cell_type": "code",
   "execution_count": 63,
   "metadata": {},
   "outputs": [
    {
     "name": "stdout",
     "output_type": "stream",
     "text": [
      "--- 2.249614715576172 seconds ---\n"
     ]
    }
   ],
   "source": [
    "#Nos generamos un array de ceros donde guardaremos los resultados\n",
    "start_time = time.time()\n",
    "result = np.zeros_like(data)\n",
    "for i in range(data.shape[0]):\n",
    "    result[i, :] = data[i,:].astype('float') * factor_cambio\n",
    "print(\"--- %s seconds ---\" % (time.time() - start_time))"
   ]
  },
  {
   "cell_type": "markdown",
   "metadata": {},
   "source": [
    "La otra opción es la de generar un array para factor cambio de igual dimensión que nuestra array de datos"
   ]
  },
  {
   "cell_type": "code",
   "execution_count": 67,
   "metadata": {},
   "outputs": [
    {
     "name": "stdout",
     "output_type": "stream",
     "text": [
      "--- 0.021977663040161133 seconds ---\n"
     ]
    }
   ],
   "source": [
    "#Nos generamos nuestra array de igual dimensión que data\n",
    "start_time = time.time()\n",
    "factor_cambio_aux = np.tile(factor_cambio, (data.shape[0], 1))\n",
    "result = data * factor_cambio_aux\n",
    "print(\"--- %s seconds ---\" % (time.time() - start_time))"
   ]
  },
  {
   "cell_type": "markdown",
   "metadata": {},
   "source": [
    "Finalmente podemos hacer uso de las propiedades de broadcasting de Numpy, puesto que nuestro array factor_cambio cumple con las reglas de broadcasting, podemos hacer el producto de forma directa"
   ]
  },
  {
   "cell_type": "code",
   "execution_count": 68,
   "metadata": {},
   "outputs": [
    {
     "name": "stdout",
     "output_type": "stream",
     "text": [
      "--- 0.01363372802734375 seconds ---\n"
     ]
    }
   ],
   "source": [
    "start_time = time.time()\n",
    "result = data * factor_cambio\n",
    "print(\"--- %s seconds ---\" % (time.time() - start_time))"
   ]
  },
  {
   "cell_type": "markdown",
   "metadata": {},
   "source": [
    "Podemos ver como las operaciones de Broadcasting, nos permiten realizar operaciones de forma mucho más eficiente."
   ]
  }
 ],
 "metadata": {
  "kernelspec": {
   "display_name": "Python 3",
   "language": "python",
   "name": "python3"
  },
  "language_info": {
   "codemirror_mode": {
    "name": "ipython",
    "version": 3
   },
   "file_extension": ".py",
   "mimetype": "text/x-python",
   "name": "python",
   "nbconvert_exporter": "python",
   "pygments_lexer": "ipython3",
   "version": "3.6.3"
  }
 },
 "nbformat": 4,
 "nbformat_minor": 2
}
