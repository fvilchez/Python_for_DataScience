{
 "cells": [
  {
   "cell_type": "code",
   "execution_count": 2,
   "metadata": {
    "collapsed": true
   },
   "outputs": [],
   "source": [
    "import numpy as np "
   ]
  },
  {
   "cell_type": "markdown",
   "metadata": {},
   "source": [
    "# Introducción Numpy Broadcasting"
   ]
  },
  {
   "cell_type": "markdown",
   "metadata": {},
   "source": [
    "Generalmente arrays de diferentes tamaños no pueden ser usadas a la hora de realizar operaciones aritméticas entre ellas. Una forma de superar esta limitación es duplicar la array de menor tamaño para que su tamaño sea como el de la array mayor. Esto es conocido en Python como **array broadcasting** y está disponible en Python cuando hacemos operaciones aritméticas con arrays, esto nos va a permitir simplificar enormemento nuestro código."
   ]
  },
  {
   "cell_type": "markdown",
   "metadata": {},
   "source": [
    "# Limitaciones aritméticas con Arrays"
   ]
  },
  {
   "cell_type": "markdown",
   "metadata": {},
   "source": [
    "En Python podemos realizar operaciones aritméticas con Numpy arrays, tales como suma o resta de forma directa."
   ]
  },
  {
   "cell_type": "code",
   "execution_count": 3,
   "metadata": {},
   "outputs": [
    {
     "name": "stdout",
     "output_type": "stream",
     "text": [
      "[2 4 6]\n"
     ]
    }
   ],
   "source": [
    "#Nos generamos dos arrays\n",
    "a = np.array([1,2,3])\n",
    "b = np.array([1,2,3])\n",
    "\n",
    "#Hacemos la suma\n",
    "print(a+b)"
   ]
  },
  {
   "cell_type": "markdown",
   "metadata": {},
   "source": [
    "Hablando desde un punto de vista aritmético, dos arrays solo pueden ser sumadas o restadas si ambas tienen las mismas dimensiones. Esto puede llegar a sur una limitación, Numpy proporciona una solución para permitir la realización de operaciones aritméticas entre arrays de diferente tamaño."
   ]
  },
  {
   "cell_type": "markdown",
   "metadata": {},
   "source": [
    "# Array Broadcasting"
   ]
  },
  {
   "cell_type": "markdown",
   "metadata": {},
   "source": [
    "**Broadcasting** es el nombre que recibe el método que usa Numpy y que le permite realizar operaciones aritméticas entre arrays de diferente dimensión o tamaño. Aunque esta técnica fue desarrollada para Numpy, también ha sido adoptada por otras librerías como Theano, TensorFlow y Octave. Broadcasting resuelve el problema de operaciones aritméticas entre arrays de diferentes tamaños replicando la array más pequeña a lo largo de la dimensión no coincidente."
   ]
  },
  {
   "cell_type": "markdown",
   "metadata": {},
   "source": [
    "## Operación Broadcasting entre un escalar y un array de una dimensión"
   ]
  },
  {
   "cell_type": "markdown",
   "metadata": {},
   "source": [
    "Supongamos que tenemos un array a con los elementos [a1, a2, a3] y tenemos un escalar b = b1, podemos realizar la operación artimética entre ambos elementos para esto python lo que hará es duplicar este valor sobre nuestro array de la siguiente forma [a1+b1, a2+b1, a3+b1]."
   ]
  },
  {
   "cell_type": "code",
   "execution_count": 5,
   "metadata": {},
   "outputs": [
    {
     "name": "stdout",
     "output_type": "stream",
     "text": [
      "[3 4 5]\n"
     ]
    }
   ],
   "source": [
    "#Nos definimos un array\n",
    "a = np.array([1,2,3])\n",
    "b = 2\n",
    "\n",
    "#Vemos la suma\n",
    "print(a+b)"
   ]
  },
  {
   "cell_type": "markdown",
   "metadata": {},
   "source": [
    "## Operación Broadcasting entre un escalar y una array de dos dimensiones"
   ]
  },
  {
   "cell_type": "code",
   "execution_count": 7,
   "metadata": {},
   "outputs": [
    {
     "name": "stdout",
     "output_type": "stream",
     "text": [
      "[[-4 -3]\n",
      " [-2 -1]\n",
      " [-1  0]]\n"
     ]
    }
   ],
   "source": [
    "#Generamos un array\n",
    "a = np.array([[1,2], [3,4], [4,5]])\n",
    "b = 5\n",
    "\n",
    "#Vemos la resta\n",
    "print(a-b)"
   ]
  },
  {
   "cell_type": "markdown",
   "metadata": {},
   "source": [
    "## Operación Broadcasting entre arrays y reglas de Broadcasting"
   ]
  },
  {
   "cell_type": "markdown",
   "metadata": {},
   "source": [
    "Los ejemplos vistos hasta ahora son bastante sencillos aunque podemos ver casos bastante más complicados, donde nos puede llegar a extrañar los resultados en caso de no conocer bien como trabaja el broadcasting es por esto que es bastante importante conocer las reglas. Veamos un ejemplo un tanto más complicado."
   ]
  },
  {
   "cell_type": "code",
   "execution_count": 13,
   "metadata": {},
   "outputs": [
    {
     "name": "stdout",
     "output_type": "stream",
     "text": [
      "[[0 1 2]\n",
      " [1 2 3]\n",
      " [2 3 4]]\n"
     ]
    }
   ],
   "source": [
    "#Nos generamos dos arrays\n",
    "a = np.arange(3)\n",
    "b = np.arange(3)[:, np.newaxis]\n",
    "\n",
    "#Hacemos la suma\n",
    "print(b+a)"
   ]
  },
  {
   "cell_type": "markdown",
   "metadata": {},
   "source": [
    "Para poder entender este resultado es necesario conocer las reglas que subyacen al broadcasting, estas reglas son las siguientes:\n",
    "\n",
    "* **Regla 1:** si dos arrays difieren en sus dimensiones, aquella que es menor es padeada con unos hacia la izquierda.\n",
    "\n",
    "\n",
    "* **Regla 2:** si dos arrays no coinciden en ninguna de sus dimensiones, entonces la dimensión 1 se estira hasta que coincida.\n",
    "\n",
    "\n",
    "* **Regla 3:** si tras aplicar las reglas 1 y 2, alguna de las dimensiones no coincide y niguno es igual 1, entonces la operación aritméticas entre estas arrays no es posible"
   ]
  },
  {
   "cell_type": "markdown",
   "metadata": {},
   "source": [
    "Para entender bien la operación de broadcasting, podemos pensar que lo que se hace es replicar el array, sin embargo esto a nivel de memoria no es cierto."
   ]
  }
 ],
 "metadata": {
  "kernelspec": {
   "display_name": "Python 3",
   "language": "python",
   "name": "python3"
  },
  "language_info": {
   "codemirror_mode": {
    "name": "ipython",
    "version": 3
   },
   "file_extension": ".py",
   "mimetype": "text/x-python",
   "name": "python",
   "nbconvert_exporter": "python",
   "pygments_lexer": "ipython3",
   "version": "3.6.3"
  }
 },
 "nbformat": 4,
 "nbformat_minor": 2
}
