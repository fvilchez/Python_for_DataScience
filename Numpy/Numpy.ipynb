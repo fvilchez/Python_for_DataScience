{
 "cells": [
  {
   "cell_type": "code",
   "execution_count": 1,
   "metadata": {
    "collapsed": true
   },
   "outputs": [],
   "source": [
    "#Importamos la librería Numpy\n",
    "import numpy as np"
   ]
  },
  {
   "cell_type": "markdown",
   "metadata": {},
   "source": [
    "# Creando arrays a partir de listas "
   ]
  },
  {
   "cell_type": "markdown",
   "metadata": {},
   "source": [
    "Podemos hacer uso de **np.array** para crear arrays a partir de listas."
   ]
  },
  {
   "cell_type": "code",
   "execution_count": 4,
   "metadata": {},
   "outputs": [
    {
     "data": {
      "text/plain": [
       "array([1, 2, 3, 4, 5])"
      ]
     },
     "execution_count": 4,
     "metadata": {},
     "output_type": "execute_result"
    }
   ],
   "source": [
    "#Nos creamos un array de números enteros \n",
    "np.array([1, 2, 3, 4, 5])"
   ]
  },
  {
   "cell_type": "markdown",
   "metadata": {},
   "source": [
    "Debemos de recordar que a diferencia que las listas, Numpy está restringido a arrays que contengan el mismo tipo de variables. Si los tipos no son iguales, Numpy inferirá si es posible el tipo de dato. En el siguiente ejemplo podemos ver como el tipo de dato inferido es tipo float."
   ]
  },
  {
   "cell_type": "code",
   "execution_count": 5,
   "metadata": {},
   "outputs": [
    {
     "data": {
      "text/plain": [
       "array([ 3.14,  3.  ,  2.  ,  1.15])"
      ]
     },
     "execution_count": 5,
     "metadata": {},
     "output_type": "execute_result"
    }
   ],
   "source": [
    "np.array([3.14, 3, 2, 1.15])"
   ]
  },
  {
   "cell_type": "markdown",
   "metadata": {},
   "source": [
    "Si queremos especificar el tipo de dato resultante que queremos que almacene el array, podemos hacer uso del argumento **dtype**."
   ]
  },
  {
   "cell_type": "code",
   "execution_count": 6,
   "metadata": {},
   "outputs": [
    {
     "data": {
      "text/plain": [
       "array([ 3.1400001 ,  3.        ,  1.14999998,  2.        ], dtype=float32)"
      ]
     },
     "execution_count": 6,
     "metadata": {},
     "output_type": "execute_result"
    }
   ],
   "source": [
    "np.array([3.14, 3, 1.15, 2], dtype = 'float32')"
   ]
  },
  {
   "cell_type": "markdown",
   "metadata": {},
   "source": [
    "Podemos crear arrays multidimensionales a partir de listas de listas, a continuación vamos a proceder a crearnos un array 2D."
   ]
  },
  {
   "cell_type": "code",
   "execution_count": 7,
   "metadata": {},
   "outputs": [
    {
     "data": {
      "text/plain": [
       "array([[1, 2],\n",
       "       [2, 3],\n",
       "       [3, 4]])"
      ]
     },
     "execution_count": 7,
     "metadata": {},
     "output_type": "execute_result"
    }
   ],
   "source": [
    "np.array([range(i, i+2) for i in [1,2,3]])"
   ]
  },
  {
   "cell_type": "markdown",
   "metadata": {
    "collapsed": true
   },
   "source": [
    "# Creando arrays desde cero"
   ]
  },
  {
   "cell_type": "markdown",
   "metadata": {},
   "source": [
    "Para arrays grandes, es más eficiente crear arrays desde cero usando rutinas que ya están disponibles en Numpy, a continuación vamos a ver una serie de ejemplos"
   ]
  },
  {
   "cell_type": "code",
   "execution_count": 8,
   "metadata": {},
   "outputs": [
    {
     "data": {
      "text/plain": [
       "array([0, 0, 0, 0, 0, 0, 0, 0, 0, 0])"
      ]
     },
     "execution_count": 8,
     "metadata": {},
     "output_type": "execute_result"
    }
   ],
   "source": [
    "#Nos creamos una array 1-dimensional de ceros \n",
    "np.zeros(10, dtype = \"int\")"
   ]
  },
  {
   "cell_type": "code",
   "execution_count": 9,
   "metadata": {},
   "outputs": [
    {
     "data": {
      "text/plain": [
       "array([[ 1.,  1.,  1.,  1.,  1.],\n",
       "       [ 1.,  1.,  1.,  1.,  1.],\n",
       "       [ 1.,  1.,  1.,  1.,  1.]])"
      ]
     },
     "execution_count": 9,
     "metadata": {},
     "output_type": "execute_result"
    }
   ],
   "source": [
    "#Nos creamos un array de dimensión 3x5 de unos de tipo float\n",
    "np.ones((3,5), dtype = \"float\")"
   ]
  },
  {
   "cell_type": "code",
   "execution_count": 10,
   "metadata": {},
   "outputs": [
    {
     "data": {
      "text/plain": [
       "array([[ 3.14,  3.14,  3.14,  3.14,  3.14],\n",
       "       [ 3.14,  3.14,  3.14,  3.14,  3.14],\n",
       "       [ 3.14,  3.14,  3.14,  3.14,  3.14]])"
      ]
     },
     "execution_count": 10,
     "metadata": {},
     "output_type": "execute_result"
    }
   ],
   "source": [
    "#Nos creamos un array de tamaño 3x5 donde todos sus valores toman el valor 3.14\n",
    "np.full((3,5), 3.14, dtype = \"float\")"
   ]
  },
  {
   "cell_type": "code",
   "execution_count": 11,
   "metadata": {},
   "outputs": [
    {
     "data": {
      "text/plain": [
       "array([ 0,  2,  4,  6,  8, 10, 12, 14, 16, 18, 20])"
      ]
     },
     "execution_count": 11,
     "metadata": {},
     "output_type": "execute_result"
    }
   ],
   "source": [
    "#Nos creamos un array 1-dimensional que toma los valores entre 0 y 20 con paso de 2\n",
    "np.arange(0, 22, 2)"
   ]
  },
  {
   "cell_type": "code",
   "execution_count": 12,
   "metadata": {},
   "outputs": [
    {
     "data": {
      "text/plain": [
       "array([ 0.  ,  0.25,  0.5 ,  0.75,  1.  ])"
      ]
     },
     "execution_count": 12,
     "metadata": {},
     "output_type": "execute_result"
    }
   ],
   "source": [
    "#Nos creamos un array con 5 valores entre 0 y 1 todos ellos equiespaciados\n",
    "np.linspace(0, 1, 5)"
   ]
  },
  {
   "cell_type": "code",
   "execution_count": 13,
   "metadata": {},
   "outputs": [
    {
     "data": {
      "text/plain": [
       "array([[ 0.24723439,  0.04202493,  0.58520238],\n",
       "       [ 0.30417384,  0.64378079,  0.61289482],\n",
       "       [ 0.29867127,  0.75222115,  0.5363419 ]])"
      ]
     },
     "execution_count": 13,
     "metadata": {},
     "output_type": "execute_result"
    }
   ],
   "source": [
    "#Nos creamos un array que toma valores aleatorios uniformemente distribuidos\n",
    "np.random.random((3, 3))"
   ]
  },
  {
   "cell_type": "code",
   "execution_count": 14,
   "metadata": {},
   "outputs": [
    {
     "data": {
      "text/plain": [
       "array([[ 0.03884827, -0.46410496,  0.44252729],\n",
       "       [ 0.52347353, -1.62449028, -0.10962337],\n",
       "       [ 1.54408922,  0.21794116, -1.81670544]])"
      ]
     },
     "execution_count": 14,
     "metadata": {},
     "output_type": "execute_result"
    }
   ],
   "source": [
    "#Nos creamos un array cuyos valores forman una distribución normal, media 0 y desviación 1\n",
    "np.random.normal(0, 1, (3, 3))"
   ]
  },
  {
   "cell_type": "code",
   "execution_count": 15,
   "metadata": {},
   "outputs": [
    {
     "data": {
      "text/plain": [
       "array([[4, 6, 2],\n",
       "       [5, 3, 0],\n",
       "       [2, 3, 0]])"
      ]
     },
     "execution_count": 15,
     "metadata": {},
     "output_type": "execute_result"
    }
   ],
   "source": [
    "#Nos creamos un array de valores aleatorios entre 0 y 10, siendo todos los valores enteros\n",
    "np.random.randint(0, 11, (3, 3))"
   ]
  },
  {
   "cell_type": "code",
   "execution_count": 16,
   "metadata": {},
   "outputs": [
    {
     "data": {
      "text/plain": [
       "array([[ 1.,  0.,  0.],\n",
       "       [ 0.,  1.,  0.],\n",
       "       [ 0.,  0.,  1.]])"
      ]
     },
     "execution_count": 16,
     "metadata": {},
     "output_type": "execute_result"
    }
   ],
   "source": [
    "#Nos creamos la matriz indentidad 3x3\n",
    "np.eye(3, 3)"
   ]
  },
  {
   "cell_type": "code",
   "execution_count": 17,
   "metadata": {},
   "outputs": [
    {
     "data": {
      "text/plain": [
       "array([ 1.,  1.,  1.])"
      ]
     },
     "execution_count": 17,
     "metadata": {},
     "output_type": "execute_result"
    }
   ],
   "source": [
    "#Inicializamos un array \n",
    "np.empty(3)"
   ]
  },
  {
   "cell_type": "markdown",
   "metadata": {},
   "source": [
    "# Nociones básicas sobre las Numpy arrays"
   ]
  },
  {
   "cell_type": "markdown",
   "metadata": {},
   "source": [
    "Cuando hablamos de manipulación de datos en Numpy, es sinónimo a manipulación de arrays en Numpy, incluso herramientas como **Pandas** están basadas en Numpy arrays. "
   ]
  },
  {
   "cell_type": "markdown",
   "metadata": {},
   "source": [
    "## Atributos en Numpy Arrays"
   ]
  },
  {
   "cell_type": "markdown",
   "metadata": {},
   "source": [
    "Los atributos nos permiten determinar el tamaño, la forma, la ocupación en memoria y el tipo de dato de un array. Vamos a comenzar generando tres arrays aleatorias: 1-dimensional, 2-dimensional y 3-dimensonal de números aleatorios enteros y uniformemente distribuidos. Vamos a proceder a fijar la semilla haciendo uso de **np.random.seed()** de forma que nos aseguramos que vamos a generar siempre las mismas arrays cada vez que generemos el código. "
   ]
  },
  {
   "cell_type": "code",
   "execution_count": 18,
   "metadata": {
    "collapsed": true
   },
   "outputs": [],
   "source": [
    "#Fijamos la semilla\n",
    "np.random.seed(0)\n",
    "\n",
    "#Nos generamos las tres arrays\n",
    "x1 = np.random.randint(10, size = 6)\n",
    "x2 = np.random.randint(10, size = (3, 4))\n",
    "x3 = np.random.randint(10, size = (3, 4, 5))"
   ]
  },
  {
   "cell_type": "markdown",
   "metadata": {},
   "source": [
    "Cada una de estas arrays dispone de los siguientes atributos:\n",
    "\n",
    "* ndim: nos permite saber la dimensión  de nuestra array\n",
    "\n",
    "* shape: nos permite conocer el tamaño de nuestra array\n",
    "\n",
    "* size: nos permite conocer el número de elementos de nuestra array"
   ]
  },
  {
   "cell_type": "code",
   "execution_count": 19,
   "metadata": {},
   "outputs": [
    {
     "name": "stdout",
     "output_type": "stream",
     "text": [
      "x1 ndim:  1\n",
      "x2 shape:  (3, 4)\n",
      "x3 size:  60\n"
     ]
    }
   ],
   "source": [
    "#Vemos el valor de los atributos indicados\n",
    "print(\"x1 ndim: \", x1.ndim)\n",
    "print(\"x2 shape: \", x2.shape)\n",
    "print(\"x3 size: \", x3.size)"
   ]
  },
  {
   "cell_type": "markdown",
   "metadata": {},
   "source": [
    "Otro de los argumentos que es muy útil es el argument **dtype** que nos permite conocer que tipo de dato contiene nuestra array."
   ]
  },
  {
   "cell_type": "code",
   "execution_count": 20,
   "metadata": {},
   "outputs": [
    {
     "name": "stdout",
     "output_type": "stream",
     "text": [
      "x3 dtye:  int64\n"
     ]
    }
   ],
   "source": [
    "#Vemos el tipo de dato de x3\n",
    "print(\"x3 dtye: \", x3.dtype)"
   ]
  },
  {
   "cell_type": "markdown",
   "metadata": {},
   "source": [
    "Finalmente disponemos de otros dos atributos que son muy interesantes que son:\n",
    "\n",
    "* itemsize: nos permite saber el tamaño en bytes de cada uno de los elementos de nuestra array\n",
    "\n",
    "* nbytes: nos permite saber el tamaño total que ocupa en bytes nuestra array"
   ]
  },
  {
   "cell_type": "code",
   "execution_count": 21,
   "metadata": {},
   "outputs": [
    {
     "name": "stdout",
     "output_type": "stream",
     "text": [
      "x2 itemsize:  8\n",
      "x2 nbytes:  96\n"
     ]
    }
   ],
   "source": [
    "#Vemos el tamaño de cada elemento y el total del array x2\n",
    "print(\"x2 itemsize: \", x2.itemsize)\n",
    "print(\"x2 nbytes: \", x2.nbytes)"
   ]
  },
  {
   "cell_type": "markdown",
   "metadata": {},
   "source": [
    "## Indexando Arrays: accediendo a elementos individuales"
   ]
  },
  {
   "cell_type": "markdown",
   "metadata": {},
   "source": [
    "Al igual que en las listas, podemos acceder al elemento **i** de un array 1-dimensional, haciendo uso de los corchetes y el índice en el que se encuentra el valor al cual deseamos acceder."
   ]
  },
  {
   "cell_type": "code",
   "execution_count": 22,
   "metadata": {},
   "outputs": [
    {
     "name": "stdout",
     "output_type": "stream",
     "text": [
      "5\n",
      "7\n"
     ]
    }
   ],
   "source": [
    "#Accedemos al primer valor de x1\n",
    "print(x1[0])\n",
    "\n",
    "#Accedemos al quinto valor de x1\n",
    "print(x1[4])"
   ]
  },
  {
   "cell_type": "markdown",
   "metadata": {},
   "source": [
    "También podemos acceder de forma inversa haciendo uso de índices negativos"
   ]
  },
  {
   "cell_type": "code",
   "execution_count": 23,
   "metadata": {},
   "outputs": [
    {
     "name": "stdout",
     "output_type": "stream",
     "text": [
      "9\n"
     ]
    },
    {
     "data": {
      "text/plain": [
       "7"
      ]
     },
     "execution_count": 23,
     "metadata": {},
     "output_type": "execute_result"
    }
   ],
   "source": [
    "#Accedemos al último valor de x1\n",
    "print(x1[-1])\n",
    "\n",
    "#Accedemos al penúltimo valor de x1\n",
    "x1[-2]"
   ]
  },
  {
   "cell_type": "markdown",
   "metadata": {},
   "source": [
    "Para el caso de un array multidimensional podemos acceder a cada uno de los elementos indicando los índices mediante tuplas."
   ]
  },
  {
   "cell_type": "code",
   "execution_count": 24,
   "metadata": {},
   "outputs": [
    {
     "name": "stdout",
     "output_type": "stream",
     "text": [
      "6\n",
      "1\n",
      "7\n"
     ]
    }
   ],
   "source": [
    "#Accedemos al elemento que se encuentra en la fila 2 y en la columna 2 de x2\n",
    "print(x2[1,1])\n",
    "\n",
    "#Accedemos al elemente que se encuentra en la fila 3 y en la columna 1 de x2\n",
    "print(x2[2, 0])\n",
    "\n",
    "#Accedemos al elemento que se encuentra en la última fila y en la última columna de x2\n",
    "print(x2[-1, -1])"
   ]
  },
  {
   "cell_type": "markdown",
   "metadata": {},
   "source": [
    "Podemos modificar los valores de un array sin más que indicar el elemento que queremos modificar y su nuevo valor."
   ]
  },
  {
   "cell_type": "code",
   "execution_count": 25,
   "metadata": {},
   "outputs": [
    {
     "name": "stdout",
     "output_type": "stream",
     "text": [
      "[[ 3  5  2  4]\n",
      " [ 7 12  8  8]\n",
      " [ 1  6  7  7]]\n"
     ]
    }
   ],
   "source": [
    "#Modificamos el valor que se encuentra en la fila 2 y en la columna 2\n",
    "x2[1,1] = 12\n",
    "\n",
    "#Mostramos el resultado\n",
    "print(x2)"
   ]
  },
  {
   "cell_type": "markdown",
   "metadata": {},
   "source": [
    "A diferencia que las listas en Python, las arrays están compuestas por valores de tipo fijo. Es decir, si intentamos introducir un valor flotante dentro de una array de números enteros esta truncará el valor."
   ]
  },
  {
   "cell_type": "code",
   "execution_count": 26,
   "metadata": {},
   "outputs": [
    {
     "name": "stdout",
     "output_type": "stream",
     "text": [
      "[5 0 3 3 7 9]\n",
      "[3 0 3 3 7 9]\n"
     ]
    }
   ],
   "source": [
    "#Mostramos x1\n",
    "print(x1)\n",
    "\n",
    "#Modificamos el valor del primer elemento \n",
    "x1[0] = 3.1415\n",
    "\n",
    "#Mostramos x1\n",
    "print(x1)"
   ]
  },
  {
   "cell_type": "markdown",
   "metadata": {},
   "source": [
    "## Recorriendo arrays: accediendo a subarrays"
   ]
  },
  {
   "cell_type": "markdown",
   "metadata": {},
   "source": [
    "Los corchetes nos permite acceder de forma individual a los elementos de un array, sin embargo, podemos hacer uso de la notación: **start:end:step**, para acceder a múltiples elementos."
   ]
  },
  {
   "cell_type": "code",
   "execution_count": 27,
   "metadata": {},
   "outputs": [
    {
     "name": "stdout",
     "output_type": "stream",
     "text": [
      "[ 4  5  6  7  8  9 10]\n",
      "[0 1 2 3]\n",
      "[10  9  8  7  6  5  4  3  2  1  0]\n",
      "[1 3 5 7 9]\n"
     ]
    }
   ],
   "source": [
    "#Nos creamos un array con los números del 0 al 10\n",
    "x = np.arange(11)\n",
    "\n",
    "#Accedemos a los elementos desde la quinta posición en adelante\n",
    "print(x[4:])\n",
    "\n",
    "#Accedemos a los elementos desde la primera posición hasta la tercera\n",
    "print(x[:4])\n",
    "\n",
    "#Una situacuón es en la cual no se indican el start y el stop y el step es -1, lo que hacemos es recorrer de forma inversa\n",
    "print(x[::-1])\n",
    "\n",
    "#Podemos seleccionar todos los elementos con pasos de 2 y a partir del índice 1\n",
    "print(x[1::2])"
   ]
  },
  {
   "cell_type": "markdown",
   "metadata": {},
   "source": [
    "## Arrays multidimensionales"
   ]
  },
  {
   "cell_type": "markdown",
   "metadata": {},
   "source": [
    "Lo vista para arrays 1-dimensional, es también válido para las arrays N-dimensionales."
   ]
  },
  {
   "cell_type": "code",
   "execution_count": 28,
   "metadata": {},
   "outputs": [
    {
     "name": "stdout",
     "output_type": "stream",
     "text": [
      "[[ 3  5  2  4]\n",
      " [ 7 12  8  8]\n",
      " [ 1  6  7  7]]\n"
     ]
    }
   ],
   "source": [
    "#Mostramos x2\n",
    "print(x2)"
   ]
  },
  {
   "cell_type": "code",
   "execution_count": 29,
   "metadata": {},
   "outputs": [
    {
     "name": "stdout",
     "output_type": "stream",
     "text": [
      "[[ 3  5  2]\n",
      " [ 7 12  8]]\n"
     ]
    }
   ],
   "source": [
    "#Seleccionamos las dos primeras filas y las tres primeras columnas de x2\n",
    "print(x2[:2, :3])"
   ]
  },
  {
   "cell_type": "code",
   "execution_count": 30,
   "metadata": {},
   "outputs": [
    {
     "name": "stdout",
     "output_type": "stream",
     "text": [
      "[[ 3  5]\n",
      " [ 7 12]\n",
      " [ 1  6]]\n"
     ]
    }
   ],
   "source": [
    "#Seleccinamos todas filas y las dos primeras columnas\n",
    "print(x2[:, :2])"
   ]
  },
  {
   "cell_type": "code",
   "execution_count": 31,
   "metadata": {},
   "outputs": [
    {
     "name": "stdout",
     "output_type": "stream",
     "text": [
      "[[ 7  7  6  1]\n",
      " [ 8  8 12  7]\n",
      " [ 4  2  5  3]]\n"
     ]
    }
   ],
   "source": [
    "#Invertimos los números de nuestra matriz\n",
    "print(x2[::-1, ::-1])"
   ]
  },
  {
   "cell_type": "markdown",
   "metadata": {},
   "source": [
    "## Copias de arrays"
   ]
  },
  {
   "cell_type": "markdown",
   "metadata": {},
   "source": [
    "Una cosa que debemos tener claro es que la subselección de un array no genera copias."
   ]
  },
  {
   "cell_type": "code",
   "execution_count": 32,
   "metadata": {},
   "outputs": [
    {
     "name": "stdout",
     "output_type": "stream",
     "text": [
      "[[ 3  5  2  4]\n",
      " [ 7 12  8  8]\n",
      " [ 1  6  7  7]]\n"
     ]
    }
   ],
   "source": [
    "#Veamos nuestra array x2\n",
    "print(x2)"
   ]
  },
  {
   "cell_type": "code",
   "execution_count": 33,
   "metadata": {},
   "outputs": [
    {
     "name": "stdout",
     "output_type": "stream",
     "text": [
      "[[ 3  5]\n",
      " [ 7 12]]\n"
     ]
    }
   ],
   "source": [
    "#Ahora vamos a proceder a crearnos un subconjunto\n",
    "x2_sub = x2[:2, :2]\n",
    "print(x2_sub)"
   ]
  },
  {
   "cell_type": "code",
   "execution_count": 34,
   "metadata": {},
   "outputs": [
    {
     "name": "stdout",
     "output_type": "stream",
     "text": [
      "[[99  5]\n",
      " [ 7 12]]\n"
     ]
    }
   ],
   "source": [
    "#Ahora modificamos el primer elemento de x2_sub\n",
    "x2_sub[0,0] = 99\n",
    "print(x2_sub)"
   ]
  },
  {
   "cell_type": "code",
   "execution_count": 35,
   "metadata": {},
   "outputs": [
    {
     "name": "stdout",
     "output_type": "stream",
     "text": [
      "[[99  5  2  4]\n",
      " [ 7 12  8  8]\n",
      " [ 1  6  7  7]]\n"
     ]
    }
   ],
   "source": [
    "#Mostramos x2\n",
    "print(x2)"
   ]
  },
  {
   "cell_type": "markdown",
   "metadata": {},
   "source": [
    "Esto puede ser algo realmente útil, ya que cuando estamos trabajando con conjunto de datos de millones de observaciones y cientos de características, podemos procesar nuestro array por trozos, sin necesidad de procesar el conjunto por completo. "
   ]
  },
  {
   "cell_type": "markdown",
   "metadata": {
    "collapsed": true
   },
   "source": [
    "En determinadas ocasiones podemos querer crearnos una copia del array inicial, o de un sub-array, para realizar disponemos de la función **copy()**."
   ]
  },
  {
   "cell_type": "code",
   "execution_count": 38,
   "metadata": {},
   "outputs": [
    {
     "name": "stdout",
     "output_type": "stream",
     "text": [
      "[[99  5  2  4]\n",
      " [ 7 12  8  8]\n",
      " [ 1  6  7  7]]\n",
      "[[42  5]\n",
      " [ 7 12]]\n"
     ]
    }
   ],
   "source": [
    "#Seleccionamos un subconjunto de x2\n",
    "x2_sub_copy = x2[:2,:2].copy()\n",
    "\n",
    "#Modificamos la copia\n",
    "x2_sub_copy[0,0] = 42\n",
    "\n",
    "#Mostramos x2 y x2_sub_copy\n",
    "print(x2)\n",
    "print(x2_sub_copy)"
   ]
  },
  {
   "cell_type": "markdown",
   "metadata": {},
   "source": [
    "En este caso podemos ver como el array original x2 no se ve modificado."
   ]
  },
  {
   "cell_type": "markdown",
   "metadata": {},
   "source": [
    "## Reshape arrays"
   ]
  },
  {
   "cell_type": "markdown",
   "metadata": {},
   "source": [
    "El comando **reshape()** nos permite cambiar el tamaño de nuestra matriz sin necesidad de cambiar los datos. "
   ]
  },
  {
   "cell_type": "code",
   "execution_count": 44,
   "metadata": {},
   "outputs": [
    {
     "data": {
      "text/plain": [
       "array([[1, 2, 3],\n",
       "       [4, 5, 6],\n",
       "       [7, 8, 9]])"
      ]
     },
     "execution_count": 44,
     "metadata": {},
     "output_type": "execute_result"
    }
   ],
   "source": [
    "#Ponemos un array 1-dimensional con número del 1 al 10 en un array de tamaño 3x3\n",
    "np.arange(1,10).reshape((3,3))"
   ]
  },
  {
   "cell_type": "markdown",
   "metadata": {},
   "source": [
    "Para que la función **reshape()** funcione de forma adecuada, se debe cumplir que el tamaño del nuevo array coincida con el tamaño del array inicial. Un cambio muy común es el de convertir un array 1-dimensional en fila, convertilar en un array 2-dimensional, o array columna. Esto se puede hacer mediante el uso de **reshape()**  o bien haciendo uso de la palabra clave **newaxis**."
   ]
  },
  {
   "cell_type": "code",
   "execution_count": 53,
   "metadata": {},
   "outputs": [
    {
     "name": "stdout",
     "output_type": "stream",
     "text": [
      "[[1]\n",
      " [2]\n",
      " [3]]\n"
     ]
    }
   ],
   "source": [
    "#Nos creamos un array 1-dimensional\n",
    "x = np.array([1, 2, 3])\n",
    "\n",
    "#Convertimos x en un array 2-dimensional en forma de columna con reshape\n",
    "print(x.reshape((3,1)))\n"
   ]
  },
  {
   "cell_type": "code",
   "execution_count": 54,
   "metadata": {},
   "outputs": [
    {
     "name": "stdout",
     "output_type": "stream",
     "text": [
      "[[1]\n",
      " [2]\n",
      " [3]]\n"
     ]
    }
   ],
   "source": [
    "#Convertimos x en un array 2-dimensional en forma de columna haciendo uso de newaxis\n",
    "print(x[:, np.newaxis])"
   ]
  },
  {
   "cell_type": "markdown",
   "metadata": {},
   "source": [
    "## Concatenando arrays"
   ]
  },
  {
   "cell_type": "markdown",
   "metadata": {},
   "source": [
    "La concatenación o la unión de múltiples arrays en Numpy, se lleva a cabo principalmente haciendo uso de las rutinas: **np.concatenate**, **np.vstack** y **np.hstack**."
   ]
  },
  {
   "cell_type": "markdown",
   "metadata": {},
   "source": [
    "La función **np.concatenate** toma una tupla o lista de arrays y las concatena."
   ]
  },
  {
   "cell_type": "code",
   "execution_count": 55,
   "metadata": {},
   "outputs": [
    {
     "data": {
      "text/plain": [
       "array([1, 2, 3, 3, 2, 1])"
      ]
     },
     "execution_count": 55,
     "metadata": {},
     "output_type": "execute_result"
    }
   ],
   "source": [
    "#Nos generamos dos arrays\n",
    "x = np.array([1,2,3])\n",
    "y = np.array([3,2,1])\n",
    "\n",
    "#Hacemos uso de la np.concatenate para concatenar dos arrays\n",
    "np.concatenate([x, y])"
   ]
  },
  {
   "cell_type": "markdown",
   "metadata": {},
   "source": [
    "Podemos concatenar tantas arrays como queramos."
   ]
  },
  {
   "cell_type": "code",
   "execution_count": 56,
   "metadata": {},
   "outputs": [
    {
     "data": {
      "text/plain": [
       "array([1, 2, 3, 3, 2, 1, 1, 2, 3, 4, 5, 6, 7, 8, 9])"
      ]
     },
     "execution_count": 56,
     "metadata": {},
     "output_type": "execute_result"
    }
   ],
   "source": [
    "np.concatenate([x, y, np.arange(1,10)])"
   ]
  },
  {
   "cell_type": "markdown",
   "metadata": {},
   "source": [
    "Incluso podemos concatenar arrays de más de una dimensión."
   ]
  },
  {
   "cell_type": "code",
   "execution_count": 65,
   "metadata": {},
   "outputs": [
    {
     "name": "stdout",
     "output_type": "stream",
     "text": [
      "2\n",
      "[[1 2 3]\n",
      " [4 5 6]\n",
      " [1 2 3]\n",
      " [4 5 6]]\n"
     ]
    }
   ],
   "source": [
    "#Nos creamos un array de dos dimensiones\n",
    "grid = np.array([[1, 2, 3], [4, 5, 6]])\n",
    "print(grid.ndim)\n",
    "\n",
    "#Concatenamos consigo misma la array anteriormente \n",
    "print(np.concatenate([grid, grid]))"
   ]
  },
  {
   "cell_type": "markdown",
   "metadata": {},
   "source": [
    "También podemos concatenar a lo largo del eje horizontal, para ello basta con hacer uso del parámetro **axis = 1** de la función **np.concatenate()**"
   ]
  },
  {
   "cell_type": "code",
   "execution_count": 68,
   "metadata": {},
   "outputs": [
    {
     "name": "stdout",
     "output_type": "stream",
     "text": [
      "[[1 2 3 1 2 3]\n",
      " [4 5 6 4 5 6]]\n"
     ]
    }
   ],
   "source": [
    "#Concatenamos a lo largo del eje x\n",
    "print(np.concatenate([grid, grid],axis = 1))"
   ]
  },
  {
   "cell_type": "markdown",
   "metadata": {
    "collapsed": true
   },
   "source": [
    "A la hora de trabajar con arrays de dimensiones mixtas, puede ser una mejor opción hacer uso de las funciones np.vstack (vertical stack) y np.hstack (horizontal stack)."
   ]
  },
  {
   "cell_type": "code",
   "execution_count": 5,
   "metadata": {},
   "outputs": [
    {
     "name": "stdout",
     "output_type": "stream",
     "text": [
      "[[9 8 7]\n",
      " [6 5 4]\n",
      " [1 2 3]]\n"
     ]
    }
   ],
   "source": [
    "#Nos creamos dos arrays de diferente dimensión\n",
    "x = np.array([1, 2, 3])\n",
    "grid = [[9, 8, 7], [6, 5, 4]]\n",
    "\n",
    "#Hacemos uso de vertial stack\n",
    "print(np.vstack((grid, x)))"
   ]
  },
  {
   "cell_type": "code",
   "execution_count": 11,
   "metadata": {},
   "outputs": [
    {
     "name": "stdout",
     "output_type": "stream",
     "text": [
      "[[ 9  8  7 99]\n",
      " [ 6  5  4 99]]\n"
     ]
    }
   ],
   "source": [
    "#Hacemos uso de horizontal stack\n",
    "y = np.array([99,99]).reshape(2,1)\n",
    "\n",
    "#Hacemos uso de np.hstack\n",
    "print(np.hstack((grid, y)))"
   ]
  },
  {
   "cell_type": "markdown",
   "metadata": {},
   "source": [
    "## Separando arrays"
   ]
  },
  {
   "cell_type": "markdown",
   "metadata": {},
   "source": [
    "La separación de arrays están implementadas mediante las funciones, **np.split()**, **np.vsplit()** y **np.hsplit()**. A cada una de estas funciones le pasamos el array y los índice en los cuales queremos realizar el split."
   ]
  },
  {
   "cell_type": "code",
   "execution_count": 16,
   "metadata": {
    "collapsed": true
   },
   "outputs": [],
   "source": [
    "#Nos creamos un array\n",
    "x = np.arange(1,20,0.5)\n",
    "\n",
    "#Procedemos a splitear nujestra aaray en tres arrays diferentes separadas en los índices 9 y 15\n",
    "i, j, k = np.split(x, (9, 15))"
   ]
  },
  {
   "cell_type": "markdown",
   "metadata": {},
   "source": [
    "Debemos observar que N puntos para realizar un split, nos generan N+1 arrays spliteadas. Las funciones **np.hsplit()** y **np.vsplit()** funcionan de forma similar."
   ]
  },
  {
   "cell_type": "code",
   "execution_count": 19,
   "metadata": {},
   "outputs": [
    {
     "name": "stdout",
     "output_type": "stream",
     "text": [
      "[array([[0, 1, 2, 3],\n",
      "       [4, 5, 6, 7]]), array([[ 8,  9, 10, 11],\n",
      "       [12, 13, 14, 15]])]\n"
     ]
    }
   ],
   "source": [
    "#Nos creamos un array\n",
    "grid = np.arange(16).reshape((4,4))\n",
    "\n",
    "#Hacemos uso de np.vsplit  y cortamos por la fila 2\n",
    "print(np.vsplit(grid, [2]))"
   ]
  },
  {
   "cell_type": "code",
   "execution_count": 20,
   "metadata": {},
   "outputs": [
    {
     "name": "stdout",
     "output_type": "stream",
     "text": [
      "[array([[ 0,  1],\n",
      "       [ 4,  5],\n",
      "       [ 8,  9],\n",
      "       [12, 13]]), array([[ 2,  3],\n",
      "       [ 6,  7],\n",
      "       [10, 11],\n",
      "       [14, 15]])]\n"
     ]
    }
   ],
   "source": [
    "#Hacemos uso de np.hsplit y cortamos por la columna 2\n",
    "print(np.hsplit(grid, [2]))"
   ]
  },
  {
   "cell_type": "markdown",
   "metadata": {
    "collapsed": true
   },
   "source": [
    "# Computando con Numpy Arrays: funciones universales"
   ]
  },
  {
   "cell_type": "markdown",
   "metadata": {},
   "source": [
    "La computación con Numpy Arrays puede ser muy rápido o muy lenta. La clave para que estas operaciones sean muy rápidas es hacer uso de lo que se conoce como vectorización, implementada generalmente mediante las conocidas funciones universales de Python. El objetivo es motivar al uso de estas funciones universales que nos permiten realizar de forma rápida operaciones repetidas sobre arrays. "
   ]
  },
  {
   "cell_type": "markdown",
   "metadata": {},
   "source": [
    "## La lentitud de los bucles"
   ]
  },
  {
   "cell_type": "markdown",
   "metadata": {},
   "source": [
    "La implementación predeterminada de Python (conocida como CPython) implementas algunas operaciones lentas. Esto se debe a que Python se trata de un lenguaje dinámico e interpretado: el echo de que los tipos son flexibles, da lugar a que las operaciones no puedan ser corridas por debajo en códigos eficientes como C y Fortran. Esta debilidad se ha intentado abordar a traves de numerosos proyectos como: Cython que convierte el código de Python en código C compilable. La lentitud relativa de Python queda de manifiesta en pequeñas operaciones en las cuales se repiten determinadas operaciones por ejemplo los bucles. Por ejemplo supongamos que tenemos un array y queremos calcular el valor inverso de cada uno de sus elementos."
   ]
  },
  {
   "cell_type": "code",
   "execution_count": 5,
   "metadata": {},
   "outputs": [
    {
     "name": "stdout",
     "output_type": "stream",
     "text": [
      "[ 0.16666667  1.          0.25        0.25        0.125     ]\n"
     ]
    }
   ],
   "source": [
    "import numpy as np \n",
    "\n",
    "#Fijamos la semilla\n",
    "np.random.seed(0)\n",
    "\n",
    "#Generamos la función que calcula la inversa de cada número para un array\n",
    "def calcula_inversa(array):\n",
    "    output = np.empty(len(array))\n",
    "    for i in range(len(array)):\n",
    "        output[i] = 1.0 / array[i]\n",
    "    return output\n",
    "\n",
    "#Hacemos la llamada a la función\n",
    "result = calcula_inversa(np.random.randint(1, 10, size = 5))\n",
    "print(result)"
   ]
  },
  {
   "cell_type": "markdown",
   "metadata": {},
   "source": [
    "Parece ser que esta implementación corre bastante rápido. Sin embargo si hacemos una medida de tiempo de ejecución para el caso de un array de mayor dimensión veremos que comienza a relantizarse."
   ]
  },
  {
   "cell_type": "code",
   "execution_count": 6,
   "metadata": {},
   "outputs": [
    {
     "name": "stdout",
     "output_type": "stream",
     "text": [
      "2.16 s ± 31.6 ms per loop (mean ± std. dev. of 7 runs, 1 loop each)\n"
     ]
    }
   ],
   "source": [
    "big_array = np.random.randint(1, 100, size=1000000)\n",
    "%timeit calcula_inversa(big_array)"
   ]
  },
  {
   "cell_type": "markdown",
   "metadata": {},
   "source": [
    "Podemos ver como tarda varias segundos en realizar esta operación para un array de un millón de valores, si comparamos que actualmente los teléfonos móviles realizan billones de operaciones por segundo, esta operación parece realmente lenta. Resulta que aquí el cuello de botella no son las operaciones, sino que para cada ciclo del bucle CPython debe chequear el tipo de dato. Cada vez que el valor inverso de un número es calculado, Python primero chequea el tipo de objeto y tras esto busca de forma dinámica la función correcta para hacer uso para ese tipo. Si estuviesemos trabajando en código compilado, este tipo de dato sería conocida antes de ejecutar el código y el resultado se podría calcular de una forma mucho más eficiente."
   ]
  },
  {
   "cell_type": "markdown",
   "metadata": {},
   "source": [
    "## Introduciendo las funciones universales"
   ]
  },
  {
   "cell_type": "markdown",
   "metadata": {},
   "source": [
    "Para muchos tipos de operaciones Python ofrece tipos de rutinas que son tipadas estáticamente y de compiladas. Son las conocidas operaciones vectorizadas. Estas operaciones lo que hacen es ejecutar bajo una capa compilada que subyace a Numpy, lo que hace que las operaciones sean mucho más eficientes."
   ]
  },
  {
   "cell_type": "code",
   "execution_count": 12,
   "metadata": {},
   "outputs": [
    {
     "name": "stdout",
     "output_type": "stream",
     "text": [
      "[ 0.16666667  1.          0.25        0.25        0.125     ]\n",
      "[ 0.16666667  1.          0.25        0.25        0.125     ]\n"
     ]
    }
   ],
   "source": [
    "#Fijamos la semilla\n",
    "np.random.seed(0)\n",
    "aux = np.random.randint(1, 10, size = 5)\n",
    "#Comparemos el resultado haciendo uso de la vectorización y sin usar la vectorización\n",
    "print(calcula_inversa(aux))\n",
    "print(1.0 / aux)"
   ]
  },
  {
   "cell_type": "markdown",
   "metadata": {},
   "source": [
    "Veamos ahora la diferencia de tiempos con el array de gran dimensión"
   ]
  },
  {
   "cell_type": "code",
   "execution_count": 13,
   "metadata": {},
   "outputs": [
    {
     "name": "stdout",
     "output_type": "stream",
     "text": [
      "3.11 ms ± 13.9 µs per loop (mean ± std. dev. of 7 runs, 100 loops each)\n"
     ]
    }
   ],
   "source": [
    "%timeit (1.0 / big_array)"
   ]
  },
  {
   "cell_type": "markdown",
   "metadata": {},
   "source": [
    "Las operaciones vectorizadas son implementadas en Numpy a traves de las funciones universales (ufuncs), cuyo proposito principal es ejecutar de forma rápida operaciones que son repetitivas sobre valores de un array. Ufuncs son extremadamente flexibles, por ejemplo podemos realizar operaciones entre arrays"
   ]
  },
  {
   "cell_type": "code",
   "execution_count": 14,
   "metadata": {},
   "outputs": [
    {
     "data": {
      "text/plain": [
       "array([ 0.        ,  0.5       ,  0.66666667,  0.75      ,  0.8       ])"
      ]
     },
     "execution_count": 14,
     "metadata": {},
     "output_type": "execute_result"
    }
   ],
   "source": [
    "#Realizamos la división entre dos arrays\n",
    "np.arange(5) / np.arange(1,6)"
   ]
  },
  {
   "cell_type": "markdown",
   "metadata": {},
   "source": [
    "Las ufuncs no están limitadas a arrays 1-dimensional sino que se pueden ejecutar en arrays de más de una dimensión."
   ]
  },
  {
   "cell_type": "code",
   "execution_count": 15,
   "metadata": {},
   "outputs": [
    {
     "data": {
      "text/plain": [
       "array([[ 0,  2,  4],\n",
       "       [ 6,  8, 10],\n",
       "       [12, 14, 16]])"
      ]
     },
     "execution_count": 15,
     "metadata": {},
     "output_type": "execute_result"
    }
   ],
   "source": [
    "x = np.arange(9).reshape((3,3))\n",
    "2 * x"
   ]
  },
  {
   "cell_type": "markdown",
   "metadata": {},
   "source": [
    "Hacer uso de las funciones universales es mucho más eficiente que ejecutar operaciones mediante bucles, especialmente cuando el array es de una dimensión realmente elevada. Siempre que implementemos un bucle en Python, deberíamos considerar en vectorizar dicho bucle."
   ]
  },
  {
   "cell_type": "markdown",
   "metadata": {
    "collapsed": true
   },
   "source": [
    "## Explorando funciones universales"
   ]
  },
  {
   "cell_type": "markdown",
   "metadata": {},
   "source": [
    "Tenemos funciones universales que operan sobre una única entrada y funciones universales que operan sobre dos más entradas."
   ]
  },
  {
   "cell_type": "markdown",
   "metadata": {},
   "source": [
    "### Array aritméticas"
   ]
  },
  {
   "cell_type": "markdown",
   "metadata": {},
   "source": [
    "Las funciones universales puede ser usadas con las funciones naticas de suma, resta, división y multiplicación."
   ]
  },
  {
   "cell_type": "code",
   "execution_count": 5,
   "metadata": {},
   "outputs": [
    {
     "name": "stdout",
     "output_type": "stream",
     "text": [
      "x =  [0 1 2 3]\n",
      "x + 5 =  [5 6 7 8]\n",
      "x - 3 =  [-3 -2 -1  0]\n",
      " x * 3 =  [0 3 6 9]\n",
      "x / 2 =  [ 0.   0.5  1.   1.5]\n",
      "x // 2 =  [0 0 1 1]\n"
     ]
    }
   ],
   "source": [
    "## Generamos un numpy array\n",
    "x = np.arange(4)\n",
    "\n",
    "#Mostramos el resultado de aplicar las distintas operaciones aritméticas\n",
    "print(\"x = \", x)\n",
    "print(\"x + 5 = \", x + 5)\n",
    "print(\"x - 3 = \", x - 3)\n",
    "print(\" x * 3 = \", x * 3)\n",
    "print(\"x / 2 = \", x / 2)\n",
    "print(\"x // 2 = \", x // 2)"
   ]
  },
  {
   "cell_type": "markdown",
   "metadata": {},
   "source": [
    "Además de las vistas anteriormente también podemos hacer uso de la negación, exponente y módulo."
   ]
  },
  {
   "cell_type": "code",
   "execution_count": 6,
   "metadata": {},
   "outputs": [
    {
     "name": "stdout",
     "output_type": "stream",
     "text": [
      "-x =  [ 0 -1 -2 -3]\n",
      "x ** 2 =  [0 1 4 9]\n",
      "x % 2 =  [0 1 0 1]\n"
     ]
    }
   ],
   "source": [
    "#Hacemos uso de las funciones negación, exponente y módulo\n",
    "print(\"-x = \", -x)\n",
    "print(\"x ** 2 = \", x ** 2)\n",
    "print(\"x % 2 = \", x % 2)"
   ]
  },
  {
   "cell_type": "markdown",
   "metadata": {},
   "source": [
    "todas estas funciones se tratan de contenedores de funciones creadas por Numpy, por ejemplo el operador **+** se trata de un contenedor de **np.add()**."
   ]
  },
  {
   "cell_type": "markdown",
   "metadata": {},
   "source": [
    "### Valor Absoluto"
   ]
  },
  {
   "cell_type": "markdown",
   "metadata": {},
   "source": [
    "La función universal de Numpy para este operador es **np.absolute()**, la cual también está disponible a través de **np.abs()**."
   ]
  },
  {
   "cell_type": "code",
   "execution_count": 7,
   "metadata": {},
   "outputs": [
    {
     "name": "stdout",
     "output_type": "stream",
     "text": [
      "[2 1 0 1 2]\n",
      "[2 1 0 1 2]\n"
     ]
    }
   ],
   "source": [
    "#Nos creamos un array \n",
    "x = np.array([-2, -1, 0, 1, 2])\n",
    "\n",
    "#Calculamos el valor absoluto de cada uno de los elementos\n",
    "print(np.absolute(x))\n",
    "print(np.abs(x))"
   ]
  },
  {
   "cell_type": "markdown",
   "metadata": {},
   "source": [
    "Si en lugar de pasarle valores enteros, le pasamos valores complejos esta función nos retorna la magnitud."
   ]
  },
  {
   "cell_type": "code",
   "execution_count": 9,
   "metadata": {},
   "outputs": [
    {
     "name": "stdout",
     "output_type": "stream",
     "text": [
      "[ 5.          5.09901951  9.43398113]\n"
     ]
    }
   ],
   "source": [
    "#Nos creamos nuestro array\n",
    "y = np.array([3 - 4j, 5- 1j, 8 + 5j])\n",
    "\n",
    "#Generamos el valor absoluto\n",
    "print(np.abs(y))"
   ]
  },
  {
   "cell_type": "markdown",
   "metadata": {},
   "source": [
    "### Funciones trigonométricas"
   ]
  },
  {
   "cell_type": "markdown",
   "metadata": {},
   "source": [
    "Python dispone de una gran cantidad de variables universales, entre las que se encuentran las funciones trigonométricas."
   ]
  },
  {
   "cell_type": "code",
   "execution_count": 13,
   "metadata": {},
   "outputs": [
    {
     "name": "stdout",
     "output_type": "stream",
     "text": [
      "theta =  [ 0.          1.57079633  3.14159265]\n",
      "sin(theta) =  [  0.00000000e+00   1.00000000e+00   1.22464680e-16]\n",
      "cos(theta) =  [  1.00000000e+00   6.12323400e-17  -1.00000000e+00]\n",
      "tan(theta) =  [  0.00000000e+00   1.63312394e+16  -1.22464680e-16]\n"
     ]
    }
   ],
   "source": [
    "#Nos generamos un numpy array \n",
    "theta = np.linspace(0, np.pi, 3)\n",
    "\n",
    "#Hacemos uso de las distintas funciones trigonométricas\n",
    "print(\"theta = \", theta)\n",
    "print(\"sin(theta) = \", np.sin(theta))\n",
    "print(\"cos(theta) = \", np.cos(theta))\n",
    "print(\"tan(theta) = \", np.tan(theta))"
   ]
  },
  {
   "cell_type": "markdown",
   "metadata": {},
   "source": [
    "Las funciones inversas también están disponibles."
   ]
  },
  {
   "cell_type": "code",
   "execution_count": 14,
   "metadata": {},
   "outputs": [
    {
     "name": "stdout",
     "output_type": "stream",
     "text": [
      "x =  [-1, 0, 1]\n",
      "arcsin(x) =  [-1.57079633  0.          1.57079633]\n",
      "arccos(x) =  [ 3.14159265  1.57079633  0.        ]\n",
      "arctan(x) =  [-0.78539816  0.          0.78539816]\n"
     ]
    }
   ],
   "source": [
    "#Nos generamos un array\n",
    "x = [-1, 0, 1]\n",
    "\n",
    "#Hacemos uso de las funciones inversa trigonométricas\n",
    "print(\"x = \", x)\n",
    "print(\"arcsin(x) = \", np.arcsin(x))\n",
    "print(\"arccos(x) = \", np.arccos(x))\n",
    "print(\"arctan(x) = \", np.arctan(x))"
   ]
  },
  {
   "cell_type": "markdown",
   "metadata": {},
   "source": [
    "### Exponenciales y logarítmicas"
   ]
  },
  {
   "cell_type": "markdown",
   "metadata": {},
   "source": [
    "Otro tipo de función universal que está disponible en Numpy, son las exponenciales."
   ]
  },
  {
   "cell_type": "code",
   "execution_count": 17,
   "metadata": {},
   "outputs": [
    {
     "name": "stdout",
     "output_type": "stream",
     "text": [
      "x =  [1 2 3]\n",
      "e^x =  [  2.71828183   7.3890561   20.08553692]\n",
      "2^x =  [ 2.  4.  8.]\n",
      "3^x =  [ 3  9 27]\n"
     ]
    }
   ],
   "source": [
    "#Nos creamos un numpy array\n",
    "x = np.array([1, 2, 3])\n",
    "\n",
    "#Hacemos de las exponenciales\n",
    "print(\"x = \", x)\n",
    "print(\"e^x = \", np.exp(x))\n",
    "print(\"2^x = \", np.exp2(x))\n",
    "print(\"3^x = \", np.power(3, x))"
   ]
  },
  {
   "cell_type": "markdown",
   "metadata": {},
   "source": [
    "La inversa de las exponenciales, los logarítmos también están disponibles. La función básico **np.log()** nos retorna el logaritmo natural o logaritmo en base e, si queremos hacer uso de logaritmo en base 2 o el logaritmo en base 10 también están disponibles."
   ]
  },
  {
   "cell_type": "code",
   "execution_count": 18,
   "metadata": {},
   "outputs": [
    {
     "name": "stdout",
     "output_type": "stream",
     "text": [
      "x =  [1 2 3 4]\n",
      "log(x) =  [ 0.          0.69314718  1.09861229  1.38629436]\n",
      "log_2(x) =  [ 0.         1.         1.5849625  2.       ]\n",
      "log_10(x) =  [ 0.          0.30103     0.47712125  0.60205999]\n"
     ]
    }
   ],
   "source": [
    "#Nos generamos un Numpy array\n",
    "x = np.array([1, 2, 3, 4])\n",
    "\n",
    "#Aplicamos los diferentes algoritmos\n",
    "print(\"x = \", x)\n",
    "print(\"log(x) = \", np.log(x))\n",
    "print(\"log_2(x) = \", np.log2(x))\n",
    "print(\"log_10(x) = \", np.log10(x))"
   ]
  },
  {
   "cell_type": "markdown",
   "metadata": {
    "collapsed": true
   },
   "source": [
    "## Funciones universales avanzadas"
   ]
  },
  {
   "cell_type": "markdown",
   "metadata": {},
   "source": [
    "La gran mayoría de usuarios hacen uso de las funciones Numpy sin conocer la gran cantidad de argumentos de las que disponen cada una de las funciones."
   ]
  },
  {
   "cell_type": "markdown",
   "metadata": {},
   "source": [
    "### Especificando la salida"
   ]
  },
  {
   "cell_type": "markdown",
   "metadata": {},
   "source": [
    "Cuando realizamos operaciones pesadas, en ocasiones es útil poder especificar la matriz donde vamos almacenar el resultado. En lugar de crear una matriz temporal, podemos escribir los datos directamente en la ubicación de memoria donde nos gustaría que estuviesen. Todas las funciones universales disponen del parámetro **out** que nos permite realizar esto."
   ]
  },
  {
   "cell_type": "code",
   "execution_count": 5,
   "metadata": {},
   "outputs": [
    {
     "name": "stdout",
     "output_type": "stream",
     "text": [
      "[  0.  10.  20.  30.  40.]\n"
     ]
    }
   ],
   "source": [
    "#Generamos un array\n",
    "x = np.arange(5)\n",
    "y = np.empty(5)\n",
    "\n",
    "#Ahora hacemos uso del parámetro output\n",
    "np.multiply(x, 10, out = y)\n",
    "print(y)"
   ]
  },
  {
   "cell_type": "markdown",
   "metadata": {},
   "source": [
    "Esto también puede ser útil a la hora de seleccionar subconjuntos de valores de un array y realizar cálculos sobre ese subconjunto."
   ]
  },
  {
   "cell_type": "code",
   "execution_count": 6,
   "metadata": {},
   "outputs": [
    {
     "name": "stdout",
     "output_type": "stream",
     "text": [
      "[  1.   0.   2.   0.   4.   0.   8.   0.  16.   0.]\n"
     ]
    }
   ],
   "source": [
    "#Nos creamos un array de dimensión 10 de ceros\n",
    "z = np.zeros(10)\n",
    "\n",
    "#Ahora procedemos a escribir en las posiciones pares el valor de la expresión 2^x\n",
    "np.power(2, x, out = z[::2])\n",
    "print(z)"
   ]
  },
  {
   "cell_type": "markdown",
   "metadata": {},
   "source": [
    "Si por el contrario hubiéramos realizado la operación z[::2] = np.power(2, x), esto hubiera resultado en la creación de una matriz temporal para contener el resultado np.power(2, x), seguido de una segunda operación que lo que hace es copiar estos valores en la matriz **z**. Esto no da lugar a grandes diferencias de cálculo en el caso de arrays de baja dimensionalidad pero cuando estamos trabajando con datos de gran dimensionalidad puede marcar la diferencia."
   ]
  },
  {
   "cell_type": "markdown",
   "metadata": {},
   "source": [
    "### Agregaciones"
   ]
  },
  {
   "cell_type": "markdown",
   "metadata": {},
   "source": [
    "Para algunas funciones, existen una serie de funciones de agregación que pueden resultar muy interesantes. Por ejemplo, la función **reduce** aplicada sbre la operación **np.add()** nos da lugar a la suma de todos los elementos del array."
   ]
  },
  {
   "cell_type": "code",
   "execution_count": 10,
   "metadata": {},
   "outputs": [
    {
     "name": "stdout",
     "output_type": "stream",
     "text": [
      "10\n"
     ]
    }
   ],
   "source": [
    "#Hacemos uso de la función reduce\n",
    "x = np.arange(5)\n",
    "print(np.add.reduce(x))"
   ]
  },
  {
   "cell_type": "markdown",
   "metadata": {},
   "source": [
    "De forma similar, si hacemos uso de **reduce** sobre **np.multiply()** esto nos retorna el producto total de los elementos."
   ]
  },
  {
   "cell_type": "code",
   "execution_count": 11,
   "metadata": {},
   "outputs": [
    {
     "name": "stdout",
     "output_type": "stream",
     "text": [
      "120\n"
     ]
    }
   ],
   "source": [
    "x = np.arange(1,6)\n",
    "print(np.multiply.reduce(x))"
   ]
  },
  {
   "cell_type": "markdown",
   "metadata": {},
   "source": [
    "Si queremos almacenar todos los pasos intermedios podemos hacer uso de **accumulate**."
   ]
  },
  {
   "cell_type": "code",
   "execution_count": 12,
   "metadata": {},
   "outputs": [
    {
     "name": "stdout",
     "output_type": "stream",
     "text": [
      "[ 1  3  6 10 15]\n"
     ]
    }
   ],
   "source": [
    "#Vemos el resultado de hacer uso de np.add con accumulate\n",
    "print(np.add.accumulate(x))"
   ]
  },
  {
   "cell_type": "code",
   "execution_count": 13,
   "metadata": {},
   "outputs": [
    {
     "name": "stdout",
     "output_type": "stream",
     "text": [
      "[  1   2   6  24 120]\n"
     ]
    }
   ],
   "source": [
    "#Vemos el resultado de aplicar accumulate con np.multiply\n",
    "print(np.multiply.accumulate(x))"
   ]
  },
  {
   "cell_type": "markdown",
   "metadata": {},
   "source": [
    "### Outer product"
   ]
  },
  {
   "cell_type": "markdown",
   "metadata": {},
   "source": [
    "Finalmente cualquier función universal puede hacer uso del método **outer** que nos permite computar operaciones con arrays de distinta dimensión."
   ]
  },
  {
   "cell_type": "code",
   "execution_count": 14,
   "metadata": {},
   "outputs": [
    {
     "name": "stdout",
     "output_type": "stream",
     "text": [
      "[[ 1  2  3  4  5]\n",
      " [ 2  4  6  8 10]\n",
      " [ 3  6  9 12 15]\n",
      " [ 4  8 12 16 20]\n",
      " [ 5 10 15 20 25]]\n"
     ]
    }
   ],
   "source": [
    "x = np.arange(1, 6)\n",
    "print(np.multiply.outer(x, x))"
   ]
  },
  {
   "cell_type": "markdown",
   "metadata": {},
   "source": [
    "# Agregaciones: Min, Max y todo lo que está en medio"
   ]
  },
  {
   "cell_type": "markdown",
   "metadata": {},
   "source": [
    "A menudo cuando nos enfrentamos a datos de gran escala, el primer paso no es otro que calcular un resumen estadístico de los datos. Además de la media y la desviación estándar que son las medidas más comunes, existen otro tipo de agregaciones que también pueden resultar muy útiles como (suma, producto, mediana, mínimo, máximo, cuartiles, etc)."
   ]
  },
  {
   "cell_type": "markdown",
   "metadata": {},
   "source": [
    "### Sumando los valores de un array"
   ]
  },
  {
   "cell_type": "markdown",
   "metadata": {},
   "source": [
    "Por ejemplo podemos calcular el sumatorio de todos los valores de un array. Para ello Python dispone de la función **sum()**."
   ]
  },
  {
   "cell_type": "code",
   "execution_count": 15,
   "metadata": {},
   "outputs": [
    {
     "name": "stdout",
     "output_type": "stream",
     "text": [
      "49.8187988358\n"
     ]
    }
   ],
   "source": [
    "#Nos creamos un array\n",
    "L = np.random.random(100)\n",
    "\n",
    "#Computamos la suma\n",
    "print(sum(L))"
   ]
  },
  {
   "cell_type": "markdown",
   "metadata": {},
   "source": [
    "Para el caso de Numpy la sintáxis es bastante igual y el resultado es el mismo."
   ]
  },
  {
   "cell_type": "code",
   "execution_count": 16,
   "metadata": {},
   "outputs": [
    {
     "name": "stdout",
     "output_type": "stream",
     "text": [
      "49.8187988358\n"
     ]
    }
   ],
   "source": [
    "#Computamos el sumatorio son Numpy\n",
    "print(np.sum(L))"
   ]
  },
  {
   "cell_type": "markdown",
   "metadata": {},
   "source": [
    "Puesto que Numpy ejecuta sobre código compilado, la ejecución haciendo uso de Numpy es mucho más rápida."
   ]
  },
  {
   "cell_type": "code",
   "execution_count": 17,
   "metadata": {},
   "outputs": [
    {
     "name": "stdout",
     "output_type": "stream",
     "text": [
      "74.6 ms ± 1.25 ms per loop (mean ± std. dev. of 7 runs, 10 loops each)\n",
      "701 µs ± 16.5 µs per loop (mean ± std. dev. of 7 runs, 1000 loops each)\n"
     ]
    }
   ],
   "source": [
    "#Nos generamos un array\n",
    "big_array = np.random.randint(1, 100, size=1000000)\n",
    "\n",
    "#Hacemos la medida de tiempos\n",
    "%timeit sum(big_array)\n",
    "%timeit np.sum(big_array)"
   ]
  },
  {
   "cell_type": "markdown",
   "metadata": {},
   "source": [
    "Debemos tener mucho cuidado ya que se tiene a pensar que la función **sum** y **np.sum** son indénticas y esto no es cierto."
   ]
  },
  {
   "cell_type": "markdown",
   "metadata": {},
   "source": [
    "### Mínimo y máximo"
   ]
  },
  {
   "cell_type": "markdown",
   "metadata": {},
   "source": [
    "Similar a la sumatorio visto anteriormente, Python nos proporciona las funciones **min()** y **max()** para calcular el mínimo y el máximo de un array de elementos."
   ]
  },
  {
   "cell_type": "code",
   "execution_count": 18,
   "metadata": {},
   "outputs": [
    {
     "name": "stdout",
     "output_type": "stream",
     "text": [
      "mínimo big_array :  1\n",
      "máximo big_array :  99\n"
     ]
    }
   ],
   "source": [
    "#Calculamos el mínimo y el máximo\n",
    "print(\"mínimo big_array : \", min(big_array))\n",
    "print(\"máximo big_array : \", max(big_array))"
   ]
  },
  {
   "cell_type": "markdown",
   "metadata": {},
   "source": [
    "Numpy también dispone de **np.min** y **np.max** para calcular estos valores."
   ]
  },
  {
   "cell_type": "code",
   "execution_count": 19,
   "metadata": {},
   "outputs": [
    {
     "name": "stdout",
     "output_type": "stream",
     "text": [
      "mínimo big_array :  1\n",
      "máximo big_array :  99\n"
     ]
    }
   ],
   "source": [
    "#Calculamos el mínimo y el máximo\n",
    "print(\"mínimo big_array : \", np.min(big_array))\n",
    "print(\"máximo big_array : \", np.max(big_array))"
   ]
  },
  {
   "cell_type": "markdown",
   "metadata": {},
   "source": [
    "Y como era de esperar las funciones de Numpy operan de forma más rápida y eficiente."
   ]
  },
  {
   "cell_type": "code",
   "execution_count": 20,
   "metadata": {},
   "outputs": [
    {
     "name": "stdout",
     "output_type": "stream",
     "text": [
      "65.4 ms ± 883 µs per loop (mean ± std. dev. of 7 runs, 10 loops each)\n",
      "1.09 ms ± 35.4 µs per loop (mean ± std. dev. of 7 runs, 1000 loops each)\n"
     ]
    }
   ],
   "source": [
    "%timeit min(big_array)\n",
    "%timeit np.min(big_array)"
   ]
  },
  {
   "cell_type": "markdown",
   "metadata": {},
   "source": [
    "Para las operaciones **min**, **max**, **sum** y otras operaciones en Numpy, podemos hacer uso de una sintáxis corta"
   ]
  },
  {
   "cell_type": "code",
   "execution_count": 22,
   "metadata": {},
   "outputs": [
    {
     "name": "stdout",
     "output_type": "stream",
     "text": [
      "50023168 1 99\n"
     ]
    }
   ],
   "source": [
    "#Hacemos uso de la sintáxis corta\n",
    "print(big_array.sum(), big_array.min(), big_array.max())"
   ]
  },
  {
   "cell_type": "markdown",
   "metadata": {},
   "source": [
    "### Agregaciones multidimensionales"
   ]
  },
  {
   "cell_type": "markdown",
   "metadata": {},
   "source": [
    "Una operación muy común es realizar agregaciones sobre filas o sobre columnas."
   ]
  },
  {
   "cell_type": "code",
   "execution_count": 23,
   "metadata": {},
   "outputs": [
    {
     "name": "stdout",
     "output_type": "stream",
     "text": [
      "[[ 0.46807385  0.47945643  0.63316031  0.43519751]\n",
      " [ 0.42153442  0.89978636  0.22905529  0.78719348]\n",
      " [ 0.34028305  0.92775495  0.60251738  0.39220022]]\n"
     ]
    }
   ],
   "source": [
    "#Nos creamos un array 2-dimensional\n",
    "x = np.random.random((3, 4))\n",
    "print(x)"
   ]
  },
  {
   "cell_type": "markdown",
   "metadata": {},
   "source": [
    "Para realizar agregaciones por fila o columna debemos de especificar el axis, en caso de que axis = 0, realizamos la agregación indicado por columna."
   ]
  },
  {
   "cell_type": "code",
   "execution_count": 24,
   "metadata": {},
   "outputs": [
    {
     "data": {
      "text/plain": [
       "array([ 0.34028305,  0.47945643,  0.22905529,  0.39220022])"
      ]
     },
     "execution_count": 24,
     "metadata": {},
     "output_type": "execute_result"
    }
   ],
   "source": [
    "#Calculamos el mínimo para cada columna\n",
    "x.min(axis = 0)"
   ]
  },
  {
   "cell_type": "markdown",
   "metadata": {},
   "source": [
    "De forma similar si queremos calcular por ejemplo el máximo de cada fila, hacemos uso de axis = 1."
   ]
  },
  {
   "cell_type": "code",
   "execution_count": 25,
   "metadata": {},
   "outputs": [
    {
     "data": {
      "text/plain": [
       "array([ 0.63316031,  0.89978636,  0.92775495])"
      ]
     },
     "execution_count": 25,
     "metadata": {},
     "output_type": "execute_result"
    }
   ],
   "source": [
    "x.max(axis = 1)"
   ]
  },
  {
   "cell_type": "markdown",
   "metadata": {},
   "source": [
    "### Ejemplo con un conjunto de datos real"
   ]
  },
  {
   "cell_type": "markdown",
   "metadata": {},
   "source": [
    "A continuación vamos a proceder a usar las funciones de agregación vistas, con un ejemplo de un conjunto de datos que contiene la altura en centímetros de cada uno de los presidentes de Estados Unidos"
   ]
  },
  {
   "cell_type": "code",
   "execution_count": 28,
   "metadata": {},
   "outputs": [
    {
     "data": {
      "text/html": [
       "<div>\n",
       "<style>\n",
       "    .dataframe thead tr:only-child th {\n",
       "        text-align: right;\n",
       "    }\n",
       "\n",
       "    .dataframe thead th {\n",
       "        text-align: left;\n",
       "    }\n",
       "\n",
       "    .dataframe tbody tr th {\n",
       "        vertical-align: top;\n",
       "    }\n",
       "</style>\n",
       "<table border=\"1\" class=\"dataframe\">\n",
       "  <thead>\n",
       "    <tr style=\"text-align: right;\">\n",
       "      <th></th>\n",
       "      <th>order</th>\n",
       "      <th>name</th>\n",
       "      <th>height(cm)</th>\n",
       "    </tr>\n",
       "  </thead>\n",
       "  <tbody>\n",
       "    <tr>\n",
       "      <th>0</th>\n",
       "      <td>1</td>\n",
       "      <td>George Washington</td>\n",
       "      <td>189</td>\n",
       "    </tr>\n",
       "    <tr>\n",
       "      <th>1</th>\n",
       "      <td>2</td>\n",
       "      <td>John Adams</td>\n",
       "      <td>170</td>\n",
       "    </tr>\n",
       "    <tr>\n",
       "      <th>2</th>\n",
       "      <td>3</td>\n",
       "      <td>Thomas Jefferson</td>\n",
       "      <td>189</td>\n",
       "    </tr>\n",
       "    <tr>\n",
       "      <th>3</th>\n",
       "      <td>4</td>\n",
       "      <td>James Madison</td>\n",
       "      <td>163</td>\n",
       "    </tr>\n",
       "    <tr>\n",
       "      <th>4</th>\n",
       "      <td>5</td>\n",
       "      <td>James Monroe</td>\n",
       "      <td>183</td>\n",
       "    </tr>\n",
       "  </tbody>\n",
       "</table>\n",
       "</div>"
      ],
      "text/plain": [
       "   order               name  height(cm)\n",
       "0      1  George Washington         189\n",
       "1      2         John Adams         170\n",
       "2      3   Thomas Jefferson         189\n",
       "3      4      James Madison         163\n",
       "4      5       James Monroe         183"
      ]
     },
     "execution_count": 28,
     "metadata": {},
     "output_type": "execute_result"
    }
   ],
   "source": [
    "#Cargamos el conjunto de datos\n",
    "import pandas as pd\n",
    "df = pd.read_csv(\"president_heights.csv\")\n",
    "\n",
    "#Vemos las primeras observaciones de nuestro conjunto de datos\n",
    "df.head()"
   ]
  },
  {
   "cell_type": "code",
   "execution_count": 31,
   "metadata": {},
   "outputs": [
    {
     "name": "stdout",
     "output_type": "stream",
     "text": [
      "[189 170 189 163 183 171 185 168 173 183 173 173 175 178 183 193 178 173\n",
      " 174 183 183 168 170 178 182 180 183 178 182 188 175 179 183 193 182 183\n",
      " 177 185 188 188 182 185]\n"
     ]
    }
   ],
   "source": [
    "#Extraemos la altura y la pasamos a tipo numpy array\n",
    "heights = np.array(df[\"height(cm)\"])\n",
    "print(heights)"
   ]
  },
  {
   "cell_type": "code",
   "execution_count": 32,
   "metadata": {},
   "outputs": [
    {
     "name": "stdout",
     "output_type": "stream",
     "text": [
      "min :  163\n",
      "max :  193\n",
      "mean :  179.738095238\n",
      "std :  6.93184344275\n"
     ]
    }
   ],
   "source": [
    "#Obtenemos diferentes estadísticos respecto a la altura\n",
    "print(\"min : \",heights.min())\n",
    "print(\"max : \", heights.max())\n",
    "print(\"mean : \", heights.mean())\n",
    "print(\"std : \", heights.std())"
   ]
  },
  {
   "cell_type": "markdown",
   "metadata": {},
   "source": [
    "Ahora vamos a proceder a calcular los quantiles."
   ]
  },
  {
   "cell_type": "code",
   "execution_count": 33,
   "metadata": {},
   "outputs": [
    {
     "name": "stdout",
     "output_type": "stream",
     "text": [
      "25th percentile :  174.25\n",
      "median :  182.0\n",
      "75th percentile :  183.0\n"
     ]
    }
   ],
   "source": [
    "#Calculamos los quantiles 25, 50 y 75\n",
    "print(\"25th percentile : \", np.percentile(heights, 25))\n",
    "print(\"median : \", np.percentile(heights, 50))\n",
    "print(\"75th percentile : \", np.percentile(heights, 75))"
   ]
  },
  {
   "cell_type": "markdown",
   "metadata": {},
   "source": [
    "Podemos visualizar como la distribución de alturas de nuestra array haciendo uso de la librería matplotlib."
   ]
  },
  {
   "cell_type": "code",
   "execution_count": 43,
   "metadata": {},
   "outputs": [
    {
     "data": {
      "text/plain": [
       "Text(0,0.5,'número')"
      ]
     },
     "execution_count": 43,
     "metadata": {},
     "output_type": "execute_result"
    },
    {
     "data": {
      "image/png": "[encoded data removed]",
      "text/plain": [
       "<matplotlib.figure.Figure at 0x7f873209b7b8>"
      ]
     },
     "metadata": {},
     "output_type": "display_data"
    }
   ],
   "source": [
    "%matplotlib inline\n",
    "import matplotlib.pyplot as plt\n",
    "import seaborn; seaborn.set()\n",
    "\n",
    "plt.hist(heights, ec = \"black\")\n",
    "plt.title(\"Distribución de alturas de los presidentes de USA\")\n",
    "plt.xlabel(\"Altura (cm)\")\n",
    "plt.ylabel(\"número\")"
   ]
  },
  {
   "cell_type": "markdown",
   "metadata": {},
   "source": [
    "# Computación con Arrays: Broadcasting"
   ]
  },
  {
   "cell_type": "markdown",
   "metadata": {},
   "source": [
    "En la sección anterior hemos visto como las funciones universales de Numpy pueden ser utlizadas para vectorizar operaciones y así evitarnos realizar bucles que son muy lentos. Broadcasting son un conjunto de reglas que se pueden aplicar a las funciones universales como (suma, resta, multiplicación, etc) en arrays de diferentes tamaños."
   ]
  },
  {
   "cell_type": "markdown",
   "metadata": {},
   "source": [
    "## Introducción al Broadcasting"
   ]
  },
  {
   "cell_type": "markdown",
   "metadata": {},
   "source": [
    "Recordar que para arrays de igual tamaño, las operaciones se realizan elemento a elemento."
   ]
  },
  {
   "cell_type": "code",
   "execution_count": 44,
   "metadata": {},
   "outputs": [
    {
     "name": "stdout",
     "output_type": "stream",
     "text": [
      "[5 6 7]\n"
     ]
    }
   ],
   "source": [
    "#Nos generamos dos arrays de igual tamaño\n",
    "a = np.array([0, 1 ,2])\n",
    "b = np.array([5, 5, 5])\n",
    "\n",
    "#Realizamos la operación de suma\n",
    "print(np.add(a, b))"
   ]
  },
  {
   "cell_type": "markdown",
   "metadata": {},
   "source": [
    "Broadcasting permite que este tipo de operaciones puedan ser realizadas con arrays de tamaño diferente. Por ejemplo, podemos agregar un escalar a una matriz."
   ]
  },
  {
   "cell_type": "code",
   "execution_count": 46,
   "metadata": {},
   "outputs": [
    {
     "name": "stdout",
     "output_type": "stream",
     "text": [
      "[5 6 7]\n"
     ]
    }
   ],
   "source": [
    "print(np.add(a, 5))"
   ]
  },
  {
   "cell_type": "markdown",
   "metadata": {},
   "source": [
    "Para entender esta operacion podemos verla como una operación que estira o duplica el valor 5 en la array [5, 5, 5] y suma el resultado. La ventaja del Broadcasting de Numpy es que esta duplicación no es realizada."
   ]
  },
  {
   "cell_type": "markdown",
   "metadata": {},
   "source": [
    "Esto se puede extender a arrays de mayor dimensionalidad."
   ]
  },
  {
   "cell_type": "code",
   "execution_count": 47,
   "metadata": {},
   "outputs": [
    {
     "name": "stdout",
     "output_type": "stream",
     "text": [
      "[[ 1.  2.  3.]\n",
      " [ 1.  2.  3.]\n",
      " [ 1.  2.  3.]]\n"
     ]
    }
   ],
   "source": [
    "#Nos creamos un array 2-dimensional de unos \n",
    "M = np.ones((3,3))\n",
    "\n",
    "#Ahora le sumamos a M el array a\n",
    "print(np.add(M, a))"
   ]
  },
  {
   "cell_type": "markdown",
   "metadata": {},
   "source": [
    "En este caso el array 1-dimensional se estira a través de la segunda dimensión para que coincida con la dimensión de M."
   ]
  },
  {
   "cell_type": "markdown",
   "metadata": {},
   "source": [
    "El broadcasting también puede ser realizado no en una sola array sino en ambas arrays a la hora de realizar la operación."
   ]
  },
  {
   "cell_type": "code",
   "execution_count": 48,
   "metadata": {},
   "outputs": [
    {
     "name": "stdout",
     "output_type": "stream",
     "text": [
      "[[0 1 2]\n",
      " [1 2 3]\n",
      " [2 3 4]]\n"
     ]
    }
   ],
   "source": [
    "#Nos creamos dos arrays\n",
    "a = np.arange(3)\n",
    "b = np.arange(3)[:, np.newaxis]\n",
    "\n",
    "#Realizamos la suma\n",
    "print(np.add(a, b))"
   ]
  },
  {
   "cell_type": "markdown",
   "metadata": {},
   "source": [
    "## Reglas de Broadcasting"
   ]
  },
  {
   "cell_type": "markdown",
   "metadata": {},
   "source": [
    "El Broadcasting en Numpy sigue un conjunto de reglas de forma estricta para determinar la iteracción entre dos arrays:\n",
    "\n",
    "* Si dos arrays difieren en dimensión, el array con menor dimensión es padeado con unos en su parte izquierda.\n",
    "\n",
    "* Si el tamaño de dos arrays no coincide en ninguna de sus dimensiones, el array que en alguna de sus dimensiones tiene tamaño 1 es estirada hasta machear en dicha dimensión con el array que se pretende realizar la operación\n",
    "\n",
    "* Si tras realizar lo indicado anteriormente no se puede realizar la operación salta un error."
   ]
  },
  {
   "cell_type": "markdown",
   "metadata": {},
   "source": [
    "## Broadcasting en la práctica"
   ]
  },
  {
   "cell_type": "markdown",
   "metadata": {},
   "source": [
    "A continuación veremos una serie de ejemplos donde el Broadcasting resulta útil."
   ]
  },
  {
   "cell_type": "markdown",
   "metadata": {},
   "source": [
    "### Centrando un array"
   ]
  },
  {
   "cell_type": "markdown",
   "metadata": {},
   "source": [
    "Supongamos que tenemos un array de tamaño 10x3 y deseamos centrar esta array."
   ]
  },
  {
   "cell_type": "code",
   "execution_count": 52,
   "metadata": {},
   "outputs": [
    {
     "name": "stdout",
     "output_type": "stream",
     "text": [
      "[ 0.5419654   0.56569219  0.46549911]\n"
     ]
    }
   ],
   "source": [
    "#Nos creamos un array de tamaño 10x3\n",
    "X = np.random.random((10, 3))\n",
    "\n",
    "#Calculamos la media de nuestros a traves de la primera dimension\n",
    "X_mean = X.mean(axis = 0)\n",
    "print(X_mean)"
   ]
  },
  {
   "cell_type": "code",
   "execution_count": 53,
   "metadata": {},
   "outputs": [
    {
     "name": "stdout",
     "output_type": "stream",
     "text": [
      "[[ 0.0268011   0.32073894  0.49732084]\n",
      " [-0.09019034  0.28177825  0.06697962]\n",
      " [-0.05927478 -0.03970055 -0.10076742]\n",
      " [ 0.32571789 -0.31155094  0.40860387]\n",
      " [-0.31389456  0.37620939  0.12244252]\n",
      " [ 0.03836286  0.41368988 -0.02762992]\n",
      " [ 0.17645227 -0.46378357 -0.4091068 ]\n",
      " [ 0.00130871 -0.03564468 -0.24048997]\n",
      " [-0.42121457 -0.43350378  0.03695629]\n",
      " [ 0.31593141 -0.10823294 -0.35430903]]\n"
     ]
    }
   ],
   "source": [
    "#Ahora centramos nuestra array restando la media (en este caso se trata de una operación de Broadcasting)\n",
    "X_centrada = np.subtract(X, X_mean)\n",
    "print(X_centrada)"
   ]
  },
  {
   "cell_type": "markdown",
   "metadata": {},
   "source": [
    "### Trazando arrays de dos dimensiones "
   ]
  },
  {
   "cell_type": "markdown",
   "metadata": {},
   "source": [
    "El broadcasting en bastante útil a la hora de mostrar imágenes basadas en funciones bidimensionales. Si queremos definir la función z = f(x,y), Broadcasting puede ser utilizado para calcular la función"
   ]
  },
  {
   "cell_type": "code",
   "execution_count": 55,
   "metadata": {},
   "outputs": [
    {
     "data": {
      "text/plain": [
       "<matplotlib.colorbar.Colorbar at 0x7f873243d898>"
      ]
     },
     "execution_count": 55,
     "metadata": {},
     "output_type": "execute_result"
    },
    {
     "data": {
      "image/png": "[encoded data removed]",
      "text/plain": [
       "<matplotlib.figure.Figure at 0x7f8732060be0>"
      ]
     },
     "metadata": {},
     "output_type": "display_data"
    }
   ],
   "source": [
    "#Nos definimos la x y la y \n",
    "x = np.linspace(0, 5, 50)\n",
    "y = np.linspace(0, 5, 50)[:, np.newaxis]\n",
    "\n",
    "#Computamos la función z\n",
    "z = np.sin(x) ** 10 + np.cos(10 + y * x) * np.cos(x)\n",
    "\n",
    "#Hacemos uso de matplotlib para representar los resultados\n",
    "%matplotlib inline\n",
    "import matplotlib.pyplot as plt\n",
    "plt.imshow(z, origin = \"lower\", extent = [0, 5, 0, 5], cmap = \"viridis\")\n",
    "plt.colorbar()"
   ]
  },
  {
   "cell_type": "markdown",
   "metadata": {
    "collapsed": true
   },
   "source": [
    "# Comparaciones, máscaras y lógica booleana"
   ]
  },
  {
   "cell_type": "markdown",
   "metadata": {},
   "source": [
    "Esta sección cubre la parte de máscaras booleanas para examinar y manipular valores en Arrays. Las máscaras son útiles cuando queremos modificar, extraer, contar o cualquier otra operación valores de un array básandonos en algún tipo de criterio. En Numpy las máscaras booleanas son la forma más eficiente de realizar este tipo de tareas."
   ]
  },
  {
   "cell_type": "markdown",
   "metadata": {},
   "source": [
    "## Ejemplo: contando días lluviosos"
   ]
  },
  {
   "cell_type": "markdown",
   "metadata": {},
   "source": [
    "El conjunto de datos Seattle2014.csv contiene las precipitaciones durante el año 2014 de la ciudad de Seattle. A continuación vamos a proceder a realizar un resumen estadístico de los días lluviosos."
   ]
  },
  {
   "cell_type": "code",
   "execution_count": 1,
   "metadata": {},
   "outputs": [
    {
     "data": {
      "text/plain": [
       "(365,)"
      ]
     },
     "execution_count": 1,
     "metadata": {},
     "output_type": "execute_result"
    }
   ],
   "source": [
    "import numpy as np\n",
    "import pandas as pd\n",
    "\n",
    "#Cargamos los datos y extraemos los datos de la columna PRCP que nos indica las precipitaciones\n",
    "rainfall = pd.read_csv(\"Seattle2014.csv\")[\"PRCP\"].values\n",
    "\n",
    "#Pasamos a inches\n",
    "inches = rainfall / 254\n",
    "#Mostramos el tamaña\n",
    "inches.shape"
   ]
  },
  {
   "cell_type": "markdown",
   "metadata": {},
   "source": [
    "En primer lugar vamos a proceder a representar el histograma, que nos permitirá ver la distribución."
   ]
  },
  {
   "cell_type": "code",
   "execution_count": 3,
   "metadata": {},
   "outputs": [
    {
     "data": {
      "text/plain": [
       "(array([ 245.,   14.,   13.,   17.,    8.,    6.,    5.,    6.,    4.,\n",
       "           3.,    7.,    6.,    3.,    3.,    3.,    4.,    4.,    2.,\n",
       "           4.,    0.,    0.,    1.,    1.,    1.,    0.,    0.,    0.,\n",
       "           2.,    1.,    1.,    0.,    0.,    0.,    0.,    0.,    0.,\n",
       "           0.,    0.,    0.,    1.]),\n",
       " array([ 0.        ,  0.04596457,  0.09192913,  0.1378937 ,  0.18385827,\n",
       "         0.22982283,  0.2757874 ,  0.32175197,  0.36771654,  0.4136811 ,\n",
       "         0.45964567,  0.50561024,  0.5515748 ,  0.59753937,  0.64350394,\n",
       "         0.6894685 ,  0.73543307,  0.78139764,  0.8273622 ,  0.87332677,\n",
       "         0.91929134,  0.96525591,  1.01122047,  1.05718504,  1.10314961,\n",
       "         1.14911417,  1.19507874,  1.24104331,  1.28700787,  1.33297244,\n",
       "         1.37893701,  1.42490157,  1.47086614,  1.51683071,  1.56279528,\n",
       "         1.60875984,  1.65472441,  1.70068898,  1.74665354,  1.79261811,\n",
       "         1.83858268]),\n",
       " <a list of 40 Patch objects>)"
      ]
     },
     "execution_count": 3,
     "metadata": {},
     "output_type": "execute_result"
    },
    {
     "data": {
      "image/png": "[encoded data removed]",
      "text/plain": [
       "<matplotlib.figure.Figure at 0x7f37d21b1e48>"
      ]
     },
     "metadata": {},
     "output_type": "display_data"
    }
   ],
   "source": [
    "%matplotlib inline\n",
    "import matplotlib.pyplot as plt\n",
    "import seaborn; seaborn.set()\n",
    "\n",
    "plt.hist(inches, 40, ec = \"black\")"
   ]
  },
  {
   "cell_type": "markdown",
   "metadata": {},
   "source": [
    "Podemos ver como la gran mayorías de los días en 2014, la ciudad de Seattle no tuvo ningún de precipitaciones. Pero también nos podría venir bien conocer algún tipo de información adicional: número de días con precipitaciones a lo largo del año, el promedio de precipitaciones durante estos días lluviosos etc."
   ]
  },
  {
   "cell_type": "markdown",
   "metadata": {},
   "source": [
    "## Comparaciones como funciones universales"
   ]
  },
  {
   "cell_type": "markdown",
   "metadata": {},
   "source": [
    "Numpy también implementa los operadores **>** (mayor que) y **<** (menor que) como funciones universales. El resultado tras aplicar estos operadores es un array de tipo booleana. Las seis comparaciones más típicas están disponibles en Numpy."
   ]
  },
  {
   "cell_type": "code",
   "execution_count": 6,
   "metadata": {},
   "outputs": [
    {
     "name": "stdout",
     "output_type": "stream",
     "text": [
      "[ True  True False False]\n",
      "[ True  True False False]\n"
     ]
    }
   ],
   "source": [
    "#Nos generamos un array\n",
    "x = np.array([1, 2, 3, 4])\n",
    "\n",
    "#Vemos los elementos que son menores que 3\n",
    "print(x < 3)\n",
    "print(np.less(x, 3))"
   ]
  },
  {
   "cell_type": "code",
   "execution_count": 7,
   "metadata": {},
   "outputs": [
    {
     "name": "stdout",
     "output_type": "stream",
     "text": [
      "[False False False  True]\n",
      "[False False False  True]\n"
     ]
    }
   ],
   "source": [
    "#Vemos los elementos que son mayores que tres\n",
    "print(x > 3)\n",
    "print(np.greater(x, 3))"
   ]
  },
  {
   "cell_type": "code",
   "execution_count": 8,
   "metadata": {},
   "outputs": [
    {
     "name": "stdout",
     "output_type": "stream",
     "text": [
      "[ True  True False False]\n",
      "[ True  True False False]\n"
     ]
    }
   ],
   "source": [
    "#Vemos los elementos que son menores o igual que dos\n",
    "print(x <= 2)\n",
    "print(np.less_equal(x, 2))"
   ]
  },
  {
   "cell_type": "code",
   "execution_count": 9,
   "metadata": {},
   "outputs": [
    {
     "name": "stdout",
     "output_type": "stream",
     "text": [
      "[False  True  True  True]\n",
      "[False  True  True  True]\n"
     ]
    }
   ],
   "source": [
    "#Vemos los elementos que son mayores igual que dos\n",
    "print(x >= 2)\n",
    "print(np.greater_equal(x, 2))"
   ]
  },
  {
   "cell_type": "code",
   "execution_count": 10,
   "metadata": {},
   "outputs": [
    {
     "name": "stdout",
     "output_type": "stream",
     "text": [
      "[False  True  True  True]\n",
      "[False  True  True  True]\n"
     ]
    }
   ],
   "source": [
    "#Vemos los elementos que son diferentes a 1\n",
    "print(x != 1)\n",
    "print(np.not_equal(x, 1))"
   ]
  },
  {
   "cell_type": "code",
   "execution_count": 11,
   "metadata": {},
   "outputs": [
    {
     "name": "stdout",
     "output_type": "stream",
     "text": [
      "[False  True False False]\n",
      "[False  True False False]\n"
     ]
    }
   ],
   "source": [
    "#Vemos los elementos que son igual a 2\n",
    "print(x == 2)\n",
    "print(np.equal(x, 2))"
   ]
  },
  {
   "cell_type": "markdown",
   "metadata": {},
   "source": [
    "Al igual que las funciones universales aritméticas, funcionar para un array de cualquier tamaño y forma."
   ]
  },
  {
   "cell_type": "markdown",
   "metadata": {},
   "source": [
    "#Nos creamos un array 2-dimensional\n",
    "rng = np.random.RandomState(0)\n",
    "x = rng.randint(10, size=(3, 4))\n",
    "\n",
    "#Vemos que valores son menores que 6\n",
    "print(x < 6)\n",
    "print(np.less(x, 6))"
   ]
  },
  {
   "cell_type": "markdown",
   "metadata": {},
   "source": [
    "Podemos ver que el resultado es un array de tipo booleana de igual dimensión que el array original."
   ]
  },
  {
   "cell_type": "markdown",
   "metadata": {},
   "source": [
    "## Trabajando con arrays booleanas"
   ]
  },
  {
   "cell_type": "markdown",
   "metadata": {},
   "source": [
    "Dada un array podemos hacer uso de una gran cantidad de operaciones que nos permitirán facilitarnos la vida en el análisis de datos."
   ]
  },
  {
   "cell_type": "code",
   "execution_count": 15,
   "metadata": {},
   "outputs": [
    {
     "name": "stdout",
     "output_type": "stream",
     "text": [
      "[[5 0 3 3]\n",
      " [7 9 3 5]\n",
      " [2 4 7 6]]\n"
     ]
    }
   ],
   "source": [
    "#Mostramos la matriz con la que vamos a trabajar\n",
    "print(x)"
   ]
  },
  {
   "cell_type": "markdown",
   "metadata": {},
   "source": [
    "### Contando entradas"
   ]
  },
  {
   "cell_type": "markdown",
   "metadata": {},
   "source": [
    "Para ver el número de entradas que son verdaderas en un array podemos hacer uso de **np.count_nonzero** "
   ]
  },
  {
   "cell_type": "code",
   "execution_count": 16,
   "metadata": {},
   "outputs": [
    {
     "name": "stdout",
     "output_type": "stream",
     "text": [
      "8\n"
     ]
    }
   ],
   "source": [
    "print(np.count_nonzero(np.less(x, 6)))"
   ]
  },
  {
   "cell_type": "markdown",
   "metadata": {},
   "source": [
    "También podemos hacer uso de **np.sum** que los que hace es interpretar **False** como 0 y **True** como 1. "
   ]
  },
  {
   "cell_type": "code",
   "execution_count": 17,
   "metadata": {},
   "outputs": [
    {
     "name": "stdout",
     "output_type": "stream",
     "text": [
      "8\n"
     ]
    }
   ],
   "source": [
    "print(np.sum(np.less(x, 6)))"
   ]
  },
  {
   "cell_type": "markdown",
   "metadata": {},
   "source": [
    "La ventaja que nos proporciona **np.sum** es que esta no spuede retornar los valores tanto del total, como por filas o columnas, ya que dispone del argumento **axis** que si toma el valor 0 nos retorna el valor por columnas y si toma el valor 1 nos retorna el resultado por filas."
   ]
  },
  {
   "cell_type": "code",
   "execution_count": 19,
   "metadata": {},
   "outputs": [
    {
     "name": "stdout",
     "output_type": "stream",
     "text": [
      "[4 2 2]\n"
     ]
    }
   ],
   "source": [
    "print(np.sum(np.less(x, 6), axis = 1))"
   ]
  },
  {
   "cell_type": "markdown",
   "metadata": {},
   "source": [
    "Si lo queremos es chequear si una determinada array completa todos sus valores son exactamente los mismo podemos hacer uso de **np.all**. Si queremos ver si dentro de una array existe al menos un determinado valor podemos hacer uso de **np.any**."
   ]
  },
  {
   "cell_type": "code",
   "execution_count": 20,
   "metadata": {},
   "outputs": [
    {
     "name": "stdout",
     "output_type": "stream",
     "text": [
      "True\n"
     ]
    }
   ],
   "source": [
    "#Comprobamos si en nuestra array existe al menos un valor mayor que 8\n",
    "print(np.any(np.greater(x, 8)))"
   ]
  },
  {
   "cell_type": "code",
   "execution_count": 21,
   "metadata": {},
   "outputs": [
    {
     "name": "stdout",
     "output_type": "stream",
     "text": [
      "False\n"
     ]
    }
   ],
   "source": [
    "#Comprobamos si en nuestra array existe al menos un valor menor que 0\n",
    "print(np.any(np.less(x, 0)))"
   ]
  },
  {
   "cell_type": "code",
   "execution_count": 22,
   "metadata": {},
   "outputs": [
    {
     "name": "stdout",
     "output_type": "stream",
     "text": [
      "True\n"
     ]
    }
   ],
   "source": [
    "#Comprobamos si todos los valores de nuestra array son positivos\n",
    "print(np.all(np.greater_equal(x, 0)))"
   ]
  },
  {
   "cell_type": "code",
   "execution_count": 23,
   "metadata": {},
   "outputs": [
    {
     "name": "stdout",
     "output_type": "stream",
     "text": [
      "False\n"
     ]
    }
   ],
   "source": [
    "#Comprobamos si todos los valores de nuestra array son mayores que cero\n",
    "print(np.all(np.greater(x, 0)))"
   ]
  },
  {
   "cell_type": "markdown",
   "metadata": {},
   "source": [
    "Estas dos funciones también pueden ser aplicadas a lo largo de filas o columnas."
   ]
  },
  {
   "cell_type": "code",
   "execution_count": 26,
   "metadata": {},
   "outputs": [
    {
     "name": "stdout",
     "output_type": "stream",
     "text": [
      "[False False False False]\n"
     ]
    }
   ],
   "source": [
    "#Vemos para cada columna si todos sus valores son mayores que 5\n",
    "print(np.all(np.greater(x, 5), axis = 0))"
   ]
  },
  {
   "cell_type": "code",
   "execution_count": 27,
   "metadata": {},
   "outputs": [
    {
     "name": "stdout",
     "output_type": "stream",
     "text": [
      "[False  True  True]\n"
     ]
    }
   ],
   "source": [
    "#Vemos si para cada fila todos los valores son mayores que 0\n",
    "print(np.all(np.greater(x, 0), axis = 1))"
   ]
  },
  {
   "cell_type": "markdown",
   "metadata": {},
   "source": [
    "Python también dispone de las funciones **sum**, **all** y **any**, pero estas tienen un sintáxis diferente a las de Numpy incluso para el caso de arrays multidimensionales nos pueden producir errores, por lo que cuando estemos trabajando con arrays es mejor hacer uso de las funciones de Numpy."
   ]
  },
  {
   "cell_type": "markdown",
   "metadata": {},
   "source": [
    "### Operadores Booleanos"
   ]
  },
  {
   "cell_type": "markdown",
   "metadata": {},
   "source": [
    "Ya estamos preparados para ver el número de días en los que el número de precipitaciones fueron superior a cero, o superior/menor a un determinado valor. Pero, ¿y si queremos conocer los días en los cuales se produjeron precipitaciones entre dos determinados valores?. Para este tipo de cosas tenemos los operadores booleanos: **&**, **|**."
   ]
  },
  {
   "cell_type": "markdown",
   "metadata": {},
   "source": [
    "Supongamos que queremos conocer el número de días en los cuales se tuvieron precipitaciones mayores que cero pero menores a 0.5."
   ]
  },
  {
   "cell_type": "code",
   "execution_count": 28,
   "metadata": {},
   "outputs": [
    {
     "data": {
      "text/plain": [
       "111"
      ]
     },
     "execution_count": 28,
     "metadata": {},
     "output_type": "execute_result"
    }
   ],
   "source": [
    "#Ejecutamos la expresión booleana que nos permite obtener el resultado\n",
    "np.sum((inches > 0) & (inches < 0.5))"
   ]
  },
  {
   "cell_type": "markdown",
   "metadata": {},
   "source": [
    "Podemos ver que esto ocurrió en 111 días."
   ]
  },
  {
   "cell_type": "markdown",
   "metadata": {},
   "source": [
    "Ahora con los visto podemos calcular varias cosas respecto a las precipitaciones de Seattle en el año 2014."
   ]
  },
  {
   "cell_type": "code",
   "execution_count": 35,
   "metadata": {},
   "outputs": [
    {
     "name": "stdout",
     "output_type": "stream",
     "text": [
      "Dias sin precipitaciones :  215\n",
      "Dias con precipitaciones :  150\n",
      "Precipitaciones entre 0.5 y 1 :  29\n"
     ]
    }
   ],
   "source": [
    "print(\"Dias sin precipitaciones : \", np.count_nonzero(np.equal(inches, 0)))\n",
    "print(\"Dias con precipitaciones : \", np.count_nonzero(np.not_equal(inches, 0)))\n",
    "print(\"Precipitaciones entre 0.5 y 1 : \", np.sum((inches > 0.5) & (inches < 1)))"
   ]
  },
  {
   "cell_type": "markdown",
   "metadata": {
    "collapsed": true
   },
   "source": [
    "# Arrays booleanas como máscaras"
   ]
  },
  {
   "cell_type": "markdown",
   "metadata": {},
   "source": [
    "Las máscaras booleanas nos permiter seleccionar un subconjunto de elementos de un array. Supongamos que dado un array queremos seleccionar aquellos elementos de nuestra array que cumplen que son menores que 5."
   ]
  },
  {
   "cell_type": "code",
   "execution_count": 2,
   "metadata": {},
   "outputs": [
    {
     "name": "stdout",
     "output_type": "stream",
     "text": [
      "[0 3 3 3 2 4]\n"
     ]
    }
   ],
   "source": [
    "#Nos creamos un array 2-dimensional\n",
    "import numpy as np\n",
    "rng = np.random.RandomState(0)\n",
    "x = rng.randint(10, size=(3, 4))\n",
    "\n",
    "#Seleccionamos los elementos que son menores que 5\n",
    "print(x[x < 5])"
   ]
  },
  {
   "cell_type": "markdown",
   "metadata": {},
   "source": [
    "Como podemos ver obtenemos un array 1-dimensional, con los elementos que cumplen la condición indicada. Combinando distintas operaciones podemos crear distintas máscaras que nos permitiran responder de forma sencilla a numerosas preguntas."
   ]
  },
  {
   "cell_type": "markdown",
   "metadata": {},
   "source": [
    "# Usando las palabras clave and y or vs & y |"
   ]
  },
  {
   "cell_type": "markdown",
   "metadata": {},
   "source": [
    "Un punto común de confusión es la diferencia existente entre hacer uso de las palabras clave **and** y **or** y hacer uso de los operadores **&** y **|**. La diferencia es que los operadores **and** y **or** operan respecto un objeto completo mientras que los operadores **&** y **|** operan sobre los bits de dentro de cada objeto."
   ]
  },
  {
   "cell_type": "markdown",
   "metadata": {},
   "source": [
    "Cuando hacemos uso de los operadores **and** y **or**, lo que hacemos es pedirle a Python que trate el objeto como una única entidad booleana. En Python todos los enteros distintos de 0 son evaluados como True."
   ]
  },
  {
   "cell_type": "code",
   "execution_count": 4,
   "metadata": {},
   "outputs": [
    {
     "data": {
      "text/plain": [
       "(True, False)"
      ]
     },
     "execution_count": 4,
     "metadata": {},
     "output_type": "execute_result"
    }
   ],
   "source": [
    "bool(42), bool(0)"
   ]
  },
  {
   "cell_type": "code",
   "execution_count": 5,
   "metadata": {},
   "outputs": [
    {
     "data": {
      "text/plain": [
       "False"
      ]
     },
     "execution_count": 5,
     "metadata": {},
     "output_type": "execute_result"
    }
   ],
   "source": [
    "bool(42 and 0)"
   ]
  },
  {
   "cell_type": "code",
   "execution_count": 6,
   "metadata": {},
   "outputs": [
    {
     "data": {
      "text/plain": [
       "True"
      ]
     },
     "execution_count": 6,
     "metadata": {},
     "output_type": "execute_result"
    }
   ],
   "source": [
    "bool(42 | 0)"
   ]
  },
  {
   "cell_type": "markdown",
   "metadata": {},
   "source": [
    "Cuando hacemos uso de los operadores **&** y **|**, la expresión opera en los bits de los elementos aplicando **and** y **or** a cada uno de los bits individuales."
   ]
  },
  {
   "cell_type": "code",
   "execution_count": 7,
   "metadata": {},
   "outputs": [
    {
     "data": {
      "text/plain": [
       "'0b101010'"
      ]
     },
     "execution_count": 7,
     "metadata": {},
     "output_type": "execute_result"
    }
   ],
   "source": [
    "bin(42)"
   ]
  },
  {
   "cell_type": "code",
   "execution_count": 8,
   "metadata": {},
   "outputs": [
    {
     "data": {
      "text/plain": [
       "'0b111011'"
      ]
     },
     "execution_count": 8,
     "metadata": {},
     "output_type": "execute_result"
    }
   ],
   "source": [
    "bin(59)"
   ]
  },
  {
   "cell_type": "code",
   "execution_count": 10,
   "metadata": {},
   "outputs": [
    {
     "data": {
      "text/plain": [
       "'0b111011'"
      ]
     },
     "execution_count": 10,
     "metadata": {},
     "output_type": "execute_result"
    }
   ],
   "source": [
    "bin(42 | 59)"
   ]
  },
  {
   "cell_type": "code",
   "execution_count": 11,
   "metadata": {},
   "outputs": [
    {
     "data": {
      "text/plain": [
       "'0b101010'"
      ]
     },
     "execution_count": 11,
     "metadata": {},
     "output_type": "execute_result"
    }
   ],
   "source": [
    "bin(42 & 59)"
   ]
  },
  {
   "cell_type": "markdown",
   "metadata": {},
   "source": [
    "Cuando tenemos un array de booleanos (True, False) en Numpy, esto se considera como cadenas de bits donde True = 1 y False = 0 y por lo tanto el uso de los operadores **and**, **or**, **&** y **|** se puede extrapolar a lo visto anteriormente."
   ]
  },
  {
   "cell_type": "code",
   "execution_count": 14,
   "metadata": {},
   "outputs": [
    {
     "name": "stdout",
     "output_type": "stream",
     "text": [
      "[ True  True  True False  True  True]\n"
     ]
    }
   ],
   "source": [
    "#Generamos dos arrays\n",
    "A = np.array([1, 0, 1, 0, 1, 0], dtype=bool)\n",
    "B = np.array([1, 1, 1, 0, 1, 1], dtype=bool)\n",
    "\n",
    "#Vemos el resultado de aplicar el operador |\n",
    "print(A|B)"
   ]
  },
  {
   "cell_type": "code",
   "execution_count": 15,
   "metadata": {},
   "outputs": [
    {
     "ename": "ValueError",
     "evalue": "The truth value of an array with more than one element is ambiguous. Use a.any() or a.all()",
     "output_type": "error",
     "traceback": [
      "\u001b[0;31m---------------------------------------------------------------------------\u001b[0m",
      "\u001b[0;31mValueError\u001b[0m                                Traceback (most recent call last)",
      "\u001b[0;32m<ipython-input-15-f495d293256d>\u001b[0m in \u001b[0;36m<module>\u001b[0;34m()\u001b[0m\n\u001b[1;32m      1\u001b[0m \u001b[0;31m#Vemos el resultado de aplicar el operador or\u001b[0m\u001b[0;34m\u001b[0m\u001b[0;34m\u001b[0m\u001b[0m\n\u001b[0;32m----> 2\u001b[0;31m \u001b[0mprint\u001b[0m\u001b[0;34m(\u001b[0m\u001b[0mA\u001b[0m \u001b[0;32mor\u001b[0m \u001b[0mB\u001b[0m\u001b[0;34m)\u001b[0m\u001b[0;34m\u001b[0m\u001b[0m\n\u001b[0m",
      "\u001b[0;31mValueError\u001b[0m: The truth value of an array with more than one element is ambiguous. Use a.any() or a.all()"
     ]
    }
   ],
   "source": [
    "#Vemos el resultado de aplicar el operador or\n",
    "print(A or B)"
   ]
  },
  {
   "cell_type": "markdown",
   "metadata": {},
   "source": [
    "Al intentar hacer uso del operador **or** estamos intentando evaluar la matriz completa, y esto es algo que no está definido."
   ]
  },
  {
   "cell_type": "markdown",
   "metadata": {},
   "source": [
    "**Debemos de recordar que los operadores and y or realizan una sola operación booleana sobre un objeto completo, mientras que los operadores & y | permiten realizar operaciones booleana múltiples en el contenido de un objeto.**"
   ]
  },
  {
   "cell_type": "markdown",
   "metadata": {
    "collapsed": true
   },
   "source": [
    "# Indexado elegante"
   ]
  },
  {
   "cell_type": "code",
   "execution_count": 5,
   "metadata": {},
   "outputs": [
    {
     "name": "stdout",
     "output_type": "stream",
     "text": [
      "[51, 92, 14]\n",
      "[51 92 14]\n"
     ]
    }
   ],
   "source": [
    "#Nos creamos un array de números aleatorios\n",
    "rand = np.random.RandomState(42)\n",
    "x = rand.randint(100, size = 10)\n",
    "\n",
    "#Accedemos a los tres primeros elementos\n",
    "aux = [x[0], x[1], x[2]]\n",
    "print(aux)\n",
    "\n",
    "#Accedemos mediante un array de índices\n",
    "ind = [0,1,2]\n",
    "print(x[ind])"
   ]
  },
  {
   "cell_type": "markdown",
   "metadata": {},
   "source": [
    "Fancy indexing es conceptualmente muy simple: podemos crearnos un array de índices para acceder a múltiples elementos a la vez. "
   ]
  },
  {
   "cell_type": "markdown",
   "metadata": {},
   "source": [
    "La forma de la variable índices es la forma en la cual obtendremos nuestra indexación."
   ]
  },
  {
   "cell_type": "code",
   "execution_count": 8,
   "metadata": {},
   "outputs": [
    {
     "name": "stdout",
     "output_type": "stream",
     "text": [
      "[[92 14]\n",
      " [71 60]]\n"
     ]
    }
   ],
   "source": [
    "#Nos creamos una matriz de índices 2x2\n",
    "indices = np.array([[1,2], [3,4]])\n",
    "print(x[indices])"
   ]
  },
  {
   "cell_type": "markdown",
   "metadata": {},
   "source": [
    "Fancy indexing también funciona con arrays de más de una dimensión."
   ]
  },
  {
   "cell_type": "code",
   "execution_count": 9,
   "metadata": {},
   "outputs": [
    {
     "name": "stdout",
     "output_type": "stream",
     "text": [
      "[[ 0  1  2  3]\n",
      " [ 4  5  6  7]\n",
      " [ 8  9 10 11]]\n"
     ]
    }
   ],
   "source": [
    "#Nos creamos un array multidimensional\n",
    "X = np.arange(12).reshape((3,4))\n",
    "print(X)"
   ]
  },
  {
   "cell_type": "markdown",
   "metadata": {},
   "source": [
    "Ahora procedemos a indexar nuestro array"
   ]
  },
  {
   "cell_type": "code",
   "execution_count": 10,
   "metadata": {},
   "outputs": [
    {
     "data": {
      "text/plain": [
       "array([ 2,  5, 11])"
      ]
     },
     "execution_count": 10,
     "metadata": {},
     "output_type": "execute_result"
    }
   ],
   "source": [
    "#Nos creamos la indexación\n",
    "row = np.array([0, 1, 2])\n",
    "col = np.array([2, 1, 3])\n",
    "\n",
    "#Realizamos la indexación\n",
    "X[row, col]"
   ]
  },
  {
   "cell_type": "markdown",
   "metadata": {},
   "source": [
    "Si combinamos un vector fila con un vector columna esto nos dará un array 2-dimensional."
   ]
  },
  {
   "cell_type": "code",
   "execution_count": 12,
   "metadata": {},
   "outputs": [
    {
     "name": "stdout",
     "output_type": "stream",
     "text": [
      "[[ 2  1  3]\n",
      " [ 6  5  7]\n",
      " [10  9 11]]\n"
     ]
    }
   ],
   "source": [
    "#Realizamos la indexación\n",
    "print(X[row[:, np.newaxis], col])"
   ]
  },
  {
   "cell_type": "markdown",
   "metadata": {},
   "source": [
    "También podemos hacer operaciones aritméticas."
   ]
  },
  {
   "cell_type": "code",
   "execution_count": 13,
   "metadata": {},
   "outputs": [
    {
     "name": "stdout",
     "output_type": "stream",
     "text": [
      "[[0 0 0]\n",
      " [2 1 3]\n",
      " [4 2 6]]\n"
     ]
    }
   ],
   "source": [
    "#Realizamos operación aritmética\n",
    "print(row[:, np.newaxis] * col)"
   ]
  },
  {
   "cell_type": "markdown",
   "metadata": {},
   "source": [
    "## Combinando indexado"
   ]
  },
  {
   "cell_type": "markdown",
   "metadata": {},
   "source": [
    "La indexación elegante puede ser combinada con otros esquemas de indexado."
   ]
  },
  {
   "cell_type": "code",
   "execution_count": 14,
   "metadata": {},
   "outputs": [
    {
     "name": "stdout",
     "output_type": "stream",
     "text": [
      "[[ 0  1  2  3]\n",
      " [ 4  5  6  7]\n",
      " [ 8  9 10 11]]\n"
     ]
    }
   ],
   "source": [
    "#Mostramos la matriz con la que vamos a trabajar\n",
    "print(X)"
   ]
  },
  {
   "cell_type": "markdown",
   "metadata": {},
   "source": [
    "Podemos combinar el indexado elegante con el indexado simple."
   ]
  },
  {
   "cell_type": "code",
   "execution_count": 16,
   "metadata": {},
   "outputs": [
    {
     "name": "stdout",
     "output_type": "stream",
     "text": [
      "[10  8  9]\n"
     ]
    }
   ],
   "source": [
    "print(X[2, [2, 0, 1]])"
   ]
  },
  {
   "cell_type": "markdown",
   "metadata": {},
   "source": [
    "Podemos combinar el indexado elegante con el indexado slicing."
   ]
  },
  {
   "cell_type": "code",
   "execution_count": 18,
   "metadata": {},
   "outputs": [
    {
     "name": "stdout",
     "output_type": "stream",
     "text": [
      "[[4 5]\n",
      " [8 9]]\n"
     ]
    }
   ],
   "source": [
    "print(X[1:, [0,1]])"
   ]
  },
  {
   "cell_type": "markdown",
   "metadata": {},
   "source": [
    "Podemos combinar el indexado elegante con máscaras."
   ]
  },
  {
   "cell_type": "code",
   "execution_count": 19,
   "metadata": {},
   "outputs": [
    {
     "name": "stdout",
     "output_type": "stream",
     "text": [
      "[[ 0  2]\n",
      " [ 4  6]\n",
      " [ 8 10]]\n"
     ]
    }
   ],
   "source": [
    "#Generamos una máscara\n",
    "mask = np.array([1, 0, 1, 0], dtype = bool)\n",
    "\n",
    "#Procedemos a realizar el indexado\n",
    "print(X[row[:, np.newaxis], mask])"
   ]
  },
  {
   "cell_type": "markdown",
   "metadata": {},
   "source": [
    "## Ejemplo: Seleccionando puntos aleatorios"
   ]
  },
  {
   "cell_type": "markdown",
   "metadata": {},
   "source": [
    "Un uso común del indexado elegante es el de seleccionar un subconjunto de filas en una matriz. "
   ]
  },
  {
   "cell_type": "code",
   "execution_count": 23,
   "metadata": {},
   "outputs": [
    {
     "data": {
      "text/plain": [
       "(100, 2)"
      ]
     },
     "execution_count": 23,
     "metadata": {},
     "output_type": "execute_result"
    }
   ],
   "source": [
    "#Nos creamos una distribución normal multivariada \n",
    "mean = [0,0]\n",
    "cov = [[1, 2], [2, 5]]\n",
    "\n",
    "X = rand.multivariate_normal(mean, cov, 100)\n",
    "X.shape"
   ]
  },
  {
   "cell_type": "code",
   "execution_count": 25,
   "metadata": {},
   "outputs": [
    {
     "data": {
      "text/plain": [
       "<matplotlib.collections.PathCollection at 0x7fe29ca12320>"
      ]
     },
     "execution_count": 25,
     "metadata": {},
     "output_type": "execute_result"
    },
    {
     "data": {
      "image/png": "[encoded data removed]",
      "text/plain": [
       "<matplotlib.figure.Figure at 0x7fe2ba4f5748>"
      ]
     },
     "metadata": {},
     "output_type": "display_data"
    }
   ],
   "source": [
    "#Procedemos a visualizar la distribución\n",
    "%matplotlib inline\n",
    "import matplotlib.pyplot as plt\n",
    "import seaborn; seaborn.set()\n",
    "\n",
    "plt.scatter(X[:, 0], X[:, 1])"
   ]
  },
  {
   "cell_type": "markdown",
   "metadata": {},
   "source": [
    "Podemos hacer uso del indexado elegante para seleccionar 20 puntos aleatorios."
   ]
  },
  {
   "cell_type": "code",
   "execution_count": 26,
   "metadata": {},
   "outputs": [
    {
     "name": "stdout",
     "output_type": "stream",
     "text": [
      "[55 73 38 11  5 79 28 15 41 42 87 25 88 35 85 39 82  8 60 36]\n"
     ]
    }
   ],
   "source": [
    "indices = np.random.choice(X.shape[0], 20, replace = False)\n",
    "print(indices)"
   ]
  },
  {
   "cell_type": "code",
   "execution_count": 29,
   "metadata": {},
   "outputs": [
    {
     "data": {
      "text/plain": [
       "(20, 2)"
      ]
     },
     "execution_count": 29,
     "metadata": {},
     "output_type": "execute_result"
    }
   ],
   "source": [
    "selection = X[indices]\n",
    "selection.shape"
   ]
  },
  {
   "cell_type": "markdown",
   "metadata": {
    "collapsed": true
   },
   "source": [
    "## Modificando valores con indexado elegante"
   ]
  },
  {
   "cell_type": "markdown",
   "metadata": {},
   "source": [
    "Al igual que el indexado elegante pueder ser utlizado para seleccionar elementos de un array, también puede ser usado para modificar valores de un array. "
   ]
  },
  {
   "cell_type": "code",
   "execution_count": 5,
   "metadata": {},
   "outputs": [
    {
     "name": "stdout",
     "output_type": "stream",
     "text": [
      "[0 1 2 3 4 5 6 7 8 9]\n",
      "[ 0 99 99  3 99  5  6  7 99  9]\n"
     ]
    }
   ],
   "source": [
    "#Nos generamos un array\n",
    "x = np.arange(10)\n",
    "print(x)\n",
    "\n",
    "#Nos generamos un array de índices\n",
    "i = np.array([2, 1, 8, 4])\n",
    "\n",
    "#Asignamos el valor 99 a los índices del array de índices\n",
    "x[i] = 99\n",
    "\n",
    "#Vemos el resultado\n",
    "print(x)"
   ]
  },
  {
   "cell_type": "markdown",
   "metadata": {},
   "source": [
    "También podemos hacer uso de los operadores, por ejemplo supongamos que queremos sumar 10 a los valores que se encuentran en nuestra array de índices."
   ]
  },
  {
   "cell_type": "code",
   "execution_count": 6,
   "metadata": {},
   "outputs": [
    {
     "name": "stdout",
     "output_type": "stream",
     "text": [
      "[  0 109 109   3 109   5   6   7 109   9]\n"
     ]
    }
   ],
   "source": [
    "#Sumamos 10 a los elementos del vector índices\n",
    "x[i] += 10\n",
    "print(x)"
   ]
  },
  {
   "cell_type": "markdown",
   "metadata": {},
   "source": [
    "Debemos tener cuidados cuando hacemos uso de índices repétidos, ya que estos pueden causar problemas inesperados o difíciles de encontrar."
   ]
  },
  {
   "cell_type": "code",
   "execution_count": 13,
   "metadata": {},
   "outputs": [
    {
     "name": "stdout",
     "output_type": "stream",
     "text": [
      "[ 6.  0.  0.  0.  0.  0.  0.  0.  0.  0.]\n"
     ]
    }
   ],
   "source": [
    "#Realizamos la siguiente asignación\n",
    "x = np.zeros(10)\n",
    "x[[0, 0]] = [4,6]\n",
    "print(x)"
   ]
  },
  {
   "cell_type": "markdown",
   "metadata": {},
   "source": [
    "EL resultado de esta operación es que en primer lugar asignamos a x[0] el valor 4, tras esto lo que hacemos es asignar a x[0] el valor 6 lo que implica que finalmente x[0] se queda con el valor de la última modifcación."
   ]
  },
  {
   "cell_type": "code",
   "execution_count": 14,
   "metadata": {},
   "outputs": [
    {
     "name": "stdout",
     "output_type": "stream",
     "text": [
      "[ 6.  0.  1.  1.  1.  0.  0.  0.  0.  0.]\n"
     ]
    }
   ],
   "source": [
    "#Nos generamos un índice de arryas\n",
    "i = np.array([2, 3, 3, 4, 4, 4, 4])\n",
    "\n",
    "#Realizamos la operación\n",
    "x[i] += 1\n",
    "\n",
    "#Mostramos el valor de x\n",
    "print(x)"
   ]
  },
  {
   "cell_type": "markdown",
   "metadata": {},
   "source": [
    "Aquí lo que está ocurriendo es que pillamos el valor de x[3] y le asignamos el valor de x[3] + 1, pero cuando repetimos índice lo que hacemos es coger el x[3] original, es decir, el valor de x[3] del array original, por lo que volvemos a asignarle el valor original más 1. Esto mismo es lo que ocurre con x[4]."
   ]
  },
  {
   "cell_type": "markdown",
   "metadata": {},
   "source": [
    "Si lo queremos es que una operación se repita, debemos de hacer uso del método **at**."
   ]
  },
  {
   "cell_type": "code",
   "execution_count": 17,
   "metadata": {},
   "outputs": [
    {
     "name": "stdout",
     "output_type": "stream",
     "text": [
      "[ 0.  3.  3.  0.  0.  0.  0.  0.  0.  0.]\n"
     ]
    }
   ],
   "source": [
    "#Nos generamos un array de ceros\n",
    "zeros = np.zeros(10)\n",
    "\n",
    "#Nos generamos un array de índices\n",
    "i = np.array([1,1,1,2,2,2])\n",
    "\n",
    "#Sumamos 1 en los valores indicados en el array de índices\n",
    "np.add.at(zeros, i, 1)\n",
    "\n",
    "#Mostramos el resultado\n",
    "print(zeros)"
   ]
  },
  {
   "cell_type": "markdown",
   "metadata": {},
   "source": [
    "# Ordenando en Numpy: np.sort y np.argsort"
   ]
  },
  {
   "cell_type": "markdown",
   "metadata": {},
   "source": [
    "Python dispone de las funciones **sort** y **sorted** para trabajar con listas, pero no hablaremos respecto a estas funciones ya que NUmpy dispone de **np.sort**  que es mucho más eficiente para nuestro propósito. Si deseamos obtener una versión de nuestra array ordenada de forma ascendente podemos hacer uso de **np.sort**."
   ]
  },
  {
   "cell_type": "code",
   "execution_count": 22,
   "metadata": {},
   "outputs": [
    {
     "name": "stdout",
     "output_type": "stream",
     "text": [
      "[-1  4  5  8 20]\n"
     ]
    }
   ],
   "source": [
    "#Nos creamos un array\n",
    "x = np.array([4, 5, 8, 20, -1])\n",
    "\n",
    "#La ordenamos y mostramos el resultado\n",
    "print(np.sort(x))"
   ]
  },
  {
   "cell_type": "markdown",
   "metadata": {},
   "source": [
    "También podemos hacer uso de esta función de la siguiente forma"
   ]
  },
  {
   "cell_type": "code",
   "execution_count": 23,
   "metadata": {},
   "outputs": [
    {
     "name": "stdout",
     "output_type": "stream",
     "text": [
      "[-1  4  5  8 20]\n"
     ]
    }
   ],
   "source": [
    "#Ordenamos el array\n",
    "x.sort()\n",
    "\n",
    "#Mostramos el resultado\n",
    "print(x)"
   ]
  },
  {
   "cell_type": "markdown",
   "metadata": {},
   "source": [
    "También disponemos de **argsort** que nos retorna los índices de los argumentos ordenados."
   ]
  },
  {
   "cell_type": "code",
   "execution_count": 24,
   "metadata": {},
   "outputs": [
    {
     "name": "stdout",
     "output_type": "stream",
     "text": [
      "[4 0 1 2 3]\n"
     ]
    }
   ],
   "source": [
    "#Nos creamos un array\n",
    "x = np.array([4, 5, 8, 20, -1])\n",
    "\n",
    "#Obtenemos los índices de los valores ordenados\n",
    "indices = np.argsort(x)\n",
    "\n",
    "#Mostramos el resultado\n",
    "print(indices)"
   ]
  },
  {
   "cell_type": "markdown",
   "metadata": {},
   "source": [
    "## Ordenando a lo largo de filas y columnas"
   ]
  },
  {
   "cell_type": "markdown",
   "metadata": {},
   "source": [
    "Una de las características más útiles de Numpy es su capacidad de ordenar arrays multidimensionales a partir de filas o columnas mediante el argumento **axis**."
   ]
  },
  {
   "cell_type": "code",
   "execution_count": 25,
   "metadata": {},
   "outputs": [
    {
     "name": "stdout",
     "output_type": "stream",
     "text": [
      "[[6 3 7 4 6 9]\n",
      " [2 6 7 4 3 7]\n",
      " [7 2 5 4 1 7]\n",
      " [5 1 4 0 9 5]]\n"
     ]
    }
   ],
   "source": [
    "# Nos generamos un array de dimensión 4x6 con números aleatorios entre 0 y 10\n",
    "rand = np.random.RandomState(42)\n",
    "M = rand.randint(0, 10, (4, 6))\n",
    "\n",
    "#Mostramos el resultado \n",
    "print(M)"
   ]
  },
  {
   "cell_type": "code",
   "execution_count": 26,
   "metadata": {},
   "outputs": [
    {
     "name": "stdout",
     "output_type": "stream",
     "text": [
      "[[2 1 4 0 1 5]\n",
      " [5 2 5 4 3 7]\n",
      " [6 3 7 4 6 7]\n",
      " [7 6 7 4 9 9]]\n"
     ]
    }
   ],
   "source": [
    "#Ordenamos las columnas \n",
    "print(np.sort(M, axis = 0))"
   ]
  },
  {
   "cell_type": "code",
   "execution_count": 27,
   "metadata": {},
   "outputs": [
    {
     "name": "stdout",
     "output_type": "stream",
     "text": [
      "[[3 4 6 6 7 9]\n",
      " [2 3 4 6 7 7]\n",
      " [1 2 4 5 7 7]\n",
      " [0 1 4 5 5 9]]\n"
     ]
    }
   ],
   "source": [
    "#Ordenamos las filas\n",
    "print(np.sort(M, axis = 1))"
   ]
  },
  {
   "cell_type": "markdown",
   "metadata": {},
   "source": [
    "Debemos tener muy claro que este tipo de operaciones, trata cada fila y columna como un array por separado, por lo que si existe algún tipo de relación entre las variables esta se perderá."
   ]
  },
  {
   "cell_type": "markdown",
   "metadata": {},
   "source": [
    "## Ordenando arrays de forma parcial"
   ]
  },
  {
   "cell_type": "markdown",
   "metadata": {},
   "source": [
    "Existen ocasiones en las cuales no estamos interesados en ordenar un array completa, simplemente queremos encontrar los K valores más pequeños de un array. Para esto Numpy dispone de la función **np.partition**, esta toma de un array los K números más pequeños, y nos retorna una nueva array donde las K primeros valores son los K valores más pequeños de nuestra array (ordenados de forma aleatoria) y el resto de valores son también ordenados de forma aleatoria."
   ]
  },
  {
   "cell_type": "code",
   "execution_count": 28,
   "metadata": {},
   "outputs": [
    {
     "name": "stdout",
     "output_type": "stream",
     "text": [
      "[2 1 3 4 6 5 7]\n"
     ]
    }
   ],
   "source": [
    "#Nos creamos un array\n",
    "x = np.array([7, 2, 3, 1, 6, 5, 4])\n",
    "\n",
    "#Hacemos uso de np.partition para obtener los 3 valores más pequeños\n",
    "print(np.partition(x, 3))"
   ]
  },
  {
   "cell_type": "markdown",
   "metadata": {},
   "source": [
    "También podemos hacer uso de esta función en arrays de más de una dimensión."
   ]
  },
  {
   "cell_type": "code",
   "execution_count": 33,
   "metadata": {},
   "outputs": [
    {
     "name": "stdout",
     "output_type": "stream",
     "text": [
      "[[7 9 1]\n",
      " [4 6 7]\n",
      " [0 3 2]]\n"
     ]
    }
   ],
   "source": [
    "M = np.random.randint(0, 10, (3,3))\n",
    "print(M)"
   ]
  },
  {
   "cell_type": "code",
   "execution_count": 34,
   "metadata": {},
   "outputs": [
    {
     "name": "stdout",
     "output_type": "stream",
     "text": [
      "[[0 3 1]\n",
      " [4 6 2]\n",
      " [7 9 7]]\n"
     ]
    }
   ],
   "source": [
    "print(np.partition(M, 2, axis = 0))"
   ]
  },
  {
   "cell_type": "markdown",
   "metadata": {},
   "source": [
    "En este caso podemos ver como los dos primeros elementos de cada columna son los dos elementos menores de cada una de las columnas. Numpy también dispone de la función **np.argpartition** que nos permitirá obtener los índices de los valores más pequeños."
   ]
  },
  {
   "cell_type": "markdown",
   "metadata": {
    "collapsed": true
   },
   "source": [
    "# Datos estructurados: NumPy’s Structured Arrays"
   ]
  },
  {
   "cell_type": "markdown",
   "metadata": {},
   "source": [
    "Existen situaciones en las cuales nuestros datos no quedan bien representados por una matriz homogénea de valores. A continuación veremos como las matrices de tipo Numpy Array proporcionan una forma eficiente. Imagenemos que disponemos de un conjunto de arrays que guardan tipos de datos diferentes"
   ]
  },
  {
   "cell_type": "code",
   "execution_count": 7,
   "metadata": {
    "collapsed": true
   },
   "outputs": [],
   "source": [
    "#Nos generamos tres arrays con distintos tipos de datos\n",
    "name = ['Alice', 'Bob', 'Cathy', 'Doug']\n",
    "age = [25, 45, 37, 19]\n",
    "weight = [55.0, 85.5, 68.0, 61.5]"
   ]
  },
  {
   "cell_type": "markdown",
   "metadata": {},
   "source": [
    "A continuación vamos a proceder a almacenar estos en una matriz."
   ]
  },
  {
   "cell_type": "code",
   "execution_count": 15,
   "metadata": {},
   "outputs": [
    {
     "name": "stdout",
     "output_type": "stream",
     "text": [
      "[('name', '<U10'), ('age', '<i4'), ('weight', '<f8')]\n"
     ]
    }
   ],
   "source": [
    "#Nos generamos la estructura de nuestro arrya donde vamos a proceder a almacenar los datos\n",
    "data = np.zeros(4, dtype = {'names': ('name', 'age', 'weight'), 'formats': ('U10', 'i4', 'f8')})\n",
    "print(data.dtype)"
   ]
  },
  {
   "cell_type": "markdown",
   "metadata": {},
   "source": [
    "Donde tenemos que **U10** hace referencia a **Unicode string de longitud máxima 10**, **i4** hace referencia a entero de 4-byte y **f8** se traduce como float de 8-byte. Tras esto procedemos a añadirle los datos a nuestro array. "
   ]
  },
  {
   "cell_type": "code",
   "execution_count": 16,
   "metadata": {},
   "outputs": [
    {
     "name": "stdout",
     "output_type": "stream",
     "text": [
      "[('Alice', 25,  55. ) ('Bob', 45,  85.5) ('Cathy', 37,  68. )\n",
      " ('Doug', 19,  61.5)]\n"
     ]
    }
   ],
   "source": [
    "#Agregamos datos\n",
    "data['name'] = name\n",
    "data['age'] = age\n",
    "data['weight'] = weight\n",
    "\n",
    "#Mostramos nuestra array\n",
    "print(data)"
   ]
  },
  {
   "cell_type": "markdown",
   "metadata": {},
   "source": [
    "Tras esto disponemos los datos almacenados de forma adecuada en memoria. Una vez disponemos de esto podemos por ejemplo acceder a los nombres de nuestra array de la forma que ya hemos visto."
   ]
  },
  {
   "cell_type": "code",
   "execution_count": 17,
   "metadata": {},
   "outputs": [
    {
     "data": {
      "text/plain": [
       "array(['Alice', 'Bob', 'Cathy', 'Doug'],\n",
       "      dtype='<U10')"
      ]
     },
     "execution_count": 17,
     "metadata": {},
     "output_type": "execute_result"
    }
   ],
   "source": [
    "#Accedemos a los nombres\n",
    "data['name']"
   ]
  },
  {
   "cell_type": "code",
   "execution_count": 18,
   "metadata": {},
   "outputs": [
    {
     "data": {
      "text/plain": [
       "'Doug'"
      ]
     },
     "execution_count": 18,
     "metadata": {},
     "output_type": "execute_result"
    }
   ],
   "source": [
    "#Podemos acceder por ejemplo al útimo nombre \n",
    "data['name'][-1]"
   ]
  },
  {
   "cell_type": "code",
   "execution_count": 19,
   "metadata": {},
   "outputs": [
    {
     "data": {
      "text/plain": [
       "('Alice', 25,  55.)"
      ]
     },
     "execution_count": 19,
     "metadata": {},
     "output_type": "execute_result"
    }
   ],
   "source": [
    "#Podemos acceder a la primera fila\n",
    "data[0]"
   ]
  },
  {
   "cell_type": "markdown",
   "metadata": {},
   "source": [
    "También podemos hacer uso de máscaras boolenas para acceder a los datos filtrados."
   ]
  },
  {
   "cell_type": "code",
   "execution_count": 21,
   "metadata": {},
   "outputs": [
    {
     "data": {
      "text/plain": [
       "array(['Alice', 'Doug'],\n",
       "      dtype='<U10')"
      ]
     },
     "execution_count": 21,
     "metadata": {},
     "output_type": "execute_result"
    }
   ],
   "source": [
    "#Accedemos al nombre de aquellas personas que tienen una edad por debajo de 30 años\n",
    "data[data['age'] < 30]['name']"
   ]
  },
  {
   "cell_type": "markdown",
   "metadata": {},
   "source": [
    "## Creando arrays estructuradas"
   ]
  },
  {
   "cell_type": "markdown",
   "metadata": {},
   "source": [
    "Las matrices de datos estructuradas pueden ser definidas de muchas formas diferentes. Para una mayor claridad los datos numéricos pueden ser especificados por datos Python o por dtypes de Numpy."
   ]
  },
  {
   "cell_type": "code",
   "execution_count": 22,
   "metadata": {},
   "outputs": [
    {
     "data": {
      "text/plain": [
       "dtype([('name', '<U10'), ('age', '<i8'), ('weight', '<f4')])"
      ]
     },
     "execution_count": 22,
     "metadata": {},
     "output_type": "execute_result"
    }
   ],
   "source": [
    "#Nos generamos la estructura de nuestra array \n",
    "np.dtype({'names':('name', 'age', 'weight'),\n",
    "         'formats':((np.str_, 10), int, np.float32)})"
   ]
  },
  {
   "cell_type": "markdown",
   "metadata": {},
   "source": [
    "También se pueden especificar como parejas de tuplas."
   ]
  },
  {
   "cell_type": "code",
   "execution_count": 24,
   "metadata": {},
   "outputs": [
    {
     "data": {
      "text/plain": [
       "dtype([('name', 'S10'), ('age', '<i4'), ('weight', '<f8')])"
      ]
     },
     "execution_count": 24,
     "metadata": {},
     "output_type": "execute_result"
    }
   ],
   "source": [
    "#Nos generamos la estructura de nuestra array\n",
    "np.dtype([('name', 'S10'), ('age', 'i4'), ('weight', 'f8')])"
   ]
  },
  {
   "cell_type": "markdown",
   "metadata": {},
   "source": [
    "En caso de que los nombres no sean importantes para nosotros podemos simplemente separando por comas los tipos que queremos asignar."
   ]
  },
  {
   "cell_type": "code",
   "execution_count": 26,
   "metadata": {},
   "outputs": [
    {
     "data": {
      "text/plain": [
       "dtype([('f0', 'S10'), ('f1', '<i4'), ('f2', '<f8')])"
      ]
     },
     "execution_count": 26,
     "metadata": {},
     "output_type": "execute_result"
    }
   ],
   "source": [
    "np.dtype('S10, i4, f8')"
   ]
  },
  {
   "cell_type": "markdown",
   "metadata": {},
   "source": [
    "## Tipos compuestos avanzados"
   ]
  },
  {
   "cell_type": "markdown",
   "metadata": {},
   "source": [
    "Podemos crear tipos de array más avanzadas. Por ejemplo, podemos crear un tipo donde cada elemento contiene un array o una matriz de valores. "
   ]
  },
  {
   "cell_type": "code",
   "execution_count": 28,
   "metadata": {},
   "outputs": [
    {
     "name": "stdout",
     "output_type": "stream",
     "text": [
      "[(0, [[ 0.,  0.,  0.], [ 0.,  0.,  0.], [ 0.,  0.,  0.]])]\n"
     ]
    }
   ],
   "source": [
    "#Ejemplo de creacion de estructuras avanzadas \n",
    "tp = np.dtype([('id', 'i8'), ('mat', 'f8', (3,3))])\n",
    "X = np.zeros(1, dtype = tp)\n",
    "print(X)"
   ]
  }
 ],
 "metadata": {
  "kernelspec": {
   "display_name": "Python 3",
   "language": "python",
   "name": "python3"
  },
  "language_info": {
   "codemirror_mode": {
    "name": "ipython",
    "version": 3
   },
   "file_extension": ".py",
   "mimetype": "text/x-python",
   "name": "python",
   "nbconvert_exporter": "python",
   "pygments_lexer": "ipython3",
   "version": "3.6.3"
  }
 },
 "nbformat": 4,
 "nbformat_minor": 2
}
