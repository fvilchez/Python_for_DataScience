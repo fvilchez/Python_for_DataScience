{
 "cells": [
  {
   "cell_type": "code",
   "execution_count": 5,
   "metadata": {
    "collapsed": true
   },
   "outputs": [],
   "source": [
    "from numpy.random import seed\n",
    "from numpy.random import randint\n",
    "from numpy import mean\n",
    "import matplotlib.pyplot as plt"
   ]
  },
  {
   "cell_type": "markdown",
   "metadata": {},
   "source": [
    "# Introducción"
   ]
  },
  {
   "cell_type": "markdown",
   "metadata": {},
   "source": [
    "El teorema del límite central se trata de un teorema que es citado muy a menudo, pero también se tata de un teorema que mucha gente no interpreta de forma adecuada. Se trata de un teorema que en muchas ocasiones es confundido con la ley de los números grandes.\n",
    "\n",
    "Aunque puede parecer un teorema esotético, tiene implicaciones importantes sobre como y cuando podemos hacer inferencia respecto a los resultados de los modelos de aprendizaje automático."
   ]
  },
  {
   "cell_type": "markdown",
   "metadata": {},
   "source": [
    "# Teorema del límite central"
   ]
  },
  {
   "cell_type": "markdown",
   "metadata": {},
   "source": [
    "El teorema del límite central o CLT, es un pilar muy importante en campo de la estadística y probabilidad.\n",
    "\n",
    "El teorema establece que a medida que el tamaño de la muestra incrementa, la distribución de la media a través de múltiples muestras se aproximará a una distribución Gaussianna. Podemos realizar una prueba y obtendremos un resultado o observación. Podemos repetir la prueba de nuevo y obtendremos una nueva observación independiente. Si recolectamos todas las observaciones, lo que obtendríamos una muestra de las obseraciones.\n",
    "\n",
    "Si calculamos la media de la muestra, esta será una estimación de la media de la población. Pero, como cualquier estimación, podría ser erronea o contener algún error. Si obtenemos múltiples muestras independientes y calculamos sus medias, la distribución de esas medias formará una distribución Gaussinna. Es muy importante tener en cuenta que los resultados de una prueba en una observación sean independientes y realizados de la misma forma.\n",
    "\n",
    "El resultado de este teorema es independiente del tipo de distribución del cual extraigamos nuestras muestras.\n",
    "\n",
    "Además si usamos nuestro conocimiento respecto a una distribución Gaussianna para hacer inferencia sobre las medias de las muestras, estas inferencias serán más precisas y útiles si incrementamos el tamaño de la muestra."
   ]
  },
  {
   "cell_type": "markdown",
   "metadata": {},
   "source": [
    "# Regla de los números grandes"
   ]
  },
  {
   "cell_type": "markdown",
   "metadata": {},
   "source": [
    "El teorema del límite central es a menudo confundido con la regla de los números grandes. El teorema de los números grandes se trata de un teorema completamente diferente. Este teorema nos dice que a medida que el tamaño de una muestra aumenta, más precisa sera la estimación de la media de la muestra en relación a la media poblacional.\n",
    "\n",
    "El teorema del límite central no nos dice nada respecto a la media de una muestra, en su lugar lo que nos indica es sobre la forma de la función de distribución de las media muestrales."
   ]
  },
  {
   "cell_type": "markdown",
   "metadata": {},
   "source": [
    "# Ejemplo con la tirada de un dado"
   ]
  },
  {
   "cell_type": "code",
   "execution_count": 4,
   "metadata": {},
   "outputs": [
    {
     "name": "stdout",
     "output_type": "stream",
     "text": [
      "[6 4 5 1 2 4 6 1 1 2 5 6 5 2 3 5 6 3 5 4 5 3 5 6 3 5 2 2 1 6 2 2 6 2 2 1 5\n",
      " 2 1 1 6 4 3 2 1 4 6 2 2 4]\n",
      "3.44\n"
     ]
    }
   ],
   "source": [
    "#Fijamos la semilla\n",
    "seed(1)\n",
    "\n",
    "#Generamos tiradas de un dado \n",
    "rolls = randint(1, 7, 50)\n",
    "print(rolls)\n",
    "print(mean(rolls))"
   ]
  },
  {
   "cell_type": "markdown",
   "metadata": {},
   "source": [
    "Podemos ver como la estimación de la media muestral es ligeramente diferente de la media poblacional (21/6 = 3.5)."
   ]
  },
  {
   "cell_type": "code",
   "execution_count": 10,
   "metadata": {},
   "outputs": [
    {
     "data": {
      "image/png": "[encoded data removed]",
      "text/plain": [
       "<matplotlib.figure.Figure at 0x7f1551eb74a8>"
      ]
     },
     "metadata": {},
     "output_type": "display_data"
    }
   ],
   "source": [
    "#Repetimos la prueba, pero esta vez en lugar de obtener una sola muestra obtenemos 10000\n",
    "rolls = [mean(randint(1,7,50)) for _ in range(10000)]\n",
    "\n",
    "#Procedemos a representar le histograma\n",
    "plt.figure(figsize = (10,5))\n",
    "plt.hist(rolls)\n",
    "plt.show()"
   ]
  },
  {
   "cell_type": "markdown",
   "metadata": {},
   "source": [
    "Podemos ver como nuestra disitribución es aproximadamente Gaussianna, además el teorema del límite central dice que si aumentamos el tamaño de cada una de las muestras (en este caso es 50) nuestra distribución se aproximaŕa con mayor exactitud a una gaussianna."
   ]
  },
  {
   "cell_type": "code",
   "execution_count": 11,
   "metadata": {},
   "outputs": [
    {
     "data": {
      "image/png": "[encoded data removed]",
      "text/plain": [
       "<matplotlib.figure.Figure at 0x7f1551e42898>"
      ]
     },
     "metadata": {},
     "output_type": "display_data"
    }
   ],
   "source": [
    "#Repetimos la prueba, pero aumentando la muestra\n",
    "rolls = [mean(randint(1,7,100)) for _ in range(10000)]\n",
    "\n",
    "#Procedemos a representar el histograma\n",
    "plt.figure(figsize = (10,5))\n",
    "plt.hist(rolls)\n",
    "plt.show()"
   ]
  }
 ],
 "metadata": {
  "kernelspec": {
   "display_name": "Python 3",
   "language": "python",
   "name": "python3"
  },
  "language_info": {
   "codemirror_mode": {
    "name": "ipython",
    "version": 3
   },
   "file_extension": ".py",
   "mimetype": "text/x-python",
   "name": "python",
   "nbconvert_exporter": "python",
   "pygments_lexer": "ipython3",
   "version": "3.6.3"
  }
 },
 "nbformat": 4,
 "nbformat_minor": 2
}
