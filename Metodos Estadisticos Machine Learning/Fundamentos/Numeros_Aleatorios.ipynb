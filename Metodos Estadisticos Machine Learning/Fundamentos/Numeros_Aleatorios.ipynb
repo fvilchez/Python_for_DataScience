{
 "cells": [
  {
   "cell_type": "code",
   "execution_count": 2,
   "metadata": {
    "collapsed": true
   },
   "outputs": [],
   "source": [
    "from random import seed\n",
    "from random import random\n",
    "from random import randint\n",
    "from random import gauss\n",
    "from random import choice\n",
    "from random import sample\n",
    "from random import shuffle\n",
    "\n",
    "import numpy as np"
   ]
  },
  {
   "cell_type": "markdown",
   "metadata": {},
   "source": [
    "# Introducción "
   ]
  },
  {
   "cell_type": "markdown",
   "metadata": {},
   "source": [
    "La aleatoriedad es una gran parte del aprendizaje automático. Es usada como herramienta en la preparación de datos y para a la hora de realizar en el entrenamiento de algoritmos a la hora de realizar predicciones.\n",
    "\n",
    "Para comprender la necesidad de los métodos estadísticos en el campo del aprendizaje automático, debemos comprender la fuente de aleatoriedad en el aprendizaje automático. Esta fuente es conocida como números pseudo aleatorios."
   ]
  },
  {
   "cell_type": "markdown",
   "metadata": {},
   "source": [
    "# Aleatoriedad en el aprendizaje automático"
   ]
  },
  {
   "cell_type": "markdown",
   "metadata": {},
   "source": [
    "Existen muchas fuentes de aleatoriedad en el aprendizaje automático aplicado. La aleatoriedad es una herramienta que es usada para ayudar a los algoritmos a aprender, a ser más robustos y obtener mejores predicciones y por lo tanto modelos más precisos."
   ]
  },
  {
   "cell_type": "markdown",
   "metadata": {},
   "source": [
    "# Aleatoriedad en los datos"
   ]
  },
  {
   "cell_type": "markdown",
   "metadata": {},
   "source": [
    "Existe un elemento aleatorio en la muestra de datos que hemos recuperado del dominio que usaremos para entrenar nuestro modelo. Los datos pueden tener errores o equivaciones. Más profundamente los datos pueden contener ruido que puede ocultar la relación entre las entradas y las salidas."
   ]
  },
  {
   "cell_type": "markdown",
   "metadata": {},
   "source": [
    "# Aleatoriedad en la evaluación de un modelo"
   ]
  },
  {
   "cell_type": "markdown",
   "metadata": {},
   "source": [
    "No tenemos acceso a todas las observaciones del dominio con el que trabajamos. Trabajamos solo con una pequeña muestra de datos. Por lo tanto, nos aprovechamos de la aleatoriedad cuando evaluamos un modelo, tal como el uso de la validación cruzada para fijar y evaluar el modelo con diferentes subconjuntos de nuestra muestra. Hacemos esto para ver como se comporta nuestro modelo en promedio en lugar de para un conjunto de datos específico."
   ]
  },
  {
   "cell_type": "markdown",
   "metadata": {},
   "source": [
    "# Aleatoriedad en algoritmos"
   ]
  },
  {
   "cell_type": "markdown",
   "metadata": {},
   "source": [
    "Los algoritmos de aprendizaje automático hacen uso de la aleatoriedad cuando aprenden de una muestra de datos. Esto es una característica, donde la aleatoriedad permite que el algoritmo logre un mejor rendimiento en el mapeo de los datos que en el caso de no hacer uso de esta.\n",
    "\n",
    "La aleatoriedad es una característica, que permite que un algoritmo intente evitar el ajuste excesivo del conjunto de entrenamiento y generalice a un problema más amplio.\n",
    "\n",
    "Los algoritmos que usan aleatoriedad son a menudo llamados algoritmos estocásticos en lugar de algoritmos aleatorios. Algunos de los ejemplos más claros del uso de aleatoriedad en el aprendizaje automático son:\n",
    "\n",
    "* La mezcla de datos de entrenamiento en cada una de las épocas de entrenamiento en el algoritmo de descenso de gradiente estocástico.\n",
    "\n",
    "* El subconjunto de características aleatorias de entrada elegidas para la división en un algoritmo de RandomForest.\n",
    "\n",
    "* Los pesos iniciales aleatorios en una red neuronal."
   ]
  },
  {
   "cell_type": "markdown",
   "metadata": {},
   "source": [
    "# Generador de números Pseudoaleatorios"
   ]
  },
  {
   "cell_type": "markdown",
   "metadata": {},
   "source": [
    "La fuente de aleatoriedad que existe en nuestros programas y algoritmos se conocida como generador de números pseudoaleatorios. Un generador de números aleatorios es un sistema que genera números aleatorios a partir de una fuente de aleatoriedad auténtica.\n",
    "\n",
    "En el aprendizaje automático no es necesaria esta aleatoriedad. En su lugar se hace uso de la pseudoaleatoriedad, que se trata de una muestra de números que parecen aleatorios, para que son generados usando un proceso determinista.\n",
    "\n",
    "La mezcla de datos o la inicialización de coeficientes con valores aleatorios usa generados de números pseudoaleatorios. Los números son generados en secuencia. Esta secuencia es determinista y es fijada a partir de una semilla. Si dicha semilla no es fijada con un valor predeterminado, puede hacer uso del tiempo del sistema en segundos o milisegundos como valor de la semilla. El valor de la semilla no es importante, podemos elegir la que queramos. Lo importante es que si vamos a repetir un proceso, este proceso siempre tenga la misma semilla."
   ]
  },
  {
   "cell_type": "markdown",
   "metadata": {},
   "source": [
    "# Número aleatorios con Python "
   ]
  },
  {
   "cell_type": "markdown",
   "metadata": {},
   "source": [
    "Python dispone de un módulo llamado **random** que ofrece un conjunto de funciones para generar números aleatorios. Python hace uso de un conocido y robusto generador de números pseudoaleatorios llamado Mersenne Twister. "
   ]
  },
  {
   "cell_type": "markdown",
   "metadata": {},
   "source": [
    "## Semilla del generador de números aleatorios"
   ]
  },
  {
   "cell_type": "markdown",
   "metadata": {},
   "source": [
    "Un generador de pseudonúmeros aleatorios es una función matemática que genera una secuencia de números casi aleatorios. Se necesita de una semalla para iniciar la secuencia.\n",
    "\n",
    "La función es determinista, es decir, dada una misma semilla, esta producirá la misma secuencia de números cada vez que se genere el proceso. La elección de la semilla no es importante. Dicha semilla lo que hace es fijar el generador de números aleatorios."
   ]
  },
  {
   "cell_type": "markdown",
   "metadata": {},
   "source": [
    "El módulo **random** dispone de la función **seed()** que nos permite fijar la semilla de nuestro generador de números aleatorios. Esta función recibe como argumento un número entero, este número nos fijara el generador."
   ]
  },
  {
   "cell_type": "code",
   "execution_count": 3,
   "metadata": {},
   "outputs": [
    {
     "name": "stdout",
     "output_type": "stream",
     "text": [
      "0.13436424411240122 0.8474337369372327 0.763774618976614\n",
      "0.13436424411240122 0.8474337369372327 0.763774618976614\n"
     ]
    }
   ],
   "source": [
    "#Fijamos la semilla \n",
    "seed(1)\n",
    "\n",
    "#Geramos algunos números aleatorios\n",
    "print(random(), random(), random())\n",
    "\n",
    "#Volvemos a fijar la semilla\n",
    "seed(1)\n",
    "\n",
    "#Generamos nuevamente números aleatorios\n",
    "print(random(), random(), random())"
   ]
  },
  {
   "cell_type": "markdown",
   "metadata": {},
   "source": [
    "Controlar la aleatoriedad puede tener sentido cuando lo que queremos es que nuestro código produzca los mismos resultados cuando es ejecutado una y otra vez, como por ejemplo a la hora de poner un modelo en producción."
   ]
  },
  {
   "cell_type": "markdown",
   "metadata": {
    "collapsed": true
   },
   "source": [
    "## Valores aleatorios de punto flotante"
   ]
  },
  {
   "cell_type": "markdown",
   "metadata": {},
   "source": [
    "Para generar valores de punto flotante aleatorios podemos hacer uso directamente de la función **random()**. Los valores son generados dentro del rango [0,1). Estos valores son extraídos a partir de una distribución uniforme, lo que significa que todo valor tiene igual probabilidad de ser elegido.\n",
    "\n",
    "Estos valores puede ser reescalados para el rango deseado haciendo uso de la expresión: $$valor\\_escalado = min + (value(max-min))$$"
   ]
  },
  {
   "cell_type": "markdown",
   "metadata": {},
   "source": [
    "Donde tenemos que min y max son los valores máximo y mínimo del rango deseado y value es un valor de punto flotante dentro de rango 0,1."
   ]
  },
  {
   "cell_type": "code",
   "execution_count": 4,
   "metadata": {},
   "outputs": [
    {
     "name": "stdout",
     "output_type": "stream",
     "text": [
      "0.6718212205620061\n",
      "4.237168684686163\n",
      "3.8188730948830703\n",
      "1.2753451286971085\n",
      "2.4771754354597046\n",
      "2.2474553239436905\n",
      "3.2579648636138145\n",
      "3.943616755677566\n",
      "0.46929793387117447\n",
      "0.14173738261003155\n"
     ]
    }
   ],
   "source": [
    "#Fijamos la semilla\n",
    "seed(1)\n",
    "\n",
    "#Generamos números aleatorios entre 0 y 5\n",
    "for _ in range(10):\n",
    "    value = random()\n",
    "    print(0 + (value*(5-0)))"
   ]
  },
  {
   "cell_type": "markdown",
   "metadata": {},
   "source": [
    "## Valores enteros aleatorios"
   ]
  },
  {
   "cell_type": "markdown",
   "metadata": {},
   "source": [
    "Los valores aleatorios de tipo entero pueden ser generadosa partir de la función **randint()**. Esta función toma dos argumentos: el principio y el final del rango en el cual queremos generar nuestros números enteros. Estos valores son extraidos a partir de una función de distribución uniforme."
   ]
  },
  {
   "cell_type": "code",
   "execution_count": 9,
   "metadata": {},
   "outputs": [
    {
     "name": "stdout",
     "output_type": "stream",
     "text": [
      "2\n",
      "9\n",
      "1\n",
      "4\n",
      "1\n",
      "7\n",
      "7\n",
      "7\n",
      "10\n",
      "6\n"
     ]
    }
   ],
   "source": [
    "#Fijamos la semilla\n",
    "seed(1)\n",
    "\n",
    "#Generamos 10 números enteros aleatorios entre 0 y 10\n",
    "for _ in range(10):\n",
    "    print(randint(0,10))"
   ]
  },
  {
   "cell_type": "markdown",
   "metadata": {},
   "source": [
    "## Valores gaussianos aleatorios"
   ]
  },
  {
   "cell_type": "markdown",
   "metadata": {},
   "source": [
    "Las valores de punto flotante pueden ser extraidos de una distribución Gaussiana usando la función de **gauss()**. Esta función recibe dos parámetros que controla el tamaño de nuestra distribución: la media y la desviación estándar."
   ]
  },
  {
   "cell_type": "code",
   "execution_count": 11,
   "metadata": {},
   "outputs": [
    {
     "name": "stdout",
     "output_type": "stream",
     "text": [
      "1.2881847531554629\n",
      "1.449445608699771\n",
      "0.06633580893826191\n",
      "-0.7645436509716318\n",
      "-1.0921732151041414\n",
      "0.03133451683171687\n",
      "-1.022103170010873\n",
      "-1.4368294451025299\n",
      "0.19931197648375384\n",
      "0.13337460465860485\n"
     ]
    }
   ],
   "source": [
    "#Fijamos la semilla\n",
    "seed(1)\n",
    "\n",
    "#Generamos 10 números que provienen de una distribución Gaussiana\n",
    "for _ in range(10):\n",
    "    print(gauss(0,1))"
   ]
  },
  {
   "cell_type": "markdown",
   "metadata": {},
   "source": [
    "## Selección aleatoria de una lista de valores"
   ]
  },
  {
   "cell_type": "markdown",
   "metadata": {},
   "source": [
    "Los números aleatorios pueden ser usados para seleccionar de forma aleatoria elementos de una lista. Para realizar esto disponemos de la función **choice()**, esta función nos permite hacer selecciones aleatoria de elementos de una lista con una probabilidad uniforme."
   ]
  },
  {
   "cell_type": "code",
   "execution_count": 14,
   "metadata": {},
   "outputs": [
    {
     "name": "stdout",
     "output_type": "stream",
     "text": [
      "2\n",
      "9\n",
      "1\n"
     ]
    }
   ],
   "source": [
    "#Generamos la semilla\n",
    "seed(1)\n",
    "\n",
    "#Generamos una lista de 10 elementos\n",
    "l = [i for i in range(10)]\n",
    "\n",
    "#Seleccionamos 3 elementos de forma aleatoria\n",
    "for _ in range(3):\n",
    "    print(choice(l))"
   ]
  },
  {
   "cell_type": "markdown",
   "metadata": {},
   "source": [
    "## Selección de un subconjunto aleatorio de una lista de valores"
   ]
  },
  {
   "cell_type": "markdown",
   "metadata": {},
   "source": [
    "Podemos estar interesados en repetir la selección aleatoria descrita en el apartado anterior hasta que dispongamos de un subconjunto de valores. Una vez el elemento es seleccionado de nuestra lista original y es añadido a nuestro subconjunto de valores este no debería de volver a ser depositado en nuestra lista original. Esto se le conoce como selección sin reemplazamiento.\n",
    "\n",
    "Este tipo de comportamiento nos lo proporciona la función **sample()** que selecciona un determinado número de elementos de una lista sin reemplazamiento. Los parámetros que recibe esta función es en primer lugar la lista de la cual queremos extraer valores y en segundo lugar el número de valores que queremos extraer, retorna una lista que contiene el subconjunto de valores seleccionados de la lista original."
   ]
  },
  {
   "cell_type": "code",
   "execution_count": 16,
   "metadata": {},
   "outputs": [
    {
     "name": "stdout",
     "output_type": "stream",
     "text": [
      "[2, 1, 4]\n"
     ]
    }
   ],
   "source": [
    "#Generamos la semilla\n",
    "seed(1)\n",
    "\n",
    "#Generamos una lista con 10 números aleatorios\n",
    "l = [i for i in range(10)]\n",
    "\n",
    "#Seleccionamos un subconjunto de valores de la muestra\n",
    "print(sample(l, 3))"
   ]
  },
  {
   "cell_type": "markdown",
   "metadata": {},
   "source": [
    "## Ordenando de forma aleatoria una lista"
   ]
  },
  {
   "cell_type": "markdown",
   "metadata": {},
   "source": [
    "La aleatoriedad puede ser usada para ordenar de forma aleatoria una lista. Para realizar esta operación disponemos de la función **shuffle()**, esta función recibe como parámetro una lista que la ordena de forma aleatoria. Cabe destacar que lo que hace esta función es aplicar este nuevo orden sobre la propia lista y no sobre una copia de dicha lista."
   ]
  },
  {
   "cell_type": "code",
   "execution_count": 19,
   "metadata": {},
   "outputs": [
    {
     "name": "stdout",
     "output_type": "stream",
     "text": [
      "[0, 1, 2, 3, 4, 5, 6, 7, 8, 9]\n",
      "[6, 8, 9, 7, 5, 3, 0, 4, 1, 2]\n"
     ]
    }
   ],
   "source": [
    "#Generamos la semilla\n",
    "seed(1)\n",
    "\n",
    "#Generamos una lista con 10 elementos\n",
    "l = [i for i in range(10)]\n",
    "print(l)\n",
    "\n",
    "#Ordenamos nuestra lista de forma aleatoria\n",
    "shuffle(l)\n",
    "print(l)"
   ]
  },
  {
   "cell_type": "markdown",
   "metadata": {
    "collapsed": true
   },
   "source": [
    "# Números Aleatorios con Numpy"
   ]
  },
  {
   "cell_type": "markdown",
   "metadata": {},
   "source": [
    "Las librerías más usadas en machine learning como Scikit-learn o Keras hacen uso por debajo de una librería llamada Numpy,esta es una librería que trabaja con vectores y matrices y números de una forma muy eficiente. Numpy dispone de su propio generador de números pseudoaleatorios. Numpy además tiene su propion implementación del generador Mersenne Twister."
   ]
  },
  {
   "cell_type": "markdown",
   "metadata": {},
   "source": [
    "## Semilla del generador de números aleatorios"
   ]
  },
  {
   "cell_type": "markdown",
   "metadata": {},
   "source": [
    "El generador de números pseudoaleatorios de Numpy se trata de un generador distintio del que hace uso Python con su librería por defecto. Es importante destacar que la semilla usada en el generador de números pseudoaleatorios de Python no afecta a la semilla del generador de números pseudoaleatorios de Numpy."
   ]
  },
  {
   "cell_type": "code",
   "execution_count": 3,
   "metadata": {},
   "outputs": [
    {
     "name": "stdout",
     "output_type": "stream",
     "text": [
      "[ 1.62434536 -0.61175641 -0.52817175]\n"
     ]
    }
   ],
   "source": [
    "#Fijamos la semilla\n",
    "np.random.seed(1)\n",
    "\n",
    "#Generamos números aleatorios\n",
    "print(np.random.randn(3))"
   ]
  },
  {
   "cell_type": "markdown",
   "metadata": {},
   "source": [
    "## Array con valores aleatorios de punto flotante"
   ]
  },
  {
   "cell_type": "markdown",
   "metadata": {},
   "source": [
    "Un array de valores aleatorios de punto flotante puede ser generada a partir de la función **randn()**.  Si a dicha función no se le indica ningún argumento genera por defecta un único número aleatorio, de otra forma se le puede proporcionar la dimensión del array. "
   ]
  },
  {
   "cell_type": "code",
   "execution_count": 4,
   "metadata": {},
   "outputs": [
    {
     "name": "stdout",
     "output_type": "stream",
     "text": [
      "[ 1.62434536 -0.61175641 -0.52817175 -1.07296862  0.86540763 -2.3015387\n",
      "  1.74481176 -0.7612069   0.3190391  -0.24937038]\n"
     ]
    }
   ],
   "source": [
    "#Fijamos la semilla\n",
    "np.random.seed(1)\n",
    "\n",
    "#Generamos un array con 10 números aleatorios\n",
    "print(np.random.randn(10))"
   ]
  },
  {
   "cell_type": "markdown",
   "metadata": {},
   "source": [
    "## Array con valores aleatorios de tipo entero"
   ]
  },
  {
   "cell_type": "markdown",
   "metadata": {},
   "source": [
    "Un array con valores aleatorios de números enteros puede ser creada a partir de la funcion **randint()**. Esta función toma 3 argumentos, el inicio y el final del rango que queremos tomar y el tamaño que queremos que tenga el array. Los valores son elegidos a partir de una distribución uniforme, además de incluir el valor inferior y excluir el valor superior."
   ]
  },
  {
   "cell_type": "code",
   "execution_count": 5,
   "metadata": {},
   "outputs": [
    {
     "name": "stdout",
     "output_type": "stream",
     "text": [
      "[5 8 9 5 0 0 1 7 6 9]\n"
     ]
    }
   ],
   "source": [
    "#Fijamos la semilla\n",
    "np.random.seed(1)\n",
    "\n",
    "#Generamos un array de 10 números enteros aleatorios\n",
    "print(np.random.randint(0,10,10))"
   ]
  },
  {
   "cell_type": "markdown",
   "metadata": {},
   "source": [
    "## Array con valores aleatorios provenientes de una distribución gaussiana"
   ]
  },
  {
   "cell_type": "markdown",
   "metadata": {},
   "source": [
    "Podemos crear un array formada por números aleatorios que provienen de una distribución gaussiana, para esto podemos hacer uso de la función **randn()**. Esta funcion toma un único argumento, que es el número de elementos de nuestra array. La función de distribución gaussiana a partir de la cual se extraen los números es de medio cero y varianza unidad."
   ]
  },
  {
   "cell_type": "code",
   "execution_count": 7,
   "metadata": {},
   "outputs": [
    {
     "name": "stdout",
     "output_type": "stream",
     "text": [
      "[ 1.62434536 -0.61175641 -0.52817175 -1.07296862  0.86540763 -2.3015387\n",
      "  1.74481176 -0.7612069   0.3190391  -0.24937038]\n"
     ]
    }
   ],
   "source": [
    "#Fijamos la semilla\n",
    "np.random.seed(1)\n",
    "\n",
    "#Generamos un array de 10 elementos aleatorios provenientes de una distribución gaussiana\n",
    "print(np.random.randn(10))"
   ]
  },
  {
   "cell_type": "markdown",
   "metadata": {},
   "source": [
    "Si queremos generar valores a partir de una distribución gaussiana con distinta media y varianza basta con sumar y multiplicar por la media y varianza respectivamente deseadas."
   ]
  },
  {
   "cell_type": "code",
   "execution_count": 8,
   "metadata": {},
   "outputs": [
    {
     "name": "stdout",
     "output_type": "stream",
     "text": [
      "[ 6.24869073  1.77648717  1.9436565   0.85406276  4.73081526 -1.60307739\n",
      "  6.48962353  1.4775862   3.63807819  2.50125925]\n"
     ]
    }
   ],
   "source": [
    "#Fijamos la semilla\n",
    "np.random.seed(1)\n",
    "\n",
    "#Generamos 10 valores aleatorios de una distribución gaussiana con media 3 y varianza 2\n",
    "print(2 * np.random.randn(10) + 3)"
   ]
  },
  {
   "cell_type": "markdown",
   "metadata": {},
   "source": [
    "## Mezclando elementos de un array"
   ]
  },
  {
   "cell_type": "markdown",
   "metadata": {},
   "source": [
    "Un array puede ser aleatoriamente mezaclada haciendo uso de la función **shuffle()** de Numpy. Cuidado, la función **shuffle()** ejecuta el orden sobre la propia lista, de forma que esta función no retorna nada."
   ]
  },
  {
   "cell_type": "code",
   "execution_count": 19,
   "metadata": {},
   "outputs": [
    {
     "name": "stdout",
     "output_type": "stream",
     "text": [
      "[0, 1, 2, 3, 4, 5, 6, 7, 8, 9]\n",
      "[2, 9, 6, 4, 0, 3, 1, 7, 8, 5]\n"
     ]
    }
   ],
   "source": [
    "#Generamos la semilla\n",
    "np.random.seed(1)\n",
    "\n",
    "#Creamos una lista de 10 elementos\n",
    "l = [i for i in range(10)]\n",
    "print(l)\n",
    "\n",
    "#Procedemos a mezclar los elementos de forma aleatoria\n",
    "np.random.shuffle(l)\n",
    "print(l)"
   ]
  },
  {
   "cell_type": "markdown",
   "metadata": {},
   "source": [
    "# Cuando fijar la semilla del generador de números aleatorios"
   ]
  },
  {
   "cell_type": "markdown",
   "metadata": {},
   "source": [
    "Existen situaciones a la hora de realizar un proyecto de Machine Learning en las que se podría considerar fijar la semilla del generador de números aleatorios\n",
    "\n",
    "* **Preparación de los datos:** en la preparación de los datos la aleatoriedad puede ser usada, como en la mezcla o selección de valores. La preparación de los datos debe ser consistente para que los datos siempre estén preparados de la misma forma durante la fijación del modelo, evaluación, y cuando realizamos predicciones con el modelo final\n",
    "\n",
    "* **Split de datos:** la separación de datos en por ejemplo train/test o en k-fold debe ser consistente. Esto nos asegura que cada algoritmo es entrenado y evaluado de la misma forma y con la misma submuestra de datos."
   ]
  },
  {
   "cell_type": "markdown",
   "metadata": {},
   "source": [
    "# Como controlar la aleatoriedad"
   ]
  },
  {
   "cell_type": "markdown",
   "metadata": {},
   "source": [
    "Un algoritmo de aprendizaje automático estocástico aprenderá de forma ligeramente diferente cada vez que se ejecute con los mismos datos. Esto dará a un rendimiento diferente en el algoritmo cada vez que este es entrenado. Ya hemos indicado que podemos entrenar nuestro algoritmo fijando siempre la misma secuencia de números cada vez. Cuando evaluamos un modelo esto es una mala práctica, ya que esconde incertidumbre inherente en nuestro modelo.\n",
    "\n",
    "Una mejor forma a la hora de evaluar nuestro algoritmo es hacerlo de tal manera que el rendimiento informado incluya la incertidumbre. Esto se puede hacer evaluando nuestro modelo múltiples veces con diferentes secuencias de números aleatorios. Es decir, la semilla del generador de números aleatorios puede ser fijado una vez al principio de la evaluación del modelo o ir cambiando su valor cada vez que el modelo es evaluado. Tenemos que considerar dos aspectos:  \n",
    "\n",
    "* **Incertidumbre en los datos:** Evalua un algoritmo con múltiples splits de datos nos dará una visión de como varía el rendimiento de nuestro algoritmo cambiando los datos de train y test.\n",
    "\n",
    "* **Incertidumbre del algoritmo:** Evaluando un algoritmo múltiples veces con el mismo split de datos nos dará una visión de como varía el rendimiento de solamente nuestro algoritmo."
   ]
  }
 ],
 "metadata": {
  "kernelspec": {
   "display_name": "Python 3",
   "language": "python",
   "name": "python3"
  },
  "language_info": {
   "codemirror_mode": {
    "name": "ipython",
    "version": 3
   },
   "file_extension": ".py",
   "mimetype": "text/x-python",
   "name": "python",
   "nbconvert_exporter": "python",
   "pygments_lexer": "ipython3",
   "version": "3.6.3"
  }
 },
 "nbformat": 4,
 "nbformat_minor": 2
}
