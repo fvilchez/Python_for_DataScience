{
 "cells": [
  {
   "cell_type": "code",
   "execution_count": 5,
   "metadata": {
    "collapsed": true
   },
   "outputs": [],
   "source": [
    "import numpy as np \n",
    "import matplotlib.pyplot as plt \n",
    "from scipy.stats import norm \n",
    "from numpy.random import randn, seed"
   ]
  },
  {
   "cell_type": "markdown",
   "metadata": {},
   "source": [
    "# Introducción"
   ]
  },
  {
   "cell_type": "markdown",
   "metadata": {},
   "source": [
    "Una muestra de datos es una instantánea de una población más amplia, de todas las observaciones que podrían tomarse de un dominio o en la generación de un proceso.\n",
    "Curiosamente, muchas de las observaciones que vemos en la vida real de forma recurrente siguen un patrón llamada distribución normal, o más formalmente, distribución Gaussiana."
   ]
  },
  {
   "cell_type": "markdown",
   "metadata": {},
   "source": [
    "# Distribución Gaussiana"
   ]
  },
  {
   "cell_type": "markdown",
   "metadata": {},
   "source": [
    "Una distribución de datos hace referencia a la forma que toman dichos datos cuando son representados. La distribución de valores continuos más común, es la conocida curva de la campana. Esta distribución también es conocida como distribución normal, ya que en su interior caen una gran cantidad de datos. Es también conocida como distribución gaussiana. Algunas de las observaciones que siguen una distribución gaussiana son:\n",
    "\n",
    "* El peso de las personas.\n",
    "\n",
    "* Temperatura coorporal.\n",
    "\n",
    "* Test de inteligencia."
   ]
  },
  {
   "cell_type": "markdown",
   "metadata": {},
   "source": [
    "Python dispone de la función **norm**, donde le indicamos la media y la varianza y dicha función nos genera una distribución normal (ideal) con la media y la varianza indicadas."
   ]
  },
  {
   "cell_type": "code",
   "execution_count": 2,
   "metadata": {},
   "outputs": [
    {
     "data": {
      "image/png": "[encoded data removed]",
      "text/plain": [
       "<matplotlib.figure.Figure at 0x7fa0d8692cc0>"
      ]
     },
     "metadata": {},
     "output_type": "display_data"
    }
   ],
   "source": [
    "#Generamos el eje x de nuestra distribución\n",
    "x_axis = np.arange(-3, 3, 0.001)\n",
    "\n",
    "#Generamos una distribución normal de media cero y varianza igual a la unidad \n",
    "y_axis = norm.pdf(x_axis, 0, 1)\n",
    "\n",
    "#Vemos el resultado\n",
    "plt.plot(x_axis, y_axis)\n",
    "plt.show()"
   ]
  },
  {
   "cell_type": "markdown",
   "metadata": {},
   "source": [
    "Podemos ver como este ejemplo genera un distribución gaussiana ideal, donde en el eje x tenemos la variale y en el eje y lo que tenemos es la probabilidad para cada observación. De forma que las observaciones alrededor de cero son las observaciones más probables y las observaciones en los extremos (3 y -3) son las menos probables. Técnicamente esta función se le conoce como función densidad de probabilidad y se estudiará con más detalle más adelante."
   ]
  },
  {
   "cell_type": "markdown",
   "metadata": {},
   "source": [
    "Es de gran ayuda cuando los datos siguen una distribucióon gaussiana ó cuando podemos asumir una distribución gaussiana  a la hora de calcular estadísticos. Esto se debe a que la distribución gaussiana es altamente interpretable. No todas las distribuciones son gaussianas y es muy importante hacer una distinción cuando esto no sucede, esto se debe a que muchos tests estadísticos como veremos más adelate asumen normalidad en los datos. \n",
    "\n",
    "Algunos ejemplos en las que las observaciones no siguen una distribución gaussiana son:\n",
    "\n",
    "* El sueldo de las personas\n",
    "\n",
    "* Población de las ciudades\n",
    "\n",
    "* Ventas de libros"
   ]
  },
  {
   "cell_type": "markdown",
   "metadata": {},
   "source": [
    "Otra distribución muy común es la distribución uniforme, a menudo podemos ver que todos los items o valores de una muestra tienen la misma probabilidad de ser seleccionados. La forma de la función de distribución de este tipo de datos es una línea recta."
   ]
  },
  {
   "cell_type": "markdown",
   "metadata": {
    "collapsed": true
   },
   "source": [
    "# Muestra vs Población"
   ]
  },
  {
   "cell_type": "markdown",
   "metadata": {},
   "source": [
    "Podemos pensar que los datos son generados por procesos desconocidos. Los datos que recolectamos son llamados muestras de datos, mientras que todos los datos que podrían ser recolectados son llamados población.\n",
    "\n",
    "* **Muestra de datos:** un subconjunto de observaciones de un grupo.\n",
    "\n",
    "* **Población de datos:** todas las posibles observaciones de un grupo."
   ]
  },
  {
   "cell_type": "markdown",
   "metadata": {},
   "source": [
    "Esta es una distinción muy importante ya que los métodos estadísticos utilizados varían en función de si trabajamos con una muestra o una población. En el caso del aprendizaje automático, muy a menudo se trabaja con muestras de datos."
   ]
  },
  {
   "cell_type": "markdown",
   "metadata": {
    "collapsed": true
   },
   "source": [
    "# Conjunto de datos de prueba"
   ]
  },
  {
   "cell_type": "markdown",
   "metadata": {},
   "source": [
    "Antes de comenzar a realizar un análisis de los estadísticos más importantes a la hora de trabajar con distribuciones Gaussianas, vamos a generar una muestra de prueba para trabajar con ella. Podemos hacer uso de la función **randn()** para generar una muestra de números aleatorios. Existen dos parámetros claves a la hora de generar cualquier distribución Gaussiana, la media y la desviación estándar.\n",
    "La función **randn()** genera un número determinado de números aleatorios extraídos de una distribución gaussiana de media cero y desviación estándar igual a la unidad. Podemos agregar la media deseada sin más que agregar un valor a nuestra muestra y una desviación estándar deseada sin más que multiplicar por el factor deseado."
   ]
  },
  {
   "cell_type": "code",
   "execution_count": 6,
   "metadata": {},
   "outputs": [
    {
     "data": {
      "image/png": "[encoded data removed]",
      "text/plain": [
       "<matplotlib.figure.Figure at 0x7fd627ed2e48>"
      ]
     },
     "metadata": {},
     "output_type": "display_data"
    }
   ],
   "source": [
    "#Fijamos la semilla generadora\n",
    "seed(1)\n",
    "\n",
    "#Generamos nuestra muestra de datos\n",
    "data = 5 * randn(10000) + 50\n",
    "\n",
    "#Vemos el histograma de nuestros datos\n",
    "plt.hist(data)\n",
    "plt.show()"
   ]
  },
  {
   "cell_type": "markdown",
   "metadata": {},
   "source": [
    "Podemos observar como nuestros presentan una distribución aproximádamente gaussiana. Es decir, en determinadas ocasiones nuestros datos aunque no presenten una distribución gaussiana perfecta, podemos asumir como si estos tuviesen una distribución gaussiana."
   ]
  },
  {
   "cell_type": "code",
   "execution_count": 7,
   "metadata": {},
   "outputs": [
    {
     "data": {
      "image/png": "[encoded data removed]",
      "text/plain": [
       "<matplotlib.figure.Figure at 0x7fd625e4e240>"
      ]
     },
     "metadata": {},
     "output_type": "display_data"
    }
   ],
   "source": [
    "plt.hist(data, bins = 100)\n",
    "plt.show()"
   ]
  },
  {
   "cell_type": "markdown",
   "metadata": {},
   "source": [
    "# Tendencia Central"
   ]
  },
  {
   "cell_type": "markdown",
   "metadata": {},
   "source": [
    "La tendencia central de una distribución se refiere al medio o al valor más típico en una distribución. El valor más común o el más probable. En una distribución Gaussiana la tendencia central se le conoce como la media, o más formalmente como la media aritmética, y es uno de los dos parámetros principales que definen una distribución Gaussiana. La media aritmética de una muestra es calculada como la suma de las observaciones dividida por el número total de observaciones de la muestra\n",
    "\n",
    "$$ x^{-} =\\frac{1}{n} \\sum_{i = 1}^nx_{i}$$"
   ]
  },
  {
   "cell_type": "markdown",
   "metadata": {},
   "source": [
    "Podemos hacer uso de la función **mean()** para calcular la media de una muestra de datos."
   ]
  },
  {
   "cell_type": "code",
   "execution_count": 11,
   "metadata": {},
   "outputs": [
    {
     "name": "stdout",
     "output_type": "stream",
     "text": [
      "Mean: 50.049 \n"
     ]
    }
   ],
   "source": [
    "#Calculamos la media\n",
    "result = np.mean(data)\n",
    "print('Mean: %.3f ' % result)"
   ]
  },
  {
   "cell_type": "markdown",
   "metadata": {},
   "source": [
    "El cálculo de la media aritmética de una muestra es un estimación de los parámetros que subyacen a la distribución de la población de la cual hemos extraído la muestra. Aunque sabemos que nuestra media es 50, podemos ver que con un total de 10000 muestras tenemos un valor bastante preciso."
   ]
  },
  {
   "cell_type": "markdown",
   "metadata": {},
   "source": [
    "La media se trata de una métrica que se ve muy influida por valores raros (outliers), es decir, valores que se alejan mucho de la media. Es por esto, que en determinadas ocasiones se trata de un valor que puede resultar engañoso.\n",
    "\n",
    "Calcular la media en otras distribuciones, como una distribución uniforme o una distribución cuadrática, puede que carezca de sentido, ya que aunque el valor puede calcularse, se referirá a un valor arbitrario esperado en lugar de a la verdadera tendencia central."
   ]
  },
  {
   "cell_type": "markdown",
   "metadata": {},
   "source": [
    "En el caso de existencia de outliers o de distribuciones no Gaussianas, una alternativa que comunmente es usada como tendencia central alternativa es la mediana.\n",
    "\n",
    "La mediana se calcula primero ordenando los datos y localizando el valor central. En el caso de que el número de elementos sea par, la mediana se calcula como  el promedio de los dos valores centrales.\n",
    "\n",
    "Podemos calcular la mediana de una muestra a partir de la función **median()**."
   ]
  },
  {
   "cell_type": "code",
   "execution_count": 12,
   "metadata": {},
   "outputs": [
    {
     "name": "stdout",
     "output_type": "stream",
     "text": [
      "Median 50.042 \n"
     ]
    }
   ],
   "source": [
    "#Calculamos la mediana\n",
    "result = np.median(data)\n",
    "print('Median %.3f ' % result )"
   ]
  },
  {
   "cell_type": "markdown",
   "metadata": {},
   "source": [
    "Podemos ver que en este caso los valores son muy similares, esto ocurre siempre que nuestra distribución sea Gaussiana, pero podemos tener situaciones en las que la media y la mediana sean valores realmente diferentes."
   ]
  },
  {
   "cell_type": "markdown",
   "metadata": {},
   "source": [
    "# Varianza"
   ]
  },
  {
   "cell_type": "markdown",
   "metadata": {},
   "source": [
    "La varianza de una distribución hace referencia en como en promedio las observaciones varían o difieren del valor medio. Es útil pensar que la varianza es una medida que mide la separación de una distribución.\n",
    "\n",
    "Una varianza baja significará que la distribución tiene valores agrupados alrededor de la media, mientras que una varianza elevada indicará que tenemos valores separados de la media."
   ]
  },
  {
   "cell_type": "code",
   "execution_count": 13,
   "metadata": {},
   "outputs": [
    {
     "data": {
      "image/png": "[encoded data removed]",
      "text/plain": [
       "<matplotlib.figure.Figure at 0x7fd625c77f60>"
      ]
     },
     "metadata": {},
     "output_type": "display_data"
    }
   ],
   "source": [
    "#Generamos dos distribuciones normales\n",
    "x_axis = np.arange(-3, 3, 0.001)\n",
    "\n",
    "#Generamos una primera distribución con media cero y varianza 0.5\n",
    "plt.plot(x_axis, norm.pdf(x_axis, 0, 0.5))\n",
    "plt.plot(x_axis, norm.pdf(x_axis, 0, 1))\n",
    "plt.show()"
   ]
  },
  {
   "cell_type": "markdown",
   "metadata": {},
   "source": [
    "La varianza de una muestra de datos se calcula como: \n",
    "\n",
    "$$s^2 = \\frac{1}{n-1}\\sum_{i = 1}^n(x_{i} - mean(x))$$"
   ]
  },
  {
   "cell_type": "markdown",
   "metadata": {},
   "source": [
    "Esta ecuación puede ser vista sin el -1 en el denominador, este sería el cálculo de la varianza para una población y no una muestra. Podemos hacer uso de la función **var()** para calcular la varianza de una distribución."
   ]
  },
  {
   "cell_type": "code",
   "execution_count": 21,
   "metadata": {},
   "outputs": [
    {
     "name": "stdout",
     "output_type": "stream",
     "text": [
      "Var 25.136\n"
     ]
    }
   ],
   "source": [
    "#Generamos una distribución \n",
    "data = 5 * randn(10000) + 50\n",
    "\n",
    "#Calculamos la varianza\n",
    "result = np.var(data, ddof = 1)\n",
    "print('Var %.3f' % result)"
   ]
  },
  {
   "cell_type": "markdown",
   "metadata": {},
   "source": [
    "La interpretación de la varianza puede resultar confusa y complicada ya que las unidades se encuentran elevadas al cuadrado. A menudo, cuando se resume la separación de valores de una distribución gaussiana, se hace uso de la raíz cuadrada de la varianza. Este valor es conocido como la desviación estándar.\n",
    "\n",
    "La desviación estándar junto con la media, son las dos medidas fundamentales y requeridas para especificar una distribución Gaussiana.\n",
    "\n",
    "$$\\sigma = \\sqrt{s^{2}}$$"
   ]
  },
  {
   "cell_type": "markdown",
   "metadata": {},
   "source": [
    "Podemos calcular la desviación estándar de una muestra haciendo uso de la función **std()**."
   ]
  },
  {
   "cell_type": "code",
   "execution_count": 20,
   "metadata": {},
   "outputs": [
    {
     "name": "stdout",
     "output_type": "stream",
     "text": [
      "std 4.980\n"
     ]
    }
   ],
   "source": [
    "#Calculamos la desviación estándar \n",
    "desv = np.std(data, ddof = 1)\n",
    "print('std %.3f' % desv)"
   ]
  },
  {
   "cell_type": "markdown",
   "metadata": {},
   "source": [
    "Las medidas de varianza pueden ser calculadas para distribuciones no Gaussianas, pero generalmente requieren que la distribución sea identificada, para poder calcular una medida específica de varianza para dicha distribución."
   ]
  },
  {
   "cell_type": "markdown",
   "metadata": {},
   "source": [
    "# Describiendo una Gaussiana"
   ]
  },
  {
   "cell_type": "markdown",
   "metadata": {},
   "source": [
    "En el machine learning aplicado, a menudo tendremos que reportar los resultados de nuestro algoritmo. Es decir, un reporte de las abilidades de nuestro modelo para estimar la variables a predecir. Es muy común dar como medida la media de nuestra métrica, tras realizar un proceso iterativo como puede ser k-fold.\n",
    "\n",
    "CUando reportamos esto lo que realmente estamos reportando es la distribución de nuestras métrica, estas muy probablemente seguirán una distribución Gaussiana.\n",
    "\n",
    "Es muy común dar como medida solo la media. Esto podría ocultar otros detalles importantes de nuestra distribución. Un buen reporte debería venir acompañado de la media, la desviación y el número de observaciones de nuestra muestra.\n",
    "\n",
    "También se debería comprobar si nuestras puntuaciones tiene una distribución Gaussiana o lo suficientemente Gaussiana para defender los parámetros de la distribución Gaussiana."
   ]
  }
 ],
 "metadata": {
  "kernelspec": {
   "display_name": "Python 3",
   "language": "python",
   "name": "python3"
  },
  "language_info": {
   "codemirror_mode": {
    "name": "ipython",
    "version": 3
   },
   "file_extension": ".py",
   "mimetype": "text/x-python",
   "name": "python",
   "nbconvert_exporter": "python",
   "pygments_lexer": "ipython3",
   "version": "3.6.3"
  }
 },
 "nbformat": 4,
 "nbformat_minor": 2
}
