{
 "cells": [
  {
   "cell_type": "markdown",
   "metadata": {},
   "source": [
    "# Introducción"
   ]
  },
  {
   "cell_type": "markdown",
   "metadata": {},
   "source": [
    "El muestreo de datos (Data Sampling) hace referencia a métodos estadísticos para seleccionar observaciones de un dominio con el objetivo de estimar parámetros de una población.\n",
    "\n",
    "Sin embargo, el remuestreo de datos hace referencia a métodos para obtener de forma eficiente un conjunto de datos para mejorar la estimación de parámetros y ayudar a cuantificar la incertidumbre de las estimaciones.\n",
    "\n",
    "Ambos, el muestreo y el remuestreo son métodos necesarios en el aprendizaje automático"
   ]
  },
  {
   "cell_type": "markdown",
   "metadata": {},
   "source": [
    "# Muestreo estadístico"
   ]
  },
  {
   "cell_type": "markdown",
   "metadata": {},
   "source": [
    "Cuando estamos trabajando con un conjunto de datos, lo normal es que cada fila represente una observación. El conjunto de observaciones realizadas en un dominio representan muestras de una población desconocida. Sin embargo, podemos desear estimar propiedades de dicha población. El muestreo consiste en seleccionar una parte de la población para estimar algo sobre la población completa."
   ]
  },
  {
   "cell_type": "markdown",
   "metadata": {},
   "source": [
    "## Como muestrear"
   ]
  },
  {
   "cell_type": "markdown",
   "metadata": {},
   "source": [
    "El muestreo estadístco consiste en el proceso de seleccionar un subconjunto de ejemplos de una población con el objetivo de estimar propiedades de la población. El muestreo tiene muchos beneficios comparado a trabajar con datos completos, incluyendo coste computacional reducida y mayor velocidad.\n",
    "\n",
    "Para poder realizar el muestreo, este requiere definir de forma cuidadosa la población y el método por el cual se seleccionarán observaciones que sean parte de nuestra  muestra de datos. Algunos aspectos a considerar a priori a la hora de colectar muestras de datos son:\n",
    "\n",
    "* **Objetivo del muestreo:** propiedades de la población que deseamos estimar usando la muestra.\n",
    "\n",
    "* **Población:** el alcance o el dominio desde el cuál teóricamente se podrían realizar observaciones.\n",
    "\n",
    "* **Criterio de selección:** metodología que usaremos para aceptar o rechazar observaciones en nuestra muestra.\n",
    "\n",
    "* **Tamaño muestra:** número de observaciones que conformarán la muestra.\n",
    "\n",
    "El muestreo estadístico es un amplio campo de estudio, pero en el aprendizaje automático aplicado, existen tres tipos muy usados: \n",
    "\n",
    "* **Simple Random Sampling:** las muestras son extraídas con una probabilidad uniforme del dominio.\n",
    "\n",
    "* **Systematic Sampling:** las muestras son extraídas usando un patrón específico, tales como intervalos.\n",
    "\n",
    "* **Stratified Sampling:** las muestras son extraídas dentro de categorías específicas."
   ]
  },
  {
   "cell_type": "markdown",
   "metadata": {},
   "source": [
    "## Errores de muestreo"
   ]
  },
  {
   "cell_type": "markdown",
   "metadata": {},
   "source": [
    "El muestreo requiere hacer inferencia estadística sobre la población a partir de un pequeño conjunto de observaciones. Podemos generalizar propiedades de la población a partir de la muestra. Este proceso de estimación y generalización es mucho más rápido que trabajar con todas las posibles observaciones, pero puede contener errores.\n",
    "\n",
    "En muchas ocasiones, podemos cuantificar la incertidumbre de nuestras estimaciones, tales como los intervalos de confianza. Existen muchas formas de introducir errores en nuestra muestra de datos. Los dos tipos de errores principales son el sesgo y el error de muestreo:\n",
    "\n",
    "* **Selection Bias:** causado cuando el método de extracción de observaciones sesga la muestra de alguna manera.\n",
    "\n",
    "* **Sampling Error:** causado por la naturaleza aleatoria de la extracción de observaciones que sesga la muestra de alguna manera."
   ]
  },
  {
   "cell_type": "markdown",
   "metadata": {},
   "source": [
    "# Remuestreo estadístico"
   ]
  },
  {
   "cell_type": "markdown",
   "metadata": {},
   "source": [
    "Una vez tenemos una muestra de datos, esta puede ser usada para estimar parámetros de la población. El problema al que nos enfrentamos es que si solo tenemos una estimación de los parámetros de la población, no tendremos una idea de la variabilidad o de la incertidumbre respecto a la estimación realizada. Una forma de abordar este problema es estimar dichos parámetros varias veces a partir de nuestra muestra de datos. Esto es llamado remuestreo.\n",
    "\n",
    "Los métodos de remuestreo estadístico son procedimientos que describen como utilizar los datos disponibles de forma óptima para estimar parámetros poblacionales. EL resultado puede ser tanto una estimación más precisa de los parámetros y una cuantificación de la incertidumbre de lo estimado. Una desventaja de estos métodos es que computacionalmente son muy costosos, requeriendo decenas, cientos o incluso miles de muestras para poder obterner una estimación robusta de los parámetros de la población.\n",
    "\n",
    "Cada submuestra de la muestra de datos originales es usada para estimar parámetros de la población. Los parámetros de la población estimados a partir de las muestras pueden ser considerados como herramientas estadísticas con el objetivo de cuantificar el valor esperado y varianza, proporcionando medidas de la incertidumbre de los estimado. La clave de este proceso es que debe ser repetido múltiples veces. El problema con esto es que tendremos relaciones entre las muestras como observaciones que se compartirán en múltiples submuestras. Esto significa que las submuestras y los parámetros estimados de la población no están idénticamente e independientemente distribuidos.\n",
    "\n",
    "Existen dos métodos de remuestreo que son usados de forma muy común:\n",
    "\n",
    "* **Bootstrap:** los muestras son extraídas de nuestro conjunto de datos con reemplazo (permitiendo que la misma muestra aparezca más de una vez), donde aquellas muestras que no son extraídas de la muestra pueden ser usadas en el test.\n",
    "\n",
    "* **k-fold Cross-Validation:** un conjunto de datos es particionado en k grupos, donde a cada grupo se le da la oportunidad de ser usado como test, dejando los grupos restantes como conjuntos de entrenamiento. Este método es específicamente el más usado en la evaluación de modelos predictivos.\n",
    "\n",
    "Generalmente los diferentes métodos usados en el remuestreo para la estimación del rendimiento de un modelo predictivo funcionan de forma similar: un subconjunto de muestras son usadas para fijar un modelo y el resto de muestras son usadas para estimar la eficacia del modelo. Este proceso es repetido múltiples veces y los resultados son agregados y resumidos. Las diferencias en las técnicas suelen centrarse en el método mediante el cual se eligen las submuestras."
   ]
  }
 ],
 "metadata": {
  "kernelspec": {
   "display_name": "Python 3",
   "language": "python",
   "name": "python3"
  },
  "language_info": {
   "codemirror_mode": {
    "name": "ipython",
    "version": 3
   },
   "file_extension": ".py",
   "mimetype": "text/x-python",
   "name": "python",
   "nbconvert_exporter": "python",
   "pygments_lexer": "ipython3",
   "version": "3.6.3"
  }
 },
 "nbformat": 4,
 "nbformat_minor": 2
}
