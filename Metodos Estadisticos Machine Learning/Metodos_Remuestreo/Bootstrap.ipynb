{
 "cells": [
  {
   "cell_type": "code",
   "execution_count": 1,
   "metadata": {
    "collapsed": true
   },
   "outputs": [],
   "source": [
    "from sklearn.utils import resample"
   ]
  },
  {
   "cell_type": "markdown",
   "metadata": {},
   "source": [
    "# Introducción"
   ]
  },
  {
   "cell_type": "markdown",
   "metadata": {},
   "source": [
    "El método de remuestreo bootstrap es una técnica usada para estimar estadísticos de una población muestreando un conjunto de datos con reemplazamiento. Puede ser usado para estimar estadísticos tales como la media y la desviación estándar. Es usado en el aprendizaje automático para estimar las abilidades de los diferentes modelos cuando hacemos predicciones con datos no incluidos en el conjunto de entrenamiento. Una propiedad deseada a la hora de representar los resultados de un modelo es que estos puedan ser representados mediante intervalos de confianza, esto es algo que los métodos bootstrap permiten mientras que los métodos como la validación cruzada no permiten esta opción."
   ]
  },
  {
   "cell_type": "markdown",
   "metadata": {},
   "source": [
    "# Método Bootstrap"
   ]
  },
  {
   "cell_type": "markdown",
   "metadata": {},
   "source": [
    "El método bootstrap es una técnica estadística para cuantificar la estimación sobre una población, promediando estimaciones para múltiples muestras de datos. Importante, las muestras son construidas extrayendo observaciones de un gran conjunto de datos y una vez esta observación es extraida se retorna  al conjunto de datos. Esto permite que una observación aparezca más de una vez en una pequeña muestra. Este enfoque para muestrear es llamado muestreo con remplazamiento. Esto proceso puede resumirse como:\n",
    "\n",
    "* Elegir el tamaño de la muestra\n",
    "\n",
    "* Mientras el tamaño de la muestra sea menor al seleccionadoç\n",
    "    \n",
    "    * Seleccionamos aleatoriamente una observación del dataset\n",
    "    \n",
    "    * La añadimos a la muestra"
   ]
  },
  {
   "cell_type": "markdown",
   "metadata": {},
   "source": [
    "El método bootstrap puede ser usado para estimar un estadístico de una población. Para ello, se toman de forma repetida pequeñas muestras, calculando el estadístico para cada una de las muestras y finalmente se toma el promedio de los estadísticos calculados. Este procedimiento puede resumirse de la siguiente forma:\n",
    "\n",
    "* Seleccionar un número de muestras bootstrap para realizar\n",
    "\n",
    "* Seleccionar un tamaño muestral\n",
    "\n",
    "* Para cada muestra bootstrap\n",
    "\n",
    "    * Seleccionar una muestra con remplazamiento con el tamaño elegido\n",
    "    \n",
    "    * Calcular el estadístico de la muestra\n",
    "    \n",
    "\n",
    "* Calcular la media de la muestra de estadísticos calculados"
   ]
  },
  {
   "cell_type": "markdown",
   "metadata": {},
   "source": [
    "Bootstrap es ampliamente usado y se trata de una herramienta estadística muy potente que puede ser usada para cuantificar la incertidumbre asociada a un estimador o método de aprendizaje estadístico. Es se hace entrenando el modelo con la muestra y evaluando la abilidad del modelo con aquellas muestras no incluidas. Estas muestras no incluidas son llamadas muestras **out-bag** o **OBB**. Este procedimiento de usar bootstrap para estimar la abilidad de un modelo puede resumirse de la siguiente manera:\n",
    "\n",
    "* Seleccionar un número de muestras bootstrap a realizar\n",
    "\n",
    "* Seleccionar el tamaño muestral\n",
    "\n",
    "* Para cada muestra bootstrap:\n",
    "\n",
    "    * Seleccionar una muestra con remplazamiento con el tamaño elegido\n",
    "    \n",
    "    * Fijar un modelo con la muestra\n",
    "    \n",
    "    * Estima la abilidad del modelo con las muestras OBB\n",
    "\n",
    "\n",
    "* Calcular la media de la muestra de estadísticos calculados"
   ]
  },
  {
   "cell_type": "markdown",
   "metadata": {},
   "source": [
    "Cualquier preparación de datos a priori para fijar el modelo o un tuneo de hiperparámetros de el modelo debe ocurrir dentro del bucle. Esto es para evitar la fuga de datos donde el conocimiento del conjunto de test es usado para mejorar el modelo. Una característica útil del método bootstrap es que los resultados de las estimaciones a menudo forman una distribución gaussianna. Por lo tanto podemos sumarizar esta distribución con una tendencia central, medidas de varianza pueden ser dadas, tales como la desviación estándar y el error estándar. Además, un intervalo de confianza puede ser calculado y usado."
   ]
  },
  {
   "cell_type": "markdown",
   "metadata": {},
   "source": [
    "# Configuración de Bootstrap"
   ]
  },
  {
   "cell_type": "markdown",
   "metadata": {},
   "source": [
    "Existen dos parámetrosque deben ser elegidos cuando realizamos bootstrap: el tamaño de la muestra y el número de repeticiones del procedimiento."
   ]
  },
  {
   "cell_type": "markdown",
   "metadata": {
    "collapsed": true
   },
   "source": [
    "## Tamaño de la muestra"
   ]
  },
  {
   "cell_type": "markdown",
   "metadata": {},
   "source": [
    "En aprendizaje automático, es común usar el tamaño muestral que es el mismo que el del conjunto de datos original. La muestra bootstrap es de igual tamaño que el conjunto de datos original. Como resultado, algunas muestras aparecerán múltiples veces en la muestra bootstrap mientras que otras no serán seleccionadas.\n",
    "\n",
    "Si el conjunto de datos es muy grande y la eficiencia computacional es un problema, pequeñas muestras pueden ser usadas, tales como el 50% o 80% del tamaño del conjunto de datos."
   ]
  },
  {
   "cell_type": "markdown",
   "metadata": {},
   "source": [
    "## Repeticiones"
   ]
  },
  {
   "cell_type": "markdown",
   "metadata": {},
   "source": [
    "El número de repeticiones debe ser lo suficientemente grande para asegurarnos de que existe un significado estadístico en los resultados obtenidos. Un número de repeticiones podría ser entre 20 y 30."
   ]
  },
  {
   "cell_type": "markdown",
   "metadata": {},
   "source": [
    "# Bootstrap en Python"
   ]
  },
  {
   "cell_type": "markdown",
   "metadata": {},
   "source": [
    "La librería scikit-learn proporciona una implementación que puede crear una muestra bootstrap. La función **resample()**  puede ser usada con este fin. Esta función toma como argumentos el array de datos, el argumento **replace** que si toma el valor de True quiere decir que estamos haciendo la selección con reemplazamiento en caso contrario tomará el valor de False, el tamaño de la muestra."
   ]
  },
  {
   "cell_type": "code",
   "execution_count": 6,
   "metadata": {},
   "outputs": [
    {
     "name": "stdout",
     "output_type": "stream",
     "text": [
      "Bootstrap Sample: [0.5, 0.2, 0.4, 0.4]\n",
      "Out-Bag Sample: [0.1, 0.3, 0.6]\n"
     ]
    }
   ],
   "source": [
    "#Nos creamos una muestras de datos\n",
    "data = [0.1, 0.2, 0.3, 0.4, 0.5, 0.6]\n",
    "\n",
    "#Hacemos uso de resample\n",
    "boot = resample(data, replace = True, n_samples = 4, random_state = 7)\n",
    "print('Bootstrap Sample: %s' % boot)\n",
    "\n",
    "#Vemos las muestras que se quedaron fuera\n",
    "out_bag = [x for x in data if x not in boot]\n",
    "print('Out-Bag Sample: %s' % out_bag)"
   ]
  }
 ],
 "metadata": {
  "kernelspec": {
   "display_name": "Python 3",
   "language": "python",
   "name": "python3"
  },
  "language_info": {
   "codemirror_mode": {
    "name": "ipython",
    "version": 3
   },
   "file_extension": ".py",
   "mimetype": "text/x-python",
   "name": "python",
   "nbconvert_exporter": "python",
   "pygments_lexer": "ipython3",
   "version": "3.6.3"
  }
 },
 "nbformat": 4,
 "nbformat_minor": 2
}
