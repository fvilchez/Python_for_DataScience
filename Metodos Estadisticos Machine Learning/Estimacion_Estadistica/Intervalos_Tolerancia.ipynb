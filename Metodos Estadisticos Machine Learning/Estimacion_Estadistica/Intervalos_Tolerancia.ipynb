{
 "cells": [
  {
   "cell_type": "code",
   "execution_count": 10,
   "metadata": {
    "collapsed": true
   },
   "outputs": [],
   "source": [
    "from numpy.random import seed\n",
    "from numpy.random import randn\n",
    "from numpy import mean\n",
    "from numpy import sqrt \n",
    "from scipy.stats import chi2\n",
    "from scipy.stats import norm\n",
    "\n",
    "import matplotlib.pyplot as plt"
   ]
  },
  {
   "cell_type": "markdown",
   "metadata": {},
   "source": [
    "# Introducción"
   ]
  },
  {
   "cell_type": "markdown",
   "metadata": {},
   "source": [
    "Puede ser útil tene un límite superior e inferior en los datos. Estos límites puede ser usados para ayudarnos a identificar anomalías y un conjunto de expectativas. Un límite en observaciones de una población es llamado intervalo de tolerancia. Un intervalo de tolerancia es diferente a un intervalo de predicción que cuantifica la incertidumbre de un valor predicho. También es diferente a un intervalo de confianza que cuantifica la incertidumbre del parámetro de una población, por ejemplo, la media. Un intervalo de tolerancia cubre una proporción de la distribución de la población."
   ]
  },
  {
   "cell_type": "markdown",
   "metadata": {},
   "source": [
    "# Límites en Datos"
   ]
  },
  {
   "cell_type": "markdown",
   "metadata": {},
   "source": [
    "Es útil poner límite en los datos. Por ejemplo, si tenemos una muestra de datos en un dominio, si conocemos el límite superior e inferior de los valores nominales puede ser útil para identificar anomalías o outliers en los datos. Para un proceso o modelo que está haciendo predicciones, puede ser de gran ayuda conocer el rango de predicciones sensatas que podemos esperar. Conocer el rango común de valores puede ayudarnos a fijar expectativas y detectar anomalías. El rango común de valores para los datos es llamado intervalo de tolerancia."
   ]
  },
  {
   "cell_type": "markdown",
   "metadata": {},
   "source": [
    "# ¿Qué son los intervalos de tolerancia?"
   ]
  },
  {
   "cell_type": "markdown",
   "metadata": {},
   "source": [
    "El intervalo de tolerancia es un límite de la estimación de la proporción de datos de una población. El intervalo es limitado por el **\"sampling error\"** y por la varianza de la distribución de la población. Según la regla de los números grandes, conforme el tamaño de la muestra es incrementado, la probabilidad de coincidir con la población subyacente será mayor. Si los datos tienen una distribución Gaussiana, el intervalo puede ser expresado en el contexto de valor medio, por ejemplo:\n",
    "\n",
    "**x+/-y cubre el 95% de los datos con una confianza del 90%.**\n",
    "\n",
    "Un intervalo de tolerancia es definido en términos de dos cantidades:\n",
    "\n",
    "* **Coverage:** proporción de la población cubierta por el intervalo.\n",
    "\n",
    "* **Confidence:** confianza probabilística que el intervalo cubre en proporción a la población.\n",
    "\n",
    "El intervalo de confianza es construido a partir de datos usando dos coeficientes: coverage y el coeficiente de tolerancia. La cobertura(coverage) es la proporción de la población que el intervalo supuestamente debe contener. El coeficiente de tolerancia es el grado de confianza con el que el intervalo alcanza la cobertura especificada. Un intervalo de tolerancia con una cobertura del 95% y un coeficiente de tolerancia del 90% contendrá el 95% de la distribución de la población con una confianza del 90%."
   ]
  },
  {
   "cell_type": "markdown",
   "metadata": {},
   "source": [
    "# Como calcular los intervalos de tolerancia"
   ]
  },
  {
   "cell_type": "markdown",
   "metadata": {},
   "source": [
    "El tamaño de un intervalo de tolerancia es proporcional al tamaño de la muestra de la población y la varianza de la población. Hay dos métodos principales para calcular los intervalos de tolerancia dependiendo de la distribución de los datos: métodos paramétricos y no paramétricos.\n",
    "\n",
    "* **Intervalos de tolerancia paramétricos:** usar el conocimiento de la distribución de la población para especificar la cobertura y confianza. A menudo se utiliza para referirse a distribuciones gaussianas.\n",
    "\n",
    "* **Intervalos de tolerancia no paramétricos:** hacen uso de estadísticos de tipo rank para estimar la cobertura y la confianza, a menudo tienen una menor precisión (intervalos más amplios) debido a la falta de información sobre la distribución.\n",
    "\n",
    "Los intervalos de tolerancia son relativamente sencillos de calcular para una muestra de observaciones independientes extraídas de una distribución Gaussiana."
   ]
  },
  {
   "cell_type": "markdown",
   "metadata": {},
   "source": [
    "# Intervalos de tolerancia para una distribución Gaussianna"
   ]
  },
  {
   "cell_type": "markdown",
   "metadata": {},
   "source": [
    "A continuación vamos a proceder a mostrar mediante un ejemplo la forma de calcular los intervalos de tolerancia de una muestra de datos. Crearemos una muestra de 100 observaciones extraídas de una distribución Gaussianna y con una media de 50 y un desviación estándar de  5. Durante este ejemplo asumiremos que desconocemos estos dos parámetros ya que lo que queremos hacer es estimar estos dos parámetros. \n",
    "\n",
    "Lo siguiente que debemos de especificar son los grados de libertad, ya que serán usados en el cálculo de los valores críticos y en el cálculo del intervalo. Específicamente son usados para la estimación de la desviación estándar. Puesto que tenemos un total de 100 observaciones tenemos un total de 100 grados de libertad, puesto que a la hora de realizar el cálculo de la desviación estándar hacemos uso de la media, debemos de restar una unidad a los grados de libertad.\n",
    "\n",
    "Ahora necesitamos especificar el nivel de cobertura de los datos. En este ejemplo estamos interesados en el 95%. La proporción es 95. Debemos mover esta proporción al percentil 97.5 para cubrir el 95%.\n",
    "\n",
    "Tras esto necesitamos calcular la confianza de la cobertura. Podemos hacer esto recuperando el valor crítico de la distribución Chi-Squared dado un determinado número de grados de libertad y la probabilidad deseada.\n",
    "\n",
    "Tras realizar esto podemos aplicar la fórmula para calcular los intervalos de tolerancia\n",
    "\n",
    "$$interval = \\sqrt{\\frac{dof(1+\\frac{1}{n})*gauss\\_critical^2}{chi\\_critical}}$$"
   ]
  },
  {
   "cell_type": "markdown",
   "metadata": {},
   "source": [
    "Donde tenemos que **dof** es el número de grados de libertad, **n** es el tamaño de la muestra, **gauss_critical**  es el valor crítica de la distribución gaussianna, para cubri el 95% de la muestra y **chi_critical** es el valor crítica de la distribución Chi-Squared para la confianza deseada."
   ]
  },
  {
   "cell_type": "code",
   "execution_count": 8,
   "metadata": {},
   "outputs": [
    {
     "name": "stdout",
     "output_type": "stream",
     "text": [
      "Gaussian critical value: -1.960 (coverage=95%)\n",
      "Chi-Squared critical value: 69.230 (prob=99%, dof =99)\n",
      "Tolerance Interval: 2.355\n",
      "47.95 to 52.66 covers 95% of data with a confidence of 99%\n"
     ]
    }
   ],
   "source": [
    "#Fijamos la semilla\n",
    "seed(1)\n",
    "\n",
    "#Generamos el dataset\n",
    "data = 5*randn(100) + 50\n",
    "\n",
    "#Especificamos los grados de libertad\n",
    "n = len(data)\n",
    "dof = n-1\n",
    "\n",
    "#Especificamos la cobertura\n",
    "prop = 0.95\n",
    "prop_inv = (1 - prop) / 2\n",
    "gauss_critical = norm.ppf(prop_inv)\n",
    "print('Gaussian critical value: %.3f (coverage=%d%%)' % (gauss_critical, prop*100))\n",
    "#Especificamos la confianza\n",
    "prob = 0.99\n",
    "prop_inv = 1-prob\n",
    "chi_critical = chi2.ppf(prop_inv, dof)\n",
    "print('Chi-Squared critical value: %.3f (prob=%d%%, dof =%d)' % (chi_critical, prob*100, dof))\n",
    "\n",
    "#Tolerancia\n",
    "interval = sqrt((dof * (1 + (1/n)) * gauss_critical**2) / chi_critical)\n",
    "print('Tolerance Interval: %.3f' % interval)\n",
    "\n",
    "#Sumarizamos\n",
    "data_mean = mean(data)\n",
    "lower, upper = data_mean-interval, data_mean+interval\n",
    "print('%.2f to %.2f covers %d%% of data with a confidence of %d%%' % (lower, upper,\n",
    "prop*100, prob*100))"
   ]
  },
  {
   "cell_type": "markdown",
   "metadata": {},
   "source": [
    "También podemos demostrar como el intervalo de tolerancia drecrece a medida que aumentamos el número de muestras. "
   ]
  },
  {
   "cell_type": "code",
   "execution_count": 13,
   "metadata": {},
   "outputs": [
    {
     "data": {
      "image/png": "[encoded data removed]",
      "text/plain": [
       "<matplotlib.figure.Figure at 0x7fba6291ab70>"
      ]
     },
     "metadata": {},
     "output_type": "display_data"
    }
   ],
   "source": [
    "#Fijamos la semilla\n",
    "seed(1)\n",
    "\n",
    "#Nos creamos diferentes tamaños muestrales\n",
    "sizes = range(5,15)\n",
    "\n",
    "for n in sizes:\n",
    "    #Generamos nuestro conjunto de muestras\n",
    "    data = 5*randn(n) + 50\n",
    "    #Generamos el número de grados de libertad\n",
    "    dof = n-1\n",
    "    #Especificamos la cobertura\n",
    "    prop = 0.95\n",
    "    prop_inv = (1.0 - prop)/2.0\n",
    "    gauss_critical = norm.ppf(prop_inv)\n",
    "    #Especificamos la confianza\n",
    "    prob = 0.99\n",
    "    prop_inv = 1-prob\n",
    "    chi_critical = chi2.ppf(prop_inv, dof)\n",
    "    #Obtenemos la tolerancia\n",
    "    tol = sqrt((dof * (1 + (1/n)) * gauss_critical**2) / chi_critical)\n",
    "    #Hacemos el plot\n",
    "    plt.errorbar(n, 50, yerr=tol, color= 'blue' , fmt= 'o')\n",
    "\n",
    "#Mostramos los resultados \n",
    "plt.show()"
   ]
  }
 ],
 "metadata": {
  "kernelspec": {
   "display_name": "Python 3",
   "language": "python",
   "name": "python3"
  },
  "language_info": {
   "codemirror_mode": {
    "name": "ipython",
    "version": 3
   },
   "file_extension": ".py",
   "mimetype": "text/x-python",
   "name": "python",
   "nbconvert_exporter": "python",
   "pygments_lexer": "ipython3",
   "version": "3.6.3"
  }
 },
 "nbformat": 4,
 "nbformat_minor": 2
}
