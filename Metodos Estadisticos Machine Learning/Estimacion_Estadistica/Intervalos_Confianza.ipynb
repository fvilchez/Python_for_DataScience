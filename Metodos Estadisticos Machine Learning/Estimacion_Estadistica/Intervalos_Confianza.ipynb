{
 "cells": [
  {
   "cell_type": "code",
   "execution_count": 4,
   "metadata": {
    "collapsed": true
   },
   "outputs": [],
   "source": [
    "from math import sqrt\n",
    "from statsmodels.stats.proportion import proportion_confint\n",
    "from numpy.random import seed\n",
    "from numpy.random import rand\n",
    "from numpy.random import randint\n",
    "from numpy import mean \n",
    "from numpy import median\n",
    "from numpy import percentile"
   ]
  },
  {
   "cell_type": "markdown",
   "metadata": {},
   "source": [
    "# Introducción"
   ]
  },
  {
   "cell_type": "markdown",
   "metadata": {},
   "source": [
    "La gran mayoría del aprendizaje automático se centra en estimar el rendimiento de un algoritmo con datos no vistos. Los intervalos de confianza son una forma de cuantificar la incertidumbre de una estimación."
   ]
  },
  {
   "cell_type": "markdown",
   "metadata": {
    "collapsed": true
   },
   "source": [
    "# ¿Qué es un intervalo de confianza?"
   ]
  },
  {
   "cell_type": "markdown",
   "metadata": {},
   "source": [
    "Un intervalo de confianza es un límite en la estimación de una variable en una población. Es un intervalo estadístico usado para cuantificar la incertidumbre en una estimación. Un intervalo de confianza es diferente de un intervalo de tolerancia que describe los límites de la muestra de los datos de la distribución. Es también diferente de un intervalo de predicción que describe los límites de una simple observación. El intervalo de confianza proporciona límites en un parámetro de la población, tales como la media, desviación estándar, etc. En el aprendizaje automático aplicado, podemos querer usar intervalos de confianza en la presentación de las abilidades de nuestro algoritmo predictivo. Por ejemplo, un intervalo de confianza podría ser usada para presentar las abilidades de un modelo de clasificación:\n",
    "\n",
    "* Dada una muestra, existe una probabilidad del 95% de que el rango [x,y] cubra la verdadera precisión del modelo.\n",
    "\n",
    "Los intervalos de confianza puede ser usados en la presentación del error en un modelo predictivo de regresión:\n",
    "\n",
    "* Hay un 95% de probabilidad de que el rango [x,y] cubra el error verdadero del modelo.\n",
    "\n",
    "La elección del 95% de confianza es muy común en la presentación de intervalos de confianza, también pueden ser usados otros valores.\n",
    "\n",
    "El valor de un intervalo de confianza es la abilidad de cuantificar la incertidumbre de lo estimado. Nos proporciona un valor superior e inferior con una determinada probabilidad.\n",
    "\n",
    "* **Pequeños Intervalos de Confianza:** estimación más precisa.\n",
    "\n",
    "* **Grandes Intervalos de Confianza:** estimación menos precisa.\n",
    "\n",
    "Un intervalo de confianza pequeño significa un pequeño margen de eror y que hemos sido relativamente precisos estimando. Un intervalo de confianza grande significa un margen de error elevado y una menor precisión a la hora de estimar. EL uso de los intervalos de confianza nos ayudará de dos maneras. En primer lugar, los intervalos le dan a los que usan modelos una compresión de como de bueno puede llegar a ser el modelo. EL segundo beneficio de los intervalos de confianza es la facilidad de comparar modelos. Si los intervalos de confianza de dos modelos están superpuestos, esto es una indicación de la equivalencia entre dos modelos, por lo que sería razonable seleccionar el modelo más interpretable."
   ]
  },
  {
   "cell_type": "markdown",
   "metadata": {},
   "source": [
    "# Intervalo para la precisión en clasificación"
   ]
  },
  {
   "cell_type": "markdown",
   "metadata": {},
   "source": [
    "En los problemas de clasificación es muy común de hace uso de la métrica accuracy o el error de clasificación (inversa del accuracy) que describe la abilidad de clasificar que tiene un modelo predictivo. Lo que nos indica es la proporción de predicciones correctas o incorrectas realizadas por el modelo. Cada predicción es una decisión binaria que puede ser correcta o incorrecta. Técnicamente, es llamada experimento de Bernoulli. Las proporciones en un experimento de Bernoulli tienen una distribución específica llamada distribución Binomial. Afortunadamente, con una muesra de gran tamaño, podemos aproximar la distribución con una Gaussianna. En estadística, una sucesión de eventos independientes que pueden tomar el valor de éxito o fracaso es llamada proceso de Bernoulli. Para un N grande, la distribución de esta variable aleatoria se acerca a la distribución normal. Podemos hacer uso del supuesto de una distribución Gaussianna para calcular el intervalo de confianza:\n",
    "\n",
    "$$interval = z \\sqrt{\\frac{error(1-error)}{n}}$$\n",
    "$$interval = z \\sqrt{\\frac{accuracy(1-accuracy)}{n}}$$"
   ]
  },
  {
   "cell_type": "markdown",
   "metadata": {},
   "source": [
    "Donde el **interval** es el radio del intervalo de confianza, error y accuracy se corresponden a las métricas de nuestro algoritmo, **n** es el tamaño de la muestra, y **z** es un valor crírico de la distribución Gaussianna. Comunmente usa valores críticos de la distribución Gaussianna y sus correspondientes niveles de significancia son los siguientes:\n",
    "\n",
    "* 1.64(98%)\n",
    "\n",
    "* 1.96(95%)\n",
    "\n",
    "* 2.33(98%)\n",
    "\n",
    "* 2.58(99%)"
   ]
  },
  {
   "cell_type": "markdown",
   "metadata": {},
   "source": [
    "Por ejemplo, si consideramos un modelo con un error del 20%, en un conjunto de validación con 50 muestras. Podemos calcular el intervalo de confianza del 95% como"
   ]
  },
  {
   "cell_type": "code",
   "execution_count": 2,
   "metadata": {},
   "outputs": [
    {
     "name": "stdout",
     "output_type": "stream",
     "text": [
      "0.111\n"
     ]
    }
   ],
   "source": [
    "interval_error = 1.96*sqrt(0.2*(1-0.2)/50)\n",
    "print('%.3f' % interval_error)"
   ]
  },
  {
   "cell_type": "markdown",
   "metadata": {},
   "source": [
    "Tras esto podemos realizar las siguientes afirmaciones:\n",
    "\n",
    "* El error de clasificación de nuestro modelo es de 20% +/- 1%\n",
    "\n",
    "* Con un probabilidad del 95% el verdadero error de nuestro modelo se encuentra entre el 9% y el 31%"
   ]
  },
  {
   "cell_type": "markdown",
   "metadata": {},
   "source": [
    "Debemos de recordar que un intervalo de confianza es una probabilidad dentro de un rango."
   ]
  },
  {
   "cell_type": "markdown",
   "metadata": {},
   "source": [
    "La función **proportion_confint()** implementa el intervalo de confianza como una proporción binomial. Por defecto toma una asunción Gaussianna para la distribución binomial, además de otras variaciones más sofisticadas son soportadas en el cálculo. La función toma como argumento el número de aciertos (o errores), el número de muestras, y el nivel de significancia. Por ejemplo supongamos el caso en el cuál un algoritmo ha acertado un total de 88 casos para una muestra de observaciones y deseamos obtener el intervalo de confianza del 95%."
   ]
  },
  {
   "cell_type": "code",
   "execution_count": 3,
   "metadata": {},
   "outputs": [
    {
     "name": "stdout",
     "output_type": "stream",
     "text": [
      "lower=0.816, upper=0.944\n"
     ]
    }
   ],
   "source": [
    "#Vemos los límites superioes e inferiores de nuestro intervalo de confianza\n",
    "lower, upper = proportion_confint(88, 100, 0.05)\n",
    "print('lower=%.3f, upper=%.3f' % (lower, upper))"
   ]
  },
  {
   "cell_type": "markdown",
   "metadata": {},
   "source": [
    "Podemos decir que con una probabilidad del 95%, nuestro algoritmo tendrá un accuracy entre el 81.6% y el 94.4%."
   ]
  },
  {
   "cell_type": "markdown",
   "metadata": {
    "collapsed": true
   },
   "source": [
    "# Intervalos de Confianza no paramétricos"
   ]
  },
  {
   "cell_type": "markdown",
   "metadata": {},
   "source": [
    "A menudo no conocemos la distribución para una medida de rendimiento elegida. Por lo tanto, no podemos realizar el cálculo del intervalo de confianza de una forma analítica.\n",
    "\n",
    "Las asunciones que hay bajo los intervalos de confianza paramétricos son a menudo violados. La variable predictora alguna veces no sigue una distribución normal, incluso cuando es normal, la varianza de la distribución normal podría no ser igual para todos los niveles de la variable predictora.\n",
    "\n",
    "En estos casos, el método de remuestreo bootstrap puede ser usado como un método no paramétrico para calcular los intervalos de confianza. Boostrap es un método de simulación de Monte Carlo donde las muestras son extraídas de un conjunto de datos fijos y finito con reemplazamiento y un parámetro es estimado en cada muestra. Este procedimiento lleva a una etimación robusta del verdadero parámetro de la población mediante el muestreo.\n",
    "\n",
    "Este procedimiento puede ser usado para estimar las abilidades de un modelo predictivo fijando el modelo con cada muestra y evaluándolo con aquellas muestras que no están incluidas. La media o la mediana puede ser métricas que representen la abilidad de nuestro modelo cuando es evaluado con datos no vistos. Los intervalos de confianza pueden ser agregados seleccionando observaciones de la muestra de puntuaciones y calculando percentiles específicos.\n",
    "\n",
    "Recordar que un percentil es un valor extraido de la muestra ordenada donde se cumple que un porcentaje de la muestra cae por debajo de ese valor. Por ejemplo, el percentil 70 de una muestra indica que el 70% de las muestras caen por debajo de ese valor. El percentil 50 es la mediana. Antes de seleccionar un percentil debemos de seleccionar un nivel de significancia para el nivel de confianza, por ejemplo si seleccionamos un intervalo de confianza del 95%, representa un nivel de significancia del 5%. Puesto que el intervalo de confianza es simétrico respecto a la mediana, debemos seleccionar el percentil 2.5th y el percentil 97.5th para obtener el rango completo."
   ]
  },
  {
   "cell_type": "code",
   "execution_count": 11,
   "metadata": {},
   "outputs": [
    {
     "name": "stdout",
     "output_type": "stream",
     "text": [
      "El percentil 50th es: 0.750\n",
      "El percentil 2.5th es: 0.741\n",
      "El percentil 97.5th es: 0.757\n"
     ]
    }
   ],
   "source": [
    "#fijamos la semilla\n",
    "seed(1)\n",
    "\n",
    "#generamos un conjunto de datos\n",
    "dataset = 0.5 + rand(1000)*0.5\n",
    "\n",
    "#hacemos uso de la técnica bootstrap\n",
    "scores = list()\n",
    "for _ in range(100):\n",
    "    indices = randint(0,1000,1000)\n",
    "    sample = dataset[indices]\n",
    "    score = mean(sample)\n",
    "    scores.append(score)\n",
    "\n",
    "print('El percentil 50th es: %.3f' % median(scores))\n",
    "\n",
    "#Calculamos los límites del intervalo de confianza 95%\n",
    "alpha = 5\n",
    "lower_p = alpha/2.0\n",
    "lower = max(0.0, percentile(scores, lower_p))\n",
    "\n",
    "upper_p = (100-alpha) + alpha/2.0\n",
    "upper = min(1.0, percentile(scores, upper_p))\n",
    "\n",
    "print('El percentil %.1fth es: %.3f' % (lower_p, lower))\n",
    "print('El percentil %.1fth es: %.3f' % (upper_p, upper))"
   ]
  },
  {
   "cell_type": "markdown",
   "metadata": {},
   "source": [
    "Esto nos indica que con una probabilidad del 95% el valor verdadero de la media de nuestro conjunto de datos se encuentra entre los valores 0.741 y 0.757."
   ]
  }
 ],
 "metadata": {
  "kernelspec": {
   "display_name": "Python 3",
   "language": "python",
   "name": "python3"
  },
  "language_info": {
   "codemirror_mode": {
    "name": "ipython",
    "version": 3
   },
   "file_extension": ".py",
   "mimetype": "text/x-python",
   "name": "python",
   "nbconvert_exporter": "python",
   "pygments_lexer": "ipython3",
   "version": "3.6.3"
  }
 },
 "nbformat": 4,
 "nbformat_minor": 2
}
