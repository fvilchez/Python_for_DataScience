{
 "cells": [
  {
   "cell_type": "markdown",
   "metadata": {},
   "source": [
    "# Introducción"
   ]
  },
  {
   "cell_type": "markdown",
   "metadata": {},
   "source": [
    "Una predicción desde un punto de vista de aprendizaje automático es un punto. Los intervalos de predicción proporcionan una forma de cuantificar y comunicar la incertidumbre en una predicción."
   ]
  },
  {
   "cell_type": "markdown",
   "metadata": {},
   "source": [
    "# Motivos para calcular un intervalo de predicción"
   ]
  },
  {
   "cell_type": "markdown",
   "metadata": {},
   "source": [
    "Una predicción es un valor de salida dadas unas variables de entrada:\n",
    "\n",
    "$$\\bar{y} = model.predict(X)$$"
   ]
  },
  {
   "cell_type": "markdown",
   "metadata": {},
   "source": [
    "Donde y es la estimación que nos proporciona un modelo entrenado por unas variables de entrada X. Por definición, esto es una estimación y por lo tanto contiene algún tipo de incertidumbre. Dicha incertidumbre proviene de errores en el propio modelo a la hora de predecir, como del ruido en los datos de entrada. El modelo es una aproximación de la relación entre las variables de entrada y las variables de salida.\n",
    "\n",
    "Puesto que existen diferentes fuentes de errores a la hora de realizar una predicción, dar únicamente el valor de predicción, no es suficiente para cuantificar y describir la auténtica incertidumbre de la predicción."
   ]
  },
  {
   "cell_type": "markdown",
   "metadata": {},
   "source": [
    "# ¿Qué es un intervalo de predicción?"
   ]
  },
  {
   "cell_type": "markdown",
   "metadata": {},
   "source": [
    "Un intervalo de predicción es una cuantificación de la incertidumbre en una predicción. Esto proporciona límites probibilísticos superiores e inferiores. Los intervalos de predicción son usados de forma muy común cuando se hacen uso de modelos cuyas predicciones son valores cuantificables, por ejemplo, modelos de regresión. Podemos definir un intervalo de predicción como: \"dada una predicción **y** y dadas unas variables de entrada **X**, hay un 95% de probabilidad de que el rango [a,b] cubra la salida auténtica\"."
   ]
  },
  {
   "cell_type": "markdown",
   "metadata": {},
   "source": [
    "Un intervalo de predicción es diferente a un intervalo de confianza. Un intervalo de confianza cuantifica la incertidumbre de la estimación de una variable de la población, tal como la media o la desviación estándar. Sin embargo, un intervalo de predicción cuantifica la incertidumbre de una observación estimada.\n",
    "\n",
    "En machine learning, un intervalo de confianza puede ser usado para describir o cuantificar la incertidumbre de la abilidad de un modelo, sin embargo, un intervalo de predicción puede ser usado para cuantificar la incertidumbre de una sola predicción. Un intervalo de predicción normalmente es más amplio que un intervalo de confianza, esto se debe a que los intervalos de predicción además del intervalo de confianza toman en consideración la varianza de la variable de salida."
   ]
  },
  {
   "cell_type": "markdown",
   "metadata": {
    "collapsed": true
   },
   "source": [
    "# Cómo calcular un Intervalo de Predicción"
   ]
  },
  {
   "cell_type": "markdown",
   "metadata": {},
   "source": [
    "Un intervalo de predicción es calculado como una combibación de la varianza estimada de el modelo y la varianza de la variable de salida. Son fáciles de describrir, pero difíciles de calcular. En casos simples como la regresión lineal, podemos estimar el intervalo de predicción de forma directa.\n",
    "\n",
    "En el caso de algoritmos no lineales, tales como redes neuronales, requiere la implementación de técnicas especializadas. Técnicas generales como la técnica Bootstrap pueden ser utilizadas pero su coste computacional es muy costoso. Algunos de los métodos usados para algoritmos no lineales son:\n",
    "\n",
    "* El método Delta, para el caso de una regresión no lineal.\n",
    "\n",
    "* El método Bayesiano, a partir de modelización Bayesiana y estadística.\n",
    "\n",
    "* Método de estimación media-varianza, haciendo uso de estimación estadística.\n",
    "\n",
    "* Método Bootstrap, haciendo uso de remuestreo y desarrollando modelos ensemble."
   ]
  },
  {
   "cell_type": "markdown",
   "metadata": {},
   "source": [
    "# Intervalo de predicción para la Regresión Lineal"
   ]
  },
  {
   "cell_type": "markdown",
   "metadata": {},
   "source": [
    "Una regresión lineal es un modelo que describe una variable de salida como una combinación lineal de variables de entrada.\n",
    "\n",
    "$$\\hat{y} = b_{0} + b_{1}x$$"
   ]
  },
  {
   "cell_type": "markdown",
   "metadata": {},
   "source": [
    "Los verdaderos valores de estos coeficientes no pueden ser conocidos. Tampoco, es posible conocer los verdaderos valores de la media y la desviación estándar de la población x e y. Todos estos valores deben ser estimados, lo cual introduce incertidumbre a la hora de hacer predicciones.\n",
    "\n",
    "Podemos realizar algunas asunciones, tales como que las distribuciones de x e y, y los errores de las predicciones del modelo, llamados residuos, son Gaussianos. El intervalo de predicción entorno al valor predicho puede ser calculado como\n",
    "\n",
    "$$\\hat{y}\\pm z\\times\\sigma$$"
   ]
  },
  {
   "cell_type": "markdown",
   "metadata": {},
   "source": [
    "Donde z es el valor crítico de la distribución Gaussiana (ejemplo 1,96 para un intervalo del 95%) y sigma es la desviación estándar de la distribución predicha. En la práctica no conocemos sigma, pero podemos calcular una estimación no sesgada de la desviación estándar prevista como\n",
    "\n",
    "$$stdev = \\sqrt{\\frac{1}{n-2}\\times\\sum_{i = 1}^n(\\hat{y_{i} - y_{i}})^2}$$"
   ]
  },
  {
   "cell_type": "markdown",
   "metadata": {},
   "source": [
    "Donde stdev es una estimació no sesgada de la desviación estándar para la distribución predicha, n es el número total de predicciones realizadas."
   ]
  },
  {
   "cell_type": "markdown",
   "metadata": {},
   "source": [
    "# Ejemplo"
   ]
  },
  {
   "cell_type": "markdown",
   "metadata": {},
   "source": [
    "A continuación vamos a proceder a realizar un ejemplo de un intervalo de predicción para el caso de un regresión lineal. Vamos a crear dos muestras, donde la muestra y dependerá de la muestra x con un ruido gaussiano de por medio."
   ]
  },
  {
   "cell_type": "code",
   "execution_count": 1,
   "metadata": {
    "collapsed": true
   },
   "outputs": [],
   "source": [
    "import numpy as np\n",
    "from numpy.random import randn\n",
    "from numpy.random import seed\n",
    "import matplotlib.pyplot as plt"
   ]
  },
  {
   "cell_type": "code",
   "execution_count": 4,
   "metadata": {},
   "outputs": [
    {
     "name": "stdout",
     "output_type": "stream",
     "text": [
      "x: mean=100.776 stdv=19.620\n",
      "y: mean=151.050 stdv=22.358\n"
     ]
    }
   ],
   "source": [
    "#Fijamos la semilla\n",
    "seed(1)\n",
    "\n",
    "#Generamos la variable x y la variable y\n",
    "x = 20*randn(1000) + 100\n",
    "y = x + (10*randn(1000) + 50)\n",
    "\n",
    "#Vemos un resumen estadísticas de ambas variables\n",
    "print('x: mean=%.3f stdv=%.3f' % (np.mean(x), np.std(x)))\n",
    "print('y: mean=%.3f stdv=%.3f' % (np.mean(y), np.std(y)))"
   ]
  },
  {
   "cell_type": "code",
   "execution_count": 5,
   "metadata": {},
   "outputs": [
    {
     "data": {
      "image/png": "[encoded data removed]",
      "text/plain": [
       "<matplotlib.figure.Figure at 0x7fd8f0331828>"
      ]
     },
     "metadata": {},
     "output_type": "display_data"
    }
   ],
   "source": [
    "#Hacemos un plot de estados dos variables\n",
    "plt.scatter(x,y)\n",
    "plt.show()"
   ]
  },
  {
   "cell_type": "markdown",
   "metadata": {},
   "source": [
    "A continuación vamos a proceder a hacer uso de la función **linregress()** de Scipy que nos retorna los coeficientes."
   ]
  },
  {
   "cell_type": "code",
   "execution_count": 10,
   "metadata": {
    "collapsed": true
   },
   "outputs": [],
   "source": [
    "from numpy.random import randn\n",
    "from numpy.random import seed\n",
    "from scipy.stats import linregress\n",
    "from matplotlib import pyplot\n",
    "from numpy import sum as arraysum"
   ]
  },
  {
   "cell_type": "code",
   "execution_count": 7,
   "metadata": {},
   "outputs": [
    {
     "name": "stdout",
     "output_type": "stream",
     "text": [
      "b0 = 49.117, b1=1.011\n"
     ]
    }
   ],
   "source": [
    "#Obtenemos los coeficientes\n",
    "b1, b0, r_value, p_value, std_err = linregress(x, y)\n",
    "print('b0 = %.3f, b1=%.3f' % (b0,b1))"
   ]
  },
  {
   "cell_type": "code",
   "execution_count": 9,
   "metadata": {},
   "outputs": [
    {
     "data": {
      "image/png": "[encoded data removed]",
      "text/plain": [
       "<matplotlib.figure.Figure at 0x7fd8e566de10>"
      ]
     },
     "metadata": {},
     "output_type": "display_data"
    }
   ],
   "source": [
    "#Hacemos las predicciones y las representamos gráficamente\n",
    "y_pred = b1*x + b0\n",
    "\n",
    "plt.scatter(x,y)\n",
    "plt.plot(x, y_pred, color = 'r')\n",
    "plt.show()"
   ]
  },
  {
   "cell_type": "code",
   "execution_count": 14,
   "metadata": {},
   "outputs": [
    {
     "data": {
      "image/png": "[encoded data removed]",
      "text/plain": [
       "<matplotlib.figure.Figure at 0x7fd8e567e780>"
      ]
     },
     "metadata": {},
     "output_type": "display_data"
    }
   ],
   "source": [
    "#Estimamos el intervalo de predicción para uno de los valores estimados\n",
    "x_in = x[0]\n",
    "y_out = y[0]\n",
    "y_hat = y_pred[0]\n",
    "\n",
    "#Estimamos la desviación estándar de nuestras predicciones\n",
    "sum_errors = arraysum((y-y_pred)**2)\n",
    "stdev = np.sqrt(1/(len(y)-2)*sum_errors)\n",
    "\n",
    "#Calculamos el intervalo de predicción \n",
    "interval = 1.96*stdev\n",
    "\n",
    "#Calculamos el intervalo de predicción para nuestra muestra seleccionada\n",
    "lower, upper = y_hat-interval, y_hat+interval\n",
    "\n",
    "#Vemos la representación gráfica\n",
    "plt.scatter(x, y)\n",
    "plt.plot(x, y_pred, color= 'red' )\n",
    "plt.errorbar(x_in, y_hat, yerr=interval, color= 'black' , fmt= 'o' )\n",
    "plt.show()"
   ]
  },
  {
   "cell_type": "code",
   "execution_count": 16,
   "metadata": {},
   "outputs": [
    {
     "name": "stdout",
     "output_type": "stream",
     "text": [
      "Con una probabilidad del 95% el valor verdadero se encuentra entre 162.920 y 203.328\n"
     ]
    }
   ],
   "source": [
    "print('Con una probabilidad del 95%% el valor verdadero se encuentra entre %.3f y %.3f' % (lower, upper))"
   ]
  }
 ],
 "metadata": {
  "kernelspec": {
   "display_name": "Python 3",
   "language": "python",
   "name": "python3"
  },
  "language_info": {
   "codemirror_mode": {
    "name": "ipython",
    "version": 3
   },
   "file_extension": ".py",
   "mimetype": "text/x-python",
   "name": "python",
   "nbconvert_exporter": "python",
   "pygments_lexer": "ipython3",
   "version": "3.6.3"
  }
 },
 "nbformat": 4,
 "nbformat_minor": 2
}
