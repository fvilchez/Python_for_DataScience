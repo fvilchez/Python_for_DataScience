{
 "cells": [
  {
   "cell_type": "markdown",
   "metadata": {},
   "source": [
    "# Introducción "
   ]
  },
  {
   "cell_type": "markdown",
   "metadata": {},
   "source": [
    "Los test de hipótesis estadística pueden ser usados para indicar cuando la diferencia entre dos muestras es debida al azar, pero no comenta nada de los diferencia de tamaño entre muestras. Un grupo de métodos referidos como **\"nuevos estadísticos\"** están viendo incrementado su uso con el fin de cuantificar efectos de la magnitud y la incertidumbre de los valores estimados. Este grupo de métodos estadísticos es conocido como estadísticos de estimación."
   ]
  },
  {
   "cell_type": "markdown",
   "metadata": {},
   "source": [
    "# Problemas con los test de hipótesis"
   ]
  },
  {
   "cell_type": "markdown",
   "metadata": {},
   "source": [
    "Los test de hipótesis estadísticos y el cálculo de p-valores es una forma popular para presentar e interpretar resultados. Los test como el Student's test puede ser usado para describir cuando dos muestras tienen la misma distribución. Esto puede ayudarnos a interpretar si la diferencia entre dos medias muestrales es probable que sea real o se deba al azar. Aunque son ampliamente usados, tienen algunos problemas:\n",
    "\n",
    "* Los p-valores son fácilmente mal usados e interpretados.\n",
    "\n",
    "* Siempre hay una diferencia significativa entre las muestras, incluso si la diferencia es pequeña."
   ]
  },
  {
   "cell_type": "markdown",
   "metadata": {},
   "source": [
    "# Estimación estadística"
   ]
  },
  {
   "cell_type": "markdown",
   "metadata": {},
   "source": [
    "La estimación estadística hace referencia a los métodos que intentan cuantificar un hallazgo. Esto podría incluir cuantificar el efecto de un tamaño o la cantidad de incertidumbre para un resultado específico. Los tres principales métodos son:\n",
    "\n",
    "* **Effect Size:** métodos para cuantificar el efecto del tamaño dado un tratamiento o intervención.\n",
    "\n",
    "* **Interval Estimation:** métodos para cuantificar la cantidad de incertidumbre en un valor.\n",
    "\n",
    "* **Meta-Analysis:** métodos para cuantificar los hallazgos a partir de múltiples estudios similares."
   ]
  },
  {
   "cell_type": "markdown",
   "metadata": {},
   "source": [
    "## Effect Size"
   ]
  },
  {
   "cell_type": "markdown",
   "metadata": {},
   "source": [
    "El \"effect size\" mide la magnitud de un tratamiento o la diferencia entre dos muestras. Un test de hipótesis puede indicar si la diferencia entre dos muestras es debida al azar o es real, sin embargo, el \"effect size\" pone un número en la cantidad que las muestras difieren. Existen dos técnicas principales usadas para cuantificar la magnitud de efectos:\n",
    "\n",
    "* **Asociación:** el grado en el cuál dos muestras cambian conjuntamente.\n",
    "\n",
    "* **Diferencia:** el grando en el cual dos muestras son diferentes.\n",
    "\n",
    "Por ejemplo, la asociación incluye cálculos de correlación, tales como el coeficiente de correlación de Pearson, y el coeficiente de determinación. La diferencia podría incluir métodos tales como el estadístico de **Cohen's d** que proporciona una medida estandarizada de como las medidas en las poblaciones difieren."
   ]
  },
  {
   "cell_type": "markdown",
   "metadata": {
    "collapsed": true
   },
   "source": [
    "## Interval Estimation"
   ]
  },
  {
   "cell_type": "markdown",
   "metadata": {},
   "source": [
    "Hace referencia a métodos estadísticos para cuantificar la incertidumbre en una observación. Los intervalos transforman un punto estimado en un rango que proporciona más información sobre la estimación realizada, de forma que hacen que esta estimación sea más fácil de interpretar. Hay tres tipos principales de intervalos que son comunmente calculados:\n",
    "\n",
    "* **Intervalo de tolerancia:** los límites de una proporción de una distribución con un nivel específico de confianza.\n",
    "\n",
    "* **Intervalo de confianza:** los límites de la estimación de un parámetro de una población.\n",
    "\n",
    "* **Intervalo de predicción:** los límites en una sola observación.\n",
    "\n",
    "Un intervalo de tolerancia puede ser usado para establecer expectativas de observaciones en una población o para ayudarnos a identificar outliers. Un intervalo de confianza puede ser usado para interpretar el rango para la media de una muestra de datos que puede ser más precisa conforme la muestra se incrementa. Un intervalo de predicción puede ser usado para presentar la media estimada, este nos proporciona límites en la precisión estimada. Esto podría ser combinado con p-valores si los modelos van a ser comparados."
   ]
  }
 ],
 "metadata": {
  "kernelspec": {
   "display_name": "Python 3",
   "language": "python",
   "name": "python3"
  },
  "language_info": {
   "codemirror_mode": {
    "name": "ipython",
    "version": 3
   },
   "file_extension": ".py",
   "mimetype": "text/x-python",
   "name": "python",
   "nbconvert_exporter": "python",
   "pygments_lexer": "ipython3",
   "version": "3.6.3"
  }
 },
 "nbformat": 4,
 "nbformat_minor": 2
}
