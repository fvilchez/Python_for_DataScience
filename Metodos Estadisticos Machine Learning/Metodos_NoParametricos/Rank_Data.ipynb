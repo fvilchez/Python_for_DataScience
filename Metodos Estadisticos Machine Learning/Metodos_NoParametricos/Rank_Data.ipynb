{
 "cells": [
  {
   "cell_type": "markdown",
   "metadata": {},
   "source": [
    "# Introducción"
   ]
  },
  {
   "cell_type": "markdown",
   "metadata": {},
   "source": [
    "Una gran parte del campo de la estadística y de los métodos estadísticos están dedicados a conjuntos de datos en los cuales la función de distribución que forman este conjunto de datos es conocida. Aquellos conjuntos de datos en los que su función de distribución es conocida son conocidos como datos paramétricos. Aquellos datos que forman una función de distribución desconocida o no puede ser facilmente identificada son los llamados datos no paramétricos."
   ]
  },
  {
   "cell_type": "markdown",
   "metadata": {},
   "source": [
    "# Datos Paramétricos "
   ]
  },
  {
   "cell_type": "markdown",
   "metadata": {},
   "source": [
    "Los datos paramétricos son una muestra de datos extraídos de una distribución de datos conocida. Esto significa que conocemos la distribución y los parámetros asociados a dicha distribución. A menudo, la palabra paramétrico hace referencia a valores reales extraídos de una distribución Gaussianna.\n",
    "\n",
    "De forma general se prefiere trabajar con datos paramétricos, ya que de esta forma podemos hacer uso de los métodos paramétricos. En determinadas ocasiones realizando transformaciones sobre datos no paramétricos podemos llegar a obtener datos paramétricos."
   ]
  },
  {
   "cell_type": "markdown",
   "metadata": {},
   "source": [
    "# Datos No Paramétricos"
   ]
  },
  {
   "cell_type": "markdown",
   "metadata": {},
   "source": [
    "Aquellos datos de los cuales no conocemos la función de distribución que forman son conocidos como datos no paramétricos. Los datos podrían ser no paramétricos por varias razones:\n",
    "\n",
    "* Los datos no son reales, pueden ser ordinales, intervaloes, etc.\n",
    "\n",
    "* Los datos son reales, pero no se ajustan a una función de distribución conocida.\n",
    "\n",
    "* Los datos tienen pinta de ser paramétricos, pero contienen valores atípicos, múltiples picos, etc.\n",
    "\n",
    "Hay un conjunto de métodos que pueden ser usados en datos no paramétricos llamados métodos estadísticos no paramétricos. Muchos métodos paramétricos, tienen su versión no paramétrica."
   ]
  },
  {
   "cell_type": "markdown",
   "metadata": {},
   "source": [
    "# Ranking Data"
   ]
  },
  {
   "cell_type": "markdown",
   "metadata": {},
   "source": [
    "Antes de aplicar cualquier método estadístico no paramétrico, los datos deben de convertirse a formato rank. EL procedimiento para convertir los datos a este tipo de formato es el siguiente:\n",
    "\n",
    "* Ordenar toda la muestra en orden ascendente.\n",
    "\n",
    "* Asignar un valor entero desde 1 hasta N para cada valor único en la muestra de datos\n",
    "\n",
    "Existen circunstancias especiales en las cuales este procedimiento puede variar como puede ser en el caso de empates, uso de ranking inverso o el uso de puntuación fraccional, pero en general las propiedades se mantienen. La librería SciPy dispone de la función **rankdata()** para datos numéricos que soporta numerosas formas de ranquear los datos."
   ]
  },
  {
   "cell_type": "code",
   "execution_count": 2,
   "metadata": {},
   "outputs": [
    {
     "name": "stdout",
     "output_type": "stream",
     "text": [
      "[ 1.62434536 -0.61175641 -0.52817175 -1.07296862  0.86540763 -2.3015387\n",
      "  1.74481176 -0.7612069   0.3190391  -0.24937038]\n"
     ]
    }
   ],
   "source": [
    "from numpy.random import randn\n",
    "from numpy.random import seed\n",
    "from scipy.stats import rankdata\n",
    "\n",
    "#Fijamos la semilla\n",
    "seed(1)\n",
    "\n",
    "#Nos creamos el conjunto de datos\n",
    "data = randn(1000)\n",
    "\n",
    "#Vemos los 10 primeros valores\n",
    "print(data[:10])"
   ]
  },
  {
   "cell_type": "code",
   "execution_count": 3,
   "metadata": {},
   "outputs": [
    {
     "name": "stdout",
     "output_type": "stream",
     "text": [
      "[ 9.  4.  5.  2.  8.  1. 10.  3.  7.  6.]\n"
     ]
    }
   ],
   "source": [
    "#Hacemos un rank \n",
    "ranked = rankdata(data[:10])\n",
    "print(ranked)"
   ]
  },
  {
   "cell_type": "markdown",
   "metadata": {},
   "source": [
    "# Trabajando con datos rankeados"
   ]
  },
  {
   "cell_type": "markdown",
   "metadata": {},
   "source": [
    "Existen herramientas estadísticas que pueden ser usadas para chequear si dada una muestra de datos esta se ajusta a alguna distribución. Por ejemplo, si tomamos datos no paramétricos como datos que no lucen como Gaussianos, entonces podemos hacer uso de métodos estadísticos para cuantificar como de Gaussianna  es nuestra muestra. Los tres métodos más usados para esto son:\n",
    "\n",
    "* Shapiro-Wilk Test\n",
    "\n",
    "* D'Agostino's K2 Test\n",
    "\n",
    "* Anderson-Darling Test\n",
    "\n",
    "Una vez hemos decidido hacer uso de un test no paramétrico, debemos de ranquear nuestros datos. De echo, muchas de las herramientas que usaremos para inferencia realizan esta ranqueado de forma automática. Sin embargo, es importante comprender como se están transformando los datos. En el aprendizaje automático aplicado existen dos principales preguntas que podemos querer abordar con datos no paramétricos."
   ]
  },
  {
   "cell_type": "markdown",
   "metadata": {},
   "source": [
    "## Relacción entre variables"
   ]
  },
  {
   "cell_type": "markdown",
   "metadata": {},
   "source": [
    "Los métodos usados para conocer y cuantificar la relación entre variables son llamados métodos de correlación. Exiten cuatro métodos que son los más usados en la correlación estadística no paramétrica:\n",
    "\n",
    "* Spearman's Rank Correlation\n",
    "\n",
    "* Kendall's Rank Correlation\n",
    "\n",
    "* Goodman and Kruskal's Rank Correlation\n",
    "\n",
    "* Somer's Rank Correlation"
   ]
  },
  {
   "cell_type": "markdown",
   "metadata": {},
   "source": [
    "## Comparar la media de muestras"
   ]
  },
  {
   "cell_type": "markdown",
   "metadata": {},
   "source": [
    "Los métodos para cuantificar cuando la media entre dos poblaciones es significativamente diferente son llamados test estadísticos de significancia. Entre los test de significancia estadística para datos no paramétricos que podemos usar se encuentran:\n",
    "\n",
    "* Mann-Whitney U Test\n",
    "\n",
    "* Wilcoxon Signed-Rank Test\n",
    "\n",
    "* Kruskal-Wallis H Test\n",
    "\n",
    "* Friedman Test"
   ]
  }
 ],
 "metadata": {
  "kernelspec": {
   "display_name": "Python 3",
   "language": "python",
   "name": "python3"
  },
  "language_info": {
   "codemirror_mode": {
    "name": "ipython",
    "version": 3
   },
   "file_extension": ".py",
   "mimetype": "text/x-python",
   "name": "python",
   "nbconvert_exporter": "python",
   "pygments_lexer": "ipython3",
   "version": "3.6.3"
  }
 },
 "nbformat": 4,
 "nbformat_minor": 2
}
