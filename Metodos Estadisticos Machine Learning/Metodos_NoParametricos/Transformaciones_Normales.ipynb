{
 "cells": [
  {
   "cell_type": "markdown",
   "metadata": {},
   "source": [
    "# Introducción"
   ]
  },
  {
   "cell_type": "markdown",
   "metadata": {},
   "source": [
    "Existen una gran cantidad de situaciones en las que trabajaremos con una distribución que nos es normal, pero deseamos hacer uso de métodos paramétricos en lugar de métodos no paramétricos.\n",
    "\n",
    "Existen muchas razones por las cuales nuestros datos podrían no ser gaussianos. A continuación veremos algunas de estas razones."
   ]
  },
  {
   "cell_type": "markdown",
   "metadata": {},
   "source": [
    "# Posibles razones de que los datos no sean normales"
   ]
  },
  {
   "cell_type": "markdown",
   "metadata": {},
   "source": [
    "## Tamaño de la muestra"
   ]
  },
  {
   "cell_type": "markdown",
   "metadata": {},
   "source": [
    "Una razón muy común por la cual nuestros datos no lucen Gaussianos es debido a que el tamaño de la muestra de datos es muy pequeña. Muchos métodos estadísticos son desarrollados para muestras con una cantidad de observaciones reducida. Sin embargo, debido al ruido en los datos, podríamos observar mostrar su función de distribución y tras verla concluir que nuestra muestra no es normal. \n",
    "\n",
    "En este tipo de situaciones deberíamos recolectar una mayor cantidad de observaciones. Como indica la ley de los números grandes, cuanta mayor sea la población que disponemos, mayor será la probabilidad de que nuestros datos muestren realmente la distribución subyacente."
   ]
  },
  {
   "cell_type": "code",
   "execution_count": 1,
   "metadata": {},
   "outputs": [
    {
     "data": {
      "image/png": "[encoded data removed]",
      "text/plain": [
       "<matplotlib.figure.Figure at 0x7fb5b4198748>"
      ]
     },
     "metadata": {},
     "output_type": "display_data"
    }
   ],
   "source": [
    "from numpy.random import seed\n",
    "from numpy.random import randn\n",
    "import matplotlib.pyplot as plt\n",
    "\n",
    "#Fijamos la semilla\n",
    "seed(1)\n",
    "\n",
    "#Generamos la muestra\n",
    "data = 5*randn(10) + 50\n",
    "\n",
    "#Visualizamos los resultados \n",
    "plt.hist(data, ec = 'black')\n",
    "plt.show()"
   ]
  },
  {
   "cell_type": "markdown",
   "metadata": {},
   "source": [
    "Pese que nuestra muestra es extraída claramente de una distribución normal de media 50 y desviación estándar 5, nuestro gráfico no parece mostrar esto. Veamos que ocurre si aumentamos la muestra."
   ]
  },
  {
   "cell_type": "code",
   "execution_count": 2,
   "metadata": {},
   "outputs": [
    {
     "data": {
      "image/png": "[encoded data removed]",
      "text/plain": [
       "<matplotlib.figure.Figure at 0x7fb58a56a0f0>"
      ]
     },
     "metadata": {},
     "output_type": "display_data"
    }
   ],
   "source": [
    "#Fijamos la semilla\n",
    "seed(1)\n",
    "\n",
    "#Generamos los datos\n",
    "data = 5*randn(100) + 50\n",
    "\n",
    "#Visualizamos el resultado\n",
    "plt.hist(data, ec = 'black')\n",
    "plt.show()"
   ]
  },
  {
   "cell_type": "markdown",
   "metadata": {},
   "source": [
    "Tras aumentar el número de muestras podemos ver como nuestra distribución luce más parecido a una distribución normal."
   ]
  },
  {
   "cell_type": "markdown",
   "metadata": {},
   "source": [
    "## Resolución de los datos "
   ]
  },
  {
   "cell_type": "markdown",
   "metadata": {},
   "source": [
    "Es posible que aún coleccionando una elevada muestra de datos, nuestra distribución no sea Gaussiana, sin embargo, nuestra intuición dice lo contrario. Una razón muy común es la resolución que estamos usando para coleccionar nuestros datos."
   ]
  },
  {
   "cell_type": "code",
   "execution_count": 3,
   "metadata": {},
   "outputs": [
    {
     "data": {
      "image/png": "[encoded data removed]",
      "text/plain": [
       "<matplotlib.figure.Figure at 0x7fb58a5177b8>"
      ]
     },
     "metadata": {},
     "output_type": "display_data"
    }
   ],
   "source": [
    "#Fijamos la semilla\n",
    "seed(1)\n",
    "\n",
    "#Generamos el conjunto de datos\n",
    "data = randn(100)\n",
    "\n",
    "#Redondeamos a valores enteros\n",
    "data = data.round(0)\n",
    "\n",
    "#Vemos el resultado\n",
    "plt.hist(data, ec = 'black')\n",
    "plt.show()"
   ]
  },
  {
   "cell_type": "markdown",
   "metadata": {},
   "source": [
    "Podemos ver que al tratarse de una resolución sin números decimales nuestra muestra no luce Gaussiana pese a ser extraída de una muestra Gaussiana de media cero y desviación estándar la unidad."
   ]
  },
  {
   "cell_type": "markdown",
   "metadata": {
    "collapsed": true
   },
   "source": [
    "## Valores Extremos"
   ]
  },
  {
   "cell_type": "markdown",
   "metadata": {},
   "source": [
    "Una muestra de datos podría tener una distribución Gaussiana, pero podría estar distorsoniada por la presencia de valores extremos. Los valores extremos pueden estar presentes por múltiples razones:\n",
    "\n",
    "* Error en la medida de los datos\n",
    "\n",
    "* Valores perdidos\n",
    "\n",
    "* Corrupción en los datos\n",
    "\n",
    "* Eventos raros\n",
    "\n",
    "En cualquier caso, los valores extremos deberían de ser identificados y eliminados con el objetivo de visualizar la distribución de nuestro conjunto de datos. Estos valores extremos son llamados muy a menudo outliers. Identificar estos valores puede requerir experiencia o la necesidad de consultar con un experto en el dominio para diseñar los criterios para identificar los valores extremos, y de esta forma eliminarlos del conjunto de datos con el que trabajaremos en un futuro."
   ]
  },
  {
   "cell_type": "code",
   "execution_count": 4,
   "metadata": {},
   "outputs": [
    {
     "data": {
      "image/png": "[encoded data removed]",
      "text/plain": [
       "<matplotlib.figure.Figure at 0x7fb58a502dd8>"
      ]
     },
     "metadata": {},
     "output_type": "display_data"
    }
   ],
   "source": [
    "#Generación de una distribución Gaussiana con ruido\n",
    "from numpy.random import seed\n",
    "from numpy.random import randn \n",
    "from numpy import append \n",
    "import matplotlib.pyplot as plt\n",
    "from numpy import zeros\n",
    "\n",
    "#Fijamos la semilla\n",
    "seed(1)\n",
    "\n",
    "#Generamos nuestro conjunto de datos\n",
    "data = 5*randn(100) + 10\n",
    "\n",
    "#Añadimos valores extremos \n",
    "data = append(data, zeros(10))\n",
    "\n",
    "#Graficamos la distribución\n",
    "plt.hist(data, ec = 'black')\n",
    "plt.show()"
   ]
  },
  {
   "cell_type": "markdown",
   "metadata": {},
   "source": [
    "## Largas colas"
   ]
  },
  {
   "cell_type": "markdown",
   "metadata": {},
   "source": [
    "Los valore extremos pueden manifestarse de muchas formas. Además de eventos raros en lo que se denomina ojo de la distribución, podríamos observar largas colas en una o ambas direcciones. Se podría hacer uso de un umbral, quizás basándonos en el número de desviaciones estándar, para identificar y eliminar estas largas colas."
   ]
  },
  {
   "cell_type": "code",
   "execution_count": 6,
   "metadata": {},
   "outputs": [
    {
     "data": {
      "image/png": "[encoded data removed]",
      "text/plain": [
       "<matplotlib.figure.Figure at 0x7fb58a38b9e8>"
      ]
     },
     "metadata": {},
     "output_type": "display_data"
    }
   ],
   "source": [
    "#Generamos una distribución con largas colas\n",
    "from numpy.random import seed\n",
    "from numpy.random import randn\n",
    "from numpy.random import rand\n",
    "\n",
    "from numpy import append\n",
    "from numpy import mean, std\n",
    "\n",
    "import matplotlib.pyplot as plt\n",
    "\n",
    "#Fijamos la semilla\n",
    "seed(1)\n",
    "\n",
    "#Generamos los datos y la cola\n",
    "data = 5*randn(100) + 10\n",
    "tail = 10 + (rand(50)*100)\n",
    "data = append(data, tail)\n",
    "\n",
    "#Vemos el resultado\n",
    "plt.hist(data, ec = 'black')\n",
    "plt.show()"
   ]
  },
  {
   "cell_type": "code",
   "execution_count": 8,
   "metadata": {},
   "outputs": [
    {
     "name": "stdout",
     "output_type": "stream",
     "text": [
      "std : 27.280\n",
      "mean : 25.195\n"
     ]
    }
   ],
   "source": [
    "#Calculamos la media y la desviación estándar\n",
    "print(\"std : %.3f\" % std(data))\n",
    "print(\"mean : %.3f\" % mean(data))"
   ]
  },
  {
   "cell_type": "code",
   "execution_count": 22,
   "metadata": {},
   "outputs": [
    {
     "data": {
      "image/png": "[encoded data removed]",
      "text/plain": [
       "<matplotlib.figure.Figure at 0x7fb58a249390>"
      ]
     },
     "metadata": {},
     "output_type": "display_data"
    }
   ],
   "source": [
    "#Eliminamos aquellos valores que está por encima de std\n",
    "data2 = [x for x in data if x < 1*std(data)]\n",
    "plt.hist(data2, ec = 'black')\n",
    "plt.show()"
   ]
  },
  {
   "cell_type": "markdown",
   "metadata": {},
   "source": [
    "# Power Transformations"
   ]
  },
  {
   "cell_type": "markdown",
   "metadata": {
    "collapsed": true
   },
   "source": [
    "La distribución de nuestros datos podría ser normal, pero para ver esto los datos podrían requerir de algún tipo de transformación. Por ejemplo, los datos podrían presentar un elevado índice de **skew**. En algunos casos, esto puede ser corregido aplicando a nuestro conjunto de datos la transformación de la raíz cuadrada. También, la distribución podría tener una forma exponencial, pero podría lucir como normal si le aplicamos a las observaciones la transformación logaritmo natural.\n",
    "\n",
    "Este tipo de transformaciones son conocidas como **power transformations**. El método Box-Cox se trata de un método de transformación de datos que nos permite realizar un amplio rango de este tipo de transformaciones, inlcluyendo raíz cuadrada y logaritmo natural. Este método puede ser configurado para evaluar un conjunto de transformaciones de forma automática y seleccionar aquella que mejor se adapte.\n",
    "\n",
    "La función **boxcox()** disponible en Scipy, nos permite implementar el método Box-Cox. Esta función toma como argumento de entrada un parámetro denominado **lambda**, que controla el tipo de transformación a realizar. Alguno de los valores más comúnes de **lambda** son:\n",
    "\n",
    "* **lambda = -1 : ** transformación recíproca.\n",
    "\n",
    "* **lambda = -0.5 : ** transformación recíproca raíz cuadrada.\n",
    "\n",
    "* **lambda = 0.0 : ** transformación logarítmica.\n",
    "\n",
    "* **lambda = 0.5 : ** transformación raíz cuadrada.\n",
    "\n",
    "* **lambda = 1.0 : ** ningún tipo de transformación."
   ]
  },
  {
   "cell_type": "code",
   "execution_count": 2,
   "metadata": {},
   "outputs": [
    {
     "data": {
      "image/png": "[encoded data removed]",
      "text/plain": [
       "<matplotlib.figure.Figure at 0x7f15ac72d390>"
      ]
     },
     "metadata": {},
     "output_type": "display_data"
    }
   ],
   "source": [
    "# Generamos un conjunto de datos de tipo exponencial\n",
    "from numpy.random import seed\n",
    "from numpy.random import randn\n",
    "from numpy import exp\n",
    "\n",
    "from scipy.stats import boxcox\n",
    "\n",
    "import matplotlib.pyplot as plt\n",
    "\n",
    "#Generamos la semilla\n",
    "seed(1)\n",
    "\n",
    "#Generamos el conjunto de datos\n",
    "data = 5*randn(100) + 50\n",
    "#Aplicamos la transformación Gaussiana\n",
    "data = exp(data)\n",
    "\n",
    "#Vemos el resultado\n",
    "plt.hist(data, ec = 'black')\n",
    "plt.show()"
   ]
  },
  {
   "cell_type": "code",
   "execution_count": 3,
   "metadata": {},
   "outputs": [
    {
     "data": {
      "image/png": "[encoded data removed]",
      "text/plain": [
       "<matplotlib.figure.Figure at 0x7f1583af7ef0>"
      ]
     },
     "metadata": {},
     "output_type": "display_data"
    }
   ],
   "source": [
    "#Aplicamos el método Box-Cox con la transformación logarítmica\n",
    "data = boxcox(data, 0)\n",
    "\n",
    "#Vemos el resultado \n",
    "plt.hist(data, ec = 'black')\n",
    "plt.show()"
   ]
  },
  {
   "cell_type": "code",
   "execution_count": null,
   "metadata": {
    "collapsed": true
   },
   "outputs": [],
   "source": []
  }
 ],
 "metadata": {
  "kernelspec": {
   "display_name": "Python 3",
   "language": "python",
   "name": "python3"
  },
  "language_info": {
   "codemirror_mode": {
    "name": "ipython",
    "version": 3
   },
   "file_extension": ".py",
   "mimetype": "text/x-python",
   "name": "python",
   "nbconvert_exporter": "python",
   "pygments_lexer": "ipython3",
   "version": "3.6.3"
  }
 },
 "nbformat": 4,
 "nbformat_minor": 2
}
