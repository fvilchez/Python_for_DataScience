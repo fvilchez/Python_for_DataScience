{
 "cells": [
  {
   "cell_type": "markdown",
   "metadata": {},
   "source": [
    "# Introducción "
   ]
  },
  {
   "cell_type": "markdown",
   "metadata": {},
   "source": [
    "Cuando trabajamos en el campo del aprendizaje automático, a menudo necesitamos determinar cuando dos muestras tienen distribuciones iguales o diferentes. Podemos responder a esta pregunta haciendo uso de test estadísticos de significancia que pueden cuantificar la probabilidad de que las muestras tengan la misma distribución.\n",
    "\n",
    "Si nuestros datos no tienen una distribución normal o conocida, debemos de usar como recurso la versión no paramétrica de los test de significancia. Este tipo de tests operan de forma similar a los paramétricos, pero sobre distribuciones libres, requieriendo en primer lugar que los datos reales de nuestras distribuciones sean transformados a datos de tipo rank antes de que el test pueda ser realizado."
   ]
  },
  {
   "cell_type": "markdown",
   "metadata": {},
   "source": [
    "# Test estadísticos de significancia no paramétricos"
   ]
  },
  {
   "cell_type": "markdown",
   "metadata": {},
   "source": [
    "Los test estadísticos no paramétricos son aquellos métodos que no asumen una distribución específica para los datos. Estos test son desarrollados para usarlos con datos ordinales o intervalos, pero en la práctica pueden ser usados en observaciones con datos reales rankeados en lugar de hacer uso de las propias observaciones.\n",
    "\n",
    "A menudo cuando tenemos dos muestras de datos una pregunta que nos podemos hacer es saber si ambas muestras provienen de una misma población. Esta cuestión puede ser respondida haciendo uso de los test de significancia no paramétricos. La hipótesis nula general de este tipo de test es asumir que ambas muestras son extraídas de una misma población o distribución.\n",
    "\n",
    "Si después de calcular el test de significancia la hipótesis nula es rechazada, esto indica que existe una evidencia estadística de que las muestras han sido extraídas de diferentes poblaciones, y que la diferencia entre los paramátros estimados para ambas poblaciones (media, mediana), puede ser significativa.\n",
    "\n",
    "Este tipo de test son utilizados de forma habitual a la hora de realizar comparaciones entre el score extraído por diferentes algoritmos con el fin de demostrar que la diferencia de score entre algoritmos es estadísticamente significativo."
   ]
  },
  {
   "cell_type": "markdown",
   "metadata": {
    "collapsed": true
   },
   "source": [
    "# Test Dataset"
   ]
  },
  {
   "cell_type": "markdown",
   "metadata": {},
   "source": [
    "A la hora de realizar las pruebas para cada uno de los test estadísticos no paramétricos vamos a proceder a generar el siguiente conjunto de datos."
   ]
  },
  {
   "cell_type": "code",
   "execution_count": 3,
   "metadata": {},
   "outputs": [
    {
     "name": "stdout",
     "output_type": "stream",
     "text": [
      "data1 :  min:26.985, max:71.856\n",
      "data2 :  min:26.652, max:76.283\n"
     ]
    }
   ],
   "source": [
    "from numpy.random import seed\n",
    "from numpy.random import randn\n",
    "\n",
    "#Fijamos la semilla\n",
    "seed(1)\n",
    "\n",
    "#Generamos el conjunto de datos\n",
    "data1 = 50 + (randn(100)*10)\n",
    "data2 = 51 + (randn(100)*10)\n",
    "\n",
    "#Vemos un resumen \n",
    "print('data1 :  min:%.3f, max:%.3f' % (min(data1), max(data1)))\n",
    "print('data2 :  min:%.3f, max:%.3f' % (min(data2), max(data2)))"
   ]
  },
  {
   "cell_type": "markdown",
   "metadata": {},
   "source": [
    "# Mann-Whitney U Test"
   ]
  },
  {
   "cell_type": "markdown",
   "metadata": {},
   "source": [
    "Este nos permite determinar si dos muestras independientes provienen de una misma distribución. El estadístico U se determina de la siguiente forma:\n",
    "    \n",
    "$U_{1} = n_{1}*n_{2} + \\frac{n_{1}*(n_{1} + 1)}{2} - R_{1}$\n",
    "\n",
    "\n",
    "$U_{2} = n_{1}*n_{2} + \\frac{n_{2}*(n_{2} + 1)}{2} - R_{1}$"
   ]
  },
  {
   "cell_type": "markdown",
   "metadata": {},
   "source": [
    "Donde tenemos que n1 y n2 son la dimensión de nuestras muestras. Para calcular los valores de R1 y R2 se proceden a seguir los siguientes los pasos:\n",
    "\n",
    "* Ordenamos los valores de las dos muestras conjuntamente.\n",
    "\n",
    "* Asignamos un rango de orden a cada valor.\n",
    "\n",
    "* Se corrigen las ligaduras existentes en los daots. Una ligadura hace referencia a un valor que se repite\n",
    "\n",
    "Finalmente para obetener los valores de R1 Y R2: \n",
    "\n",
    "* R1 -> suma de los rangos de la primera muestra.\n",
    "\n",
    "* R2 -> suma de los rangos de la segunda muestra."
   ]
  },
  {
   "cell_type": "markdown",
   "metadata": {},
   "source": [
    "Ejemplo: supongamos que tenemos dos muestras que nos indican la cantidad en Kg que consumen personas de forma mensual en función de la comunidad autónoma. Nuestro objetivo es ver si de alguna manera es ver si la cantidad de Kg de carne consumidos tienen dependencia de la comunidad autónoma en la cuál resida una persona."
   ]
  },
  {
   "cell_type": "code",
   "execution_count": 4,
   "metadata": {},
   "outputs": [
    {
     "name": "stdout",
     "output_type": "stream",
     "text": [
      "R1: 85.0\n",
      "R2: 33.5\n"
     ]
    }
   ],
   "source": [
    "#Muestra de la comunidad autónoma A\n",
    "A = [16,11,14,21,18,34,22,7,12,12]\n",
    "\n",
    "#Muestra de la comunidad autónoma B\n",
    "B = [12,14,11,30,10]\n",
    "\n",
    "#Ordenamos las muestras conjuntamente\n",
    "AB_ordenada = [7,10,11,11,12,12,12,14,14,16,18,21,22,30,34]\n",
    "\n",
    "#Asignamos un orden de rango\n",
    "AB_rank = [1,2,3,4,5,6,7,8,9,10,11,12,13,14,15]\n",
    "\n",
    "#Corregimos la ligadura promediando\n",
    "AB_rank_no_ligaduras = [1,2,3.5,3.5,5.5,5.5,6,6,6,8.5,8.5,10,11,12,13,14,15]\n",
    "\n",
    "#Calculamos R1 y R2\n",
    "R1 = 10+3.5+8.5+12+11+15+13+1+5.5+5.5\n",
    "R2 = 5.5+8.5+3.5+14+2\n",
    "\n",
    "print('R1: {}'.format(R1))\n",
    "print('R2: {}'.format(R2))"
   ]
  },
  {
   "cell_type": "markdown",
   "metadata": {},
   "source": [
    "Para obtener el valor del estadístico U cogemos el mínimo de U1 y U2 tras hacer los cálculas pertinentes"
   ]
  },
  {
   "cell_type": "code",
   "execution_count": 8,
   "metadata": {},
   "outputs": [
    {
     "name": "stdout",
     "output_type": "stream",
     "text": [
      "20.0\n"
     ]
    }
   ],
   "source": [
    "U1 = len(A)*len(B) + (len(A)*(len(A) + 1))/2 - R1\n",
    "U2 = len(A)*len(B) + (len(B)*(len(B) + 1))/2 - R2\n",
    "U = min(U1, U2)\n",
    "print(U)"
   ]
  },
  {
   "cell_type": "markdown",
   "metadata": {},
   "source": [
    "Una vez tenemos el valor de este estadístico se procede a realizar una serie de transformaciones que nos permiten obtener un p-valor. Este test puede ser implementado mediante la función **mannwhitneyu()** de la librería SciPy."
   ]
  },
  {
   "cell_type": "code",
   "execution_count": 13,
   "metadata": {},
   "outputs": [
    {
     "name": "stdout",
     "output_type": "stream",
     "text": [
      "p valor :0.249\n"
     ]
    }
   ],
   "source": [
    "from scipy.stats import mannwhitneyu\n",
    "\n",
    "stat,p = mannwhitneyu(A,B)\n",
    "print('p valor :%.3f' % p)"
   ]
  },
  {
   "cell_type": "markdown",
   "metadata": {},
   "source": [
    "En este caso nuestro p_valor supera el valor de 0.05, por lo tanto no podemos afirmar a partir de estos datos que exista diferencia entre la ingesta mediana de carne entre los habitantes de la comunidad A y la comunidad B."
   ]
  },
  {
   "cell_type": "code",
   "execution_count": 15,
   "metadata": {},
   "outputs": [
    {
     "name": "stdout",
     "output_type": "stream",
     "text": [
      "p valor : 0.043\n"
     ]
    }
   ],
   "source": [
    "# Veamos ahora el ejemplo con el conjunto de datos creado \n",
    "stat, p = mannwhitneyu(data1, data2)\n",
    "print('p valor : %.3f' % p)"
   ]
  },
  {
   "cell_type": "markdown",
   "metadata": {},
   "source": [
    "En este caso podemos ver que nuestro p_valor es inferior a 0.05, por lo tanto podemos decir que existe una significancia estadśitica los suficientemente fuerte como para decir que las muestras son diferentes."
   ]
  },
  {
   "cell_type": "markdown",
   "metadata": {
    "collapsed": true
   },
   "source": [
    "# Test de Wilcoxon "
   ]
  },
  {
   "cell_type": "markdown",
   "metadata": {},
   "source": [
    "Es posible que en determinadas situaciones nuestras muestras estén pareadas. Por ejemplo, supongamos dos algoritmos diferentes que han sido evaluados con exactamente el mismo conjunto de train y de test, o el mismo algoritmo pero evaluado con diferentes conjuntos de train. En estos casos las muestras no son independientes, por lo tanto el test de U Mann-Whitney no puede ser usado. Para estos casos podemos hacer uso del test de Wilcoxon, que es la versión del test de Student's.\n",
    "\n",
    "Este test toma como hipótesis nula que las dos muestras son iguales y por lo tanto como hipótesis alternativa que las dos muestras son difirentes."
   ]
  },
  {
   "cell_type": "markdown",
   "metadata": {},
   "source": [
    "Supongamos estamos tratando de ver la efectividad de dos productos para adelgazar. Para esto, lo que vamos hacer es ver como estos dos productos afectan sobre 8 personas, de forma que vamos a ver la cantidad de kilos perdidos por cada paciente en función del producto tomado."
   ]
  },
  {
   "cell_type": "code",
   "execution_count": 4,
   "metadata": {
    "collapsed": true
   },
   "outputs": [],
   "source": [
    "#Ejemplo\n",
    "import numpy as np \n",
    "\n",
    "productoA = np.array([4,3,6,7,9,4,2,5])\n",
    "productoB = np.array([3,4,6,6,5,4,7,3])"
   ]
  },
  {
   "cell_type": "markdown",
   "metadata": {},
   "source": [
    "Para realizar el text de Wilcoxon vamos a proceder a realizar los siguientes pasos:\n",
    "\n",
    "* Calcular las diferencias.\n",
    "\n",
    "* Eliminar elementos donde la diferencia es cero. Estas muestras no van aportar información para decirnos si un producto se comporta mejor o peor.\n",
    "\n",
    "* Ordenamos las diferencias prescindiendo de los signos.\n",
    "\n",
    "* Asignamos rango de orden.\n",
    "\n",
    "*  Corregimos las ligaduras.\n",
    "\n",
    "* Sumamos los rangos según los signos que tengan las diferencias y obtenemos los estimadores:\n",
    "\n",
    "    * T(+) = suma de rangos correspondientes a diferencias positivas\n",
    "    \n",
    "    * T(-) = suma de rangos correspondientes a diferencias negativas.\n",
    "    \n",
    "\n",
    "* Definimos el estadístico como el T = min(T(+), T(-))"
   ]
  },
  {
   "cell_type": "code",
   "execution_count": 10,
   "metadata": {},
   "outputs": [
    {
     "name": "stdout",
     "output_type": "stream",
     "text": [
      "[ 1 -1  0  1  4  0 -5  2]\n"
     ]
    }
   ],
   "source": [
    "#Hacemos diferencias \n",
    "d = productoA - productoB\n",
    "print(d)"
   ]
  },
  {
   "cell_type": "code",
   "execution_count": 11,
   "metadata": {},
   "outputs": [
    {
     "name": "stdout",
     "output_type": "stream",
     "text": [
      "[0, 0, 1, 1, 1, 2, 4, 5]\n"
     ]
    }
   ],
   "source": [
    "#Ordenamos la array independiente del signo\n",
    "d_order = sorted(abs(d))\n",
    "print(d_order)"
   ]
  },
  {
   "cell_type": "code",
   "execution_count": 13,
   "metadata": {},
   "outputs": [
    {
     "name": "stdout",
     "output_type": "stream",
     "text": [
      "[1, 1, 1, 2, 4, 5]\n"
     ]
    }
   ],
   "source": [
    "#Eliminar los ceros\n",
    "d_order_wo0 = [value for value in d_order if value != 0]\n",
    "print(d_order_wo0)"
   ]
  },
  {
   "cell_type": "code",
   "execution_count": 14,
   "metadata": {},
   "outputs": [
    {
     "name": "stdout",
     "output_type": "stream",
     "text": [
      "[1, 2, 3, 4, 5, 6]\n"
     ]
    }
   ],
   "source": [
    "#Asignamos rangos de orden \n",
    "rank_order = [1,2,3,4,5,6]\n",
    "print(rank_order)"
   ]
  },
  {
   "cell_type": "code",
   "execution_count": 15,
   "metadata": {},
   "outputs": [
    {
     "name": "stdout",
     "output_type": "stream",
     "text": [
      "[2, 2, 2, 4, 5, 6]\n"
     ]
    }
   ],
   "source": [
    "#Eliminamos las ligaduras asignando el valor medio\n",
    "rank_order = [2,2,2,4,5,6]\n",
    "print(rank_order)"
   ]
  },
  {
   "cell_type": "code",
   "execution_count": 22,
   "metadata": {},
   "outputs": [
    {
     "name": "stdout",
     "output_type": "stream",
     "text": [
      "8\n"
     ]
    }
   ],
   "source": [
    "T_plus = 2 + 2 + 5 + 4 \n",
    "T_minus = 2 + (6)\n",
    "print(min(T_minus, T_plus))"
   ]
  },
  {
   "cell_type": "markdown",
   "metadata": {},
   "source": [
    "Tras esto debemos de irnos a una tabla, y de esta forma en función de los valores obtenidos podemos decir si podemos o no rechazar la hipótesis nula."
   ]
  },
  {
   "cell_type": "markdown",
   "metadata": {},
   "source": [
    "En python podemos realizar este test a partir de la función **wilcoxon()** que se encuentra en la librería SciPy. "
   ]
  },
  {
   "cell_type": "code",
   "execution_count": 26,
   "metadata": {},
   "outputs": [
    {
     "name": "stdout",
     "output_type": "stream",
     "text": [
      "T : 8.000, p_valor : 0.596\n"
     ]
    },
    {
     "name": "stderr",
     "output_type": "stream",
     "text": [
      "/home/francisco/anaconda3/lib/python3.6/site-packages/scipy/stats/morestats.py:2397: UserWarning: Warning: sample size too small for normal approximation.\n",
      "  warnings.warn(\"Warning: sample size too small for normal approximation.\")\n"
     ]
    }
   ],
   "source": [
    "from scipy.stats import wilcoxon\n",
    "\n",
    "T, p_value = wilcoxon(productoA, productoB)\n",
    "\n",
    "print('T : %.3f, p_valor : %.3f' % (T, p_value))"
   ]
  },
  {
   "cell_type": "markdown",
   "metadata": {},
   "source": [
    "Si tomamos un nivel de significancia del 5% (0.05), podemos ver que tenemos un p_valor muy por encima de este valor por lo tanto no tenemos suficiente significancia estadística como para decir que la hipótesis nula es falsa. Es decir, no tenemos suficiente significancia estadística como para admitir que los productos actuan de forma diferente sobre las personas."
   ]
  },
  {
   "cell_type": "markdown",
   "metadata": {
    "collapsed": true
   },
   "source": [
    "# Kruskal-Wallis H Test"
   ]
  },
  {
   "cell_type": "markdown",
   "metadata": {},
   "source": [
    "Cuando trabajamos con tests de significancia, tales como el test de U Mann-Whitney y Wilcoxon, la comparación entre muestras de datos es por pareja. Esto puede llegar a ser ineficiente si tenemos una gran cantidad de muestras de datos y solo estamos interesados si dos o más muestras tienen una distribución diferente.\n",
    "\n",
    "El test de Kruskal Wallises una versión no parámetrica del test ANOVA. Este test se puede usar para determinar si más de dos muestras independientes tienen una distribución diferente. La hipótesis nula del test es que todas las muestras fueron extraídas de la misma función de distribución. De forma específica, supone que las medianas de todas las muestras son iguales. Si rechazamos la hipótesis nula, indica que existe suficiente evidencia estadística para sugerir que una o más muestras dominan sobre otra muestra, pero la prueba no indica que muestras ni en que medida.\n",
    "\n",
    "Para poder aplicar el test se debe cumplir:\n",
    "\n",
    "* Las muestras deben de ser independientes.\n",
    "\n",
    "* Cada muestras debe tener como mínimo 5 observaciones.\n",
    "\n",
    "Además las muestras pueden diferir en su tamaño, es decir, no todas las muestras deben tener el mismo número de observaciones."
   ]
  },
  {
   "cell_type": "code",
   "execution_count": 4,
   "metadata": {},
   "outputs": [
    {
     "name": "stdout",
     "output_type": "stream",
     "text": [
      "Estadístico : 34.747, p_valor : 0.000\n"
     ]
    }
   ],
   "source": [
    "from numpy.random import seed, rand\n",
    "from scipy.stats import kruskal\n",
    "\n",
    "#Fijamos la semilla\n",
    "seed(1)\n",
    "\n",
    "#Generamos 3 muestras independientes \n",
    "data1 = 50 + (rand(100)*10)\n",
    "data2 = 51 + (rand(100)*10)\n",
    "data3 = 52 + (rand(100)*10)\n",
    "\n",
    "#Hacemos el test de Kruskal-Wallis\n",
    "stats, p_valor = kruskal(data1, data2, data3)\n",
    "\n",
    "print('Estadístico : %.3f, p_valor : %.3f' % (stats, p_valor))"
   ]
  },
  {
   "cell_type": "markdown",
   "metadata": {},
   "source": [
    "Si fijamos una significancia estadística de 0.05, podemos ver como nuestro p_valor es menor, y por lo tanto podemos decir que existe la significancia estadística suficiente como para decir que al menos dos o más muestras tienen distribuciones diferentes."
   ]
  },
  {
   "cell_type": "markdown",
   "metadata": {
    "collapsed": true
   },
   "source": [
    "# Friedman Test "
   ]
  },
  {
   "cell_type": "markdown",
   "metadata": {},
   "source": [
    "Hemos visto como el test de Kruskal Wallis nos permite ver si dos o más nuestras tienen o no la misma función distribución. Si las muestras de alguna manera están pareadas, por ejemplo, medidas repetidas, entonces el test de Kruskal Wallis podría no ser adecuado, en su lugar, podemos hacer uso del test de Friedman.\n",
    "\n",
    "EL test de Friedman es una versión no paramétrica del análisis de un test de varianza para medidas repetidas. Por defecto, asume que las muestras tienen igual distribución. Si rechazamos la hipótesis nula indicamos que una o más de nuestras muestras pareadas tienen una distribución diferente.\n",
    "\n",
    "Podemos implementar el test de Friedman mediante la función **friedmanchisquare()** que se encuentra en la librería SciPy."
   ]
  },
  {
   "cell_type": "code",
   "execution_count": 2,
   "metadata": {},
   "outputs": [
    {
     "name": "stdout",
     "output_type": "stream",
     "text": [
      "p_valor : 0.000\n"
     ]
    }
   ],
   "source": [
    "from numpy.random import seed\n",
    "from numpy.random import rand\n",
    "from scipy.stats import friedmanchisquare\n",
    "\n",
    "#Fijamos la semilla\n",
    "seed(1)\n",
    "\n",
    "#Generamos nuestro conjunto de datos \n",
    "data1 = 50 + (rand(100) * 10)\n",
    "data2 = 51 + (rand(100) * 10)\n",
    "data3 = 52 + (rand(100) * 10)\n",
    "\n",
    "#Aplicamos el test de Friedman\n",
    "stat, p = friedmanchisquare(data1, data2, data3)\n",
    "\n",
    "#Vemos el resultado del p_valor\n",
    "print(\"p_valor : %.3f\" % p)"
   ]
  },
  {
   "cell_type": "markdown",
   "metadata": {},
   "source": [
    "Tomando un nivel de significancia del 5% (0.05), podemos ver como nuestro p_valor es inferior, por lo tanto existe la suficiente significancia estadística para rechazar la hipñótesis nula y por lo tanto una o o ás muestras tienen una distribución diferente."
   ]
  }
 ],
 "metadata": {
  "kernelspec": {
   "display_name": "Python 3",
   "language": "python",
   "name": "python3"
  },
  "language_info": {
   "codemirror_mode": {
    "name": "ipython",
    "version": 3
   },
   "file_extension": ".py",
   "mimetype": "text/x-python",
   "name": "python",
   "nbconvert_exporter": "python",
   "pygments_lexer": "ipython3",
   "version": "3.6.3"
  }
 },
 "nbformat": 4,
 "nbformat_minor": 2
}
