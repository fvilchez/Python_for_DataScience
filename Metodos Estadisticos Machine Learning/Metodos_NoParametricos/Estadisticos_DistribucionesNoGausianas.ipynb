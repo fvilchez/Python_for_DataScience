{
 "cells": [
  {
   "cell_type": "markdown",
   "metadata": {},
   "source": [
    "# Introducción "
   ]
  },
  {
   "cell_type": "markdown",
   "metadata": {},
   "source": [
    "El resumen de datos proporciona una forma conveniente para resumir la distribución de una muestra de datos a partir de una determinados valores estadísticos. Estadísticos como la media y la desviación estándar son usados para resumir aquellos datos que tienen una distrubición Gausiana, pero estos podrían no tener sentido o incluso podrían darnos información erronea, si nuestra muestra de datos tiene una distribución Gausiana."
   ]
  },
  {
   "cell_type": "markdown",
   "metadata": {},
   "source": [
    "# Resumen muestras de datos no paramétricas"
   ]
  },
  {
   "cell_type": "markdown",
   "metadata": {},
   "source": [
    "Las técnicas para resumir datos proporcionan una forma de describir la distribución de datos usando algunas medidas estadísticas. El ejemplo más clásico es el resumen de datos de una distribución Gausiana mediante las medidas estadísticas de la media y la desviación estándar. El problema recae cuando nuestros datos no tiene una distribución Gausiana. Técnicamente podemos calcular estos parámetros para dicha muestra, sin embargo, las conclusiones no serán correctas e incluso podrían dar lugar a generar errores. En caso de que nuestra muestra no tenga una distribución normal podemos hacer usos de los 5-números."
   ]
  },
  {
   "cell_type": "markdown",
   "metadata": {},
   "source": [
    "# Los 5-números"
   ]
  },
  {
   "cell_type": "markdown",
   "metadata": {},
   "source": [
    "El resumen de los cinco números, es una técnica de resumen para datos no paramétricos. Puede ser usado para describir las distribuciones de una muestra de datos independientemente de la forma que tenga dicha distribución. Los cinco parámetro estadísticos que componen este resumen son:\n",
    "\n",
    "* **Mediana** : se trata del valor central de una muestra, es también conocido como el percentil 50th o el 2nd percentil.\n",
    "\n",
    "* **1st Quartile** : percentil 25th.\n",
    "\n",
    "* **3rd Quartile** : percentil 75th.\n",
    "\n",
    "* **Mínimo** : se trata del valor mínimo de una muestra.\n",
    "\n",
    "* **Máximo** : se trata del valor máximo de una muestra.\n",
    "\n",
    "Un cuartil es un valor observado que nos permite separar una muestra ordenada en 4 partes iguales. La mediana, a segundo cuartil, divide la muestra ordenada en dos partes iguales, y el primer y tercer cuartil divide cada una de estas medias en cuartos.\n",
    "\n",
    "Un percentil es un valor observado que nos permite separar la muestra ordenada en 100 partes iguales. Los cuartiles son a menudo expresados en percentiles.\n",
    "\n",
    "Ambos el percentil y el cuartil son ejemplos de estadísticos de tipo rank, es decir, pueden ser calculados para datos con cualquier tipo de distribución. Son usados para resumir rápidamente la cantidad de datos ques e encuentran por debajo o por encima de un valor dado. Por ejemplo, el 50% de los datos se encuentran por debajo de la mediana y el otro 50% se encuentran por encima de la mediana."
   ]
  },
  {
   "cell_type": "markdown",
   "metadata": {},
   "source": [
    "# Cómo calcular los 5 números"
   ]
  },
  {
   "cell_type": "markdown",
   "metadata": {},
   "source": [
    "Podemos calcular el valor de un percentil determinado haciendo uso de la función **percentile()** perteneciente a la librería Numpy. Podemos hacer uso de esta librería para obtener por ejemplo los valores de los  cuartiles. Esta función recibe como parámetros de entrada los datos y un array de los percentiles que queremos calcular."
   ]
  },
  {
   "cell_type": "code",
   "execution_count": 9,
   "metadata": {},
   "outputs": [
    {
     "name": "stdout",
     "output_type": "stream",
     "text": [
      "El primer cuartil es: 8.371\n",
      "El segundo cuartil o mediana es: 15.085\n",
      "El tercer cuartil es: 21.718\n",
      "El mínimo es: -21.564\n",
      "El máximo es: 55.268\n"
     ]
    }
   ],
   "source": [
    "from numpy import percentile\n",
    "from numpy.random import seed\n",
    "from numpy.random import randn\n",
    "\n",
    "#Fijamos la semilla\n",
    "seed(1)\n",
    "\n",
    "#Generamos un conjunto de datos\n",
    "data = 10*randn(10000) + 15\n",
    "\n",
    "#Calculamos los cuartiles\n",
    "quartiles = percentile(data, [25,50,75])\n",
    "\n",
    "#Calculamos el máximo y el mínimo de nuestra muestra\n",
    "val_min, val_max = data.min(), data.max()\n",
    "\n",
    "#Vemos el resultado\n",
    "print(\"El primer cuartil es: %.3f\" % quartiles[0])\n",
    "print(\"El segundo cuartil o mediana es: %.3f\" % quartiles[1])\n",
    "print(\"El tercer cuartil es: %.3f\" % quartiles[2])\n",
    "print(\"El mínimo es: %.3f\" % val_min)\n",
    "print(\"El máximo es: %.3f\" % val_max)"
   ]
  },
  {
   "cell_type": "markdown",
   "metadata": {},
   "source": [
    "Lo que nos quiere decir este resultado es:\n",
    "\n",
    "* El 25% de los valores de nuestra muestra de datos se encuentran por debjo del valor de 8.371 y por lo tanto el 75% de los valores de nuestra muestra se encuentran por encima de este valor. \n",
    "\n",
    "* El 50% de los valores de nuestra muestra se encuentran por debajo del valor 15.085 y por lo tanto el 50% de los valores de nuestra muestra se encuentran por encima de este valor.\n",
    "\n",
    "* EL 75% de los valores de nuestra muestra se encuentran por debajo del valor 21.718 y por lo tanto el 25% de los valores de nuestra muestra se encuentran por encima de este valor."
   ]
  }
 ],
 "metadata": {
  "kernelspec": {
   "display_name": "Python 3",
   "language": "python",
   "name": "python3"
  },
  "language_info": {
   "codemirror_mode": {
    "name": "ipython",
    "version": 3
   },
   "file_extension": ".py",
   "mimetype": "text/x-python",
   "name": "python",
   "nbconvert_exporter": "python",
   "pygments_lexer": "ipython3",
   "version": "3.6.3"
  }
 },
 "nbformat": 4,
 "nbformat_minor": 2
}
