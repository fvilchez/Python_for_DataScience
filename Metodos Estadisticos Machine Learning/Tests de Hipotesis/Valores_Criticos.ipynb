{
 "cells": [
  {
   "cell_type": "code",
   "execution_count": 6,
   "metadata": {
    "collapsed": true
   },
   "outputs": [],
   "source": [
    "from scipy.stats import norm, t, chi2"
   ]
  },
  {
   "cell_type": "markdown",
   "metadata": {},
   "source": [
    "# Introducción"
   ]
  },
  {
   "cell_type": "markdown",
   "metadata": {},
   "source": [
    "Es común, interpretar los resultados de los test de hipótesis haciendo uso del p-valor. No todas las implementaciones de test estadísticos retornan p-valores. En algunos casos, se deben usar alternativas, tales como los valores críticos. Además, los valores críticos son usados cuando estimamos los intervalos esperados para observaciones de una población, tales como los intervalos de tolerancia."
   ]
  },
  {
   "cell_type": "markdown",
   "metadata": {},
   "source": [
    "# ¿Por qué necesitamos los valores críticos?"
   ]
  },
  {
   "cell_type": "markdown",
   "metadata": {},
   "source": [
    "Muchos test de hipótesis estadísticos retornan un p-valor que es usado para interpretar los resultados de dicho test. Algunos test no retornan un p-valor, por lo tanto requieren de un método alternativo para interpretar los resultados del test estadístico, es aquí donde entran los valores críticos. Algunos ejemplos de test de hipótesis estadísticos y sus distribuciones a partir de las cuales se pueden calcular los valores críticos son:\n",
    "\n",
    "* **Z-Test:** Distribución Gaussiana\n",
    "\n",
    "* **Student's t-Test:** Student's t-distribution\n",
    "\n",
    "* **Chi-Squared Test:** Chi-Squared distribution\n",
    "\n",
    "* **Anova:** F-distribution\n",
    "\n",
    "Los valores críticos son también usados cuando definimos intervalos de observaciones esperadas (o inesperadas). El cálculo y el uso de valores críticos puede ser apropiado al cuantificar la incertidumbre de estadísticos estimados o intervalos tales como intervalos de confianza y intervalos de tolerancia. Notar que el p-valor puede ser calculado a partir de un test estadístico recuperando la probabilidad de la CDF."
   ]
  },
  {
   "cell_type": "markdown",
   "metadata": {},
   "source": [
    "# ¿Qué es un valor crítico?"
   ]
  },
  {
   "cell_type": "markdown",
   "metadata": {},
   "source": [
    "Un valor crítico es definido en el contexto de la distribución de población y probabilidad. Se define como la probabilidad de que una observación sea menor a un valor determinado.\n",
    "\n",
    "$$Pr[x <= Critical Value] = probability$$"
   ]
  },
  {
   "cell_type": "markdown",
   "metadata": {},
   "source": [
    "Donde **Pr** es el cálculo de probabilidad, **x** son observaciones de una población, **Critical Value** es el valor crítico y **probability** es la probabilidad elegida. Los valores críticos son calculados haciendo uso de funciones matemáticas donde la probabilidad es proporcionada como un argumento.\n",
    "\n",
    "Para las distribuciones más comunes, el valor no puede ser calculado de forma analítica, en su lugar debe ser estimado usando métodos numéricos. Históricamente se tienen tablas pre-calculadas de valores críticos. La probabilidad a menudo es expresada como una significancia, denotada por alfa:\n",
    "\n",
    "$$probability = 1 - alpha$$"
   ]
  },
  {
   "cell_type": "markdown",
   "metadata": {},
   "source": [
    "Existen valores estándar de alpha que son usados a la hora de calcular valores críticos, estos valores son usados por razones consistentes. Estos valores de alpha son:\n",
    "\n",
    "* 1% (alpha = 0.01)\n",
    "\n",
    "* 5% (alpha = 0.05)\n",
    "\n",
    "* 10% (alpha = 0.1)\n",
    "\n",
    "Los valores críticos proporcionan una forma alternativa y equivalente para interpretar hipótesis estadísticas al p-valor."
   ]
  },
  {
   "cell_type": "markdown",
   "metadata": {},
   "source": [
    "# Test de una cola"
   ]
  },
  {
   "cell_type": "markdown",
   "metadata": {},
   "source": [
    "Un test one-tailed (una cola) tiene un valor crítico único, a la izquierda o a la derecha de la distribución. A menudo, un test one-tailed tiene un valor crítico a la derecha de la distribución para distribuciones no simétricas (tales como la distribución Chi-Squared). El estadístico es comparado con el valor crítico. Si el estadístico es menor o igual que el valor crítico, la hipótesis nula no es rechazada.\n",
    "\n",
    "* ** Test Statistic < Critical Value:** resultado estadísticamente no significativo, no rechazamos la hipótesis nula (H0).\n",
    "\n",
    "* **Test Statistic >= Critical Value:** resultado significativo, rechazamos la hipótesis nula (H0)."
   ]
  },
  {
   "cell_type": "markdown",
   "metadata": {},
   "source": [
    "# Test de doble cola "
   ]
  },
  {
   "cell_type": "markdown",
   "metadata": {},
   "source": [
    "Un test two-tailed (doble cola) tiene dos valores críticos, una a cada lado de la distribución, a menudo se asume que estos valores son simétricos (distribución Gaussianna o T-Student's). Cuando usamos test de tipo doble cola, el valor de significancia (alpha) debe de ser dividio entre 2. El valor crítico utilizará una parte de este alfa en cada lado de la distribución. Si consideramos un alpha del 5%, este debería ser dividido en dos valores de alpha de 2.5% en cada lado de la distribución con un área de aceptación del 95%. Nos podemos referir a cada valor crítico como el vaor crítico inferior y superior. Los valores del test estadístico mayores o iguales al valor crítico inferior y menores que el valor crítico superior indican que la hipótesis nula no puede ser rechazada. Sin embargo, valores por debajo del valor crítico y mayores que el valor crítico superior indican que podemos rechazar la hipótesis nula. Esto puede resumirse en:\n",
    "\n",
    "* **Lower CR < Test Statistic > Upper CR:** resultado no significativo, no podemos rechazar la hipótesis nula.\n",
    "\n",
    "* **Test Statistic <= Lower CR or Test Statistic >= Upper CR:** resultado significativo, rechazamos la hipótesis nula.\n",
    "\n",
    "Si la distribución del test estadístico es simétrico entorno a una media cero, podemos chequear y comprobar el valor absoluto del test con el valor crítico positivo:\n",
    "\n",
    "* **|Test Statistic| < Upper Critical Value:** resultado no significativo, no rechazamos H0.\n",
    "\n",
    "* **|Test Statistic| > Upper Critical Value:** resultado significativo, rechazamos H0."
   ]
  },
  {
   "cell_type": "markdown",
   "metadata": {},
   "source": [
    "# ¿Cómo calcular valores críticos?"
   ]
  },
  {
   "cell_type": "markdown",
   "metadata": {},
   "source": [
    "Las funciones de densidad retornan la probabilidad de una observación en la distribución.\n",
    "\n",
    "* **Función Densidad de Probabilidad (PDF):** probabilidad de que una observación tenga un valor específico.\n",
    "\n",
    "* **Función Densidad Acumulada (CDF):** probabilidad de que una observación sea menor o igual que un valor específico.\n",
    "\n",
    "Con el objetivo de calcular el valor crítico, se requiere una función que, dada una probabilidad (o significancia), nos retorne la observación para la distribución que cumple que es menor o igual a la probabilidad indicada. Esta función es conocida como función cuantil:\n",
    "\n",
    "* **Percent Poit Function (PPF):** retorna el valor de la observación para una probabilidad que es menor o igual a la probabilidad proporcionada.\n",
    "\n",
    "Es decir, un valor de la distribución sera menor o igual que el valor devuelto por la PPF con la probabilidad especificada. Scipy dispone de la función **ppf()** que nos permite obtener dicho punto para una distribución dada. Esta función también puede ser obtenida haciendo uso de la función **isf()**."
   ]
  },
  {
   "cell_type": "markdown",
   "metadata": {
    "collapsed": true
   },
   "source": [
    "## Valores crítcos para una gausiana"
   ]
  },
  {
   "cell_type": "code",
   "execution_count": 3,
   "metadata": {},
   "outputs": [
    {
     "name": "stdout",
     "output_type": "stream",
     "text": [
      "1.6448536269514722\n",
      "0.95\n"
     ]
    }
   ],
   "source": [
    "#Definimos la probabilidad\n",
    "p = 0.95\n",
    "\n",
    "#Obtenemos el valor crítico\n",
    "critical_value = norm.ppf(p)\n",
    "print(critical_value)\n",
    "\n",
    "#Confirmamos con la cdf\n",
    "p = norm.cdf(critical_value)\n",
    "print(p)"
   ]
  },
  {
   "cell_type": "markdown",
   "metadata": {},
   "source": [
    "## Valores críticos Student's test"
   ]
  },
  {
   "cell_type": "code",
   "execution_count": 5,
   "metadata": {},
   "outputs": [
    {
     "name": "stdout",
     "output_type": "stream",
     "text": [
      "1.8124611228107335\n",
      "0.9344872058225152\n"
     ]
    }
   ],
   "source": [
    "#Definimos los grados de libertad y la probabilidad\n",
    "p = 0.95\n",
    "df = 10\n",
    "\n",
    "#Obtenemos el valor crítico\n",
    "value = t.ppf(p, df)\n",
    "print(value)\n",
    "\n",
    "#Confirmamos con la cdf\n",
    "p = t.cdf(critical_value, df)\n",
    "print(p)"
   ]
  },
  {
   "cell_type": "markdown",
   "metadata": {},
   "source": [
    "## Valores críticos chi-cuadrado"
   ]
  },
  {
   "cell_type": "code",
   "execution_count": 8,
   "metadata": {},
   "outputs": [
    {
     "name": "stdout",
     "output_type": "stream",
     "text": [
      "18.307038053275143\n",
      "0.95\n"
     ]
    }
   ],
   "source": [
    "#Definimos la probabilidad y los grados de libertad\n",
    "p = 0.95\n",
    "df = 10\n",
    "\n",
    "#Obtenemos el valor crítico\n",
    "critical_value = chi2.ppf(p, df)\n",
    "print(value)\n",
    "\n",
    "#Confirmamos con la cdf\n",
    "p = chi2.cdf(critical_value, df)\n",
    "print(p)"
   ]
  }
 ],
 "metadata": {
  "kernelspec": {
   "display_name": "Python 3",
   "language": "python",
   "name": "python3"
  },
  "language_info": {
   "codemirror_mode": {
    "name": "ipython",
    "version": 3
   },
   "file_extension": ".py",
   "mimetype": "text/x-python",
   "name": "python",
   "nbconvert_exporter": "python",
   "pygments_lexer": "ipython3",
   "version": "3.6.3"
  }
 },
 "nbformat": 4,
 "nbformat_minor": 2
}
