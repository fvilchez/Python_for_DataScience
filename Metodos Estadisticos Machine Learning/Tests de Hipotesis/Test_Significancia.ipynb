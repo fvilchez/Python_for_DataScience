{
 "cells": [
  {
   "cell_type": "code",
   "execution_count": 3,
   "metadata": {},
   "outputs": [],
   "source": [
    "import numpy as np \n",
    "import numpy.random as random \n",
    "from scipy.stats import ttest_ind, ttest_rel, f_oneway"
   ]
  },
  {
   "cell_type": "markdown",
   "metadata": {},
   "source": [
    "# Introducción"
   ]
  },
  {
   "cell_type": "markdown",
   "metadata": {},
   "source": [
    "Los métodos estadísticos paramétricos a menudo asumen que las muestras de datos tienen una distribución Gaussiana. En el aprendizaje automático aplicado, necesitamos comparar muestras de datos. Para cuantificar e interpretar los resultados, podemos hacer uso de los métodos de hipótesis tales como Student's t-test y ANOVA. A continuación procederemos a ver con más detenimiento:\n",
    "\n",
    "* **Student's t-test:** para cuantificar la diferencia entre la media de dos muestras de datos independientes.\n",
    "\n",
    "* **The paired Student's t-test:** para cuantificar la diferencia entre la media de dos muestras de datos dependientes.\n",
    "\n",
    "* **ANOVA:** para chequear la similaridad o diferencia entre la media de dos o más muestras de datos."
   ]
  },
  {
   "cell_type": "markdown",
   "metadata": {},
   "source": [
    "# Test estadístico paramétrico de significancia"
   ]
  },
  {
   "cell_type": "markdown",
   "metadata": {},
   "source": [
    "Los test estadísticos paramétricos asumen que la muestra de datos fué extraida de una población con una distribución específica. A menudo los test estadísticos asumen una distribución Gaussiana. Esto es debido a que dicha distribución es la más común en los datos. Una pregunta muy típica que nos podemos hacer acerca de dos muestras de datos es si tienen la misma distribución. Las pruebas de significancia estadísticasson aquellas en las que los datos provienen de la misma distribución Gaussina, es decir, una distribución de datos con la misma media y desviación estándar.\n",
    "\n",
    "Estos tests retornan un p-valor que puede ser usado para interpretar el resultado del test. El p-valor puede ser visto como la probabilidad de observar las dos muestras de datos dada una asunción (hipótesis nula) de que las dos muestras han sido observadas de la misma distribución. El p-valor puede ser interpretado en el contexto de nivel de significancia. Un valor común para este nivel de significancia es 5% o 0.05. Si el p-valor es menor al nivel de significancia se dice que existe evidencia estadística suficiente como para rechazar la hipótesis nula y por lo tanto es probable que las muestras observadas vengan de dos distribuciones diferentes."
   ]
  },
  {
   "cell_type": "markdown",
   "metadata": {},
   "source": [
    "# Datos de prueba"
   ]
  },
  {
   "cell_type": "markdown",
   "metadata": {},
   "source": [
    "Antes de comenzar a ver los diferentes test de significancia estadísticos, vamos a proceder a preparar un conjunto de datos que será usado para trabajar con cada uno de estos tests. Vamos a proceder a generar dos muestras de datos que provienen de dos distribuciones diferentes."
   ]
  },
  {
   "cell_type": "code",
   "execution_count": 28,
   "metadata": {},
   "outputs": [
    {
     "name": "stdout",
     "output_type": "stream",
     "text": [
      "Media muestra 1 50.30291426037849, desviación estándar de la muestra 1: 4.4257810691579245\n",
      "Media muestra 2 51.763973888101, desviación estándar de la muestra 2: 4.6599740872749775\n"
     ]
    }
   ],
   "source": [
    "#Fijamos la semilla\n",
    "random.seed(1)\n",
    "\n",
    "#Generamos una primera distribución Gaussiana de media 50 y desviación estándar 5\n",
    "data1 = 5*random.randn(100) + 50\n",
    "\n",
    "#Generamos una segunda distribución Gaussiana de media 51 y desviación estándar 5\n",
    "data2 = 5*random.randn(100) +51\n",
    "\n",
    "np.set_printoptions(precision=3)\n",
    "print('Media muestra 1 {}, desviación estándar de la muestra 1: {}'.format(np.mean(data1), np.std(data1)))\n",
    "print('Media muestra 2 {}, desviación estándar de la muestra 2: {}'.format(np.mean(data2), np.std(data2)))"
   ]
  },
  {
   "cell_type": "markdown",
   "metadata": {},
   "source": [
    "# Student's t-test"
   ]
  },
  {
   "cell_type": "markdown",
   "metadata": {},
   "source": [
    "El Student's t-test es una hipótesis estadística que conocidas dos muestras independientes que tienen una distribución Gaussiana, parte de la hipótesis nula de que las medias de las dos poblaciones son iguales. Si rechazamos la hipótesis nula, esto implica que existe suficiente evidencia estadística de que las medias de ambas poblaciones son diferentes, y por lo tanto las distribuciones son diferentes."
   ]
  },
  {
   "cell_type": "markdown",
   "metadata": {},
   "source": [
    "Este test está disponible en Python a través de la librería Scipy vía la función **ttest_ind()**. La función recibe como argumento dos muestras de datos y retorna un p-valor. El test asume que ambas muestras de datos tienen igual varianza, en caso de que esto no ocurra se puede hacer uso de una versión del test corregida haciendo uso del argumento **equal_var = False**."
   ]
  },
  {
   "cell_type": "code",
   "execution_count": 15,
   "metadata": {},
   "outputs": [
    {
     "name": "stdout",
     "output_type": "stream",
     "text": [
      "Rechazamos hipótesis nula\n"
     ]
    }
   ],
   "source": [
    "#Aplicamos el test a los dos muestras de datos anteriores\n",
    "stat, p_valor = ttest_ind(data1, data2)\n",
    "\n",
    "if p_valor < 0.05:\n",
    "    print('Rechazamos hipótesis nula')\n",
    "else:\n",
    "    print('No rechazamos la hipótesis nula')"
   ]
  },
  {
   "cell_type": "markdown",
   "metadata": {},
   "source": [
    "# Paired Student's t-Test"
   ]
  },
  {
   "cell_type": "markdown",
   "metadata": {},
   "source": [
    "Podemos querer comparar la media entre dos muestras que están relaccionadas de alguna manera, por ejemplo, las muestras de datos pueden representar dos medias independientes o evaluaciones de un mismo sujeto. Debido a que las muestras no son independientes, no podemos hacer uso del Student's t-Test. En su lugar, debemos de usar una versión modificada del test que corrige el echo de que las muestras son dependientes.\n",
    "\n",
    "El test se simplifica ya que no asume que hay una variación entre las observaciones. La hipótesis nul, es que no hay diferencia entre la media de las muestras. Si rechazamos la hipótesis nula indica que hay suficiente evidencia estadística de que la media de las muestra son diferentes."
   ]
  },
  {
   "cell_type": "markdown",
   "metadata": {},
   "source": [
    "El Paired Student's t-Test, puede calcularse en Python a través de la función **ttest_rel()** de la librería Scipy.Esta función toma como argumento dos muestras de datos y retorna un estadístico y un p-valor. "
   ]
  },
  {
   "cell_type": "code",
   "execution_count": 29,
   "metadata": {},
   "outputs": [
    {
     "name": "stdout",
     "output_type": "stream",
     "text": [
      "rechazamos la hipótesis nula\n"
     ]
    }
   ],
   "source": [
    "#Aplicamos el test\n",
    "stat, p_valor = ttest_rel(data1, data2)\n",
    "\n",
    "if p_valor < 0.05:\n",
    "    print('rechazamos la hipótesis nula')\n",
    "else:\n",
    "    print('no podemos rechazar la hipótesis nula')"
   ]
  },
  {
   "cell_type": "markdown",
   "metadata": {},
   "source": [
    "# Test ANOVA"
   ]
  },
  {
   "cell_type": "markdown",
   "metadata": {},
   "source": [
    "Existen algunas situaciones donde podemos tener múltiples muestras de datos independientes. Podemos realizar un Student's t-test a cada pareja en cada combinación de las muestras de datos para tener una idea de que muestras tienen diferentes medias. Esto puede ser oneroso si solo estamos interesados en saber si todas las muestras tienen la misma distribución o no. Para responder a esta pregunta podemos hacer uso del test de varianza o ANOVA. ANOVA es un test estadístico que asume que la media a través de dos o más grupos son iguales. Si la evidencia estadística sugiere que no es el caso, la hipotesis nula es rechazada y al menos una muestra de datos tiene una distribución diferente.\n",
    "\n",
    "Es muy importante tener claro que el test solo nos indica si todas las muestras son iguales o no; no nos cuantifica que muestras difieren y en que medida. El test requiere que las muestras de datos tenga una distribución Gaussiana, que sean independientes y que todas las muestras de datos tengan la misma desviación."
   ]
  },
  {
   "cell_type": "markdown",
   "metadata": {},
   "source": [
    "El test ANOVA puede ser realizado en Python haciendo uso de la función **f_oneway()** de SciPy. La función toma dos o más argumentos y retorna un estadístico y un p-valor."
   ]
  },
  {
   "cell_type": "code",
   "execution_count": 4,
   "metadata": {},
   "outputs": [
    {
     "name": "stdout",
     "output_type": "stream",
     "text": [
      "rechazamos la hipótesis nula\n"
     ]
    }
   ],
   "source": [
    "#Generamos tres muestras de datos \n",
    "random.seed(1)\n",
    "\n",
    "data1 = random.randn(100) + 50\n",
    "data2 = random.randn(100) + 50\n",
    "data3 = random.randn(100) + 51\n",
    "\n",
    "#Aplicamos el test\n",
    "stats, p_valor = f_oneway(data1, data2, data3)\n",
    "\n",
    "if p_valor < 0.05:\n",
    "    print('rechazamos la hipótesis nula')\n",
    "else:\n",
    "    print('no rechazamos la hipótesis nula')"
   ]
  },
  {
   "cell_type": "code",
   "execution_count": null,
   "metadata": {
    "collapsed": true
   },
   "outputs": [],
   "source": []
  }
 ],
 "metadata": {
  "kernelspec": {
   "display_name": "Python 3",
   "language": "python",
   "name": "python3"
  },
  "language_info": {
   "codemirror_mode": {
    "name": "ipython",
    "version": 3
   },
   "file_extension": ".py",
   "mimetype": "text/x-python",
   "name": "python",
   "nbconvert_exporter": "python",
   "pygments_lexer": "ipython3",
   "version": "3.6.3"
  }
 },
 "nbformat": 4,
 "nbformat_minor": 2
}
