{
 "cells": [
  {
   "cell_type": "code",
   "execution_count": 5,
   "metadata": {
    "collapsed": true
   },
   "outputs": [],
   "source": [
    "from numpy.random import randn, seed\n",
    "from scipy.stats import pearsonr\n",
    "import numpy as np"
   ]
  },
  {
   "cell_type": "markdown",
   "metadata": {},
   "source": [
    "# Introducción "
   ]
  },
  {
   "cell_type": "markdown",
   "metadata": {},
   "source": [
    "Los test de hipótesis estadísticos reportan la probabilidad de observar resultados dada una asunción. Los métodos effect size se refieren al conjunto de herramientas estadísticas para cuantificar en que medida afecta el resultado del test."
   ]
  },
  {
   "cell_type": "markdown",
   "metadata": {},
   "source": [
    "# ¿Qué es el Effect Size?"
   ]
  },
  {
   "cell_type": "markdown",
   "metadata": {},
   "source": [
    "El Effect Size hace referencia al tamaño o magnitud de un efecto o resultado sobre una población. El Effect Size es estimado a partir de una muestra de datos. Los métodos Effect Size hacen referencia al conjunto de herramientas estadísticas usadas para calcular el Effect Size. Es común organizar estos métodos en grupos, dos de los grupos principales son:\n",
    "\n",
    "* **Asociación:** métodos estadísticos para cuantificar una asociación entre variables.\n",
    "\n",
    "* **Diferencia:** métodos estadísticos para cuantificar la diferencia entre variables.\n",
    "\n",
    "El resultado del cálculo de un Effect Size debe ser interpretable, y esto depende del método específico usado. Una medida debe ser elegida basada en los objetivos de interpretación.\n",
    "\n",
    "* **Resultado estandarizado:** el Effect Size tiene una escala estándar que permite generalmente ser interpretado, independientemente de la aplicación.\n",
    "\n",
    "* **Resultado en unidades originales:** el Effect Size puede usar las unidades originales de la variable, que pueden ayudar a la interpretación dentro del dominio.\n",
    "\n",
    "* **Resultado sin unidades:** el Effect Size podría no tener unidades.\n",
    "\n",
    "Por lo tanto, el Effect Size puede referirse a la diferencia bruta entre medias en grupos, absoluta, así como a medidas estandarizadas, las cuales son calculadas para transformar el efecto en una escala facilmente interpretable. El Effect Size absoluto es especialmente útil cuando las variables estudiadas tienen un significado intrínseco.\n",
    "\n",
    "Se debe tener claro que el Effect Size no reemplaza los resultados del test de hipótesis. En su lugar, lo que hace es complementar el test. Lo ideal es presentar los resultados del test de hipótesis y del Effect Size."
   ]
  },
  {
   "cell_type": "markdown",
   "metadata": {},
   "source": [
    "# Como calcular el Effect Size"
   ]
  },
  {
   "cell_type": "markdown",
   "metadata": {},
   "source": [
    "El Effect Size podría ser calculado como la media de una muestra o la diferencia absoluta entre dos medias. También se podría calcular mediante cálculos estadísticos más sofisticados. Existen cientos de métodos que pueden ser usados para calcular el Effect Size."
   ]
  },
  {
   "cell_type": "markdown",
   "metadata": {},
   "source": [
    "# Calculando el Effect Size de asociación"
   ]
  },
  {
   "cell_type": "markdown",
   "metadata": {},
   "source": [
    "La asociación entre variables es a menudo conocida en términos de Effect Size como la familia r. Este nombre se debe a que el método más común para calcular el Effect Size de asociación es el coeficiente de correlación de Pearson. La correlación de Pearson mide el grado de asociación lineal entre dos variables con valores reales. Es una medida sin unidades, y puede ser interpretada como sigue:\n",
    "\n",
    "* **-1.0:**relación negativa perfecta.\n",
    "\n",
    "* **-0.7:**relación negativa fuerte.\n",
    "\n",
    "* **-0.5:**relación negativa moderada.\n",
    "\n",
    "* **-0.3:**relación negativa débil.\n",
    "\n",
    "* **0.0:**relación inexistente.\n",
    "\n",
    "* **0.3:**relación positiva débil.\n",
    "\n",
    "* **0.5:**relación positiva moderada.\n",
    "\n",
    "* **0.7:**relación positiva fuerte.\n",
    "\n",
    "* **1.0:**relación positiva perfecta.\n",
    "\n",
    "Otro método muy popular para calcular el Effect Size en términos de asociación es la mededida r cuadrado, también conocido como coeficiente de determinación. Este resume la proporción de varianza en una variable explicada por otra."
   ]
  },
  {
   "cell_type": "markdown",
   "metadata": {},
   "source": [
    "El coeficiente de correlación de Pearson puede ser calculado a partir de la función **pearsonr()** de la librería SciPy. "
   ]
  },
  {
   "cell_type": "code",
   "execution_count": 4,
   "metadata": {},
   "outputs": [
    {
     "name": "stdout",
     "output_type": "stream",
     "text": [
      "El coeficiente de pearson entre las muestras es: 0.712\n"
     ]
    }
   ],
   "source": [
    "#Fijamos la semilla\n",
    "seed(1)\n",
    "\n",
    "#Nos creamos dos muestras fuertemente correladas\n",
    "data1 = 10*randn(10000) + 50\n",
    "data2 = data1 + (10*randn(10000) + 50)\n",
    "\n",
    "#Calculamos el coeficiente de pearson entre las dos muesras\n",
    "corr,_ = pearsonr(data1, data2)\n",
    "print('El coeficiente de pearson entre las muestras es: %.3f' % corr)"
   ]
  },
  {
   "cell_type": "markdown",
   "metadata": {},
   "source": [
    "# Calculando el Effec Size de diferencia"
   ]
  },
  {
   "cell_type": "markdown",
   "metadata": {},
   "source": [
    "La diferencia entre grupos es a menudo conocida en términos de Effect Size como la familia d. Este nombre se debe a que el método más común para calcular la diferencia entre la medida de grupos, es el conocido coeficiente de Cohen's d. Este es un coeficiente que resume la diferencia en términos del número de desviaciones estándar. Cohen's d mide la diferencia entre la media de dos variables con una distribución Gaussiana. Puesto que es un coeficiente cuyo resultado es estandarizado, existe una tabla para interpretar su resultado:\n",
    "\n",
    "* **Small Effect Size:** d=0.20.\n",
    "\n",
    "* **Medium Effect Size:** d=0.50.\n",
    "\n",
    "* **Large Effect Size:** d=0.80."
   ]
  },
  {
   "cell_type": "markdown",
   "metadata": {},
   "source": [
    "El cálculo de este coeficiente no se encuentra implementado en Python, podemos calcular este coeficiente de forma anual:\n",
    "\n",
    "$$d=\\frac{\\mu_{1} - \\mu_{2}}{s}$$"
   ]
  },
  {
   "cell_type": "markdown",
   "metadata": {},
   "source": [
    "Donde d es el coeficiente de Cohen's d, u1 es la media de la primera muestra, u2 es la media de la segunda muestra y s es la desviación estándar combinada de ambas muestras. La desviación estándar combinada para dos muestras independientes puede ser calculada como:\n",
    "\n",
    "$$s = \\sqrt{\\frac{(n_{1}-1)*s_{1}^{2} + (n_{2}-1)*s_{1}^{2}}{n_{1} + n_{2} - 2}}$$"
   ]
  },
  {
   "cell_type": "markdown",
   "metadata": {},
   "source": [
    "Donde s es la desviación estándar combinada, n1 y n2 son el tamaño de la primera y la segunda muestra respectivamente, y s1 y s2 son las varianzas de la primera y la segunda muestra respectivamente. Las diferencias son ajustes de los grados de libertad."
   ]
  },
  {
   "cell_type": "markdown",
   "metadata": {},
   "source": [
    "La siguiente función nos permite calcular el coefince de COhen's d"
   ]
  },
  {
   "cell_type": "code",
   "execution_count": 8,
   "metadata": {
    "collapsed": true
   },
   "outputs": [],
   "source": [
    "def cohens_d(data1, data2):\n",
    "    '''Función que nos permite calcular el coeficiente de Cohend de dos muestras independientes'''\n",
    "    \n",
    "    #Calculamos la longitud de las muestras\n",
    "    n1, n2 = len(data1), len(data2)\n",
    "    #Calculamos la varianza de las muestras\n",
    "    s1,s2 = np.var(data1), np.var(data2)\n",
    "    #Calculamos la desviación estándar combinada\n",
    "    s = np.sqrt(((n1 - 1) * s1 + (n2 - 1) * s2) / (n1 + n2 - 2))\n",
    "    #Calculamos las medias de cada muestra\n",
    "    u1, u2 = np.mean(data1), np.mean(data2)\n",
    "    \n",
    "    return (u1-u2)/s"
   ]
  },
  {
   "cell_type": "code",
   "execution_count": 9,
   "metadata": {},
   "outputs": [
    {
     "name": "stdout",
     "output_type": "stream",
     "text": [
      "El coeficiente de Cohen entre las muestras es: 0.500\n"
     ]
    }
   ],
   "source": [
    "#Ejemplo de coeficiente de Cohen's d\n",
    "\n",
    "#Fijamos la semilla\n",
    "seed(1)\n",
    "\n",
    "#Preparamos los datos\n",
    "data1 = 10 * randn(10000) + 60\n",
    "data2 = 10 * randn(10000) + 55\n",
    "\n",
    "#Calculamos el coeficiente de Cohen's d\n",
    "cohen_cof = cohens_d(data1, data2)\n",
    "print('El coeficiente de Cohen entre las muestras es: %.3f' % cohen_cof)"
   ]
  },
  {
   "cell_type": "markdown",
   "metadata": {},
   "source": [
    "Otras dos medidas muy populares son:\n",
    "\n",
    "* **Odds ratio:** mide el ratio de probabilidad de A en presencia de B y la probabilidad de A en ausencia de B. Intenta cuantificar la fuerza de asociación entre A y B. Si el coeficiente es mayor que 1, entonces es considerada que está asociada con B1 en el sentido que comparando con la ausencia de B, la presencia de B eleva la probabilidad de A. Esto no establece que B cause A.\n",
    "\n",
    "\n",
    "* **Relative Risk Ratio:** relación entre la probabilidad de que se de una salida para un grupo expuesto y la probabilidad que se de una salida para un grupo no expuesto. Si el coeficiente es igual a 1 indica que la exposición no causa ningún tipo de efecto, si es menor que 1 implica que la probabilidad de salida se ve reducida con la exposición y si es mayor que 1 indica que la probabilidad de salida se ve incrementada con la exposición."
   ]
  }
 ],
 "metadata": {
  "kernelspec": {
   "display_name": "Python 3",
   "language": "python",
   "name": "python3"
  },
  "language_info": {
   "codemirror_mode": {
    "name": "ipython",
    "version": 3
   },
   "file_extension": ".py",
   "mimetype": "text/x-python",
   "name": "python",
   "nbconvert_exporter": "python",
   "pygments_lexer": "ipython3",
   "version": "3.6.3"
  }
 },
 "nbformat": 4,
 "nbformat_minor": 2
}
