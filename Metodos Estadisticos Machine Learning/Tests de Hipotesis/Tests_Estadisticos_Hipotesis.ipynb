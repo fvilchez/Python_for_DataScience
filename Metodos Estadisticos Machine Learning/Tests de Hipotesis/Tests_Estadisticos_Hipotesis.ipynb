{
 "cells": [
  {
   "cell_type": "markdown",
   "metadata": {},
   "source": [
    "# Introducción "
   ]
  },
  {
   "cell_type": "markdown",
   "metadata": {},
   "source": [
    "Con el objetivo de descubrir significado en los datos estos deben de ser interpretados. Podemos interpretar datos asumiendo una estructura específica y usar métodos estadísticos para confirmar o rechazar dicha asunción. Esta asunción es conocida como hipótesis y los test estadísticos usados para este propósito son llamados test estadísticos de hipótesis.\n",
    "\n",
    "Cuando queremos realizar afirmaciones sobre la distribución de los datos o si un conjunto de resultados son diferentes el uno del otro debemos de hacer uso de este tipo de test."
   ]
  },
  {
   "cell_type": "markdown",
   "metadata": {},
   "source": [
    "# Test estadístico de hipótesis"
   ]
  },
  {
   "cell_type": "markdown",
   "metadata": {},
   "source": [
    "Los datos por si solos no son interesantes. Es su interpretación lo que es realmente interesante. En estadística cuando deseamos empezar a realizar preguntas sobres los datos y interpretar sus resultados, usamos los métodos estadísticos de hipótesis que proporcionan una confianza o probabilidad sobre las respuestas. En general, esta clase de métodos son llamados test estadísticos de hipótesis o test de significancia.\n",
    "\n",
    "En estadística, un test de hipótesis calcula alguna cantidad bajo una asunción dada. El resultado de la prueba nos permite interpretar cuando la asunción se mantiene o cuando la asunción es violada. Ejemplos:\n",
    "\n",
    "* Un test que asume que los datos tiene una distribución normal.\n",
    "\n",
    "* Un test que asume que dos muestras son extraídas de la misma población subyacente.\n",
    "\n",
    "La asunción del test estadístico es llamada hipótesis nula, o hipótesis cero (H0). Una violación de la asunción del test es a menudo llamada primera hipótesis o hipótesis uno (H1).\n",
    "\n",
    "* **Hipótesis 0:** suposición de que la test no puede ser rechazado.\n",
    "\n",
    "* **Hipótesis 1:** supuesto de que el test no se cumple y se rechaza.\n",
    "\n",
    "Antes de que podamos o no rechazar la hipótesis nula, debemos de interpretar el resultado del test."
   ]
  },
  {
   "cell_type": "markdown",
   "metadata": {},
   "source": [
    "# Interpretación Test Estadístico"
   ]
  },
  {
   "cell_type": "markdown",
   "metadata": {},
   "source": [
    "El resultado de un test estadístico de hipótesis debe de ser interpretado antes de comenzar a realizar afirmaciones. Existen dos formas comunes en las cuales un test estadístico puede ser interpretado, ambas formas tiene una interpretación diferente: p-valor y valores críticos."
   ]
  },
  {
   "cell_type": "markdown",
   "metadata": {},
   "source": [
    "## Interpretación del p-valor"
   ]
  },
  {
   "cell_type": "markdown",
   "metadata": {},
   "source": [
    "Un resultado puede ser interpretado como estadísticamente significativo al interpretar su p-valor. Por ejemplo, podemos realizar un test de tipo T-Student's de dos muestras de datos y encontrar que es improbable que las muestras tengan la misma media.\n",
    "\n",
    "En el caso anterior, rechazamos la hipótesis nula que dice ambas muestras tienen la misma media a partir de un nivel de significancia estadística (confianza). Un test de hipótesis estadístico puede retornar un valor denominado p-valor. Esta cantidad o valor puede ser usado para interpretar o cuantificar el resultado del test y rechazar o no la hipótesis nula. Para ello lo que se hace es comparar el valor del p-valor con un valor umbral elegido de antemano llamado nivel de significancia. \n",
    "\n",
    "Un valor común para este nivel de significancia es 5% o 0.05. Un valor pequeño para este valor de significancia sugiere una interpretación más robusta. El p-valor es comparado con el valor de significancia elegido. Un resultado es estadísticamente significativo cuando el p-valor es menor o igual al valor de significancia elegido. Esto significa que la hipótesis nula puede ser rechazada.\n",
    "\n",
    "* p-valor <= nivel significancia: resultado significativo, rechazamos la hipótesis nula.\n",
    "\n",
    "* p-valor >= nivel significancia: resultado no significativo, no podemos rechazar la hipótesis nula\n",
    "\n",
    "Si restamos 1 al valor de significancia esto nos da un nivel de confianza de la hipótesis dada la muestra de datos observada."
   ]
  },
  {
   "cell_type": "markdown",
   "metadata": {},
   "source": [
    "## Rechazar vs Fallo al rechazar"
   ]
  },
  {
   "cell_type": "markdown",
   "metadata": {},
   "source": [
    "El p-valor es un valor probabilístico. Esto significa que cuando interpretamos el resultado de un test estadístico, no podemos decir si algo es verdadero o falso, solo que es probable. Rechazar la hipótesis nula significa que hay suficiente evidencia estadística para indicar que la hipótesis nula es poco probable. Por otro lado, si no somos capaces de rechazar la hipótesis nula significa que no hay suficiente evidencia estadística para rechazar la hipótesis nula.\n",
    "\n",
    "El peligro reside en que cuando decimos que aceptamos la hipótesis nula, el lenguaje sugiere que la hipótesis nula es verdadera. En cambio, es más seguro decir que no podemos rechazar la hipótesis nula puesto que no tenemos suficiente evidencia estadística para rechazarla. Debemos pensar que aceptar o rechazar una hipótesis nula es algo plenamente probabilístico y siempre esta sujeto a errores."
   ]
  },
  {
   "cell_type": "markdown",
   "metadata": {
    "collapsed": true
   },
   "source": [
    "## Errores comúnes en la interpretación del p-valor"
   ]
  },
  {
   "cell_type": "markdown",
   "metadata": {},
   "source": [
    "* La interpretación del p-valor no significa que la hipótesis nula sea verdadera o falsa. Lo que significa es que hemos optado por rechazar o no la hipótesis nula para un cierto nivel de significancia. Estamos limitados a realizar afirmaciones probabilísticas, en ningún caso podemos realizar afirmaciones absolutas (Verdadero o Falso) sobre el resultado\n",
    "\n",
    "* Una interpretación erronea muy común consiste en interpretar el p-valor como la probabilidad de que la hipótesis nula sea verdadera o falsa. En su lugar, el p-valor puede pensarse como la probabilidad de observar unos datos asumiendo que la hipótesis nula es cierta.\n",
    "\n",
    "* Tampoco podemos volver a muestrear nuestro dominio o ajustar nuestra muestra de datos y volver a ejecutar la prueba estadística hasta conseguir el resultado deseado."
   ]
  },
  {
   "cell_type": "markdown",
   "metadata": {},
   "source": [
    "## Interpretación de los valores críticos"
   ]
  },
  {
   "cell_type": "markdown",
   "metadata": {},
   "source": [
    "Algunos tests no retornan un p-valor. En su lugar, podrían devolver un valor estadístico para una distribución específica de datos, que puede ser interpretada en el contexto de valores críticos.\n",
    "\n",
    "Un valor crítico es un valor de la distribución del test estadístico, a partir del cual el resultado es significativo y la hipótesis nula puede ser rechazada.\n",
    "\n",
    "* Test estadístico < Valor crítico: resultado no significativo, no podemos rechazar la hipótesis nula (H0).\n",
    "\n",
    "* Test estadístico >= Valor crítico: resultado significativo, rechazamos la hipótesis nula (H0).\n",
    "\n",
    "Esto requiere que se conozca la distribución del test estadístico y como muestrear la distribución para recuperar el valor crítico. Una vez más, el significado del resultado es similar al p-valor, en el sentido de que el nivel de significancia estadística elegido es una decisión probilística sobre el rechazo o el fracaso de la asunción del test para los datos dados. Por ejemplo, si se calculó una prueba de normalidad y test estadístico es comparó con el valor crítico de significancia del 5%:\n",
    "\n",
    "* El test encontró que la muestra de datos fué normal, por lo  tanto no rechazó la hipótesis nula para un nivel de significancia del 5%.\n",
    "\n",
    "* El test encontró que la muestra de datos fué normal, por lo tanto no rechazó la hipótesis nula para un nivel de confianza del 95%."
   ]
  },
  {
   "cell_type": "markdown",
   "metadata": {},
   "source": [
    "# Errores en los tests estadísticos"
   ]
  },
  {
   "cell_type": "markdown",
   "metadata": {},
   "source": [
    "La interpretación de un test de hipótesis estadístico es probabilístico. Esto significa que la evidencia en la que un test sugiere una salida puede ser erronea. Por ejemplo, si alpha es 5%, esto sugiere que a lo suma 1 de cada 20 veces la hipótesis nula fue rechazada de forma erronea debido a la existencia de ruido estadístico en los datos. Dado un valor pequeño en el p-valor (rechazar la hipótesis nula) o bien significa que la hipótesis nula es falsa (lo hemos hecho bien) o es cierta y en este caso nos hemos equivocado, este tipo de equivocaciones son conocidas como falsos positivos.\n",
    "\n",
    "De forma alternativa, dado un p-valor grande (no rechazamos la hipótesis nula), esto podría significar que la hipótesis nula es cierta (hemos acertado) o que la hipótesis nula es falsa y algo improbable ocurrió (hemos cometido un error). Este tipo de error es llamado falso negativo. Estos errores también reciben los nombres alternativos:\n",
    "\n",
    "* **Error tipo I:** rechazar de forma incorrecta la hipótesis nula, falso positivo.\n",
    "\n",
    "* **Error tipo II:** aceptar de forma incorrecta la hipótesis nula, falso negativo.\n",
    "\n",
    "Cuando realizamos test estadísticos, idealmente queremos elegir el nivel de significancia que minimiza la probabilidad de estos errores. Los niveles de significancia 0.05 y 0.01 son muy frecuentes, pero en ciencas físicas los niveles son mucho más exigentes. Es común esar valores de tres elevado a menos siete, a menudo conocidos como 5-sigma. Esto significa que la probabilidad de observar dicho resultado debido al azar es de 1 entre 3.5 millones de repeticiones independientes del experimento."
   ]
  },
  {
   "cell_type": "markdown",
   "metadata": {},
   "source": [
    "# Grados de libertad"
   ]
  },
  {
   "cell_type": "markdown",
   "metadata": {},
   "source": [
    "Cuando calculamos estadísticos, a menudo debemos incluir información sobre el tamaño de la muestra de datos. La forma de hacer esto es vía los grados de libertad. Los grados de libertad es el número de piezas de información que han sido usadas para estimar un parámetro o calcular un estadístico a partir de una muestra de datos.\n",
    "\n",
    "Los grados de libertad son referidos como df o dof y en una ecuación se representa por la letra nu. Los grados de libertad son siempre iguales o menores que el tamaño de la muestra, a menudo denotada por n.\n",
    "\n",
    "Si el estadístico que se está calculando hace uso a su vez de otro estadístico, entonces el número de grados de libertad debe ser corregido mediante una resta."
   ]
  }
 ],
 "metadata": {
  "kernelspec": {
   "display_name": "Python 3",
   "language": "python",
   "name": "python3"
  },
  "language_info": {
   "codemirror_mode": {
    "name": "ipython",
    "version": 3
   },
   "file_extension": ".py",
   "mimetype": "text/x-python",
   "name": "python",
   "nbconvert_exporter": "python",
   "pygments_lexer": "ipython3",
   "version": "3.6.3"
  }
 },
 "nbformat": 4,
 "nbformat_minor": 2
}
