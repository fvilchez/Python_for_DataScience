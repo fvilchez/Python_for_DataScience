{
 "cells": [
  {
   "cell_type": "code",
   "execution_count": 58,
   "metadata": {
    "collapsed": true
   },
   "outputs": [],
   "source": [
    "import pandas as pd\n",
    "import numpy as np\n",
    "import matplotlib.pyplot as plt"
   ]
  },
  {
   "cell_type": "markdown",
   "metadata": {},
   "source": [
    "# Reading in a data file"
   ]
  },
  {
   "cell_type": "markdown",
   "metadata": {},
   "source": [
    "En la vida real es muy posible que los ficheros no se encuentren formateados de una forma adecuada. En el siguiente ejercicio vamos a proceder a realizar la carga de un fichero que no dispone de nombres en la cabecera."
   ]
  },
  {
   "cell_type": "code",
   "execution_count": 2,
   "metadata": {},
   "outputs": [
    {
     "data": {
      "text/html": [
       "<div>\n",
       "<style>\n",
       "    .dataframe thead tr:only-child th {\n",
       "        text-align: right;\n",
       "    }\n",
       "\n",
       "    .dataframe thead th {\n",
       "        text-align: left;\n",
       "    }\n",
       "\n",
       "    .dataframe tbody tr th {\n",
       "        vertical-align: top;\n",
       "    }\n",
       "</style>\n",
       "<table border=\"1\" class=\"dataframe\">\n",
       "  <thead>\n",
       "    <tr style=\"text-align: right;\">\n",
       "      <th></th>\n",
       "      <th>13904</th>\n",
       "      <th>20110101</th>\n",
       "      <th>0053</th>\n",
       "      <th>12</th>\n",
       "      <th>OVC045</th>\n",
       "      <th></th>\n",
       "      <th>10.00</th>\n",
       "      <th>.1</th>\n",
       "      <th>.2</th>\n",
       "      <th>.3</th>\n",
       "      <th>...</th>\n",
       "      <th>.18</th>\n",
       "      <th>.19</th>\n",
       "      <th>29.95</th>\n",
       "      <th>.20</th>\n",
       "      <th>AA</th>\n",
       "      <th>.21</th>\n",
       "      <th>.22</th>\n",
       "      <th>.23</th>\n",
       "      <th>29.95.1</th>\n",
       "      <th>.24</th>\n",
       "    </tr>\n",
       "  </thead>\n",
       "  <tbody>\n",
       "    <tr>\n",
       "      <th>0</th>\n",
       "      <td>13904</td>\n",
       "      <td>20110101</td>\n",
       "      <td>153</td>\n",
       "      <td>12</td>\n",
       "      <td>OVC049</td>\n",
       "      <td></td>\n",
       "      <td>10.00</td>\n",
       "      <td></td>\n",
       "      <td></td>\n",
       "      <td></td>\n",
       "      <td>...</td>\n",
       "      <td></td>\n",
       "      <td></td>\n",
       "      <td>30.01</td>\n",
       "      <td></td>\n",
       "      <td>AA</td>\n",
       "      <td></td>\n",
       "      <td></td>\n",
       "      <td></td>\n",
       "      <td>30.02</td>\n",
       "      <td></td>\n",
       "    </tr>\n",
       "    <tr>\n",
       "      <th>1</th>\n",
       "      <td>13904</td>\n",
       "      <td>20110101</td>\n",
       "      <td>253</td>\n",
       "      <td>12</td>\n",
       "      <td>OVC060</td>\n",
       "      <td></td>\n",
       "      <td>10.00</td>\n",
       "      <td></td>\n",
       "      <td></td>\n",
       "      <td></td>\n",
       "      <td>...</td>\n",
       "      <td>030</td>\n",
       "      <td></td>\n",
       "      <td>30.01</td>\n",
       "      <td></td>\n",
       "      <td>AA</td>\n",
       "      <td></td>\n",
       "      <td></td>\n",
       "      <td></td>\n",
       "      <td>30.02</td>\n",
       "      <td></td>\n",
       "    </tr>\n",
       "    <tr>\n",
       "      <th>2</th>\n",
       "      <td>13904</td>\n",
       "      <td>20110101</td>\n",
       "      <td>353</td>\n",
       "      <td>12</td>\n",
       "      <td>OVC065</td>\n",
       "      <td></td>\n",
       "      <td>10.00</td>\n",
       "      <td></td>\n",
       "      <td></td>\n",
       "      <td></td>\n",
       "      <td>...</td>\n",
       "      <td></td>\n",
       "      <td></td>\n",
       "      <td>30.03</td>\n",
       "      <td></td>\n",
       "      <td>AA</td>\n",
       "      <td></td>\n",
       "      <td></td>\n",
       "      <td></td>\n",
       "      <td>30.04</td>\n",
       "      <td></td>\n",
       "    </tr>\n",
       "  </tbody>\n",
       "</table>\n",
       "<p>3 rows × 44 columns</p>\n",
       "</div>"
      ],
      "text/plain": [
       "   13904  20110101  0053  12  OVC045     10.00  .1  .2  .3 ...   .18  .19  \\\n",
       "0  13904  20110101   153  12  OVC049     10.00             ...              \n",
       "1  13904  20110101   253  12  OVC060     10.00             ...   030        \n",
       "2  13904  20110101   353  12  OVC065     10.00             ...              \n",
       "\n",
       "   29.95  .20  AA  .21  .22  .23 29.95.1  .24  \n",
       "0  30.01       AA                  30.02       \n",
       "1  30.01       AA                  30.02       \n",
       "2  30.03       AA                  30.04       \n",
       "\n",
       "[3 rows x 44 columns]"
      ]
     },
     "execution_count": 2,
     "metadata": {},
     "output_type": "execute_result"
    }
   ],
   "source": [
    "#Cargamos los datos\n",
    "df = pd.read_csv('NOAA_QCLCD_2011_hourly_13904.csv')\n",
    "\n",
    "#Vemos la carga \n",
    "df.head(3)"
   ]
  },
  {
   "cell_type": "markdown",
   "metadata": {},
   "source": [
    "En este caso podemos ver como ha considerado la primera fila como cabecera de nuestra función, sin embargo, esto no es correcto. Para evitar esto disponemos del parámetro **header** que asignándole el valor **None** indicamos que nuestro conjunto de datos no dispone de cabecera."
   ]
  },
  {
   "cell_type": "code",
   "execution_count": 3,
   "metadata": {},
   "outputs": [
    {
     "data": {
      "text/html": [
       "<div>\n",
       "<style>\n",
       "    .dataframe thead tr:only-child th {\n",
       "        text-align: right;\n",
       "    }\n",
       "\n",
       "    .dataframe thead th {\n",
       "        text-align: left;\n",
       "    }\n",
       "\n",
       "    .dataframe tbody tr th {\n",
       "        vertical-align: top;\n",
       "    }\n",
       "</style>\n",
       "<table border=\"1\" class=\"dataframe\">\n",
       "  <thead>\n",
       "    <tr style=\"text-align: right;\">\n",
       "      <th></th>\n",
       "      <th>0</th>\n",
       "      <th>1</th>\n",
       "      <th>2</th>\n",
       "      <th>3</th>\n",
       "      <th>4</th>\n",
       "      <th>5</th>\n",
       "      <th>6</th>\n",
       "      <th>7</th>\n",
       "      <th>8</th>\n",
       "      <th>9</th>\n",
       "      <th>...</th>\n",
       "      <th>34</th>\n",
       "      <th>35</th>\n",
       "      <th>36</th>\n",
       "      <th>37</th>\n",
       "      <th>38</th>\n",
       "      <th>39</th>\n",
       "      <th>40</th>\n",
       "      <th>41</th>\n",
       "      <th>42</th>\n",
       "      <th>43</th>\n",
       "    </tr>\n",
       "  </thead>\n",
       "  <tbody>\n",
       "    <tr>\n",
       "      <th>0</th>\n",
       "      <td>13904</td>\n",
       "      <td>20110101</td>\n",
       "      <td>53</td>\n",
       "      <td>12</td>\n",
       "      <td>OVC045</td>\n",
       "      <td></td>\n",
       "      <td>10.00</td>\n",
       "      <td></td>\n",
       "      <td></td>\n",
       "      <td></td>\n",
       "      <td>...</td>\n",
       "      <td></td>\n",
       "      <td></td>\n",
       "      <td>29.95</td>\n",
       "      <td></td>\n",
       "      <td>AA</td>\n",
       "      <td></td>\n",
       "      <td></td>\n",
       "      <td></td>\n",
       "      <td>29.95</td>\n",
       "      <td></td>\n",
       "    </tr>\n",
       "    <tr>\n",
       "      <th>1</th>\n",
       "      <td>13904</td>\n",
       "      <td>20110101</td>\n",
       "      <td>153</td>\n",
       "      <td>12</td>\n",
       "      <td>OVC049</td>\n",
       "      <td></td>\n",
       "      <td>10.00</td>\n",
       "      <td></td>\n",
       "      <td></td>\n",
       "      <td></td>\n",
       "      <td>...</td>\n",
       "      <td></td>\n",
       "      <td></td>\n",
       "      <td>30.01</td>\n",
       "      <td></td>\n",
       "      <td>AA</td>\n",
       "      <td></td>\n",
       "      <td></td>\n",
       "      <td></td>\n",
       "      <td>30.02</td>\n",
       "      <td></td>\n",
       "    </tr>\n",
       "    <tr>\n",
       "      <th>2</th>\n",
       "      <td>13904</td>\n",
       "      <td>20110101</td>\n",
       "      <td>253</td>\n",
       "      <td>12</td>\n",
       "      <td>OVC060</td>\n",
       "      <td></td>\n",
       "      <td>10.00</td>\n",
       "      <td></td>\n",
       "      <td></td>\n",
       "      <td></td>\n",
       "      <td>...</td>\n",
       "      <td>030</td>\n",
       "      <td></td>\n",
       "      <td>30.01</td>\n",
       "      <td></td>\n",
       "      <td>AA</td>\n",
       "      <td></td>\n",
       "      <td></td>\n",
       "      <td></td>\n",
       "      <td>30.02</td>\n",
       "      <td></td>\n",
       "    </tr>\n",
       "  </tbody>\n",
       "</table>\n",
       "<p>3 rows × 44 columns</p>\n",
       "</div>"
      ],
      "text/plain": [
       "      0         1    2   3       4  5      6  7  8  9  ...   34 35     36 37  \\\n",
       "0  13904  20110101   53  12  OVC045     10.00          ...          29.95      \n",
       "1  13904  20110101  153  12  OVC049     10.00          ...          30.01      \n",
       "2  13904  20110101  253  12  OVC060     10.00          ...  030     30.01      \n",
       "\n",
       "   38 39 40 41     42 43  \n",
       "0  AA           29.95     \n",
       "1  AA           30.02     \n",
       "2  AA           30.02     \n",
       "\n",
       "[3 rows x 44 columns]"
      ]
     },
     "execution_count": 3,
     "metadata": {},
     "output_type": "execute_result"
    }
   ],
   "source": [
    "#Cargamos los datos de forma adecuada\n",
    "df = pd.read_csv('NOAA_QCLCD_2011_hourly_13904.csv', header = None)\n",
    "\n",
    "#Vemos la carga\n",
    "df.head(3)"
   ]
  },
  {
   "cell_type": "markdown",
   "metadata": {},
   "source": [
    "Ahora la carga parece es más correcta, en caso de no existir cabecera, podemos ver que Pandas automáticamente asinga valores enteros desde 0 hasta el número de columnas."
   ]
  },
  {
   "cell_type": "markdown",
   "metadata": {},
   "source": [
    "# Re-assigning column names"
   ]
  },
  {
   "cell_type": "markdown",
   "metadata": {},
   "source": [
    "Una vez tenemos los datos cargados de forma adecuada, el siguiente paso es limpiar estos datos para poder trabajar con estos de una forma adecuada. El primer paso consistirá en asignarle cabecera a estos datos."
   ]
  },
  {
   "cell_type": "code",
   "execution_count": 8,
   "metadata": {},
   "outputs": [
    {
     "data": {
      "text/html": [
       "<div>\n",
       "<style>\n",
       "    .dataframe thead tr:only-child th {\n",
       "        text-align: right;\n",
       "    }\n",
       "\n",
       "    .dataframe thead th {\n",
       "        text-align: left;\n",
       "    }\n",
       "\n",
       "    .dataframe tbody tr th {\n",
       "        vertical-align: top;\n",
       "    }\n",
       "</style>\n",
       "<table border=\"1\" class=\"dataframe\">\n",
       "  <thead>\n",
       "    <tr style=\"text-align: right;\">\n",
       "      <th></th>\n",
       "      <th>Wban</th>\n",
       "      <th>date</th>\n",
       "      <th>Time</th>\n",
       "      <th>StationType</th>\n",
       "      <th>sky_condition</th>\n",
       "      <th>sky_conditionFlag</th>\n",
       "      <th>visibility</th>\n",
       "      <th>visibilityFlag</th>\n",
       "      <th>wx_and_obst_to_vision</th>\n",
       "      <th>wx_and_obst_to_visionFlag</th>\n",
       "      <th>...</th>\n",
       "      <th>presschange</th>\n",
       "      <th>presschangeFlag</th>\n",
       "      <th>sea_level_pressure</th>\n",
       "      <th>sea_level_pressureFlag</th>\n",
       "      <th>record_type</th>\n",
       "      <th>hourly_precip</th>\n",
       "      <th>hourly_precipFlag</th>\n",
       "      <th>altimeter</th>\n",
       "      <th>altimeterFlag</th>\n",
       "      <th>junk</th>\n",
       "    </tr>\n",
       "  </thead>\n",
       "  <tbody>\n",
       "    <tr>\n",
       "      <th>0</th>\n",
       "      <td>13904</td>\n",
       "      <td>20110101</td>\n",
       "      <td>53</td>\n",
       "      <td>12</td>\n",
       "      <td>OVC045</td>\n",
       "      <td></td>\n",
       "      <td>10.00</td>\n",
       "      <td></td>\n",
       "      <td></td>\n",
       "      <td></td>\n",
       "      <td>...</td>\n",
       "      <td></td>\n",
       "      <td></td>\n",
       "      <td>29.95</td>\n",
       "      <td></td>\n",
       "      <td>AA</td>\n",
       "      <td></td>\n",
       "      <td></td>\n",
       "      <td></td>\n",
       "      <td>29.95</td>\n",
       "      <td></td>\n",
       "    </tr>\n",
       "    <tr>\n",
       "      <th>1</th>\n",
       "      <td>13904</td>\n",
       "      <td>20110101</td>\n",
       "      <td>153</td>\n",
       "      <td>12</td>\n",
       "      <td>OVC049</td>\n",
       "      <td></td>\n",
       "      <td>10.00</td>\n",
       "      <td></td>\n",
       "      <td></td>\n",
       "      <td></td>\n",
       "      <td>...</td>\n",
       "      <td></td>\n",
       "      <td></td>\n",
       "      <td>30.01</td>\n",
       "      <td></td>\n",
       "      <td>AA</td>\n",
       "      <td></td>\n",
       "      <td></td>\n",
       "      <td></td>\n",
       "      <td>30.02</td>\n",
       "      <td></td>\n",
       "    </tr>\n",
       "    <tr>\n",
       "      <th>2</th>\n",
       "      <td>13904</td>\n",
       "      <td>20110101</td>\n",
       "      <td>253</td>\n",
       "      <td>12</td>\n",
       "      <td>OVC060</td>\n",
       "      <td></td>\n",
       "      <td>10.00</td>\n",
       "      <td></td>\n",
       "      <td></td>\n",
       "      <td></td>\n",
       "      <td>...</td>\n",
       "      <td>030</td>\n",
       "      <td></td>\n",
       "      <td>30.01</td>\n",
       "      <td></td>\n",
       "      <td>AA</td>\n",
       "      <td></td>\n",
       "      <td></td>\n",
       "      <td></td>\n",
       "      <td>30.02</td>\n",
       "      <td></td>\n",
       "    </tr>\n",
       "  </tbody>\n",
       "</table>\n",
       "<p>3 rows × 44 columns</p>\n",
       "</div>"
      ],
      "text/plain": [
       "    Wban      date  Time  StationType sky_condition sky_conditionFlag  \\\n",
       "0  13904  20110101    53           12        OVC045                     \n",
       "1  13904  20110101   153           12        OVC049                     \n",
       "2  13904  20110101   253           12        OVC060                     \n",
       "\n",
       "  visibility visibilityFlag wx_and_obst_to_vision wx_and_obst_to_visionFlag  \\\n",
       "0      10.00                                                                  \n",
       "1      10.00                                                                  \n",
       "2      10.00                                                                  \n",
       "\n",
       "  ...  presschange presschangeFlag sea_level_pressure sea_level_pressureFlag  \\\n",
       "0 ...                                           29.95                          \n",
       "1 ...                                           30.01                          \n",
       "2 ...          030                              30.01                          \n",
       "\n",
       "  record_type hourly_precip hourly_precipFlag altimeter altimeterFlag junk  \n",
       "0          AA                                                   29.95       \n",
       "1          AA                                                   30.02       \n",
       "2          AA                                                   30.02       \n",
       "\n",
       "[3 rows x 44 columns]"
      ]
     },
     "execution_count": 8,
     "metadata": {},
     "output_type": "execute_result"
    }
   ],
   "source": [
    "#Cargamos la cabecera de nuestros datos\n",
    "columns_labels = 'Wban,date,Time,StationType,sky_condition,sky_conditionFlag,visibility,visibilityFlag,wx_and_obst_to_vision,wx_and_obst_to_visionFlag,dry_bulb_faren,dry_bulb_farenFlag,dry_bulb_cel,dry_bulb_celFlag,wet_bulb_faren,wet_bulb_farenFlag,wet_bulb_cel,wet_bulb_celFlag,dew_point_faren,dew_point_farenFlag,dew_point_cel,dew_point_celFlag,relative_humidity,relative_humidityFlag,wind_speed,wind_speedFlag,wind_direction,wind_directionFlag,value_for_wind_character,value_for_wind_characterFlag,station_pressure,station_pressureFlag,pressure_tendency,pressure_tendencyFlag,presschange,presschangeFlag,sea_level_pressure,sea_level_pressureFlag,record_type,hourly_precip,hourly_precipFlag,altimeter,altimeterFlag,junk'\n",
    "\n",
    "#Hacemos uso de split para crearnos una lista con los nombres de las cabeceras\n",
    "columns_labels_list = columns_labels.split(',')\n",
    "\n",
    "#Asignamos los nombres a la cabecera\n",
    "df.columns = columns_labels_list\n",
    "\n",
    "#Vemos el resultado\n",
    "df.head(3)"
   ]
  },
  {
   "cell_type": "markdown",
   "metadata": {},
   "source": [
    "A continuación vamos a proceder a eliminar una serie de columnas que no son serán útiles a la hora de trabajar con los datos."
   ]
  },
  {
   "cell_type": "code",
   "execution_count": 9,
   "metadata": {},
   "outputs": [
    {
     "data": {
      "text/html": [
       "<div>\n",
       "<style>\n",
       "    .dataframe thead tr:only-child th {\n",
       "        text-align: right;\n",
       "    }\n",
       "\n",
       "    .dataframe thead th {\n",
       "        text-align: left;\n",
       "    }\n",
       "\n",
       "    .dataframe tbody tr th {\n",
       "        vertical-align: top;\n",
       "    }\n",
       "</style>\n",
       "<table border=\"1\" class=\"dataframe\">\n",
       "  <thead>\n",
       "    <tr style=\"text-align: right;\">\n",
       "      <th></th>\n",
       "      <th>Wban</th>\n",
       "      <th>date</th>\n",
       "      <th>Time</th>\n",
       "      <th>StationType</th>\n",
       "      <th>sky_condition</th>\n",
       "      <th>visibility</th>\n",
       "      <th>dry_bulb_faren</th>\n",
       "      <th>dry_bulb_cel</th>\n",
       "      <th>wet_bulb_faren</th>\n",
       "      <th>wet_bulb_cel</th>\n",
       "      <th>dew_point_faren</th>\n",
       "      <th>dew_point_cel</th>\n",
       "      <th>relative_humidity</th>\n",
       "      <th>wind_speed</th>\n",
       "      <th>wind_direction</th>\n",
       "      <th>station_pressure</th>\n",
       "      <th>sea_level_pressure</th>\n",
       "    </tr>\n",
       "  </thead>\n",
       "  <tbody>\n",
       "    <tr>\n",
       "      <th>0</th>\n",
       "      <td>13904</td>\n",
       "      <td>20110101</td>\n",
       "      <td>53</td>\n",
       "      <td>12</td>\n",
       "      <td>OVC045</td>\n",
       "      <td>10.00</td>\n",
       "      <td>51</td>\n",
       "      <td>10.6</td>\n",
       "      <td>38</td>\n",
       "      <td>3.1</td>\n",
       "      <td>15</td>\n",
       "      <td>-9.4</td>\n",
       "      <td>24</td>\n",
       "      <td>15</td>\n",
       "      <td>360</td>\n",
       "      <td>29.42</td>\n",
       "      <td>29.95</td>\n",
       "    </tr>\n",
       "    <tr>\n",
       "      <th>1</th>\n",
       "      <td>13904</td>\n",
       "      <td>20110101</td>\n",
       "      <td>153</td>\n",
       "      <td>12</td>\n",
       "      <td>OVC049</td>\n",
       "      <td>10.00</td>\n",
       "      <td>51</td>\n",
       "      <td>10.6</td>\n",
       "      <td>37</td>\n",
       "      <td>3.0</td>\n",
       "      <td>14</td>\n",
       "      <td>-10.0</td>\n",
       "      <td>23</td>\n",
       "      <td>10</td>\n",
       "      <td>340</td>\n",
       "      <td>29.49</td>\n",
       "      <td>30.01</td>\n",
       "    </tr>\n",
       "    <tr>\n",
       "      <th>2</th>\n",
       "      <td>13904</td>\n",
       "      <td>20110101</td>\n",
       "      <td>253</td>\n",
       "      <td>12</td>\n",
       "      <td>OVC060</td>\n",
       "      <td>10.00</td>\n",
       "      <td>51</td>\n",
       "      <td>10.6</td>\n",
       "      <td>37</td>\n",
       "      <td>2.9</td>\n",
       "      <td>13</td>\n",
       "      <td>-10.6</td>\n",
       "      <td>22</td>\n",
       "      <td>15</td>\n",
       "      <td>010</td>\n",
       "      <td>29.49</td>\n",
       "      <td>30.01</td>\n",
       "    </tr>\n",
       "  </tbody>\n",
       "</table>\n",
       "</div>"
      ],
      "text/plain": [
       "    Wban      date  Time  StationType sky_condition visibility dry_bulb_faren  \\\n",
       "0  13904  20110101    53           12        OVC045      10.00             51   \n",
       "1  13904  20110101   153           12        OVC049      10.00             51   \n",
       "2  13904  20110101   253           12        OVC060      10.00             51   \n",
       "\n",
       "  dry_bulb_cel wet_bulb_faren wet_bulb_cel dew_point_faren dew_point_cel  \\\n",
       "0         10.6             38          3.1              15          -9.4   \n",
       "1         10.6             37          3.0              14         -10.0   \n",
       "2         10.6             37          2.9              13         -10.6   \n",
       "\n",
       "  relative_humidity wind_speed wind_direction station_pressure  \\\n",
       "0                24         15            360            29.42   \n",
       "1                23         10            340            29.49   \n",
       "2                22         15            010            29.49   \n",
       "\n",
       "  sea_level_pressure  \n",
       "0              29.95  \n",
       "1              30.01  \n",
       "2              30.01  "
      ]
     },
     "execution_count": 9,
     "metadata": {},
     "output_type": "execute_result"
    }
   ],
   "source": [
    "#Nos creamos con la lista de las columnas a eliminar\n",
    "columns_drop = ['sky_conditionFlag', 'visibilityFlag', 'wx_and_obst_to_vision', 'wx_and_obst_to_visionFlag',\n",
    "                'dry_bulb_farenFlag', 'dry_bulb_celFlag', 'wet_bulb_farenFlag', 'wet_bulb_celFlag',\n",
    "                'dew_point_farenFlag', 'dew_point_celFlag', 'relative_humidityFlag', 'wind_speedFlag',\n",
    "                'wind_directionFlag', 'value_for_wind_character', 'value_for_wind_characterFlag',\n",
    "                'station_pressureFlag', 'pressure_tendencyFlag', 'pressure_tendency', 'presschange',\n",
    "                'presschangeFlag', 'sea_level_pressureFlag', 'hourly_precip', 'hourly_precipFlag', 'altimeter',\n",
    "                'record_type', 'altimeterFlag', 'junk']\n",
    "\n",
    "#Eliminamos las columnas\n",
    "df = df.drop(columns_drop, axis = 1)\n",
    "\n",
    "#Vemos el resultado \n",
    "df.head(3)"
   ]
  },
  {
   "cell_type": "markdown",
   "metadata": {},
   "source": [
    "# Cleaning and tidying datetime data"
   ]
  },
  {
   "cell_type": "markdown",
   "metadata": {},
   "source": [
    "A continuación vamos a proceder a crearnos nuestro propio índice de series temporales."
   ]
  },
  {
   "cell_type": "code",
   "execution_count": 16,
   "metadata": {},
   "outputs": [
    {
     "data": {
      "text/html": [
       "<div>\n",
       "<style>\n",
       "    .dataframe thead tr:only-child th {\n",
       "        text-align: right;\n",
       "    }\n",
       "\n",
       "    .dataframe thead th {\n",
       "        text-align: left;\n",
       "    }\n",
       "\n",
       "    .dataframe tbody tr th {\n",
       "        vertical-align: top;\n",
       "    }\n",
       "</style>\n",
       "<table border=\"1\" class=\"dataframe\">\n",
       "  <thead>\n",
       "    <tr style=\"text-align: right;\">\n",
       "      <th></th>\n",
       "      <th>Wban</th>\n",
       "      <th>date</th>\n",
       "      <th>Time</th>\n",
       "      <th>StationType</th>\n",
       "      <th>sky_condition</th>\n",
       "      <th>visibility</th>\n",
       "      <th>dry_bulb_faren</th>\n",
       "      <th>dry_bulb_cel</th>\n",
       "      <th>wet_bulb_faren</th>\n",
       "      <th>wet_bulb_cel</th>\n",
       "      <th>dew_point_faren</th>\n",
       "      <th>dew_point_cel</th>\n",
       "      <th>relative_humidity</th>\n",
       "      <th>wind_speed</th>\n",
       "      <th>wind_direction</th>\n",
       "      <th>station_pressure</th>\n",
       "      <th>sea_level_pressure</th>\n",
       "    </tr>\n",
       "  </thead>\n",
       "  <tbody>\n",
       "    <tr>\n",
       "      <th>2011-01-01 00:53:00</th>\n",
       "      <td>13904</td>\n",
       "      <td>20110101</td>\n",
       "      <td>0053</td>\n",
       "      <td>12</td>\n",
       "      <td>OVC045</td>\n",
       "      <td>10.00</td>\n",
       "      <td>51</td>\n",
       "      <td>10.6</td>\n",
       "      <td>38</td>\n",
       "      <td>3.1</td>\n",
       "      <td>15</td>\n",
       "      <td>-9.4</td>\n",
       "      <td>24</td>\n",
       "      <td>15</td>\n",
       "      <td>360</td>\n",
       "      <td>29.42</td>\n",
       "      <td>29.95</td>\n",
       "    </tr>\n",
       "    <tr>\n",
       "      <th>2011-01-01 01:53:00</th>\n",
       "      <td>13904</td>\n",
       "      <td>20110101</td>\n",
       "      <td>0153</td>\n",
       "      <td>12</td>\n",
       "      <td>OVC049</td>\n",
       "      <td>10.00</td>\n",
       "      <td>51</td>\n",
       "      <td>10.6</td>\n",
       "      <td>37</td>\n",
       "      <td>3.0</td>\n",
       "      <td>14</td>\n",
       "      <td>-10.0</td>\n",
       "      <td>23</td>\n",
       "      <td>10</td>\n",
       "      <td>340</td>\n",
       "      <td>29.49</td>\n",
       "      <td>30.01</td>\n",
       "    </tr>\n",
       "    <tr>\n",
       "      <th>2011-01-01 02:53:00</th>\n",
       "      <td>13904</td>\n",
       "      <td>20110101</td>\n",
       "      <td>0253</td>\n",
       "      <td>12</td>\n",
       "      <td>OVC060</td>\n",
       "      <td>10.00</td>\n",
       "      <td>51</td>\n",
       "      <td>10.6</td>\n",
       "      <td>37</td>\n",
       "      <td>2.9</td>\n",
       "      <td>13</td>\n",
       "      <td>-10.6</td>\n",
       "      <td>22</td>\n",
       "      <td>15</td>\n",
       "      <td>010</td>\n",
       "      <td>29.49</td>\n",
       "      <td>30.01</td>\n",
       "    </tr>\n",
       "  </tbody>\n",
       "</table>\n",
       "</div>"
      ],
      "text/plain": [
       "                      Wban      date  Time  StationType sky_condition  \\\n",
       "2011-01-01 00:53:00  13904  20110101  0053           12        OVC045   \n",
       "2011-01-01 01:53:00  13904  20110101  0153           12        OVC049   \n",
       "2011-01-01 02:53:00  13904  20110101  0253           12        OVC060   \n",
       "\n",
       "                    visibility dry_bulb_faren dry_bulb_cel wet_bulb_faren  \\\n",
       "2011-01-01 00:53:00      10.00             51         10.6             38   \n",
       "2011-01-01 01:53:00      10.00             51         10.6             37   \n",
       "2011-01-01 02:53:00      10.00             51         10.6             37   \n",
       "\n",
       "                    wet_bulb_cel dew_point_faren dew_point_cel  \\\n",
       "2011-01-01 00:53:00          3.1              15          -9.4   \n",
       "2011-01-01 01:53:00          3.0              14         -10.0   \n",
       "2011-01-01 02:53:00          2.9              13         -10.6   \n",
       "\n",
       "                    relative_humidity wind_speed wind_direction  \\\n",
       "2011-01-01 00:53:00                24         15            360   \n",
       "2011-01-01 01:53:00                23         10            340   \n",
       "2011-01-01 02:53:00                22         15            010   \n",
       "\n",
       "                    station_pressure sea_level_pressure  \n",
       "2011-01-01 00:53:00            29.42              29.95  \n",
       "2011-01-01 01:53:00            29.49              30.01  \n",
       "2011-01-01 02:53:00            29.49              30.01  "
      ]
     },
     "execution_count": 16,
     "metadata": {},
     "output_type": "execute_result"
    }
   ],
   "source": [
    "#Pasamos a tipo string la columnas data\n",
    "df['date'] = df.date.astype('str')\n",
    "\n",
    "#Rellenamos con ceros a la izquierda la columna Time\n",
    "df['Time'] = df.Time.apply(lambda x: '{:0>4}'.format(x))\n",
    "\n",
    "#Concatenamos las columnas date y Time\n",
    "date_string = df.date + df.Time\n",
    "\n",
    "#Convertimos nuestra serie date_string a tipo fecha\n",
    "date_times = pd.to_datetime(date_string, format = '%Y%m%d%H%M')\n",
    "\n",
    "#Ahora cambiamos el indexado de nuestro conjunto de datos\n",
    "df = df.set_index(date_times)\n",
    "\n",
    "#Vemos el resultado\n",
    "df.head(3)"
   ]
  },
  {
   "cell_type": "markdown",
   "metadata": {},
   "source": [
    "# Cleaning the numeric columns"
   ]
  },
  {
   "cell_type": "markdown",
   "metadata": {},
   "source": [
    "Las columnas numéricas contienen valores como 'M', indicando esto que debería ser un valor perdido, a continuación vamos a proceder a cambiar estos valores por por valores perdidos. La función pd.to_numeric() de Pandas es ideal para este propósito. Esta función convierte una serie de valores a valores de tipo punto flotante. Además especificando el parámetro **errors = 'coerce'** forzaremos a que strings del estilo 'M' sean transformados a NaN."
   ]
  },
  {
   "cell_type": "code",
   "execution_count": 18,
   "metadata": {},
   "outputs": [
    {
     "data": {
      "text/plain": [
       "2011-06-20 08:27:00     M\n",
       "2011-06-20 08:28:00     M\n",
       "2011-06-20 08:29:00     M\n",
       "2011-06-20 08:30:00     M\n",
       "2011-06-20 08:31:00     M\n",
       "2011-06-20 08:32:00     M\n",
       "2011-06-20 08:33:00     M\n",
       "2011-06-20 08:34:00     M\n",
       "2011-06-20 08:35:00     M\n",
       "2011-06-20 08:53:00    83\n",
       "Name: dry_bulb_faren, dtype: object"
      ]
     },
     "execution_count": 18,
     "metadata": {},
     "output_type": "execute_result"
    }
   ],
   "source": [
    "#Mostramos la temperatua dry_bulb_faren entre las 8AM-9AM para el 20 de junio de 2011\n",
    "df.loc['2011-06-20 08:00:00': '2011-06-20 09:00:00', 'dry_bulb_faren']"
   ]
  },
  {
   "cell_type": "markdown",
   "metadata": {},
   "source": [
    "Aquí podemos ver como tenemos valores con valor M, esto nos indica que se trata de un valor perdido"
   ]
  },
  {
   "cell_type": "code",
   "execution_count": 20,
   "metadata": {},
   "outputs": [
    {
     "data": {
      "text/plain": [
       "2011-06-20 08:27:00     NaN\n",
       "2011-06-20 08:28:00     NaN\n",
       "2011-06-20 08:29:00     NaN\n",
       "2011-06-20 08:30:00     NaN\n",
       "2011-06-20 08:31:00     NaN\n",
       "2011-06-20 08:32:00     NaN\n",
       "2011-06-20 08:33:00     NaN\n",
       "2011-06-20 08:34:00     NaN\n",
       "2011-06-20 08:35:00     NaN\n",
       "2011-06-20 08:53:00    83.0\n",
       "Name: dry_bulb_faren, dtype: float64"
      ]
     },
     "execution_count": 20,
     "metadata": {},
     "output_type": "execute_result"
    }
   ],
   "source": [
    "#Aplicamos pd.to_numeric\n",
    "df['dry_bulb_faren'] = pd.to_numeric(df['dry_bulb_faren'], errors='coerce')\n",
    "\n",
    "#Comprobamos el resultado\n",
    "df.loc['2011-06-20 08:00:00': '2011-06-20 09:00:00', 'dry_bulb_faren']"
   ]
  },
  {
   "cell_type": "code",
   "execution_count": 23,
   "metadata": {},
   "outputs": [],
   "source": [
    "#Hacemos lo mismo para wind_speed y dew_point_faren\n",
    "df['wind_speed'] = pd.to_numeric(df['wind_speed'], errors = 'coerce')\n",
    "df['dew_point_faren'] = pd.to_numeric(df['dew_point_faren'], errors = 'coerce')"
   ]
  },
  {
   "cell_type": "markdown",
   "metadata": {},
   "source": [
    "# Signal min, max, median"
   ]
  },
  {
   "cell_type": "markdown",
   "metadata": {},
   "source": [
    "A continuación vamos a proceder a realizar una análisis exploratorio de nuestro conjunto de datos."
   ]
  },
  {
   "cell_type": "code",
   "execution_count": 26,
   "metadata": {},
   "outputs": [
    {
     "name": "stdout",
     "output_type": "stream",
     "text": [
      "72.0\n"
     ]
    }
   ],
   "source": [
    "#Calculamos la mediana de la columna dry_bulb_faren\n",
    "print(df['dry_bulb_faren'].median())"
   ]
  },
  {
   "cell_type": "code",
   "execution_count": 29,
   "metadata": {},
   "outputs": [
    {
     "name": "stdout",
     "output_type": "stream",
     "text": [
      "78.0\n"
     ]
    }
   ],
   "source": [
    "#Calculamos la mediana para las fechas que se encuentran entre abril y junio de 2011\n",
    "print(df.loc['2011-Apr':'2011-Jun', 'dry_bulb_faren'].median())"
   ]
  },
  {
   "cell_type": "code",
   "execution_count": 30,
   "metadata": {},
   "outputs": [
    {
     "name": "stdout",
     "output_type": "stream",
     "text": [
      "48.0\n"
     ]
    }
   ],
   "source": [
    "#Calculamos la mediana para el mes de enero\n",
    "print(df.loc['2011-01', 'dry_bulb_faren'].median())"
   ]
  },
  {
   "cell_type": "markdown",
   "metadata": {},
   "source": [
    "# Signal variance"
   ]
  },
  {
   "cell_type": "markdown",
   "metadata": {},
   "source": [
    "A continuación vamos a proceder a comparar los datos del año 2011 con los de los últimos 30 años."
   ]
  },
  {
   "cell_type": "code",
   "execution_count": 48,
   "metadata": {
    "collapsed": true
   },
   "outputs": [],
   "source": [
    "#Cargamos los datos para el año 2010\n",
    "df_2010 = pd.read_csv('weather_data_austin_2010.csv', parse_dates=['Date'], index_col='Date')"
   ]
  },
  {
   "cell_type": "code",
   "execution_count": 49,
   "metadata": {},
   "outputs": [],
   "source": [
    "#Calculamos el promedio de temperatura por día para el año 2011\n",
    "df_2011_daily = df.resample('D').mean()\n",
    "\n",
    "#Obtenemos los valores\n",
    "df_2011_daily_values = df_2011_daily['dry_bulb_faren'].values"
   ]
  },
  {
   "cell_type": "code",
   "execution_count": 50,
   "metadata": {
    "collapsed": true
   },
   "outputs": [],
   "source": [
    "#Calculamos el promedio de temperatura por día para el 2010\n",
    "df_2010_daily = df_2010.resample('D').mean()\n",
    "\n",
    "#Seleccionamos la column Temperature\n",
    "df_2010_daily_temperature = df_2010_daily.reset_index()['Temperature']"
   ]
  },
  {
   "cell_type": "code",
   "execution_count": 53,
   "metadata": {},
   "outputs": [
    {
     "name": "stdout",
     "output_type": "stream",
     "text": [
      "1.3301831870056482\n"
     ]
    }
   ],
   "source": [
    "#Vemos las diferencias\n",
    "print((df_2011_daily_values - df_2010_daily_temperature).mean())"
   ]
  },
  {
   "cell_type": "markdown",
   "metadata": {},
   "source": [
    "Podemos ver como la temperatura en promedio ha aumentado un 1.3 grados Farenheit respecto a los últimos 30 años."
   ]
  },
  {
   "cell_type": "markdown",
   "metadata": {},
   "source": [
    "# Sunny or cloudy"
   ]
  },
  {
   "cell_type": "markdown",
   "metadata": {},
   "source": [
    "A continuación vamos a comparar la temperatura en los días soleados y en los días nublados. "
   ]
  },
  {
   "cell_type": "code",
   "execution_count": 55,
   "metadata": {
    "collapsed": true
   },
   "outputs": [],
   "source": [
    "#Seleccionamos los días soleados\n",
    "sunny_days = df.loc[df['sky_condition'] == 'CLR']\n",
    "\n",
    "#Seleccionamos los días nublados\n",
    "cloudy_days = df.loc[df['sky_condition'].str.contains('OVC')]"
   ]
  },
  {
   "cell_type": "code",
   "execution_count": 56,
   "metadata": {
    "collapsed": true
   },
   "outputs": [],
   "source": [
    "#Calculamos el máximo diario para cada tipo de día\n",
    "sunny_days_daily = sunny_days.resample('D').max()\n",
    "cloudy_days_daily = cloudy_days.resample('D').max()"
   ]
  },
  {
   "cell_type": "code",
   "execution_count": 57,
   "metadata": {},
   "outputs": [
    {
     "name": "stdout",
     "output_type": "stream",
     "text": [
      "Wban               0.000000\n",
      "StationType        0.000000\n",
      "dry_bulb_faren     6.504304\n",
      "dew_point_faren   -4.339286\n",
      "wind_speed        -3.246062\n",
      "dtype: float64\n"
     ]
    }
   ],
   "source": [
    "#Vemos las diferencias\n",
    "print(sunny_days_daily.mean() - cloudy_days_daily.mean())"
   ]
  },
  {
   "cell_type": "markdown",
   "metadata": {},
   "source": [
    "# Weekly average temperature and visibility"
   ]
  },
  {
   "cell_type": "markdown",
   "metadata": {},
   "source": [
    "¿Existe alguna correlación entre la temperatura y la visibilidad? A continuación vamos a proceder a responder a esta pregunta."
   ]
  },
  {
   "cell_type": "code",
   "execution_count": 81,
   "metadata": {},
   "outputs": [
    {
     "name": "stdout",
     "output_type": "stream",
     "text": [
      "                visibility  dry_bulb_faren\n",
      "visibility        1.000000        0.490328\n",
      "dry_bulb_faren    0.490328        1.000000\n"
     ]
    }
   ],
   "source": [
    "#Cambiamos a tipo numérico la columna visibility\n",
    "df['visibility'] = pd.to_numeric(df['visibility'], errors = 'coerce')\n",
    "\n",
    "#Seleccionamos la temperatura y la visibilidad y le hacemos una agregación por la media de forma semanal\n",
    "weekly_mean = df[['visibility', 'dry_bulb_faren']].resample('W').mean()\n",
    "\n",
    "#Vemos si existe algún tipo de correlación\n",
    "print(weekly_mean.corr())"
   ]
  },
  {
   "cell_type": "code",
   "execution_count": 82,
   "metadata": {},
   "outputs": [
    {
     "data": {
      "image/png": "[encoded data removed]",
      "text/plain": [
       "<matplotlib.figure.Figure at 0x7f1167195fd0>"
      ]
     },
     "metadata": {},
     "output_type": "display_data"
    }
   ],
   "source": [
    "#Mostramos los reslutados\n",
    "weekly_mean.plot(subplots=True)\n",
    "plt.show()"
   ]
  },
  {
   "cell_type": "markdown",
   "metadata": {},
   "source": [
    "# Daily hours of clear sky"
   ]
  },
  {
   "cell_type": "markdown",
   "metadata": {},
   "source": [
    "A continuación vamos a proceder a ver mediante un boxplot, la proporción de días que son soleados."
   ]
  },
  {
   "cell_type": "code",
   "execution_count": 85,
   "metadata": {
    "collapsed": true
   },
   "outputs": [],
   "source": [
    "#Nos creamos una serie de tipo booleana para indicar los días soleados\n",
    "sunny = df['sky_condition'] == 'CLR'\n",
    "\n",
    "#Calculamos el número de horas soleadas\n",
    "sunny_hours = sunny.resample('D').sum()\n",
    "\n",
    "#Calculamos el total de horas\n",
    "total_hours = sunny.resample('D').count()"
   ]
  },
  {
   "cell_type": "code",
   "execution_count": 90,
   "metadata": {},
   "outputs": [],
   "source": [
    "#Nos calculamos para cada día la fracción de horas soleadas\n",
    "sunny_fraction = sunny_hours / total_hours"
   ]
  },
  {
   "cell_type": "code",
   "execution_count": 92,
   "metadata": {},
   "outputs": [
    {
     "data": {
      "image/png": "[encoded data removed]",
      "text/plain": [
       "<matplotlib.figure.Figure at 0x7f1169b2a748>"
      ]
     },
     "metadata": {},
     "output_type": "display_data"
    }
   ],
   "source": [
    "#Generamos nuestro boxplot\n",
    "sunny_fraction.plot(kind = 'box')\n",
    "plt.show()"
   ]
  },
  {
   "cell_type": "markdown",
   "metadata": {},
   "source": [
    "# Heat or humidity"
   ]
  },
  {
   "cell_type": "markdown",
   "metadata": {},
   "source": [
    "**Dew Point** es una medida de la humedad basada en la presión y la temperatura. Un valor por encima de 65 se considera incómodo mientras que una temperatura por encima de 90 también se considera incómoda. A continuación vamos a calcular el máximo valor de temperatura y dew point para cada uno de los meses."
   ]
  },
  {
   "cell_type": "code",
   "execution_count": 96,
   "metadata": {},
   "outputs": [
    {
     "data": {
      "image/png": "[encoded data removed]",
      "text/plain": [
       "<matplotlib.figure.Figure at 0x7f11698102b0>"
      ]
     },
     "metadata": {},
     "output_type": "display_data"
    }
   ],
   "source": [
    "#Calculamos el máximo de ambas\n",
    "max_values = df[['dew_point_faren','dry_bulb_faren']].resample('M').max()\n",
    "\n",
    "#Vemos los resultados en un histograma\n",
    "max_values.plot(kind = 'hist', bins = 8, alpha = 0.5, subplots = True)\n",
    "plt.show()"
   ]
  },
  {
   "cell_type": "markdown",
   "metadata": {},
   "source": [
    "# Probability of high temperatures"
   ]
  },
  {
   "cell_type": "markdown",
   "metadata": {},
   "source": [
    "Ya sabemos que el año 2011 fue el año más caluroso de los últimos 30 años. A continuación vamos a comparar la temperatura para los meses de agosto en 2010 y 2011. Haremos uso de la CDF para determinar la probabilidad de que la temperatura diaria en el mes de agosto en 2011 sea superior a 2010. "
   ]
  },
  {
   "cell_type": "code",
   "execution_count": 102,
   "metadata": {},
   "outputs": [
    {
     "name": "stdout",
     "output_type": "stream",
     "text": [
      "95.3\n"
     ]
    }
   ],
   "source": [
    "#Obtenemos la temperatura máxima de agosto en 2010\n",
    "max_august_2010 = df_2010.loc['2010-08', 'Temperature'].max()\n",
    "print(max_august)"
   ]
  },
  {
   "cell_type": "code",
   "execution_count": 103,
   "metadata": {},
   "outputs": [
    {
     "name": "stdout",
     "output_type": "stream",
     "text": [
      "2011-08-01    103.0\n",
      "2011-08-02    103.0\n",
      "2011-08-03    103.0\n",
      "2011-08-04    104.0\n",
      "2011-08-05    103.0\n",
      "2011-08-06    102.0\n",
      "2011-08-07    102.0\n",
      "2011-08-08    103.0\n",
      "2011-08-09    103.0\n",
      "2011-08-10    102.0\n",
      "2011-08-11    101.0\n",
      "2011-08-12    100.0\n",
      "2011-08-13     96.0\n",
      "2011-08-14    101.0\n",
      "2011-08-15    103.0\n",
      "2011-08-16    102.0\n",
      "2011-08-17    100.0\n",
      "2011-08-18    104.0\n",
      "2011-08-19    103.0\n",
      "2011-08-20    104.0\n",
      "2011-08-21    102.0\n",
      "2011-08-22    103.0\n",
      "2011-08-23    102.0\n",
      "2011-08-24    102.0\n",
      "2011-08-25     93.0\n",
      "2011-08-26    101.0\n",
      "2011-08-27    107.0\n",
      "2011-08-28    110.0\n",
      "2011-08-29    107.0\n",
      "2011-08-30    103.0\n",
      "2011-08-31    100.0\n",
      "Freq: D, Name: dry_bulb_faren, dtype: float64\n"
     ]
    }
   ],
   "source": [
    "#Calculamos para 2011 la temperatura máximo diario para el mes de agosto\n",
    "max_august_2011_daily = df.loc['2011-08', 'dry_bulb_faren'].resample('D').max()\n",
    "print(max_august_2011_daily)"
   ]
  },
  {
   "cell_type": "code",
   "execution_count": 104,
   "metadata": {
    "collapsed": true
   },
   "outputs": [],
   "source": [
    "#Filtramos por las fechas en las que 2011 supera a 2010 \n",
    "august_2011_high = max_august_2011_daily[max_august_2010_daily > max_august_2010]"
   ]
  },
  {
   "cell_type": "code",
   "execution_count": 108,
   "metadata": {},
   "outputs": [
    {
     "data": {
      "image/png": "[encoded data removed]",
      "text/plain": [
       "<matplotlib.figure.Figure at 0x7f115e9cc518>"
      ]
     },
     "metadata": {},
     "output_type": "display_data"
    }
   ],
   "source": [
    "#Obtenemos la CDF\n",
    "august_2011_high.plot(kind = 'hist',  normed = True, cumulative = True, bins = 25)\n",
    "plt.show()"
   ]
  },
  {
   "cell_type": "markdown",
   "metadata": {},
   "source": [
    "Como podemos ver la probabilidad de obtener una temperatura por debajo de 96, es bastante improbable por lo que la probabilidad de obtener una temperatura por encima del máximo de agosto de 2010 es prácticamente del 100%."
   ]
  }
 ],
 "metadata": {
  "kernelspec": {
   "display_name": "Python 3",
   "language": "python",
   "name": "python3"
  },
  "language_info": {
   "codemirror_mode": {
    "name": "ipython",
    "version": 3
   },
   "file_extension": ".py",
   "mimetype": "text/x-python",
   "name": "python",
   "nbconvert_exporter": "python",
   "pygments_lexer": "ipython3",
   "version": "3.6.3"
  }
 },
 "nbformat": 4,
 "nbformat_minor": 2
}
