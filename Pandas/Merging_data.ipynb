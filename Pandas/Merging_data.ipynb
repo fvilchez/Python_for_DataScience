{
 "cells": [
  {
   "cell_type": "code",
   "execution_count": 21,
   "metadata": {
    "collapsed": true
   },
   "outputs": [],
   "source": [
    "import pandas as pd"
   ]
  },
  {
   "cell_type": "markdown",
   "metadata": {},
   "source": [
    "# Merging on a specific column"
   ]
  },
  {
   "cell_type": "markdown",
   "metadata": {
    "collapsed": true
   },
   "source": [
    "(**pd.concat()** nos permite concatener DataFrames de forma horizontal y vertical, por otro lado **df.append()** nos permite concatenar DataFrames de forma horizontal. Existen situaciones en las que deseamos concatenar conjuntos de datos mediante valores en diversas columnas. Para realizar esto contamos con **pd.merge()**. Esta función por defecto realiza un join por valores similares entre columnas."
   ]
  },
  {
   "cell_type": "code",
   "execution_count": 5,
   "metadata": {},
   "outputs": [
    {
     "name": "stdout",
     "output_type": "stream",
     "text": [
      "   branch_id         city  revenue\n",
      "0         10       Austin      100\n",
      "1         20       Denver       83\n",
      "2         30  Springfield        4\n",
      "3         47    Mendocino      200\n"
     ]
    }
   ],
   "source": [
    "#Cargamos los datos\n",
    "revenue = pd.read_csv('revenue.csv')\n",
    "print(revenue)"
   ]
  },
  {
   "cell_type": "code",
   "execution_count": 6,
   "metadata": {},
   "outputs": [
    {
     "name": "stdout",
     "output_type": "stream",
     "text": [
      "   branch_id         city  manager\n",
      "0         10       Austin  Charles\n",
      "1         20       Denver     Joel\n",
      "2         47    Mendocino    Brett\n",
      "3         31  Springfield    Sally\n"
     ]
    }
   ],
   "source": [
    "managers = pd.read_csv('manager.csv')\n",
    "print(managers)"
   ]
  },
  {
   "cell_type": "code",
   "execution_count": 7,
   "metadata": {},
   "outputs": [
    {
     "name": "stdout",
     "output_type": "stream",
     "text": [
      "   branch_id       city  revenue  manager\n",
      "0         10     Austin      100  Charles\n",
      "1         20     Denver       83     Joel\n",
      "2         47  Mendocino      200    Brett\n"
     ]
    }
   ],
   "source": [
    "#Hacemos el merge\n",
    "print(pd.merge(revenue, managers))"
   ]
  },
  {
   "cell_type": "markdown",
   "metadata": {},
   "source": [
    "Si queremos especificar la unión a partir de una determinada columna, podemos hacer uso del parámetro **on**, mediante el cual indicamos el nombre de la columna a partir de la cual queremos hacer la unión. La columna especificada debe estar en ambos conjuntos de datos."
   ]
  },
  {
   "cell_type": "code",
   "execution_count": 8,
   "metadata": {},
   "outputs": [
    {
     "name": "stdout",
     "output_type": "stream",
     "text": [
      "   branch_id_x         city  revenue  branch_id_y  manager\n",
      "0           10       Austin      100           10  Charles\n",
      "1           20       Denver       83           20     Joel\n",
      "2           30  Springfield        4           31    Sally\n",
      "3           47    Mendocino      200           47    Brett\n"
     ]
    }
   ],
   "source": [
    "#Hacemos el merge por la columna city\n",
    "merge_by_city  = pd.merge(revenue, managers, on = 'city')\n",
    "print(merge_by_city)"
   ]
  },
  {
   "cell_type": "code",
   "execution_count": 12,
   "metadata": {},
   "outputs": [
    {
     "name": "stdout",
     "output_type": "stream",
     "text": [
      "   branch_id     city_x  revenue     city_y  manager\n",
      "0         10     Austin      100     Austin  Charles\n",
      "1         20     Denver       83     Denver     Joel\n",
      "2         47  Mendocino      200  Mendocino    Brett\n"
     ]
    }
   ],
   "source": [
    "#Hacemos el merfe por la columna branch_id \n",
    "merge_by_id = pd.merge(revenue, managers, on = ['branch_id'])\n",
    "print(merge_by_id)"
   ]
  },
  {
   "cell_type": "markdown",
   "metadata": {},
   "source": [
    "Podemos especificar mediante el argumento **suffixes** el nombre de las columnas creadas."
   ]
  },
  {
   "cell_type": "code",
   "execution_count": 14,
   "metadata": {},
   "outputs": [
    {
     "name": "stdout",
     "output_type": "stream",
     "text": [
      "   branch_id city_revenue  revenue city_managers  manager\n",
      "0         10       Austin      100        Austin  Charles\n",
      "1         20       Denver       83        Denver     Joel\n",
      "2         47    Mendocino      200     Mendocino    Brett\n"
     ]
    }
   ],
   "source": [
    "merge_by_id = pd.merge(revenue, managers, on = ['branch_id'], suffixes=['_revenue', '_managers'])\n",
    "print(merge_by_id)"
   ]
  },
  {
   "cell_type": "markdown",
   "metadata": {},
   "source": [
    "# Merging on columns with non-matching labels"
   ]
  },
  {
   "cell_type": "markdown",
   "metadata": {},
   "source": [
    "Es posible que se de la situación en la que las columnas a partir de las cuales queremos realizar la unión no tengan el mismo nombre. En este caso **pd.merge()** dispone de los argumentes **left_on** y **right_on** donde le indiacamos las columnas por las cuales queremos realizar la unión."
   ]
  },
  {
   "cell_type": "code",
   "execution_count": 16,
   "metadata": {},
   "outputs": [
    {
     "name": "stdout",
     "output_type": "stream",
     "text": [
      "   branch_id         city  revenue\n",
      "0         10       Austin      100\n",
      "1         20       Denver       83\n",
      "2         30  Springfield        4\n",
      "3         47    Mendocino      200\n"
     ]
    }
   ],
   "source": [
    "#Cargamos los datos\n",
    "revenue = pd.read_csv('revenue.csv')\n",
    "print(revenue)"
   ]
  },
  {
   "cell_type": "code",
   "execution_count": 19,
   "metadata": {},
   "outputs": [
    {
     "name": "stdout",
     "output_type": "stream",
     "text": [
      "        branch  branch_id   manager state\n",
      "0       Austin         10  Charlers    TX\n",
      "1       Denver         20      Joel    CO\n",
      "2    Mendocino         47     Brett    CA\n",
      "3  Springfield         31     Sally    MO\n"
     ]
    }
   ],
   "source": [
    "managers2 = pd.read_csv('managers2.csv')\n",
    "print(managers2)"
   ]
  },
  {
   "cell_type": "code",
   "execution_count": 20,
   "metadata": {},
   "outputs": [
    {
     "name": "stdout",
     "output_type": "stream",
     "text": [
      "   branch_id_x         city  revenue       branch  branch_id_y   manager state\n",
      "0           10       Austin      100       Austin           10  Charlers    TX\n",
      "1           20       Denver       83       Denver           20      Joel    CO\n",
      "2           30  Springfield        4  Springfield           31     Sally    MO\n",
      "3           47    Mendocino      200    Mendocino           47     Brett    CA\n"
     ]
    }
   ],
   "source": [
    "#Hacemos la unión por las columnas city y branch\n",
    "print(pd.merge(revenue, managers2, left_on = 'city', right_on = 'branch'))"
   ]
  },
  {
   "cell_type": "markdown",
   "metadata": {},
   "source": [
    "# Merging on multiple columns"
   ]
  },
  {
   "cell_type": "markdown",
   "metadata": {},
   "source": [
    "Una forma de evitar la situación de que se repitan columnas es hacer un merge por diversas columnas."
   ]
  },
  {
   "cell_type": "code",
   "execution_count": 21,
   "metadata": {},
   "outputs": [
    {
     "name": "stdout",
     "output_type": "stream",
     "text": [
      "   branch_id         city  revenue state\n",
      "0         10       Austin      100    TX\n",
      "1         20       Denver       83    CO\n",
      "2         30  Springfield        4    IL\n",
      "3         47    Mendocino      200    CA\n"
     ]
    }
   ],
   "source": [
    "#Nos creamos la columnas state en revenue y mangers\n",
    "revenue['state'] = ['TX', 'CO', 'IL', 'CA']\n",
    "print(revenue) "
   ]
  },
  {
   "cell_type": "code",
   "execution_count": 22,
   "metadata": {},
   "outputs": [
    {
     "name": "stdout",
     "output_type": "stream",
     "text": [
      "   branch_id         city  manager state\n",
      "0         10       Austin  Charles    TX\n",
      "1         20       Denver     Joel    CO\n",
      "2         47    Mendocino    Brett    CA\n",
      "3         31  Springfield    Sally    MO\n"
     ]
    }
   ],
   "source": [
    "managers['state'] = ['TX', 'CO', 'CA', 'MO']\n",
    "print(managers)"
   ]
  },
  {
   "cell_type": "code",
   "execution_count": 24,
   "metadata": {},
   "outputs": [
    {
     "name": "stdout",
     "output_type": "stream",
     "text": [
      "   branch_id       city  revenue state  manager\n",
      "0         10     Austin      100    TX  Charles\n",
      "1         20     Denver       83    CO     Joel\n",
      "2         47  Mendocino      200    CA    Brett\n"
     ]
    }
   ],
   "source": [
    "#Hacemos el merge\n",
    "print(pd.merge(revenue, managers, on = ['branch_id', 'city', 'state']))"
   ]
  },
  {
   "cell_type": "markdown",
   "metadata": {},
   "source": [
    "# Left & right merging on multiple columns"
   ]
  },
  {
   "cell_type": "code",
   "execution_count": 26,
   "metadata": {},
   "outputs": [
    {
     "name": "stdout",
     "output_type": "stream",
     "text": [
      "          city state  units\n",
      "0    Mendocino    CA      1\n",
      "1       Denver    CO      4\n",
      "2       Austin    TX      2\n",
      "3  Springfield    MO      5\n",
      "4  Springfield    IL      1\n"
     ]
    }
   ],
   "source": [
    "#Cargamos datos\n",
    "sales = pd.read_csv('sales.csv')\n",
    "print(sales)"
   ]
  },
  {
   "cell_type": "markdown",
   "metadata": {},
   "source": [
    "El conjunto de datos sales dispone de la información de unidades vendidas en cada una de las tiendas. Si deseamos conocer aquellas ventas de las que no conocemos la ganancia podemos realizar un merge entre revenue y sales."
   ]
  },
  {
   "cell_type": "code",
   "execution_count": 31,
   "metadata": {},
   "outputs": [
    {
     "name": "stdout",
     "output_type": "stream",
     "text": [
      "          city state  units  branch_id  revenue\n",
      "0    Mendocino    CA      1       47.0    200.0\n",
      "1       Denver    CO      4       20.0     83.0\n",
      "2       Austin    TX      2       10.0    100.0\n",
      "3  Springfield    MO      5        NaN      NaN\n",
      "4  Springfield    IL      1       30.0      4.0\n"
     ]
    }
   ],
   "source": [
    "sales_revenue = pd.merge(sales, revenue, on = ['city', 'state'], how = 'left')\n",
    "print(sales_revenue)"
   ]
  },
  {
   "cell_type": "markdown",
   "metadata": {},
   "source": [
    "Si deseamos conocer las ventas asociados a cada manager poodemos realizar la siguiente operación."
   ]
  },
  {
   "cell_type": "code",
   "execution_count": 32,
   "metadata": {},
   "outputs": [
    {
     "name": "stdout",
     "output_type": "stream",
     "text": [
      "          city state  units       branch  branch_id   manager\n",
      "0    Mendocino    CA      1    Mendocino       47.0     Brett\n",
      "1       Denver    CO      4       Denver       20.0      Joel\n",
      "2       Austin    TX      2       Austin       10.0  Charlers\n",
      "3  Springfield    MO      5  Springfield       31.0     Sally\n",
      "4  Springfield    IL      1          NaN        NaN       NaN\n"
     ]
    }
   ],
   "source": [
    "sales_managers = pd.merge(sales, managers2, left_on = ['city', 'state'], right_on = ['branch', 'state'], how = 'left')\n",
    "print(sales_managers)"
   ]
  },
  {
   "cell_type": "markdown",
   "metadata": {},
   "source": [
    "# Merging DataFrames with outer join"
   ]
  },
  {
   "cell_type": "markdown",
   "metadata": {},
   "source": [
    "A continuación vamos a proceder a juntar toda la información en único dataframe."
   ]
  },
  {
   "cell_type": "code",
   "execution_count": 35,
   "metadata": {},
   "outputs": [
    {
     "name": "stdout",
     "output_type": "stream",
     "text": [
      "          city state  units_x  branch_id_x  revenue  units_y       branch  \\\n",
      "0    Mendocino    CA        1         47.0    200.0        1    Mendocino   \n",
      "1       Denver    CO        4         20.0     83.0        4       Denver   \n",
      "2       Austin    TX        2         10.0    100.0        2       Austin   \n",
      "3  Springfield    MO        5          NaN      NaN        5  Springfield   \n",
      "4  Springfield    IL        1         30.0      4.0        1          NaN   \n",
      "\n",
      "   branch_id_y   manager  \n",
      "0         47.0     Brett  \n",
      "1         20.0      Joel  \n",
      "2         10.0  Charlers  \n",
      "3         31.0     Sally  \n",
      "4          NaN       NaN  \n"
     ]
    }
   ],
   "source": [
    "print(pd.merge(sales_revenue, sales_managers, on = ['city', 'state'], how = 'outer'))"
   ]
  },
  {
   "cell_type": "markdown",
   "metadata": {},
   "source": [
    "# Using merge_ordered()"
   ]
  },
  {
   "cell_type": "markdown",
   "metadata": {
    "collapsed": true
   },
   "source": [
    "**pd.merge_ordered()** nos permite ordenar el DataFrame unido por el campo especificado. Por defecto el tipo de join realizado es **outer**. También dispone del argumento fill_method, para en caso de que obtengamos un valor perdido decirle la forma en la cual deseamos rellenar dicho valor."
   ]
  },
  {
   "cell_type": "code",
   "execution_count": 5,
   "metadata": {},
   "outputs": [
    {
     "name": "stdout",
     "output_type": "stream",
     "text": [
      "         date ratings\n",
      "0  2016-01-01  Cloudy\n",
      "1  2016-02-08  Cloudy\n",
      "2  2016-01-17   Sunny\n"
     ]
    }
   ],
   "source": [
    "#Cargamos los datos\n",
    "austin = pd.read_csv('austin_weather.csv')\n",
    "print(austin)"
   ]
  },
  {
   "cell_type": "code",
   "execution_count": 6,
   "metadata": {},
   "outputs": [
    {
     "name": "stdout",
     "output_type": "stream",
     "text": [
      "         date ratings\n",
      "0  2016-01-04   Rainy\n",
      "1  2016-01-01  Cloudy\n",
      "2  2016-03-01   Sunny\n"
     ]
    }
   ],
   "source": [
    "houston = pd.read_csv('houston_weather.csv')\n",
    "print(houston)"
   ]
  },
  {
   "cell_type": "code",
   "execution_count": 7,
   "metadata": {},
   "outputs": [
    {
     "name": "stdout",
     "output_type": "stream",
     "text": [
      "         date ratings\n",
      "0  2016-01-01  Cloudy\n",
      "1  2016-01-04   Rainy\n",
      "2  2016-01-17   Sunny\n",
      "3  2016-02-08  Cloudy\n",
      "4  2016-03-01   Sunny\n"
     ]
    }
   ],
   "source": [
    "#Hacemos uso de pd_merge_ordered\n",
    "print(pd.merge_ordered(austin, houston))"
   ]
  },
  {
   "cell_type": "code",
   "execution_count": 9,
   "metadata": {},
   "outputs": [
    {
     "name": "stdout",
     "output_type": "stream",
     "text": [
      "         date ratings_austin ratings_houston\n",
      "0  2016-01-01         Cloudy          Cloudy\n",
      "1  2016-01-04            NaN           Rainy\n",
      "2  2016-01-17          Sunny             NaN\n",
      "3  2016-02-08         Cloudy             NaN\n",
      "4  2016-03-01            NaN           Sunny\n"
     ]
    }
   ],
   "source": [
    "#Hacemos uso de pd.merge_ordered con sus argumentos\n",
    "print(pd.merge_ordered(austin, houston, on = ['date'], suffixes = ['_austin', '_houston']))"
   ]
  },
  {
   "cell_type": "code",
   "execution_count": 10,
   "metadata": {},
   "outputs": [
    {
     "name": "stdout",
     "output_type": "stream",
     "text": [
      "         date ratings_austin ratings_houston\n",
      "0  2016-01-01         Cloudy          Cloudy\n",
      "1  2016-01-04         Cloudy           Rainy\n",
      "2  2016-01-17          Sunny           Rainy\n",
      "3  2016-02-08         Cloudy           Rainy\n",
      "4  2016-03-01         Cloudy           Sunny\n"
     ]
    }
   ],
   "source": [
    "#Hacemos uso de pd.merge_ordered con sus argumentos\n",
    "print(pd.merge_ordered(austin, houston, on = ['date'], suffixes = ['_austin', '_houston'], fill_method = 'ffill'))"
   ]
  }
 ],
 "metadata": {
  "kernelspec": {
   "display_name": "Python 3",
   "language": "python",
   "name": "python3"
  },
  "language_info": {
   "codemirror_mode": {
    "name": "ipython",
    "version": 3
   },
   "file_extension": ".py",
   "mimetype": "text/x-python",
   "name": "python",
   "nbconvert_exporter": "python",
   "pygments_lexer": "ipython3",
   "version": "3.6.3"
  }
 },
 "nbformat": 4,
 "nbformat_minor": 2
}
