{
 "cells": [
  {
   "cell_type": "code",
   "execution_count": 122,
   "metadata": {
    "collapsed": true
   },
   "outputs": [],
   "source": [
    "import pandas as pd\n",
    "import matplotlib.pyplot as plt\n",
    "import numpy as np"
   ]
  },
  {
   "cell_type": "markdown",
   "metadata": {},
   "source": [
    "# Creating and using a DatetimeIndex"
   ]
  },
  {
   "cell_type": "markdown",
   "metadata": {},
   "source": [
    "El indexado de Pandas, es una herramienta bastante poderosa a la hora de de manipular series temporales. Pandas dispone de la función **pd.to_datetime()** para realizar convertir a tipo fecha. Si le pasamos una fecha como string por ejemplo: ['2015-01-01 091234','2015-01-01 091234'] y le especificamos mediante la variable **format** el formato de la fecha, format='%Y-%m-%d %H%M%S, pandas procederá a parsear de forma adecuada la fecha indicada para construir nuestro objeto de tipo fecha. "
   ]
  },
  {
   "cell_type": "code",
   "execution_count": 3,
   "metadata": {},
   "outputs": [
    {
     "data": {
      "text/html": [
       "<div>\n",
       "<style>\n",
       "    .dataframe thead tr:only-child th {\n",
       "        text-align: right;\n",
       "    }\n",
       "\n",
       "    .dataframe thead th {\n",
       "        text-align: left;\n",
       "    }\n",
       "\n",
       "    .dataframe tbody tr th {\n",
       "        vertical-align: top;\n",
       "    }\n",
       "</style>\n",
       "<table border=\"1\" class=\"dataframe\">\n",
       "  <thead>\n",
       "    <tr style=\"text-align: right;\">\n",
       "      <th></th>\n",
       "      <th>Temperature</th>\n",
       "      <th>DewPoint</th>\n",
       "      <th>Pressure</th>\n",
       "      <th>Date</th>\n",
       "    </tr>\n",
       "  </thead>\n",
       "  <tbody>\n",
       "    <tr>\n",
       "      <th>0</th>\n",
       "      <td>46.2</td>\n",
       "      <td>37.5</td>\n",
       "      <td>1.0</td>\n",
       "      <td>20100101 00:00</td>\n",
       "    </tr>\n",
       "    <tr>\n",
       "      <th>1</th>\n",
       "      <td>44.6</td>\n",
       "      <td>37.1</td>\n",
       "      <td>1.0</td>\n",
       "      <td>20100101 01:00</td>\n",
       "    </tr>\n",
       "    <tr>\n",
       "      <th>2</th>\n",
       "      <td>44.1</td>\n",
       "      <td>36.9</td>\n",
       "      <td>1.0</td>\n",
       "      <td>20100101 02:00</td>\n",
       "    </tr>\n",
       "    <tr>\n",
       "      <th>3</th>\n",
       "      <td>43.8</td>\n",
       "      <td>36.9</td>\n",
       "      <td>1.0</td>\n",
       "      <td>20100101 03:00</td>\n",
       "    </tr>\n",
       "    <tr>\n",
       "      <th>4</th>\n",
       "      <td>43.5</td>\n",
       "      <td>36.8</td>\n",
       "      <td>1.0</td>\n",
       "      <td>20100101 04:00</td>\n",
       "    </tr>\n",
       "  </tbody>\n",
       "</table>\n",
       "</div>"
      ],
      "text/plain": [
       "   Temperature  DewPoint  Pressure            Date\n",
       "0         46.2      37.5       1.0  20100101 00:00\n",
       "1         44.6      37.1       1.0  20100101 01:00\n",
       "2         44.1      36.9       1.0  20100101 02:00\n",
       "3         43.8      36.9       1.0  20100101 03:00\n",
       "4         43.5      36.8       1.0  20100101 04:00"
      ]
     },
     "execution_count": 3,
     "metadata": {},
     "output_type": "execute_result"
    }
   ],
   "source": [
    "#Cargamos los datos\n",
    "df = pd.read_csv('weather_data_austin_2010.csv')\n",
    "\n",
    "#Vemos que la carga se realizó de forma adecuada\n",
    "df.head()"
   ]
  },
  {
   "cell_type": "code",
   "execution_count": 6,
   "metadata": {
    "collapsed": true
   },
   "outputs": [],
   "source": [
    "#Extraemos la fecha\n",
    "date_list = list(df.iloc[:, 3].values)\n",
    "\n",
    "#Extraemos la temperatura\n",
    "temperature_list = list(df.iloc[:,0].values)"
   ]
  },
  {
   "cell_type": "code",
   "execution_count": 9,
   "metadata": {},
   "outputs": [
    {
     "data": {
      "text/plain": [
       "2010-01-01 00:00:00    46.2\n",
       "2010-01-01 01:00:00    44.6\n",
       "2010-01-01 02:00:00    44.1\n",
       "2010-01-01 03:00:00    43.8\n",
       "2010-01-01 04:00:00    43.5\n",
       "dtype: float64"
      ]
     },
     "execution_count": 9,
     "metadata": {},
     "output_type": "execute_result"
    }
   ],
   "source": [
    "#Pasamos el fotmato de fecha que deseamos usar\n",
    "time_format = '%Y-%m-%d %H:%M'\n",
    "\n",
    "#Convertimos nuestra lista a formato tipo fecha\n",
    "my_datetimes = pd.to_datetime(date_list, format = time_format)\n",
    "\n",
    "#Nos creamos la serie\n",
    "time_series = pd.Series(temperature_list, index = my_datetimes)\n",
    "\n",
    "#Vemos el resultado\n",
    "time_series.head()"
   ]
  },
  {
   "cell_type": "markdown",
   "metadata": {},
   "source": [
    "# Partial string indexing and slicing"
   ]
  },
  {
   "cell_type": "markdown",
   "metadata": {},
   "source": [
    "Las series temporales en Pandas permiten la indexación parcial, es decir, nos permite seleccionar de forma sencilla una ventana temporal en la cual estemos interesados. La función **read_csv()** dispone del argumento **parse_dates**, este argumento por defecto toma el valor de **False**, pero si le cambiamos el valor a **True**, en caso de que encuentre alguna columna con formato fecha la intentará parsear."
   ]
  },
  {
   "cell_type": "code",
   "execution_count": 10,
   "metadata": {},
   "outputs": [
    {
     "data": {
      "text/html": [
       "<div>\n",
       "<style>\n",
       "    .dataframe thead tr:only-child th {\n",
       "        text-align: right;\n",
       "    }\n",
       "\n",
       "    .dataframe thead th {\n",
       "        text-align: left;\n",
       "    }\n",
       "\n",
       "    .dataframe tbody tr th {\n",
       "        vertical-align: top;\n",
       "    }\n",
       "</style>\n",
       "<table border=\"1\" class=\"dataframe\">\n",
       "  <thead>\n",
       "    <tr style=\"text-align: right;\">\n",
       "      <th></th>\n",
       "      <th>Temperature</th>\n",
       "      <th>DewPoint</th>\n",
       "      <th>Pressure</th>\n",
       "    </tr>\n",
       "    <tr>\n",
       "      <th>Date</th>\n",
       "      <th></th>\n",
       "      <th></th>\n",
       "      <th></th>\n",
       "    </tr>\n",
       "  </thead>\n",
       "  <tbody>\n",
       "    <tr>\n",
       "      <th>2010-01-01 00:00:00</th>\n",
       "      <td>46.2</td>\n",
       "      <td>37.5</td>\n",
       "      <td>1.0</td>\n",
       "    </tr>\n",
       "    <tr>\n",
       "      <th>2010-01-01 01:00:00</th>\n",
       "      <td>44.6</td>\n",
       "      <td>37.1</td>\n",
       "      <td>1.0</td>\n",
       "    </tr>\n",
       "    <tr>\n",
       "      <th>2010-01-01 02:00:00</th>\n",
       "      <td>44.1</td>\n",
       "      <td>36.9</td>\n",
       "      <td>1.0</td>\n",
       "    </tr>\n",
       "    <tr>\n",
       "      <th>2010-01-01 03:00:00</th>\n",
       "      <td>43.8</td>\n",
       "      <td>36.9</td>\n",
       "      <td>1.0</td>\n",
       "    </tr>\n",
       "    <tr>\n",
       "      <th>2010-01-01 04:00:00</th>\n",
       "      <td>43.5</td>\n",
       "      <td>36.8</td>\n",
       "      <td>1.0</td>\n",
       "    </tr>\n",
       "  </tbody>\n",
       "</table>\n",
       "</div>"
      ],
      "text/plain": [
       "                     Temperature  DewPoint  Pressure\n",
       "Date                                                \n",
       "2010-01-01 00:00:00         46.2      37.5       1.0\n",
       "2010-01-01 01:00:00         44.6      37.1       1.0\n",
       "2010-01-01 02:00:00         44.1      36.9       1.0\n",
       "2010-01-01 03:00:00         43.8      36.9       1.0\n",
       "2010-01-01 04:00:00         43.5      36.8       1.0"
      ]
     },
     "execution_count": 10,
     "metadata": {},
     "output_type": "execute_result"
    }
   ],
   "source": [
    "#Cargamos los datos\n",
    "df = pd.read_csv('weather_data_austin_2010.csv', parse_dates=True, index_col = 'Date')\n",
    "\n",
    "#Vemos como se cargaron los datos\n",
    "df.head()"
   ]
  },
  {
   "cell_type": "markdown",
   "metadata": {},
   "source": [
    "Podemos ver que automáticamente Pandas es capaz de captar la fecha y parsearla de forma adecuada. Por ejemplo si deseamos seleccionar la información que corresponde a una fecha determinada podemos acceder de forma sencilla. Además podemos seleccionar estas fechas de forma muy diversa."
   ]
  },
  {
   "cell_type": "code",
   "execution_count": 12,
   "metadata": {},
   "outputs": [
    {
     "data": {
      "text/plain": [
       "Temperature    69.0\n",
       "DewPoint       59.8\n",
       "Pressure        1.0\n",
       "Name: 2010-10-11 21:00:00, dtype: float64"
      ]
     },
     "execution_count": 12,
     "metadata": {},
     "output_type": "execute_result"
    }
   ],
   "source": [
    "#Seleccionamos la información de una fecha concreta\n",
    "ts1 = df.loc['2010-10-11 21:00:00']\n",
    "ts1"
   ]
  },
  {
   "cell_type": "code",
   "execution_count": 14,
   "metadata": {},
   "outputs": [
    {
     "data": {
      "text/html": [
       "<div>\n",
       "<style>\n",
       "    .dataframe thead tr:only-child th {\n",
       "        text-align: right;\n",
       "    }\n",
       "\n",
       "    .dataframe thead th {\n",
       "        text-align: left;\n",
       "    }\n",
       "\n",
       "    .dataframe tbody tr th {\n",
       "        vertical-align: top;\n",
       "    }\n",
       "</style>\n",
       "<table border=\"1\" class=\"dataframe\">\n",
       "  <thead>\n",
       "    <tr style=\"text-align: right;\">\n",
       "      <th></th>\n",
       "      <th>Temperature</th>\n",
       "      <th>DewPoint</th>\n",
       "      <th>Pressure</th>\n",
       "    </tr>\n",
       "    <tr>\n",
       "      <th>Date</th>\n",
       "      <th></th>\n",
       "      <th></th>\n",
       "      <th></th>\n",
       "    </tr>\n",
       "  </thead>\n",
       "  <tbody>\n",
       "    <tr>\n",
       "      <th>2010-07-04 00:00:00</th>\n",
       "      <td>77.6</td>\n",
       "      <td>70.8</td>\n",
       "      <td>1.0</td>\n",
       "    </tr>\n",
       "    <tr>\n",
       "      <th>2010-07-04 01:00:00</th>\n",
       "      <td>76.3</td>\n",
       "      <td>71.1</td>\n",
       "      <td>1.0</td>\n",
       "    </tr>\n",
       "    <tr>\n",
       "      <th>2010-07-04 02:00:00</th>\n",
       "      <td>75.5</td>\n",
       "      <td>71.1</td>\n",
       "      <td>1.0</td>\n",
       "    </tr>\n",
       "    <tr>\n",
       "      <th>2010-07-04 03:00:00</th>\n",
       "      <td>74.9</td>\n",
       "      <td>71.1</td>\n",
       "      <td>1.0</td>\n",
       "    </tr>\n",
       "    <tr>\n",
       "      <th>2010-07-04 04:00:00</th>\n",
       "      <td>74.6</td>\n",
       "      <td>71.1</td>\n",
       "      <td>1.0</td>\n",
       "    </tr>\n",
       "  </tbody>\n",
       "</table>\n",
       "</div>"
      ],
      "text/plain": [
       "                     Temperature  DewPoint  Pressure\n",
       "Date                                                \n",
       "2010-07-04 00:00:00         77.6      70.8       1.0\n",
       "2010-07-04 01:00:00         76.3      71.1       1.0\n",
       "2010-07-04 02:00:00         75.5      71.1       1.0\n",
       "2010-07-04 03:00:00         74.9      71.1       1.0\n",
       "2010-07-04 04:00:00         74.6      71.1       1.0"
      ]
     },
     "execution_count": 14,
     "metadata": {},
     "output_type": "execute_result"
    }
   ],
   "source": [
    "ts2 = df.loc['July 4th, 2010']\n",
    "ts2.head()"
   ]
  },
  {
   "cell_type": "markdown",
   "metadata": {},
   "source": [
    "También podemos seleccionar rango de fechas"
   ]
  },
  {
   "cell_type": "code",
   "execution_count": 16,
   "metadata": {},
   "outputs": [
    {
     "data": {
      "text/html": [
       "<div>\n",
       "<style>\n",
       "    .dataframe thead tr:only-child th {\n",
       "        text-align: right;\n",
       "    }\n",
       "\n",
       "    .dataframe thead th {\n",
       "        text-align: left;\n",
       "    }\n",
       "\n",
       "    .dataframe tbody tr th {\n",
       "        vertical-align: top;\n",
       "    }\n",
       "</style>\n",
       "<table border=\"1\" class=\"dataframe\">\n",
       "  <thead>\n",
       "    <tr style=\"text-align: right;\">\n",
       "      <th></th>\n",
       "      <th>Temperature</th>\n",
       "      <th>DewPoint</th>\n",
       "      <th>Pressure</th>\n",
       "    </tr>\n",
       "    <tr>\n",
       "      <th>Date</th>\n",
       "      <th></th>\n",
       "      <th></th>\n",
       "      <th></th>\n",
       "    </tr>\n",
       "  </thead>\n",
       "  <tbody>\n",
       "    <tr>\n",
       "      <th>2010-12-15 00:00:00</th>\n",
       "      <td>48.0</td>\n",
       "      <td>40.5</td>\n",
       "      <td>1.0</td>\n",
       "    </tr>\n",
       "    <tr>\n",
       "      <th>2010-12-15 01:00:00</th>\n",
       "      <td>47.2</td>\n",
       "      <td>40.3</td>\n",
       "      <td>1.0</td>\n",
       "    </tr>\n",
       "    <tr>\n",
       "      <th>2010-12-15 02:00:00</th>\n",
       "      <td>46.5</td>\n",
       "      <td>40.0</td>\n",
       "      <td>1.0</td>\n",
       "    </tr>\n",
       "    <tr>\n",
       "      <th>2010-12-15 03:00:00</th>\n",
       "      <td>46.0</td>\n",
       "      <td>39.7</td>\n",
       "      <td>1.0</td>\n",
       "    </tr>\n",
       "    <tr>\n",
       "      <th>2010-12-15 04:00:00</th>\n",
       "      <td>45.6</td>\n",
       "      <td>39.5</td>\n",
       "      <td>1.0</td>\n",
       "    </tr>\n",
       "  </tbody>\n",
       "</table>\n",
       "</div>"
      ],
      "text/plain": [
       "                     Temperature  DewPoint  Pressure\n",
       "Date                                                \n",
       "2010-12-15 00:00:00         48.0      40.5       1.0\n",
       "2010-12-15 01:00:00         47.2      40.3       1.0\n",
       "2010-12-15 02:00:00         46.5      40.0       1.0\n",
       "2010-12-15 03:00:00         46.0      39.7       1.0\n",
       "2010-12-15 04:00:00         45.6      39.5       1.0"
      ]
     },
     "execution_count": 16,
     "metadata": {},
     "output_type": "execute_result"
    }
   ],
   "source": [
    "ts3 = df.loc['2010-12-15': '2010-12-20']\n",
    "ts3.head()"
   ]
  },
  {
   "cell_type": "markdown",
   "metadata": {},
   "source": [
    "# Reindexing the Index"
   ]
  },
  {
   "cell_type": "markdown",
   "metadata": {},
   "source": [
    "La reindexación es útil a la hora de combinar dos series temporales. A la hora de reindexar indicamos el nuevo índice y le pedimos a Pandas que intente machear mediante estos índices los datos anteriores. En caso de que no existan valores para los índices indicados Pandas rellenará estos con NaN, pero podemos indicarles como queremos que sea este relleno si deseamos que no se rellenen mediante valores perdidos."
   ]
  },
  {
   "cell_type": "code",
   "execution_count": 34,
   "metadata": {},
   "outputs": [
    {
     "data": {
      "text/html": [
       "<div>\n",
       "<style>\n",
       "    .dataframe thead tr:only-child th {\n",
       "        text-align: right;\n",
       "    }\n",
       "\n",
       "    .dataframe thead th {\n",
       "        text-align: left;\n",
       "    }\n",
       "\n",
       "    .dataframe tbody tr th {\n",
       "        vertical-align: top;\n",
       "    }\n",
       "</style>\n",
       "<table border=\"1\" class=\"dataframe\">\n",
       "  <thead>\n",
       "    <tr style=\"text-align: right;\">\n",
       "      <th></th>\n",
       "      <th>Temperature</th>\n",
       "      <th>DewPoint</th>\n",
       "      <th>Pressure</th>\n",
       "    </tr>\n",
       "    <tr>\n",
       "      <th>Date</th>\n",
       "      <th></th>\n",
       "      <th></th>\n",
       "      <th></th>\n",
       "    </tr>\n",
       "  </thead>\n",
       "  <tbody>\n",
       "    <tr>\n",
       "      <th>2010-07-11 19:00:00</th>\n",
       "      <td>88.2</td>\n",
       "      <td>68.7</td>\n",
       "      <td>1.0</td>\n",
       "    </tr>\n",
       "    <tr>\n",
       "      <th>2010-07-11 20:00:00</th>\n",
       "      <td>84.8</td>\n",
       "      <td>69.4</td>\n",
       "      <td>1.0</td>\n",
       "    </tr>\n",
       "    <tr>\n",
       "      <th>2010-07-11 21:00:00</th>\n",
       "      <td>82.5</td>\n",
       "      <td>70.0</td>\n",
       "      <td>1.0</td>\n",
       "    </tr>\n",
       "    <tr>\n",
       "      <th>2010-07-11 22:00:00</th>\n",
       "      <td>80.6</td>\n",
       "      <td>70.5</td>\n",
       "      <td>1.0</td>\n",
       "    </tr>\n",
       "    <tr>\n",
       "      <th>2010-07-11 23:00:00</th>\n",
       "      <td>79.0</td>\n",
       "      <td>70.6</td>\n",
       "      <td>1.0</td>\n",
       "    </tr>\n",
       "  </tbody>\n",
       "</table>\n",
       "</div>"
      ],
      "text/plain": [
       "                     Temperature  DewPoint  Pressure\n",
       "Date                                                \n",
       "2010-07-11 19:00:00         88.2      68.7       1.0\n",
       "2010-07-11 20:00:00         84.8      69.4       1.0\n",
       "2010-07-11 21:00:00         82.5      70.0       1.0\n",
       "2010-07-11 22:00:00         80.6      70.5       1.0\n",
       "2010-07-11 23:00:00         79.0      70.6       1.0"
      ]
     },
     "execution_count": 34,
     "metadata": {},
     "output_type": "execute_result"
    }
   ],
   "source": [
    "#Seleccionamos la temperatura del 1 al 10 de julio\n",
    "ts1 = df.loc['2010-07-01': '2010-07-11']\n",
    "ts1.tail()"
   ]
  },
  {
   "cell_type": "code",
   "execution_count": 35,
   "metadata": {},
   "outputs": [
    {
     "data": {
      "text/html": [
       "<div>\n",
       "<style>\n",
       "    .dataframe thead tr:only-child th {\n",
       "        text-align: right;\n",
       "    }\n",
       "\n",
       "    .dataframe thead th {\n",
       "        text-align: left;\n",
       "    }\n",
       "\n",
       "    .dataframe tbody tr th {\n",
       "        vertical-align: top;\n",
       "    }\n",
       "</style>\n",
       "<table border=\"1\" class=\"dataframe\">\n",
       "  <thead>\n",
       "    <tr style=\"text-align: right;\">\n",
       "      <th></th>\n",
       "      <th>Temperature</th>\n",
       "      <th>DewPoint</th>\n",
       "      <th>Pressure</th>\n",
       "    </tr>\n",
       "    <tr>\n",
       "      <th>Date</th>\n",
       "      <th></th>\n",
       "      <th></th>\n",
       "      <th></th>\n",
       "    </tr>\n",
       "  </thead>\n",
       "  <tbody>\n",
       "    <tr>\n",
       "      <th>2010-07-11 00:00:00</th>\n",
       "      <td>78.0</td>\n",
       "      <td>70.7</td>\n",
       "      <td>1.0</td>\n",
       "    </tr>\n",
       "    <tr>\n",
       "      <th>2010-07-11 01:00:00</th>\n",
       "      <td>76.5</td>\n",
       "      <td>71.0</td>\n",
       "      <td>1.0</td>\n",
       "    </tr>\n",
       "    <tr>\n",
       "      <th>2010-07-11 02:00:00</th>\n",
       "      <td>75.7</td>\n",
       "      <td>71.0</td>\n",
       "      <td>1.0</td>\n",
       "    </tr>\n",
       "    <tr>\n",
       "      <th>2010-07-11 03:00:00</th>\n",
       "      <td>75.1</td>\n",
       "      <td>71.1</td>\n",
       "      <td>1.0</td>\n",
       "    </tr>\n",
       "    <tr>\n",
       "      <th>2010-07-11 04:00:00</th>\n",
       "      <td>74.7</td>\n",
       "      <td>71.1</td>\n",
       "      <td>1.0</td>\n",
       "    </tr>\n",
       "  </tbody>\n",
       "</table>\n",
       "</div>"
      ],
      "text/plain": [
       "                     Temperature  DewPoint  Pressure\n",
       "Date                                                \n",
       "2010-07-11 00:00:00         78.0      70.7       1.0\n",
       "2010-07-11 01:00:00         76.5      71.0       1.0\n",
       "2010-07-11 02:00:00         75.7      71.0       1.0\n",
       "2010-07-11 03:00:00         75.1      71.1       1.0\n",
       "2010-07-11 04:00:00         74.7      71.1       1.0"
      ]
     },
     "execution_count": 35,
     "metadata": {},
     "output_type": "execute_result"
    }
   ],
   "source": [
    "#Seleccionamos la info para el 11 de julio\n",
    "ts2 = df.loc['2010-07-11']\n",
    "ts2.head()"
   ]
  },
  {
   "cell_type": "code",
   "execution_count": 36,
   "metadata": {},
   "outputs": [
    {
     "data": {
      "text/html": [
       "<div>\n",
       "<style>\n",
       "    .dataframe thead tr:only-child th {\n",
       "        text-align: right;\n",
       "    }\n",
       "\n",
       "    .dataframe thead th {\n",
       "        text-align: left;\n",
       "    }\n",
       "\n",
       "    .dataframe tbody tr th {\n",
       "        vertical-align: top;\n",
       "    }\n",
       "</style>\n",
       "<table border=\"1\" class=\"dataframe\">\n",
       "  <thead>\n",
       "    <tr style=\"text-align: right;\">\n",
       "      <th></th>\n",
       "      <th>Temperature</th>\n",
       "      <th>DewPoint</th>\n",
       "      <th>Pressure</th>\n",
       "    </tr>\n",
       "    <tr>\n",
       "      <th>Date</th>\n",
       "      <th></th>\n",
       "      <th></th>\n",
       "      <th></th>\n",
       "    </tr>\n",
       "  </thead>\n",
       "  <tbody>\n",
       "    <tr>\n",
       "      <th>2010-07-01 00:00:00</th>\n",
       "      <td>NaN</td>\n",
       "      <td>NaN</td>\n",
       "      <td>NaN</td>\n",
       "    </tr>\n",
       "    <tr>\n",
       "      <th>2010-07-01 01:00:00</th>\n",
       "      <td>NaN</td>\n",
       "      <td>NaN</td>\n",
       "      <td>NaN</td>\n",
       "    </tr>\n",
       "    <tr>\n",
       "      <th>2010-07-01 02:00:00</th>\n",
       "      <td>NaN</td>\n",
       "      <td>NaN</td>\n",
       "      <td>NaN</td>\n",
       "    </tr>\n",
       "    <tr>\n",
       "      <th>2010-07-01 03:00:00</th>\n",
       "      <td>NaN</td>\n",
       "      <td>NaN</td>\n",
       "      <td>NaN</td>\n",
       "    </tr>\n",
       "    <tr>\n",
       "      <th>2010-07-01 04:00:00</th>\n",
       "      <td>NaN</td>\n",
       "      <td>NaN</td>\n",
       "      <td>NaN</td>\n",
       "    </tr>\n",
       "    <tr>\n",
       "      <th>2010-07-01 05:00:00</th>\n",
       "      <td>NaN</td>\n",
       "      <td>NaN</td>\n",
       "      <td>NaN</td>\n",
       "    </tr>\n",
       "    <tr>\n",
       "      <th>2010-07-01 06:00:00</th>\n",
       "      <td>NaN</td>\n",
       "      <td>NaN</td>\n",
       "      <td>NaN</td>\n",
       "    </tr>\n",
       "    <tr>\n",
       "      <th>2010-07-01 07:00:00</th>\n",
       "      <td>NaN</td>\n",
       "      <td>NaN</td>\n",
       "      <td>NaN</td>\n",
       "    </tr>\n",
       "    <tr>\n",
       "      <th>2010-07-01 08:00:00</th>\n",
       "      <td>NaN</td>\n",
       "      <td>NaN</td>\n",
       "      <td>NaN</td>\n",
       "    </tr>\n",
       "    <tr>\n",
       "      <th>2010-07-01 09:00:00</th>\n",
       "      <td>NaN</td>\n",
       "      <td>NaN</td>\n",
       "      <td>NaN</td>\n",
       "    </tr>\n",
       "    <tr>\n",
       "      <th>2010-07-01 10:00:00</th>\n",
       "      <td>NaN</td>\n",
       "      <td>NaN</td>\n",
       "      <td>NaN</td>\n",
       "    </tr>\n",
       "    <tr>\n",
       "      <th>2010-07-01 11:00:00</th>\n",
       "      <td>NaN</td>\n",
       "      <td>NaN</td>\n",
       "      <td>NaN</td>\n",
       "    </tr>\n",
       "    <tr>\n",
       "      <th>2010-07-01 12:00:00</th>\n",
       "      <td>NaN</td>\n",
       "      <td>NaN</td>\n",
       "      <td>NaN</td>\n",
       "    </tr>\n",
       "    <tr>\n",
       "      <th>2010-07-01 13:00:00</th>\n",
       "      <td>NaN</td>\n",
       "      <td>NaN</td>\n",
       "      <td>NaN</td>\n",
       "    </tr>\n",
       "    <tr>\n",
       "      <th>2010-07-01 14:00:00</th>\n",
       "      <td>NaN</td>\n",
       "      <td>NaN</td>\n",
       "      <td>NaN</td>\n",
       "    </tr>\n",
       "    <tr>\n",
       "      <th>2010-07-01 15:00:00</th>\n",
       "      <td>NaN</td>\n",
       "      <td>NaN</td>\n",
       "      <td>NaN</td>\n",
       "    </tr>\n",
       "    <tr>\n",
       "      <th>2010-07-01 16:00:00</th>\n",
       "      <td>NaN</td>\n",
       "      <td>NaN</td>\n",
       "      <td>NaN</td>\n",
       "    </tr>\n",
       "    <tr>\n",
       "      <th>2010-07-01 17:00:00</th>\n",
       "      <td>NaN</td>\n",
       "      <td>NaN</td>\n",
       "      <td>NaN</td>\n",
       "    </tr>\n",
       "    <tr>\n",
       "      <th>2010-07-01 18:00:00</th>\n",
       "      <td>NaN</td>\n",
       "      <td>NaN</td>\n",
       "      <td>NaN</td>\n",
       "    </tr>\n",
       "    <tr>\n",
       "      <th>2010-07-01 19:00:00</th>\n",
       "      <td>NaN</td>\n",
       "      <td>NaN</td>\n",
       "      <td>NaN</td>\n",
       "    </tr>\n",
       "    <tr>\n",
       "      <th>2010-07-01 20:00:00</th>\n",
       "      <td>NaN</td>\n",
       "      <td>NaN</td>\n",
       "      <td>NaN</td>\n",
       "    </tr>\n",
       "    <tr>\n",
       "      <th>2010-07-01 21:00:00</th>\n",
       "      <td>NaN</td>\n",
       "      <td>NaN</td>\n",
       "      <td>NaN</td>\n",
       "    </tr>\n",
       "    <tr>\n",
       "      <th>2010-07-01 22:00:00</th>\n",
       "      <td>NaN</td>\n",
       "      <td>NaN</td>\n",
       "      <td>NaN</td>\n",
       "    </tr>\n",
       "    <tr>\n",
       "      <th>2010-07-01 23:00:00</th>\n",
       "      <td>NaN</td>\n",
       "      <td>NaN</td>\n",
       "      <td>NaN</td>\n",
       "    </tr>\n",
       "    <tr>\n",
       "      <th>2010-07-02 00:00:00</th>\n",
       "      <td>NaN</td>\n",
       "      <td>NaN</td>\n",
       "      <td>NaN</td>\n",
       "    </tr>\n",
       "    <tr>\n",
       "      <th>2010-07-02 01:00:00</th>\n",
       "      <td>NaN</td>\n",
       "      <td>NaN</td>\n",
       "      <td>NaN</td>\n",
       "    </tr>\n",
       "    <tr>\n",
       "      <th>2010-07-02 02:00:00</th>\n",
       "      <td>NaN</td>\n",
       "      <td>NaN</td>\n",
       "      <td>NaN</td>\n",
       "    </tr>\n",
       "    <tr>\n",
       "      <th>2010-07-02 03:00:00</th>\n",
       "      <td>NaN</td>\n",
       "      <td>NaN</td>\n",
       "      <td>NaN</td>\n",
       "    </tr>\n",
       "    <tr>\n",
       "      <th>2010-07-02 04:00:00</th>\n",
       "      <td>NaN</td>\n",
       "      <td>NaN</td>\n",
       "      <td>NaN</td>\n",
       "    </tr>\n",
       "    <tr>\n",
       "      <th>2010-07-02 05:00:00</th>\n",
       "      <td>NaN</td>\n",
       "      <td>NaN</td>\n",
       "      <td>NaN</td>\n",
       "    </tr>\n",
       "    <tr>\n",
       "      <th>...</th>\n",
       "      <td>...</td>\n",
       "      <td>...</td>\n",
       "      <td>...</td>\n",
       "    </tr>\n",
       "    <tr>\n",
       "      <th>2010-07-10 18:00:00</th>\n",
       "      <td>NaN</td>\n",
       "      <td>NaN</td>\n",
       "      <td>NaN</td>\n",
       "    </tr>\n",
       "    <tr>\n",
       "      <th>2010-07-10 19:00:00</th>\n",
       "      <td>NaN</td>\n",
       "      <td>NaN</td>\n",
       "      <td>NaN</td>\n",
       "    </tr>\n",
       "    <tr>\n",
       "      <th>2010-07-10 20:00:00</th>\n",
       "      <td>NaN</td>\n",
       "      <td>NaN</td>\n",
       "      <td>NaN</td>\n",
       "    </tr>\n",
       "    <tr>\n",
       "      <th>2010-07-10 21:00:00</th>\n",
       "      <td>NaN</td>\n",
       "      <td>NaN</td>\n",
       "      <td>NaN</td>\n",
       "    </tr>\n",
       "    <tr>\n",
       "      <th>2010-07-10 22:00:00</th>\n",
       "      <td>NaN</td>\n",
       "      <td>NaN</td>\n",
       "      <td>NaN</td>\n",
       "    </tr>\n",
       "    <tr>\n",
       "      <th>2010-07-10 23:00:00</th>\n",
       "      <td>NaN</td>\n",
       "      <td>NaN</td>\n",
       "      <td>NaN</td>\n",
       "    </tr>\n",
       "    <tr>\n",
       "      <th>2010-07-11 00:00:00</th>\n",
       "      <td>78.0</td>\n",
       "      <td>70.7</td>\n",
       "      <td>1.0</td>\n",
       "    </tr>\n",
       "    <tr>\n",
       "      <th>2010-07-11 01:00:00</th>\n",
       "      <td>76.5</td>\n",
       "      <td>71.0</td>\n",
       "      <td>1.0</td>\n",
       "    </tr>\n",
       "    <tr>\n",
       "      <th>2010-07-11 02:00:00</th>\n",
       "      <td>75.7</td>\n",
       "      <td>71.0</td>\n",
       "      <td>1.0</td>\n",
       "    </tr>\n",
       "    <tr>\n",
       "      <th>2010-07-11 03:00:00</th>\n",
       "      <td>75.1</td>\n",
       "      <td>71.1</td>\n",
       "      <td>1.0</td>\n",
       "    </tr>\n",
       "    <tr>\n",
       "      <th>2010-07-11 04:00:00</th>\n",
       "      <td>74.7</td>\n",
       "      <td>71.1</td>\n",
       "      <td>1.0</td>\n",
       "    </tr>\n",
       "    <tr>\n",
       "      <th>2010-07-11 05:00:00</th>\n",
       "      <td>74.3</td>\n",
       "      <td>71.1</td>\n",
       "      <td>1.0</td>\n",
       "    </tr>\n",
       "    <tr>\n",
       "      <th>2010-07-11 06:00:00</th>\n",
       "      <td>74.5</td>\n",
       "      <td>71.1</td>\n",
       "      <td>1.0</td>\n",
       "    </tr>\n",
       "    <tr>\n",
       "      <th>2010-07-11 07:00:00</th>\n",
       "      <td>76.2</td>\n",
       "      <td>72.3</td>\n",
       "      <td>1.0</td>\n",
       "    </tr>\n",
       "    <tr>\n",
       "      <th>2010-07-11 08:00:00</th>\n",
       "      <td>79.4</td>\n",
       "      <td>72.6</td>\n",
       "      <td>1.0</td>\n",
       "    </tr>\n",
       "    <tr>\n",
       "      <th>2010-07-11 09:00:00</th>\n",
       "      <td>82.4</td>\n",
       "      <td>72.1</td>\n",
       "      <td>1.0</td>\n",
       "    </tr>\n",
       "    <tr>\n",
       "      <th>2010-07-11 10:00:00</th>\n",
       "      <td>85.4</td>\n",
       "      <td>71.3</td>\n",
       "      <td>1.0</td>\n",
       "    </tr>\n",
       "    <tr>\n",
       "      <th>2010-07-11 11:00:00</th>\n",
       "      <td>87.6</td>\n",
       "      <td>70.6</td>\n",
       "      <td>1.0</td>\n",
       "    </tr>\n",
       "    <tr>\n",
       "      <th>2010-07-11 12:00:00</th>\n",
       "      <td>89.8</td>\n",
       "      <td>69.8</td>\n",
       "      <td>1.0</td>\n",
       "    </tr>\n",
       "    <tr>\n",
       "      <th>2010-07-11 13:00:00</th>\n",
       "      <td>91.1</td>\n",
       "      <td>69.4</td>\n",
       "      <td>1.0</td>\n",
       "    </tr>\n",
       "    <tr>\n",
       "      <th>2010-07-11 14:00:00</th>\n",
       "      <td>92.2</td>\n",
       "      <td>68.8</td>\n",
       "      <td>1.0</td>\n",
       "    </tr>\n",
       "    <tr>\n",
       "      <th>2010-07-11 15:00:00</th>\n",
       "      <td>92.8</td>\n",
       "      <td>68.2</td>\n",
       "      <td>1.0</td>\n",
       "    </tr>\n",
       "    <tr>\n",
       "      <th>2010-07-11 16:00:00</th>\n",
       "      <td>92.7</td>\n",
       "      <td>68.0</td>\n",
       "      <td>1.0</td>\n",
       "    </tr>\n",
       "    <tr>\n",
       "      <th>2010-07-11 17:00:00</th>\n",
       "      <td>91.9</td>\n",
       "      <td>68.0</td>\n",
       "      <td>1.0</td>\n",
       "    </tr>\n",
       "    <tr>\n",
       "      <th>2010-07-11 18:00:00</th>\n",
       "      <td>90.6</td>\n",
       "      <td>67.9</td>\n",
       "      <td>1.0</td>\n",
       "    </tr>\n",
       "    <tr>\n",
       "      <th>2010-07-11 19:00:00</th>\n",
       "      <td>88.2</td>\n",
       "      <td>68.7</td>\n",
       "      <td>1.0</td>\n",
       "    </tr>\n",
       "    <tr>\n",
       "      <th>2010-07-11 20:00:00</th>\n",
       "      <td>84.8</td>\n",
       "      <td>69.4</td>\n",
       "      <td>1.0</td>\n",
       "    </tr>\n",
       "    <tr>\n",
       "      <th>2010-07-11 21:00:00</th>\n",
       "      <td>82.5</td>\n",
       "      <td>70.0</td>\n",
       "      <td>1.0</td>\n",
       "    </tr>\n",
       "    <tr>\n",
       "      <th>2010-07-11 22:00:00</th>\n",
       "      <td>80.6</td>\n",
       "      <td>70.5</td>\n",
       "      <td>1.0</td>\n",
       "    </tr>\n",
       "    <tr>\n",
       "      <th>2010-07-11 23:00:00</th>\n",
       "      <td>79.0</td>\n",
       "      <td>70.6</td>\n",
       "      <td>1.0</td>\n",
       "    </tr>\n",
       "  </tbody>\n",
       "</table>\n",
       "<p>264 rows × 3 columns</p>\n",
       "</div>"
      ],
      "text/plain": [
       "                     Temperature  DewPoint  Pressure\n",
       "Date                                                \n",
       "2010-07-01 00:00:00          NaN       NaN       NaN\n",
       "2010-07-01 01:00:00          NaN       NaN       NaN\n",
       "2010-07-01 02:00:00          NaN       NaN       NaN\n",
       "2010-07-01 03:00:00          NaN       NaN       NaN\n",
       "2010-07-01 04:00:00          NaN       NaN       NaN\n",
       "2010-07-01 05:00:00          NaN       NaN       NaN\n",
       "2010-07-01 06:00:00          NaN       NaN       NaN\n",
       "2010-07-01 07:00:00          NaN       NaN       NaN\n",
       "2010-07-01 08:00:00          NaN       NaN       NaN\n",
       "2010-07-01 09:00:00          NaN       NaN       NaN\n",
       "2010-07-01 10:00:00          NaN       NaN       NaN\n",
       "2010-07-01 11:00:00          NaN       NaN       NaN\n",
       "2010-07-01 12:00:00          NaN       NaN       NaN\n",
       "2010-07-01 13:00:00          NaN       NaN       NaN\n",
       "2010-07-01 14:00:00          NaN       NaN       NaN\n",
       "2010-07-01 15:00:00          NaN       NaN       NaN\n",
       "2010-07-01 16:00:00          NaN       NaN       NaN\n",
       "2010-07-01 17:00:00          NaN       NaN       NaN\n",
       "2010-07-01 18:00:00          NaN       NaN       NaN\n",
       "2010-07-01 19:00:00          NaN       NaN       NaN\n",
       "2010-07-01 20:00:00          NaN       NaN       NaN\n",
       "2010-07-01 21:00:00          NaN       NaN       NaN\n",
       "2010-07-01 22:00:00          NaN       NaN       NaN\n",
       "2010-07-01 23:00:00          NaN       NaN       NaN\n",
       "2010-07-02 00:00:00          NaN       NaN       NaN\n",
       "2010-07-02 01:00:00          NaN       NaN       NaN\n",
       "2010-07-02 02:00:00          NaN       NaN       NaN\n",
       "2010-07-02 03:00:00          NaN       NaN       NaN\n",
       "2010-07-02 04:00:00          NaN       NaN       NaN\n",
       "2010-07-02 05:00:00          NaN       NaN       NaN\n",
       "...                          ...       ...       ...\n",
       "2010-07-10 18:00:00          NaN       NaN       NaN\n",
       "2010-07-10 19:00:00          NaN       NaN       NaN\n",
       "2010-07-10 20:00:00          NaN       NaN       NaN\n",
       "2010-07-10 21:00:00          NaN       NaN       NaN\n",
       "2010-07-10 22:00:00          NaN       NaN       NaN\n",
       "2010-07-10 23:00:00          NaN       NaN       NaN\n",
       "2010-07-11 00:00:00         78.0      70.7       1.0\n",
       "2010-07-11 01:00:00         76.5      71.0       1.0\n",
       "2010-07-11 02:00:00         75.7      71.0       1.0\n",
       "2010-07-11 03:00:00         75.1      71.1       1.0\n",
       "2010-07-11 04:00:00         74.7      71.1       1.0\n",
       "2010-07-11 05:00:00         74.3      71.1       1.0\n",
       "2010-07-11 06:00:00         74.5      71.1       1.0\n",
       "2010-07-11 07:00:00         76.2      72.3       1.0\n",
       "2010-07-11 08:00:00         79.4      72.6       1.0\n",
       "2010-07-11 09:00:00         82.4      72.1       1.0\n",
       "2010-07-11 10:00:00         85.4      71.3       1.0\n",
       "2010-07-11 11:00:00         87.6      70.6       1.0\n",
       "2010-07-11 12:00:00         89.8      69.8       1.0\n",
       "2010-07-11 13:00:00         91.1      69.4       1.0\n",
       "2010-07-11 14:00:00         92.2      68.8       1.0\n",
       "2010-07-11 15:00:00         92.8      68.2       1.0\n",
       "2010-07-11 16:00:00         92.7      68.0       1.0\n",
       "2010-07-11 17:00:00         91.9      68.0       1.0\n",
       "2010-07-11 18:00:00         90.6      67.9       1.0\n",
       "2010-07-11 19:00:00         88.2      68.7       1.0\n",
       "2010-07-11 20:00:00         84.8      69.4       1.0\n",
       "2010-07-11 21:00:00         82.5      70.0       1.0\n",
       "2010-07-11 22:00:00         80.6      70.5       1.0\n",
       "2010-07-11 23:00:00         79.0      70.6       1.0\n",
       "\n",
       "[264 rows x 3 columns]"
      ]
     },
     "execution_count": 36,
     "metadata": {},
     "output_type": "execute_result"
    }
   ],
   "source": [
    "#Reindexamos \n",
    "ts3 = ts2.reindex(ts1.index)\n",
    "ts3"
   ]
  },
  {
   "cell_type": "markdown",
   "metadata": {},
   "source": [
    "# Resampling and frequency"
   ]
  },
  {
   "cell_type": "markdown",
   "metadata": {},
   "source": [
    "Pandas dispone de una serie de métodos para reescalar series temporales. Podemos realizar tanto **downsampling** donde lo que hacemos en este caso es pasar de una muestra de rango de días a una muestra de rango de semanas, también podemos hacer uso de la técnica de **upsampling**, en este caso hacemos lo contrario, la forma de realizar ambas muestras es bastante similar. Ambos hacen uso del concepto **método chaining**: df.method1().method2().method3()."
   ]
  },
  {
   "cell_type": "code",
   "execution_count": 39,
   "metadata": {},
   "outputs": [
    {
     "data": {
      "text/plain": [
       "Date\n",
       "2010-01-01 00:00:00    44.200000\n",
       "2010-01-01 06:00:00    45.933333\n",
       "2010-01-01 12:00:00    57.766667\n",
       "2010-01-01 18:00:00    49.450000\n",
       "2010-01-02 00:00:00    44.516667\n",
       "2010-01-02 06:00:00    46.350000\n",
       "2010-01-02 12:00:00    58.366667\n",
       "2010-01-02 18:00:00    49.950000\n",
       "2010-01-03 00:00:00    44.783333\n",
       "2010-01-03 06:00:00    46.483333\n",
       "Freq: 6H, Name: Temperature, dtype: float64"
      ]
     },
     "execution_count": 39,
     "metadata": {},
     "output_type": "execute_result"
    }
   ],
   "source": [
    "#Calculamos la media de temperatura cada 6 horas para cada uno de los días\n",
    "df1 = df['Temperature'].resample('6h').mean()\n",
    "df1.head(10)"
   ]
  },
  {
   "cell_type": "code",
   "execution_count": 40,
   "metadata": {},
   "outputs": [
    {
     "data": {
      "text/plain": [
       "Date\n",
       "2010-01-01    24\n",
       "2010-01-02    24\n",
       "2010-01-03    24\n",
       "2010-01-04    24\n",
       "2010-01-05    24\n",
       "2010-01-06    24\n",
       "2010-01-07    24\n",
       "2010-01-08    24\n",
       "2010-01-09    24\n",
       "2010-01-10    24\n",
       "Freq: D, Name: Temperature, dtype: int64"
      ]
     },
     "execution_count": 40,
     "metadata": {},
     "output_type": "execute_result"
    }
   ],
   "source": [
    "#Calculamos el número de datos registrados cada uno de los días\n",
    "df2 = df['Temperature'].resample('D').count()\n",
    "df2.head(10)"
   ]
  },
  {
   "cell_type": "markdown",
   "metadata": {},
   "source": [
    "# Separating and resampling"
   ]
  },
  {
   "cell_type": "markdown",
   "metadata": {},
   "source": [
    "Con pandas podemos remuestrear nuestros datos de diferente forma. Por ejemplo, podemos remuestrear los datos de diferentes meses con diferentes agregaciones. "
   ]
  },
  {
   "cell_type": "code",
   "execution_count": 41,
   "metadata": {},
   "outputs": [
    {
     "data": {
      "text/plain": [
       "Date\n",
       "2010-08-01    95.0\n",
       "2010-08-02    95.0\n",
       "2010-08-03    95.1\n",
       "2010-08-04    95.1\n",
       "2010-08-05    95.1\n",
       "2010-08-06    95.2\n",
       "2010-08-07    95.3\n",
       "2010-08-08    95.2\n",
       "2010-08-09    95.2\n",
       "2010-08-10    95.1\n",
       "2010-08-11    95.0\n",
       "2010-08-12    94.9\n",
       "2010-08-13    95.0\n",
       "2010-08-14    94.9\n",
       "2010-08-15    94.7\n",
       "2010-08-16    94.7\n",
       "2010-08-17    94.8\n",
       "2010-08-18    94.8\n",
       "2010-08-19    94.8\n",
       "2010-08-20    94.8\n",
       "2010-08-21    94.7\n",
       "2010-08-22    94.6\n",
       "2010-08-23    94.5\n",
       "2010-08-24    94.3\n",
       "2010-08-25    94.1\n",
       "2010-08-26    94.0\n",
       "2010-08-27    93.7\n",
       "2010-08-28    93.5\n",
       "2010-08-29    93.3\n",
       "2010-08-30    93.3\n",
       "2010-08-31    93.1\n",
       "Freq: D, Name: Temperature, dtype: float64"
      ]
     },
     "execution_count": 41,
     "metadata": {},
     "output_type": "execute_result"
    }
   ],
   "source": [
    "#Seleccionamos la temperatura del mes de agosto\n",
    "agosto = df.loc['2010-08']\n",
    "\n",
    "#Vemos la temperatura máxima para cada uno de los días de agosto\n",
    "agosto['Temperature'].resample('D').max()"
   ]
  },
  {
   "cell_type": "code",
   "execution_count": 42,
   "metadata": {},
   "outputs": [
    {
     "data": {
      "text/plain": [
       "Date\n",
       "2010-02-01    43.8\n",
       "2010-02-02    44.3\n",
       "2010-02-03    44.6\n",
       "2010-02-04    44.5\n",
       "2010-02-05    44.3\n",
       "2010-02-06    44.1\n",
       "2010-02-07    44.3\n",
       "2010-02-08    44.7\n",
       "2010-02-09    44.7\n",
       "2010-02-10    44.9\n",
       "2010-02-11    45.2\n",
       "2010-02-12    45.5\n",
       "2010-02-13    46.0\n",
       "2010-02-14    46.6\n",
       "2010-02-15    46.9\n",
       "2010-02-16    47.1\n",
       "2010-02-17    47.2\n",
       "2010-02-18    47.2\n",
       "2010-02-19    47.4\n",
       "2010-02-20    47.7\n",
       "2010-02-21    47.6\n",
       "2010-02-22    47.7\n",
       "2010-02-23    47.7\n",
       "2010-02-24    48.1\n",
       "2010-02-25    48.4\n",
       "2010-02-26    48.5\n",
       "2010-02-27    48.6\n",
       "2010-02-28    48.6\n",
       "Freq: D, Name: Temperature, dtype: float64"
      ]
     },
     "execution_count": 42,
     "metadata": {},
     "output_type": "execute_result"
    }
   ],
   "source": [
    "#Extraemos la temperatura para el mes de febrero\n",
    "febrero = df.loc['2010-02']\n",
    "\n",
    "#Obtenemos la temperatura mínima para cada uno de los días de febrero\n",
    "febrero['Temperature'].resample('D').min()"
   ]
  },
  {
   "cell_type": "markdown",
   "metadata": {},
   "source": [
    "# Rolling mean and frequency"
   ]
  },
  {
   "cell_type": "markdown",
   "metadata": {},
   "source": [
    "Rolling means (medias móviles) es generalmente usado para suavizar las fluctuaciones en cortos espacios de tiempo en los problemas de series temporales. "
   ]
  },
  {
   "cell_type": "code",
   "execution_count": 50,
   "metadata": {},
   "outputs": [
    {
     "data": {
      "image/png": "[encoded data removed]",
      "text/plain": [
       "<matplotlib.figure.Figure at 0x7f26d2309e10>"
      ]
     },
     "metadata": {},
     "output_type": "display_data"
    }
   ],
   "source": [
    "#Seleccinamos los datos desde el 1 al 15 de agosto\n",
    "unsmoothed = df['Temperature']['2010-Aug-01':'2010-Aug-15']\n",
    "\n",
    "#Aplicamos medias moviles con una ventana de 24h\n",
    "smoothed = unsmoothed.rolling(window = 24).mean()\n",
    "\n",
    "#Nos creamos un nuevo dataframe\n",
    "agosto = pd.DataFrame({'smoothed': smoothed, 'unsmoothed':unsmoothed})\n",
    "\n",
    "#Mostraomos los resultados gráficamente\n",
    "agosto.plot()\n",
    "plt.show()"
   ]
  },
  {
   "cell_type": "markdown",
   "metadata": {},
   "source": [
    "# Method chaining and filtering"
   ]
  },
  {
   "cell_type": "markdown",
   "metadata": {},
   "source": [
    "La metodología de encadenamiento se trata de una técnica muy poderosa a la hora de filtrar y limpiar datos. "
   ]
  },
  {
   "cell_type": "code",
   "execution_count": 83,
   "metadata": {},
   "outputs": [
    {
     "data": {
      "text/html": [
       "<div>\n",
       "<style>\n",
       "    .dataframe thead tr:only-child th {\n",
       "        text-align: right;\n",
       "    }\n",
       "\n",
       "    .dataframe thead th {\n",
       "        text-align: left;\n",
       "    }\n",
       "\n",
       "    .dataframe tbody tr th {\n",
       "        vertical-align: top;\n",
       "    }\n",
       "</style>\n",
       "<table border=\"1\" class=\"dataframe\">\n",
       "  <thead>\n",
       "    <tr style=\"text-align: right;\">\n",
       "      <th></th>\n",
       "      <th>Carrier Code</th>\n",
       "      <th>Flight Number</th>\n",
       "      <th>Tail Number</th>\n",
       "      <th>Destination Airport</th>\n",
       "      <th>Scheduled Departure Time</th>\n",
       "      <th>Actual Departure Time</th>\n",
       "      <th>Scheduled Elapsed Time(Minutes)</th>\n",
       "      <th>Actual Elapsed Time(Minutes)</th>\n",
       "      <th>Departure Delay(Minutes)</th>\n",
       "      <th>Wheels-off Time</th>\n",
       "      <th>Taxi-out Time(Minutes)</th>\n",
       "      <th>DelayCarrier(Minutes)</th>\n",
       "      <th>DelayWeather(Minutes)</th>\n",
       "      <th>DelayNational Aviation System(Minutes)</th>\n",
       "      <th>DelaySecurity(Minutes)</th>\n",
       "      <th>DelayLate Aircraft Arrival(Minutes)</th>\n",
       "      <th>Unnamed: 17</th>\n",
       "    </tr>\n",
       "    <tr>\n",
       "      <th>Date (MM/DD/YYYY)</th>\n",
       "      <th></th>\n",
       "      <th></th>\n",
       "      <th></th>\n",
       "      <th></th>\n",
       "      <th></th>\n",
       "      <th></th>\n",
       "      <th></th>\n",
       "      <th></th>\n",
       "      <th></th>\n",
       "      <th></th>\n",
       "      <th></th>\n",
       "      <th></th>\n",
       "      <th></th>\n",
       "      <th></th>\n",
       "      <th></th>\n",
       "      <th></th>\n",
       "      <th></th>\n",
       "    </tr>\n",
       "  </thead>\n",
       "  <tbody>\n",
       "    <tr>\n",
       "      <th>2015-07-31</th>\n",
       "      <td>WN</td>\n",
       "      <td>4819.0</td>\n",
       "      <td>N7741C</td>\n",
       "      <td>PHX</td>\n",
       "      <td>17:25</td>\n",
       "      <td>17:48</td>\n",
       "      <td>150.0</td>\n",
       "      <td>139.0</td>\n",
       "      <td>23.0</td>\n",
       "      <td>17:59</td>\n",
       "      <td>11.0</td>\n",
       "      <td>0.0</td>\n",
       "      <td>0.0</td>\n",
       "      <td>0.0</td>\n",
       "      <td>0.0</td>\n",
       "      <td>0.0</td>\n",
       "      <td>NaN</td>\n",
       "    </tr>\n",
       "    <tr>\n",
       "      <th>2015-07-31</th>\n",
       "      <td>WN</td>\n",
       "      <td>4913.0</td>\n",
       "      <td>N622SW</td>\n",
       "      <td>TPA</td>\n",
       "      <td>11:35</td>\n",
       "      <td>11:32</td>\n",
       "      <td>140.0</td>\n",
       "      <td>150.0</td>\n",
       "      <td>-3.0</td>\n",
       "      <td>11:46</td>\n",
       "      <td>14.0</td>\n",
       "      <td>0.0</td>\n",
       "      <td>0.0</td>\n",
       "      <td>0.0</td>\n",
       "      <td>0.0</td>\n",
       "      <td>0.0</td>\n",
       "      <td>NaN</td>\n",
       "    </tr>\n",
       "    <tr>\n",
       "      <th>2015-07-31</th>\n",
       "      <td>WN</td>\n",
       "      <td>4924.0</td>\n",
       "      <td>N910WN</td>\n",
       "      <td>LAX</td>\n",
       "      <td>16:00</td>\n",
       "      <td>16:51</td>\n",
       "      <td>185.0</td>\n",
       "      <td>176.0</td>\n",
       "      <td>51.0</td>\n",
       "      <td>17:04</td>\n",
       "      <td>13.0</td>\n",
       "      <td>6.0</td>\n",
       "      <td>0.0</td>\n",
       "      <td>0.0</td>\n",
       "      <td>0.0</td>\n",
       "      <td>36.0</td>\n",
       "      <td>NaN</td>\n",
       "    </tr>\n",
       "    <tr>\n",
       "      <th>2015-07-31</th>\n",
       "      <td>WN</td>\n",
       "      <td>4927.0</td>\n",
       "      <td>N8327A</td>\n",
       "      <td>DCA</td>\n",
       "      <td>12:40</td>\n",
       "      <td>13:48</td>\n",
       "      <td>195.0</td>\n",
       "      <td>175.0</td>\n",
       "      <td>68.0</td>\n",
       "      <td>13:59</td>\n",
       "      <td>11.0</td>\n",
       "      <td>0.0</td>\n",
       "      <td>0.0</td>\n",
       "      <td>0.0</td>\n",
       "      <td>0.0</td>\n",
       "      <td>48.0</td>\n",
       "      <td>NaN</td>\n",
       "    </tr>\n",
       "    <tr>\n",
       "      <th>2015-07-31</th>\n",
       "      <td>WN</td>\n",
       "      <td>5888.0</td>\n",
       "      <td>N290WN</td>\n",
       "      <td>DAL</td>\n",
       "      <td>20:00</td>\n",
       "      <td>21:04</td>\n",
       "      <td>55.0</td>\n",
       "      <td>49.0</td>\n",
       "      <td>64.0</td>\n",
       "      <td>21:13</td>\n",
       "      <td>9.0</td>\n",
       "      <td>0.0</td>\n",
       "      <td>0.0</td>\n",
       "      <td>0.0</td>\n",
       "      <td>0.0</td>\n",
       "      <td>58.0</td>\n",
       "      <td>NaN</td>\n",
       "    </tr>\n",
       "  </tbody>\n",
       "</table>\n",
       "</div>"
      ],
      "text/plain": [
       "                    Carrier Code  Flight Number Tail Number  \\\n",
       "Date (MM/DD/YYYY)                                             \n",
       "2015-07-31                    WN         4819.0      N7741C   \n",
       "2015-07-31                    WN         4913.0      N622SW   \n",
       "2015-07-31                    WN         4924.0      N910WN   \n",
       "2015-07-31                    WN         4927.0      N8327A   \n",
       "2015-07-31                    WN         5888.0      N290WN   \n",
       "\n",
       "                  Destination Airport  Scheduled Departure Time  \\\n",
       "Date (MM/DD/YYYY)                                                 \n",
       "2015-07-31                         PHX                    17:25   \n",
       "2015-07-31                         TPA                    11:35   \n",
       "2015-07-31                         LAX                    16:00   \n",
       "2015-07-31                         DCA                    12:40   \n",
       "2015-07-31                         DAL                    20:00   \n",
       "\n",
       "                  Actual Departure Time  Scheduled Elapsed Time(Minutes)  \\\n",
       "Date (MM/DD/YYYY)                                                          \n",
       "2015-07-31                        17:48                            150.0   \n",
       "2015-07-31                        11:32                            140.0   \n",
       "2015-07-31                        16:51                            185.0   \n",
       "2015-07-31                        13:48                            195.0   \n",
       "2015-07-31                        21:04                             55.0   \n",
       "\n",
       "                   Actual Elapsed Time(Minutes)  Departure Delay(Minutes)  \\\n",
       "Date (MM/DD/YYYY)                                                           \n",
       "2015-07-31                                139.0                      23.0   \n",
       "2015-07-31                                150.0                      -3.0   \n",
       "2015-07-31                                176.0                      51.0   \n",
       "2015-07-31                                175.0                      68.0   \n",
       "2015-07-31                                 49.0                      64.0   \n",
       "\n",
       "                  Wheels-off Time  Taxi-out Time(Minutes)  \\\n",
       "Date (MM/DD/YYYY)                                           \n",
       "2015-07-31                  17:59                    11.0   \n",
       "2015-07-31                  11:46                    14.0   \n",
       "2015-07-31                  17:04                    13.0   \n",
       "2015-07-31                  13:59                    11.0   \n",
       "2015-07-31                  21:13                     9.0   \n",
       "\n",
       "                   DelayCarrier(Minutes)  DelayWeather(Minutes)  \\\n",
       "Date (MM/DD/YYYY)                                                 \n",
       "2015-07-31                           0.0                    0.0   \n",
       "2015-07-31                           0.0                    0.0   \n",
       "2015-07-31                           6.0                    0.0   \n",
       "2015-07-31                           0.0                    0.0   \n",
       "2015-07-31                           0.0                    0.0   \n",
       "\n",
       "                   DelayNational Aviation System(Minutes)  \\\n",
       "Date (MM/DD/YYYY)                                           \n",
       "2015-07-31                                            0.0   \n",
       "2015-07-31                                            0.0   \n",
       "2015-07-31                                            0.0   \n",
       "2015-07-31                                            0.0   \n",
       "2015-07-31                                            0.0   \n",
       "\n",
       "                   DelaySecurity(Minutes)  \\\n",
       "Date (MM/DD/YYYY)                           \n",
       "2015-07-31                            0.0   \n",
       "2015-07-31                            0.0   \n",
       "2015-07-31                            0.0   \n",
       "2015-07-31                            0.0   \n",
       "2015-07-31                            0.0   \n",
       "\n",
       "                   DelayLate Aircraft Arrival(Minutes)  Unnamed: 17  \n",
       "Date (MM/DD/YYYY)                                                    \n",
       "2015-07-31                                         0.0          NaN  \n",
       "2015-07-31                                         0.0          NaN  \n",
       "2015-07-31                                        36.0          NaN  \n",
       "2015-07-31                                        48.0          NaN  \n",
       "2015-07-31                                        58.0          NaN  "
      ]
     },
     "execution_count": 83,
     "metadata": {},
     "output_type": "execute_result"
    }
   ],
   "source": [
    "#Cargamos datos\n",
    "df = pd.read_csv('austin_airport_departure_data_2015_july.csv', header = 10, parse_dates=['Date (MM/DD/YYYY)'],\n",
    "                index_col = 'Date (MM/DD/YYYY)')\n",
    "df = df.drop('NaT')\n",
    "#Vemos que los datos se cargaron de forma adecuada\n",
    "df.tail()"
   ]
  },
  {
   "cell_type": "markdown",
   "metadata": {},
   "source": [
    "Si queremos del nombre de nuestras columnas eliminar los espacios en blanco al principio y al final de dicho nombre podemos hacer uso del método **strip()**."
   ]
  },
  {
   "cell_type": "code",
   "execution_count": 84,
   "metadata": {
    "collapsed": true
   },
   "outputs": [],
   "source": [
    "#Eliminamos los espacios en blanco de la cabecera de nuestro conjunto de datos\n",
    "df.columns = df.columns.str.strip()"
   ]
  },
  {
   "cell_type": "markdown",
   "metadata": {},
   "source": [
    "El método **contains()** nos permite determinar que strings contienen un string indicado. Este método nos retorna una serie de igual longitud que el DataFrame original, con el valor de **True** si dicha observación machea con el string indicado y **False** en caso contrario."
   ]
  },
  {
   "cell_type": "code",
   "execution_count": 88,
   "metadata": {},
   "outputs": [],
   "source": [
    "#Vemos los datos que corresponden al aeropuerto de Dallas\n",
    "dallas = df['Destination Airport'].str.contains('DAL')"
   ]
  },
  {
   "cell_type": "code",
   "execution_count": 90,
   "metadata": {},
   "outputs": [
    {
     "data": {
      "text/plain": [
       "count    31.000000\n",
       "mean      9.322581\n",
       "std       1.989759\n",
       "min       3.000000\n",
       "25%       9.500000\n",
       "50%      10.000000\n",
       "75%      10.000000\n",
       "max      11.000000\n",
       "Name: Destination Airport, dtype: float64"
      ]
     },
     "execution_count": 90,
     "metadata": {},
     "output_type": "execute_result"
    }
   ],
   "source": [
    "#Vemos el número de vuelos que salen diariamente del aeropuerto de Dallas\n",
    "daily_departures = dallas.resample('D').sum()\n",
    "\n",
    "#Vemos un resumen estadístico\n",
    "stats = daily_departures.describe()\n",
    "stats"
   ]
  },
  {
   "cell_type": "markdown",
   "metadata": {},
   "source": [
    "# Missing values and interpolation"
   ]
  },
  {
   "cell_type": "markdown",
   "metadata": {},
   "source": [
    "Una aplicación común de la interpolación es la de rellenar los valores perdidos. A continuación procederemos a aplicar la interpolación lineal para rellenar los valores perdidos."
   ]
  },
  {
   "cell_type": "code",
   "execution_count": 120,
   "metadata": {},
   "outputs": [
    {
     "data": {
      "text/plain": [
       "Date\n",
       "2010-07-11 19:00:00    78.8\n",
       "2010-07-11 20:00:00    78.8\n",
       "2010-07-11 21:00:00    78.8\n",
       "2010-07-11 22:00:00    78.8\n",
       "2010-07-11 23:00:00    78.8\n",
       "Name: Temperature, dtype: float64"
      ]
     },
     "execution_count": 120,
     "metadata": {},
     "output_type": "execute_result"
    }
   ],
   "source": [
    "#Cargamos los datos\n",
    "df = pd.read_csv('weather_data_austin_2010.csv', parse_dates=True, index_col = 'Date')\n",
    "\n",
    "#Nos creamos nuestra serie\n",
    "ts1 = df.loc['2010-07-01': '2010-07-11']['Temperature']\n",
    "ts2 = df.loc['2010-07-01': '2010-07-08']['Temperature']\n",
    "\n",
    "#Interpolamos \n",
    "ts3_interpolate = ts2.reindex(ts1.index).interpolate(how = 'linear')\n",
    "ts3_interpolate.tail()"
   ]
  },
  {
   "cell_type": "code",
   "execution_count": 123,
   "metadata": {},
   "outputs": [
    {
     "name": "stdout",
     "output_type": "stream",
     "text": [
      "count    264.000000\n",
      "mean       1.748106\n",
      "std        3.728606\n",
      "min        0.000000\n",
      "25%        0.000000\n",
      "50%        0.000000\n",
      "75%        0.650000\n",
      "max       14.000000\n",
      "Name: Temperature, dtype: float64\n"
     ]
    }
   ],
   "source": [
    "#Vemos la diferencia absoluta entre ts3 interpolado y ts1\n",
    "differences = np.abs(ts1 - ts3_interpolate)\n",
    "\n",
    "#Vemos un descriptivo de estas diferencias\n",
    "print(differences.describe())"
   ]
  },
  {
   "cell_type": "code",
   "execution_count": 130,
   "metadata": {},
   "outputs": [
    {
     "data": {
      "image/png": "[encoded data removed]",
      "text/plain": [
       "<matplotlib.figure.Figure at 0x7f26d22d8f28>"
      ]
     },
     "metadata": {},
     "output_type": "display_data"
    }
   ],
   "source": [
    "#Vemos la distribución de la diferencias\n",
    "differences.plot(kind = 'box')\n",
    "plt.show()"
   ]
  },
  {
   "cell_type": "markdown",
   "metadata": {},
   "source": [
    "# Time zones and conversion"
   ]
  },
  {
   "cell_type": "markdown",
   "metadata": {},
   "source": [
    "Cuando trabajamos con zonas horarias en Pandas, este asume que se está usando como índice la fecha. En el siguiente ejercicio veremos como manejar zonas horarias en columnas y no en índices."
   ]
  },
  {
   "cell_type": "code",
   "execution_count": 140,
   "metadata": {
    "scrolled": true
   },
   "outputs": [
    {
     "data": {
      "text/html": [
       "<div>\n",
       "<style>\n",
       "    .dataframe thead tr:only-child th {\n",
       "        text-align: right;\n",
       "    }\n",
       "\n",
       "    .dataframe thead th {\n",
       "        text-align: left;\n",
       "    }\n",
       "\n",
       "    .dataframe tbody tr th {\n",
       "        vertical-align: top;\n",
       "    }\n",
       "</style>\n",
       "<table border=\"1\" class=\"dataframe\">\n",
       "  <thead>\n",
       "    <tr style=\"text-align: right;\">\n",
       "      <th></th>\n",
       "      <th>Carrier Code</th>\n",
       "      <th>Date (MM/DD/YYYY)</th>\n",
       "      <th>Flight Number</th>\n",
       "      <th>Tail Number</th>\n",
       "      <th>Destination Airport</th>\n",
       "      <th>Scheduled Departure Time</th>\n",
       "      <th>Actual Departure Time</th>\n",
       "      <th>Scheduled Elapsed Time(Minutes)</th>\n",
       "      <th>Actual Elapsed Time(Minutes)</th>\n",
       "      <th>Departure Delay(Minutes)</th>\n",
       "      <th>Wheels-off Time</th>\n",
       "      <th>Taxi-out Time(Minutes)</th>\n",
       "      <th>DelayCarrier(Minutes)</th>\n",
       "      <th>DelayWeather(Minutes)</th>\n",
       "      <th>DelayNational Aviation System(Minutes)</th>\n",
       "      <th>DelaySecurity(Minutes)</th>\n",
       "      <th>DelayLate Aircraft Arrival(Minutes)</th>\n",
       "      <th>Unnamed: 17</th>\n",
       "    </tr>\n",
       "  </thead>\n",
       "  <tbody>\n",
       "    <tr>\n",
       "      <th>1737</th>\n",
       "      <td>WN</td>\n",
       "      <td>07/31/2015</td>\n",
       "      <td>4924.0</td>\n",
       "      <td>N910WN</td>\n",
       "      <td>LAX</td>\n",
       "      <td>16:00</td>\n",
       "      <td>16:51</td>\n",
       "      <td>185.0</td>\n",
       "      <td>176.0</td>\n",
       "      <td>51.0</td>\n",
       "      <td>17:04</td>\n",
       "      <td>13.0</td>\n",
       "      <td>6.0</td>\n",
       "      <td>0.0</td>\n",
       "      <td>0.0</td>\n",
       "      <td>0.0</td>\n",
       "      <td>36.0</td>\n",
       "      <td>NaN</td>\n",
       "    </tr>\n",
       "    <tr>\n",
       "      <th>1738</th>\n",
       "      <td>WN</td>\n",
       "      <td>07/31/2015</td>\n",
       "      <td>4927.0</td>\n",
       "      <td>N8327A</td>\n",
       "      <td>DCA</td>\n",
       "      <td>12:40</td>\n",
       "      <td>13:48</td>\n",
       "      <td>195.0</td>\n",
       "      <td>175.0</td>\n",
       "      <td>68.0</td>\n",
       "      <td>13:59</td>\n",
       "      <td>11.0</td>\n",
       "      <td>0.0</td>\n",
       "      <td>0.0</td>\n",
       "      <td>0.0</td>\n",
       "      <td>0.0</td>\n",
       "      <td>48.0</td>\n",
       "      <td>NaN</td>\n",
       "    </tr>\n",
       "    <tr>\n",
       "      <th>1739</th>\n",
       "      <td>WN</td>\n",
       "      <td>07/31/2015</td>\n",
       "      <td>5888.0</td>\n",
       "      <td>N290WN</td>\n",
       "      <td>DAL</td>\n",
       "      <td>20:00</td>\n",
       "      <td>21:04</td>\n",
       "      <td>55.0</td>\n",
       "      <td>49.0</td>\n",
       "      <td>64.0</td>\n",
       "      <td>21:13</td>\n",
       "      <td>9.0</td>\n",
       "      <td>0.0</td>\n",
       "      <td>0.0</td>\n",
       "      <td>0.0</td>\n",
       "      <td>0.0</td>\n",
       "      <td>58.0</td>\n",
       "      <td>NaN</td>\n",
       "    </tr>\n",
       "  </tbody>\n",
       "</table>\n",
       "</div>"
      ],
      "text/plain": [
       "     Carrier Code Date (MM/DD/YYYY)  Flight Number Tail Number  \\\n",
       "1737           WN        07/31/2015         4924.0      N910WN   \n",
       "1738           WN        07/31/2015         4927.0      N8327A   \n",
       "1739           WN        07/31/2015         5888.0      N290WN   \n",
       "\n",
       "     Destination Airport Scheduled Departure Time Actual Departure Time  \\\n",
       "1737                 LAX                    16:00                 16:51   \n",
       "1738                 DCA                    12:40                 13:48   \n",
       "1739                 DAL                    20:00                 21:04   \n",
       "\n",
       "      Scheduled Elapsed Time(Minutes)  Actual Elapsed Time(Minutes)  \\\n",
       "1737                            185.0                         176.0   \n",
       "1738                            195.0                         175.0   \n",
       "1739                             55.0                          49.0   \n",
       "\n",
       "      Departure Delay(Minutes) Wheels-off Time  Taxi-out Time(Minutes)  \\\n",
       "1737                      51.0           17:04                    13.0   \n",
       "1738                      68.0           13:59                    11.0   \n",
       "1739                      64.0           21:13                     9.0   \n",
       "\n",
       "      DelayCarrier(Minutes)  DelayWeather(Minutes)  \\\n",
       "1737                    6.0                    0.0   \n",
       "1738                    0.0                    0.0   \n",
       "1739                    0.0                    0.0   \n",
       "\n",
       "      DelayNational Aviation System(Minutes)  DelaySecurity(Minutes)  \\\n",
       "1737                                     0.0                     0.0   \n",
       "1738                                     0.0                     0.0   \n",
       "1739                                     0.0                     0.0   \n",
       "\n",
       "      DelayLate Aircraft Arrival(Minutes)  Unnamed: 17  \n",
       "1737                                 36.0          NaN  \n",
       "1738                                 48.0          NaN  \n",
       "1739                                 58.0          NaN  "
      ]
     },
     "execution_count": 140,
     "metadata": {},
     "output_type": "execute_result"
    }
   ],
   "source": [
    "#Cargamos los datos\n",
    "df = pd.read_csv('austin_airport_departure_data_2015_july.csv', header = 10)\n",
    "df.columns = df.columns.str.strip()\n",
    "df = df.drop(1740)\n",
    "#Vemos que se ha realizado la carga de forma correcta\n",
    "df.tail(3)"
   ]
  },
  {
   "cell_type": "code",
   "execution_count": 142,
   "metadata": {},
   "outputs": [
    {
     "name": "stdout",
     "output_type": "stream",
     "text": [
      "['LAX']\n"
     ]
    }
   ],
   "source": [
    "#Filtramos por los vuelos dirigios a Los Ángeles\n",
    "LA = df[df['Destination Airport'].str.contains('LAX')]\n",
    "\n",
    "#Comprobamos que el filtrado se hizo de forma adecuada\n",
    "print(LA['Destination Airport'].unique())"
   ]
  },
  {
   "cell_type": "code",
   "execution_count": 156,
   "metadata": {},
   "outputs": [
    {
     "data": {
      "text/plain": [
       "33    2015-07-01 05:43:00\n",
       "55    2015-07-01 16:27:00\n",
       "91    2015-07-02 05:47:00\n",
       "113   2015-07-02 16:23:00\n",
       "134   2015-07-03 05:30:00\n",
       "dtype: datetime64[ns]"
      ]
     },
     "execution_count": 156,
     "metadata": {},
     "output_type": "execute_result"
    }
   ],
   "source": [
    "#Concatenamos las columnas 'Date (MM/DD/YYYY)' y 'Wheels-off Time' mediante un espacio en blanco y las pasamos a tipo\n",
    "#fecha\n",
    "times_tz_zone = pd.to_datetime(LA['Date (MM/DD/YYYY)'] + ' ' + LA['Wheels-off Time'])\n",
    "times_tz_zone.head()"
   ]
  },
  {
   "cell_type": "code",
   "execution_count": 157,
   "metadata": {},
   "outputs": [
    {
     "data": {
      "text/plain": [
       "33    2015-07-01 05:43:00-05:00\n",
       "55    2015-07-01 16:27:00-05:00\n",
       "91    2015-07-02 05:47:00-05:00\n",
       "113   2015-07-02 16:23:00-05:00\n",
       "134   2015-07-03 05:30:00-05:00\n",
       "dtype: datetime64[ns, US/Central]"
      ]
     },
     "execution_count": 157,
     "metadata": {},
     "output_type": "execute_result"
    }
   ],
   "source": [
    "#Hacemos uso del método Series.dt.tz_localize() para localizar la zona horaria 'US/Central'\n",
    "times_tz_central = times_tz_zone.dt.tz_localize('US/Central')\n",
    "times_tz_central.head()"
   ]
  },
  {
   "cell_type": "code",
   "execution_count": 158,
   "metadata": {},
   "outputs": [
    {
     "data": {
      "text/plain": [
       "33    2015-07-01 03:43:00-07:00\n",
       "55    2015-07-01 14:27:00-07:00\n",
       "91    2015-07-02 03:47:00-07:00\n",
       "113   2015-07-02 14:23:00-07:00\n",
       "134   2015-07-03 03:30:00-07:00\n",
       "dtype: datetime64[ns, US/Pacific]"
      ]
     },
     "execution_count": 158,
     "metadata": {},
     "output_type": "execute_result"
    }
   ],
   "source": [
    "#Hacemos uso del método Series.df.tz_convert() para transformar de 'US/Central' a 'US/Pacific'\n",
    "times_tz_pacific = times_tz_central.dt.tz_convert('US/Pacific')\n",
    "times_tz_pacific.head()"
   ]
  },
  {
   "cell_type": "markdown",
   "metadata": {},
   "source": [
    "# Plotting time series, datetime indexing"
   ]
  },
  {
   "cell_type": "markdown",
   "metadata": {},
   "source": [
    "Pandas también nos permite representar mediante plots nuestras series temporales."
   ]
  },
  {
   "cell_type": "code",
   "execution_count": 161,
   "metadata": {},
   "outputs": [
    {
     "data": {
      "text/html": [
       "<div>\n",
       "<style>\n",
       "    .dataframe thead tr:only-child th {\n",
       "        text-align: right;\n",
       "    }\n",
       "\n",
       "    .dataframe thead th {\n",
       "        text-align: left;\n",
       "    }\n",
       "\n",
       "    .dataframe tbody tr th {\n",
       "        vertical-align: top;\n",
       "    }\n",
       "</style>\n",
       "<table border=\"1\" class=\"dataframe\">\n",
       "  <thead>\n",
       "    <tr style=\"text-align: right;\">\n",
       "      <th></th>\n",
       "      <th>Temperature</th>\n",
       "      <th>DewPoint</th>\n",
       "      <th>Pressure</th>\n",
       "    </tr>\n",
       "    <tr>\n",
       "      <th>Date</th>\n",
       "      <th></th>\n",
       "      <th></th>\n",
       "      <th></th>\n",
       "    </tr>\n",
       "  </thead>\n",
       "  <tbody>\n",
       "    <tr>\n",
       "      <th>2010-01-01 00:00:00</th>\n",
       "      <td>46.2</td>\n",
       "      <td>37.5</td>\n",
       "      <td>1.0</td>\n",
       "    </tr>\n",
       "    <tr>\n",
       "      <th>2010-01-01 01:00:00</th>\n",
       "      <td>44.6</td>\n",
       "      <td>37.1</td>\n",
       "      <td>1.0</td>\n",
       "    </tr>\n",
       "    <tr>\n",
       "      <th>2010-01-01 02:00:00</th>\n",
       "      <td>44.1</td>\n",
       "      <td>36.9</td>\n",
       "      <td>1.0</td>\n",
       "    </tr>\n",
       "    <tr>\n",
       "      <th>2010-01-01 03:00:00</th>\n",
       "      <td>43.8</td>\n",
       "      <td>36.9</td>\n",
       "      <td>1.0</td>\n",
       "    </tr>\n",
       "    <tr>\n",
       "      <th>2010-01-01 04:00:00</th>\n",
       "      <td>43.5</td>\n",
       "      <td>36.8</td>\n",
       "      <td>1.0</td>\n",
       "    </tr>\n",
       "  </tbody>\n",
       "</table>\n",
       "</div>"
      ],
      "text/plain": [
       "                     Temperature  DewPoint  Pressure\n",
       "Date                                                \n",
       "2010-01-01 00:00:00         46.2      37.5       1.0\n",
       "2010-01-01 01:00:00         44.6      37.1       1.0\n",
       "2010-01-01 02:00:00         44.1      36.9       1.0\n",
       "2010-01-01 03:00:00         43.8      36.9       1.0\n",
       "2010-01-01 04:00:00         43.5      36.8       1.0"
      ]
     },
     "execution_count": 161,
     "metadata": {},
     "output_type": "execute_result"
    }
   ],
   "source": [
    "#Cargamos los datos\n",
    "df = pd.read_csv('weather_data_austin_2010.csv', parse_dates=True, index_col = 'Date')\n",
    "\n",
    "#Vemos que se cargaron de forma correcta\n",
    "df.head()"
   ]
  },
  {
   "cell_type": "code",
   "execution_count": 164,
   "metadata": {},
   "outputs": [
    {
     "data": {
      "image/png": "[encoded data removed]",
      "text/plain": [
       "<matplotlib.figure.Figure at 0x7f26d21aeba8>"
      ]
     },
     "metadata": {},
     "output_type": "display_data"
    }
   ],
   "source": [
    "#Visualizamos los resultados\n",
    "df['Temperature'].iloc[0:744].plot()\n",
    "plt.show()"
   ]
  },
  {
   "cell_type": "markdown",
   "metadata": {},
   "source": [
    "# Plotting date ranges, partial indexing"
   ]
  },
  {
   "cell_type": "code",
   "execution_count": 165,
   "metadata": {},
   "outputs": [
    {
     "data": {
      "image/png": "[encoded data removed]",
      "text/plain": [
       "<matplotlib.figure.Figure at 0x7f26d19e4f98>"
      ]
     },
     "metadata": {},
     "output_type": "display_data"
    }
   ],
   "source": [
    "#Mostramos la temperatura de los meses de junio julio y agosto\n",
    "df.loc['2010-Jun':'2010-Aug', 'Temperature'].plot()\n",
    "plt.show()\n",
    "plt.clf()"
   ]
  }
 ],
 "metadata": {
  "kernelspec": {
   "display_name": "Python 3",
   "language": "python",
   "name": "python3"
  },
  "language_info": {
   "codemirror_mode": {
    "name": "ipython",
    "version": 3
   },
   "file_extension": ".py",
   "mimetype": "text/x-python",
   "name": "python",
   "nbconvert_exporter": "python",
   "pygments_lexer": "ipython3",
   "version": "3.6.3"
  }
 },
 "nbformat": 4,
 "nbformat_minor": 2
}
