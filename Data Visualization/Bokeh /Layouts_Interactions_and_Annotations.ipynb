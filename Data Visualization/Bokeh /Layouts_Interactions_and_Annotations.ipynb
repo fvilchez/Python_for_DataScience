{
 "cells": [
  {
   "cell_type": "markdown",
   "metadata": {},
   "source": [
    "# Creating rows of plots"
   ]
  },
  {
   "cell_type": "markdown",
   "metadata": {},
   "source": [
    "Layouts son colecciones de objetos figuras Bokeh. Podemos hacer uso del método **row()** para crear en un mismo layout dos plots."
   ]
  },
  {
   "cell_type": "code",
   "execution_count": 22,
   "metadata": {},
   "outputs": [],
   "source": [
    "from bokeh.plotting import figure, ColumnDataSource\n",
    "from bokeh.io import output_file, show\n",
    "from bokeh.layouts import row, column, gridplot\n",
    "from bokeh.models.widgets import Panel, Tabs\n",
    "import pandas as pd\n",
    "from bokeh.models import HoverTool"
   ]
  },
  {
   "cell_type": "code",
   "execution_count": 2,
   "metadata": {
    "collapsed": true
   },
   "outputs": [],
   "source": [
    "#Cargamos los datos \n",
    "df = pd.read_csv('literacy_birth_rate.csv')\n",
    "\n",
    "#Nos creamos nuestro objeto de tipo ColumnDataSource\n",
    "source = ColumnDataSource(df)\n",
    "\n",
    "#Nos creamos nuestra figura\n",
    "p1 = figure(x_axis_label = 'fertility (children per woman)', y_axis_label = 'female_literacy (% population)')\n",
    "p1.circle(x = 'fertility', y = 'female literacy', source = source)\n",
    "\n",
    "p2 = figure(x_axis_label = 'population', y_axis_label = 'female literacy (% population)')\n",
    "p2.circle(x = 'population', y = 'female literacy', source = source)\n",
    "\n",
    "#Nos creamos nuestro layout\n",
    "layout = row(p1,p2)\n",
    "\n",
    "#Nos creamos nuestro fichero de salida\n",
    "output_file('layout_row.html')\n",
    "\n",
    "#Vemos el resultado \n",
    "show(layout)"
   ]
  },
  {
   "cell_type": "markdown",
   "metadata": {},
   "source": [
    "# Creating columns of plots"
   ]
  },
  {
   "cell_type": "markdown",
   "metadata": {},
   "source": [
    "Igual que hemos creado layouts en filas, podemos crear layout en columnas, para ello contamos con el método **column()**."
   ]
  },
  {
   "cell_type": "code",
   "execution_count": 3,
   "metadata": {
    "collapsed": true
   },
   "outputs": [],
   "source": [
    "#Nos generamos el layout de tipo columna\n",
    "layout = column(p1,p2)\n",
    "\n",
    "#Nos generamos el fichero de salida\n",
    "output_file('layout_column.html')\n",
    "\n",
    "#Vemos el resultado \n",
    "show(layout)"
   ]
  },
  {
   "cell_type": "markdown",
   "metadata": {},
   "source": [
    "# Nesting rows and columns of plots"
   ]
  },
  {
   "cell_type": "markdown",
   "metadata": {},
   "source": [
    "Podemos crear layouts que combinen los métodos **column** y **row**. A continuación vamos a proceder a crearnos un gráfico de tipo línea donde se muestre el promedio de mpg por año. Y dos gráficoos de tipo scatter plot que nos permitan ver hp vs mpg y weight vs mpg."
   ]
  },
  {
   "cell_type": "code",
   "execution_count": 23,
   "metadata": {
    "collapsed": true
   },
   "outputs": [],
   "source": [
    "#Cargamos los datos \n",
    "df = pd.read_csv('auto-mpg.csv')\n",
    "\n",
    "####################################### Creamos el gráfico de tipo línea ###########################################\n",
    "\n",
    "#Obtenemos el promedio de mpg por año\n",
    "df_meanmpg_year = pd.DataFrame(df.mpg.groupby(df.yr).mean()).reset_index(level = 0)\n",
    "\n",
    "#Nos creamos nuestro objeto ColumnDataSource\n",
    "source_1 = ColumnDataSource(df_meanmpg_year)\n",
    "\n",
    "#Nos creamos nuestra primera figura\n",
    "p1 = figure(x_axis_label = 'year', y_axis_label = 'mean mpg')\n",
    "\n",
    "#Agregamos nuestro glyph tipo línea\n",
    "p1.line('yr', 'mpg', source = source_1)\n",
    "\n",
    "######################################## Nos creamos los scatter plots ############################################\n",
    "\n",
    "#Nos creamos nuestro objeto de tipo ColumnDataSource\n",
    "source_2 = ColumnDataSource(df)\n",
    "\n",
    "#Nos creamos nuestra figura que muestre hp vs mpg\n",
    "p2 = figure(x_axis_label = 'hp', y_axis_label = 'mpg')\n",
    "\n",
    "#Agregamos nuestro glyph tipo scatter\n",
    "p2.circle(x = 'hp', y = 'mpg', source = source_2)\n",
    "\n",
    "#Nos creamos nuestra tercera figura\n",
    "p3 = figure(x_axis_label = 'weight', y_axis_label = 'mpg')\n",
    "\n",
    "#Agregamos nuestro glyph de tipo scatter\n",
    "p3.circle(x = 'weight', y = 'mpg', source = source_2)\n",
    "\n",
    "############## Generamos el layout\n",
    "layout = row(p1, column(p2,p3))\n",
    "\n",
    "#Generamos el fichero de salida\n",
    "output_file('layout.html')\n",
    "\n",
    "#Vemos el resultado\n",
    "show(layout)"
   ]
  },
  {
   "cell_type": "markdown",
   "metadata": {},
   "source": [
    "# Creating gridded layouts"
   ]
  },
  {
   "cell_type": "markdown",
   "metadata": {},
   "source": [
    "Bokeh nos permite crear grids regulares a partir de **gridplot**."
   ]
  },
  {
   "cell_type": "code",
   "execution_count": 58,
   "metadata": {
    "collapsed": true
   },
   "outputs": [],
   "source": [
    "#Cargamos los datos\n",
    "df = pd.read_csv('auto-mpg.csv')\n",
    "################################ Nos creamos la figura para los coches de color rojo ##############################\n",
    "\n",
    "#Filtramos los datos\n",
    "df_red_color = df.query('color == \"red\"')\n",
    "\n",
    "#Nos generamos el elemento de tipo ColumDataSource\n",
    "red_source = ColumnDataSource(df_red_color)\n",
    "\n",
    "#Nos creamos la figura\n",
    "fig_red = figure(x_axis_label = 'hp', y_axis_label = 'mpg')\n",
    "\n",
    "#Generamos el glyph de tipo scatter\n",
    "fig_red.circle(x = 'hp', y = 'mpg', source = red_source, color = 'red')\n",
    "\n",
    "################################## Nos creamos la figura para los coches en color azul ############################\n",
    "\n",
    "#Filtramos los datos\n",
    "df_blue_color = df.query('color == \"blue\"')\n",
    "\n",
    "#Nos generamos el elemento de tipo ColumnDataSource\n",
    "blue_source = ColumnDataSource(df_blue_color)\n",
    "\n",
    "#Nos creamos la figura\n",
    "fig_blue = figure(x_axis_label = 'hp', y_axis_label = 'mpg')\n",
    "\n",
    "#Generamos el glyph de tipo scatter\n",
    "fig_blue.circle(x = 'hp', y = 'mpg', source = blue_source, color = 'blue')\n",
    "\n",
    "################################# Nos creamos la figura para los coches de color verde ############################\n",
    "\n",
    "#Filtramos datos\n",
    "df_green_color = df.query('color == \"green\"')\n",
    "\n",
    "#Nos generamos el elemento de tipo ColumnDataSource\n",
    "green_source = ColumnDataSource(df_green_color)\n",
    "\n",
    "#Nos generamos la figura\n",
    "fig_green = figure(x_axis_label = 'hp', y_axis_label = 'mpg')\n",
    "\n",
    "#Generamos el glyph de tipo scatter\n",
    "fig_green.circle(x = 'hp', y = 'mpg', source = green_source, color = 'green')\n",
    "\n",
    "######################################### Nos generamos nuestro grid plot #########################################\n",
    "layout = gridplot([[fig_red, fig_green], [fig_blue, None]])\n",
    "\n",
    "#Generamos el fichero de salida\n",
    "output_file('gridplot.html')\n",
    "\n",
    "#Vemos el resultado\n",
    "show(layout)"
   ]
  },
  {
   "cell_type": "markdown",
   "metadata": {},
   "source": [
    "# Starting tabbed layouts"
   ]
  },
  {
   "cell_type": "markdown",
   "metadata": {},
   "source": [
    "Layouts de tipo tabbed pueden ser creados a partir de paneles."
   ]
  },
  {
   "cell_type": "code",
   "execution_count": 66,
   "metadata": {
    "collapsed": true
   },
   "outputs": [],
   "source": [
    "#Nos creamos nuestros paneles\n",
    "tab1 = Panel(child = fig_red, title = 'Red Cars')\n",
    "tab2 = Panel(child = fig_blue, title = 'Blue Cars')\n",
    "tab3 = Panel(child = fig_green, title = 'Green Cars')\n",
    "\n",
    "#Creamos nuestro layout de tipo tab\n",
    "layout_tab = Tabs(tabs = [tab1, tab2,tab3])\n",
    "\n",
    "#Nos creamos nuestro fichero de salida\n",
    "output_file('tabs_layout.html')\n",
    "\n",
    "#Vemos el resultado\n",
    "show(layout_tab)"
   ]
  },
  {
   "cell_type": "markdown",
   "metadata": {},
   "source": [
    "# Linked axes"
   ]
  },
  {
   "cell_type": "markdown",
   "metadata": {},
   "source": [
    "Dado un conjunto de gráficos podemos lincar los ejes, de forma que cuando hacemos zoom en un determinado gráfico este zoom también se ve afectado exactamente en la misma zona en el resto de gráficos."
   ]
  },
  {
   "cell_type": "code",
   "execution_count": 10,
   "metadata": {
    "collapsed": true
   },
   "outputs": [],
   "source": [
    "#Cargamos los datos\n",
    "df = pd.read_csv('auto-mpg.csv')\n",
    "################################ Nos creamos la figura para los coches de color rojo ##############################\n",
    "\n",
    "#Filtramos los datos\n",
    "df_red_color = df.query('color == \"red\"')\n",
    "\n",
    "#Nos generamos el elemento de tipo ColumDataSource\n",
    "red_source = ColumnDataSource(df_red_color)\n",
    "\n",
    "#Nos creamos la figura\n",
    "fig_red = figure(x_axis_label = 'hp', y_axis_label = 'mpg')\n",
    "\n",
    "#Generamos el glyph de tipo scatter\n",
    "fig_red.circle(x = 'hp', y = 'mpg', source = red_source, color = 'red')\n",
    "\n",
    "################################## Nos creamos la figura para los coches en color azul ############################\n",
    "\n",
    "#Filtramos los datos\n",
    "df_blue_color = df.query('color == \"blue\"')\n",
    "\n",
    "#Nos generamos el elemento de tipo ColumnDataSource\n",
    "blue_source = ColumnDataSource(df_blue_color)\n",
    "\n",
    "#Nos creamos la figura\n",
    "fig_blue = figure(x_axis_label = 'hp', y_axis_label = 'mpg')\n",
    "\n",
    "#Generamos el glyph de tipo scatter\n",
    "fig_blue.circle(x = 'hp', y = 'mpg', source = blue_source, color = 'blue')\n",
    "\n",
    "\n",
    "################################################ Lincamos los ejes ###############################################\n",
    "\n",
    "#Lincamos por el eje x\n",
    "fig_red.x_range = fig_blue.x_range\n",
    "\n",
    "#Generamos el gridplot\n",
    "layout = gridplot([[fig_red, fig_blue]])\n",
    "\n",
    "#Mostramos el resultaod\n",
    "show(layout)"
   ]
  },
  {
   "cell_type": "markdown",
   "metadata": {
    "collapsed": true
   },
   "source": [
    "# Linked brushing"
   ]
  },
  {
   "cell_type": "markdown",
   "metadata": {
    "collapsed": true
   },
   "source": [
    "Si tenemos figuras que comparten el mismo objeto ColumnDataSource, entonces herramientas como BoxSelect o LassoSelect quedan automáticamente lincadas."
   ]
  },
  {
   "cell_type": "code",
   "execution_count": 14,
   "metadata": {},
   "outputs": [],
   "source": [
    "#Cargamos los datos\n",
    "df = pd.read_csv('auto-mpg.csv')\n",
    "\n",
    "#Nos creamos nuestro objeto de tipo ColumnDataSource\n",
    "source = ColumnDataSource(df)\n",
    "\n",
    "#Nos creamos la primera figura donde dibujaremos hp vs mpg\n",
    "p1 = figure(x_axis_label = 'hp', y_axis_label = 'mpg', title = 'hp vs mpg', tools = 'box_select, lasso_select')\n",
    "\n",
    "#Agregamos glyph\n",
    "p1.circle(x = 'hp', y = 'mpg', source = source)\n",
    "\n",
    "#Nos creamos la segunda figura\n",
    "p2 = figure(x_axis_label = 'hp', y_axis_label = 'accel', title = 'hp vs accel', tools = 'box_select, lasso_select')\n",
    "\n",
    "#Agregamos glyph\n",
    "p2.circle(x = 'hp', y = 'accel', source = source)\n",
    "\n",
    "layout = row(p1,p2)\n",
    "\n",
    "show(layout)"
   ]
  },
  {
   "cell_type": "markdown",
   "metadata": {},
   "source": [
    "# How to create legends"
   ]
  },
  {
   "cell_type": "markdown",
   "metadata": {},
   "source": [
    "Podemos agregar leyendas en nuestro glyph usando el argumento **legend**, dentro de nuestros glyphs."
   ]
  },
  {
   "cell_type": "code",
   "execution_count": 37,
   "metadata": {
    "collapsed": true
   },
   "outputs": [],
   "source": [
    "#Cargamos los datos\n",
    "df = pd.read_csv('literacy_birth_rate.csv')\n",
    "df.columns = ['Country', 'Continent', 'female literacy', 'fertility', 'population']\n",
    "\n",
    "#Procedemos a filtrar los países de Europa y  de Asia\n",
    "df_europa = df.query('Continent == \"EUR\"')\n",
    "df_asia = df.query('Continent == \"ASI\"')\n",
    "\n",
    "#Nos creamos nuestros objetos de tipo ColumnDataSource\n",
    "source_europa = ColumnDataSource(df_europa)\n",
    "source_asia = ColumnDataSource(df_asia)\n",
    "\n",
    "#Nos creamos la figura\n",
    "p = figure(x_axis_label = 'fertility', y_axis_label = 'female literacy')\n",
    "\n",
    "#Agregamos nuestro glyphs\n",
    "p.circle(x = 'fertility', y = 'female literacy', source = source_europa, size = 10, color = 'blue', \n",
    "         legend = 'Europa')\n",
    "p.circle(x = 'fertility', y = 'female literacy', source = source_asia, size = 10, color = 'yellow',\n",
    "        legend = 'Asia')\n",
    "\n",
    "show(p)"
   ]
  },
  {
   "cell_type": "markdown",
   "metadata": {},
   "source": [
    "# Positioning and styling legends"
   ]
  },
  {
   "cell_type": "markdown",
   "metadata": {},
   "source": [
    "Las propiedades de la leyenda pueden ser cambiadas usando el atributo **legend** de nuestra figura en Bokeh."
   ]
  },
  {
   "cell_type": "code",
   "execution_count": 38,
   "metadata": {
    "collapsed": true
   },
   "outputs": [],
   "source": [
    "#Cambiamos el posicionamiento de la leyenda\n",
    "p.legend.location = 'bottom_left'\n",
    "\n",
    "#Cambiamos el color de fonde de la leyenda\n",
    "p.legend.background_fill_color = 'lightgray'\n",
    "p.legend.background_fill_alpha = 0.5\n",
    "\n",
    "show(p)"
   ]
  },
  {
   "cell_type": "markdown",
   "metadata": {},
   "source": [
    "# Adding a hover tooltip"
   ]
  },
  {
   "cell_type": "markdown",
   "metadata": {},
   "source": [
    "Trabajar con la herramienta **Hover tool** es bastante sencillo cuando trabajamos con objetos de tipo **ColumnDataSource**. "
   ]
  },
  {
   "cell_type": "code",
   "execution_count": 39,
   "metadata": {},
   "outputs": [],
   "source": [
    "hover = HoverTool(tooltips = [('Country', '@Country')])\n",
    "\n",
    "p.add_tools(hover)\n",
    "\n",
    "show(p)"
   ]
  }
 ],
 "metadata": {
  "kernelspec": {
   "display_name": "Python 3",
   "language": "python",
   "name": "python3"
  },
  "language_info": {
   "codemirror_mode": {
    "name": "ipython",
    "version": 3
   },
   "file_extension": ".py",
   "mimetype": "text/x-python",
   "name": "python",
   "nbconvert_exporter": "python",
   "pygments_lexer": "ipython3",
   "version": "3.6.3"
  }
 },
 "nbformat": 4,
 "nbformat_minor": 2
}
