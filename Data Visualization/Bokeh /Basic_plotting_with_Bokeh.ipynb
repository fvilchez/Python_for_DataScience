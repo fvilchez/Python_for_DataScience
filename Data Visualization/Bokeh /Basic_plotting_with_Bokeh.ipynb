{
 "cells": [
  {
   "cell_type": "code",
   "execution_count": 2,
   "metadata": {
    "collapsed": true
   },
   "outputs": [],
   "source": [
    "from bokeh.plotting import figure, ColumnDataSource\n",
    "from bokeh.io import output_file, show\n",
    "import pandas as pd\n",
    "from bokeh.models import CategoricalColorMapper"
   ]
  },
  {
   "cell_type": "markdown",
   "metadata": {},
   "source": [
    "# What are glyphs?"
   ]
  },
  {
   "cell_type": "markdown",
   "metadata": {},
   "source": [
    "En bokeh, las propiedades de las formas son llamadas glyphs. Las propiedades visuales de estos glyphs tales como posición o color, pueden ser asignadas mediante valores simples, por ejemplo, x = 10 o fill_color = 'red'."
   ]
  },
  {
   "cell_type": "markdown",
   "metadata": {},
   "source": [
    "# A simple scatter plot"
   ]
  },
  {
   "cell_type": "markdown",
   "metadata": {},
   "source": [
    "A continuación vamos a proceder a realizar un simple **scatter plot**."
   ]
  },
  {
   "cell_type": "code",
   "execution_count": 11,
   "metadata": {
    "collapsed": true
   },
   "outputs": [],
   "source": [
    "#Cargamos los datos \n",
    "df = pd.read_csv('literacy_birth_rate.csv')\n",
    "\n",
    "#Obtenemos aquellas columnas que queremos representar\n",
    "literacy = df.loc[:, 'female literacy'].values\n",
    "fertility = df.loc[:, 'fertility'].values\n",
    "\n",
    "#Nos creamos nuestra figura p\n",
    "p = figure(x_axis_label = 'fertility (children per woman)', y_axis_label = 'female literacy (% population)')\n",
    "\n",
    "#Agregamos un glyph de tipo círculo a nuestra figura \n",
    "p.circle(fertility, literacy)\n",
    "\n",
    "#Guardamos el resultado en un fichero html\n",
    "output_file('fertility_vs_literacy.html')\n",
    "\n",
    "#mostramos el resultado\n",
    "show(p)"
   ]
  },
  {
   "cell_type": "markdown",
   "metadata": {},
   "source": [
    "# A scatter plot with different shapes"
   ]
  },
  {
   "cell_type": "markdown",
   "metadata": {},
   "source": [
    "Podemos mostrar múltiples conjuntos de datos en una misma figura. Para esto basta con llamar a múltiples glyphs en una misma figura. Vamos a mostrar lo visto anteriormente pero dos regiones diferentes: África y Latino América."
   ]
  },
  {
   "cell_type": "code",
   "execution_count": 24,
   "metadata": {
    "collapsed": true
   },
   "outputs": [],
   "source": [
    "#Obtenemos los datos que necesitamos\n",
    "literacy_latinoamerica = df[df.Continent == 'LAT'].loc[:, 'female literacy'].values\n",
    "fertility_latinoamerica = df[df.Continent == 'LAT'].loc[:, 'fertility'].values\n",
    "\n",
    "literacy_africa = df[df.Continent == 'AF'].loc[:, 'female literacy'].values\n",
    "fertility_africa = df[df.Continent == 'AF'].loc[:, 'fertility'].values\n",
    "\n",
    "#Nos creamos la figura\n",
    "p = figure(x_axis_label = 'fertility', y_axis_label = 'literacy')\n",
    "\n",
    "#Agregamos un glyph de tipo círculo\n",
    "p.circle(fertility_latinoamerica, literacy_latinoamerica)\n",
    "\n",
    "#Agregamos un glyph de tipo cruz\n",
    "p.x(fertility_africa, literacy_africa)\n",
    "\n",
    "#Guardamos el resultado en un archivo html\n",
    "output_file('fertility_vs_literacy_Africa_vs_Latinoamerica.html')\n",
    "\n",
    "#Mostramos el resultado\n",
    "show(p)"
   ]
  },
  {
   "cell_type": "markdown",
   "metadata": {},
   "source": [
    "# Customizing your scatter plots"
   ]
  },
  {
   "cell_type": "markdown",
   "metadata": {},
   "source": [
    "Los tres argumentos más importantes a la hora de personalizar nuestros glyphs son: color, tamaño y transparencia. Bokeh acepta colores como strings en hexadecimal, tuplas de valores RGB entre 0 y 255, y cualquiera de los 147 CSS colores.El tamaño viene dado por el tamaño de la pantalla, si toma el valor 100 quiere decir que ocupa toda la pantalla. Finalmente el parámetro alpha controla la transparencia de nuestro glyph, toma valores entre 0 y 1. Siendo 0 totalmente transparente y 1 completamente opaco."
   ]
  },
  {
   "cell_type": "code",
   "execution_count": 25,
   "metadata": {
    "collapsed": true
   },
   "outputs": [],
   "source": [
    "#Nos creamos nuestra figura\n",
    "p = figure(x_axis_label = 'fertility', y_axis_label = 'literacy')\n",
    "\n",
    "#Agregamos un glyph de tipo circular de color azul, tamaño 10 y nivel de transparencia 0.8\n",
    "p.circle(fertility_latinoamerica, literacy_latinoamerica, color = 'blue', size = 10, alpha = 0.8)\n",
    "\n",
    "#Agregamos un glyph de tipo circular de color rojo, tamaño 10 y nivel de transparencia 0.8\n",
    "p.circle(fertility_africa, literacy_africa, color = 'red', size = 10, alpha = 0.8)\n",
    "\n",
    "#Nos creamos nuestro fichero de salida\n",
    "output_file('fertility_vs_literacy_Africa_vs_Latinoamerica_personalizado.html')\n",
    "\n",
    "show(p)"
   ]
  },
  {
   "cell_type": "markdown",
   "metadata": {},
   "source": [
    "# Lines"
   ]
  },
  {
   "cell_type": "markdown",
   "metadata": {},
   "source": [
    "Bokeh nos permite crear gráficos de línea, para ello dispones del glyph tipo **line()**."
   ]
  },
  {
   "cell_type": "code",
   "execution_count": 31,
   "metadata": {
    "collapsed": true
   },
   "outputs": [],
   "source": [
    "#Cargamos los datos\n",
    "df = pd.read_csv('aapl.csv', parse_dates = ['date'])\n",
    "\n",
    "#Nos quedamos con aquellas columnas que nos queremos quedar\n",
    "date = df.date.values\n",
    "price = df.adj_close.values\n",
    "\n",
    "#Nos creamos figura\n",
    "p = figure(x_axis_type = 'datetime', x_axis_label = 'Date', y_axis_label = 'price')\n",
    "\n",
    "#Nos creamos nuestro glyph de tipo línea\n",
    "p.line(date, price)\n",
    "\n",
    "#Nos generamos nuestro archivo de salida\n",
    "output_file('line_basic_plot.html')\n",
    "\n",
    "show(p)"
   ]
  },
  {
   "cell_type": "markdown",
   "metadata": {},
   "source": [
    "# Lines and markers"
   ]
  },
  {
   "cell_type": "markdown",
   "metadata": {},
   "source": [
    "Como ya hemos visto en una misma figura podemos mezclar distintos glyphs."
   ]
  },
  {
   "cell_type": "code",
   "execution_count": 34,
   "metadata": {
    "collapsed": true
   },
   "outputs": [],
   "source": [
    "#Noss creamos la figura\n",
    "p = figure(x_axis_type = 'datetime', x_axis_label = 'Date', y_axis_label = 'price')\n",
    "\n",
    "#Nos creamos nuestro glyph de tipo línea\n",
    "p.line(date, price)\n",
    "\n",
    "#Nos creamos un glyph de tipo circular\n",
    "p.circle(date, price, fill_color = 'white', size = 4)\n",
    "\n",
    "#Nos generamos nuestro archivo de salida\n",
    "output_file('line_plus_circle.html')\n",
    "\n",
    "show(p)"
   ]
  },
  {
   "cell_type": "markdown",
   "metadata": {},
   "source": [
    "# Patches"
   ]
  },
  {
   "cell_type": "markdown",
   "metadata": {},
   "source": [
    "Mediante los glyphs de tipo **patches** podemos crear una gran cantidad de formas. Los **patches** toman como entrada una colección de listas dentro de una lista con valores que especificar los vértices en la direcciones x e y."
   ]
  },
  {
   "cell_type": "code",
   "execution_count": 36,
   "metadata": {
    "collapsed": true
   },
   "outputs": [],
   "source": [
    "#Nos generamos los vérticas de nuestra figura\n",
    "xs = [[1,5,5,1], [2,4,4,2], [1,3,5]]\n",
    "ys = [[1,1,5,5], [1,1,3,3], [5,9,5]]\n",
    "\n",
    "#Nos generamos nuestra figura\n",
    "plot = figure()\n",
    "\n",
    "#Nos generamos los glyphs\n",
    "plot.patches(xs, ys, fill_color = ['red', 'brown', 'black'], line_color = 'white')\n",
    "\n",
    "#Nos creamos nuestro fichero de salida\n",
    "output_file('patches_house.html')\n",
    "\n",
    "#Mostramos el resultado\n",
    "show(plot)"
   ]
  },
  {
   "cell_type": "markdown",
   "metadata": {},
   "source": [
    "El principal potencial de los patches es a la hora de crear mapas. Es decir, dadas unas coordenadas geográficas podemos generar un mapa."
   ]
  },
  {
   "cell_type": "markdown",
   "metadata": {},
   "source": [
    "# ColumnDataSource"
   ]
  },
  {
   "cell_type": "markdown",
   "metadata": {},
   "source": [
    "Los objetos **ColumnDataSource** sono objetos tipo tabla que lo que hacen es mapear nombres de columnas en una secuencia de datos. Una cosa que debemos tener muy claro es que todos los elementos de un objeto de tipo **ColumnDataSource** deben tener exactamente la misma longitud."
   ]
  },
  {
   "cell_type": "markdown",
   "metadata": {},
   "source": [
    "Podemos crear un objeto de tipo **ColumnDataSource** directamente a partir de un objeto de tipo DataFrame."
   ]
  },
  {
   "cell_type": "code",
   "execution_count": 41,
   "metadata": {
    "collapsed": true
   },
   "outputs": [],
   "source": [
    "#Cargamos los datos\n",
    "df = pd.read_csv('sprint.csv')\n",
    "\n",
    "#Nos creamos objeto de tipo ColumnDataSource\n",
    "source = ColumnDataSource(df)\n",
    "\n",
    "#Nos creamos la figura\n",
    "p = figure(x_axis_label = 'Year', y_axis_label = 'Time')\n",
    "\n",
    "#Nos creamos un glyph de tipo círculo\n",
    "p.circle(x = 'Year', y = 'Time', color = 'color', size = 8, source = source)\n",
    "\n",
    "#Nos creamos el fichero de salida\n",
    "output_file('basic_example_ColumnDataSource.html')\n",
    "\n",
    "#Vemos el resultado\n",
    "show(p)"
   ]
  },
  {
   "cell_type": "markdown",
   "metadata": {},
   "source": [
    "# Selection and non-selection glyphs (box_select and lasso_select)"
   ]
  },
  {
   "cell_type": "markdown",
   "metadata": {},
   "source": [
    "A continuación vamos a agregar la herramienta **box_select**, esta herramienta nos permite mostrar puntos seleccionados de un determinado color y los puntos no seleccionados de un color diferente. "
   ]
  },
  {
   "cell_type": "code",
   "execution_count": 44,
   "metadata": {
    "collapsed": true
   },
   "outputs": [],
   "source": [
    "#Nos creamos la figura con las herramientas\n",
    "p = figure(x_axis_label = 'Year', y_axis_label = 'Time', tools = ['box_select', 'lasso_select'])\n",
    "\n",
    "#Nos creamos el glyph circular\n",
    "p.circle(x = 'Year', y = 'Time', selection_color = 'red', nonselection_alpha = 0.1, source = source)\n",
    "\n",
    "#Nos creamos el fichero de salida\n",
    "output_file('box_select_tool.html')\n",
    "\n",
    "show(p)"
   ]
  },
  {
   "cell_type": "markdown",
   "metadata": {},
   "source": [
    "# Hover glyphs"
   ]
  },
  {
   "cell_type": "markdown",
   "metadata": {},
   "source": [
    "Los glyphs tipo Hover se tratan de inspectores de gráficos. "
   ]
  },
  {
   "cell_type": "code",
   "execution_count": 48,
   "metadata": {
    "collapsed": true
   },
   "outputs": [],
   "source": [
    "from bokeh.models import HoverTool \n",
    "\n",
    "#Ejemplo básico de hline\n",
    "hover = HoverTool(tooltips = None, mode = 'hline')\n",
    "\n",
    "#Nos creamos la figura y agregamos la herramienta hover\n",
    "p = figure(tools = [hover, 'crosshair'])\n",
    "\n",
    "#Nos creamos el glyph tipo círculo\n",
    "p.circle(x = 'Year', y = 'Time', color = 'color', size = 8, source = source, hover_color = 'red')\n",
    "\n",
    "#Nos creamos el fichero de salida\n",
    "output_file('hovertool.html')\n",
    "\n",
    "show(p)"
   ]
  },
  {
   "cell_type": "code",
   "execution_count": 66,
   "metadata": {},
   "outputs": [
    {
     "name": "stderr",
     "output_type": "stream",
     "text": [
      "E-1001 (BAD_COLUMN_NAME): Glyph refers to nonexistent column name: glucose, indice [renderer: GlyphRenderer(id='b1327ab4-a834-4cbd-9544-4b76062ff2f7', ...)]\n"
     ]
    }
   ],
   "source": [
    "#Ejemplo en modo vline\n",
    "\n",
    "#Cargamos los datos\n",
    "df = pd.read_csv('glucose.csv')\n",
    "df['indice'] = df.index\n",
    "\n",
    "#Nos creamos objeti tipo ColumnDataSource\n",
    "source = ColumnDataSource(df)\n",
    "\n",
    "#Nos creamos la figura\n",
    "p = figure(x_axis_label = 'ms', y_axis_label = 'glucose')\n",
    "\n",
    "#Nos creamos el glyph de tipo círculo\n",
    "p.circle(x = 'indice', y = 'glucose', size = 10, fill_color = 'grey', alpha = 0.1, line_color = None,\n",
    "        hover_fill_color = 'firebrick', hover_alpha = 0.5, hover_line_color = 'white', source = source)\n",
    "\n",
    "#Nos creamos la herramiento hover\n",
    "hover = HoverTool(tooltips = None, mode = 'vline')\n",
    "\n",
    "#Agregamos la herramienta a la figura\n",
    "p.add_tools(hover)\n",
    "\n",
    "#Nos creamos el fichero de salida\n",
    "output_file('advanced_hovertool.html')\n",
    "\n",
    "#Vemos el resultado\n",
    "show(p)"
   ]
  },
  {
   "cell_type": "markdown",
   "metadata": {},
   "source": [
    "# Colormapping"
   ]
  },
  {
   "cell_type": "markdown",
   "metadata": {},
   "source": [
    "**CategoricalColorMapper** nos permite colorear de distintos colores nuestros glyphs, por ejemplo, nos permite colorear en función de un valor categórico."
   ]
  },
  {
   "cell_type": "code",
   "execution_count": 6,
   "metadata": {},
   "outputs": [
    {
     "name": "stderr",
     "output_type": "stream",
     "text": [
      "E-1001 (BAD_COLUMN_NAME): Glyph refers to nonexistent column name: mpg, origin, weight [renderer: GlyphRenderer(id='26ac19ea-fd15-4aeb-a839-b251ffa47abc', ...)]\n",
      "E-1001 (BAD_COLUMN_NAME): Glyph refers to nonexistent column name: mpg, origin, weight [renderer: GlyphRenderer(id='2c70bfde-49c6-42ab-8f62-df6a9b180059', ...)]\n"
     ]
    }
   ],
   "source": [
    "#Cargamos los datos\n",
    "df = pd.read_csv('auto-mpg.csv')\n",
    "\n",
    "#Nos creamos nuestro objeto de tipo ColumnDataSource\n",
    "source = ColumnDataSource(df)\n",
    "\n",
    "#Nos creamos la figura\n",
    "p = figure(x_axis_label = 'weight(lbs)', y_axis_label = 'miler-per-gallon')\n",
    "\n",
    "#Nos creamos nuestro objeto de tipo ColorMapper\n",
    "color_mapper = CategoricalColorMapper(factors = ['Europe', 'Asia', 'US'],\n",
    "                                     palette = ['red', 'green', 'blue'])\n",
    "\n",
    "#Agregamos nuestro glyph\n",
    "p.circle(x = 'weight', y = 'mpg',\n",
    "         color = {'field': 'origin', 'transform':color_mapper},\n",
    "        legend = 'origin',\n",
    "        source = source)\n",
    "\n",
    "#Nos creamos nuestro fichero de salid\n",
    "output_file('CategoricalColorMapper.html')\n",
    "\n",
    "#Vemos el resultado\n",
    "show(p)"
   ]
  }
 ],
 "metadata": {
  "kernelspec": {
   "display_name": "Python 3",
   "language": "python",
   "name": "python3"
  },
  "language_info": {
   "codemirror_mode": {
    "name": "ipython",
    "version": 3
   },
   "file_extension": ".py",
   "mimetype": "text/x-python",
   "name": "python",
   "nbconvert_exporter": "python",
   "pygments_lexer": "ipython3",
   "version": "3.6.3"
  }
 },
 "nbformat": 4,
 "nbformat_minor": 2
}
