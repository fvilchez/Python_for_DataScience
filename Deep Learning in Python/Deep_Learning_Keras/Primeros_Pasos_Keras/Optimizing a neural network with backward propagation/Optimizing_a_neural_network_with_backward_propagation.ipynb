{
 "cells": [
  {
   "cell_type": "markdown",
   "metadata": {},
   "source": [
    "# Coding how weight changes affect accuracy"
   ]
  },
  {
   "cell_type": "markdown",
   "metadata": {},
   "source": [
    "A continuación vamos a ver como podemos hacer que los pesos de nuestra red se vayan actualizando de forma que impacten en la precisión de nuestro modelo."
   ]
  },
  {
   "cell_type": "code",
   "execution_count": 6,
   "metadata": {},
   "outputs": [
    {
     "name": "stdout",
     "output_type": "stream",
     "text": [
      "(6, 0)\n"
     ]
    }
   ],
   "source": [
    "import numpy as np \n",
    "\n",
    "#Nos definimos la función de activación de ReLU\n",
    "def relu(input):\n",
    "    output = max(0, input)\n",
    "    return(output)\n",
    "\n",
    "#Generamos la función que nos permite predecir valores para el caso de una sola capa oculta\n",
    "def predict_with_network(input_data_row, weights):\n",
    "    \n",
    "    #Calculamos los resultados para el nodo 0\n",
    "    node_0_input = (weights[\"node_0\"] * input_data_row).sum()\n",
    "    node_0_output = relu(node_0_input)\n",
    "    \n",
    "    #Calculamos los resultados para el nodo 1\n",
    "    node_1_input = (weights[\"node_1\"] * input_data_row).sum()\n",
    "    node_1_output = relu(node_1_input)\n",
    "    \n",
    "    #Unimos los resultados\n",
    "    hidden_layer_output = np.array([node_0_output, node_1_output])\n",
    "    \n",
    "    #Retornamos el valor predicho\n",
    "    return((weights[\"output\"] * hidden_layer_output).sum())\n",
    "\n",
    "\n",
    "#Nos generamos los datos de entrada\n",
    "input_data = np.array([0, 3])\n",
    "\n",
    "#Nos generamos los pesos de la red iniciales\n",
    "weights_0 = {'node_0': [2, 1],\n",
    "             'node_1': [1, 2],\n",
    "             'output': [1, 1]\n",
    "            }\n",
    "\n",
    "#Fijamos el target actual\n",
    "target_actual = 3\n",
    "\n",
    "#Obtenemos las predicciones para los pesos inciales\n",
    "predicted_value_0 = predict_with_network(input_data,weights_0)\n",
    "\n",
    "#Calculamos el error\n",
    "error_0 = predicted_value_0 - target_actual\n",
    "\n",
    "#Modificamos los pesos para obtener la predicción perfecta \n",
    "weights_1 = {'node_0': [2, 1],\n",
    "             'node_1': [1, 2],\n",
    "             'output': [1, 0]\n",
    "            }\n",
    "\n",
    "#Obtenemos la salida con los nuevos pesos\n",
    "predicted_value_1 = predict_with_network(input_data, weights_1)\n",
    "\n",
    "#Vemos el error\n",
    "error_1 = predicted_value_1 - target_actual\n",
    "\n",
    "#Mostramos los errores\n",
    "print((error_0, error_1))"
   ]
  },
  {
   "cell_type": "markdown",
   "metadata": {},
   "source": [
    "# Scaling up to multiple data points"
   ]
  },
  {
   "cell_type": "markdown",
   "metadata": {},
   "source": [
    "Ahora que ya sabemos que en función de los pesos tenemos diferentes predicciones para una observación, vamos a continuación a calcular las predicciones para múltiples puntos para unos pesos determinados. Para obtener el error vamos a proceder a usar la función **mean_squared_error** de la librería **skelearn.metrics**."
   ]
  },
  {
   "cell_type": "code",
   "execution_count": 9,
   "metadata": {},
   "outputs": [
    {
     "name": "stdout",
     "output_type": "stream",
     "text": [
      "Mean squared error weights_0 : %f 37.5\n",
      "Mean squared error weights_1 : %f 49.890625\n"
     ]
    }
   ],
   "source": [
    "from sklearn.metrics import mean_squared_error\n",
    "\n",
    "#Nos generamos los datos de entrada \n",
    "input_data = [np.array([0, 3]), np.array([1, 2]), np.array([-1, -2]), np.array([4, 0])]\n",
    "\n",
    "#Nos generamos las targets actuales\n",
    "target_actual = [1, 3, 5, 7] \n",
    "\n",
    "#Generamos el conjuntos de pesos que queremos evaluar\n",
    "weights_0 = {\"node_0\": np.array([2, 1]), \"node_1\": np.array([1, 2]), \"output\": np.array([1, 1])}\n",
    "weights_1 = {\"node_0\": np.array([2, 1]), \"node_1\": np.array([1., 1.5]), \"output\": np.array([1., 1.5])}\n",
    "\n",
    "#Generamos los resultados para ambos conjuntos de pesos\n",
    "model_output_weights_0 = [predict_with_network(value, weights_0) for value in input_data]\n",
    "model_output_weights_1 = [predict_with_network(value, weights_1) for value in input_data]\n",
    "\n",
    "#Calculamos el mse para ambos resultados\n",
    "error_weights_0 = mean_squared_error(target_actual, model_output_weights_0)\n",
    "error_weights_1 = mean_squared_error(target_actual, model_output_weights_1)\n",
    "\n",
    "#Mostramos los resultados\n",
    "print(\"Mean squared error weights_0 : %f\", error_weights_0)\n",
    "print(\"Mean squared error weights_1 : %f\", error_weights_1)"
   ]
  },
  {
   "cell_type": "code",
   "execution_count": 22,
   "metadata": {},
   "outputs": [
    {
     "data": {
      "text/plain": [
       "[1, 3, 5, 7]"
      ]
     },
     "execution_count": 22,
     "metadata": {},
     "output_type": "execute_result"
    }
   ],
   "source": []
  },
  {
   "cell_type": "markdown",
   "metadata": {},
   "source": [
    "# Calculating slopes"
   ]
  },
  {
   "cell_type": "markdown",
   "metadata": {},
   "source": [
    "Vamos a proceder a practicar con el cálculo de las pendientes. La pendiente es ** 2\\*x\\*(y-xb)** o **2\\*input_data\\*error** . Donde x e b pueden ser múltiples valores (x es un vector para cada punto de entrada y b es un vector), en este caso nuestra salida será un vector. A continuación vamos a proceder a realizar el proceso teniendo en cuenta un único punto de entrada."
   ]
  },
  {
   "cell_type": "code",
   "execution_count": 10,
   "metadata": {},
   "outputs": [
    {
     "name": "stdout",
     "output_type": "stream",
     "text": [
      "[14 28 42]\n"
     ]
    }
   ],
   "source": [
    "#Nos creamos nuestro array de pesos\n",
    "weights = np.array([0, 2, 1])\n",
    "\n",
    "#Nos creamos nuestros datos de entrada\n",
    "input_data = np.array([1, 2, 3])\n",
    "\n",
    "#Nos creamos la etiquete a predecir\n",
    "target = 0\n",
    "\n",
    "#Obtenemos nuestra predicción\n",
    "preds = (weights * input_data).sum()\n",
    "\n",
    "#Obtenemos el error, corresponde con y - xb\n",
    "error = preds - target\n",
    "\n",
    "#Obtenemos la pendiente \n",
    "slope = 2 * input_data * error\n",
    "\n",
    "#Mostramos le resultado\n",
    "print(slope)"
   ]
  },
  {
   "cell_type": "markdown",
   "metadata": {},
   "source": [
    "# Improving model weights"
   ]
  },
  {
   "cell_type": "markdown",
   "metadata": {},
   "source": [
    "Una vez tenemos las pendientes calculadas, podemos usarlas para mejorar nuestro modelo. Si añadimos las pendientes a nuestro modelo entonces nos moveremos en la dirección adecuada. Sin embargo, es posible que avancemos en demasiado en dicha dirección. Nuestro objetivo es avanzar dando pequeños pasos hacia la dirección adecuada (agregando un ratio de aprendizaje bajo) y ver que nuestro modelo mejora."
   ]
  },
  {
   "cell_type": "code",
   "execution_count": 11,
   "metadata": {},
   "outputs": [
    {
     "name": "stdout",
     "output_type": "stream",
     "text": [
      "7\n",
      "5.04\n"
     ]
    }
   ],
   "source": [
    "#Fijamos una tasa de aprendizaje pequeña \n",
    "learning_rate = 0.01\n",
    "\n",
    "#Actualizamos los pesos\n",
    "weights_updated = weights - learning_rate * slope\n",
    "\n",
    "#Volvemos a realizar las predicciones\n",
    "preds_updated = (weights_updated * input_data).sum()\n",
    "\n",
    "#Calculamos el nuevo error\n",
    "error_updated = preds_updated - target\n",
    "\n",
    "#Mostramos los errores\n",
    "print(error)\n",
    "print(error_updated)"
   ]
  },
  {
   "cell_type": "markdown",
   "metadata": {},
   "source": [
    "# Making multiple updates to weights"
   ]
  },
  {
   "cell_type": "markdown",
   "metadata": {},
   "source": [
    "A continuación vamos a proceder a actualizar los pesos de forma múltiple hasta conseguir un resultado óptimo. En este caso vamos a crear una red que no tiene ningún tipo de capa oculta."
   ]
  },
  {
   "cell_type": "code",
   "execution_count": 31,
   "metadata": {},
   "outputs": [
    {
     "data": {
      "image/png": "[encoded data removed]",
      "text/plain": [
       "<matplotlib.figure.Figure at 0x7fd4a78a5b38>"
      ]
     },
     "metadata": {},
     "output_type": "display_data"
    }
   ],
   "source": [
    "import matplotlib.pyplot as plt\n",
    "\n",
    "def get_slope(input_data, target, weights):\n",
    "    \"\"\"Función que dado un conjunto de entrada nos permite obtener la pendiente para cada uno de los puntos del\n",
    "    conjunto de entrada\"\"\"\n",
    "    preds = (weights * input_data).sum()\n",
    "    error = preds - target\n",
    "    return 2 * input_data * error\n",
    "\n",
    "def get_mse(input_data, target, weights):\n",
    "    \"\"\"Función que nos permite calcular el error cuadrático medio\"\"\"\n",
    "    preds = (weights * input_data).sum()\n",
    "    error = preds - target\n",
    "    return(error ** 2)\n",
    "        \n",
    "#Fijamos el número de iteracioens, datos de entrada y pesos inciales\n",
    "n_iter = 20\n",
    "input_data = np.array([1, 2, 3])\n",
    "weights = np.array([0, 2, 1])\n",
    "\n",
    "mse_hist = []\n",
    "\n",
    "for i in range(n_iter):\n",
    "    slope = get_slope(input_data, target,  weights)\n",
    "    weights = weights - 0.01 * slope\n",
    "    mse = get_mse(input_data, target, weights)\n",
    "    mse_hist.append(mse)\n",
    "\n",
    "plt.plot(mse_hist)\n",
    "plt.xlabel('Iterations')\n",
    "plt.ylabel('Mean Squared Error')\n",
    "plt.show()"
   ]
  }
 ],
 "metadata": {
  "kernelspec": {
   "display_name": "Python 3",
   "language": "python",
   "name": "python3"
  },
  "language_info": {
   "codemirror_mode": {
    "name": "ipython",
    "version": 3
   },
   "file_extension": ".py",
   "mimetype": "text/x-python",
   "name": "python",
   "nbconvert_exporter": "python",
   "pygments_lexer": "ipython3",
   "version": "3.6.3"
  }
 },
 "nbformat": 4,
 "nbformat_minor": 2
}
