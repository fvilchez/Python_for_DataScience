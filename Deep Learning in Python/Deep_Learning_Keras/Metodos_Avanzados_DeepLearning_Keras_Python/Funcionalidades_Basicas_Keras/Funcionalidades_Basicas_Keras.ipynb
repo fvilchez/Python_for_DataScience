{
 "cells": [
  {
   "cell_type": "markdown",
   "metadata": {},
   "source": [
    "# Capas de entrada y densidad en Keras"
   ]
  },
  {
   "cell_type": "markdown",
   "metadata": {},
   "source": [
    "## Capa de entrada"
   ]
  },
  {
   "cell_type": "markdown",
   "metadata": {},
   "source": [
    "El primer paso a la hora de crear un modelo de red neuronal es definir la capa de entrada. Este capa toma cada una de las filas de nuestros datos, usualmente en forma de array. El tamaño de esta capa de entrada queda definido por el número de variables que queremos hacer uso a la hora de realizar predicciones con nuestra red neuronal. \n",
    "\n",
    "Para ello la función **Input()** dispone del parámetro **shape** que recibe como entrada una tupla donde le indicamos el tamaño de nuestra capa de entrada. Por ejemplo, si quieremos que nuestra red tengo un tamaño 10 debemos de hacer uso de la notación:\n",
    "\n",
    "<code>\n",
    "Input(shape = (10,))\n",
    "<code>"
   ]
  },
  {
   "cell_type": "code",
   "execution_count": 4,
   "metadata": {
    "collapsed": true
   },
   "outputs": [],
   "source": [
    "from keras.layers import Input\n",
    "#Generamos la capa de entrada\n",
    "input_tensor = Input(shape = (1,))"
   ]
  },
  {
   "cell_type": "markdown",
   "metadata": {},
   "source": [
    "## Capas de densidad (Dense Layers)"
   ]
  },
  {
   "cell_type": "markdown",
   "metadata": {},
   "source": [
    "Una vez hemos creado nuestra capa de entrada, el siguiente paso es hacer uso de las capas de densidad. Estas capas llamadas capas de densidad serán las encargadas de aprender la matriz de pesos, la primera dimensión de esta matriz de pesos será la dimensión de la capa de entrada y la segunda dimensión corresponderá con los datos de salida."
   ]
  },
  {
   "cell_type": "code",
   "execution_count": 5,
   "metadata": {
    "collapsed": true
   },
   "outputs": [],
   "source": [
    "from keras.layers import Dense\n",
    "\n",
    "#Generamos una sola capa de densidad\n",
    "output_layer = Dense(1)\n",
    "\n",
    "#Conectamos la capa de densidad con la capa de entrada\n",
    "output_tensor = output_layer(input_tensor)"
   ]
  },
  {
   "cell_type": "markdown",
   "metadata": {},
   "source": [
    "## Capas de salida (Output Layers)"
   ]
  },
  {
   "cell_type": "markdown",
   "metadata": {},
   "source": [
    "Las capas de salidad no son más que capas densas. Estas capas son usadas para reducir la dimensión de la capa de entrada a la dimensión de la capa de salida."
   ]
  },
  {
   "cell_type": "markdown",
   "metadata": {},
   "source": [
    "# Construyendo y compilando un modelo"
   ]
  },
  {
   "cell_type": "markdown",
   "metadata": {},
   "source": [
    "## Construyendo un modelo"
   ]
  },
  {
   "cell_type": "markdown",
   "metadata": {},
   "source": [
    "Una vez tenemos definidas nuestras capas de entrada y de salida, ya estamos listos para crear nuestro modelo en Keras. Mediante el objeto tipo modelo (Model), le decimos a Keras las capas de entrada y las capas de salida."
   ]
  },
  {
   "cell_type": "code",
   "execution_count": 7,
   "metadata": {
    "collapsed": true
   },
   "outputs": [],
   "source": [
    "from keras.models import Model \n",
    "\n",
    "#Generamos nuestro objeto tipo Model \n",
    "model = Model(input_tensor, output_tensor)"
   ]
  },
  {
   "cell_type": "markdown",
   "metadata": {},
   "source": [
    "## Compilando un modelo"
   ]
  },
  {
   "cell_type": "markdown",
   "metadata": {},
   "source": [
    "El paso final para poder crear un model es compilarlo. Durante la compilación debemos de especificar el optimizador , y la función de perdidas. El optimizador de **adam** se trata de un buen de optimizador que se puede usar por defecto. La función de perdidas dependerá del tipo de problema que estemos resolviendo. El error cuadrático medio es una función de pérdidas usada de forma común y optimiza la predicción de la media. Por otro lado, el mae (mean absolute error) optimiza la mediana. "
   ]
  },
  {
   "cell_type": "code",
   "execution_count": 8,
   "metadata": {
    "collapsed": true
   },
   "outputs": [],
   "source": [
    "#Compilamos el modelo\n",
    "model.compile(optimizer='adam', loss='mean_absolute_error')"
   ]
  },
  {
   "cell_type": "markdown",
   "metadata": {},
   "source": [
    "## Visualizar el modelo"
   ]
  },
  {
   "cell_type": "markdown",
   "metadata": {},
   "source": [
    "Una vez hemos compilado el modelo, podemos ver un resumen de nuestro modelo. Para hacer esto lo podemos ver mediante un resumen o mediante una visualización. "
   ]
  },
  {
   "cell_type": "code",
   "execution_count": 9,
   "metadata": {},
   "outputs": [
    {
     "name": "stdout",
     "output_type": "stream",
     "text": [
      "_________________________________________________________________\n",
      "Layer (type)                 Output Shape              Param #   \n",
      "=================================================================\n",
      "input_1 (InputLayer)         (None, 1)                 0         \n",
      "_________________________________________________________________\n",
      "dense_1 (Dense)              (None, 1)                 2         \n",
      "=================================================================\n",
      "Total params: 2\n",
      "Trainable params: 2\n",
      "Non-trainable params: 0\n",
      "_________________________________________________________________\n"
     ]
    }
   ],
   "source": [
    "#Vemos un summary de nuestro modelo\n",
    "model.summary()"
   ]
  },
  {
   "cell_type": "code",
   "execution_count": 12,
   "metadata": {},
   "outputs": [],
   "source": [
    "#Vemos una visualización\n",
    "#from keras.utils import plot_model\n",
    "#import matplotlib.pyplot as plt\n",
    "\n",
    "#plot_model(model, to_file = 'model.png')\n",
    "\n",
    "#Vemos la imagen \n",
    "#data = plt.imread('model.png')\n",
    "#plt.imshow(data)\n",
    "#plt.show()"
   ]
  },
  {
   "cell_type": "markdown",
   "metadata": {},
   "source": [
    "# Fijando el modelo"
   ]
  },
  {
   "cell_type": "markdown",
   "metadata": {},
   "source": [
    "Una vez hemos compilado los datos ya estamos listos para proceder a fijar los datos. "
   ]
  },
  {
   "cell_type": "code",
   "execution_count": 22,
   "metadata": {},
   "outputs": [
    {
     "name": "stdout",
     "output_type": "stream",
     "text": [
      "Train on 3087 samples, validate on 343 samples\n",
      "Epoch 1/3\n",
      "3087/3087 [==============================] - 0s 7us/step - loss: 13.3524 - val_loss: 12.5044\n",
      "Epoch 2/3\n",
      "3087/3087 [==============================] - 0s 9us/step - loss: 13.2405 - val_loss: 12.4025\n",
      "Epoch 3/3\n",
      "3087/3087 [==============================] - 0s 8us/step - loss: 13.1321 - val_loss: 12.3061\n"
     ]
    },
    {
     "data": {
      "text/plain": [
       "<keras.callbacks.History at 0x7fe81fd652e8>"
      ]
     },
     "execution_count": 22,
     "metadata": {},
     "output_type": "execute_result"
    }
   ],
   "source": [
    "#Cargamos los datos\n",
    "import pandas as pd\n",
    "\n",
    "df = pd.read_csv('games_tourney.csv')\n",
    "\n",
    "train = df[df.season < 2012]\n",
    "test = df[df.season >=2012]\n",
    "\n",
    "#Fijamos el modelo con la variable de entrada seed_diff y como variable de salida score_diff\n",
    "model.fit(train['seed_diff'], train['score_diff'],\n",
    "          epochs = 3,\n",
    "          batch_size = 128,\n",
    "          validation_split = 0.1,\n",
    "          verbose = True)"
   ]
  },
  {
   "cell_type": "markdown",
   "metadata": {},
   "source": [
    "## Evaluando el modelo con un conjunto de test"
   ]
  },
  {
   "cell_type": "markdown",
   "metadata": {},
   "source": [
    "Una vez hemos fijado nuestro modelo, podemos ver como se comporta nuestro modelo con un nuevo conjunto de datos. "
   ]
  },
  {
   "cell_type": "code",
   "execution_count": 23,
   "metadata": {},
   "outputs": [
    {
     "name": "stdout",
     "output_type": "stream",
     "text": [
      "804/804 [==============================] - 0s 17us/step\n"
     ]
    },
    {
     "data": {
      "text/plain": [
       "12.376488728309745"
      ]
     },
     "execution_count": 23,
     "metadata": {},
     "output_type": "execute_result"
    }
   ],
   "source": [
    "#Vemos como se comporta nuestro modelo con un nuevo conjunto de test\n",
    "model.evaluate(test['seed_diff'], test['score_diff'])"
   ]
  }
 ],
 "metadata": {
  "kernelspec": {
   "display_name": "Python 3",
   "language": "python",
   "name": "python3"
  },
  "language_info": {
   "codemirror_mode": {
    "name": "ipython",
    "version": 3
   },
   "file_extension": ".py",
   "mimetype": "text/x-python",
   "name": "python",
   "nbconvert_exporter": "python",
   "pygments_lexer": "ipython3",
   "version": "3.6.3"
  }
 },
 "nbformat": 4,
 "nbformat_minor": 2
}
