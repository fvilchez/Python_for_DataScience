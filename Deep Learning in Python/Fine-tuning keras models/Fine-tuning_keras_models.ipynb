{
 "cells": [
  {
   "cell_type": "markdown",
   "metadata": {},
   "source": [
    "# Changing optimization parameters"
   ]
  },
  {
   "cell_type": "markdown",
   "metadata": {},
   "source": [
    "A continuación vamos a proceder a lanzar una red con un ratio de aprendizaje muy bajo, un rati de aprendizaje muy alto y un ratio de aprendizaje correcto. Cada vez que cambiamos la tasa de aprendizaje queremos que la optimización empiece desde cero, por lo que crearemos la función **get_new_model()** que crea un modelo no optimizado para que este sea optimizado."
   ]
  },
  {
   "cell_type": "code",
   "execution_count": 6,
   "metadata": {},
   "outputs": [
    {
     "name": "stdout",
     "output_type": "stream",
     "text": [
      "\n",
      "\n",
      "Testing model with learning rate: 0.000001\n",
      "\n",
      "Epoch 1/10\n",
      "891/891 [==============================] - 0s 277us/step - loss: 2.6613\n",
      "Epoch 2/10\n",
      "891/891 [==============================] - 0s 45us/step - loss: 2.6522\n",
      "Epoch 3/10\n",
      "891/891 [==============================] - 0s 41us/step - loss: 2.6432\n",
      "Epoch 4/10\n",
      "891/891 [==============================] - 0s 43us/step - loss: 2.6342\n",
      "Epoch 5/10\n",
      "891/891 [==============================] - 0s 40us/step - loss: 2.6254\n",
      "Epoch 6/10\n",
      "891/891 [==============================] - 0s 47us/step - loss: 2.6166\n",
      "Epoch 7/10\n",
      "891/891 [==============================] - 0s 45us/step - loss: 2.6080\n",
      "Epoch 8/10\n",
      "891/891 [==============================] - 0s 45us/step - loss: 2.5994\n",
      "Epoch 9/10\n",
      "891/891 [==============================] - 0s 44us/step - loss: 2.5910\n",
      "Epoch 10/10\n",
      "891/891 [==============================] - 0s 43us/step - loss: 2.5827\n",
      "\n",
      "\n",
      "Testing model with learning rate: 0.010000\n",
      "\n",
      "Epoch 1/10\n",
      "891/891 [==============================] - 0s 337us/step - loss: 1.9160\n",
      "Epoch 2/10\n",
      "891/891 [==============================] - 0s 44us/step - loss: 0.6725\n",
      "Epoch 3/10\n",
      "891/891 [==============================] - 0s 40us/step - loss: 0.6257\n",
      "Epoch 4/10\n",
      "891/891 [==============================] - 0s 37us/step - loss: 0.6439\n",
      "Epoch 5/10\n",
      "891/891 [==============================] - 0s 35us/step - loss: 0.6663\n",
      "Epoch 6/10\n",
      "891/891 [==============================] - 0s 36us/step - loss: 0.6080\n",
      "Epoch 7/10\n",
      "891/891 [==============================] - 0s 40us/step - loss: 0.5972\n",
      "Epoch 8/10\n",
      "891/891 [==============================] - 0s 41us/step - loss: 0.6074\n",
      "Epoch 9/10\n",
      "891/891 [==============================] - 0s 35us/step - loss: 0.5991\n",
      "Epoch 10/10\n",
      "891/891 [==============================] - 0s 36us/step - loss: 0.5949\n",
      "\n",
      "\n",
      "Testing model with learning rate: 1.000000\n",
      "\n",
      "Epoch 1/10\n",
      "891/891 [==============================] - 0s 325us/step - loss: 9.6615\n",
      "Epoch 2/10\n",
      "891/891 [==============================] - 0s 42us/step - loss: 9.9314\n",
      "Epoch 3/10\n",
      "891/891 [==============================] - 0s 48us/step - loss: 9.9314\n",
      "Epoch 4/10\n",
      "891/891 [==============================] - 0s 41us/step - loss: 9.9314\n",
      "Epoch 5/10\n",
      "891/891 [==============================] - 0s 39us/step - loss: 9.9314\n",
      "Epoch 6/10\n",
      "891/891 [==============================] - 0s 42us/step - loss: 9.9314\n",
      "Epoch 7/10\n",
      "891/891 [==============================] - 0s 54us/step - loss: 9.9314\n",
      "Epoch 8/10\n",
      "891/891 [==============================] - 0s 47us/step - loss: 9.9314\n",
      "Epoch 9/10\n",
      "891/891 [==============================] - 0s 41us/step - loss: 9.9314\n",
      "Epoch 10/10\n",
      "891/891 [==============================] - 0s 41us/step - loss: 9.9314\n"
     ]
    }
   ],
   "source": [
    "#Cargamos las librerías necesarias\n",
    "import pandas as pd\n",
    "import keras\n",
    "from keras.layers import Dense\n",
    "from keras.models import Sequential\n",
    "import numpy as np\n",
    "from keras.optimizers import SGD\n",
    "from keras.utils import to_categorical\n",
    "\n",
    "def get_new_model(input_shape):\n",
    "    model = Sequential()\n",
    "    model.add(Dense(100, activation = \"relu\", input_shape = (input_shape,)))\n",
    "    model.add(Dense(100, activation = \"relu\"))\n",
    "    model.add(Dense(2, activation = \"softmax\"))\n",
    "    return model\n",
    "\n",
    "#Cargamos los datos\n",
    "df = pd.read_csv(\"titanic_all_numeric.csv\")\n",
    "\n",
    "#Convertimos la variable objetivo a tipo categórica\n",
    "target = to_categorical(df.survived)\n",
    "\n",
    "#Pasamos a tipo numpy matrix las variables que usaremos en el modelo \n",
    "np_predictors = df.iloc[:, 1:].values\n",
    "\n",
    "#Ahora obtenemos el número de predictores\n",
    "n_predictors = np_predictors.shape[1]\n",
    "\n",
    "#Nos creamos un vector de ratio de aprendizaje\n",
    "lr_to_test = [.000001, 0.01, 1]\n",
    "\n",
    "#Nos creamos un bucle para ejecutar un nuevo modelo con cada ratio de aprendizaje\n",
    "for lr in lr_to_test:\n",
    "    print('\\n\\nTesting model with learning rate: %f\\n'%lr )\n",
    "    \n",
    "    #Construimos un nuevo modelo\n",
    "    model = get_new_model(n_predictors)\n",
    "    \n",
    "    #Nos creamos nuestro propio optimizador\n",
    "    my_optimizer = SGD(lr = lr)\n",
    "    \n",
    "    #Compilamos \n",
    "    model.compile(optimizer = my_optimizer, loss = \"categorical_crossentropy\")\n",
    "    \n",
    "    #Fijamos el modelo\n",
    "    model.fit(np_predictors, target, epochs=10)"
   ]
  },
  {
   "cell_type": "markdown",
   "metadata": {},
   "source": [
    "# Evaluating model accuracy on validation dataset"
   ]
  },
  {
   "cell_type": "markdown",
   "metadata": {},
   "source": [
    "Finalmente debemos de validar la precisión de nuestro modelo con un conjunto de datos de validación. Para esto contamos en el momento de fijar el modelo con el argumento **validation_split** que nos permite indicar el porcentaje de los datos que queremos usar para validar."
   ]
  },
  {
   "cell_type": "code",
   "execution_count": 7,
   "metadata": {},
   "outputs": [
    {
     "name": "stdout",
     "output_type": "stream",
     "text": [
      "Train on 623 samples, validate on 268 samples\n",
      "Epoch 1/10\n",
      "623/623 [==============================] - 0s 600us/step - loss: 9.7536 - acc: 0.3949 - val_loss: 10.3444 - val_acc: 0.3582\n",
      "Epoch 2/10\n",
      "623/623 [==============================] - 0s 48us/step - loss: 9.7536 - acc: 0.3949 - val_loss: 10.3444 - val_acc: 0.3582\n",
      "Epoch 3/10\n",
      "623/623 [==============================] - 0s 50us/step - loss: 9.7536 - acc: 0.3949 - val_loss: 10.3444 - val_acc: 0.3582\n",
      "Epoch 4/10\n",
      "623/623 [==============================] - 0s 55us/step - loss: 9.7536 - acc: 0.3949 - val_loss: 10.3444 - val_acc: 0.3582\n",
      "Epoch 5/10\n",
      "623/623 [==============================] - 0s 59us/step - loss: 9.7536 - acc: 0.3949 - val_loss: 10.3444 - val_acc: 0.3582\n",
      "Epoch 6/10\n",
      "623/623 [==============================] - 0s 49us/step - loss: 9.7536 - acc: 0.3949 - val_loss: 10.3444 - val_acc: 0.3582\n",
      "Epoch 7/10\n",
      "623/623 [==============================] - 0s 51us/step - loss: 9.7536 - acc: 0.3949 - val_loss: 10.3444 - val_acc: 0.3582\n",
      "Epoch 8/10\n",
      "623/623 [==============================] - ETA: 0s - loss: 8.0590 - acc: 0.500 - 0s 48us/step - loss: 9.7536 - acc: 0.3949 - val_loss: 10.3444 - val_acc: 0.3582\n",
      "Epoch 9/10\n",
      "623/623 [==============================] - 0s 66us/step - loss: 9.7536 - acc: 0.3949 - val_loss: 10.3444 - val_acc: 0.3582\n",
      "Epoch 10/10\n",
      "623/623 [==============================] - 0s 64us/step - loss: 9.7536 - acc: 0.3949 - val_loss: 10.3444 - val_acc: 0.3582\n"
     ]
    },
    {
     "data": {
      "text/plain": [
       "<keras.callbacks.History at 0x7f6a43836cc0>"
      ]
     },
     "execution_count": 7,
     "metadata": {},
     "output_type": "execute_result"
    }
   ],
   "source": [
    "#Complilamos el modelo, con el argumento \"metrics\" = \"accuracy\" con el fin de ver el porcentaje de acierto de nuestro\n",
    "#clasificador.\n",
    "model.compile(optimizer = \"adam\", loss = \"categorical_crossentropy\", metrics = [\"accuracy\"])\n",
    "\n",
    "#Fijamos el modelo dejando un 30% del conjunto de datos para validación\n",
    "model.fit(np_predictors, target, epochs = 10, validation_split = 0.3)"
   ]
  },
  {
   "cell_type": "markdown",
   "metadata": {},
   "source": [
    "# Early stopping: Optimizing the optimization"
   ]
  },
  {
   "cell_type": "markdown",
   "metadata": {},
   "source": [
    "Ahora que ya conocemos como optimizar nuestro modelo, podemos parar esta optimización en el momento que detecte que ya no va a mejorar. Esto nos permite seleccionar un número de epochs bastante elevado, ya que en el momento que se detecte que no existe una mejora el modelo parará."
   ]
  },
  {
   "cell_type": "code",
   "execution_count": 8,
   "metadata": {},
   "outputs": [
    {
     "name": "stdout",
     "output_type": "stream",
     "text": [
      "Train on 623 samples, validate on 268 samples\n",
      "Epoch 1/30\n",
      "623/623 [==============================] - 0s 688us/step - loss: 9.7536 - acc: 0.3949 - val_loss: 10.3444 - val_acc: 0.3582\n",
      "Epoch 2/30\n",
      "623/623 [==============================] - 0s 56us/step - loss: 9.7536 - acc: 0.3949 - val_loss: 10.3444 - val_acc: 0.3582\n",
      "Epoch 3/30\n",
      "623/623 [==============================] - 0s 62us/step - loss: 9.7536 - acc: 0.3949 - val_loss: 10.3444 - val_acc: 0.3582\n"
     ]
    },
    {
     "data": {
      "text/plain": [
       "<keras.callbacks.History at 0x7f6a42dc38d0>"
      ]
     },
     "execution_count": 8,
     "metadata": {},
     "output_type": "execute_result"
    }
   ],
   "source": [
    "#Cargamos la función que nos permite realizar la acción de parar el modelo cuando deje de mejorar\n",
    "from keras.callbacks import EarlyStopping\n",
    "\n",
    "#Compilamos el modelo\n",
    "model.compile(optimizer = \"adam\", loss = \"categorical_crossentropy\", metrics = [\"accuracy\"])\n",
    "\n",
    "#Indicamos que pare el modelo en caso de que pasen 2 epochs y no mejore\n",
    "early_stopping_monitor = EarlyStopping(patience = 2)\n",
    "\n",
    "#Procedemos a fijar el modelo\n",
    "model.fit(np_predictors, target, epochs = 30, validation_split = 0.3, callbacks = [early_stopping_monitor])"
   ]
  },
  {
   "cell_type": "code",
   "execution_count": 9,
   "metadata": {},
   "outputs": [
    {
     "data": {
      "text/plain": [
       "array([[3, 22.0, 1, ..., 0, 0, 1],\n",
       "       [1, 38.0, 1, ..., 1, 0, 0],\n",
       "       [3, 26.0, 0, ..., 0, 0, 1],\n",
       "       ..., \n",
       "       [3, 29.69911764705882, 1, ..., 0, 0, 1],\n",
       "       [1, 26.0, 0, ..., 1, 0, 0],\n",
       "       [3, 32.0, 0, ..., 0, 1, 0]], dtype=object)"
      ]
     },
     "execution_count": 9,
     "metadata": {},
     "output_type": "execute_result"
    }
   ],
   "source": [
    "np_predictors"
   ]
  },
  {
   "cell_type": "markdown",
   "metadata": {},
   "source": [
    "# Experimenting with wider networks"
   ]
  },
  {
   "cell_type": "markdown",
   "metadata": {},
   "source": [
    "A continuación vamos a comparar el rendimiento para dos modelos distintos. "
   ]
  },
  {
   "cell_type": "code",
   "execution_count": 15,
   "metadata": {},
   "outputs": [
    {
     "data": {
      "image/png": "[encoded data removed]",
      "text/plain": [
       "<matplotlib.figure.Figure at 0x7f6a4079c550>"
      ]
     },
     "metadata": {},
     "output_type": "display_data"
    }
   ],
   "source": [
    "#Indicamos la condición de parada del modelo\n",
    "early_stopping_monitor = EarlyStopping(patience = 2)\n",
    "\n",
    "#Nos creamos el primer modelo\n",
    "model_1 = Sequential()\n",
    "\n",
    "#Nos creamos la primera capa oculta\n",
    "model_1.add(Dense(10, activation = \"relu\", input_shape = (n_predictors,)))\n",
    "\n",
    "#Nos creamos la segunda capa oculta\n",
    "model_1.add(Dense(10, activation = \"relu\"))\n",
    "\n",
    "#Nos creamos la capa de salida\n",
    "model_1.add(Dense(2, activation = \"softmax\"))\n",
    "\n",
    "#Nos creamos el segundo modelo\n",
    "model_2 = Sequential()\n",
    "\n",
    "#Nos creamos la primera capa oculta \n",
    "model_2.add(Dense(100, activation = \"relu\", input_shape = (n_predictors,)))\n",
    "\n",
    "#Nos creamos la segunda capa oculta\n",
    "model_2.add(Dense(100, activation = \"relu\"))\n",
    "\n",
    "#Nos creamos la capa de salida\n",
    "model_2.add(Dense(2, activation = \"softmax\"))\n",
    "\n",
    "#Compilamos los dos modelos\n",
    "model_1.compile(optimizer = \"adam\", loss = \"categorical_crossentropy\", metrics = [\"accuracy\"])\n",
    "model_2.compile(optimizer = \"adam\", loss = \"categorical_crossentropy\", metrics = [\"accuracy\"])\n",
    "\n",
    "#Ahora procedemos a fijar o entrenar los modelos\n",
    "trainnig_model_1 = model_1.fit(np_predictors, target, validation_split = 0.2, epochs = 15, \n",
    "                               callbacks = [early_stopping_monitor], verbose = False)\n",
    "\n",
    "trainnig_model_2 = model_2.fit(np_predictors, target, validation_split = 0.2, epochs = 15,\n",
    "                               callbacks = [early_stopping_monitor], verbose = False)\n",
    "\n",
    "#Visualizamos los resultados de ambos modelos\n",
    "import matplotlib.pyplot as plt\n",
    "plt.plot(trainnig_model_1.history[\"val_loss\"], \"r\", trainnig_model_2.history[\"val_loss\"], \"b\")\n",
    "plt.xlabel('Epochs')\n",
    "plt.ylabel('Validation score')\n",
    "plt.show()"
   ]
  }
 ],
 "metadata": {
  "kernelspec": {
   "display_name": "Python 3",
   "language": "python",
   "name": "python3"
  },
  "language_info": {
   "codemirror_mode": {
    "name": "ipython",
    "version": 3
   },
   "file_extension": ".py",
   "mimetype": "text/x-python",
   "name": "python",
   "nbconvert_exporter": "python",
   "pygments_lexer": "ipython3",
   "version": "3.6.3"
  }
 },
 "nbformat": 4,
 "nbformat_minor": 2
}
