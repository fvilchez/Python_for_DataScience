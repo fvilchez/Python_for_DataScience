{
 "cells": [
  {
   "cell_type": "markdown",
   "metadata": {},
   "source": [
    "# Loading and viewing your data"
   ]
  },
  {
   "cell_type": "markdown",
   "metadata": {},
   "source": [
    "A continuación vamos a proceder a explorar el conjunto de datos **dob_job_application_filings_subset.csv**. Para todo este proceso vamos a hacer uso de la librería **Pandas**. Para ello lo que vamos hacer en primer lugar es cargar el conjunto de datos, para ello usaremos la función **read_csv()** de **Pandas**."
   ]
  },
  {
   "cell_type": "code",
   "execution_count": 2,
   "metadata": {},
   "outputs": [],
   "source": [
    "#Cargamos la librería pandas\n",
    "import pandas as pd\n",
    "\n",
    "#Cargamos los datos\n",
    "df = pd.read_csv('dob_job_application_filings_subset.csv', low_memory=False)"
   ]
  },
  {
   "cell_type": "markdown",
   "metadata": {},
   "source": [
    "Una vez hemos cargado los datos, una de las primeras cosas que debemos de realizar es la de visualizar nuestros datos para tener una breve idea de nuestro conjunto de datos, para esto, podemos hacer uso del método **head()** que nos permite visualizar las 5 primeras observaciones de nuestro conjunto de datos, y del método **tail()** que nos permite visualizar las 5 últimas observaciones por defecto. Ambos métodos disponen del argumento opcional **n** que nos permite visualizar tantas observaciones como le indiquemos en dicho parámetro."
   ]
  },
  {
   "cell_type": "code",
   "execution_count": 9,
   "metadata": {},
   "outputs": [
    {
     "name": "stdout",
     "output_type": "stream",
     "text": [
      "       Job #  Doc #        Borough       House #  \\\n",
      "0  121577873      2      MANHATTAN  386            \n",
      "1  520129502      1  STATEN ISLAND  107            \n",
      "2  121601560      1      MANHATTAN  63             \n",
      "\n",
      "                        Street Name  Block  Lot    Bin # Job Type Job Status  \\\n",
      "0  PARK AVENUE SOUTH                   857   38  1016890       A2          D   \n",
      "1  KNOX PLACE                          342    1  5161350       A3          A   \n",
      "2  WEST 131 STREET                    1729    9  1053831       A2          Q   \n",
      "\n",
      "            ...                         Owner's Last Name  \\\n",
      "0           ...            MIGLIORE                         \n",
      "1           ...            BLUMENBERG                       \n",
      "2           ...            MARKOWITZ                        \n",
      "\n",
      "              Owner's Business Name Owner's House Number  \\\n",
      "0  MACKLOWE MANAGEMENT                      126            \n",
      "1  NA                                       107            \n",
      "2  635 RIVERSIDE DRIVE NY LLC               619            \n",
      "\n",
      "           Owner'sHouse Street Name            City  State    Zip  \\\n",
      "0  EAST 56TH STREET                  NEW YORK           NY  10222   \n",
      "1  KNOX PLACE                        STATEN ISLAND      NY  10314   \n",
      "2  WEST 54TH STREET                  NEW YORK           NY  10016   \n",
      "\n",
      "  Owner'sPhone #                                    Job Description  \\\n",
      "0     2125545837  GENERAL MECHANICAL & PLUMBING MODIFICATIONS AS...   \n",
      "1     3477398892  BUILDERS PAVEMENT PLAN 143 LF.                ...   \n",
      "2     2127652555  GENERAL CONSTRUCTION TO INCLUDE NEW PARTITIONS...   \n",
      "\n",
      "               DOBRunDate  \n",
      "0  04/26/2013 12:00:00 AM  \n",
      "1  04/26/2013 12:00:00 AM  \n",
      "2  04/26/2013 12:00:00 AM  \n",
      "\n",
      "[3 rows x 82 columns]\n"
     ]
    }
   ],
   "source": [
    "#Visualizamos las 3 primeras observaciones\n",
    "print(df.head(n = 3))"
   ]
  },
  {
   "cell_type": "code",
   "execution_count": 11,
   "metadata": {
    "scrolled": true
   },
   "outputs": [
    {
     "name": "stdout",
     "output_type": "stream",
     "text": [
      "           Job #  Doc #        Borough       House #  \\\n",
      "12843  121681260      1      MANHATTAN  350            \n",
      "12844  320771704      1       BROOKLYN  499            \n",
      "12845  520143951      1  STATEN ISLAND  1755           \n",
      "\n",
      "                            Street Name  Block  Lot    Bin # Job Type  \\\n",
      "12843  MANHATTAN AVE.                     1848   31  1055849       A2   \n",
      "12844  UNION STREET                        431   43  3007185       A2   \n",
      "12845  RICHMOND ROAD                       887   28  5022931       A2   \n",
      "\n",
      "      Job Status           ...                         Owner's Last Name  \\\n",
      "12843          A           ...            ARYEH                            \n",
      "12844          D           ...            WIGGINS                          \n",
      "12845          D           ...            CAMBRIA                          \n",
      "\n",
      "                  Owner's Business Name Owner's House Number  \\\n",
      "12843  DG UWS LLC                               619            \n",
      "12844  N/A                                      77             \n",
      "12845  RONALD CAMBRIA                           1755           \n",
      "\n",
      "               Owner'sHouse Street Name            City  State    Zip  \\\n",
      "12843  WEST 54TH STREET                  NEW YORK           NY  10019   \n",
      "12844  PROSPECT PLACE                    BROOKLYN           NY  11217   \n",
      "12845  RICHMOND ROAD                     STATEN ISLAND      NY  10304   \n",
      "\n",
      "      Owner'sPhone #                                    Job Description  \\\n",
      "12843     2127652555  REPLACE BURNER IN EXSTG BOILER WITH NEW GAS BU...   \n",
      "12844     9178487799  INSTALL NEW SPRINKLER SYSTEM THROUGHOUT THE BU...   \n",
      "12845     7184482740  INTERIOR PARTITIONS AND MINOR PLUMBING WORK TO...   \n",
      "\n",
      "                   DOBRunDate  \n",
      "12843  06/13/2013 12:00:00 AM  \n",
      "12844  06/13/2013 12:00:00 AM  \n",
      "12845  06/13/2013 12:00:00 AM  \n",
      "\n",
      "[3 rows x 82 columns]\n"
     ]
    }
   ],
   "source": [
    "#Visualizamos las 3 últimas observaciones\n",
    "print(df.tail(n = 3))"
   ]
  },
  {
   "cell_type": "markdown",
   "metadata": {},
   "source": [
    "El atributo **shape** nos permite conocer el tamaño de nuestro DataFrame (número de filas y columnas). Este método retorna una tupla donde el primer elemento es el número de filas y el segundo elemento es el número de columnas."
   ]
  },
  {
   "cell_type": "code",
   "execution_count": 14,
   "metadata": {},
   "outputs": [
    {
     "name": "stdout",
     "output_type": "stream",
     "text": [
      "filas: 12846\n",
      "columnas: 82\n"
     ]
    }
   ],
   "source": [
    "#Mostramo el tamaño de nuestro DataFrame\n",
    "filas, columnas = df.shape\n",
    "print('filas: {}'.format(filas))\n",
    "print('columnas: {}'.format(columnas))"
   ]
  },
  {
   "cell_type": "markdown",
   "metadata": {},
   "source": [
    "Finalmente el atributo **columns** nos permite conocer el nombre de las columnas de nuestro conjunto de datos."
   ]
  },
  {
   "cell_type": "code",
   "execution_count": 15,
   "metadata": {},
   "outputs": [
    {
     "name": "stdout",
     "output_type": "stream",
     "text": [
      "Index(['Job #', 'Doc #', 'Borough', 'House #', 'Street Name', 'Block', 'Lot',\n",
      "       'Bin #', 'Job Type', 'Job Status', 'Job Status Descrp',\n",
      "       'Latest Action Date', 'Building Type', 'Community - Board', 'Cluster',\n",
      "       'Landmarked', 'Adult Estab', 'Loft Board', 'City Owned', 'Little e',\n",
      "       'PC Filed', 'eFiling Filed', 'Plumbing', 'Mechanical', 'Boiler',\n",
      "       'Fuel Burning', 'Fuel Storage', 'Standpipe', 'Sprinkler', 'Fire Alarm',\n",
      "       'Equipment', 'Fire Suppression', 'Curb Cut', 'Other',\n",
      "       'Other Description', 'Applicant's First Name', 'Applicant's Last Name',\n",
      "       'Applicant Professional Title', 'Applicant License #',\n",
      "       'Professional Cert', 'Pre- Filing Date', 'Paid', 'Fully Paid',\n",
      "       'Assigned', 'Approved', 'Fully Permitted', 'Initial Cost',\n",
      "       'Total Est. Fee', 'Fee Status', 'Existing Zoning Sqft',\n",
      "       'Proposed Zoning Sqft', 'Horizontal Enlrgmt', 'Vertical Enlrgmt',\n",
      "       'Enlargement SQ Footage', 'Street Frontage', 'ExistingNo. of Stories',\n",
      "       'Proposed No. of Stories', 'Existing Height', 'Proposed Height',\n",
      "       'Existing Dwelling Units', 'Proposed Dwelling Units',\n",
      "       'Existing Occupancy', 'Proposed Occupancy', 'Site Fill', 'Zoning Dist1',\n",
      "       'Zoning Dist2', 'Zoning Dist3', 'Special District 1',\n",
      "       'Special District 2', 'Owner Type', 'Non-Profit', 'Owner's First Name',\n",
      "       'Owner's Last Name', 'Owner's Business Name', 'Owner's House Number',\n",
      "       'Owner'sHouse Street Name', 'City ', 'State', 'Zip', 'Owner'sPhone #',\n",
      "       'Job Description', 'DOBRunDate'],\n",
      "      dtype='object')\n"
     ]
    }
   ],
   "source": [
    "#Mostramo el nombre de las columnas de nuestro conjunto de datos\n",
    "print(df.columns)"
   ]
  },
  {
   "cell_type": "markdown",
   "metadata": {},
   "source": [
    "# Further diagnosis"
   ]
  },
  {
   "cell_type": "markdown",
   "metadata": {},
   "source": [
    "El método **info()** nos proporciona información bastante importante respecto a nuestro DataFrame, tales como el número de filas, el número de columnas, el número de obseraciones sin valores perdidos para cada columna y el tipo de datos almacenado en cada columna. "
   ]
  },
  {
   "cell_type": "code",
   "execution_count": 16,
   "metadata": {},
   "outputs": [
    {
     "name": "stdout",
     "output_type": "stream",
     "text": [
      "<class 'pandas.core.frame.DataFrame'>\n",
      "RangeIndex: 12846 entries, 0 to 12845\n",
      "Data columns (total 82 columns):\n",
      "Job #                           12846 non-null int64\n",
      "Doc #                           12846 non-null int64\n",
      "Borough                         12846 non-null object\n",
      "House #                         12846 non-null object\n",
      "Street Name                     12846 non-null object\n",
      "Block                           12846 non-null int64\n",
      "Lot                             12846 non-null int64\n",
      "Bin #                           12846 non-null int64\n",
      "Job Type                        12846 non-null object\n",
      "Job Status                      12846 non-null object\n",
      "Job Status Descrp               12846 non-null object\n",
      "Latest Action Date              12846 non-null object\n",
      "Building Type                   12846 non-null object\n",
      "Community - Board               12846 non-null object\n",
      "Cluster                         0 non-null float64\n",
      "Landmarked                      2067 non-null object\n",
      "Adult Estab                     1 non-null object\n",
      "Loft Board                      65 non-null object\n",
      "City Owned                      1419 non-null object\n",
      "Little e                        365 non-null object\n",
      "PC Filed                        0 non-null float64\n",
      "eFiling Filed                   12846 non-null object\n",
      "Plumbing                        12846 non-null object\n",
      "Mechanical                      12846 non-null object\n",
      "Boiler                          12846 non-null object\n",
      "Fuel Burning                    12846 non-null object\n",
      "Fuel Storage                    12846 non-null object\n",
      "Standpipe                       12846 non-null object\n",
      "Sprinkler                       12846 non-null object\n",
      "Fire Alarm                      12846 non-null object\n",
      "Equipment                       12846 non-null object\n",
      "Fire Suppression                12846 non-null object\n",
      "Curb Cut                        12846 non-null object\n",
      "Other                           12846 non-null object\n",
      "Other Description               12846 non-null object\n",
      "Applicant's First Name          12846 non-null object\n",
      "Applicant's Last Name           12846 non-null object\n",
      "Applicant Professional Title    12846 non-null object\n",
      "Applicant License #             12846 non-null object\n",
      "Professional Cert               6908 non-null object\n",
      "Pre- Filing Date                12846 non-null object\n",
      "Paid                            11961 non-null object\n",
      "Fully Paid                      11963 non-null object\n",
      "Assigned                        3817 non-null object\n",
      "Approved                        4062 non-null object\n",
      "Fully Permitted                 1495 non-null object\n",
      "Initial Cost                    12846 non-null object\n",
      "Total Est. Fee                  12846 non-null object\n",
      "Fee Status                      12846 non-null object\n",
      "Existing Zoning Sqft            12846 non-null int64\n",
      "Proposed Zoning Sqft            12846 non-null int64\n",
      "Horizontal Enlrgmt              231 non-null object\n",
      "Vertical Enlrgmt                142 non-null object\n",
      "Enlargement SQ Footage          12846 non-null int64\n",
      "Street Frontage                 12846 non-null int64\n",
      "ExistingNo. of Stories          12846 non-null int64\n",
      "Proposed No. of Stories         12846 non-null int64\n",
      "Existing Height                 12846 non-null int64\n",
      "Proposed Height                 12846 non-null int64\n",
      "Existing Dwelling Units         12846 non-null object\n",
      "Proposed Dwelling Units         12846 non-null object\n",
      "Existing Occupancy              12846 non-null object\n",
      "Proposed Occupancy              12846 non-null object\n",
      "Site Fill                       8641 non-null object\n",
      "Zoning Dist1                    11263 non-null object\n",
      "Zoning Dist2                    1652 non-null object\n",
      "Zoning Dist3                    88 non-null object\n",
      "Special District 1              3062 non-null object\n",
      "Special District 2              848 non-null object\n",
      "Owner Type                      0 non-null float64\n",
      "Non-Profit                      971 non-null object\n",
      "Owner's First Name              12846 non-null object\n",
      "Owner's Last Name               12846 non-null object\n",
      "Owner's Business Name           12846 non-null object\n",
      "Owner's House Number            12846 non-null object\n",
      "Owner'sHouse Street Name        12846 non-null object\n",
      "City                            12846 non-null object\n",
      "State                           12846 non-null object\n",
      "Zip                             12846 non-null int64\n",
      "Owner'sPhone #                  12846 non-null int64\n",
      "Job Description                 12699 non-null object\n",
      "DOBRunDate                      12846 non-null object\n",
      "dtypes: float64(3), int64(15), object(64)\n",
      "memory usage: 8.0+ MB\n",
      "None\n"
     ]
    }
   ],
   "source": [
    "#Mostramos la información de nuestro conjunto de datos\n",
    "print(df.info())"
   ]
  },
  {
   "cell_type": "markdown",
   "metadata": {},
   "source": [
    "# Calculating summary statistics"
   ]
  },
  {
   "cell_type": "markdown",
   "metadata": {},
   "source": [
    "El método **describe()**, nos permite conocer un resumen estadístico de las variables de nuestro conjunto de datos que son numéricas. A la hora de calcular las diferentes métricas estadísticas esta función no tiene encuenta los valores perdidos de cada una de nuestras variables."
   ]
  },
  {
   "cell_type": "code",
   "execution_count": 17,
   "metadata": {},
   "outputs": [
    {
     "name": "stdout",
     "output_type": "stream",
     "text": [
      "              Job #         Doc #         Block           Lot         Bin #  \\\n",
      "count  1.284600e+04  12846.000000  12846.000000  12846.000000  1.284600e+04   \n",
      "mean   2.426788e+08      1.162930   2703.834735    623.303441  2.314997e+06   \n",
      "std    1.312507e+08      0.514937   3143.002812   2000.934794  1.399062e+06   \n",
      "min    1.036438e+08      1.000000      1.000000      0.000000  1.000003e+06   \n",
      "25%    1.216206e+08      1.000000    836.000000     12.000000  1.035728e+06   \n",
      "50%    2.202645e+08      1.000000   1411.500000     32.000000  2.004234e+06   \n",
      "75%    3.208652e+08      1.000000   3355.000000     59.000000  3.343823e+06   \n",
      "max    5.400246e+08      9.000000  99999.000000   9078.000000  5.864852e+06   \n",
      "\n",
      "       Cluster  PC Filed  Existing Zoning Sqft  Proposed Zoning Sqft  \\\n",
      "count      0.0       0.0          1.284600e+04          1.284600e+04   \n",
      "mean       NaN       NaN          1.439973e+03          2.007286e+03   \n",
      "std        NaN       NaN          3.860757e+04          4.081570e+04   \n",
      "min        NaN       NaN          0.000000e+00          0.000000e+00   \n",
      "25%        NaN       NaN          0.000000e+00          0.000000e+00   \n",
      "50%        NaN       NaN          0.000000e+00          0.000000e+00   \n",
      "75%        NaN       NaN          0.000000e+00          0.000000e+00   \n",
      "max        NaN       NaN          2.873107e+06          2.873107e+06   \n",
      "\n",
      "       Enlargement SQ Footage  Street Frontage  ExistingNo. of Stories  \\\n",
      "count            12846.000000     12846.000000            12846.000000   \n",
      "mean                46.101432         3.069360                8.062354   \n",
      "std                784.216569        37.246034               11.874080   \n",
      "min                  0.000000         0.000000                0.000000   \n",
      "25%                  0.000000         0.000000                1.000000   \n",
      "50%                  0.000000         0.000000                4.000000   \n",
      "75%                  0.000000         0.000000                9.000000   \n",
      "max              50384.000000      3160.000000              102.000000   \n",
      "\n",
      "       Proposed No. of Stories  Existing Height  Proposed Height  Owner Type  \\\n",
      "count             12846.000000     12846.000000     12846.000000         0.0   \n",
      "mean                  8.144325        94.022809        94.917562         NaN   \n",
      "std                  11.843492       146.917360       146.580666         NaN   \n",
      "min                   0.000000         0.000000         0.000000         NaN   \n",
      "25%                   2.000000        20.000000        21.000000         NaN   \n",
      "50%                   4.000000        45.000000        45.000000         NaN   \n",
      "75%                   9.000000       105.000000       107.000000         NaN   \n",
      "max                 102.000000      4200.000000      4200.000000         NaN   \n",
      "\n",
      "                Zip  Owner'sPhone #  \n",
      "count  1.284600e+04    1.284600e+04  \n",
      "mean   1.210268e+06    5.025739e+09  \n",
      "std    1.343588e+07    2.738212e+09  \n",
      "min    8.300000e+02    0.000000e+00  \n",
      "25%    1.001900e+04    2.126841e+09  \n",
      "50%    1.031000e+04    5.169379e+09  \n",
      "75%    1.122100e+04    7.186809e+09  \n",
      "max    6.063135e+08    9.787266e+09  \n"
     ]
    }
   ],
   "source": [
    "print(df.describe())"
   ]
  },
  {
   "cell_type": "markdown",
   "metadata": {},
   "source": [
    "# Frequency counts for categorical data"
   ]
  },
  {
   "cell_type": "markdown",
   "metadata": {},
   "source": [
    "Cuando deseamos conocer información respecto a las columnas categóricas, podemos hacer uso del método **value_counts()**, este método nos retorna el número de apariciones de cada valor categórico en cada una de las columnas. Este método contiene el parámetro opcional **dropna** el cual toma el valor de **True** por defecto. Esto significa, que en caso de que nuestra columna tenga valores perdidos por defecto, no nos retornará el número de valores perdidos, si queremos que nos retorne el número de valores perdidos de cada column, tan solo debemos cambiar el valor de este parámetro a **False**."
   ]
  },
  {
   "cell_type": "code",
   "execution_count": 18,
   "metadata": {},
   "outputs": [
    {
     "name": "stdout",
     "output_type": "stream",
     "text": [
      "MANHATTAN        6310\n",
      "BROOKLYN         2866\n",
      "QUEENS           2121\n",
      "BRONX             974\n",
      "STATEN ISLAND     575\n",
      "Name: Borough, dtype: int64\n"
     ]
    }
   ],
   "source": [
    "#Analizamos la columna Borough\n",
    "print(df['Borough'].value_counts(dropna = False))"
   ]
  },
  {
   "cell_type": "code",
   "execution_count": 19,
   "metadata": {},
   "outputs": [
    {
     "name": "stdout",
     "output_type": "stream",
     "text": [
      "NY    12391\n",
      "NJ      241\n",
      "PA       38\n",
      "CA       20\n",
      "OH       19\n",
      "IL       17\n",
      "FL       17\n",
      "CT       16\n",
      "TX       13\n",
      "TN       10\n",
      "DC        7\n",
      "MD        7\n",
      "GA        6\n",
      "KS        6\n",
      "MA        6\n",
      "VA        5\n",
      "CO        4\n",
      "AZ        3\n",
      "WI        3\n",
      "SC        3\n",
      "MN        3\n",
      "UT        2\n",
      "RI        2\n",
      "NC        2\n",
      "VT        1\n",
      "MI        1\n",
      "WA        1\n",
      "NM        1\n",
      "IN        1\n",
      "Name: State, dtype: int64\n"
     ]
    }
   ],
   "source": [
    "#Analizamos la columna State\n",
    "print(df['State'].value_counts(dropna = False))"
   ]
  },
  {
   "cell_type": "code",
   "execution_count": 20,
   "metadata": {},
   "outputs": [
    {
     "name": "stdout",
     "output_type": "stream",
     "text": [
      "NOT APPLICABLE                              7806\n",
      "NaN                                         4205\n",
      "ON-SITE                                      519\n",
      "OFF-SITE                                     186\n",
      "USE UNDER 300 CU.YD                          130\n",
      "Name: Site Fill, dtype: int64\n"
     ]
    }
   ],
   "source": [
    "#Analizamos la columna Site Fill\n",
    "print(df['Site Fill'].value_counts(dropna = False))"
   ]
  },
  {
   "cell_type": "markdown",
   "metadata": {},
   "source": [
    "# Visualizing single variables with histograms"
   ]
  },
  {
   "cell_type": "markdown",
   "metadata": {},
   "source": [
    "Hasta el momento solo hemos realizado descripciones estadísticas de nuestros datos, sin embargo, una buena forma de vez que nos están diciendo nuestros datos es visualizándolos. Los histogramas se tratan de gráficos que nos permiten visualizar la distribución de nuestros datos, estos gráficos son aplicados sobre variables numéricas. El método **plot()** dispone de varios argumentos:\n",
    "\n",
    "* **kind**: argumento que nos permite indicar el tipo de gráfico que queremos realizar.\n",
    "\n",
    "* **rot**: nos permite rotar los valores del ejeX.\n",
    "\n",
    "* **logx**: si toma el valor de True indicamos que queremos representar el ejeX en escala logarítmica.\n",
    "\n",
    "* **logy**: si toma el valor de True indicamos que queremos representar el ejeY en escala logarítmica.\n",
    "\n",
    "La escala logarítmica suele ser usada cuando existe una gran defirencia entre el valor más alto y más bajo de la variable que deseamos representar."
   ]
  },
  {
   "cell_type": "code",
   "execution_count": 25,
   "metadata": {},
   "outputs": [
    {
     "data": {
      "image/png": "[encoded data removed]",
      "text/plain": [
       "<matplotlib.figure.Figure at 0x7fdd2fffb400>"
      ]
     },
     "metadata": {},
     "output_type": "display_data"
    }
   ],
   "source": [
    "import matplotlib.pyplot as plt\n",
    "\n",
    "#Nos creamos el gráfico de tipo histograma para la variable 'Existing Zoning Sqft'\n",
    "df['Existing Zoning Sqft'].plot(kind = 'hist', rot = 70)\n",
    "#Mostramos el resultado\n",
    "plt.show()"
   ]
  },
  {
   "cell_type": "markdown",
   "metadata": {},
   "source": [
    "# Visualizing multiple variables with boxplots"
   ]
  },
  {
   "cell_type": "markdown",
   "metadata": {},
   "source": [
    "Los histogramas se tratan de gráficos muy útiles a la hora de visualizar una única variables, sin embargo, los gráficos de tipo **boxplot** o **diagramas de caja** son más útiles cuando queremos visualizar múltiples variables, y son especialmente útiles si alguna de nuestras variables es de tipo categórica. A continuación vamos a proceder a realizar un boxplot de la variable **initial_cost** a través de los diferentes valores de la variable **Borough**. El método **boxplot()** de la librería Pandas nos permite realizar esto, para ello contamos con los parámetros **column** y **by**."
   ]
  },
  {
   "cell_type": "code",
   "execution_count": 34,
   "metadata": {},
   "outputs": [
    {
     "name": "stderr",
     "output_type": "stream",
     "text": [
      "/home/francisco/anaconda3/lib/python3.6/site-packages/numpy/core/fromnumeric.py:57: FutureWarning: reshape is deprecated and will raise in a subsequent release. Please use .values.reshape(...) instead\n",
      "  return getattr(obj, method)(*args, **kwds)\n"
     ]
    },
    {
     "data": {
      "image/png": "[encoded data removed]",
      "text/plain": [
       "<matplotlib.figure.Figure at 0x7fdd2fd805c0>"
      ]
     },
     "metadata": {},
     "output_type": "display_data"
    }
   ],
   "source": [
    "#Visualizamos nuestro diagrama de cajas\n",
    "df.boxplot(column = 'Job #', by = 'Borough', rot = 90)\n",
    "\n",
    "#Visualizamos el resultado\n",
    "plt.show()"
   ]
  },
  {
   "cell_type": "markdown",
   "metadata": {},
   "source": [
    "# Visualizing multiple variables with scatter plots"
   ]
  },
  {
   "cell_type": "markdown",
   "metadata": {},
   "source": [
    "Los gráficos de tipo boxplot son una buena opción cuando queremos comparar datos numéricos a través de múltiples categorías. En los casos que queremos visualizar dos columnas numéricas los scatter plots son ideales. Para esto contamos con el método **plot()**, para realizar un gráfico de tipo **scatter plot**, debemos asignar al parámetro **kind** el valor de scatter y a los parámetros **x** e **y** las variables que queremos representar."
   ]
  },
  {
   "cell_type": "code",
   "execution_count": 36,
   "metadata": {},
   "outputs": [
    {
     "data": {
      "image/png": "[encoded data removed]",
      "text/plain": [
       "<matplotlib.figure.Figure at 0x7fdd2fbe5128>"
      ]
     },
     "metadata": {},
     "output_type": "display_data"
    }
   ],
   "source": [
    "#Realizamos nuestro gráfico de tipo scatter plot\n",
    "df.plot(kind = 'scatter', x = 'Existing Height', y = 'Proposed Height', rot = 70)\n",
    "\n",
    "#Visualizamos el resultado \n",
    "plt.show()"
   ]
  },
  {
   "cell_type": "markdown",
   "metadata": {},
   "source": [
    "En este caso podemos ver una clara tendencia lineal de nuestros datos, además podemos ver que tenemos un valor que toma un valor bastante extremo o diferente al resto de valores."
   ]
  }
 ],
 "metadata": {
  "kernelspec": {
   "display_name": "Python 3",
   "language": "python",
   "name": "python3"
  },
  "language_info": {
   "codemirror_mode": {
    "name": "ipython",
    "version": 3
   },
   "file_extension": ".py",
   "mimetype": "text/x-python",
   "name": "python",
   "nbconvert_exporter": "python",
   "pygments_lexer": "ipython3",
   "version": "3.6.3"
  }
 },
 "nbformat": 4,
 "nbformat_minor": 2
}
