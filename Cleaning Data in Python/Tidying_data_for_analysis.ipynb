{
 "cells": [
  {
   "cell_type": "markdown",
   "metadata": {},
   "source": [
    "# Reshaping your data using melt"
   ]
  },
  {
   "cell_type": "markdown",
   "metadata": {},
   "source": [
    "El proceso de **fusión(Melting)** nos permite convertir columnas de nuestro conjunto de datos en filas. Supongamos el siguiente conjunto de datos."
   ]
  },
  {
   "cell_type": "code",
   "execution_count": 11,
   "metadata": {},
   "outputs": [
    {
     "name": "stdout",
     "output_type": "stream",
     "text": [
      "   Ozone  Solar.R  Wind  Temp  Month  Day\n",
      "0   41.0    190.0   7.4    67      5    1\n",
      "1   36.0    118.0   8.0    72      5    2\n",
      "2   12.0    149.0  12.6    74      5    3\n",
      "3   18.0    313.0  11.5    62      5    4\n",
      "4    NaN      NaN  14.3    56      5    5\n"
     ]
    }
   ],
   "source": [
    "import pandas as pd\n",
    "import numpy as np\n",
    "\n",
    "#Cargamos el conjunto de datos airquality.csv\n",
    "df = pd.read_csv('airquality.csv')\n",
    "\n",
    "#Mostramos las primeras observaciones\n",
    "print(df.head())"
   ]
  },
  {
   "cell_type": "markdown",
   "metadata": {},
   "source": [
    "Podriamos almacenar las variables **Ozone**, **Solar.R**, **Wind** y **Temp** en una única columna junto con sus respectivos valores. Debemos tener claro que en función de como estén representados nuestros datos deberemos de redimensionar nuestro conjunto de datos de forma diferente. Para realizar este tipo de operaciones disponemos del método **melt()** dentro de la librería Pandas. Existen dos parámetros que deberíamos de indicar: **id_vars**, **value_vars**. El valor del argumento **id_vars** corresponde con el nombre de las columnas que no deseamos fusionar, mientras que el argumento **value_vars** indicamos aquellas columnas que deseamos fusionar. Sino indicamos un valor a **value_vars**, por defecto las columnas no indicadas en **id_vars** serán fusionadas."
   ]
  },
  {
   "cell_type": "code",
   "execution_count": 2,
   "metadata": {},
   "outputs": [
    {
     "name": "stdout",
     "output_type": "stream",
     "text": [
      "   Month  Day variable  value\n",
      "0      5    1    Ozone   41.0\n",
      "1      5    2    Ozone   36.0\n",
      "2      5    3    Ozone   12.0\n",
      "3      5    4    Ozone   18.0\n",
      "4      5    5    Ozone    NaN\n"
     ]
    }
   ],
   "source": [
    "#Fusionamos nuestro conjunto de datos\n",
    "df_melt = pd.melt(df, id_vars = ['Month', 'Day'])\n",
    "\n",
    "#Mostramos el resultado\n",
    "print(df_melt.head())"
   ]
  },
  {
   "cell_type": "markdown",
   "metadata": {},
   "source": [
    "# Customizing melted data"
   ]
  },
  {
   "cell_type": "markdown",
   "metadata": {},
   "source": [
    "Una vez fusionado nuestro conjunto de datos, es posible que queramos renombrar las dos nuevas columnas que tomen nombres más representativos. Para ello el método **melt()** dispone del parámetro **var_name** donde indicamos el nombre de la nueva columna que es la fusión de las columnas indicadas y el parámetro **value_name** donde incamos el nombre de la columna que toma los valores tras la fusión."
   ]
  },
  {
   "cell_type": "code",
   "execution_count": 3,
   "metadata": {},
   "outputs": [
    {
     "name": "stdout",
     "output_type": "stream",
     "text": [
      "   Month  Day measurement  reading\n",
      "0      5    1       Ozone     41.0\n",
      "1      5    2       Ozone     36.0\n",
      "2      5    3       Ozone     12.0\n",
      "3      5    4       Ozone     18.0\n",
      "4      5    5       Ozone      NaN\n"
     ]
    }
   ],
   "source": [
    "#Fusionamos y renombramos columnas\n",
    "df_melt = pd.melt(df, id_vars = ['Month', 'Day'], var_name = 'measurement', value_name = 'reading')\n",
    "\n",
    "#Mostramos el resultado \n",
    "print(df_melt.head())"
   ]
  },
  {
   "cell_type": "markdown",
   "metadata": {},
   "source": [
    "# Pivot data"
   ]
  },
  {
   "cell_type": "markdown",
   "metadata": {},
   "source": [
    "El método **pivot_table** hace la operación opuesta al método **melt()**. Al método **pivot()** le debemos pasar el argumento **index** mediante el cual podemos indicar las columnas que no deseamos pivotar. El siguiente parámetro que debemos de indicar es el parámetro **columns** que indicamos las columnas que deseamos pivotar. Finalmente debemos de indicar en el parámetro **values** la columna que corresponde con los valores que deseamos pivotar."
   ]
  },
  {
   "cell_type": "code",
   "execution_count": 7,
   "metadata": {},
   "outputs": [
    {
     "name": "stdout",
     "output_type": "stream",
     "text": [
      "measurement  Ozone  Solar.R  Temp  Wind\n",
      "Month Day                              \n",
      "5     1       41.0    190.0  67.0   7.4\n",
      "      2       36.0    118.0  72.0   8.0\n",
      "      3       12.0    149.0  74.0  12.6\n",
      "      4       18.0    313.0  62.0  11.5\n",
      "      5        NaN      NaN  56.0  14.3\n"
     ]
    }
   ],
   "source": [
    "#Pivotamos df_melt el dataframe fusionado anteriormente\n",
    "df_pivot = df_melt.pivot_table(index = ['Month', 'Day'], columns = 'measurement', values = 'reading')\n",
    "\n",
    "#Mostramos el resultado\n",
    "print(df_pivot.head())"
   ]
  },
  {
   "cell_type": "markdown",
   "metadata": {},
   "source": [
    "# Resetting the index of a DataFrame"
   ]
  },
  {
   "cell_type": "markdown",
   "metadata": {},
   "source": [
    "Para obtener el DataFrame original, debemos de realizar un reseteo de índices, para ello contamos con el método **reset_index()**."
   ]
  },
  {
   "cell_type": "code",
   "execution_count": 9,
   "metadata": {},
   "outputs": [
    {
     "name": "stdout",
     "output_type": "stream",
     "text": [
      "measurement  Month  Day  Ozone  Solar.R  Temp  Wind\n",
      "0                5    1   41.0    190.0  67.0   7.4\n",
      "1                5    2   36.0    118.0  72.0   8.0\n",
      "2                5    3   12.0    149.0  74.0  12.6\n",
      "3                5    4   18.0    313.0  62.0  11.5\n",
      "4                5    5    NaN      NaN  56.0  14.3\n"
     ]
    }
   ],
   "source": [
    "#Reseteamos índices\n",
    "df_pivot = df_pivot.reset_index()\n",
    "\n",
    "#Vemos el resultado \n",
    "print(df_pivot.head())"
   ]
  },
  {
   "cell_type": "markdown",
   "metadata": {},
   "source": [
    "# Pivoting duplicate values"
   ]
  },
  {
   "cell_type": "markdown",
   "metadata": {},
   "source": [
    "Supongamos que estamos tratando en una situación en la cual disponemos de datos duplicados, es decir, supongamos el siguiente conjunto de datos."
   ]
  },
  {
   "cell_type": "code",
   "execution_count": 10,
   "metadata": {},
   "outputs": [
    {
     "name": "stdout",
     "output_type": "stream",
     "text": [
      "         date element  value\n",
      "0  2010-01-30    tmax   27.8\n",
      "1  2010-01-30    tmin   14.5\n",
      "2  2010-02-02    tmax   27.3\n",
      "3  2010-02-02    tmin   14.4\n",
      "4  2010-02-02    tmin   16.4\n"
     ]
    }
   ],
   "source": [
    "#Cargamos los datos\n",
    "df_duplicate = pd.read_csv('duplicate.csv')\n",
    "\n",
    "#Mostramos el resultado\n",
    "print(df_duplicate.head())"
   ]
  },
  {
   "cell_type": "markdown",
   "metadata": {},
   "source": [
    "Podemos ver que para la fecha 2010-02-02, disponemos de dos valores de tmin, si intentamos realizar un pivot, Python dará un error. El método **pivot_table()** dispone del argumento **aggfunc** que nos permite agregar funciones de forma que nos podemos evitar el problema de los duplicados."
   ]
  },
  {
   "cell_type": "code",
   "execution_count": 12,
   "metadata": {},
   "outputs": [
    {
     "name": "stdout",
     "output_type": "stream",
     "text": [
      "element     tmax  tmin\n",
      "date                  \n",
      "2010-01-30  27.8  14.5\n",
      "2010-02-02  27.3  15.4\n"
     ]
    }
   ],
   "source": [
    "#Agregamos por la media y pivotamos\n",
    "df_duplicate_pivot = df_duplicate.pivot_table(index = 'date', columns = 'element', values = 'value', aggfunc = np.mean)\n",
    "\n",
    "#Mostramos el resultado\n",
    "print(df_duplicate_pivot.head())"
   ]
  },
  {
   "cell_type": "markdown",
   "metadata": {},
   "source": [
    "# Splitting a column with .str"
   ]
  },
  {
   "cell_type": "markdown",
   "metadata": {},
   "source": [
    "Supongamos el siguiente conjunto de datos"
   ]
  },
  {
   "cell_type": "code",
   "execution_count": 15,
   "metadata": {},
   "outputs": [
    {
     "name": "stdout",
     "output_type": "stream",
     "text": [
      "  country  year  m014  m1524  m2534  m3544  m4554  m5564   m65  mu  f014  \\\n",
      "0      AD  2000   0.0    0.0    1.0    0.0    0.0    0.0   0.0 NaN   NaN   \n",
      "1      AE  2000   2.0    4.0    4.0    6.0    5.0   12.0  10.0 NaN   3.0   \n",
      "2      AF  2000  52.0  228.0  183.0  149.0  129.0   94.0  80.0 NaN  93.0   \n",
      "3      AG  2000   0.0    0.0    0.0    0.0    0.0    0.0   1.0 NaN   1.0   \n",
      "4      AL  2000   2.0   19.0   21.0   14.0   24.0   19.0  16.0 NaN   3.0   \n",
      "\n",
      "   f1524  f2534  f3544  f4554  f5564   f65  fu  \n",
      "0    NaN    NaN    NaN    NaN    NaN   NaN NaN  \n",
      "1   16.0    1.0    3.0    0.0    0.0   4.0 NaN  \n",
      "2  414.0  565.0  339.0  205.0   99.0  36.0 NaN  \n",
      "3    1.0    1.0    0.0    0.0    0.0   0.0 NaN  \n",
      "4   11.0   10.0    8.0    8.0    5.0  11.0 NaN  \n"
     ]
    }
   ],
   "source": [
    "#Cargamos los datos \n",
    "df_tb = pd.read_csv('tb.csv')\n",
    "\n",
    "#Vemos las primeras observaciones\n",
    "print(df_tb.head())"
   ]
  },
  {
   "cell_type": "markdown",
   "metadata": {},
   "source": [
    "Las columnas **m014** representa el número de hombres entre 0 y 14 año, la columna **f3544** representa el número de mujeres entre 35 y 44 años etc. Ahora supongamos que queremos crearnos una columna llamada **gender** que tome el valor de **m** en caso de masculino y el valor de **f** en caso de femenino. Además deseamos crearnos una columna denominada **agegroup** que contenga el rango de edad. Para realizar esto podemos hacerlo en dos pasos:\n",
    "\n",
    "* En primer lugar hacemos uso de melt, fusionando todas las columnas menos country y year.\n",
    "\n",
    "* Tras esto hacemos uso de la función str."
   ]
  },
  {
   "cell_type": "code",
   "execution_count": 16,
   "metadata": {},
   "outputs": [
    {
     "name": "stdout",
     "output_type": "stream",
     "text": [
      "  country  year variable  value\n",
      "0      AD  2000     m014    0.0\n",
      "1      AE  2000     m014    2.0\n",
      "2      AF  2000     m014   52.0\n",
      "3      AG  2000     m014    0.0\n",
      "4      AL  2000     m014    2.0\n"
     ]
    }
   ],
   "source": [
    "#Fusionamos nuestro conjunto de datos\n",
    "df_tb_melt = pd.melt(df_tb, id_vars = ['country', 'year'])\n",
    "\n",
    "#Mostramos el resultado\n",
    "print(df_tb_melt.head())"
   ]
  },
  {
   "cell_type": "code",
   "execution_count": 17,
   "metadata": {},
   "outputs": [
    {
     "name": "stdout",
     "output_type": "stream",
     "text": [
      "  country  year variable  value gender age_group\n",
      "0      AD  2000     m014    0.0      m       014\n",
      "1      AE  2000     m014    2.0      m       014\n",
      "2      AF  2000     m014   52.0      m       014\n",
      "3      AG  2000     m014    0.0      m       014\n",
      "4      AL  2000     m014    2.0      m       014\n"
     ]
    }
   ],
   "source": [
    "#Nos generamos la columna gender\n",
    "df_tb_melt['gender'] = df_tb_melt.variable.str[0]\n",
    "\n",
    "#Nos generamos la columna agegroup\n",
    "df_tb_melt['age_group'] = df_tb_melt.variable.str[1:]\n",
    "\n",
    "#Observamos el resultado\n",
    "print(df_tb_melt.head())"
   ]
  },
  {
   "cell_type": "markdown",
   "metadata": {},
   "source": [
    "# Splitting a column with .split() and .get()"
   ]
  },
  {
   "cell_type": "markdown",
   "metadata": {},
   "source": [
    "Otra forma de almacenar múltiples variables en una sola columna es mediante un separador. Supongamos el siguiente conjunto de datos"
   ]
  },
  {
   "cell_type": "code",
   "execution_count": 18,
   "metadata": {},
   "outputs": [
    {
     "name": "stdout",
     "output_type": "stream",
     "text": [
      "         Date  Day  Cases_Guinea  Cases_Liberia  Cases_SierraLeone  \\\n",
      "0    1/5/2015  289        2776.0            NaN            10030.0   \n",
      "1    1/4/2015  288        2775.0            NaN             9780.0   \n",
      "2    1/3/2015  287        2769.0         8166.0             9722.0   \n",
      "3    1/2/2015  286           NaN         8157.0                NaN   \n",
      "4  12/31/2014  284        2730.0         8115.0             9633.0   \n",
      "\n",
      "   Cases_Nigeria  Cases_Senegal  Cases_UnitedStates  Cases_Spain  Cases_Mali  \\\n",
      "0            NaN            NaN                 NaN          NaN         NaN   \n",
      "1            NaN            NaN                 NaN          NaN         NaN   \n",
      "2            NaN            NaN                 NaN          NaN         NaN   \n",
      "3            NaN            NaN                 NaN          NaN         NaN   \n",
      "4            NaN            NaN                 NaN          NaN         NaN   \n",
      "\n",
      "   Deaths_Guinea  Deaths_Liberia  Deaths_SierraLeone  Deaths_Nigeria  \\\n",
      "0         1786.0             NaN              2977.0             NaN   \n",
      "1         1781.0             NaN              2943.0             NaN   \n",
      "2         1767.0          3496.0              2915.0             NaN   \n",
      "3            NaN          3496.0                 NaN             NaN   \n",
      "4         1739.0          3471.0              2827.0             NaN   \n",
      "\n",
      "   Deaths_Senegal  Deaths_UnitedStates  Deaths_Spain  Deaths_Mali  \n",
      "0             NaN                  NaN           NaN          NaN  \n",
      "1             NaN                  NaN           NaN          NaN  \n",
      "2             NaN                  NaN           NaN          NaN  \n",
      "3             NaN                  NaN           NaN          NaN  \n",
      "4             NaN                  NaN           NaN          NaN  \n"
     ]
    }
   ],
   "source": [
    "#Cargamos los datos\n",
    "df_ebola = pd.read_csv('ebola.csv')\n",
    "\n",
    "#Mostramos las primeras observaciones \n",
    "print(df_ebola.head())"
   ]
  },
  {
   "cell_type": "markdown",
   "metadata": {},
   "source": [
    "En este caso nuestro conjunto muestra el número de muertos por ebola en distintos países. Podemos observar que la columna **Cases_Guinea** indica el número de muertos en Guinea. Es decir, podríamos crearnos una columna que fuese **country** y otra que llamada **deaths**. Para esto deberemos de seguir una serie de pasos, en primer vamos a realizar un melt, fusionando por todas las columnas menos las columnas **Date** y **Day**."
   ]
  },
  {
   "cell_type": "code",
   "execution_count": 21,
   "metadata": {},
   "outputs": [
    {
     "name": "stdout",
     "output_type": "stream",
     "text": [
      "         Date  Day  type_country  deaths\n",
      "0    1/5/2015  289  Cases_Guinea  2776.0\n",
      "1    1/4/2015  288  Cases_Guinea  2775.0\n",
      "2    1/3/2015  287  Cases_Guinea  2769.0\n",
      "3    1/2/2015  286  Cases_Guinea     NaN\n",
      "4  12/31/2014  284  Cases_Guinea  2730.0\n"
     ]
    }
   ],
   "source": [
    "#Fusionamos nuestras columnas\n",
    "df_ebola_melt = pd.melt(df_ebola, id_vars = ['Date', 'Day'], var_name = 'type_country', value_name = 'deaths')\n",
    "\n",
    "#Mostramos el resultado\n",
    "print(df_ebola_melt.head())"
   ]
  },
  {
   "cell_type": "markdown",
   "metadata": {},
   "source": [
    "Ahora una vez tenemos esto, debemos crearnos la columna **country**, para esto disponemos del método **split()** este método nos permite separar un string por el separador que le indiquemos como parámetro, por defecto separa por espacio en blanco, esto nos retorna una lista."
   ]
  },
  {
   "cell_type": "code",
   "execution_count": 29,
   "metadata": {},
   "outputs": [
    {
     "name": "stdout",
     "output_type": "stream",
     "text": [
      "         Date  Day  type_country  deaths            split\n",
      "0    1/5/2015  289  Cases_Guinea  2776.0  [Cases, Guinea]\n",
      "1    1/4/2015  288  Cases_Guinea  2775.0  [Cases, Guinea]\n",
      "2    1/3/2015  287  Cases_Guinea  2769.0  [Cases, Guinea]\n",
      "3    1/2/2015  286  Cases_Guinea     NaN  [Cases, Guinea]\n",
      "4  12/31/2014  284  Cases_Guinea  2730.0  [Cases, Guinea]\n"
     ]
    }
   ],
   "source": [
    "#Nos creamos la columna spliteada\n",
    "df_ebola_melt['split'] = df_ebola_melt.type_country.str.split('_')\n",
    "\n",
    "#Observamos el resultado\n",
    "print(df_ebola_melt.head())"
   ]
  },
  {
   "cell_type": "code",
   "execution_count": 32,
   "metadata": {},
   "outputs": [
    {
     "name": "stdout",
     "output_type": "stream",
     "text": [
      "         Date  Day  type_country  deaths            split country\n",
      "0    1/5/2015  289  Cases_Guinea  2776.0  [Cases, Guinea]  Guinea\n",
      "1    1/4/2015  288  Cases_Guinea  2775.0  [Cases, Guinea]  Guinea\n",
      "2    1/3/2015  287  Cases_Guinea  2769.0  [Cases, Guinea]  Guinea\n",
      "3    1/2/2015  286  Cases_Guinea     NaN  [Cases, Guinea]  Guinea\n",
      "4  12/31/2014  284  Cases_Guinea  2730.0  [Cases, Guinea]  Guinea\n"
     ]
    }
   ],
   "source": [
    "#Nos creamos la columna country\n",
    "df_ebola_melt['country'] = df_ebola_melt.split.str.get(1)\n",
    "\n",
    "#Observamos el resultado\n",
    "print(df_ebola_melt.head())"
   ]
  },
  {
   "cell_type": "code",
   "execution_count": 35,
   "metadata": {},
   "outputs": [
    {
     "name": "stdout",
     "output_type": "stream",
     "text": [
      "         Date  Day  deaths country\n",
      "0    1/5/2015  289  2776.0  Guinea\n",
      "1    1/4/2015  288  2775.0  Guinea\n",
      "2    1/3/2015  287  2769.0  Guinea\n",
      "3    1/2/2015  286     NaN  Guinea\n",
      "4  12/31/2014  284  2730.0  Guinea\n"
     ]
    }
   ],
   "source": [
    "#Eliminamos las columnas innecesarias\n",
    "df_ebola_melt = df_ebola_melt.drop(['type_country', 'split'], axis = 1)\n",
    "\n",
    "#Vemos el resultado\n",
    "print(df_ebola_melt.head())"
   ]
  }
 ],
 "metadata": {
  "kernelspec": {
   "display_name": "Python 3",
   "language": "python",
   "name": "python3"
  },
  "language_info": {
   "codemirror_mode": {
    "name": "ipython",
    "version": 3
   },
   "file_extension": ".py",
   "mimetype": "text/x-python",
   "name": "python",
   "nbconvert_exporter": "python",
   "pygments_lexer": "ipython3",
   "version": "3.6.3"
  }
 },
 "nbformat": 4,
 "nbformat_minor": 2
}
