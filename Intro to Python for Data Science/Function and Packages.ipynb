{
 "cells": [
  {
   "cell_type": "markdown",
   "metadata": {},
   "source": [
    "# Familiar functions"
   ]
  },
  {
   "cell_type": "markdown",
   "metadata": {},
   "source": [
    "Python ofrece una gran cantidad de funciones ya hechas, para hacernos la vida como Data Scientist. Hasta ahora hemos hecho uso de dos funciones: type() y print(). La función len() se trata de una función extremadamente ya que sirve tanto para obtener el número de elementos de una lista, como en strings obtener el número de carácteres que tiene un string."
   ]
  },
  {
   "cell_type": "code",
   "execution_count": 2,
   "metadata": {},
   "outputs": [
    {
     "name": "stdout",
     "output_type": "stream",
     "text": [
      "<class 'list'>\n",
      "<class 'bool'>\n",
      "4\n",
      "11\n"
     ]
    }
   ],
   "source": [
    "#Nos creamos dos variables\n",
    "var1 = [1, 2, 3, 4]\n",
    "var2 = True\n",
    "var3 = 'hello world'\n",
    "#Ahora combinamos las funciones print y type para mostrar por pantalla de que tipo es cada variable\n",
    "print(type(var1))\n",
    "print(type(var2))\n",
    "print(len(var1))\n",
    "print(len(var3))"
   ]
  },
  {
   "cell_type": "markdown",
   "metadata": {},
   "source": [
    "# Help"
   ]
  },
  {
   "cell_type": "markdown",
   "metadata": {},
   "source": [
    "Si queremos conocer cual es la utilidad de una función, así como los distintos parámetros de los que hace uso una determinada función tenemos dos opciones:\n",
    "\n",
    "1. Hacer uso de help(function)\n",
    "2. ?function"
   ]
  },
  {
   "cell_type": "code",
   "execution_count": 3,
   "metadata": {},
   "outputs": [
    {
     "name": "stdout",
     "output_type": "stream",
     "text": [
      "Help on built-in function max in module builtins:\n",
      "\n",
      "max(...)\n",
      "    max(iterable, *[, default=obj, key=func]) -> value\n",
      "    max(arg1, arg2, *args, *[, key=func]) -> value\n",
      "    \n",
      "    With a single iterable argument, return its biggest item. The\n",
      "    default keyword-only argument specifies an object to return if\n",
      "    the provided iterable is empty.\n",
      "    With two or more arguments, return the largest argument.\n",
      "\n"
     ]
    }
   ],
   "source": [
    "#Vemos la ayuda de la función max\n",
    "help(max)"
   ]
  },
  {
   "cell_type": "code",
   "execution_count": 6,
   "metadata": {},
   "outputs": [],
   "source": [
    "#Vemos la ayuda de la función complex()\n",
    "?complex()"
   ]
  },
  {
   "cell_type": "markdown",
   "metadata": {},
   "source": [
    "# Multiple arguments"
   ]
  },
  {
   "cell_type": "markdown",
   "metadata": {},
   "source": [
    "Algunas funciones en Python disponen de argumentos opciones, es decir, argumentos que no son necesarios pasarselos a una función ya que toman un valor por defecto. También existen funciones a las que les tenemos que pasar más de un argumento."
   ]
  },
  {
   "cell_type": "code",
   "execution_count": 8,
   "metadata": {},
   "outputs": [
    {
     "name": "stdout",
     "output_type": "stream",
     "text": [
      "Help on built-in function sorted in module builtins:\n",
      "\n",
      "sorted(iterable, key=None, reverse=False)\n",
      "    Return a new list containing all items from the iterable in ascending order.\n",
      "    \n",
      "    A custom key function can be supplied to customise the sort order, and the\n",
      "    reverse flag can be set to request the result in descending order.\n",
      "\n"
     ]
    }
   ],
   "source": [
    "#Vemos la ayuda de la función sorted\n",
    "help(sorted)"
   ]
  },
  {
   "cell_type": "markdown",
   "metadata": {},
   "source": [
    "En este caso podemos ver como solo el argumento iterable es obligatorio, en este momento, debemos entender un elemento iterable como una colección de valores. Por otro lado, los argumentos key y reverse por defecto toman un valor."
   ]
  },
  {
   "cell_type": "code",
   "execution_count": 9,
   "metadata": {},
   "outputs": [
    {
     "name": "stdout",
     "output_type": "stream",
     "text": [
      "[70, 34, 20, 10, 1]\n"
     ]
    }
   ],
   "source": [
    "#Nos creamos una lista\n",
    "list_num = [10, 1, 20, 34, 70]\n",
    "#Hacemos uso de la función sorted para ordenar la lista pero con reverse igual a True\n",
    "list_num = sorted(list_num, reverse = True)\n",
    "#MOstramos el resultado por pantalla\n",
    "print(list_num)"
   ]
  },
  {
   "cell_type": "markdown",
   "metadata": {},
   "source": [
    "# Methods "
   ]
  },
  {
   "cell_type": "markdown",
   "metadata": {},
   "source": [
    "En Python todos los elementos son objetos, dependiendo del tipo de objeto que tengamos, estos tendrán asociados una serie de métodos. En resumen, un método es una función que pertenece a un tipo determinado de objeto."
   ]
  },
  {
   "cell_type": "markdown",
   "metadata": {},
   "source": [
    "# Strings methods"
   ]
  },
  {
   "cell_type": "markdown",
   "metadata": {},
   "source": [
    "Los Strings tiene un amplio abánico de métodos. Para ver todos y cada uno de los métodos de los que dispone este tipo de objetos podemos hacer uso del comando help(str). A continuación veremos algunos de los métodos disponibles para los strings."
   ]
  },
  {
   "cell_type": "code",
   "execution_count": 1,
   "metadata": {},
   "outputs": [
    {
     "name": "stdout",
     "output_type": "stream",
     "text": [
      "POOLHOUSE\n"
     ]
    }
   ],
   "source": [
    "# Upper, método que nos permite pasar un string a mayúsculas\n",
    "room = 'poolhouse'\n",
    "#Aplicamos el método upper\n",
    "room_up = room.upper()\n",
    "print(room_up)"
   ]
  },
  {
   "cell_type": "code",
   "execution_count": 2,
   "metadata": {},
   "outputs": [
    {
     "name": "stdout",
     "output_type": "stream",
     "text": [
      "3\n"
     ]
    }
   ],
   "source": [
    "#count, este método en un string nos permite saber el número de veces que aparece una determinada letra o \n",
    "#palabra\n",
    "print(room.count('o'))"
   ]
  },
  {
   "cell_type": "markdown",
   "metadata": {},
   "source": [
    "# List methods"
   ]
  },
  {
   "cell_type": "markdown",
   "metadata": {},
   "source": [
    "Las objetos tipo lista también tiene una gran cantidad de métodos, a continuación vamos a proceder a hacer uso de:\n",
    "\n",
    "1. index(): obtener el índice en una lista del elemento que le pasamos. En caso de que el elemento este repetido retorna el índice del primero que encuentra.\n",
    "2. count(): nos retorna el número de veces que aparece un determinado elemento en una lista.\n",
    "3. append(): agrega el elemento que le pasemos como parámetro al final de la lista\n",
    "4. remove(): elimina el elemento que le pasamos como parámetro de la lista. En caso de que el elemento se encuentre repetido solo elimina el primero que encuentre.\n",
    "5. reverse(): invierte el orden de los elementos de la lista que se le pasa como parámetro"
   ]
  },
  {
   "cell_type": "code",
   "execution_count": 7,
   "metadata": {},
   "outputs": [
    {
     "name": "stdout",
     "output_type": "stream",
     "text": [
      "0\n",
      "4\n"
     ]
    }
   ],
   "source": [
    "#Nos creamos una lista\n",
    "list_num = [1, 1, 2, 3, 4, 5, 5, 6, 7]\n",
    "#Hacemos uso de index\n",
    "print(list_num.index(1))\n",
    "print(list_num.index(4))"
   ]
  },
  {
   "cell_type": "code",
   "execution_count": 8,
   "metadata": {},
   "outputs": [
    {
     "name": "stdout",
     "output_type": "stream",
     "text": [
      "2\n"
     ]
    }
   ],
   "source": [
    "#Hacemos uso de la función count\n",
    "print(list_num.count(5))"
   ]
  },
  {
   "cell_type": "code",
   "execution_count": 9,
   "metadata": {},
   "outputs": [
    {
     "name": "stdout",
     "output_type": "stream",
     "text": [
      "[1, 1, 2, 3, 4, 5, 5, 6, 7, 8]\n"
     ]
    }
   ],
   "source": [
    "#Agregamos el elemento 8 a la lista\n",
    "list_num.append(8)\n",
    "print(list_num)"
   ]
  },
  {
   "cell_type": "code",
   "execution_count": 10,
   "metadata": {},
   "outputs": [
    {
     "name": "stdout",
     "output_type": "stream",
     "text": [
      "[1, 2, 3, 4, 5, 6, 7, 8]\n"
     ]
    }
   ],
   "source": [
    "#Eliminamos el elemento 1 y el 5 de la lista\n",
    "list_num.remove(1)\n",
    "list_num.remove(5)\n",
    "print(list_num)"
   ]
  },
  {
   "cell_type": "code",
   "execution_count": 11,
   "metadata": {},
   "outputs": [
    {
     "name": "stdout",
     "output_type": "stream",
     "text": [
      "[8, 7, 6, 5, 4, 3, 2, 1]\n"
     ]
    }
   ],
   "source": [
    "#Invertimos el orden de la lista\n",
    "list_num.reverse()\n",
    "print(list_num)"
   ]
  }
 ],
 "metadata": {
  "kernelspec": {
   "display_name": "Python 3",
   "language": "python",
   "name": "python3"
  },
  "language_info": {
   "codemirror_mode": {
    "name": "ipython",
    "version": 3
   },
   "file_extension": ".py",
   "mimetype": "text/x-python",
   "name": "python",
   "nbconvert_exporter": "python",
   "pygments_lexer": "ipython3",
   "version": "3.5.2"
  }
 },
 "nbformat": 4,
 "nbformat_minor": 2
}
