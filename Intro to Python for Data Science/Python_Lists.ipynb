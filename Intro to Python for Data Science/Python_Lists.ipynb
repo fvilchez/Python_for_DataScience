{
 "cells": [
  {
   "cell_type": "markdown",
   "metadata": {},
   "source": [
    "# Create a list "
   ]
  },
  {
   "cell_type": "markdown",
   "metadata": {},
   "source": [
    "Una lista (también conocidas como vectores o arrays) es una variable que, en lugar de contener un valor, contiene una secuencia de estos, a los que se puede acceder por su índice o posición."
   ]
  },
  {
   "cell_type": "code",
   "execution_count": 1,
   "metadata": {},
   "outputs": [
    {
     "name": "stdout",
     "output_type": "stream",
     "text": [
      "[11.25, 18.0, 20.0, 10.75, 9.5]\n"
     ]
    }
   ],
   "source": [
    "#Area (en m2) de las distintas zonas de una casa\n",
    "hall = 11.25\n",
    "kit = 18.0\n",
    "liv = 20.0\n",
    "bed = 10.75\n",
    "bath = 9.50\n",
    "#Nos creamos una lista de areas\n",
    "area_list = [hall, kit, liv, bed, bath]\n",
    "#Mostramos por pantalla el resultado\n",
    "print(area_list)"
   ]
  },
  {
   "cell_type": "markdown",
   "metadata": {},
   "source": [
    "# Create list with different types"
   ]
  },
  {
   "cell_type": "markdown",
   "metadata": {},
   "source": [
    "Una lista puede contener cualquier Python Type. Incluso aunque no es muy común puede contener tipos de variables mixtos."
   ]
  },
  {
   "cell_type": "code",
   "execution_count": 2,
   "metadata": {},
   "outputs": [
    {
     "name": "stdout",
     "output_type": "stream",
     "text": [
      "['hallway', 11.25, 'kitchen', 18.0, 'living room', 20.0, 'bedroom', 10.75, 'bathroom', 9.5]\n"
     ]
    }
   ],
   "source": [
    "#Nos creamos una lista mixta\n",
    "area_list = ['hallway', hall, 'kitchen', kit, 'living room', liv, 'bedroom', bed, 'bathroom', bath]\n",
    "#Mostramos el resultado por pantalla\n",
    "print(area_list)"
   ]
  },
  {
   "cell_type": "markdown",
   "metadata": {},
   "source": [
    "# List of lists"
   ]
  },
  {
   "cell_type": "markdown",
   "metadata": {},
   "source": [
    "Ya hemos dicho que una lista puede contener cualquier tipo de type, puesto que una lista es un python type, una lista puede contener a si misma a otra lista."
   ]
  },
  {
   "cell_type": "code",
   "execution_count": 4,
   "metadata": {},
   "outputs": [
    {
     "name": "stdout",
     "output_type": "stream",
     "text": [
      "[['hallway', 11.25], ['kitchen', 18.0], ['living room', 20.0], ['bedroom', 10.75], ['bathroom', 9.5]]\n",
      "<class 'list'>\n"
     ]
    }
   ],
   "source": [
    "#Nos creamos una lista de listas\n",
    "area_list = [['hallway', hall], ['kitchen', kit], ['living room', liv], ['bedroom', bed], ['bathroom', bath]]\n",
    "#Mostramos el resultado por pantalla\n",
    "print(area_list)\n",
    "print(type(area_list))"
   ]
  },
  {
   "cell_type": "markdown",
   "metadata": {},
   "source": [
    "# Subset and conquer"
   ]
  },
  {
   "cell_type": "markdown",
   "metadata": {},
   "source": [
    "Subset una lista es como seleccionar un trozo de pastel. Debemos tener claro que el primer elemento de una lista empieza por el índice 0. Además podemos hacer uso de índices negativos para seleccionar elementos empezando por el final. "
   ]
  },
  {
   "cell_type": "code",
   "execution_count": 5,
   "metadata": {},
   "outputs": [
    {
     "name": "stdout",
     "output_type": "stream",
     "text": [
      "hallway\n",
      "9.5\n",
      "18.0\n"
     ]
    }
   ],
   "source": [
    "#Nos creamos una lista \n",
    "area_list = ['hallway', hall, 'kitchen', kit, 'living room', liv, 'bedroom', bed, 'bathroom', bath]\n",
    "#Seleccionamos el primer elemento de la lista\n",
    "print(area_list[0])\n",
    "#Seleccionamos el último elemento de una lista\n",
    "print(area_list[-1])\n",
    "#Seleccinamos el elemento que representa el área de la cocina\n",
    "print(area_list[3])"
   ]
  },
  {
   "cell_type": "markdown",
   "metadata": {},
   "source": [
    "# Subset and calculate"
   ]
  },
  {
   "cell_type": "markdown",
   "metadata": {},
   "source": [
    "Una vez hemos extraido elementos de una lista podemos hacer uso de estos elementos, para por ejemplo, realizar algún tipo de cálculo."
   ]
  },
  {
   "cell_type": "code",
   "execution_count": 6,
   "metadata": {},
   "outputs": [
    {
     "name": "stdout",
     "output_type": "stream",
     "text": [
      "29.25\n"
     ]
    }
   ],
   "source": [
    "#Sumamos el area de la cocina y del vestíbulo\n",
    "sub_area = area_list[1] + area_list[3]\n",
    "#Mostramos el resultado por pantalla\n",
    "print(sub_area)"
   ]
  },
  {
   "cell_type": "markdown",
   "metadata": {},
   "source": [
    "# Slicing and dicing"
   ]
  },
  {
   "cell_type": "markdown",
   "metadata": {},
   "source": [
    "Es posible seleccionar de forma simultánea múltiples elementos de una lista, para ello podemos hacer uso de la sintáxis: list\\[start:end\\]. El índice que corresponde a start es incluido, mientras que el índice que corresponde a end no es incluido."
   ]
  },
  {
   "cell_type": "code",
   "execution_count": 8,
   "metadata": {},
   "outputs": [
    {
     "name": "stdout",
     "output_type": "stream",
     "text": [
      "['hallway', 11.25, 'kitchen', 18.0]\n",
      "['bedroom', 10.75, 'bathroom', 9.5]\n"
     ]
    }
   ],
   "source": [
    "#Nos creamos la lista\n",
    "areas = [\"hallway\", 11.25, \"kitchen\", 18.0, \"living room\", 20.0, \"bedroom\", 10.75, \"bathroom\", 9.50]\n",
    "#Seleccionamos los 4 primeros elementos\n",
    "print(areas[0:4])\n",
    "#Seleccionamos los 4 últimos elementos\n",
    "print(areas[6:10])"
   ]
  },
  {
   "cell_type": "markdown",
   "metadata": {},
   "source": [
    "# Slicing and dicing (2)"
   ]
  },
  {
   "cell_type": "markdown",
   "metadata": {},
   "source": [
    "Es posible realizar una selección sin especificar ambos índices. Por ejemplo, si queremos seleccionar los 4 primeros elementos podemos hacer uso de lista\\[:end\\], o si por el contrario queremos seleccionar los últimos cuatro elementos podemos hacer uso de lista\\[6:\\]."
   ]
  },
  {
   "cell_type": "code",
   "execution_count": 9,
   "metadata": {},
   "outputs": [
    {
     "name": "stdout",
     "output_type": "stream",
     "text": [
      "['hallway', 11.25, 'kitchen', 18.0]\n",
      "['bedroom', 10.75, 'bathroom', 9.5]\n"
     ]
    }
   ],
   "source": [
    "#Seleccionamos los 4 primeros elementos\n",
    "print(areas[:4])\n",
    "#Seleccionamos los 4 últimos elementos\n",
    "print(areas[-4:])"
   ]
  },
  {
   "cell_type": "markdown",
   "metadata": {},
   "source": [
    "# Subsetting list of lists"
   ]
  },
  {
   "cell_type": "code",
   "execution_count": 11,
   "metadata": {},
   "outputs": [
    {
     "name": "stdout",
     "output_type": "stream",
     "text": [
      "f\n",
      "['g', 'h']\n"
     ]
    }
   ],
   "source": [
    "#Nos creamos la lista\n",
    "x = [[\"a\", \"b\", \"c\"],\n",
    "     [\"d\", \"e\", \"f\"],\n",
    "     [\"g\", \"h\", \"i\"]]\n",
    "\n",
    "#Seleccionamos el último elemento de la segunda lista\n",
    "print(x[1][-1])\n",
    "#Seleccionamos el primer y el segundo elemento de la tercera lista\n",
    "print(x[2][:2])"
   ]
  },
  {
   "cell_type": "markdown",
   "metadata": {},
   "source": [
    "# Replace list elements "
   ]
  },
  {
   "cell_type": "markdown",
   "metadata": {},
   "source": [
    "Reemplazar elementos en una lista es muy sencillo. Simplemente debemos seleccionar el elemento o los elementos que deseamos cambiar y asignarle el valor deseado."
   ]
  },
  {
   "cell_type": "code",
   "execution_count": 14,
   "metadata": {},
   "outputs": [
    {
     "name": "stdout",
     "output_type": "stream",
     "text": [
      "['Barcelona', 'Madrid', 'Órgiva']\n"
     ]
    }
   ],
   "source": [
    "#Nos creamos una lista de ciudades\n",
    "lista_ciudades = ['Barcelona', 'Madrid', 'Marbella']\n",
    "#Cambiamos el valor del tercer elemento\n",
    "lista_ciudades[2] = 'Órgiva'\n",
    "#Mostramos el resultado\n",
    "print(lista_ciudades)"
   ]
  },
  {
   "cell_type": "code",
   "execution_count": 15,
   "metadata": {},
   "outputs": [
    {
     "name": "stdout",
     "output_type": "stream",
     "text": [
      "['Madrid', 'Almería', 'Órgiva']\n"
     ]
    }
   ],
   "source": [
    "#Cambiamos el nombre de las dos primeras ciudades\n",
    "lista_ciudades[:2] = ['Madrid', 'Almería']\n",
    "#Mostramos el resultado\n",
    "print(lista_ciudades)"
   ]
  },
  {
   "cell_type": "markdown",
   "metadata": {},
   "source": [
    "# Extend a list"
   ]
  },
  {
   "cell_type": "markdown",
   "metadata": {},
   "source": [
    "A la hora de agregar elementos a una lista tenemos varias opciones aunque de las más usadas es el operador +"
   ]
  },
  {
   "cell_type": "code",
   "execution_count": 16,
   "metadata": {},
   "outputs": [
    {
     "name": "stdout",
     "output_type": "stream",
     "text": [
      "['Madrid', 'Almería', 'Órgiva', 'Granada', 'Marbella', 'Barcelona', 'Chicago']\n"
     ]
    }
   ],
   "source": [
    "lista_ciudades += ['Granada', 'Marbella', 'Barcelona', 'Chicago']\n",
    "print(lista_ciudades)"
   ]
  },
  {
   "cell_type": "markdown",
   "metadata": {},
   "source": [
    "# Delete list elements"
   ]
  },
  {
   "cell_type": "markdown",
   "metadata": {},
   "source": [
    "Una de las formas que tenemos de eliminar elementos de nuestra lista es haciendo uso de la función del()."
   ]
  },
  {
   "cell_type": "code",
   "execution_count": 17,
   "metadata": {},
   "outputs": [
    {
     "name": "stdout",
     "output_type": "stream",
     "text": [
      "['Madrid', 'Almería', 'Órgiva', 'Granada', 'Marbella', 'Barcelona']\n"
     ]
    }
   ],
   "source": [
    "#Eliminamos el último elemento de nuestra lista\n",
    "del(lista_ciudades[-1])\n",
    "print(lista_ciudades)"
   ]
  },
  {
   "cell_type": "markdown",
   "metadata": {},
   "source": [
    "# Inner working with list"
   ]
  },
  {
   "cell_type": "markdown",
   "metadata": {},
   "source": [
    "Cuando nos creamos una lista en Python esta es almacenada en un lugar de nuestro computador. Cuando a esta lista le asignamos una variables esta variable apunta a ese espacio de memoria. Si nos creamos una lista x y deseamos crearnos una lista y que sea igual a la lista x, si hacemos uso de la expresión y = x, en este caso lo que hacemos es que la variable y apunta al mismo espacio de memoria que x, por lo que un cambio en y provoca un cambio en x."
   ]
  },
  {
   "cell_type": "code",
   "execution_count": 19,
   "metadata": {},
   "outputs": [
    {
     "name": "stdout",
     "output_type": "stream",
     "text": [
      "[1, 2, 3, 4]\n",
      "[1, 2, 3, 4]\n"
     ]
    }
   ],
   "source": [
    "#Nos creamos una lista\n",
    "x = [1, 2, 3]\n",
    "#Nos creamos una lista y igual a x\n",
    "y = x\n",
    "#Hacemos cambios en y\n",
    "y += [4]\n",
    "#Mostramos las dos listas\n",
    "print(x)\n",
    "print(y)"
   ]
  },
  {
   "cell_type": "markdown",
   "metadata": {},
   "source": [
    "Si queremos que esto no ocurra podemos hacer uso de la función list() o bien seleccionar todos los elementos de x."
   ]
  },
  {
   "cell_type": "code",
   "execution_count": 20,
   "metadata": {},
   "outputs": [
    {
     "name": "stdout",
     "output_type": "stream",
     "text": [
      "[1, 2, 3]\n",
      "[1, 2, 3, 4]\n",
      "[1, 2, 3, 4, 5]\n"
     ]
    }
   ],
   "source": [
    "#Nos creamos la lista x\n",
    "x = [1, 2, 3]\n",
    "#Nos creamos la lista y igual a la lista x\n",
    "y = list(x)\n",
    "#Modifica la lista y\n",
    "y += [4]\n",
    "#Nos creamos la lista z igual a la lista y\n",
    "z = y[:]\n",
    "#Modificamos la lista z\n",
    "z += [5]\n",
    "#Mostramos las tres listas\n",
    "print(x)\n",
    "print(y)\n",
    "print(z)"
   ]
  }
 ],
 "metadata": {
  "kernelspec": {
   "display_name": "Python 3",
   "language": "python",
   "name": "python3"
  },
  "language_info": {
   "codemirror_mode": {
    "name": "ipython",
    "version": 3
   },
   "file_extension": ".py",
   "mimetype": "text/x-python",
   "name": "python",
   "nbconvert_exporter": "python",
   "pygments_lexer": "ipython3",
   "version": "3.5.2"
  }
 },
 "nbformat": 4,
 "nbformat_minor": 2
}
