{
 "cells": [
  {
   "cell_type": "markdown",
   "metadata": {},
   "source": [
    "Numpy se trata de un paquete fundamental para la computación científica con Python. Entre una gran conjunto de herramientas Numpy contiene:\n",
    "\n",
    "1. Los objetos de tipo array que se tratan de objetos muy potentes para trabajar en N-dimensiones.\n",
    "2. Sofisticadas funciones.\n",
    "3. Herramientas integradas en C/C++ y Fortran.\n",
    "4. Utilidades para Algebra lineal, transformada de Fourier, y capacidades para trabajar con números aleatorios."
   ]
  },
  {
   "cell_type": "markdown",
   "metadata": {},
   "source": [
    "# Your first Numpy Array"
   ]
  },
  {
   "cell_type": "markdown",
   "metadata": {},
   "source": [
    "A continuación vamos a crearnos una lista que contiene la altura de distintos jugadores de beísbol en cm. El objetivo pasar esta lista a numpy array."
   ]
  },
  {
   "cell_type": "code",
   "execution_count": 3,
   "metadata": {},
   "outputs": [
    {
     "name": "stdout",
     "output_type": "stream",
     "text": [
      "<class 'numpy.ndarray'>\n"
     ]
    }
   ],
   "source": [
    "#Importamos la librería \n",
    "import numpy as np\n",
    "#Nos creamos la lista\n",
    "baseball = [180, 215, 210, 210, 188, 176, 209, 200]\n",
    "#A partir de la lista baseball nos creamos un numpy array \n",
    "np_baseball = np.array(baseball)\n",
    "#Vemos el tipo de np_baseball\n",
    "print(type(np_baseball))"
   ]
  },
  {
   "cell_type": "markdown",
   "metadata": {},
   "source": [
    "# Baseball player's height"
   ]
  },
  {
   "cell_type": "markdown",
   "metadata": {},
   "source": [
    "A continuación disponemos de una lista que contiene algunas medidas de jugadores de beísbol. Resulta que esta medida se encuentra en pulgadas y nuestro objetivo es pasarlas a metros. Para ello debemos de hacer uso de Numpy arrays."
   ]
  },
  {
   "cell_type": "code",
   "execution_count": 5,
   "metadata": {},
   "outputs": [
    {
     "name": "stdout",
     "output_type": "stream",
     "text": [
      "[74 74 72 72 73 69 69 71 76 71 73 73 74 74 69 70]\n"
     ]
    }
   ],
   "source": [
    "#Nos creamos la lista de la altura en pulgadas\n",
    "height = [74,74,72,72,73,69,69,71,76,71,73,73,74,74,69,70]\n",
    "#Pasamos esta lista a tipo Numpy\n",
    "np_height = np.array(height)\n",
    "#Mostramos el resultado\n",
    "print(height_np)"
   ]
  },
  {
   "cell_type": "code",
   "execution_count": 8,
   "metadata": {},
   "outputs": [
    {
     "name": "stdout",
     "output_type": "stream",
     "text": [
      "[1.8796 1.8796 1.8288 1.8288 1.8542 1.7526 1.7526 1.8034 1.9304 1.8034\n",
      " 1.8542 1.8542 1.8796 1.8796 1.7526 1.778 ]\n"
     ]
    }
   ],
   "source": [
    "#Pasamos a metros la altura\n",
    "np_height_m = np_height * 0.0254\n",
    "#Mostramos el resultado\n",
    "print(np_height_m)"
   ]
  },
  {
   "cell_type": "markdown",
   "metadata": {},
   "source": [
    "# Baseball player's BMI"
   ]
  },
  {
   "cell_type": "markdown",
   "metadata": {},
   "source": [
    "A continuación nos proporcionan información respecto al peso de dichos jugadores en libras. Se nos pide calcular el índice de mas corporal de cada uno de los jugadores."
   ]
  },
  {
   "cell_type": "code",
   "execution_count": 9,
   "metadata": {},
   "outputs": [
    {
     "name": "stdout",
     "output_type": "stream",
     "text": [
      "[23.11037639 27.60406069 28.48080465 28.48080465 24.80333518 25.99036864\n",
      " 30.86356276 27.89402921 28.11789135 25.10462629 24.80333518 23.7478741\n",
      " 23.75233129 20.54255679 26.58105883 26.54444207]\n"
     ]
    }
   ],
   "source": [
    "#Nos creamos la lista con el peso \n",
    "weight = [180,215,210,210,188,176,209,200,231,180,188,180,185,160,180,185]\n",
    "#Pasamos a tipo Numpy\n",
    "np_weight = np.array(weight)\n",
    "#Pasamos las libras a kg\n",
    "np_weight_kg = np_weight * 0.453592\n",
    "#Calculamos el índice de masa coorporal de cada jugador\n",
    "bmi = np_weight_kg / np_height_m ** 2\n",
    "#Mostramos el resultado \n",
    "print(bmi)"
   ]
  },
  {
   "cell_type": "markdown",
   "metadata": {},
   "source": [
    "# Lightweight baseball players"
   ]
  },
  {
   "cell_type": "markdown",
   "metadata": {},
   "source": [
    "Para realizar la selección de un elemento en un Numpy Array, hacemos uso de los corchetes. "
   ]
  },
  {
   "cell_type": "code",
   "execution_count": 13,
   "metadata": {},
   "outputs": [
    {
     "name": "stdout",
     "output_type": "stream",
     "text": [
      "23.11037638875862\n"
     ]
    }
   ],
   "source": [
    "#Seleccionamos el primer elemento del array bmi\n",
    "print(bmi[0])"
   ]
  },
  {
   "cell_type": "code",
   "execution_count": 15,
   "metadata": {},
   "outputs": [
    {
     "name": "stdout",
     "output_type": "stream",
     "text": [
      "[23.11037639 27.60406069 28.48080465 28.48080465]\n"
     ]
    }
   ],
   "source": [
    "#Seleccionamos las 4 primeros elementos del array bmi\n",
    "print(bmi[:4])"
   ]
  },
  {
   "cell_type": "markdown",
   "metadata": {},
   "source": [
    "Podemos hacer uso de boolean Numpy Arrays para seleccionar elementos. Por ejemplo supongamos que queremos seleccionar aquellos jugadores que tienen un bmi inferiro a 21. Al hacer bmi < 21 esto retornará un array booleana de forma que si le pasamos a bmi dicha array booleana seleccionara solo aquellos elementos que cumpla la condición deseada"
   ]
  },
  {
   "cell_type": "code",
   "execution_count": 17,
   "metadata": {},
   "outputs": [
    {
     "name": "stdout",
     "output_type": "stream",
     "text": [
      "[1.8796]\n"
     ]
    }
   ],
   "source": [
    "#Seleccionamos la altura de aquellos jugadores que tienen un bmi inferior a 21\n",
    "print(np_height_m[bmi < 21])"
   ]
  },
  {
   "cell_type": "markdown",
   "metadata": {},
   "source": [
    "Es muy importante tener encuenta que un Numpy Array no puede contener elementos de distinto tipo. En caso de que esto ocurra se produce la coerción y lo que ocurrer es que todos los elementos de nuestro Numpy Array pasarán a ser strings."
   ]
  },
  {
   "cell_type": "markdown",
   "metadata": {},
   "source": [
    "# Your first 2D Numpy Array "
   ]
  },
  {
   "cell_type": "markdown",
   "metadata": {},
   "source": [
    "A continuacón vamos a crear una lista de listas, donde cada una de las listas contiene la altura y el peso de un determinado jugador de beísbol."
   ]
  },
  {
   "cell_type": "code",
   "execution_count": 1,
   "metadata": {},
   "outputs": [
    {
     "name": "stdout",
     "output_type": "stream",
     "text": [
      "<class 'numpy.ndarray'>\n",
      "(4, 2)\n"
     ]
    }
   ],
   "source": [
    "#Importamos numpy\n",
    "import numpy as np\n",
    "#Nos creamos la lista\n",
    "baseball = [[180, 78.4],\n",
    "            [215, 102.7],\n",
    "            [210, 98.5],\n",
    "            [188, 75.2]]\n",
    "#Nos creamos un Numpy Array de tipo 2D\n",
    "np_baseball = np.array(baseball)\n",
    "#Mostramos el tipo\n",
    "print(type(np_baseball))\n",
    "#Mostramos el tamaño\n",
    "print(np_baseball.shape)"
   ]
  },
  {
   "cell_type": "markdown",
   "metadata": {},
   "source": [
    "# Subsetting 2D Numpy Arrays "
   ]
  },
  {
   "cell_type": "markdown",
   "metadata": {},
   "source": [
    "A la hora de seleccionar elementos de una matriz numpy 2D, tenemos dos posibles opciones:\n",
    "\n",
    "1. matriz\\[fila\\]\\[columna\\]\n",
    "2. matriz\\[fila,columna\\]"
   ]
  },
  {
   "cell_type": "code",
   "execution_count": 2,
   "metadata": {},
   "outputs": [
    {
     "name": "stdout",
     "output_type": "stream",
     "text": [
      "78.4\n"
     ]
    }
   ],
   "source": [
    "#Seleccionamos la primera fila y la segunda columna para seleccionar el peso del primer jugador\n",
    "print(np_baseball[0][1])"
   ]
  },
  {
   "cell_type": "code",
   "execution_count": 4,
   "metadata": {},
   "outputs": [
    {
     "name": "stdout",
     "output_type": "stream",
     "text": [
      "210.0\n"
     ]
    }
   ],
   "source": [
    "#Seleccionamos la tercera fila y la primera columna para seleccionar la altura del tercer jugador\n",
    "print(np_baseball[2,0])"
   ]
  },
  {
   "cell_type": "code",
   "execution_count": 5,
   "metadata": {},
   "outputs": [
    {
     "name": "stdout",
     "output_type": "stream",
     "text": [
      "[180. 215. 210. 188.]\n"
     ]
    }
   ],
   "source": [
    "#Seleccionamos la estatura de todos los jugadores\n",
    "print(np_baseball[:,0])"
   ]
  },
  {
   "cell_type": "code",
   "execution_count": 6,
   "metadata": {},
   "outputs": [
    {
     "name": "stdout",
     "output_type": "stream",
     "text": [
      "[[210.   98.5]\n",
      " [188.   75.2]]\n"
     ]
    }
   ],
   "source": [
    "#Seleccionamos la info del tercer y cuarto jugador\n",
    "print(np_baseball[2:,:])"
   ]
  },
  {
   "cell_type": "markdown",
   "metadata": {},
   "source": [
    "# 2D Arithmetic"
   ]
  },
  {
   "cell_type": "markdown",
   "metadata": {},
   "source": [
    "Al igual que en el caso de una dimensión podemos realizar operaciones aritméticas con las matrices 2D. A continuación vamos a proceder a realizar la conversión de pulgadas a metros y de libras a kg."
   ]
  },
  {
   "cell_type": "code",
   "execution_count": 9,
   "metadata": {},
   "outputs": [
    {
     "name": "stdout",
     "output_type": "stream",
     "text": [
      "[[81.64656   1.99136 ]\n",
      " [97.52228   2.60858 ]\n",
      " [95.25432   2.5019  ]\n",
      " [85.275296  1.91008 ]]\n"
     ]
    }
   ],
   "source": [
    "#Nos creamos la matriz de conversión\n",
    "conversion = np.array([0.453592, 0.0254])\n",
    "#Realizamos el producto\n",
    "result = np_baseball * conversion\n",
    "print(result)"
   ]
  }
 ],
 "metadata": {
  "kernelspec": {
   "display_name": "Python 3",
   "language": "python",
   "name": "python3"
  },
  "language_info": {
   "codemirror_mode": {
    "name": "ipython",
    "version": 3
   },
   "file_extension": ".py",
   "mimetype": "text/x-python",
   "name": "python",
   "nbconvert_exporter": "python",
   "pygments_lexer": "ipython3",
   "version": "3.5.2"
  }
 },
 "nbformat": 4,
 "nbformat_minor": 2
}
