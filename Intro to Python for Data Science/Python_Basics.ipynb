{
 "cells": [
  {
   "cell_type": "markdown",
   "metadata": {},
   "source": [
    "# Python as Calculator"
   ]
  },
  {
   "cell_type": "markdown",
   "metadata": {},
   "source": [
    "En su forma más básica Python puede ser usado como una simple calculadora para realizar operaciones como: suma, resta, división, multiplicación, división, exponente o módulo."
   ]
  },
  {
   "cell_type": "code",
   "execution_count": 1,
   "metadata": {},
   "outputs": [
    {
     "name": "stdout",
     "output_type": "stream",
     "text": [
      "10\n",
      "1\n"
     ]
    }
   ],
   "source": [
    "#Suma y Resta\n",
    "print( 5 + 5)\n",
    "print( 6 - 5)"
   ]
  },
  {
   "cell_type": "code",
   "execution_count": 2,
   "metadata": {},
   "outputs": [
    {
     "name": "stdout",
     "output_type": "stream",
     "text": [
      "40\n",
      "3.75\n"
     ]
    }
   ],
   "source": [
    "#Multiplicación y División\n",
    "print(5 * 8)\n",
    "print(15 / 4)"
   ]
  },
  {
   "cell_type": "code",
   "execution_count": 3,
   "metadata": {},
   "outputs": [
    {
     "name": "stdout",
     "output_type": "stream",
     "text": [
      "3125\n"
     ]
    }
   ],
   "source": [
    "#Exponente\n",
    "print(5 ** 5)"
   ]
  },
  {
   "cell_type": "code",
   "execution_count": 4,
   "metadata": {},
   "outputs": [
    {
     "name": "stdout",
     "output_type": "stream",
     "text": [
      "3\n"
     ]
    }
   ],
   "source": [
    "#Módulo\n",
    "print(15 % 4)"
   ]
  },
  {
   "cell_type": "markdown",
   "metadata": {},
   "source": [
    "# Variable Assignment"
   ]
  },
  {
   "cell_type": "markdown",
   "metadata": {},
   "source": [
    "En Python una variable permite referirnos a un valor con un nombre. Para crear una variable en Python hacemos uso del signo igual (=)."
   ]
  },
  {
   "cell_type": "code",
   "execution_count": 5,
   "metadata": {},
   "outputs": [
    {
     "name": "stdout",
     "output_type": "stream",
     "text": [
      "100\n"
     ]
    }
   ],
   "source": [
    "#Nos creamos la variable savings con valor\n",
    "savings = 100\n",
    "#Mostramos el contenido de la variable por pantalla\n",
    "print(savings)"
   ]
  },
  {
   "cell_type": "markdown",
   "metadata": {},
   "source": [
    "También podemos hacer uso de las variables para hacer operaciones. Supongamos que tenemos 100€ en el banco, de forma que nos generan al año un 10%, de forma que en el primer año tendremos 100 * 1.1 y el segundo año tendremos 100 * 1.1 * 1.1. Obtener el dinero que tendremos tras pasar 7 años."
   ]
  },
  {
   "cell_type": "code",
   "execution_count": 6,
   "metadata": {},
   "outputs": [
    {
     "name": "stdout",
     "output_type": "stream",
     "text": [
      "194.87171000000012\n"
     ]
    }
   ],
   "source": [
    "#Nos creamos la variable money_ini que vale 100€\n",
    "money_ini = 100\n",
    "#Nos creamos otra variable con el factor multiplicativo\n",
    "factor = 1.1\n",
    "#Nos cremos el resultado\n",
    "result = money_ini * (1.1 ** 7)\n",
    "#Mostramos el resultado por pantalla\n",
    "print(result)"
   ]
  },
  {
   "cell_type": "markdown",
   "metadata": {},
   "source": [
    "# Other Varibles types"
   ]
  },
  {
   "cell_type": "markdown",
   "metadata": {},
   "source": [
    "Anteriormente hemos trabajado con dos tipos de variables:\n",
    "\n",
    "1. int, o enteras: número sin parte decimal. Por ejemplo la variable money_ini que tomaba el valor 100\n",
    "\n",
    "2. float, o de punto flotante: número que tiene tanto parte entera como parte decimal. Por ejemplo, la variable factor que tomaba el valor 1.1\n",
    "\n",
    "Existen otros dos tipos de variables que son muy comunes:\n",
    "\n",
    "1. str, o string: representan texto. Se puede hacer uso de comillas simples o dobles para representar un string.\n",
    "\n",
    "2. bool, o booleana: variable que representa valores lógicos. Sólo puede tomar los valores de True o False. Destacar que en Python ambas van con la primera letra en mayúscula."
   ]
  },
  {
   "cell_type": "code",
   "execution_count": 7,
   "metadata": {},
   "outputs": [],
   "source": [
    "#Nos creamos las variable de tipo string saludo\n",
    "saludo = 'Hola'\n",
    "#Nos creamos la variable de tipo string despedida\n",
    "despedida = \"Adios\"\n",
    "#Nos creamos la variable booleana blanco de valor False\n",
    "blanco = False\n",
    "#Nos creamos la variable booleana azul con el valor True\n",
    "azul = True"
   ]
  },
  {
   "cell_type": "markdown",
   "metadata": {},
   "source": [
    "# Guess the type"
   ]
  },
  {
   "cell_type": "markdown",
   "metadata": {},
   "source": [
    "Para obtener el tipo de un valor o de una variable, podemos hacer uso de la función type(). "
   ]
  },
  {
   "cell_type": "code",
   "execution_count": 9,
   "metadata": {},
   "outputs": [
    {
     "name": "stdout",
     "output_type": "stream",
     "text": [
      "<class 'bool'>\n",
      "<class 'str'>\n"
     ]
    }
   ],
   "source": [
    "#Vemos el tipo de la variable azul\n",
    "print(type(azul))\n",
    "print(type(saludo))"
   ]
  },
  {
   "cell_type": "markdown",
   "metadata": {},
   "source": [
    "# Operations with other types"
   ]
  },
  {
   "cell_type": "markdown",
   "metadata": {},
   "source": [
    "Las operaciones ariméticas vistas anteriormente, aplicadas a variables por ejemplo de tipo string, afectan de forma distinta que cuando se aplican sobre variables numéricas."
   ]
  },
  {
   "cell_type": "code",
   "execution_count": 10,
   "metadata": {},
   "outputs": [
    {
     "name": "stdout",
     "output_type": "stream",
     "text": [
      "HolaAdios\n"
     ]
    }
   ],
   "source": [
    "#Hacemos la suma de dos strings\n",
    "saludo = 'Hola'\n",
    "despedida = 'Adios'\n",
    "frase  = saludo + despedida\n",
    "print(frase)"
   ]
  },
  {
   "cell_type": "markdown",
   "metadata": {},
   "source": [
    "Podemos ver como la suma lo que hace es unir dos strings. Por otro lado la multiplicación de un string por un número entero lo que hace es repetir el string que se multiplica tantas veces como el valor del entero que lo multiplica."
   ]
  },
  {
   "cell_type": "code",
   "execution_count": 12,
   "metadata": {},
   "outputs": [
    {
     "name": "stdout",
     "output_type": "stream",
     "text": [
      "HolaHolaHolaHola\n"
     ]
    }
   ],
   "source": [
    "#Vemos el efecto de la multiplación en nuestra variable de tipo string\n",
    "saludo = 'Hola'\n",
    "echo = saludo * 4\n",
    "print(echo)"
   ]
  },
  {
   "cell_type": "markdown",
   "metadata": {},
   "source": [
    "# Type Conversion"
   ]
  },
  {
   "cell_type": "markdown",
   "metadata": {},
   "source": [
    "Visto lo anterior, podemos ver que la suma entre strings pueden hacer que tengamos mensajes. Pero debemos tener cuidado ya que no podemos sumar strings con enteros. Para integrar un entero a un mensaje una de las opciones pasa por pasar este entero a tipo string, para ello contamos con la función str()."
   ]
  },
  {
   "cell_type": "code",
   "execution_count": 14,
   "metadata": {},
   "outputs": [
    {
     "name": "stdout",
     "output_type": "stream",
     "text": [
      "Tengo un total de 100€\n"
     ]
    }
   ],
   "source": [
    "#Nos creamos la variable entera money_ini\n",
    "money_ini = 100\n",
    "#Pasamos a str la variable money_ini para poder meterla en el mensaje\n",
    "frase = 'Tengo un total de ' + str(money_ini) + '€'\n",
    "print(frase)"
   ]
  },
  {
   "cell_type": "markdown",
   "metadata": {},
   "source": [
    "Similar a str(), tenemos las funciones int(), bool() o float()."
   ]
  },
  {
   "cell_type": "code",
   "execution_count": null,
   "metadata": {},
   "outputs": [],
   "source": []
  },
  {
   "cell_type": "code",
   "execution_count": null,
   "metadata": {},
   "outputs": [],
   "source": []
  }
 ],
 "metadata": {
  "kernelspec": {
   "display_name": "Python 3",
   "language": "python",
   "name": "python3"
  },
  "language_info": {
   "codemirror_mode": {
    "name": "ipython",
    "version": 3
   },
   "file_extension": ".py",
   "mimetype": "text/x-python",
   "name": "python",
   "nbconvert_exporter": "python",
   "pygments_lexer": "ipython3",
   "version": "3.5.2"
  }
 },
 "nbformat": 4,
 "nbformat_minor": 2
}
