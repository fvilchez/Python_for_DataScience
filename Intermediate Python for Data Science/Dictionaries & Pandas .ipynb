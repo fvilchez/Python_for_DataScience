{
 "cells": [
  {
   "cell_type": "markdown",
   "metadata": {},
   "source": [
    "# Motivation for dictionaries"
   ]
  },
  {
   "cell_type": "markdown",
   "metadata": {},
   "source": [
    "Para ver de forma más clara como los diccionarios nos pueden ser de ayuda supongamos el siguiente ejemplo: supongamos que tenemos dos listas una que contiene el nombre de países y otra lista que contiene las capitales de estos países. "
   ]
  },
  {
   "cell_type": "code",
   "execution_count": 1,
   "metadata": {},
   "outputs": [],
   "source": [
    "#Nos creamos una lista con los nombres de los países\n",
    "countries = ['spain', 'france', 'germany', 'norway']\n",
    "capitals = ['madrid', 'paris', 'berlin', 'oslo']"
   ]
  },
  {
   "cell_type": "markdown",
   "metadata": {},
   "source": [
    "Ahora supongamos que deseamos acceder a la capital de Alemania, para hacer esto en primer lugar debemos encontrar el índice en el cuál se encuentra alemania en la lista de países y una vez tengamos este índice accedemos al elemento con dicho índice a la lista de capitales."
   ]
  },
  {
   "cell_type": "code",
   "execution_count": 3,
   "metadata": {},
   "outputs": [
    {
     "name": "stdout",
     "output_type": "stream",
     "text": [
      "berlin\n"
     ]
    }
   ],
   "source": [
    "index_germany = countries.index('germany')\n",
    "print(capitals[index_germany])"
   ]
  },
  {
   "cell_type": "markdown",
   "metadata": {},
   "source": [
    "# Create a dictionary"
   ]
  },
  {
   "cell_type": "markdown",
   "metadata": {},
   "source": [
    "Lo realizado anteriormente para poder acceder a la capital de Alemania, no es muy intuitiva ni tampoco eficiente. Sería mejor si tuviesemos algún tipo de estructura de forma clave-valor que nos permitiese acceder a la capital de Alemania simplemente escribiendo el nombre de Alemania. Bien, pues esto es justo lo que nos permiten hacer los diccionarios. Un diccionario se trata de una nueva estructura de almacenamiento de datos en Python donde los datos se almacenan en forma de clave-valor. Para crearnos un diccionario hacemos uso de las llaves ({}), y dentro de estos introducimos la información de la forma clave:valor. LAS CLAVES DE UN DICCIONARIO DEBEN DE SER ÚNICAS."
   ]
  },
  {
   "cell_type": "code",
   "execution_count": 4,
   "metadata": {},
   "outputs": [
    {
     "name": "stdout",
     "output_type": "stream",
     "text": [
      "{'spain': 'madrid', 'germany': 'berlin', 'norway': 'oslo', 'france': 'paris'}\n"
     ]
    }
   ],
   "source": [
    "#Nos creamos nuestro primer diccionario que contiene como clave el nombre del país y como valor su capital\n",
    "my_dict = {'spain':'madrid', 'france':'paris', 'germany':'berlin', 'norway':'oslo'}\n",
    "#Mostramos el resultado por pantalla\n",
    "print(my_dict)"
   ]
  },
  {
   "cell_type": "markdown",
   "metadata": {},
   "source": [
    "# Access dictionary"
   ]
  },
  {
   "cell_type": "markdown",
   "metadata": {},
   "source": [
    "Una vez tenemos nuestro diccionario creado, para acceder a un determinada valor, basta con introducir su clave. Python dispone del método keys() que nos permite mostrar todas las claves de un diccionario."
   ]
  },
  {
   "cell_type": "code",
   "execution_count": 5,
   "metadata": {},
   "outputs": [
    {
     "name": "stdout",
     "output_type": "stream",
     "text": [
      "dict_keys(['spain', 'germany', 'norway', 'france'])\n"
     ]
    }
   ],
   "source": [
    "#Mostramos las claves de nuestro diccionario\n",
    "print(my_dict.keys())"
   ]
  },
  {
   "cell_type": "code",
   "execution_count": 6,
   "metadata": {},
   "outputs": [
    {
     "name": "stdout",
     "output_type": "stream",
     "text": [
      "berlin\n"
     ]
    }
   ],
   "source": [
    "#Accedemos a la capital de Alemania\n",
    "print(my_dict['germany'])"
   ]
  },
  {
   "cell_type": "markdown",
   "metadata": {},
   "source": [
    "# Dictionary Manipulation (I)"
   ]
  },
  {
   "cell_type": "markdown",
   "metadata": {},
   "source": [
    "A la hora de agregar un nuevo elemento a un diccionario debemos de hacer uso de la sintaxis: dict\\[key\\]=value."
   ]
  },
  {
   "cell_type": "code",
   "execution_count": 1,
   "metadata": {},
   "outputs": [
    {
     "name": "stdout",
     "output_type": "stream",
     "text": [
      "True\n"
     ]
    }
   ],
   "source": [
    "#Nos creamos un diccionario\n",
    "my_dict = {'spain':'madrid', 'france':'paris', 'germany':'berlin', 'norway':'oslo'}\n",
    "#Agregamos un nuevo elemento al diccionario ya creado \n",
    "my_dict['italy'] = 'rome'\n",
    "#Vemos si hemos agregado de forma correcta dicho elemento\n",
    "print('italy' in my_dict)"
   ]
  },
  {
   "cell_type": "code",
   "execution_count": 2,
   "metadata": {},
   "outputs": [
    {
     "name": "stdout",
     "output_type": "stream",
     "text": [
      "{'france': 'paris', 'spain': 'madrid', 'norway': 'oslo', 'italy': 'rome', 'poland': 'warsaw', 'germany': 'berlin'}\n"
     ]
    }
   ],
   "source": [
    "#Añadimos un nuevo elemento a nuestro diccionario\n",
    "my_dict['poland'] = 'warsaw'\n",
    "#MOstramos por pantalla el resultado\n",
    "print(my_dict)"
   ]
  },
  {
   "cell_type": "markdown",
   "metadata": {},
   "source": [
    "# Dictionary Manipulation (II)"
   ]
  },
  {
   "cell_type": "markdown",
   "metadata": {},
   "source": [
    "Python también nos permite cambiar el valor de una determinada clave y eliminar elementos de un diccionario. Supongamos el siguiente diccionario:"
   ]
  },
  {
   "cell_type": "code",
   "execution_count": 3,
   "metadata": {},
   "outputs": [
    {
     "name": "stdout",
     "output_type": "stream",
     "text": [
      "{'france': 'paris', 'spain': 'madrid', 'norway': 'oslo', 'italy': 'rome', 'poland': 'warsaw', 'germany': 'berlin'}\n"
     ]
    }
   ],
   "source": [
    "#Nos creamos el diccionario\n",
    "europe = {'spain':'madrid', 'france':'paris', 'germany':'bonn',\n",
    "          'norway':'oslo', 'italy':'rome', 'poland':'warsaw',\n",
    "          'australia':'vienna' }\n",
    "#Cambiamos la capital de Alemania a Berlín\n",
    "europe['germany'] = 'berlin'\n",
    "#Eliminamos australia ya que no pertenece a europa\n",
    "del(europe['australia'])\n",
    "#Mostramos el resultado\n",
    "print(europe)"
   ]
  },
  {
   "cell_type": "markdown",
   "metadata": {},
   "source": [
    "# Dictionariception"
   ]
  },
  {
   "cell_type": "markdown",
   "metadata": {},
   "source": [
    "Al igual que las listas, un diccionario puede contener a otro diccionario. Veamos el siguiente ejemplo:"
   ]
  },
  {
   "cell_type": "code",
   "execution_count": 4,
   "metadata": {},
   "outputs": [
    {
     "name": "stdout",
     "output_type": "stream",
     "text": [
      "paris\n"
     ]
    }
   ],
   "source": [
    "europe = { 'spain': { 'capital':'madrid', 'population':46.77 },\n",
    "           'france': { 'capital':'paris', 'population':66.03 },\n",
    "           'germany': { 'capital':'berlin', 'population':80.62 },\n",
    "           'norway': { 'capital':'oslo', 'population':5.084 } }\n",
    "#Accedemos a la capital de Francia\n",
    "print(europe['france']['capital'])"
   ]
  },
  {
   "cell_type": "code",
   "execution_count": 6,
   "metadata": {},
   "outputs": [
    {
     "name": "stdout",
     "output_type": "stream",
     "text": [
      "{'germany': {'capital': 'berlin', 'population': 80.62}, 'italy': {'capital': 'rome', 'population': 59.83}, 'norway': {'capital': 'oslo', 'population': 5.084}, 'france': {'capital': 'paris', 'population': 66.03}, 'spain': {'capital': 'madrid', 'population': 46.77}}\n"
     ]
    }
   ],
   "source": [
    "#Agregamos un nuevo elemento a nuestro diccionario\n",
    "europe['italy'] = {'capital':'rome', 'population':59.83}\n",
    "#Mostramos el resultado\n",
    "print(europe)"
   ]
  },
  {
   "cell_type": "markdown",
   "metadata": {},
   "source": [
    "# Dictionary to DataFrame (I)"
   ]
  },
  {
   "cell_type": "markdown",
   "metadata": {},
   "source": [
    "Pandas se trata de una librería open source. que proporciona un alto rendimiento, y es fácil de usar para datos estructurados y con herramientas de análisis de datos.\n",
    "El DataFrame es una de las estructuras de datos más importantes en Pandas. Básicamente se trata de una forma de almacenar datos tabulares donde podemos etiquetar filas y columnas. Una forma de construir un DataFrame es a partir de un diccionario. A continuación vamos trabajar con información de vehículos de diferentes países. Cada observación corresponde con información de un país y cada columna nos da información sobre el número de vehículos por cápita. Tenemos tres listas que nos dan la siguiente información:\n",
    "\n",
    "1. names: contiene el nombre de los países.\n",
    "2. dr: lista booleana que nos indica si la gente conduce por la izquierda o por la derecha.\n",
    "3. cpc: número de vehículos por cada 1000 habitantes."
   ]
  },
  {
   "cell_type": "code",
   "execution_count": 2,
   "metadata": {},
   "outputs": [
    {
     "name": "stdout",
     "output_type": "stream",
     "text": [
      "   cars_per_cap        country  drives_right\n",
      "0           809  United States          True\n",
      "1           731      Australia         False\n",
      "2           588          Japan         False\n",
      "3            18          India         False\n",
      "4           200         Russia          True\n",
      "5            70        Morocco          True\n",
      "6            45          Egypt          True\n"
     ]
    }
   ],
   "source": [
    "#Importamos pandas\n",
    "import pandas as pd\n",
    "#Definimos las listas\n",
    "names = ['United States', 'Australia', 'Japan', 'India', 'Russia', 'Morocco', 'Egypt']\n",
    "dr =  [True, False, False, False, True, True, True]\n",
    "cpc = [809, 731, 588, 18, 200, 70, 45]\n",
    "#Nos creamos un diccionario a partir de las listas\n",
    "my_dict = {'country':names, 'drives_right':dr, 'cars_per_cap':cpc}\n",
    "#Nos creamos un DataFrame\n",
    "cars = pd.DataFrame(my_dict)\n",
    "#Mostramos el resultado por pantalla\n",
    "print(cars)"
   ]
  },
  {
   "cell_type": "markdown",
   "metadata": {},
   "source": [
    "# Dictionary to DataFrame (II)"
   ]
  },
  {
   "cell_type": "markdown",
   "metadata": {},
   "source": [
    "En el ejercicio anterior podemos ver como en este caso las filas han sido indexadas de forma automática con números del 1 al 6. Para resolver este problema podemos hacer uso del método index que tiene un DataFrame e indicarle una lista con los índice adecuados."
   ]
  },
  {
   "cell_type": "code",
   "execution_count": 3,
   "metadata": {},
   "outputs": [
    {
     "name": "stdout",
     "output_type": "stream",
     "text": [
      "     cars_per_cap        country  drives_right\n",
      "US            809  United States          True\n",
      "AUS           731      Australia         False\n",
      "JAP           588          Japan         False\n",
      "IN             18          India         False\n",
      "RU            200         Russia          True\n",
      "MOR            70        Morocco          True\n",
      "EG             45          Egypt          True\n"
     ]
    }
   ],
   "source": [
    "#Nos creamos la lista para el indexado\n",
    "row_labels = ['US', 'AUS', 'JAP', 'IN', 'RU', 'MOR', 'EG']\n",
    "#Indexamos de forma adecuada\n",
    "cars.index = row_labels\n",
    "#Mostramos el resultado \n",
    "print(cars)"
   ]
  },
  {
   "cell_type": "markdown",
   "metadata": {},
   "source": [
    "# CSV to DataFrame (I)"
   ]
  },
  {
   "cell_type": "markdown",
   "metadata": {},
   "source": [
    "Construir un DataFrame a partir de un diccionario funciona, pero no es la forma más eficiente. ¿Qué ocurre si tenemos millones de observaciones? En este tipo de casos los datos se nos proporcionan en ficheros con una estructura regular. Uno de los ficheros más típicos es el denominado CSV.\n",
    "Para importar datos a partir de este tipo de ficheros a un Pandas DataFrame Python dispone de la función read_csv(). "
   ]
  },
  {
   "cell_type": "code",
   "execution_count": 4,
   "metadata": {},
   "outputs": [
    {
     "name": "stdout",
     "output_type": "stream",
     "text": [
      "  Unnamed: 0  cars_per_cap        country  drives_right\n",
      "0         US           809  United States          True\n",
      "1        AUS           731      Australia         False\n",
      "2        JAP           588          Japan         False\n",
      "3         IN            18          India         False\n",
      "4         RU           200         Russia          True\n",
      "5        MOR            70        Morocco          True\n",
      "6         EG            45          Egypt          True\n"
     ]
    }
   ],
   "source": [
    "#Importamos la información del fichero cars.csv\n",
    "cars = pd.read_csv('cars.csv')\n",
    "print(cars)"
   ]
  },
  {
   "cell_type": "markdown",
   "metadata": {},
   "source": [
    "# CSV to DataFrame (II)"
   ]
  },
  {
   "cell_type": "markdown",
   "metadata": {},
   "source": [
    "Podemos ver que aunque los datos se han cargado, estos no se han cargado de la forma esperada, ya que nuestro DataFrame ha sido indexado por valores del 1 al 6 de forma automática, además la columna que se supone que debería ser la que indexe aparece con Unnamed: 0. Para solucionar este problema la función read_csv() dispone del argumne index_col, donde indicamos la columna mediante la cual queremos indexar."
   ]
  },
  {
   "cell_type": "code",
   "execution_count": 5,
   "metadata": {},
   "outputs": [
    {
     "name": "stdout",
     "output_type": "stream",
     "text": [
      "     cars_per_cap        country  drives_right\n",
      "US            809  United States          True\n",
      "AUS           731      Australia         False\n",
      "JAP           588          Japan         False\n",
      "IN             18          India         False\n",
      "RU            200         Russia          True\n",
      "MOR            70        Morocco          True\n",
      "EG             45          Egypt          True\n"
     ]
    }
   ],
   "source": [
    "#Importamos los datos de forma adecuada\n",
    "cars = pd.read_csv('cars.csv', index_col = 0)\n",
    "#Mostramos el resultado por pantalla\n",
    "print(cars)"
   ]
  },
  {
   "cell_type": "markdown",
   "metadata": {},
   "source": [
    "# Square Brackets (I)"
   ]
  },
  {
   "cell_type": "markdown",
   "metadata": {},
   "source": [
    "A la hora de seleccionar elementos en un Pandas Dataframe existen diversas formas. La más simple, pero en este caso no la más poderosa son los corchetes. Si hacemos uso de los corchetes simples esto nos retornará un Pandas Series, si hacemos uso de los dobles corchetes esto si nos retornará un Pandas DataFrame."
   ]
  },
  {
   "cell_type": "code",
   "execution_count": 9,
   "metadata": {},
   "outputs": [
    {
     "name": "stdout",
     "output_type": "stream",
     "text": [
      "US     United States\n",
      "AUS        Australia\n",
      "JAP            Japan\n",
      "IN             India\n",
      "RU            Russia\n",
      "MOR          Morocco\n",
      "EG             Egypt\n",
      "Name: country, dtype: object\n",
      "<class 'pandas.core.series.Series'>\n"
     ]
    }
   ],
   "source": [
    "#Obtenemos un pandas series a partir de la columna country\n",
    "print(cars['country'])\n",
    "print(type(cars['country']))"
   ]
  },
  {
   "cell_type": "code",
   "execution_count": 12,
   "metadata": {},
   "outputs": [
    {
     "name": "stdout",
     "output_type": "stream",
     "text": [
      "           country\n",
      "US   United States\n",
      "AUS      Australia\n",
      "JAP          Japan\n",
      "IN           India\n",
      "RU          Russia\n",
      "MOR        Morocco\n",
      "EG           Egypt\n",
      "<class 'pandas.core.frame.DataFrame'>\n"
     ]
    }
   ],
   "source": [
    "#Obtenemos un pandas DataFrame a partir de la columna country\n",
    "print(cars[['country']])\n",
    "print(type(cars[['country']]))"
   ]
  },
  {
   "cell_type": "code",
   "execution_count": 14,
   "metadata": {},
   "outputs": [
    {
     "name": "stdout",
     "output_type": "stream",
     "text": [
      "           country  drives_right\n",
      "US   United States          True\n",
      "AUS      Australia         False\n",
      "JAP          Japan         False\n",
      "IN           India         False\n",
      "RU          Russia          True\n",
      "MOR        Morocco          True\n",
      "EG           Egypt          True\n"
     ]
    }
   ],
   "source": [
    "#Obtenemos un pandas DataFrame a partir de las columnas country y drives_rigth\n",
    "print(cars[['country', 'drives_right']])"
   ]
  },
  {
   "cell_type": "markdown",
   "metadata": {},
   "source": [
    "# Square Brackets (II)"
   ]
  },
  {
   "cell_type": "markdown",
   "metadata": {},
   "source": [
    "Además de seleccionar columnas, con los corcheter podemos seleccionar filas, para ello debemos de especificar el slice que queremos seleccionar. "
   ]
  },
  {
   "cell_type": "code",
   "execution_count": 15,
   "metadata": {},
   "outputs": [
    {
     "name": "stdout",
     "output_type": "stream",
     "text": [
      "     cars_per_cap        country  drives_right\n",
      "US            809  United States          True\n",
      "AUS           731      Australia         False\n",
      "JAP           588          Japan         False\n"
     ]
    }
   ],
   "source": [
    "#Mostramos las tres primeras observaciones\n",
    "print(cars[0:3])"
   ]
  },
  {
   "cell_type": "code",
   "execution_count": 16,
   "metadata": {},
   "outputs": [
    {
     "name": "stdout",
     "output_type": "stream",
     "text": [
      "     cars_per_cap  country  drives_right\n",
      "IN             18    India         False\n",
      "RU            200   Russia          True\n",
      "MOR            70  Morocco          True\n"
     ]
    }
   ],
   "source": [
    "#Mostramos de la cuarta a la quinta observación\n",
    "print(cars[3:6])"
   ]
  },
  {
   "cell_type": "markdown",
   "metadata": {},
   "source": [
    "# loc and iloc (I)"
   ]
  },
  {
   "cell_type": "markdown",
   "metadata": {},
   "source": [
    "Con los métodos loc e iloc podemos realizar cualquier operación de selección de datos en un DataFrame. loc se trata de un método basado en etiquetas, lo cual significa que tenemos que especificar filas y columnas basándonos en sus etiquetas. Mientras que iloc está basado en índices enteros, por lo que especificamos las filas y las columnas basándonos en sus valores enteros."
   ]
  },
  {
   "cell_type": "code",
   "execution_count": 18,
   "metadata": {},
   "outputs": [
    {
     "name": "stdout",
     "output_type": "stream",
     "text": [
      "cars_per_cap      588\n",
      "country         Japan\n",
      "drives_right    False\n",
      "Name: JAP, dtype: object\n"
     ]
    }
   ],
   "source": [
    "#Seleccionamos la fila que corresponde a Japón\n",
    "print(cars.loc['JAP'])"
   ]
  },
  {
   "cell_type": "code",
   "execution_count": 19,
   "metadata": {},
   "outputs": [
    {
     "name": "stdout",
     "output_type": "stream",
     "text": [
      "     cars_per_cap    country  drives_right\n",
      "AUS           731  Australia         False\n",
      "EG             45      Egypt          True\n"
     ]
    }
   ],
   "source": [
    "#Seleccionamos las observaciones correspondientes a Egipto y Australia\n",
    "print(cars.loc[['AUS', 'EG']])"
   ]
  },
  {
   "cell_type": "code",
   "execution_count": 20,
   "metadata": {},
   "outputs": [
    {
     "name": "stdout",
     "output_type": "stream",
     "text": [
      "cars_per_cap      588\n",
      "country         Japan\n",
      "drives_right    False\n",
      "Name: JAP, dtype: object\n"
     ]
    }
   ],
   "source": [
    "#Seleccionamos las observación de Japón haciendo uso de iloc\n",
    "print(cars.iloc[2])"
   ]
  },
  {
   "cell_type": "code",
   "execution_count": 21,
   "metadata": {},
   "outputs": [
    {
     "name": "stdout",
     "output_type": "stream",
     "text": [
      "     cars_per_cap    country  drives_right\n",
      "AUS           731  Australia         False\n",
      "JAP           588      Japan         False\n"
     ]
    }
   ],
   "source": [
    "#Seleccionamos las observaciones de Australia y Egipto haciendo uso de iloc\n",
    "print(cars.iloc[1:3])"
   ]
  },
  {
   "cell_type": "markdown",
   "metadata": {},
   "source": [
    "# loc and iloc (II)"
   ]
  },
  {
   "cell_type": "markdown",
   "metadata": {},
   "source": [
    "Los métodos loc e iloc nos permiten seleccionar filas y columnas (a diferencia de los corchetes que solo nos permiten seleccionar o bien filas o bien columnas). "
   ]
  },
  {
   "cell_type": "code",
   "execution_count": 22,
   "metadata": {},
   "outputs": [
    {
     "name": "stdout",
     "output_type": "stream",
     "text": [
      "Morocco\n"
     ]
    }
   ],
   "source": [
    "#Seleccionamos la columna country de Marruecos con loc\n",
    "print(cars.loc['MOR', 'country'])"
   ]
  },
  {
   "cell_type": "code",
   "execution_count": 24,
   "metadata": {},
   "outputs": [
    {
     "name": "stdout",
     "output_type": "stream",
     "text": [
      "     country  drives_right\n",
      "RU    Russia          True\n",
      "MOR  Morocco          True\n"
     ]
    }
   ],
   "source": [
    "#Seleccinamos de Rusia y Marruecos las columnas country y drives_right\n",
    "print(cars.loc[['RU', 'MOR'], ['country', 'drives_right']])"
   ]
  },
  {
   "cell_type": "code",
   "execution_count": 26,
   "metadata": {},
   "outputs": [
    {
     "name": "stdout",
     "output_type": "stream",
     "text": [
      "Morocco\n"
     ]
    }
   ],
   "source": [
    "#Seleccinamos la columna country de Marruecos con iloc\n",
    "print(cars.iloc[5, 1])"
   ]
  },
  {
   "cell_type": "code",
   "execution_count": 29,
   "metadata": {},
   "outputs": [
    {
     "name": "stdout",
     "output_type": "stream",
     "text": [
      "   country  drives_right\n",
      "RU  Russia          True\n",
      "EG   Egypt          True\n"
     ]
    }
   ],
   "source": [
    "#Seleccionamos de Rusia y Marruecos las columnas country y drives_right\n",
    "print(cars.iloc[[4,6], [1,2]])"
   ]
  },
  {
   "cell_type": "markdown",
   "metadata": {},
   "source": [
    "# loc and iloc (III)"
   ]
  },
  {
   "cell_type": "markdown",
   "metadata": {},
   "source": [
    "También es posible seleccionar solo columnas haciendo uso de loc e iloc."
   ]
  },
  {
   "cell_type": "code",
   "execution_count": 31,
   "metadata": {},
   "outputs": [
    {
     "name": "stdout",
     "output_type": "stream",
     "text": [
      "US     United States\n",
      "AUS        Australia\n",
      "JAP            Japan\n",
      "IN             India\n",
      "RU            Russia\n",
      "MOR          Morocco\n",
      "EG             Egypt\n",
      "Name: country, dtype: object\n"
     ]
    }
   ],
   "source": [
    "#Seleccionamos la columna country haciendo uso de loc como Pandas Series\n",
    "print(cars.loc[:, 'country'])"
   ]
  },
  {
   "cell_type": "code",
   "execution_count": 32,
   "metadata": {},
   "outputs": [
    {
     "name": "stdout",
     "output_type": "stream",
     "text": [
      "           country\n",
      "US   United States\n",
      "AUS      Australia\n",
      "JAP          Japan\n",
      "IN           India\n",
      "RU          Russia\n",
      "MOR        Morocco\n",
      "EG           Egypt\n"
     ]
    }
   ],
   "source": [
    "#Seleccionamos la columna country haciendo uso de loc como Pandas DataFrame\n",
    "print(cars.loc[:, ['country']])"
   ]
  },
  {
   "cell_type": "code",
   "execution_count": 34,
   "metadata": {},
   "outputs": [
    {
     "name": "stdout",
     "output_type": "stream",
     "text": [
      "           country  drives_right\n",
      "US   United States          True\n",
      "AUS      Australia         False\n",
      "JAP          Japan         False\n",
      "IN           India         False\n",
      "RU          Russia          True\n",
      "MOR        Morocco          True\n",
      "EG           Egypt          True\n"
     ]
    }
   ],
   "source": [
    "#Seleccionamos las columnas country y drives_right haciendo uso de iloc\n",
    "print(cars.iloc[:, [1,2]])"
   ]
  },
  {
   "cell_type": "code",
   "execution_count": null,
   "metadata": {},
   "outputs": [],
   "source": []
  }
 ],
 "metadata": {
  "kernelspec": {
   "display_name": "Python 3",
   "language": "python",
   "name": "python3"
  },
  "language_info": {
   "codemirror_mode": {
    "name": "ipython",
    "version": 3
   },
   "file_extension": ".py",
   "mimetype": "text/x-python",
   "name": "python",
   "nbconvert_exporter": "python",
   "pygments_lexer": "ipython3",
   "version": "3.5.2"
  }
 },
 "nbformat": 4,
 "nbformat_minor": 2
}
