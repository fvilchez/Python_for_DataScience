{
 "cells": [
  {
   "cell_type": "markdown",
   "metadata": {},
   "source": [
    "## Basic while loop"
   ]
  },
  {
   "cell_type": "markdown",
   "metadata": {},
   "source": [
    "El bucle **while()** se trata de un bucle que ejecutará el códgio de su interior de forma repetida mientras que la condición que lo acompaña sea evaluada como **True**."
   ]
  },
  {
   "cell_type": "code",
   "execution_count": 1,
   "metadata": {},
   "outputs": [
    {
     "name": "stdout",
     "output_type": "stream",
     "text": [
      "correcting ...\n",
      "7\n",
      "correcting ...\n",
      "6\n",
      "correcting ...\n",
      "5\n",
      "correcting ...\n",
      "4\n",
      "correcting ...\n",
      "3\n",
      "correcting ...\n",
      "2\n",
      "correcting ...\n",
      "1\n",
      "correcting ...\n",
      "0\n"
     ]
    }
   ],
   "source": [
    "#Generamos la variables offset\n",
    "offset = 8\n",
    "\n",
    "#Generamos un bucle while\n",
    "while offset != 0:\n",
    "    print('correcting ...')\n",
    "    offset -= 1\n",
    "    print(offset)"
   ]
  },
  {
   "cell_type": "markdown",
   "metadata": {},
   "source": [
    "## Add conditionals"
   ]
  },
  {
   "cell_type": "markdown",
   "metadata": {},
   "source": [
    "En el bucle **while()** anterior en el caso de que offset fuese un número negativo, tendríamos un problema y es que estaríamos generando un bucle infinito, ya que la condción que evalue el bucle sería siempre evaluada como **True**. Para ello podemos hacer de las sentencias de control de flujo: **if**, **elif**, **else**."
   ]
  },
  {
   "cell_type": "code",
   "execution_count": 2,
   "metadata": {},
   "outputs": [
    {
     "name": "stdout",
     "output_type": "stream",
     "text": [
      "correcting ...\n",
      "-5\n",
      "correcting ...\n",
      "-4\n",
      "correcting ...\n",
      "-3\n",
      "correcting ...\n",
      "-2\n",
      "correcting ...\n",
      "-1\n",
      "correcting ...\n",
      "0\n"
     ]
    }
   ],
   "source": [
    "#Creamos la variable offset\n",
    "offset = -6\n",
    "\n",
    "#Creamos el bucle while\n",
    "while offset != 0:\n",
    "    print('correcting ...')\n",
    "    if offset > 0:\n",
    "        offset -= 1\n",
    "    else:\n",
    "        offset += 1\n",
    "    print(offset)"
   ]
  },
  {
   "cell_type": "markdown",
   "metadata": {},
   "source": [
    "## Loop over a list"
   ]
  },
  {
   "cell_type": "markdown",
   "metadata": {},
   "source": [
    "El bucle **for** se trata de otra sentencia de iteración, esta nos permite iterar sobre cada uno de los elementos de diferentes tipos de estructuras de datos."
   ]
  },
  {
   "cell_type": "code",
   "execution_count": 1,
   "metadata": {},
   "outputs": [
    {
     "name": "stdout",
     "output_type": "stream",
     "text": [
      "11.25\n",
      "18.0\n",
      "20.0\n",
      "10.75\n",
      "9.5\n"
     ]
    }
   ],
   "source": [
    "#Nos creamos la primera lista\n",
    "areas = [11.25, 18.0, 20.0, 10.75, 9.50]\n",
    "\n",
    "#Iteramos sobre cada uno de los elementos \n",
    "for area in areas:\n",
    "    print(area)"
   ]
  },
  {
   "cell_type": "markdown",
   "metadata": {},
   "source": [
    "## Indexes and values (I)"
   ]
  },
  {
   "cell_type": "markdown",
   "metadata": {},
   "source": [
    "Si queremos acceder de forma simulatánea tanto al índice como al valor podemos hacer uso de la función **enumerate()**. Esta función nos retorna el índice y el valor para cada uno de los elementos de una lista."
   ]
  },
  {
   "cell_type": "code",
   "execution_count": 8,
   "metadata": {},
   "outputs": [
    {
     "name": "stdout",
     "output_type": "stream",
     "text": [
      "room0 : 11.25m2\n",
      "room1 : 18.0m2\n",
      "room2 : 20.0m2\n",
      "room3 : 10.75m2\n",
      "room4 : 9.5m2\n"
     ]
    }
   ],
   "source": [
    "#Iteramos sobre areas\n",
    "for index,area in enumerate(areas):\n",
    "    print('room' + str(index) + ' : ' + str(area) + 'm2')"
   ]
  },
  {
   "cell_type": "markdown",
   "metadata": {},
   "source": [
    "## Loop over list of lists"
   ]
  },
  {
   "cell_type": "markdown",
   "metadata": {},
   "source": [
    "Ya vimos anteriormente que una lista puede contener a su vez a otra lista"
   ]
  },
  {
   "cell_type": "code",
   "execution_count": 9,
   "metadata": {},
   "outputs": [
    {
     "name": "stdout",
     "output_type": "stream",
     "text": [
      "The hallway : 11.25m2\n",
      "The kitchen : 18.0m2\n",
      "The living room : 20.0m2\n",
      "The bedroom : 10.75m2\n",
      "The bathroom : 9.5m2\n"
     ]
    }
   ],
   "source": [
    "#Nos creamos una lista de listas\n",
    "house = [[\"hallway\", 11.25], \n",
    "         [\"kitchen\", 18.0], \n",
    "         [\"living room\", 20.0], \n",
    "         [\"bedroom\", 10.75], \n",
    "         [\"bathroom\", 9.50]]\n",
    "\n",
    "for room in house:\n",
    "    print('The ' + str(room[0]) + ' : ' + str(room[1]) + 'm2')"
   ]
  },
  {
   "cell_type": "markdown",
   "metadata": {},
   "source": [
    "## Loop over dictionary"
   ]
  },
  {
   "cell_type": "markdown",
   "metadata": {},
   "source": [
    "Si queremos iterar un diccionario debemos de hacer uso del método **items()**. Este método retorna en forma de tupla las parejas clave-valor."
   ]
  },
  {
   "cell_type": "code",
   "execution_count": 10,
   "metadata": {},
   "outputs": [
    {
     "name": "stdout",
     "output_type": "stream",
     "text": [
      "The capital of france is paris\n",
      "The capital of poland is warsaw\n",
      "The capital of austria is vienna\n",
      "The capital of italy is rome\n",
      "The capital of spain is madrid\n",
      "The capital of norway is oslo\n",
      "The capital of germany is berlin\n"
     ]
    }
   ],
   "source": [
    "#Nos creamos un diccionario\n",
    "europe = {'spain':'madrid', 'france':'paris', 'germany':'berlin',\n",
    "          'norway':'oslo', 'italy':'rome', 'poland':'warsaw', 'austria':'vienna' }\n",
    "\n",
    "#Procedemos a iterar este diccionario\n",
    "for key,value in europe.items():\n",
    "    print('The capital of ' + str(key) + ' is ' + str(value))"
   ]
  },
  {
   "cell_type": "markdown",
   "metadata": {},
   "source": [
    "## Loop over Numpy array"
   ]
  },
  {
   "cell_type": "markdown",
   "metadata": {},
   "source": [
    "Si estamos trabajando sobre un numpy array podemos iterar sobre cada uno de los elementos de forma sencilla"
   ]
  },
  {
   "cell_type": "code",
   "execution_count": 11,
   "metadata": {},
   "outputs": [
    {
     "name": "stdout",
     "output_type": "stream",
     "text": [
      "1.73\n",
      "1.68\n",
      "1.71\n",
      "1.89\n",
      "1.79\n"
     ]
    }
   ],
   "source": [
    "#Nos generamos un numpy array\n",
    "import numpy as np\n",
    "np_height = np.array([1.73, 1.68, 1.71, 1.89, 1.79])\n",
    "\n",
    "#Iteramos sobre nuestra estructura de datos numpy array\n",
    "for i in np_height:\n",
    "    print(i)"
   ]
  },
  {
   "cell_type": "markdown",
   "metadata": {},
   "source": [
    "Si estamos trabajando sobre numpy arrays de mas de una dimensión y queremos iterar sobre cada uno de los elementos debemos de hacer uso de la función **np.nditer()**."
   ]
  },
  {
   "cell_type": "code",
   "execution_count": 13,
   "metadata": {},
   "outputs": [
    {
     "name": "stdout",
     "output_type": "stream",
     "text": [
      "1.73\n",
      "1.68\n",
      "1.71\n",
      "1.89\n",
      "1.79\n",
      "65.4\n",
      "59.2\n",
      "63.6\n",
      "88.4\n",
      "68.7\n"
     ]
    }
   ],
   "source": [
    "#Nos generamos nuestra array bidimensional\n",
    "np_height = np.array([1.73, 1.68, 1.71, 1.89, 1.79])\n",
    "np_weight = np.array([65.4, 59.2, 63.6, 88.4, 68.7])\n",
    "meas = np.array([np_height, np_weight])\n",
    "\n",
    "#Iteramos sobre cada uno de los elementos\n",
    "for i in np.nditer(meas):\n",
    "    print(i)"
   ]
  },
  {
   "cell_type": "markdown",
   "metadata": {},
   "source": [
    "## Loop over DataFrame (I)"
   ]
  },
  {
   "cell_type": "markdown",
   "metadata": {},
   "source": [
    "A la hora de iterar sobre una estructura de tipo Pandas DataFrame, debemos de hacer uso del método **iterrows()**. Este método nos retorna el **label** y el **row** para cada fila."
   ]
  },
  {
   "cell_type": "code",
   "execution_count": 27,
   "metadata": {},
   "outputs": [
    {
     "data": {
      "text/html": [
       "<div>\n",
       "<style scoped>\n",
       "    .dataframe tbody tr th:only-of-type {\n",
       "        vertical-align: middle;\n",
       "    }\n",
       "\n",
       "    .dataframe tbody tr th {\n",
       "        vertical-align: top;\n",
       "    }\n",
       "\n",
       "    .dataframe thead th {\n",
       "        text-align: right;\n",
       "    }\n",
       "</style>\n",
       "<table border=\"1\" class=\"dataframe\">\n",
       "  <thead>\n",
       "    <tr style=\"text-align: right;\">\n",
       "      <th></th>\n",
       "      <th>cars_per_cap</th>\n",
       "      <th>country</th>\n",
       "      <th>drives_right</th>\n",
       "    </tr>\n",
       "  </thead>\n",
       "  <tbody>\n",
       "    <tr>\n",
       "      <th>US</th>\n",
       "      <td>809</td>\n",
       "      <td>United States</td>\n",
       "      <td>True</td>\n",
       "    </tr>\n",
       "    <tr>\n",
       "      <th>AUS</th>\n",
       "      <td>731</td>\n",
       "      <td>Australia</td>\n",
       "      <td>False</td>\n",
       "    </tr>\n",
       "    <tr>\n",
       "      <th>JAP</th>\n",
       "      <td>588</td>\n",
       "      <td>Japan</td>\n",
       "      <td>False</td>\n",
       "    </tr>\n",
       "    <tr>\n",
       "      <th>IN</th>\n",
       "      <td>18</td>\n",
       "      <td>India</td>\n",
       "      <td>False</td>\n",
       "    </tr>\n",
       "    <tr>\n",
       "      <th>RU</th>\n",
       "      <td>200</td>\n",
       "      <td>Russia</td>\n",
       "      <td>True</td>\n",
       "    </tr>\n",
       "  </tbody>\n",
       "</table>\n",
       "</div>"
      ],
      "text/plain": [
       "     cars_per_cap        country  drives_right\n",
       "US            809  United States          True\n",
       "AUS           731      Australia         False\n",
       "JAP           588          Japan         False\n",
       "IN             18          India         False\n",
       "RU            200         Russia          True"
      ]
     },
     "execution_count": 27,
     "metadata": {},
     "output_type": "execute_result"
    }
   ],
   "source": [
    "#Procedemos a cargar los datos\n",
    "import pandas as pd\n",
    "df = pd.read_csv('cars.csv', index_col = 0)\n",
    "#VIsualizamos las primeras observaciones para ver si la carga se realizó de forma correcta\n",
    "df.head()"
   ]
  },
  {
   "cell_type": "code",
   "execution_count": 15,
   "metadata": {},
   "outputs": [
    {
     "name": "stdout",
     "output_type": "stream",
     "text": [
      "US\n",
      "cars_per_cap              809\n",
      "country         United States\n",
      "drives_right             True\n",
      "Name: US, dtype: object\n",
      "AUS\n",
      "cars_per_cap          731\n",
      "country         Australia\n",
      "drives_right        False\n",
      "Name: AUS, dtype: object\n",
      "JAP\n",
      "cars_per_cap      588\n",
      "country         Japan\n",
      "drives_right    False\n",
      "Name: JAP, dtype: object\n",
      "IN\n",
      "cars_per_cap       18\n",
      "country         India\n",
      "drives_right    False\n",
      "Name: IN, dtype: object\n",
      "RU\n",
      "cars_per_cap       200\n",
      "country         Russia\n",
      "drives_right      True\n",
      "Name: RU, dtype: object\n",
      "MOR\n",
      "cars_per_cap         70\n",
      "country         Morocco\n",
      "drives_right       True\n",
      "Name: MOR, dtype: object\n",
      "EG\n",
      "cars_per_cap       45\n",
      "country         Egypt\n",
      "drives_right     True\n",
      "Name: EG, dtype: object\n"
     ]
    }
   ],
   "source": [
    "#Procedemos a iterar sobre nuestro DataFrame\n",
    "for lab,row in df.iterrows():\n",
    "    print(lab)\n",
    "    print(row)"
   ]
  },
  {
   "cell_type": "markdown",
   "metadata": {},
   "source": [
    "## Loop over DataFrame (II)"
   ]
  },
  {
   "cell_type": "markdown",
   "metadata": {},
   "source": [
    "Podemos ver que el método **iterrows()** lo que nos retorna es un panda series, y mostrar esto por pantalla no llega a ser del todo agradable para la vista, por suerte, podemos seleccionar de forma sencilla elementos de un objeto tipo pandas series."
   ]
  },
  {
   "cell_type": "code",
   "execution_count": 17,
   "metadata": {},
   "outputs": [
    {
     "name": "stdout",
     "output_type": "stream",
     "text": [
      "US:809\n",
      "AUS:731\n",
      "JAP:588\n",
      "IN:18\n",
      "RU:200\n",
      "MOR:70\n",
      "EG:45\n"
     ]
    }
   ],
   "source": [
    "#Mostramos para cada país la variable cars_per_cap\n",
    "for lab, row in df.iterrows():\n",
    "    print(str(lab) + ':' + str(row['cars_per_cap']))"
   ]
  },
  {
   "cell_type": "markdown",
   "metadata": {},
   "source": [
    "##  Add column (I)"
   ]
  },
  {
   "cell_type": "markdown",
   "metadata": {},
   "source": [
    "Supongamos que ahora queremos agregar una nueva columna llamada **COUNTRY** que contenga el nombre del país en letras mayúsculas, para ello lo que debemos hacer es seleccionar cada row, de esa row seleccionar la columna **country** pasarlo a mayúscula y finalmente agregar esto a al nueva columna"
   ]
  },
  {
   "cell_type": "code",
   "execution_count": 22,
   "metadata": {},
   "outputs": [
    {
     "name": "stdout",
     "output_type": "stream",
     "text": [
      "     cars_per_cap        country  drives_right        COUNTRY\n",
      "US            809  United States          True  UNITED STATES\n",
      "AUS           731      Australia         False      AUSTRALIA\n",
      "JAP           588          Japan         False          JAPAN\n",
      "IN             18          India         False          INDIA\n",
      "RU            200         Russia          True         RUSSIA\n",
      "MOR            70        Morocco          True        MOROCCO\n",
      "EG             45          Egypt          True          EGYPT\n"
     ]
    }
   ],
   "source": [
    "#Generamos una nueva columna\n",
    "for lab, row in df.iterrows():\n",
    "    df.loc[lab, 'COUNTRY'] = row['country'].upper()\n",
    "\n",
    "print(df)"
   ]
  },
  {
   "cell_type": "markdown",
   "metadata": {},
   "source": [
    "## Add column (II)"
   ]
  },
  {
   "cell_type": "markdown",
   "metadata": {},
   "source": [
    "Sin embargo la forma anterior de generar la nueva columna no es eficiente. De la forma que hemos generado anteriormente la nueva columna en cada iteración estamos generando un panda series, cuando estamos ante un DataFrame pequeño esto no es problema, pero cuando estamos ante conjunto de datos de alta dimensionalidad esto puede llegar a ser un problema en el tiempo de computación. Para evitar esto, contamos con el método **apply()**."
   ]
  },
  {
   "cell_type": "code",
   "execution_count": 26,
   "metadata": {},
   "outputs": [
    {
     "name": "stdout",
     "output_type": "stream",
     "text": [
      "     cars_per_cap        country  drives_right        COUNTRY\n",
      "US            809  United States          True  UNITED STATES\n",
      "AUS           731      Australia         False      AUSTRALIA\n",
      "JAP           588          Japan         False          JAPAN\n",
      "IN             18          India         False          INDIA\n",
      "RU            200         Russia          True         RUSSIA\n",
      "MOR            70        Morocco          True        MOROCCO\n",
      "EG             45          Egypt          True          EGYPT\n"
     ]
    }
   ],
   "source": [
    "#Nos generamos la nueva columna COUNTRY\n",
    "df['COUNTRY'] = df.loc[:, 'country'].apply(str.upper)\n",
    "print(df)"
   ]
  }
 ],
 "metadata": {
  "kernelspec": {
   "display_name": "Python 3",
   "language": "python",
   "name": "python3"
  },
  "language_info": {
   "codemirror_mode": {
    "name": "ipython",
    "version": 3
   },
   "file_extension": ".py",
   "mimetype": "text/x-python",
   "name": "python",
   "nbconvert_exporter": "python",
   "pygments_lexer": "ipython3",
   "version": "3.5.2"
  }
 },
 "nbformat": 4,
 "nbformat_minor": 2
}
