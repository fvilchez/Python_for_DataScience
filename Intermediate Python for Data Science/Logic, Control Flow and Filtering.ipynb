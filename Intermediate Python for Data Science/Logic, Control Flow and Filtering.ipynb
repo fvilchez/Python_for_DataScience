{
 "cells": [
  {
   "cell_type": "markdown",
   "metadata": {},
   "source": [
    "## Equality"
   ]
  },
  {
   "cell_type": "markdown",
   "metadata": {},
   "source": [
    "Para ver si dos valores o variables son iguales podemos hacer uso del operador **==**. Para chequear si dos variables o valores no son iguales podemos hacer uso del operador **!=**"
   ]
  },
  {
   "cell_type": "code",
   "execution_count": 1,
   "metadata": {},
   "outputs": [
    {
     "name": "stdout",
     "output_type": "stream",
     "text": [
      "False\n"
     ]
    }
   ],
   "source": [
    "#Comparamos dos variables booleanas\n",
    "print(True == False)"
   ]
  },
  {
   "cell_type": "code",
   "execution_count": 2,
   "metadata": {},
   "outputs": [
    {
     "name": "stdout",
     "output_type": "stream",
     "text": [
      "True\n"
     ]
    }
   ],
   "source": [
    "#Comparación de enteros\n",
    "print(5 == 5)"
   ]
  },
  {
   "cell_type": "code",
   "execution_count": 3,
   "metadata": {},
   "outputs": [
    {
     "name": "stdout",
     "output_type": "stream",
     "text": [
      "False\n"
     ]
    }
   ],
   "source": [
    "#Comparación de strings\n",
    "print('Python' == 'python')"
   ]
  },
  {
   "cell_type": "code",
   "execution_count": 4,
   "metadata": {},
   "outputs": [
    {
     "name": "stdout",
     "output_type": "stream",
     "text": [
      "True\n"
     ]
    }
   ],
   "source": [
    "#Comparación de variable booleana con entero\n",
    "print(False == 0)"
   ]
  },
  {
   "cell_type": "markdown",
   "metadata": {},
   "source": [
    "## Greater and less than"
   ]
  },
  {
   "cell_type": "markdown",
   "metadata": {},
   "source": [
    "Podemos hacer uso de los operadores **>** y **<*** para realizar comparaciones, estos operadores se pueden combinar con el operador **=** para crearnos los operadores **>=** y **<=**. Debemos tener encuenta que cuando python compara cadenas de carácteres lo hace por orden alfabético."
   ]
  },
  {
   "cell_type": "code",
   "execution_count": 8,
   "metadata": {},
   "outputs": [
    {
     "name": "stdout",
     "output_type": "stream",
     "text": [
      "False\n"
     ]
    }
   ],
   "source": [
    "#Comparación de enteros\n",
    "x = -10\n",
    "print(x > 10)"
   ]
  },
  {
   "cell_type": "code",
   "execution_count": 9,
   "metadata": {},
   "outputs": [
    {
     "name": "stdout",
     "output_type": "stream",
     "text": [
      "True\n"
     ]
    }
   ],
   "source": [
    "#Comparación de strings\n",
    "print('Hola' > 'Adios')"
   ]
  },
  {
   "cell_type": "code",
   "execution_count": 10,
   "metadata": {},
   "outputs": [
    {
     "name": "stdout",
     "output_type": "stream",
     "text": [
      "True\n"
     ]
    }
   ],
   "source": [
    "#Comparación de booleanos\n",
    "print(True > False)"
   ]
  },
  {
   "cell_type": "markdown",
   "metadata": {},
   "source": [
    "## Compare arrays"
   ]
  },
  {
   "cell_type": "markdown",
   "metadata": {},
   "source": [
    "Podemos realizar los operadores para comparar numpys arrays. Esta comparación lo que hará es comparar valor a valor cada uno de los elementos de nuestro array con el valor indicado"
   ]
  },
  {
   "cell_type": "code",
   "execution_count": 12,
   "metadata": {},
   "outputs": [
    {
     "name": "stdout",
     "output_type": "stream",
     "text": [
      "[False  True False False]\n"
     ]
    }
   ],
   "source": [
    "#Importamos Numpy\n",
    "import numpy as np\n",
    "my_house = np.array([18.0, 20.0, 10.75, 9.50])\n",
    "your_house = np.array([14.0, 24.0, 14.25, 9.0])\n",
    "#Vemos que areas del array my_house es mayor a 18\n",
    "print(my_house > 18)"
   ]
  },
  {
   "cell_type": "code",
   "execution_count": 13,
   "metadata": {},
   "outputs": [
    {
     "name": "stdout",
     "output_type": "stream",
     "text": [
      "[ True False False  True]\n"
     ]
    }
   ],
   "source": [
    "#Comparamos ambas arrays\n",
    "print(my_house > your_house)"
   ]
  },
  {
   "cell_type": "markdown",
   "metadata": {},
   "source": [
    "## and, or, not (I)"
   ]
  },
  {
   "cell_type": "markdown",
   "metadata": {},
   "source": [
    "Al igual que en el resto de lenguajes de programación podemos hacer uso de los operadores and, or y not para realizar comparaciones."
   ]
  },
  {
   "cell_type": "code",
   "execution_count": 2,
   "metadata": {},
   "outputs": [
    {
     "name": "stdout",
     "output_type": "stream",
     "text": [
      "True\n"
     ]
    }
   ],
   "source": [
    "#Definimos dos variables \n",
    "my_kitchen = 18\n",
    "your_kitchen = 14\n",
    "\n",
    "#Hacemos uso del operador and\n",
    "print(my_kitchen > 14 and my_kitchen < 30)"
   ]
  },
  {
   "cell_type": "code",
   "execution_count": 3,
   "metadata": {},
   "outputs": [
    {
     "name": "stdout",
     "output_type": "stream",
     "text": [
      "True\n"
     ]
    }
   ],
   "source": [
    "#Hacemos uso del operador or\n",
    "print(my_kitchen > 14 or your_kitchen < 12)"
   ]
  },
  {
   "cell_type": "markdown",
   "metadata": {},
   "source": [
    "## and, or, not (II)"
   ]
  },
  {
   "cell_type": "markdown",
   "metadata": {},
   "source": [
    "La función **not** nos permite negar, es decir, algo que True lo convierte en False y viceversa."
   ]
  },
  {
   "cell_type": "code",
   "execution_count": 4,
   "metadata": {},
   "outputs": [
    {
     "data": {
      "text/plain": [
       "False"
      ]
     },
     "execution_count": 4,
     "metadata": {},
     "output_type": "execute_result"
    }
   ],
   "source": [
    "x = 8\n",
    "y = 9\n",
    "not(not(x < 3) and not(y > 14 or y > 10))"
   ]
  },
  {
   "cell_type": "markdown",
   "metadata": {},
   "source": [
    "## Boolean operators with Numpy"
   ]
  },
  {
   "cell_type": "markdown",
   "metadata": {},
   "source": [
    "Aunque ya vimos que los operadores **<**, **>** o **=** funcionan de igual forma para variables, listas o numpys arrays, para el caso de los operadores lógicos esto no sucede. A la hora de trabajar con operadores lógicos con numpy arrays debemos de hacer uso de las funciones\n",
    "* **np.logical_and**\n",
    "* **np.logical_or**\n",
    "* **np.logical_not**"
   ]
  },
  {
   "cell_type": "code",
   "execution_count": 5,
   "metadata": {},
   "outputs": [
    {
     "name": "stdout",
     "output_type": "stream",
     "text": [
      "[False  True False  True]\n"
     ]
    }
   ],
   "source": [
    "#Importamos la librería numpy\n",
    "import numpy as np\n",
    "\n",
    "#Nos creamos dos numpy arrays\n",
    "my_house = np.array([18.0, 20.0, 10.75, 9.50])\n",
    "your_house = np.array([14.0, 24.0, 14.25, 9.0])\n",
    "\n",
    "#Aplicamos la función lógica or\n",
    "print(np.logical_or(my_house > 18, my_house < 10))"
   ]
  },
  {
   "cell_type": "code",
   "execution_count": 6,
   "metadata": {},
   "outputs": [
    {
     "name": "stdout",
     "output_type": "stream",
     "text": [
      "[False False False  True]\n"
     ]
    }
   ],
   "source": [
    "#Aplicamos la función lógica and\n",
    "print(np.logical_and(my_house < 11, your_house < 11))"
   ]
  },
  {
   "cell_type": "markdown",
   "metadata": {},
   "source": [
    "## if"
   ]
  },
  {
   "cell_type": "markdown",
   "metadata": {},
   "source": [
    "La sentencia **if** nos permite ejecutar una o varias sentencias en caso de que la condición que le acompaña sea evaluada como **True**"
   ]
  },
  {
   "cell_type": "code",
   "execution_count": 1,
   "metadata": {},
   "outputs": [
    {
     "name": "stdout",
     "output_type": "stream",
     "text": [
      "kitchen\n"
     ]
    }
   ],
   "source": [
    "#Nos creamos dos variables \n",
    "room = 'kit'\n",
    "area = 14\n",
    "\n",
    "#Veamos como actua el condicional if\n",
    "if room == 'kit':\n",
    "    print('kitchen')\n",
    "\n",
    "if area > 18:\n",
    "    print('big kitchen')"
   ]
  },
  {
   "cell_type": "markdown",
   "metadata": {},
   "source": [
    "En este caso como la condición que acompaña al primer **if** es evaluada como **True** la sentencia que se encuentra dentro del **if** es ejecutada. Sin embargo, la sentencia que acompaña al segundo **if** es evaluada como **False** por lo que la sentencia que se encuentra en el interior del segundo **if** no es ejecutada."
   ]
  },
  {
   "cell_type": "markdown",
   "metadata": {},
   "source": [
    "## Add else"
   ]
  },
  {
   "cell_type": "markdown",
   "metadata": {},
   "source": [
    "La sentencia **if** puede ir acompañada de la sentencia **else** de forma que en caso de que la condición de la sentencia **if** sea evaluada como **False**, se evalue la condición que acompaña a la sentencia **else**, la sentencia **else** no va acompañada de condición."
   ]
  },
  {
   "cell_type": "code",
   "execution_count": 2,
   "metadata": {},
   "outputs": [
    {
     "name": "stdout",
     "output_type": "stream",
     "text": [
      "bedroom\n",
      "big bedroom\n"
     ]
    }
   ],
   "source": [
    "#Nos creamos dos variables\n",
    "room = 'bed'\n",
    "area = 16\n",
    "\n",
    "#Ejecutamos la sentencia if con el else\n",
    "if room == 'kit':\n",
    "    print('kitchen')\n",
    "else:\n",
    "    print('bedroom')\n",
    "    \n",
    "if area > 14:\n",
    "    print('big bedroom')\n",
    "else:\n",
    "    print('small bedroom')"
   ]
  },
  {
   "cell_type": "markdown",
   "metadata": {},
   "source": [
    "## Customize further: elif"
   ]
  },
  {
   "cell_type": "markdown",
   "metadata": {},
   "source": [
    "Finalmente la sentencia **if** también puede ir acompañada de la sentencia **elif**. A diferencia de la sentencia **else** esta sentencia si va acompañada de condición."
   ]
  },
  {
   "cell_type": "code",
   "execution_count": 3,
   "metadata": {},
   "outputs": [
    {
     "name": "stdout",
     "output_type": "stream",
     "text": [
      "garden\n"
     ]
    }
   ],
   "source": [
    "#Nos creamos dos variables\n",
    "room = 'gar'\n",
    "\n",
    "#Ejecutamos la sentencia if acompañada del elif y else\n",
    "if room == 'gar':\n",
    "    print('garden')\n",
    "elif room == 'kit':\n",
    "    print('kitchen')\n",
    "else:\n",
    "    print('bedroom')"
   ]
  },
  {
   "cell_type": "markdown",
   "metadata": {},
   "source": [
    "Si la condición que acompaña a la sentencia **if** es **True** y la condición que acompaña a la sentencia **elif** también es **True**, tan solo se ejecutará la sentencia que acompaña a la primera sentencia evaluada como **True**"
   ]
  },
  {
   "cell_type": "code",
   "execution_count": 4,
   "metadata": {},
   "outputs": [
    {
     "name": "stdout",
     "output_type": "stream",
     "text": [
      "bedroom\n"
     ]
    }
   ],
   "source": [
    "room1 = 'bed'\n",
    "room2 = 'kit'\n",
    "\n",
    "if room1 == 'bed':\n",
    "    print('bedroom')\n",
    "elif room2 == 'kit':\n",
    "    print('kitchen')\n",
    "else:\n",
    "    print('garden')"
   ]
  },
  {
   "cell_type": "markdown",
   "metadata": {},
   "source": [
    "Podemos poner tantas sentencias **elif** como queramos."
   ]
  },
  {
   "cell_type": "code",
   "execution_count": 5,
   "metadata": {},
   "outputs": [
    {
     "name": "stdout",
     "output_type": "stream",
     "text": [
      "living room\n"
     ]
    }
   ],
   "source": [
    "room = 'liv'\n",
    "\n",
    "if room == 'kit':\n",
    "    print('kitchen')\n",
    "elif room == 'bed':\n",
    "    print('bedroom')\n",
    "elif room == 'liv':\n",
    "    print('living room')\n",
    "else:\n",
    "    print('garden')"
   ]
  },
  {
   "cell_type": "markdown",
   "metadata": {},
   "source": [
    "## Filtering Pandas DataFrame"
   ]
  },
  {
   "cell_type": "markdown",
   "metadata": {},
   "source": [
    "A continuación vamos a prodecer a explicar la forma de filtar nuestros Pandas DataFrame a partir de los operadores ya vistos. Para ello vamos hacer uso del conjunto de datos **cars.csv**."
   ]
  },
  {
   "cell_type": "code",
   "execution_count": 7,
   "metadata": {},
   "outputs": [
    {
     "data": {
      "text/html": [
       "<div>\n",
       "<style scoped>\n",
       "    .dataframe tbody tr th:only-of-type {\n",
       "        vertical-align: middle;\n",
       "    }\n",
       "\n",
       "    .dataframe tbody tr th {\n",
       "        vertical-align: top;\n",
       "    }\n",
       "\n",
       "    .dataframe thead th {\n",
       "        text-align: right;\n",
       "    }\n",
       "</style>\n",
       "<table border=\"1\" class=\"dataframe\">\n",
       "  <thead>\n",
       "    <tr style=\"text-align: right;\">\n",
       "      <th></th>\n",
       "      <th>cars_per_cap</th>\n",
       "      <th>country</th>\n",
       "      <th>drives_right</th>\n",
       "    </tr>\n",
       "  </thead>\n",
       "  <tbody>\n",
       "    <tr>\n",
       "      <th>US</th>\n",
       "      <td>809</td>\n",
       "      <td>United States</td>\n",
       "      <td>True</td>\n",
       "    </tr>\n",
       "    <tr>\n",
       "      <th>AUS</th>\n",
       "      <td>731</td>\n",
       "      <td>Australia</td>\n",
       "      <td>False</td>\n",
       "    </tr>\n",
       "    <tr>\n",
       "      <th>JAP</th>\n",
       "      <td>588</td>\n",
       "      <td>Japan</td>\n",
       "      <td>False</td>\n",
       "    </tr>\n",
       "    <tr>\n",
       "      <th>IN</th>\n",
       "      <td>18</td>\n",
       "      <td>India</td>\n",
       "      <td>False</td>\n",
       "    </tr>\n",
       "    <tr>\n",
       "      <th>RU</th>\n",
       "      <td>200</td>\n",
       "      <td>Russia</td>\n",
       "      <td>True</td>\n",
       "    </tr>\n",
       "  </tbody>\n",
       "</table>\n",
       "</div>"
      ],
      "text/plain": [
       "     cars_per_cap        country  drives_right\n",
       "US            809  United States          True\n",
       "AUS           731      Australia         False\n",
       "JAP           588          Japan         False\n",
       "IN             18          India         False\n",
       "RU            200         Russia          True"
      ]
     },
     "execution_count": 7,
     "metadata": {},
     "output_type": "execute_result"
    }
   ],
   "source": [
    "#Procedemos a la carga de los datos\n",
    "import pandas as pd\n",
    "df_cars = pd.read_csv('cars.csv', index_col = 0)\n",
    "#Vemos la cabecera de nuestros datos\n",
    "df_cars.head()"
   ]
  },
  {
   "cell_type": "markdown",
   "metadata": {},
   "source": [
    "## Driving right (I)"
   ]
  },
  {
   "cell_type": "markdown",
   "metadata": {},
   "source": [
    "A continuación vamos a proceder a filtrar aquellos países en los cuales se conduce por la derecha"
   ]
  },
  {
   "cell_type": "code",
   "execution_count": 10,
   "metadata": {},
   "outputs": [
    {
     "name": "stdout",
     "output_type": "stream",
     "text": [
      "     cars_per_cap        country  drives_right\n",
      "US            809  United States          True\n",
      "RU            200         Russia          True\n",
      "MOR            70        Morocco          True\n",
      "EG             45          Egypt          True\n"
     ]
    }
   ],
   "source": [
    "#En primer lugar seleccionarmos la columna por la cual queremos filtrar\n",
    "df_dr = df_cars.loc[:, 'drives_right']\n",
    "#Ahora procedemos a obtener el df filtrado\n",
    "df_filter = df_cars[df_dr]\n",
    "#Mostramos los resultados\n",
    "print(df_filter)"
   ]
  },
  {
   "cell_type": "markdown",
   "metadata": {},
   "source": [
    "## Driving right (2)"
   ]
  },
  {
   "cell_type": "markdown",
   "metadata": {},
   "source": [
    "Este filtrado se puede realizar en una sola línea"
   ]
  },
  {
   "cell_type": "code",
   "execution_count": 11,
   "metadata": {},
   "outputs": [
    {
     "name": "stdout",
     "output_type": "stream",
     "text": [
      "     cars_per_cap        country  drives_right\n",
      "US            809  United States          True\n",
      "RU            200         Russia          True\n",
      "MOR            70        Morocco          True\n",
      "EG             45          Egypt          True\n"
     ]
    }
   ],
   "source": [
    "#Filtramos\n",
    "df_filter = df_cars[df_cars.iloc[:,2]]\n",
    "#Mostramos el resultado\n",
    "print(df_filter)"
   ]
  },
  {
   "cell_type": "markdown",
   "metadata": {},
   "source": [
    "## Cars per capita (1)"
   ]
  },
  {
   "cell_type": "markdown",
   "metadata": {},
   "source": [
    "Ahora vamos a proceder a detectar aquellos países en los que la variable **cars_per_cap** es superior a 100"
   ]
  },
  {
   "cell_type": "code",
   "execution_count": 12,
   "metadata": {},
   "outputs": [
    {
     "name": "stdout",
     "output_type": "stream",
     "text": [
      "     cars_per_cap        country  drives_right\n",
      "US            809  United States          True\n",
      "AUS           731      Australia         False\n",
      "JAP           588          Japan         False\n",
      "RU            200         Russia          True\n"
     ]
    }
   ],
   "source": [
    "#Filtramos\n",
    "df_filter = df_cars[df_cars['cars_per_cap'] > 100]\n",
    "#Mostramos resultados\n",
    "print(df_filter)"
   ]
  },
  {
   "cell_type": "markdown",
   "metadata": {},
   "source": [
    "## Cars per capita (II)"
   ]
  },
  {
   "cell_type": "markdown",
   "metadata": {},
   "source": [
    "A la hora de hacer uso de los operadores lógicos vistos anteriormente para realizar filtraciones más complejas podemos hacer uso de los operadores lógicos proporcionados por el paquete **numpy**(np.logical_and, np.logical_or, np.logical_not)."
   ]
  },
  {
   "cell_type": "code",
   "execution_count": 15,
   "metadata": {},
   "outputs": [
    {
     "name": "stdout",
     "output_type": "stream",
     "text": [
      "    cars_per_cap country  drives_right\n",
      "RU           200  Russia          True\n"
     ]
    }
   ],
   "source": [
    "#Vamos a proceder a filtrar aquellos países donde la variable cars_per_cap sea mayor a 100 pero menor a 500\n",
    "import numpy as np\n",
    "df_filter =df_cars[np.logical_and(df_cars.loc[:, 'cars_per_cap'] > 100, df_cars.iloc[:,0] < 500)]\n",
    "#Mostramos el resultado\n",
    "print(df_filter)"
   ]
  },
  {
   "cell_type": "code",
   "execution_count": null,
   "metadata": {},
   "outputs": [],
   "source": []
  }
 ],
 "metadata": {
  "kernelspec": {
   "display_name": "Python 3",
   "language": "python",
   "name": "python3"
  },
  "language_info": {
   "codemirror_mode": {
    "name": "ipython",
    "version": 3
   },
   "file_extension": ".py",
   "mimetype": "text/x-python",
   "name": "python",
   "nbconvert_exporter": "python",
   "pygments_lexer": "ipython3",
   "version": "3.5.2"
  }
 },
 "nbformat": 4,
 "nbformat_minor": 2
}
