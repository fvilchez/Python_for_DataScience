{
 "cells": [
  {
   "cell_type": "code",
   "execution_count": 1,
   "metadata": {
    "collapsed": true
   },
   "outputs": [],
   "source": [
    "import numpy as np "
   ]
  },
  {
   "cell_type": "markdown",
   "metadata": {},
   "source": [
    "# Introducción "
   ]
  },
  {
   "cell_type": "markdown",
   "metadata": {},
   "source": [
    "Los vectores son un elemento fundamental del algebra lineal. Los vectores son usados en todo el campo del machine learning, tanto en la descripción de algoritmos como en el tipo de dato necesario para entrenar nuestros algoritmos. \n",
    "\n",
    "Un vector es una tupla de uno o más valores llamados escalares. Las vectores normalmente son representados mediante letras minúsculas, de la forma **v = (v1,v2,v3)** donde **v1,v2,v3** son valores escalares, a menudo números reales."
   ]
  },
  {
   "cell_type": "markdown",
   "metadata": {},
   "source": [
    "# Definiendo un vector "
   ]
  },
  {
   "cell_type": "markdown",
   "metadata": {},
   "source": [
    "En Python un vector puede ser representado mediante un numpy array"
   ]
  },
  {
   "cell_type": "code",
   "execution_count": 2,
   "metadata": {},
   "outputs": [
    {
     "name": "stdout",
     "output_type": "stream",
     "text": [
      "[1 2 3]\n"
     ]
    }
   ],
   "source": [
    "#Nos generamos nuestro primer vector\n",
    "v = np.array([1,2,3])\n",
    "print(v)"
   ]
  },
  {
   "cell_type": "markdown",
   "metadata": {},
   "source": [
    "Este ejemplo define un vector de tres elementos, donde cada uno de sus elementos es un número real."
   ]
  },
  {
   "cell_type": "markdown",
   "metadata": {},
   "source": [
    "# Operaciones aritméticas con vectores"
   ]
  },
  {
   "cell_type": "markdown",
   "metadata": {},
   "source": [
    "Las operaciones aritméticas en un vector son realizadas elemento a elemento, de forma que las operaciones entres dos vectores de igual longitud dan lugar a otro vector de igual longitud."
   ]
  },
  {
   "cell_type": "markdown",
   "metadata": {},
   "source": [
    "## Suma de vectores"
   ]
  },
  {
   "cell_type": "markdown",
   "metadata": {},
   "source": [
    "Dos vectores de igual longitud pueden ser sumados juntos para crear un tercer vector. El nuevo vector tendrá la misma longitud que los otros dos vectores. Cada uno de los elementos del nuevo vector es calculado como la suma de los elementos de los otros vectores que se encuentran en el mismo índice."
   ]
  },
  {
   "cell_type": "code",
   "execution_count": 4,
   "metadata": {},
   "outputs": [
    {
     "name": "stdout",
     "output_type": "stream",
     "text": [
      "[5 7 9]\n"
     ]
    }
   ],
   "source": [
    "#Nos generamos dos vectores\n",
    "a = np.array([1, 2, 3])\n",
    "b = np.array([4, 5, 6])\n",
    "\n",
    "#Hacemos la suma\n",
    "print(a+b)"
   ]
  },
  {
   "cell_type": "markdown",
   "metadata": {},
   "source": [
    "## Diferencia de vectores"
   ]
  },
  {
   "cell_type": "markdown",
   "metadata": {},
   "source": [
    "Dos vectores de igual longitud pueden ser restados con el objetivo de obtener un tercer vector. Al igual que la suma, el vector resultante tendrá la misma longitud que los vectores que actuaron en la operación. Cada uno de los elementos del nuevo vector es calculado como la resta de los elementos de los otros vectores que se encuentran en el mismo indice."
   ]
  },
  {
   "cell_type": "code",
   "execution_count": 5,
   "metadata": {},
   "outputs": [
    {
     "name": "stdout",
     "output_type": "stream",
     "text": [
      "[3 3 3]\n"
     ]
    }
   ],
   "source": [
    "#Nos generamos dos vectores\n",
    "a = np.array([9, 8, 7])\n",
    "b = np.array([6, 5, 4])\n",
    "\n",
    "#Hacemos la resta\n",
    "print(a-b)"
   ]
  },
  {
   "cell_type": "markdown",
   "metadata": {},
   "source": [
    "## Producto de vectores"
   ]
  },
  {
   "cell_type": "markdown",
   "metadata": {},
   "source": [
    "Dos vectores de igual longitud pueden ser multiplicados juntos con el objetivo de obtener un tercer vector. Este vector resultante tendrá la misma longitud y se obtendrá como el producto elemento a elemento de cada uno de los elementos de los vectores."
   ]
  },
  {
   "cell_type": "code",
   "execution_count": 6,
   "metadata": {},
   "outputs": [
    {
     "name": "stdout",
     "output_type": "stream",
     "text": [
      "[ 4 10 18]\n"
     ]
    }
   ],
   "source": [
    "#Nos generamos dos vectores\n",
    "a = np.array([1, 2, 3])\n",
    "b = np.array([4, 5, 6])\n",
    "\n",
    "#Hacemos el producto\n",
    "print(a*b)"
   ]
  },
  {
   "cell_type": "markdown",
   "metadata": {},
   "source": [
    "## División de vectores"
   ]
  },
  {
   "cell_type": "markdown",
   "metadata": {},
   "source": [
    "Dos vectores de igual longitud pueden ser divididos con el objetivo de obtener un tercer vector. Este vector resultante tendrá la misma longitud que los vectores que pertenecen a la operación y además se obtendrá como el cociente elemento a elemento de cada uno de los vectores."
   ]
  },
  {
   "cell_type": "code",
   "execution_count": 7,
   "metadata": {},
   "outputs": [
    {
     "name": "stdout",
     "output_type": "stream",
     "text": [
      "[0.25 0.4  0.5 ]\n"
     ]
    }
   ],
   "source": [
    "#Nos generamos dos vectores\n",
    "a = np.array([1, 2, 3])\n",
    "b = np.array([4, 5, 6])\n",
    "\n",
    "#Hacemos el cociente\n",
    "print(a/b)"
   ]
  },
  {
   "cell_type": "markdown",
   "metadata": {},
   "source": [
    "## Dot product"
   ]
  },
  {
   "cell_type": "markdown",
   "metadata": {},
   "source": [
    "El **dot product** se trata de una operación que multiplica los elementos de dos vectores entre sí y tras esto suma los resultados obtenidos en el producto, es decir, el resultado de esta operación es un escalar. Esta operación es la clave para calcular proyecciones de vectores, descomposición de vectores y determinar ortogonalidad. \n",
    "\n",
    "Python nos permite realizar esta operación mediante la función **dot()**."
   ]
  },
  {
   "cell_type": "code",
   "execution_count": 8,
   "metadata": {},
   "outputs": [
    {
     "name": "stdout",
     "output_type": "stream",
     "text": [
      "32\n"
     ]
    }
   ],
   "source": [
    "#Nos genramos dos vectores\n",
    "a = np.array([1, 2, 3])\n",
    "b = np.array([4, 5, 6])\n",
    "\n",
    "#Hacemos el dot product\n",
    "print(a.dot(b))"
   ]
  },
  {
   "cell_type": "markdown",
   "metadata": {},
   "source": [
    "## Multiplicación de un vector por un escalar"
   ]
  },
  {
   "cell_type": "markdown",
   "metadata": {},
   "source": [
    "Un vector puede ser multiplicado por un escalar. Dicha multiplicación es realizada sobre cada elemento del vector, lo que da lugar a un nuevo vector escalado de igual longitud."
   ]
  },
  {
   "cell_type": "code",
   "execution_count": 9,
   "metadata": {},
   "outputs": [
    {
     "name": "stdout",
     "output_type": "stream",
     "text": [
      "[2 4 6]\n"
     ]
    }
   ],
   "source": [
    "#Nos generamos un vector\n",
    "a = np.array([1, 2, 3])\n",
    "s = 2\n",
    "\n",
    "#Hacemos el producto del vector por el escalar\n",
    "print(a*s)"
   ]
  }
 ],
 "metadata": {
  "kernelspec": {
   "display_name": "Python 3",
   "language": "python",
   "name": "python3"
  },
  "language_info": {
   "codemirror_mode": {
    "name": "ipython",
    "version": 3
   },
   "file_extension": ".py",
   "mimetype": "text/x-python",
   "name": "python",
   "nbconvert_exporter": "python",
   "pygments_lexer": "ipython3",
   "version": "3.6.3"
  }
 },
 "nbformat": 4,
 "nbformat_minor": 2
}
