{
 "cells": [
  {
   "cell_type": "code",
   "execution_count": 2,
   "metadata": {
    "collapsed": true
   },
   "outputs": [],
   "source": [
    "import numpy as np \n",
    "from numpy.linalg import norm"
   ]
  },
  {
   "cell_type": "markdown",
   "metadata": {},
   "source": [
    "# Introducción"
   ]
  },
  {
   "cell_type": "markdown",
   "metadata": {},
   "source": [
    "Calcular el tamaño o longitud de un vector es algo a menudo requerido en amplio abánic de operaciones vectoriales y matriciales. La longitud de un vector es referida como la normal del vector o la magnitud del vector. Se trata siempre de un número no negativo. Esta es calculada usando alguna medida que resuma la distancia del vector desde el origen del espacio vectorial."
   ]
  },
  {
   "cell_type": "markdown",
   "metadata": {},
   "source": [
    "# Norma L1"
   ]
  },
  {
   "cell_type": "markdown",
   "metadata": {},
   "source": [
    "La longitud de un vector puede ser calculada haciendo uso de la norma L1. La notación para la norma de un vector que usa la norma L1 es: ||v||1. Esta norma es llamada en determinadas ocasiones taxicab o norma de Manhattan. \n",
    "\n",
    "La norma L1 es calculada como la suma del valor absoluto de cada uno de los elementos de nuestro vector.\n",
    "\n",
    "La norma L1 puede ser calculada haciendo uso de numpy mediante la función **norm()**. Esta función dispone de un parámetro que nos permite especificar el orden de la normal que deseamos calcular."
   ]
  },
  {
   "cell_type": "code",
   "execution_count": 4,
   "metadata": {},
   "outputs": [
    {
     "name": "stdout",
     "output_type": "stream",
     "text": [
      "6.0\n"
     ]
    }
   ],
   "source": [
    "#Nos generamos un array\n",
    "a = np.array([1, 2, 3])\n",
    "\n",
    "#Calculamos su norma\n",
    "print(norm(a,1))"
   ]
  },
  {
   "cell_type": "markdown",
   "metadata": {},
   "source": [
    "# Normal L2"
   ]
  },
  {
   "cell_type": "markdown",
   "metadata": {},
   "source": [
    "La longitud de un vector puede ser calculada  usando la norma L2. La notación para un vector que hace uso de L2 para calcular su normal es ||v||2.\n",
    "\n",
    "La norma L2 calcula la distancia del vector desde el origen de coordenadas. También es conocida como normal Euclídea y es calculada como la distancia Euclídea desde el origen. El resultado es siempre un valor positivo.\n",
    "\n",
    "La norma L2 puede ser calculada haciendo uso de Numpy mediante la función **norm()**."
   ]
  },
  {
   "cell_type": "code",
   "execution_count": 5,
   "metadata": {},
   "outputs": [
    {
     "name": "stdout",
     "output_type": "stream",
     "text": [
      "3.7416573867739413\n"
     ]
    }
   ],
   "source": [
    "#Nos creamos un vector\n",
    "a = np.array([1, 2, 3])\n",
    "\n",
    "#Calculamos su norma\n",
    "print(norm(a,2))"
   ]
  },
  {
   "cell_type": "markdown",
   "metadata": {},
   "source": [
    "# Norm Max"
   ]
  },
  {
   "cell_type": "markdown",
   "metadata": {},
   "source": [
    "La longitud de un vector puede ser calculada usando la norma máxima, también llamada max norm. Nos referimos a la max norm de un vector como Linf. La notación para un vector que hace uso de la max norm para obtener la norma es ||v||inf. \n",
    "\n",
    "La norm max de un vector es calculada como el máximo del valor absoluto de cada uno de los elementos de un vector.\n",
    "\n",
    "Esta norma puede ser calculada haciendo uso de Numpy mediante la función **norm()**."
   ]
  },
  {
   "cell_type": "code",
   "execution_count": 10,
   "metadata": {},
   "outputs": [
    {
     "data": {
      "text/plain": [
       "3.0"
      ]
     },
     "execution_count": 10,
     "metadata": {},
     "output_type": "execute_result"
    }
   ],
   "source": [
    "#Nos generamos un array\n",
    "a = np.array([1, 2, 3])\n",
    "\n",
    "#Obtenemos la max norm\n",
    "norm(a, np.inf)"
   ]
  }
 ],
 "metadata": {
  "kernelspec": {
   "display_name": "Python 3",
   "language": "python",
   "name": "python3"
  },
  "language_info": {
   "codemirror_mode": {
    "name": "ipython",
    "version": 3
   },
   "file_extension": ".py",
   "mimetype": "text/x-python",
   "name": "python",
   "nbconvert_exporter": "python",
   "pygments_lexer": "ipython3",
   "version": "3.6.3"
  }
 },
 "nbformat": 4,
 "nbformat_minor": 2
}
