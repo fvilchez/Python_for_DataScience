{
 "cells": [
  {
   "cell_type": "code",
   "execution_count": 16,
   "metadata": {
    "collapsed": true
   },
   "outputs": [],
   "source": [
    "import numpy as np \n",
    "import matplotlib.pyplot as plt\n",
    "from numpy.linalg import inv, qr, pinv"
   ]
  },
  {
   "cell_type": "markdown",
   "metadata": {},
   "source": [
    "# Introducción "
   ]
  },
  {
   "cell_type": "markdown",
   "metadata": {},
   "source": [
    "La regresión lineal es un método para modelar las relaciones entre una o más variables independientes y una variable dependiente. Se trata de un método que puede ser reformulado usando notación matricial y resuelto haciendo uso de operaciones matriciales."
   ]
  },
  {
   "cell_type": "markdown",
   "metadata": {},
   "source": [
    "# Que es la regresión lineal"
   ]
  },
  {
   "cell_type": "markdown",
   "metadata": {},
   "source": [
    "La regresión lineal es un método para modelar la realación entre dos valores escalares: una variable de entrada **x** y una variable de salida **y**. El modelo asume que **y** es una función lineal de **x**.\n",
    "\n",
    "$$y = b_{0} + b_{1}x_{1}$$"
   ]
  },
  {
   "cell_type": "markdown",
   "metadata": {},
   "source": [
    "El modelo puede ser usado para modelar una variable de salida dadas múltiples variables de entrada.\n",
    "\n",
    "$$y = b_{0} + b_{1}x_{1} + b_{2}x_{2} + ... + b_{n}x_{n}$$"
   ]
  },
  {
   "cell_type": "markdown",
   "metadata": {},
   "source": [
    "El objetivo es crear un modelo de regresión lineal para encontrar los valores para los coeficientes **b**, que minimizan el error en la predicción de la variable de salida."
   ]
  },
  {
   "cell_type": "markdown",
   "metadata": {},
   "source": [
    "# Formulación matricial de la regresión lineal"
   ]
  },
  {
   "cell_type": "markdown",
   "metadata": {},
   "source": [
    "La regresión lineal puede ser formulada haciendo uso de la notación matricial de la siguiente forma\n",
    "\n",
    "$$y = Xb$$"
   ]
  },
  {
   "cell_type": "markdown",
   "metadata": {},
   "source": [
    "Donde **X** son los datos de entrada y cada columna es una característica, b es un vector de coeficientes e y es nuestro vector de salida. Una vez reformulado nuestro problema, este se convierte en un sistema de ecuaciones lineales donde los valores del vector **b** son desconocidos.\n",
    "La forma más típica para encontrar la solución óptima, es encontrar aquellos valores que minimizan el error cuadrático también conocido como el método de mínimos cuadrados."
   ]
  },
  {
   "cell_type": "markdown",
   "metadata": {},
   "source": [
    "$$ || Xb - y||^{2} = \\sum_{i=1}^{m}\\sum_{j=1}^{n}X_{ij}(b_j - y_i)^{2}$$"
   ]
  },
  {
   "cell_type": "markdown",
   "metadata": {},
   "source": [
    "Esta formulación tiene una única solución. En notación matricial este problema puede ser formulado haciendo uso de la ecuación normal.\n",
    "\n",
    "$$ X^{T}Xb = X^{T}y$$\n",
    "\n",
    "$$ b = (X^{T}X)^{-1}X^{T}y$$"
   ]
  },
  {
   "cell_type": "markdown",
   "metadata": {},
   "source": [
    "Esta ecuación puede ser resuelta de forma directa, aunque dada la presencia de la matriz inversa puede ser numéricamente un reto y ser un sistema inestable."
   ]
  },
  {
   "cell_type": "code",
   "execution_count": 7,
   "metadata": {},
   "outputs": [
    {
     "data": {
      "image/png": "[encoded data removed]",
      "text/plain": [
       "<matplotlib.figure.Figure at 0x7f4fb47cbdd8>"
      ]
     },
     "metadata": {},
     "output_type": "display_data"
    }
   ],
   "source": [
    "# A continuación vamos a proceder a crear un dataset el cuál vamos a intenter resolver\n",
    "data = np.array([\n",
    "[0.05, 0.12],\n",
    "[0.18, 0.22],\n",
    "[0.31, 0.35],\n",
    "[0.42, 0.38],\n",
    "[0.5, 0.49]])\n",
    "\n",
    "#Dividimos entre variale de entrada y variable de salida\n",
    "X, y = data[:,0], data[:,1]\n",
    "\n",
    "#Hacemos un scatter plot\n",
    "plt.scatter(X, y)\n",
    "plt.show()"
   ]
  },
  {
   "cell_type": "markdown",
   "metadata": {},
   "source": [
    "# Resolver vía inversa"
   ]
  },
  {
   "cell_type": "markdown",
   "metadata": {},
   "source": [
    "El primer enfoque a la hoora de encontrar los coeficientes es resolver el problema directamente usando la matriz inversa. Un problema que tiene este enfoque es que el cálculo de la matriz inversa es computacionalmente costoso y numéricamente inestable."
   ]
  },
  {
   "cell_type": "code",
   "execution_count": 10,
   "metadata": {},
   "outputs": [
    {
     "data": {
      "image/png": "[encoded data removed]",
      "text/plain": [
       "<matplotlib.figure.Figure at 0x7f4fb469ca20>"
      ]
     },
     "metadata": {},
     "output_type": "display_data"
    }
   ],
   "source": [
    "#Hacemos un reshape\n",
    "X = X.reshape((len(X), 1))\n",
    "\n",
    "#Resolvemos via la matriz inversa\n",
    "b = inv(X.T.dot(X)).dot(X.T).dot(y)\n",
    "\n",
    "#Calculamos las predicciones\n",
    "pred = X.dot(b)\n",
    "\n",
    "#Vemos los resultados gráficamente\n",
    "plt.scatter(X, y)\n",
    "plt.plot(X, pred, color = 'red')\n",
    "plt.show()"
   ]
  },
  {
   "cell_type": "markdown",
   "metadata": {},
   "source": [
    "# Resolver vía descomposición QR"
   ]
  },
  {
   "cell_type": "markdown",
   "metadata": {},
   "source": [
    "La descomposición QR es un enfoque que rompe una matriz en elementos constituyentes\n",
    "$$A = QR$$"
   ]
  },
  {
   "cell_type": "markdown",
   "metadata": {},
   "source": [
    "Donde A es la matriz que deseamos descomponer, Q es una matriz de tamaño mxm, y R es una matriz triangular superior de tamaño mxn. La descomposición QR es un enfoque muy popular a la hora de resolver la ecuación de mínimos cuadrados. Los coeficientes pueden ser resueltos de la siguiente forma:\n",
    "\n",
    "$$ b = R^{-1}Q^{T}y$$"
   ]
  },
  {
   "cell_type": "markdown",
   "metadata": {},
   "source": [
    "La descomposición QR es un enfoque mucho más eficiente computacionalmente y numéricamente más estable que obtener la resolución directamente mediante la matriz inversa, pero no funciona para todas las matrices."
   ]
  },
  {
   "cell_type": "code",
   "execution_count": 15,
   "metadata": {},
   "outputs": [
    {
     "data": {
      "image/png": "[encoded data removed]",
      "text/plain": [
       "<matplotlib.figure.Figure at 0x7f4fb4759b70>"
      ]
     },
     "metadata": {},
     "output_type": "display_data"
    }
   ],
   "source": [
    "#Obtenemos la descomposición qr\n",
    "Q, R = qr(X)\n",
    "\n",
    "#Obtenemos los coeficientes \n",
    "b = inv(R).dot(Q.T).dot(y)\n",
    "\n",
    "#Prediccion\n",
    "pred = X.dot(b)\n",
    "\n",
    "#Vemos el resultado\n",
    "plt.scatter(X, y)\n",
    "plt.plot(X, pred, color = 'red')\n",
    "plt.show()"
   ]
  },
  {
   "cell_type": "markdown",
   "metadata": {},
   "source": [
    "# Resolver vía SVD y Pseudoinversa"
   ]
  },
  {
   "cell_type": "markdown",
   "metadata": {},
   "source": [
    "La descomposición singular de valores o SVD, es un método de descomposición matricial, que al igual que el método QR descompone una matriz en elementos constituyentes\n",
    "\n",
    "$$X = U\\Sigma V^{T}$$"
   ]
  },
  {
   "cell_type": "markdown",
   "metadata": {},
   "source": [
    "Donde **X** es la matriz que deseamos descomponer, **U** es una matriz de dimensión mxm, sigma es una matriz diagonal mxn, y V es una matriz nxn.\n",
    "A diferencia de la descomposición QR, todas las matrices pueden ser descompuestas mediante valores singulares. Se trata de un método más estable y es el enfoque preferido. Una vez descompuesta nuestra matriz, los coeficientes pueden ser calculados como: \n",
    "$$b = X^{+}y$$"
   ]
  },
  {
   "cell_type": "markdown",
   "metadata": {},
   "source": [
    "Donde X+, es la pseudoinversa de la matriz de nuestras variables de entrada y puede ser calculada como:\n",
    "\n",
    "$$X^{+} = UD^{+}V^{T}$$"
   ]
  },
  {
   "cell_type": "code",
   "execution_count": 17,
   "metadata": {},
   "outputs": [
    {
     "data": {
      "image/png": "[encoded data removed]",
      "text/plain": [
       "<matplotlib.figure.Figure at 0x7f4fb4619588>"
      ]
     },
     "metadata": {},
     "output_type": "display_data"
    }
   ],
   "source": [
    "#Obtenemos los coeficientes\n",
    "b = pinv(X).dot(y)\n",
    "\n",
    "#Obtenemos las predicciones\n",
    "pred = X.dot(b)\n",
    "\n",
    "#Vemos los resultados\n",
    "plt.scatter(X, y)\n",
    "plt.plot(X, pred, color = 'red')\n",
    "plt.show()"
   ]
  }
 ],
 "metadata": {
  "kernelspec": {
   "display_name": "Python 3",
   "language": "python",
   "name": "python3"
  },
  "language_info": {
   "codemirror_mode": {
    "name": "ipython",
    "version": 3
   },
   "file_extension": ".py",
   "mimetype": "text/x-python",
   "name": "python",
   "nbconvert_exporter": "python",
   "pygments_lexer": "ipython3",
   "version": "3.6.3"
  }
 },
 "nbformat": 4,
 "nbformat_minor": 2
}
