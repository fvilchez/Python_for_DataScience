{
 "cells": [
  {
   "cell_type": "code",
   "execution_count": 1,
   "metadata": {
    "collapsed": true
   },
   "outputs": [],
   "source": [
    "import numpy as np"
   ]
  },
  {
   "cell_type": "markdown",
   "metadata": {},
   "source": [
    "# Valor esperado y Media"
   ]
  },
  {
   "cell_type": "markdown",
   "metadata": {},
   "source": [
    "En probabilidad, el valor promedio de una variable aleatoria X se le conoce como el valor esperado $$E[X] = \\sum x_1p_1, x_2p_2, x_3p_3,...,x_np_n$$"
   ]
  },
  {
   "cell_type": "markdown",
   "metadata": {},
   "source": [
    "En los casos más simples como lanzar una moneda al aire o lanzar el dado, la probabilidad de cada evento es equiprobable, el valor esperado puede ser calculado como la suma de todos los valores multiplicados por su recíproco. $$E[X] = \\frac{1}{n}\\sum x_1,x_2,x_3,...,x_n$$"
   ]
  },
  {
   "cell_type": "markdown",
   "metadata": {},
   "source": [
    "En estadística, la media, o más técnicamente dicho la media aritmética o la media muestral, es estimada a partir de una muestra. Este concepto es bastante confuso y mucha gente suele usar media o valor esperado de igual forma. La principal diferencia es que la media o media aritmética es calculada a partir de una muestra en lugar de a partir de todos los valores posibles.\n",
    "$$\\mu = \\frac{1}{n}\\sum x_1,x_2,x_3,...,x_n$$\n"
   ]
  },
  {
   "cell_type": "markdown",
   "metadata": {},
   "source": [
    "Python dispone de la función **mean()** que nos permite calcula la media aritmética de un array determinado."
   ]
  },
  {
   "cell_type": "code",
   "execution_count": 4,
   "metadata": {},
   "outputs": [
    {
     "name": "stdout",
     "output_type": "stream",
     "text": [
      "3.0\n"
     ]
    }
   ],
   "source": [
    "#Generamos un array\n",
    "v = np.array([1,2, 3, 4, 5])\n",
    "\n",
    "#Calculamos la media \n",
    "v_mean = np.mean(v)\n",
    "print(v_mean)"
   ]
  },
  {
   "cell_type": "markdown",
   "metadata": {},
   "source": [
    "Esta función también nos permite calcular los promedios por fila o columna de una matriz, para ello dispone del argumento **axis**, si toma el valor de 0 la media se hace por columna si toma el valor de 1 se hace la media por fila."
   ]
  },
  {
   "cell_type": "code",
   "execution_count": 6,
   "metadata": {},
   "outputs": [
    {
     "name": "stdout",
     "output_type": "stream",
     "text": [
      "[1. 2. 3. 4. 5. 6.]\n"
     ]
    }
   ],
   "source": [
    "#Generamos array\n",
    "M = np.array([[1,2,3,4,5,6],[1,2,3,4,5,6]])\n",
    "\n",
    "#Hacemos la media por columna\n",
    "mean_col = np.mean(M, axis = 0)\n",
    "print(mean_col)"
   ]
  },
  {
   "cell_type": "code",
   "execution_count": 7,
   "metadata": {},
   "outputs": [
    {
     "name": "stdout",
     "output_type": "stream",
     "text": [
      "[3.5 3.5]\n"
     ]
    }
   ],
   "source": [
    "#Hacemos la medio por fila\n",
    "mean_row = np.mean(M, axis = 1)\n",
    "print(mean_row)"
   ]
  },
  {
   "cell_type": "markdown",
   "metadata": {},
   "source": [
    "# Varianza y desviación estándar"
   ]
  },
  {
   "cell_type": "markdown",
   "metadata": {},
   "source": [
    "En probabilidad, la varianza de una variable aleatoria X es una medidad de como lo valores de una distribución varían en promedio con respecto a la media. Es calculada como: $$Var[X] = E[(X - E[X])^2]$$"
   ]
  },
  {
   "cell_type": "markdown",
   "metadata": {},
   "source": [
    "También puede ser calculada como: $$Var[X] = \\sum p(x_1)(x_1 - E[X])^2, p(x_2)(x_2 - E[X])^2,...,p(x_n)(x_n - E[X])^2$$"
   ]
  },
  {
   "cell_type": "markdown",
   "metadata": {},
   "source": [
    "Si la probabilidad es igual para cada uno de los ejemplos de nuestra distribución: \n",
    "$$Var[X] = \\frac{1}{n}\\sum(x_1 - E[X])^2, (x_2 - E[X])^2,...,(x_n - E[X])^2$$"
   ]
  },
  {
   "cell_type": "markdown",
   "metadata": {},
   "source": [
    "En estadística, la varianza puede ser estimada mediante una muestra, mediante la expresión:\n",
    "\n",
    "$$\\sigma^2 = \\frac{1}{n-1}\\sum_{i=1}^n (x_i - \\mu)^2$$"
   ]
  },
  {
   "cell_type": "markdown",
   "metadata": {},
   "source": [
    "En Python podemos calcular la varianza de un vector o de una matriz haciendo uso de la función **var()**. Por defecto esta función calcula la varianza de una población. Para calcular la varianza de una muestra, debemos dar el valor de 1 al parámetro **ddof**."
   ]
  },
  {
   "cell_type": "code",
   "execution_count": 8,
   "metadata": {},
   "outputs": [
    {
     "name": "stdout",
     "output_type": "stream",
     "text": [
      "2.5\n"
     ]
    }
   ],
   "source": [
    "#Generamos un array\n",
    "v = np.array([1, 2, 3, 4, 5])\n",
    "\n",
    "#Calculamos la varianza\n",
    "v_var = np.var(v, ddof = 1)\n",
    "print(v_var)"
   ]
  },
  {
   "cell_type": "markdown",
   "metadata": {},
   "source": [
    "Podemos calcular la varianza de una matriz a nivel de fila o columna, de la misma forma que hemos visto para la función **mean()**, haciendo uso de la parámetro **axis**."
   ]
  },
  {
   "cell_type": "code",
   "execution_count": 11,
   "metadata": {},
   "outputs": [
    {
     "name": "stdout",
     "output_type": "stream",
     "text": [
      "[0. 0. 0. 0. 0. 0.]\n"
     ]
    }
   ],
   "source": [
    "#Generamos la matriz\n",
    "M = np.array([[1,2,3,4,5,6],[1,2,3,4,5,6]])\n",
    "\n",
    "#Calculamos la varianza a nivel de columna\n",
    "var_col = np.var(M, ddof = 1, axis = 0)\n",
    "print(var_col)"
   ]
  },
  {
   "cell_type": "code",
   "execution_count": 12,
   "metadata": {},
   "outputs": [
    {
     "name": "stdout",
     "output_type": "stream",
     "text": [
      "[3.5 3.5]\n"
     ]
    }
   ],
   "source": [
    "row_var = np.var(M, ddof = 1, axis = 1)\n",
    "print(row_var)"
   ]
  },
  {
   "cell_type": "markdown",
   "metadata": {
    "collapsed": true
   },
   "source": [
    "La desviación estándar es calculada como la raíz cuadrade la varianza, esta medida suele ser más usada que la varianza ya que nos da el resultado en las misma unidades que la variable.\n",
    "$$s= \\sqrt{\\sigma^{2}}$$"
   ]
  },
  {
   "cell_type": "markdown",
   "metadata": {},
   "source": [
    "Python dispone de la función **std()** que nos permite calcular la desviación estándar. Igual que para la varianza dispone del parámetro **ddof** que nos permite ajustar el cálculo para una población o para una muestra. Además también dispone del argumento **axis** que nos permite obtener el valor de la desviación estándar para una matriz a nivel de columna o de fila (con valores 0 y 1 respectivamente)."
   ]
  },
  {
   "cell_type": "code",
   "execution_count": 3,
   "metadata": {},
   "outputs": [
    {
     "name": "stdout",
     "output_type": "stream",
     "text": [
      "[0. 0. 0. 0. 0. 0.]\n"
     ]
    }
   ],
   "source": [
    "#Generamos una matriz\n",
    "M = np.array([[1,2,3,4,5,6], [1,2,3,4,5,6]])\n",
    "\n",
    "#Obtenemos la desviación de estándar a nivel de columna\n",
    "M_std_col = np.std(M, axis = 0, ddof = 1)\n",
    "print(M_std_col)"
   ]
  },
  {
   "cell_type": "code",
   "execution_count": 4,
   "metadata": {},
   "outputs": [
    {
     "name": "stdout",
     "output_type": "stream",
     "text": [
      "[1.87082869 1.87082869]\n"
     ]
    }
   ],
   "source": [
    "#Obtenemos la desviación estándar a nivel de fila\n",
    "M_std_row = np.std(M, axis = 1, ddof = 1)\n",
    "print(M_std_row)"
   ]
  },
  {
   "cell_type": "markdown",
   "metadata": {
    "collapsed": true
   },
   "source": [
    "# Covarianza y Correlación"
   ]
  },
  {
   "cell_type": "markdown",
   "metadata": {},
   "source": [
    "En probabilidad, la covarianza es la medida conjunta para dos variables aleatorias. Esta medida nos indica como dos variables varían conjuntamente. Se denota por **cov(X,Y)**, donde X e Y son dos variables aleatorias.\n",
    "\n",
    "$$cov(X,Y) = E[(X - E[X])(Y - E[Y])]$$"
   ]
  },
  {
   "cell_type": "markdown",
   "metadata": {},
   "source": [
    "Asumiendo que los valores esperados de X e Y pueden ser calculados, la covarianza puede ser calculada como\n",
    "\n",
    "$$cov(X,Y) = \\frac{1}{n}\\sum (x - E[X])(y - E[Y])$$"
   ]
  },
  {
   "cell_type": "markdown",
   "metadata": {},
   "source": [
    "En estadística la covarianza de una muestra puede ser calculada como\n",
    "\n",
    "$$cov(X,Y) = \\frac{1}{n-1}\\sum(x - E[X])(y - E[Y])$$"
   ]
  },
  {
   "cell_type": "markdown",
   "metadata": {},
   "source": [
    "El signo de la covarianza puede ser interpretado como que dos variables incrementan juntas (positva) o decrecen juntas (negativa). La magnitud de la covarianza no es fácil de interpretar. Si el valor de la covarianza es cero indica que ambas variables son completamente independientes."
   ]
  },
  {
   "cell_type": "markdown",
   "metadata": {},
   "source": [
    "Python no dispone de un función que nos permita calcular la covarianza de dos variables de forma directa. En su lugar, dispone de una función que nos permite calcular la matriz de covarianza **cov()**  que puede ser usada para obtener la convarianza. Por defecto, la función **cov()** cálcula la matriz de covarianza para una muesta."
   ]
  },
  {
   "cell_type": "code",
   "execution_count": 3,
   "metadata": {},
   "outputs": [
    {
     "name": "stdout",
     "output_type": "stream",
     "text": [
      "-7.5\n"
     ]
    }
   ],
   "source": [
    "#Generamos un array\n",
    "x = np.array([1,2,3,4,5,6,7,8,9])\n",
    "y = np.array([9,8,7,6,5,4,3,2,1])\n",
    "\n",
    "#Calculamos la matriz de covarianza \n",
    "covar = np.cov(x, y)[0,1]\n",
    "print(covar)"
   ]
  },
  {
   "cell_type": "markdown",
   "metadata": {},
   "source": [
    "La covarianza puede ser normalizada entres los valores [-1,1] para hacer que la magnitud sea interpretable. Para ello dividimos la covarianza entre el producto de las desviaciones estándar de X e Y. El resultado se le conoce como correlación de las variables, también llamado como coeficiente de correlación de Pearson.\n",
    "\n",
    "$$r = \\frac{cov(X,Y)}{s_Xs_Y}$$"
   ]
  },
  {
   "cell_type": "markdown",
   "metadata": {},
   "source": [
    "Donde r es conocido como el coeficiente de correlación entre X e Y. Python dispone de la función **corrcoef()** para calcular la matriz de correlación entre dos variables, al igual que para la covarianza para obtener el coeficiente de correlación podemos acceder al elemento [0,1]."
   ]
  },
  {
   "cell_type": "code",
   "execution_count": 4,
   "metadata": {},
   "outputs": [
    {
     "name": "stdout",
     "output_type": "stream",
     "text": [
      "-1.0\n"
     ]
    }
   ],
   "source": [
    "#Calculamos la matriz de correlación\n",
    "m_correlation = np.corrcoef(x, y)\n",
    "print(m_correlation[0,1])"
   ]
  },
  {
   "cell_type": "markdown",
   "metadata": {},
   "source": [
    "# Matriz de Covarianza"
   ]
  },
  {
   "cell_type": "markdown",
   "metadata": {},
   "source": [
    "La matriz de covarianza se trata de una matriz cuadrada simétrica que describe la covarianza entres dos o más variables aleatorias. La diagonal principal de la matriz de covarianza son las varianzas de cada una de las variables.\n",
    "Una matriz de covarianza es una generalización de la covarianza de dos variables y captura la forma en la cual todas las variables de un conjunto de datos varían de forma conjunta."
   ]
  },
  {
   "cell_type": "code",
   "execution_count": 7,
   "metadata": {},
   "outputs": [
    {
     "name": "stdout",
     "output_type": "stream",
     "text": [
      "[[1.   0.25 0.75]\n",
      " [0.25 0.5  0.25]\n",
      " [0.75 0.25 1.3 ]]\n"
     ]
    }
   ],
   "source": [
    "#Generamos nuestra matriz de variables donde cada columna es una variable\n",
    "X = np.array([\n",
    "[1, 5, 8],\n",
    "[3, 5, 11],\n",
    "[2, 4, 9],\n",
    "[3, 6, 10],\n",
    "[1, 5, 10]])\n",
    "\n",
    "#Calculamos la matriz de convarianza\n",
    "print(np.cov(X.T))"
   ]
  }
 ],
 "metadata": {
  "kernelspec": {
   "display_name": "Python 3",
   "language": "python",
   "name": "python3"
  },
  "language_info": {
   "codemirror_mode": {
    "name": "ipython",
    "version": 3
   },
   "file_extension": ".py",
   "mimetype": "text/x-python",
   "name": "python",
   "nbconvert_exporter": "python",
   "pygments_lexer": "ipython3",
   "version": "3.6.3"
  }
 },
 "nbformat": 4,
 "nbformat_minor": 2
}
