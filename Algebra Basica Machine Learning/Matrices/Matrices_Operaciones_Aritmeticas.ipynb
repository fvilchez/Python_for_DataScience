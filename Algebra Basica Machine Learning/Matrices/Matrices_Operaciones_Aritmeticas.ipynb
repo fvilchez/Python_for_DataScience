{
 "cells": [
  {
   "cell_type": "code",
   "execution_count": 2,
   "metadata": {
    "collapsed": true
   },
   "outputs": [],
   "source": [
    "import numpy as np "
   ]
  },
  {
   "cell_type": "markdown",
   "metadata": {},
   "source": [
    "# Definiendo una matriz"
   ]
  },
  {
   "cell_type": "markdown",
   "metadata": {},
   "source": [
    "Podemos representar una matriz en Python como un array bidimensional, es decir, como un numpy array formado por una lista de listas."
   ]
  },
  {
   "cell_type": "code",
   "execution_count": 3,
   "metadata": {},
   "outputs": [
    {
     "name": "stdout",
     "output_type": "stream",
     "text": [
      "[[1 2 3]\n",
      " [4 5 6]]\n"
     ]
    }
   ],
   "source": [
    "#Generamos una matriz de dos filas y tres columnas\n",
    "A = np.array([[1, 2, 3], [4, 5, 6]])\n",
    "print(A)"
   ]
  },
  {
   "cell_type": "markdown",
   "metadata": {},
   "source": [
    "# Operaciones aritméticas con matrices"
   ]
  },
  {
   "cell_type": "markdown",
   "metadata": {},
   "source": [
    "## Suma de matrices"
   ]
  },
  {
   "cell_type": "markdown",
   "metadata": {},
   "source": [
    "Dos matrices de igual dimensión pueden ser sumadas para crear una nueva matriz. Los elementos de la matriz resultante son calculados como la suma de los elementos de dichas matrices. \n",
    "\n",
    "Para hacer la suma de dos matrices en Python podemos hacer uso directamente el operador suma."
   ]
  },
  {
   "cell_type": "code",
   "execution_count": 5,
   "metadata": {},
   "outputs": [
    {
     "name": "stdout",
     "output_type": "stream",
     "text": [
      "[[ 6  8]\n",
      " [10 12]]\n"
     ]
    }
   ],
   "source": [
    "#Nos generamos dos matrices\n",
    "A = np.array([[1, 2], [3, 4]])\n",
    "B = np.array([[5, 6], [7, 8]])\n",
    "\n",
    "#Sumamos ambas matrices\n",
    "print(A+B)"
   ]
  },
  {
   "cell_type": "markdown",
   "metadata": {},
   "source": [
    "## Resta de matrices"
   ]
  },
  {
   "cell_type": "markdown",
   "metadata": {},
   "source": [
    "Al igual que la suma, dos matrices de igual dimensión pueden ser restadas para obtener una tercera matriz. Los elementos de la matriz resultante son calculados como la diferencia de los elementos de dichas matrices. \n",
    "\n",
    "Para hacer la resta de dos matrices en Python podemos hacer uso directamente el operador resta."
   ]
  },
  {
   "cell_type": "code",
   "execution_count": 6,
   "metadata": {},
   "outputs": [
    {
     "name": "stdout",
     "output_type": "stream",
     "text": [
      "[[4 4]\n",
      " [4 4]]\n"
     ]
    }
   ],
   "source": [
    "#Generamos dos matrices\n",
    "A = np.array([[1, 2], [3, 4]])\n",
    "B = np.array([[5, 6], [7, 8]])\n",
    "\n",
    "#Restamos dos matrices\n",
    "print(B-A)"
   ]
  },
  {
   "cell_type": "markdown",
   "metadata": {},
   "source": [
    "## Multiplicación de matrices (producto de Hadamard)"
   ]
  },
  {
   "cell_type": "markdown",
   "metadata": {},
   "source": [
    "Dos matrices del mismo tamaño pueden ser multiplicadas, esto es a menudo conocido como producto elemento a elemento o producto de Hadamard. Cuando hablamos del producto de dos matrices esta operación no se trata de la operación más común.\n",
    "\n",
    "Podemos realizar el producto de dos matrices en Python haciendo uso del operador producto."
   ]
  },
  {
   "cell_type": "code",
   "execution_count": 7,
   "metadata": {},
   "outputs": [
    {
     "name": "stdout",
     "output_type": "stream",
     "text": [
      "[[ 4 10]\n",
      " [18 28]]\n"
     ]
    }
   ],
   "source": [
    "#Generamos dos matrices\n",
    "A = np.array([[1, 2], [3, 4]])\n",
    "B = np.array([[4, 5], [6, 7]])\n",
    "\n",
    "#Hacemos el producto entre las dos matrices\n",
    "print(A * B)"
   ]
  },
  {
   "cell_type": "markdown",
   "metadata": {},
   "source": [
    "## División de matrices"
   ]
  },
  {
   "cell_type": "markdown",
   "metadata": {},
   "source": [
    "Dos matrices de igual dimensión pueden ser divididas entre sí. Los elementos de la matriz resultante son calculados como la división entre los elementos de cada una de las matrices.\n",
    "\n",
    "Podemos realizar la división de dos matrices en Python haciendo uso del operador división."
   ]
  },
  {
   "cell_type": "code",
   "execution_count": 8,
   "metadata": {},
   "outputs": [
    {
     "name": "stdout",
     "output_type": "stream",
     "text": [
      "[[0.2        0.33333333]\n",
      " [0.42857143 0.5       ]]\n"
     ]
    }
   ],
   "source": [
    "#Generamos dos matrices\n",
    "A = np.array([[1, 2], [3, 4]])\n",
    "B = np.array([[5, 6], [7, 8]])\n",
    "\n",
    "#Hacemos la división \n",
    "print(A/B)"
   ]
  },
  {
   "cell_type": "markdown",
   "metadata": {},
   "source": [
    "## Multiplicación de matrices (dot product)"
   ]
  },
  {
   "cell_type": "markdown",
   "metadata": {},
   "source": [
    "La multiplicación de matrices, también conocida como dot product, es la operación más común cuando hablamos del producto de matrices.\n",
    "\n",
    "Para que dos matrices puedan realizar este tipo de operación debe cumplirse una regla: el número de columnas en la matriz A debe ser igual al número de filas de la matriz B.\n",
    "\n",
    "Para realizar esta operación podemos hacer uso del operador **dot()** que ofrece Numpy."
   ]
  },
  {
   "cell_type": "code",
   "execution_count": 10,
   "metadata": {},
   "outputs": [
    {
     "name": "stdout",
     "output_type": "stream",
     "text": [
      "[[19 22]\n",
      " [43 50]]\n"
     ]
    }
   ],
   "source": [
    "#Generamos dos matrices\n",
    "A = np.array([[1, 2], [3, 4]])\n",
    "B = np.array([[5, 6], [7, 8]])\n",
    "\n",
    "#Hacemos el dot product\n",
    "print(A.dot(B))"
   ]
  },
  {
   "cell_type": "markdown",
   "metadata": {},
   "source": [
    "## Multiplicación entre matrices y vectores "
   ]
  },
  {
   "cell_type": "markdown",
   "metadata": {},
   "source": [
    "Una matriz y un vector pueden ser multiplicados siempre y cuando se cumpla que el número de columnas de nuestra matriz debe ser igual al número de elementos del vector.\n",
    "\n",
    "Para ejecutar el producto entre una matriz y un vector podemos hacer uso de la función **dot()**."
   ]
  },
  {
   "cell_type": "code",
   "execution_count": 11,
   "metadata": {},
   "outputs": [
    {
     "name": "stdout",
     "output_type": "stream",
     "text": [
      "[ 8 18]\n"
     ]
    }
   ],
   "source": [
    "#Nos generamos una matriz y un vector\n",
    "A = np.array([[1, 2], [3, 4]])\n",
    "v = np.array([2, 3])\n",
    "\n",
    "#Hacemos el producto\n",
    "print(A.dot(v))"
   ]
  },
  {
   "cell_type": "markdown",
   "metadata": {},
   "source": [
    "## Multiplicación de una matriz por un escalar"
   ]
  },
  {
   "cell_type": "markdown",
   "metadata": {},
   "source": [
    "Una matriz puede ser siempre multiplicada por un escalar, dando lugar a la misma matriz pero con todos sus elementos multiplicados por dicho escalar.\n",
    "\n",
    "Para realizar el producto entre un escalar y una matriz en Python podemos hacer uso del operador producto"
   ]
  },
  {
   "cell_type": "code",
   "execution_count": 12,
   "metadata": {},
   "outputs": [
    {
     "name": "stdout",
     "output_type": "stream",
     "text": [
      "[[2 4]\n",
      " [6 8]]\n"
     ]
    }
   ],
   "source": [
    "#Generamos una matriz\n",
    "A = np.array([[1, 2], [3, 4]])\n",
    "\n",
    "#Hacemos el producto de nuestra matriz por un escalar\n",
    "print(A*2)"
   ]
  }
 ],
 "metadata": {
  "kernelspec": {
   "display_name": "Python 3",
   "language": "python",
   "name": "python3"
  },
  "language_info": {
   "codemirror_mode": {
    "name": "ipython",
    "version": 3
   },
   "file_extension": ".py",
   "mimetype": "text/x-python",
   "name": "python",
   "nbconvert_exporter": "python",
   "pygments_lexer": "ipython3",
   "version": "3.6.3"
  }
 },
 "nbformat": 4,
 "nbformat_minor": 2
}
