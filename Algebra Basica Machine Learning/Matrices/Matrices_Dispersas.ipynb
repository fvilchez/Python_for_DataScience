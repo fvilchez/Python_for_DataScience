{
 "cells": [
  {
   "cell_type": "code",
   "execution_count": 6,
   "metadata": {},
   "outputs": [],
   "source": [
    "import numpy as np \n",
    "from scipy.sparse import csr_matrix"
   ]
  },
  {
   "cell_type": "markdown",
   "metadata": {},
   "source": [
    "# Introducción "
   ]
  },
  {
   "cell_type": "markdown",
   "metadata": {},
   "source": [
    "Las matrices que contiene una gran cantidad de valores nulos son conocidas como matrices dispersas (sparse matrices), sin embargo, las matrices en las que la gran mayoría de sus valores son diferentes de cero son conocidas como matrices de densidad.\n",
    "\n",
    "Las matrices dispersas son comunes y especialmente usadas en el aprendizaje automático, tales como en datos que contienen conteos o en subcampos del aprendizaje automático como el procesado de lenguaje natural.\n",
    "\n",
    "Trabajar con matrices dispersas como si se tratasen matrices densas puede resultar computacionalmente muy costoso. Se puede lograr una gran mejora en el rendimiento usando operaciones que manejan la dispersión de la matriz."
   ]
  },
  {
   "cell_type": "markdown",
   "metadata": {},
   "source": [
    "# Matrices dispersas"
   ]
  },
  {
   "cell_type": "markdown",
   "metadata": {},
   "source": [
    "Una matriz dispersa es una matriz en la cual la gran mayoría de sus elementos son cero. Su interés surge ya que pueden dar lugar a grandes ahorros computacionales y porque una gran cantidad de problemas que ocurren en la práctica están formados por matrices dispersas. Se define la **sparsity** de una matriz como:\n",
    "\n",
    "\\begin{equation*}\n",
    "sparsity =  \n",
    "\\frac{nº ceros}{nº elementos}\n",
    "\\end{equation*}"
   ]
  },
  {
   "cell_type": "markdown",
   "metadata": {},
   "source": [
    "# Problemas con las matrices dispersas"
   ]
  },
  {
   "cell_type": "markdown",
   "metadata": {},
   "source": [
    "Las matrices dispersas pueden causar problemas en lo que respecta al almacenamiento y a la complejidad de operar"
   ]
  },
  {
   "cell_type": "markdown",
   "metadata": {},
   "source": [
    "## Problemas de almacenamiento"
   ]
  },
  {
   "cell_type": "markdown",
   "metadata": {},
   "source": [
    "Las matrices de grandes dimensiones requieren una gran cantidad de memoria, y muchas de estas grandes matrices con las que deseamos trabajar en muchas ocasiones serán matrices dispersas.\n",
    "\n",
    "El principal problema cuando representamos estas matrices como si fuesen matrices de densidad es la gran cantidad de memoria necesaria para almecenar información. Esto es claramente un desperdicio de recursos de memoria ya que los valores que están a cero no contienen ningún tipo de información."
   ]
  },
  {
   "cell_type": "markdown",
   "metadata": {},
   "source": [
    "## Problemas a la hora de operar"
   ]
  },
  {
   "cell_type": "markdown",
   "metadata": {},
   "source": [
    "Asumiendo que una matriz dispersas de grandes dimensiones puede ser almacenada en memoria, tras esto desearemos realizar operaciones sobre dicha matriz.\n",
    "\n",
    "Si la matriz contiene una gran cantidad de valores nulos, entonces realizar operaciones a través de esta matriz puede conllevar una gran cantidad de tiempo donde la gran mayoría de los cálculos realizados implicará sumar o multiplicar valores nulos."
   ]
  },
  {
   "cell_type": "markdown",
   "metadata": {},
   "source": [
    "# Trabajando con matrices dispersas"
   ]
  },
  {
   "cell_type": "markdown",
   "metadata": {},
   "source": [
    "La solución para poder trabajar con matrices dispersas de altas dimensiones es hacer uso de estructuras de datos alternativas para representarlas. Los valores nulos pueden ser ignorados y solo los valores no nulos necesitan ser almacenados. Existen múltiples estructuras de datos que pueden ser usadas para constriuir de forma eficiente matrices dispersas:\n",
    "\n",
    "* **Diccionarios:** podemos generar la clave de un diccionario como el índice de las filas y las columnas y como valor el elemento que deseamos almacenar.\n",
    "\n",
    "* **Lista de listas:** cada fila de la matriz es almacenada en una lista, cada sublista contiene el índice de la columna y el valor.\n",
    "\n",
    "* **Lista coordinada:** lista de tuplas donde cada tupla contiene el índice de la fila, índice de la columna y el valor.\n",
    "\n",
    "También existen estructuras de datos que son más eficientes a la hora de realizar operaciones:\n",
    "\n",
    "* **Filas dispersas comprimidas:** la matriz dispersa es representada mediante tres dimensiones unidimensionales para los valores no nulos.\n",
    "\n",
    "* **Columnas dispersas comprimidas:** igual que el método de flilas dispersas comprimidas excepto que los índices de las columnas son leídos en primer lugar.\n",
    "\n",
    "El método de filas dispersas comprimidas, también conocido como CSR, es a menudo usado en el aprendizaje automático a la hora de representar matrices dispersas."
   ]
  },
  {
   "cell_type": "markdown",
   "metadata": {},
   "source": [
    "# Matrices dispersas con Python "
   ]
  },
  {
   "cell_type": "markdown",
   "metadata": {},
   "source": [
    "La librería **Scipy** nos proporciona herramientas para crear matrices dispersas haciendo uso de múltiples estructuras de datos, asi como herramientas para convertir una matriz de densidad en una matriz dispersa.\n",
    "\n",
    "Una matriz de densidad almacenada en un numpy array puede ser convertida a una matriz dispersa haciendo uso de la representación CSR llamando a la función **csr_matrix()**."
   ]
  },
  {
   "cell_type": "code",
   "execution_count": 4,
   "metadata": {},
   "outputs": [
    {
     "name": "stdout",
     "output_type": "stream",
     "text": [
      "[[1 0 0 1 0 0]\n",
      " [0 0 2 0 0 1]\n",
      " [0 0 0 2 0 0]]\n"
     ]
    }
   ],
   "source": [
    "#Generamos una matriz de densidad\n",
    "A = np.array([[1, 0, 0, 1, 0, 0],[0, 0, 2, 0, 0, 1],[0, 0, 0, 2, 0, 0]])\n",
    "print(A)"
   ]
  },
  {
   "cell_type": "code",
   "execution_count": 7,
   "metadata": {},
   "outputs": [
    {
     "name": "stdout",
     "output_type": "stream",
     "text": [
      "  (0, 0)\t1\n",
      "  (0, 3)\t1\n",
      "  (1, 2)\t2\n",
      "  (1, 5)\t1\n",
      "  (2, 3)\t2\n"
     ]
    }
   ],
   "source": [
    "#Convertimos a una matriz dispersa mediante el método CSR\n",
    "S = csr_matrix(A)\n",
    "print(S)"
   ]
  },
  {
   "cell_type": "code",
   "execution_count": 8,
   "metadata": {},
   "outputs": [
    {
     "name": "stdout",
     "output_type": "stream",
     "text": [
      "[[1 0 0 1 0 0]\n",
      " [0 0 2 0 0 1]\n",
      " [0 0 0 2 0 0]]\n"
     ]
    }
   ],
   "source": [
    "#Volvemos a reconstruir a matriz de densidad\n",
    "B = S.todense()\n",
    "print(B)"
   ]
  },
  {
   "cell_type": "markdown",
   "metadata": {},
   "source": [
    "Numpy no proporciona ninguna función para calcular la **sparsity** de una matriz dispersa, sin embargo, podemos realizar este cálculo de forma sencilla, ya que nos proporciona la función **count_nonzero** que nos determina el número de elementos que no son nulos de nuestra matriz."
   ]
  },
  {
   "cell_type": "code",
   "execution_count": 9,
   "metadata": {},
   "outputs": [
    {
     "name": "stdout",
     "output_type": "stream",
     "text": [
      "[[1 0 0 1 0 0]\n",
      " [0 0 2 0 0 1]\n",
      " [0 0 0 2 0 0]]\n"
     ]
    }
   ],
   "source": [
    "print(A)"
   ]
  },
  {
   "cell_type": "code",
   "execution_count": 11,
   "metadata": {},
   "outputs": [
    {
     "name": "stdout",
     "output_type": "stream",
     "text": [
      "0.7222222222222222\n"
     ]
    }
   ],
   "source": [
    "#Calculamos la sparsity \n",
    "sparsity = 1 - np.count_nonzero(A)/A.size\n",
    "print(sparsity)"
   ]
  }
 ],
 "metadata": {
  "kernelspec": {
   "display_name": "Python 3",
   "language": "python",
   "name": "python3"
  },
  "language_info": {
   "codemirror_mode": {
    "name": "ipython",
    "version": 3
   },
   "file_extension": ".py",
   "mimetype": "text/x-python",
   "name": "python",
   "nbconvert_exporter": "python",
   "pygments_lexer": "ipython3",
   "version": "3.6.3"
  }
 },
 "nbformat": 4,
 "nbformat_minor": 2
}
