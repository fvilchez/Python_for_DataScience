{
 "cells": [
  {
   "cell_type": "code",
   "execution_count": 2,
   "metadata": {
    "collapsed": true
   },
   "outputs": [],
   "source": [
    "import numpy as np \n",
    "from IPython.display import Image"
   ]
  },
  {
   "cell_type": "markdown",
   "metadata": {},
   "source": [
    "# Introducción"
   ]
  },
  {
   "cell_type": "markdown",
   "metadata": {},
   "source": [
    "Los tensores son un tipo de estructura de datos usados en algebra lineal, y como los vectores y matrices, podemos realizar operaciones aritméticas con tensores."
   ]
  },
  {
   "cell_type": "markdown",
   "metadata": {},
   "source": [
    "# Qué son los tensores"
   ]
  },
  {
   "cell_type": "markdown",
   "metadata": {},
   "source": [
    "Un tensor es una generalización de vectores y matrices y es facilmente comprensible como un array multidimensional.\n",
    "\n",
    "Un vector es un array unidemensional o un tensor de primer orden, una matriz es un array bidimensional o un tensor de segundo orden. La notación de los tensores es muy similar a la notación de las matrices."
   ]
  },
  {
   "cell_type": "markdown",
   "metadata": {},
   "source": [
    "Muchas de las operaciones que pueden ser realizadas con escalares, vectores, y matrices pueden ser reformuladas para realizarse con tensores. Son ampliamente usados en los campos de física e ingeniería. Algunas operaciones en el aprendizaje automático como en el campo de aprendizaje profundo (deep learning) son descritas mediante el uso de tensores."
   ]
  },
  {
   "cell_type": "markdown",
   "metadata": {},
   "source": [
    "# Tensores en Python"
   ]
  },
  {
   "cell_type": "markdown",
   "metadata": {},
   "source": [
    "Como los vectores y matrices, los tensores pueden ser representados en Python como arrays N-dimensionales. Es decir, un tensor puede ser definido como un array formado por una lista de listas."
   ]
  },
  {
   "cell_type": "code",
   "execution_count": 5,
   "metadata": {},
   "outputs": [
    {
     "name": "stdout",
     "output_type": "stream",
     "text": [
      "(3, 3, 3)\n",
      "[[[ 1  2  3]\n",
      "  [ 4  5  6]\n",
      "  [ 7  8  9]]\n",
      "\n",
      " [[10 11 12]\n",
      "  [13 14 15]\n",
      "  [16 17 18]]\n",
      "\n",
      " [[19 20 21]\n",
      "  [22 23 24]\n",
      "  [25 26 27]]]\n"
     ]
    }
   ],
   "source": [
    "#Generamos un tensor 3x3x3\n",
    "T = np.array([[[1, 2, 3], [4, 5, 6], [7, 8, 9]], \n",
    "             [[10, 11, 12], [13, 14, 15], [16, 17, 18]], \n",
    "             [[19, 20, 21], [22, 23, 24], [25, 26, 27]]])\n",
    "print(T.shape)\n",
    "print(T)"
   ]
  },
  {
   "cell_type": "markdown",
   "metadata": {},
   "source": [
    "# Operaciones aritméticas con tensores"
   ]
  },
  {
   "cell_type": "markdown",
   "metadata": {},
   "source": [
    "Al igual que con las matrices, podemos realizar operaciones elemento a elemento con tensores."
   ]
  },
  {
   "cell_type": "markdown",
   "metadata": {},
   "source": [
    "## Suma de tensores"
   ]
  },
  {
   "cell_type": "markdown",
   "metadata": {},
   "source": [
    "La suma elemento a elemento de dos tensores con las mismas dimensiones, resulta un nuevo tensor de igual dimensión donde cada valor escalar es la suma con su pareja de tensor.\n",
    "\n",
    "En Python podemos realizar esta suma de forma automática, haciendo uso del operador suma."
   ]
  },
  {
   "cell_type": "code",
   "execution_count": 11,
   "metadata": {},
   "outputs": [
    {
     "name": "stdout",
     "output_type": "stream",
     "text": [
      "[[[ 2  4  6]\n",
      "  [ 8 10 12]\n",
      "  [14 16 18]]\n",
      "\n",
      " [[20 22 24]\n",
      "  [26 28 30]\n",
      "  [32 34 36]]\n",
      "\n",
      " [[38 40 42]\n",
      "  [44 46 48]\n",
      "  [50 52 54]]]\n"
     ]
    }
   ],
   "source": [
    "#Nos creamos dos tensores de dimensiones 3x3x3\n",
    "A = np.array([[[1, 2, 3], [4, 5, 6], [7, 8, 9]],\n",
    "               [[10, 11, 12], [13, 14, 15], [16, 17, 18]],\n",
    "               [[19, 20, 21], [22, 23, 24], [25, 26, 27]]])\n",
    "\n",
    "\n",
    "B = np.array([[[1, 2, 3], [4, 5, 6], [7, 8, 9]],\n",
    "               [[10, 11, 12], [13, 14, 15], [16, 17, 18]],\n",
    "               [[19, 20, 21], [22, 23, 24], [25, 26, 27]]])\n",
    "\n",
    "#Hacemos la suma\n",
    "C = A + B\n",
    "print(C)"
   ]
  },
  {
   "cell_type": "markdown",
   "metadata": {},
   "source": [
    "# Resta de tensores"
   ]
  },
  {
   "cell_type": "markdown",
   "metadata": {},
   "source": [
    "La resta elemento a elemento entre dos tensores de igual dimensión, resulta un nuevo tensor con las mismas dimensiones donde cada valor es la diferencia con su pareja de tensor correspondiente.\n",
    "\n",
    "En Python podemos realizar esta operación directamente haciendo uso del operador diferencia."
   ]
  },
  {
   "cell_type": "code",
   "execution_count": 14,
   "metadata": {},
   "outputs": [
    {
     "name": "stdout",
     "output_type": "stream",
     "text": [
      "[[[0 0 0]\n",
      "  [0 0 0]\n",
      "  [0 0 0]]\n",
      "\n",
      " [[0 0 0]\n",
      "  [0 0 0]\n",
      "  [0 0 0]]\n",
      "\n",
      " [[0 0 0]\n",
      "  [0 0 0]\n",
      "  [0 0 0]]]\n"
     ]
    }
   ],
   "source": [
    "#Hacemos la diferencia entre los tensores  A y B definidos anteriormente\n",
    "C = A -B\n",
    "print(C)"
   ]
  },
  {
   "cell_type": "markdown",
   "metadata": {},
   "source": [
    "## Producto de Hadamard entre tensores"
   ]
  },
  {
   "cell_type": "markdown",
   "metadata": {},
   "source": [
    "El producto elemento a elemento de un tensor con otro tensor de las mismas dimensiones resulta un nuevo tensor de las mismas dimensiones donde cada valor es el producto con su pareja de tensor correspondiente.\n",
    "\n",
    "En Python podemos realizar esta operación directamente haciendo uso del operador producto."
   ]
  },
  {
   "cell_type": "code",
   "execution_count": 15,
   "metadata": {},
   "outputs": [
    {
     "name": "stdout",
     "output_type": "stream",
     "text": [
      "[[[  1   4   9]\n",
      "  [ 16  25  36]\n",
      "  [ 49  64  81]]\n",
      "\n",
      " [[100 121 144]\n",
      "  [169 196 225]\n",
      "  [256 289 324]]\n",
      "\n",
      " [[361 400 441]\n",
      "  [484 529 576]\n",
      "  [625 676 729]]]\n"
     ]
    }
   ],
   "source": [
    "#Hacemos el producto entre los tensores A y B definidos anteriormente\n",
    "C = A * B\n",
    "print(C)"
   ]
  },
  {
   "cell_type": "markdown",
   "metadata": {},
   "source": [
    "## División de tensores"
   ]
  },
  {
   "cell_type": "markdown",
   "metadata": {},
   "source": [
    "La división elemento a elemento de un tensor con otro tensor de igual dimensión resulta un nuevo tensor con las mismas dimensiones donde cada elemento es el cociente con su paraje correspondiente.\n",
    "\n",
    "En Python podemos realizar esta operación directamente haciendo uso del operador división."
   ]
  },
  {
   "cell_type": "code",
   "execution_count": 16,
   "metadata": {},
   "outputs": [
    {
     "name": "stdout",
     "output_type": "stream",
     "text": [
      "[[[1. 1. 1.]\n",
      "  [1. 1. 1.]\n",
      "  [1. 1. 1.]]\n",
      "\n",
      " [[1. 1. 1.]\n",
      "  [1. 1. 1.]\n",
      "  [1. 1. 1.]]\n",
      "\n",
      " [[1. 1. 1.]\n",
      "  [1. 1. 1.]\n",
      "  [1. 1. 1.]]]\n"
     ]
    }
   ],
   "source": [
    "C = A / B\n",
    "print(C)"
   ]
  },
  {
   "cell_type": "markdown",
   "metadata": {},
   "source": [
    "## Producto de tensores"
   ]
  },
  {
   "cell_type": "markdown",
   "metadata": {},
   "source": [
    "Dado un tensor con q dimensiones y un tensor B con r dimensiones, el producto de estos tensores será un nuevo tensor de orden q + r dimensiones.\n",
    "\n",
    "El producto de tensores puede ser implementado en Numpy mediante la función **tensordot()**. La función toma como argumento los dos tensores a multiplicar y el eje en el cual la suma de productos es realizada, también conocida como suma reductora. Para calcular el producto de tensores el eje seleccionado debe ser el eje cero."
   ]
  },
  {
   "cell_type": "code",
   "execution_count": 19,
   "metadata": {},
   "outputs": [
    {
     "name": "stdout",
     "output_type": "stream",
     "text": [
      "(3, 3, 3, 3, 3, 3)\n",
      "[[[[[[  1   2   3]\n",
      "     [  4   5   6]\n",
      "     [  7   8   9]]\n",
      "\n",
      "    [[ 10  11  12]\n",
      "     [ 13  14  15]\n",
      "     [ 16  17  18]]\n",
      "\n",
      "    [[ 19  20  21]\n",
      "     [ 22  23  24]\n",
      "     [ 25  26  27]]]\n",
      "\n",
      "\n",
      "   [[[  2   4   6]\n",
      "     [  8  10  12]\n",
      "     [ 14  16  18]]\n",
      "\n",
      "    [[ 20  22  24]\n",
      "     [ 26  28  30]\n",
      "     [ 32  34  36]]\n",
      "\n",
      "    [[ 38  40  42]\n",
      "     [ 44  46  48]\n",
      "     [ 50  52  54]]]\n",
      "\n",
      "\n",
      "   [[[  3   6   9]\n",
      "     [ 12  15  18]\n",
      "     [ 21  24  27]]\n",
      "\n",
      "    [[ 30  33  36]\n",
      "     [ 39  42  45]\n",
      "     [ 48  51  54]]\n",
      "\n",
      "    [[ 57  60  63]\n",
      "     [ 66  69  72]\n",
      "     [ 75  78  81]]]]\n",
      "\n",
      "\n",
      "\n",
      "  [[[[  4   8  12]\n",
      "     [ 16  20  24]\n",
      "     [ 28  32  36]]\n",
      "\n",
      "    [[ 40  44  48]\n",
      "     [ 52  56  60]\n",
      "     [ 64  68  72]]\n",
      "\n",
      "    [[ 76  80  84]\n",
      "     [ 88  92  96]\n",
      "     [100 104 108]]]\n",
      "\n",
      "\n",
      "   [[[  5  10  15]\n",
      "     [ 20  25  30]\n",
      "     [ 35  40  45]]\n",
      "\n",
      "    [[ 50  55  60]\n",
      "     [ 65  70  75]\n",
      "     [ 80  85  90]]\n",
      "\n",
      "    [[ 95 100 105]\n",
      "     [110 115 120]\n",
      "     [125 130 135]]]\n",
      "\n",
      "\n",
      "   [[[  6  12  18]\n",
      "     [ 24  30  36]\n",
      "     [ 42  48  54]]\n",
      "\n",
      "    [[ 60  66  72]\n",
      "     [ 78  84  90]\n",
      "     [ 96 102 108]]\n",
      "\n",
      "    [[114 120 126]\n",
      "     [132 138 144]\n",
      "     [150 156 162]]]]\n",
      "\n",
      "\n",
      "\n",
      "  [[[[  7  14  21]\n",
      "     [ 28  35  42]\n",
      "     [ 49  56  63]]\n",
      "\n",
      "    [[ 70  77  84]\n",
      "     [ 91  98 105]\n",
      "     [112 119 126]]\n",
      "\n",
      "    [[133 140 147]\n",
      "     [154 161 168]\n",
      "     [175 182 189]]]\n",
      "\n",
      "\n",
      "   [[[  8  16  24]\n",
      "     [ 32  40  48]\n",
      "     [ 56  64  72]]\n",
      "\n",
      "    [[ 80  88  96]\n",
      "     [104 112 120]\n",
      "     [128 136 144]]\n",
      "\n",
      "    [[152 160 168]\n",
      "     [176 184 192]\n",
      "     [200 208 216]]]\n",
      "\n",
      "\n",
      "   [[[  9  18  27]\n",
      "     [ 36  45  54]\n",
      "     [ 63  72  81]]\n",
      "\n",
      "    [[ 90  99 108]\n",
      "     [117 126 135]\n",
      "     [144 153 162]]\n",
      "\n",
      "    [[171 180 189]\n",
      "     [198 207 216]\n",
      "     [225 234 243]]]]]\n",
      "\n",
      "\n",
      "\n",
      "\n",
      " [[[[[ 10  20  30]\n",
      "     [ 40  50  60]\n",
      "     [ 70  80  90]]\n",
      "\n",
      "    [[100 110 120]\n",
      "     [130 140 150]\n",
      "     [160 170 180]]\n",
      "\n",
      "    [[190 200 210]\n",
      "     [220 230 240]\n",
      "     [250 260 270]]]\n",
      "\n",
      "\n",
      "   [[[ 11  22  33]\n",
      "     [ 44  55  66]\n",
      "     [ 77  88  99]]\n",
      "\n",
      "    [[110 121 132]\n",
      "     [143 154 165]\n",
      "     [176 187 198]]\n",
      "\n",
      "    [[209 220 231]\n",
      "     [242 253 264]\n",
      "     [275 286 297]]]\n",
      "\n",
      "\n",
      "   [[[ 12  24  36]\n",
      "     [ 48  60  72]\n",
      "     [ 84  96 108]]\n",
      "\n",
      "    [[120 132 144]\n",
      "     [156 168 180]\n",
      "     [192 204 216]]\n",
      "\n",
      "    [[228 240 252]\n",
      "     [264 276 288]\n",
      "     [300 312 324]]]]\n",
      "\n",
      "\n",
      "\n",
      "  [[[[ 13  26  39]\n",
      "     [ 52  65  78]\n",
      "     [ 91 104 117]]\n",
      "\n",
      "    [[130 143 156]\n",
      "     [169 182 195]\n",
      "     [208 221 234]]\n",
      "\n",
      "    [[247 260 273]\n",
      "     [286 299 312]\n",
      "     [325 338 351]]]\n",
      "\n",
      "\n",
      "   [[[ 14  28  42]\n",
      "     [ 56  70  84]\n",
      "     [ 98 112 126]]\n",
      "\n",
      "    [[140 154 168]\n",
      "     [182 196 210]\n",
      "     [224 238 252]]\n",
      "\n",
      "    [[266 280 294]\n",
      "     [308 322 336]\n",
      "     [350 364 378]]]\n",
      "\n",
      "\n",
      "   [[[ 15  30  45]\n",
      "     [ 60  75  90]\n",
      "     [105 120 135]]\n",
      "\n",
      "    [[150 165 180]\n",
      "     [195 210 225]\n",
      "     [240 255 270]]\n",
      "\n",
      "    [[285 300 315]\n",
      "     [330 345 360]\n",
      "     [375 390 405]]]]\n",
      "\n",
      "\n",
      "\n",
      "  [[[[ 16  32  48]\n",
      "     [ 64  80  96]\n",
      "     [112 128 144]]\n",
      "\n",
      "    [[160 176 192]\n",
      "     [208 224 240]\n",
      "     [256 272 288]]\n",
      "\n",
      "    [[304 320 336]\n",
      "     [352 368 384]\n",
      "     [400 416 432]]]\n",
      "\n",
      "\n",
      "   [[[ 17  34  51]\n",
      "     [ 68  85 102]\n",
      "     [119 136 153]]\n",
      "\n",
      "    [[170 187 204]\n",
      "     [221 238 255]\n",
      "     [272 289 306]]\n",
      "\n",
      "    [[323 340 357]\n",
      "     [374 391 408]\n",
      "     [425 442 459]]]\n",
      "\n",
      "\n",
      "   [[[ 18  36  54]\n",
      "     [ 72  90 108]\n",
      "     [126 144 162]]\n",
      "\n",
      "    [[180 198 216]\n",
      "     [234 252 270]\n",
      "     [288 306 324]]\n",
      "\n",
      "    [[342 360 378]\n",
      "     [396 414 432]\n",
      "     [450 468 486]]]]]\n",
      "\n",
      "\n",
      "\n",
      "\n",
      " [[[[[ 19  38  57]\n",
      "     [ 76  95 114]\n",
      "     [133 152 171]]\n",
      "\n",
      "    [[190 209 228]\n",
      "     [247 266 285]\n",
      "     [304 323 342]]\n",
      "\n",
      "    [[361 380 399]\n",
      "     [418 437 456]\n",
      "     [475 494 513]]]\n",
      "\n",
      "\n",
      "   [[[ 20  40  60]\n",
      "     [ 80 100 120]\n",
      "     [140 160 180]]\n",
      "\n",
      "    [[200 220 240]\n",
      "     [260 280 300]\n",
      "     [320 340 360]]\n",
      "\n",
      "    [[380 400 420]\n",
      "     [440 460 480]\n",
      "     [500 520 540]]]\n",
      "\n",
      "\n",
      "   [[[ 21  42  63]\n",
      "     [ 84 105 126]\n",
      "     [147 168 189]]\n",
      "\n",
      "    [[210 231 252]\n",
      "     [273 294 315]\n",
      "     [336 357 378]]\n",
      "\n",
      "    [[399 420 441]\n",
      "     [462 483 504]\n",
      "     [525 546 567]]]]\n",
      "\n",
      "\n",
      "\n",
      "  [[[[ 22  44  66]\n",
      "     [ 88 110 132]\n",
      "     [154 176 198]]\n",
      "\n",
      "    [[220 242 264]\n",
      "     [286 308 330]\n",
      "     [352 374 396]]\n",
      "\n",
      "    [[418 440 462]\n",
      "     [484 506 528]\n",
      "     [550 572 594]]]\n",
      "\n",
      "\n",
      "   [[[ 23  46  69]\n",
      "     [ 92 115 138]\n",
      "     [161 184 207]]\n",
      "\n",
      "    [[230 253 276]\n",
      "     [299 322 345]\n",
      "     [368 391 414]]\n",
      "\n",
      "    [[437 460 483]\n",
      "     [506 529 552]\n",
      "     [575 598 621]]]\n",
      "\n",
      "\n",
      "   [[[ 24  48  72]\n",
      "     [ 96 120 144]\n",
      "     [168 192 216]]\n",
      "\n",
      "    [[240 264 288]\n",
      "     [312 336 360]\n",
      "     [384 408 432]]\n",
      "\n",
      "    [[456 480 504]\n",
      "     [528 552 576]\n",
      "     [600 624 648]]]]\n",
      "\n",
      "\n",
      "\n",
      "  [[[[ 25  50  75]\n",
      "     [100 125 150]\n",
      "     [175 200 225]]\n",
      "\n",
      "    [[250 275 300]\n",
      "     [325 350 375]\n",
      "     [400 425 450]]\n",
      "\n",
      "    [[475 500 525]\n",
      "     [550 575 600]\n",
      "     [625 650 675]]]\n",
      "\n",
      "\n",
      "   [[[ 26  52  78]\n",
      "     [104 130 156]\n",
      "     [182 208 234]]\n",
      "\n",
      "    [[260 286 312]\n",
      "     [338 364 390]\n",
      "     [416 442 468]]\n",
      "\n",
      "    [[494 520 546]\n",
      "     [572 598 624]\n",
      "     [650 676 702]]]\n",
      "\n",
      "\n",
      "   [[[ 27  54  81]\n",
      "     [108 135 162]\n",
      "     [189 216 243]]\n",
      "\n",
      "    [[270 297 324]\n",
      "     [351 378 405]\n",
      "     [432 459 486]]\n",
      "\n",
      "    [[513 540 567]\n",
      "     [594 621 648]\n",
      "     [675 702 729]]]]]]\n"
     ]
    }
   ],
   "source": [
    "#Generamos el producto de tensores\n",
    "C = np.tensordot(A, B, axes = 0)\n",
    "print(C.shape)\n",
    "print(C)"
   ]
  }
 ],
 "metadata": {
  "kernelspec": {
   "display_name": "Python 3",
   "language": "python",
   "name": "python3"
  },
  "language_info": {
   "codemirror_mode": {
    "name": "ipython",
    "version": 3
   },
   "file_extension": ".py",
   "mimetype": "text/x-python",
   "name": "python",
   "nbconvert_exporter": "python",
   "pygments_lexer": "ipython3",
   "version": "3.6.3"
  }
 },
 "nbformat": 4,
 "nbformat_minor": 2
}
