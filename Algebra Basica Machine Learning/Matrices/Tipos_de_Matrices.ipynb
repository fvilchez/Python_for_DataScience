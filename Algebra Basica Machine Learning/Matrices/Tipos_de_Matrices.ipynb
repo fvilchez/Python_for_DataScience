{
 "cells": [
  {
   "cell_type": "code",
   "execution_count": 5,
   "metadata": {
    "collapsed": true
   },
   "outputs": [],
   "source": [
    "import numpy as np\n",
    "from numpy.linalg import inv"
   ]
  },
  {
   "cell_type": "markdown",
   "metadata": {},
   "source": [
    "# Matriz cuadrada "
   ]
  },
  {
   "cell_type": "markdown",
   "metadata": {},
   "source": [
    "Una matriz cuadrada es una matriz donde el número de filas y le número de columnas son iguales. El tamaño de una matriz cuadrada se le conoce como orden, de forma que una matriz de orden 4, se trata de una matriz de tamaño 4x4. Los elementos que forman la diagonal de la matriz,se les conoce como diagonal principal."
   ]
  },
  {
   "cell_type": "code",
   "execution_count": 3,
   "metadata": {},
   "outputs": [
    {
     "name": "stdout",
     "output_type": "stream",
     "text": [
      "[[1 2 3]\n",
      " [4 5 6]\n",
      " [7 8 9]]\n"
     ]
    }
   ],
   "source": [
    "#Generamos una matriz cuadrada de orden 3\n",
    "A = np.array([[1, 2, 3], [4, 5, 6], [7, 8, 9]])\n",
    "print(A)"
   ]
  },
  {
   "cell_type": "markdown",
   "metadata": {},
   "source": [
    "La matriz anterior se trata de una matriz cuadrada de orden 3, donde la diagonal principal está formada por los elementos: 1, 5, 9."
   ]
  },
  {
   "cell_type": "markdown",
   "metadata": {},
   "source": [
    "# Matriz simétrica"
   ]
  },
  {
   "cell_type": "markdown",
   "metadata": {},
   "source": [
    "Una matriz simétrica se trata de un tipo de matriz cuadrada donde el triángulo superior derecho es igual al inferior izquierdo. Para ser simétrica, el eje de simetría es siempre la diagonal principal de la matriz."
   ]
  },
  {
   "cell_type": "code",
   "execution_count": 4,
   "metadata": {},
   "outputs": [
    {
     "name": "stdout",
     "output_type": "stream",
     "text": [
      "[[1 2 3 4 5]\n",
      " [2 1 2 3 4]\n",
      " [3 2 1 2 3]\n",
      " [4 3 2 1 2]\n",
      " [5 4 3 2 1]]\n"
     ]
    }
   ],
   "source": [
    "#Generamos una matriz simétrica \n",
    "A = np.array([[1, 2, 3, 4, 5], [2,1, 2, 3, 4], [3, 2, 1, 2, 3], [4, 3, 2, 1, 2], [5, 4, 3, 2, 1]])\n",
    "print(A)"
   ]
  },
  {
   "cell_type": "markdown",
   "metadata": {},
   "source": [
    "En una matriz simétrica siempre se cumple que la traspuesta de dicha matriz, es la propia matriz."
   ]
  },
  {
   "cell_type": "markdown",
   "metadata": {},
   "source": [
    "# Matriz triangular"
   ]
  },
  {
   "cell_type": "markdown",
   "metadata": {},
   "source": [
    "Una matriz triangular es un tipo de matriz cuadrada donde todos sus valores por encima o por debajo de la diagonal principal son todos cero. Si los elementos que son cero son aquellos que están por debajo de la diagonal principal se le conoce como matriz triangular superior. Sin embargo, si los valores nulos son los elementos por encima de la diagonal principal se le conoce como matriz triangular inferior."
   ]
  },
  {
   "cell_type": "code",
   "execution_count": 5,
   "metadata": {},
   "outputs": [
    {
     "name": "stdout",
     "output_type": "stream",
     "text": [
      "[[1 2 3]\n",
      " [0 1 2]\n",
      " [0 0 3]]\n"
     ]
    }
   ],
   "source": [
    "#Generamos una matriz diagonal superior\n",
    "A = np.array([[1, 2, 3], [0, 1, 2], [0, 0, 3]])\n",
    "print(A)"
   ]
  },
  {
   "cell_type": "code",
   "execution_count": 9,
   "metadata": {},
   "outputs": [
    {
     "name": "stdout",
     "output_type": "stream",
     "text": [
      "[[1 0 0]\n",
      " [1 2 0]\n",
      " [1 2 3]]\n"
     ]
    }
   ],
   "source": [
    "#Generamos una matriz diagonal inferior\n",
    "A = np.array([[1, 0, 0], [1, 2, 0], [1, 2, 3]])\n",
    "print(A)"
   ]
  },
  {
   "cell_type": "markdown",
   "metadata": {},
   "source": [
    "Numpy dispone de funciones que nos permiten generar la matriz triangular de una matriz ya existente. \n",
    "\n",
    "La función **tril()** nos permite calcular la matriz triangular inferior de una matriz ya existente.\n",
    "\n",
    "La función **triu()** nos permite calcular la matriz triangular superior de una matriz ya existen."
   ]
  },
  {
   "cell_type": "code",
   "execution_count": 11,
   "metadata": {},
   "outputs": [
    {
     "name": "stdout",
     "output_type": "stream",
     "text": [
      "[[1 2 3]\n",
      " [4 5 6]\n",
      " [7 8 9]]\n"
     ]
    }
   ],
   "source": [
    "#Generamos una matriz cuadrada de orden 3\n",
    "A = np.array([[1, 2, 3], [4, 5, 6], [7, 8, 9]])\n",
    "print(A)"
   ]
  },
  {
   "cell_type": "code",
   "execution_count": 13,
   "metadata": {},
   "outputs": [
    {
     "name": "stdout",
     "output_type": "stream",
     "text": [
      "[[1 0 0]\n",
      " [4 5 0]\n",
      " [7 8 9]]\n"
     ]
    }
   ],
   "source": [
    "#Generamos la matriz triangular inferior de la matriz A\n",
    "print(np.tril(A))"
   ]
  },
  {
   "cell_type": "code",
   "execution_count": 14,
   "metadata": {},
   "outputs": [
    {
     "name": "stdout",
     "output_type": "stream",
     "text": [
      "[[1 2 3]\n",
      " [0 5 6]\n",
      " [0 0 9]]\n"
     ]
    }
   ],
   "source": [
    "#Generamos la matriz triangular superior de la matriz A \n",
    "print(np.triu(A))"
   ]
  },
  {
   "cell_type": "markdown",
   "metadata": {},
   "source": [
    "# Matriz diagonal"
   ]
  },
  {
   "cell_type": "markdown",
   "metadata": {},
   "source": [
    "Una matriz diagonal se trata de una matriz donde todos los elementos distintos de la diagonal principal son cero. Generalmente una matriz diagonal es conocida con la letra **D** aunque también puede ser representada de forma vectorial mediante un vector **d**."
   ]
  },
  {
   "cell_type": "code",
   "execution_count": 15,
   "metadata": {},
   "outputs": [
    {
     "name": "stdout",
     "output_type": "stream",
     "text": [
      "[[1 0 0]\n",
      " [0 2 0]\n",
      " [0 0 3]]\n"
     ]
    }
   ],
   "source": [
    "#Generamos una matriz diagonal\n",
    "D = np.array([[1, 0, 0], [0, 2, 0], [0, 0, 3]])\n",
    "print(D)"
   ]
  },
  {
   "cell_type": "code",
   "execution_count": 16,
   "metadata": {},
   "outputs": [
    {
     "name": "stdout",
     "output_type": "stream",
     "text": [
      "[[1]\n",
      " [2]\n",
      " [3]]\n"
     ]
    }
   ],
   "source": [
    "#Generamos la representación vectorial de la matriz\n",
    "d = np.array([[1], [2], [3]])\n",
    "print(d)"
   ]
  },
  {
   "cell_type": "markdown",
   "metadata": {},
   "source": [
    "Una matriz diagonal no tiene por qué ser cuadrada. En el caso de una matriz rectangular, la diagonal principal debería cubrir la dimensión más pequeña."
   ]
  },
  {
   "cell_type": "code",
   "execution_count": 17,
   "metadata": {},
   "outputs": [
    {
     "name": "stdout",
     "output_type": "stream",
     "text": [
      "[[1 0 0 0]\n",
      " [0 2 0 0]\n",
      " [0 0 3 0]\n",
      " [0 0 0 4]\n",
      " [0 0 0 0]]\n"
     ]
    }
   ],
   "source": [
    "#Generamos una matriz diagonal no cuadrada\n",
    "D = np.array([[1, 0, 0, 0], [0, 2, 0, 0], [0, 0, 3, 0], [0, 0, 0, 4], [0, 0, 0, 0]])\n",
    "print(D)"
   ]
  },
  {
   "cell_type": "markdown",
   "metadata": {},
   "source": [
    "Numpy dispone de la función **diag()** que nos permite generar la matriz diagonal de una matriz ya existente o bien transformar un vector existente en una matriz diagonal."
   ]
  },
  {
   "cell_type": "code",
   "execution_count": 18,
   "metadata": {},
   "outputs": [
    {
     "name": "stdout",
     "output_type": "stream",
     "text": [
      "[[1 2 3]\n",
      " [1 2 3]\n",
      " [1 2 3]]\n"
     ]
    }
   ],
   "source": [
    "#Generamos una matriz\n",
    "A = np.array([[1, 2, 3], [1, 2, 3], [1, 2, 3]])\n",
    "print(A)"
   ]
  },
  {
   "cell_type": "code",
   "execution_count": 21,
   "metadata": {},
   "outputs": [
    {
     "name": "stdout",
     "output_type": "stream",
     "text": [
      "[1 2 3]\n"
     ]
    }
   ],
   "source": [
    "#Extraemos el vecto de nuestra matriz diagonal \n",
    "d = np.diag(A)\n",
    "print(d)"
   ]
  },
  {
   "cell_type": "code",
   "execution_count": 22,
   "metadata": {},
   "outputs": [
    {
     "name": "stdout",
     "output_type": "stream",
     "text": [
      "[[1 0 0]\n",
      " [0 2 0]\n",
      " [0 0 3]]\n"
     ]
    }
   ],
   "source": [
    "#Generamos la matriz diagonal a partir del vector diagonal\n",
    "D = np.diag(d)\n",
    "print(D)"
   ]
  },
  {
   "cell_type": "markdown",
   "metadata": {},
   "source": [
    "# Matriz Identidad"
   ]
  },
  {
   "cell_type": "markdown",
   "metadata": {},
   "source": [
    "Una matriz identidad es una matriz cuadrada que no cambia un vector cuando esta lo multiplica. Se trata de una matriz donde todos sus elementos son cero excepto los elementos de la diagonal principal que son unos. Es representada muy a menudo mediante la notación **I** o **In** donde n representa la dimensión de nuestra matriz identidad."
   ]
  },
  {
   "cell_type": "code",
   "execution_count": 23,
   "metadata": {},
   "outputs": [
    {
     "name": "stdout",
     "output_type": "stream",
     "text": [
      "[[1 0 0]\n",
      " [0 1 0]\n",
      " [0 0 1]]\n"
     ]
    }
   ],
   "source": [
    "#Generamos la matriz identidad I3\n",
    "I = np.array([[1, 0, 0], [0, 1, 0], [0, 0, 1]])\n",
    "print(I)"
   ]
  },
  {
   "cell_type": "markdown",
   "metadata": {},
   "source": [
    "Numpy disponde de la función **identity()** que nos permite generar la matriz identidad de una dimensión n indicada."
   ]
  },
  {
   "cell_type": "code",
   "execution_count": 24,
   "metadata": {},
   "outputs": [
    {
     "name": "stdout",
     "output_type": "stream",
     "text": [
      "[[1. 0. 0.]\n",
      " [0. 1. 0.]\n",
      " [0. 0. 1.]]\n"
     ]
    }
   ],
   "source": [
    "#Generamos la matriz I3 mediante la función identity\n",
    "I = np.identity(3)\n",
    "print(I)"
   ]
  },
  {
   "cell_type": "markdown",
   "metadata": {
    "collapsed": true
   },
   "source": [
    "# Matriz ortogonal"
   ]
  },
  {
   "cell_type": "markdown",
   "metadata": {},
   "source": [
    "Dos vectores son ortogonales cuando su producto es igual a cero. Si la longitud de cada vector es la unidad, entonces además reciben el nombre de ortonormales.\n",
    "\n",
    "Es intuitivo considerar que una línea es ortogonal con otra si estas son perpendiculares. Una matriz ortogonal es un tipo de matriz cuadrada cuyas columnas y filas son vectores unitarios ortonormales. Estas matrices generalmente se denotan con **Q**.\n",
    "\n",
    "Se dice que una matriz es ortogonal si su transpuesta es igual a su inversa.\n",
    "\n",
    "También se dice que una matriz es ortogonal si el producto de la propia matriz con su traspuesta es igual a la matriz identidad."
   ]
  },
  {
   "cell_type": "code",
   "execution_count": 7,
   "metadata": {},
   "outputs": [
    {
     "name": "stdout",
     "output_type": "stream",
     "text": [
      "[[ True  True]\n",
      " [ True  True]]\n",
      "[[ True  True]\n",
      " [ True  True]]\n"
     ]
    }
   ],
   "source": [
    "#Generamos una matriz ortogonal\n",
    "Q = np.array([[1, 0], [0, -1]])\n",
    "\n",
    "#Calculamos su transpuesta\n",
    "Q_T = Q.T\n",
    "\n",
    "#Calculamos su inversa\n",
    "Q_inv = inv(Q)\n",
    "\n",
    "#Comprobamos que nuestra matriz es ortogonal \n",
    "print(Q_inv == Q)\n",
    "print(Q_T == Q_inv)"
   ]
  }
 ],
 "metadata": {
  "kernelspec": {
   "display_name": "Python 3",
   "language": "python",
   "name": "python3"
  },
  "language_info": {
   "codemirror_mode": {
    "name": "ipython",
    "version": 3
   },
   "file_extension": ".py",
   "mimetype": "text/x-python",
   "name": "python",
   "nbconvert_exporter": "python",
   "pygments_lexer": "ipython3",
   "version": "3.6.3"
  }
 },
 "nbformat": 4,
 "nbformat_minor": 2
}
