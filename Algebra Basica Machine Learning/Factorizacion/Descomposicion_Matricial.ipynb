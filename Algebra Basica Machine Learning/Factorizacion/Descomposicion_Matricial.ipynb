{
 "cells": [
  {
   "cell_type": "code",
   "execution_count": 12,
   "metadata": {
    "collapsed": true
   },
   "outputs": [],
   "source": [
    "import numpy as np \n",
    "from scipy.linalg import lu, qr, cholesky"
   ]
  },
  {
   "cell_type": "markdown",
   "metadata": {},
   "source": [
    "La descomposición matricial son métodos que reducen una matriz en partes que hace que sea más fácil realizar operaciones complejas. Los métodos de descomposición de matrices, también llamados métodos de factorización, son fundamentales en el algebra lineal computacional."
   ]
  },
  {
   "cell_type": "markdown",
   "metadata": {},
   "source": [
    "# Que es la descomposición matricial"
   ]
  },
  {
   "cell_type": "markdown",
   "metadata": {},
   "source": [
    "La descomposición matricial es una forma de reducir una matriz en partes. Este es un enfoque que puede simplificar operaciones matriciales complejas que pueden ser realizadas sobre la matriz descompuesta en lugar de sobre la matriz original. Existen muchas formas de descomponer una matriz."
   ]
  },
  {
   "cell_type": "markdown",
   "metadata": {},
   "source": [
    "# Descomposición LU"
   ]
  },
  {
   "cell_type": "markdown",
   "metadata": {},
   "source": [
    "La descomposición LU es usada en matrices cuadradas y descompone la matriz en dos componentes L y U.\n",
    "\n",
    "$$A = LU$$"
   ]
  },
  {
   "cell_type": "markdown",
   "metadata": {},
   "source": [
    "Donde A es la matriz cuadrada que deseamos descomponer, L es el triángulo matricial inferior y U es el triángulo matricial superior. Los factres L y U son matrices triangulares."
   ]
  },
  {
   "cell_type": "markdown",
   "metadata": {},
   "source": [
    "La descomposición LU se encuentra haciendo uso de un proceso numérico iterativo y puede fallar en aquellas matrices que no se pueden descomponer o no pueden ser descompuestas fácilmente. Una variación de esta descomposición que es numéricamente más estable, la llamada descomposición LUP.\n",
    "\n",
    "$$ A = PLU $$"
   ]
  },
  {
   "cell_type": "markdown",
   "metadata": {},
   "source": [
    "Las filas de la matriz original son re-ordenadas para simplificar el proceso de descomposición y la matriz adicional P especifica una forma de permutar el resultado y retornar el resultado al orden original. Existen otras variciones del método LU.\n",
    "\n",
    "La descomposición LU es a menudo usada para simplificar la resolución de sistemas ecuaciones, tales como encontrar los coeficientes de una regresión lineal, o calcular el determinante o la inversa de una matriz."
   ]
  },
  {
   "cell_type": "markdown",
   "metadata": {},
   "source": [
    "La descomposición LU puede ser implementada en Python mediante la función **lu()**. De forma más específica esta función calcula la descomposición PLU."
   ]
  },
  {
   "cell_type": "code",
   "execution_count": 3,
   "metadata": {},
   "outputs": [
    {
     "name": "stdout",
     "output_type": "stream",
     "text": [
      "[[0. 1. 0.]\n",
      " [0. 0. 1.]\n",
      " [1. 0. 0.]]\n",
      "[[1.         0.         0.        ]\n",
      " [0.14285714 1.         0.        ]\n",
      " [0.57142857 0.5        1.        ]]\n",
      "[[ 7.00000000e+00  8.00000000e+00  9.00000000e+00]\n",
      " [ 0.00000000e+00  8.57142857e-01  1.71428571e+00]\n",
      " [ 0.00000000e+00  0.00000000e+00 -1.58603289e-16]]\n"
     ]
    }
   ],
   "source": [
    "#Generamos un array \n",
    "A = np.array([[1, 2, 3], [4, 5, 6], [7, 8, 9]])\n",
    "\n",
    "#Descomponemos nuestra array en las tres componentes\n",
    "P, L, U = lu(A)\n",
    "\n",
    "#Mostramos los resultados \n",
    "print(P)\n",
    "print(L)\n",
    "print(U)"
   ]
  },
  {
   "cell_type": "code",
   "execution_count": 4,
   "metadata": {},
   "outputs": [
    {
     "name": "stdout",
     "output_type": "stream",
     "text": [
      "[[1. 2. 3.]\n",
      " [4. 5. 6.]\n",
      " [7. 8. 9.]]\n"
     ]
    }
   ],
   "source": [
    "#Reconstruimos la matriz a partir de la descomposición\n",
    "B = P.dot(L).dot(U)\n",
    "print(B)"
   ]
  },
  {
   "cell_type": "markdown",
   "metadata": {},
   "source": [
    "# Descomposición QR"
   ]
  },
  {
   "cell_type": "markdown",
   "metadata": {},
   "source": [
    "La descomposición QR es usada para matrices de tamañao mxn, es decir, no está limitada a matrices cuadrada. Descompone una matriz en las componentes Q y R.\n",
    "\n",
    "$$A = QR$$"
   ]
  },
  {
   "cell_type": "markdown",
   "metadata": {},
   "source": [
    "Donde A es la matriz que deseamos descomponer, Q es una matriz de tamaño mxm y R es la matriz triangular superior de tamaño mxn. La descomposición QR es encontrada mediante un proceso numérico iterativo que puede fallar para aquellas matrices que no pueden ser descompuestas, o no pueden ser descompuestas de forma sencilla. Esta descomposición es a menudo usada para resolver sistemas de ecuaciones lineales."
   ]
  },
  {
   "cell_type": "markdown",
   "metadata": {},
   "source": [
    "La descomposición QR puede ser implementada en Python haciendo uso de la función **qr()**. Por defecto retorna las matrices Q y R con las dimensiones más pequeñas. Podemos cambiar esto de forma que nos retorne las matrices Q y R esperadas, especificando el argumento **complete**."
   ]
  },
  {
   "cell_type": "code",
   "execution_count": 10,
   "metadata": {},
   "outputs": [
    {
     "name": "stdout",
     "output_type": "stream",
     "text": [
      "[[-0.16903085  0.89708523  0.40824829]\n",
      " [-0.50709255  0.27602622 -0.81649658]\n",
      " [-0.84515425 -0.34503278  0.40824829]]\n",
      "[[-5.91607978 -7.43735744]\n",
      " [ 0.          0.82807867]\n",
      " [ 0.          0.        ]]\n"
     ]
    }
   ],
   "source": [
    "#Generamos un array\n",
    "A = np.array([[1,2], [3,4], [5,6]])\n",
    "\n",
    "#Hacemos la descomposicion\n",
    "Q, R = qr(A)\n",
    "print(Q)\n",
    "print(R)"
   ]
  },
  {
   "cell_type": "code",
   "execution_count": 11,
   "metadata": {},
   "outputs": [
    {
     "name": "stdout",
     "output_type": "stream",
     "text": [
      "[[1. 2.]\n",
      " [3. 4.]\n",
      " [5. 6.]]\n"
     ]
    }
   ],
   "source": [
    "#Recuperamos la matriz original \n",
    "B = Q.dot(R)\n",
    "print(B)"
   ]
  },
  {
   "cell_type": "markdown",
   "metadata": {},
   "source": [
    "# Descomposición de Cholesky"
   ]
  },
  {
   "cell_type": "markdown",
   "metadata": {},
   "source": [
    "La descomposición de Cholesky es aplicada sobre matrices cuadradas donde todos sus valores son positivos, también conocidas como matrices definidas positivas. Nos centraremos en la  descomposición de matrices reales.\n",
    "\n",
    "$$A = LL{^T}$$"
   ]
  },
  {
   "cell_type": "markdown",
   "metadata": {},
   "source": [
    "Donde A es la matriz que deseamos factorizar, L es la matriz triangular inferior y LT es la transpuesta de L. La descomposición también puede ser definida como el producto de la matriz triangular superior.\n",
    "\n",
    "$$A=UU{^T}$$"
   ]
  },
  {
   "cell_type": "markdown",
   "metadata": {},
   "source": [
    "La descomposición de Cholesky es usada para resolver mínimos cuadrados para la regresión lineal, así como métodos de simulación y optimización. Cuando trabajamos con matrices simétricas, la descomposición de Cholesky es dos veces más rápida y eficiente que la descomposición LU y debería ser usada en estos casos."
   ]
  },
  {
   "cell_type": "markdown",
   "metadata": {},
   "source": [
    "La descomposición de Cholesky puede ser calculada en Python haciendo uso de la función **cholesky()**. Esta función retorna la matriz L, si queremos acceder a su traspuesta podemos acceder de forma bastante sencilla."
   ]
  },
  {
   "cell_type": "code",
   "execution_count": 13,
   "metadata": {},
   "outputs": [
    {
     "name": "stdout",
     "output_type": "stream",
     "text": [
      "[[1.41421356 0.70710678 0.70710678]\n",
      " [0.         1.22474487 0.40824829]\n",
      " [0.         0.         1.15470054]]\n"
     ]
    }
   ],
   "source": [
    "#Generamos un array\n",
    "A = np.array([[2, 1, 1], [1, 2, 1], [1, 1, 2]])\n",
    "\n",
    "#Obtenemos la descomposición mediante cholesky\n",
    "L = cholesky(A)\n",
    "print(L)"
   ]
  },
  {
   "cell_type": "code",
   "execution_count": 17,
   "metadata": {},
   "outputs": [
    {
     "name": "stdout",
     "output_type": "stream",
     "text": [
      "[[2. 1. 1.]\n",
      " [1. 2. 1.]\n",
      " [1. 1. 2.]]\n"
     ]
    }
   ],
   "source": [
    "#Obtenemos la matriz original \n",
    "B = L.T.dot(L)\n",
    "print(B)"
   ]
  }
 ],
 "metadata": {
  "kernelspec": {
   "display_name": "Python 3",
   "language": "python",
   "name": "python3"
  },
  "language_info": {
   "codemirror_mode": {
    "name": "ipython",
    "version": 3
   },
   "file_extension": ".py",
   "mimetype": "text/x-python",
   "name": "python",
   "nbconvert_exporter": "python",
   "pygments_lexer": "ipython3",
   "version": "3.6.3"
  }
 },
 "nbformat": 4,
 "nbformat_minor": 2
}
