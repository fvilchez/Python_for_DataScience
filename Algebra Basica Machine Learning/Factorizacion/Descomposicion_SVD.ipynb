{
 "cells": [
  {
   "cell_type": "code",
   "execution_count": 10,
   "metadata": {
    "collapsed": true
   },
   "outputs": [],
   "source": [
    "import numpy as np \n",
    "from scipy.linalg import svd, pinv\n",
    "from sklearn.decomposition import TruncatedSVD"
   ]
  },
  {
   "cell_type": "markdown",
   "metadata": {},
   "source": [
    "Todas las matrices tiene un SVD, lo que hace que la descomposición matricial SVD sea más estable que otros métodos."
   ]
  },
  {
   "cell_type": "markdown",
   "metadata": {},
   "source": [
    "# Que es la descomposición singular de valores"
   ]
  },
  {
   "cell_type": "markdown",
   "metadata": {},
   "source": [
    "La descomposición SVD, es un método de descomposición matricial para reducir una matriz a sus partes constituyentes, con el objetivo de hacer ciertos cálculos matriciales más simples. NOs vamos a centrar en el SVD para matrices de valores reales y ignoraremos el caso de números complejos."
   ]
  },
  {
   "cell_type": "markdown",
   "metadata": {},
   "source": [
    "$$ A =  U\\Sigma V{^T}$$"
   ]
  },
  {
   "cell_type": "markdown",
   "metadata": {},
   "source": [
    "Donde A es una matriz de números reales de tamaño mxn la cual deseamos descomponer, U es una matriz mxm, sigma es una matriz diagonal de tamaño mxn y V es la matriz de tamaño nxn.\n",
    "\n",
    "Los valores de la matriz diagonal son conocidos como valores singualares de la matriz original A. Las columnas de la matriz U son llamados vectores izquierdos y las columnas de la matriz V son llamadas vectores singulares derechos de A. El SVD es calculado mediante métodos iterativos numéricos, que no vamos a entrar en detalle."
   ]
  },
  {
   "cell_type": "markdown",
   "metadata": {},
   "source": [
    "# Calculando la descomposición singular de valores "
   ]
  },
  {
   "cell_type": "markdown",
   "metadata": {},
   "source": [
    "La descomposición singular de valores puede ser calculada en Python mediante la función **svd()**. Esta función toma como elemento de entrada una matriz y retorna las tres componentes. La matriz diagonal sigma es retornada como un vector de valores singulares."
   ]
  },
  {
   "cell_type": "code",
   "execution_count": 2,
   "metadata": {},
   "outputs": [
    {
     "name": "stdout",
     "output_type": "stream",
     "text": [
      "[[-0.2298477   0.88346102  0.40824829]\n",
      " [-0.52474482  0.24078249 -0.81649658]\n",
      " [-0.81964194 -0.40189603  0.40824829]]\n",
      "[9.52551809 0.51430058]\n",
      "[[-0.61962948 -0.78489445]\n",
      " [-0.78489445  0.61962948]]\n"
     ]
    }
   ],
   "source": [
    "#Nos generamos un array\n",
    "A = np.array([[1, 2], [3, 4], [5, 6]])\n",
    "\n",
    "#Hacemos la descomposición svd\n",
    "U, s, VT = svd(A)\n",
    "\n",
    "print(U)\n",
    "print(s)\n",
    "print(VT)"
   ]
  },
  {
   "cell_type": "markdown",
   "metadata": {},
   "source": [
    "# Reconstruyendo la matriz original "
   ]
  },
  {
   "cell_type": "markdown",
   "metadata": {},
   "source": [
    "La matriz original puede ser reconstruida a partir de los elementos U, s y VT. Estos elementos no pueden ser multiplicados directamente tal como los devuelve la función **svd**. El vector s debe de ser convertido a una matriz diagonal. Tras realizar este cambio, mediante la función **diag()** esto nos generará una matriz de tamaño mxm. Esto nos causa el problema de que nuestro producto de matrices no cumplen con los criterios del producto de matrices. Esto puede ser resuelto como se muestra a continuación"
   ]
  },
  {
   "cell_type": "code",
   "execution_count": 6,
   "metadata": {},
   "outputs": [
    {
     "name": "stdout",
     "output_type": "stream",
     "text": [
      "[[1. 2.]\n",
      " [3. 4.]\n",
      " [5. 6.]]\n"
     ]
    }
   ],
   "source": [
    "# Generamos un array \n",
    "A = np.array([[1, 2], [3, 4], [5, 6]])\n",
    "\n",
    "#Hacemos la descomposición \n",
    "U, s, VT = svd(A)\n",
    "\n",
    "#Nos creamos una matriz sigma de tamaño mxn\n",
    "Sigma = np.zeros((A.shape[0], A.shape[1]))\n",
    "\n",
    "Sigma[:A.shape[1], :A.shape[1]] = np.diag(s)\n",
    "\n",
    "#Reconstruimos la matriz\n",
    "B = U.dot(Sigma.dot(VT))\n",
    "print(B)"
   ]
  },
  {
   "cell_type": "markdown",
   "metadata": {},
   "source": [
    "Esta problemática solo existe en el caso de que la matriz no sea cuadrada."
   ]
  },
  {
   "cell_type": "markdown",
   "metadata": {},
   "source": [
    "# Pseudoinversa"
   ]
  },
  {
   "cell_type": "markdown",
   "metadata": {},
   "source": [
    "La pseudoinversa es la generalización de la matriz inversa para matrices rectangulares. La pseudoinversa se denota mediante la notación: $$A{^+}$$"
   ]
  },
  {
   "cell_type": "markdown",
   "metadata": {},
   "source": [
    "Python dispone de la función **pinv()** que nos permite obtener la pseudoinversa de una matriz."
   ]
  },
  {
   "cell_type": "code",
   "execution_count": 9,
   "metadata": {},
   "outputs": [
    {
     "name": "stdout",
     "output_type": "stream",
     "text": [
      "[[-1.00000000e+01 -5.00000000e+00  9.15782589e-15  5.00000000e+00]\n",
      " [ 8.50000000e+00  4.50000000e+00  5.00000000e-01 -3.50000000e+00]]\n"
     ]
    }
   ],
   "source": [
    "#Generamos un array\n",
    "A = np.array([[0.1, 0.2], [0.3, 0.4], [0.5, 0.6], [0.7, 0.8]])\n",
    "\n",
    "#Calculamos la pseudoinversa\n",
    "print(pinv(A))"
   ]
  },
  {
   "cell_type": "markdown",
   "metadata": {},
   "source": [
    "# Reducción de dimensionalidad"
   ]
  },
  {
   "cell_type": "markdown",
   "metadata": {},
   "source": [
    "Una de las aplicaciones más populares del SVD es la reducción de dimensionalidad. Los datos con un gran número de características, por ejemplo aquellas situaaciones en las que tenemos más características que observaciones, pueden ser reducidos a subconjuntos más pequeños y seleccionar las características más relevantes. Para hacer esto podemos realizar un SVD sobre la matriz original y seleccionar los k valores singulares mayores de sigma.\n",
    "\n",
    "La biblioteca scikit-learn nos proporciona la clase **TruncatedSVD** que nos permite realizar esto de forma automática. Como parámetro le pasamos el número de componentes que deseamos mantener."
   ]
  },
  {
   "cell_type": "code",
   "execution_count": 11,
   "metadata": {},
   "outputs": [
    {
     "name": "stdout",
     "output_type": "stream",
     "text": [
      "[[18.52157747  6.47697214]\n",
      " [49.81310011  1.91182038]\n",
      " [81.10462276 -2.65333138]]\n"
     ]
    }
   ],
   "source": [
    "# Generamos un array\n",
    "A = np.array([[1,2,3,4,5,6,7,8,9,10], [11,12,13,14,15,16,17,18,19,20], [21,22,23,24,25,26,27,28,29,30]])\n",
    "\n",
    "#Creamos nuestro SVD\n",
    "svd = TruncatedSVD(n_components = 2)\n",
    "\n",
    "#Fijamos el modelo\n",
    "svd.fit(A)\n",
    "\n",
    "#Aplicamos el transform\n",
    "resultado = svd.transform(A)\n",
    "print(resultado)"
   ]
  }
 ],
 "metadata": {
  "kernelspec": {
   "display_name": "Python 3",
   "language": "python",
   "name": "python3"
  },
  "language_info": {
   "codemirror_mode": {
    "name": "ipython",
    "version": 3
   },
   "file_extension": ".py",
   "mimetype": "text/x-python",
   "name": "python",
   "nbconvert_exporter": "python",
   "pygments_lexer": "ipython3",
   "version": "3.6.3"
  }
 },
 "nbformat": 4,
 "nbformat_minor": 2
}
