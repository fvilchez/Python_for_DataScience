{
 "cells": [
  {
   "cell_type": "code",
   "execution_count": 9,
   "metadata": {
    "collapsed": true
   },
   "outputs": [],
   "source": [
    "import numpy as np \n",
    "from numpy.linalg import eig, inv"
   ]
  },
  {
   "cell_type": "markdown",
   "metadata": {},
   "source": [
    "La descomposición matricial es una herramienta útil para reducir una matriz en sus partes constituyentes con el objetivo de simplificar operaciones complejas. Quizás el tipo o método más usado a la hora de descomponer una matriz es la descomposición en vectores y valores propios."
   ]
  },
  {
   "cell_type": "markdown",
   "metadata": {},
   "source": [
    "# Eigendecomposition de una matriz "
   ]
  },
  {
   "cell_type": "markdown",
   "metadata": {},
   "source": [
    "La eigendecomposition de una matriz se trata de un tipo de descomposición que implica descomponer una matriz cuadrada en un conjunto de vectores y valores propios.\n",
    "\n",
    "Un vector es un vector propio de una matriz si satisface la que:\n",
    "\n",
    "$$Av = \\lambda v$$"
   ]
  },
  {
   "cell_type": "markdown",
   "metadata": {},
   "source": [
    "Donde A es la matriz cuadrada que deseamos descomponer, v es el vector propio y lambda es un valor propio que se trata de un escalar.\n",
    "\n",
    "Una matriz puede tener un vector propio y un valor propio para cada dimensión de la matriz original. No todas las matrices cuadradas pueden ser descompuestas en vectores y valores propios, y algunas solo pueden ser descompuestas de forma que los números complejos son requeridos. La matriz original puede ser vista como el producto de los vectores propios y de los valores propios.\n",
    "\n",
    "$$ A = Q\\lambda Q^{-1}$$"
   ]
  },
  {
   "cell_type": "markdown",
   "metadata": {},
   "source": [
    "Donde Q es la matriz de los vectores propios y lambda es la matriz diagonal de los valores propios.\n",
    "\n",
    "Como otros métodos de descomposición matricial, la Eigendecomposition es usada como un elemento para simplificar los cálculos matriciales complejos."
   ]
  },
  {
   "cell_type": "markdown",
   "metadata": {},
   "source": [
    "Cuando un vecto es multiplicado por la matriz A lo más normal es que cambie de dirección. Ciertos vectores excepcionales **x** están en la misma dirección **Ax**. Estos son los vectores propios. Multiplicar un vector propio por A, nos da un vector **Ax** que es lambda veces el vector original.\n",
    "\n",
    "El valor propio lambda indica si el vector **x** se estira, se comprime o se invierte o si no se modifica, cuando es multiplicado por A."
   ]
  },
  {
   "cell_type": "markdown",
   "metadata": {},
   "source": [
    "# Valores propios y Vectores propios"
   ]
  },
  {
   "cell_type": "markdown",
   "metadata": {},
   "source": [
    "Los vectores propios son vectores unitarios, lo que significa que su longitud y magnitud es igual a la unidad. SOn referidos en ocasiones como vectores rectos, lo que simplemente significa un vector columna.\n",
    "\n",
    "Los valores propios son coeficientes aplicados a los vectores propios que dan la magnitud y la longitud de un vector."
   ]
  },
  {
   "cell_type": "markdown",
   "metadata": {},
   "source": [
    "# Calculando la descomposición en vectores y valores propios"
   ]
  },
  {
   "cell_type": "markdown",
   "metadata": {},
   "source": [
    "Esta descomposición se realiza haciendo uso de un algoritmo iterativo muy eficiente del cual no vamos a dar detalles. Para realizar esta descomposición Python dispne de la función **eig()**."
   ]
  },
  {
   "cell_type": "code",
   "execution_count": 2,
   "metadata": {},
   "outputs": [
    {
     "name": "stdout",
     "output_type": "stream",
     "text": [
      "[ 1.61168440e+01 -1.11684397e+00 -1.30367773e-15]\n",
      "[[-0.23197069 -0.78583024  0.40824829]\n",
      " [-0.52532209 -0.08675134 -0.81649658]\n",
      " [-0.8186735   0.61232756  0.40824829]]\n"
     ]
    }
   ],
   "source": [
    "#Generamos un array\n",
    "A = np.array([[1, 2, 3], [4, 5, 6], [7, 8, 9]])\n",
    "\n",
    "#Generamos la descomposición \n",
    "values, vectors = eig(A)\n",
    "print(values)\n",
    "print(vectors)"
   ]
  },
  {
   "cell_type": "markdown",
   "metadata": {},
   "source": [
    "# Confirmar vectores y valores propios"
   ]
  },
  {
   "cell_type": "markdown",
   "metadata": {},
   "source": [
    "Se puede determinar si un vector es en efecto un vector propio de una matriz. Para hacer esto multiplicamos el vector propio candidato por el vector de valores y comparamos el resultado con los valores propios."
   ]
  },
  {
   "cell_type": "code",
   "execution_count": 6,
   "metadata": {},
   "outputs": [
    {
     "name": "stdout",
     "output_type": "stream",
     "text": [
      "[ -3.73863537  -8.46653421 -13.19443305]\n",
      "[ -3.73863537  -8.46653421 -13.19443305]\n"
     ]
    }
   ],
   "source": [
    "#Generamos un array \n",
    "A = np.array([[1, 2, 3], [4, 5, 6], [7, 8, 9]])\n",
    "\n",
    "#Generamos la descomposición en vectores propios y valores propios\n",
    "values, vectors = eig(A)\n",
    "\n",
    "#Vemos si el primer vector propio es realmente un vector propio\n",
    "B = A.dot(vectors[:, 0])\n",
    "C = values[0]*vectors[:, 0]\n",
    "print(B)\n",
    "print(C)"
   ]
  },
  {
   "cell_type": "markdown",
   "metadata": {},
   "source": [
    "# Reconstruyendo la matriz original"
   ]
  },
  {
   "cell_type": "markdown",
   "metadata": {},
   "source": [
    "A partir de los valores propios y de los vectores propios podemos reconstruir la matriz original. En primer lugar, la lista de vectores propios debe ser transformada a una matriz donde cada fila de dicha matriz es un vector propio. En segunda lugar los valores propios deben ser transformados a una matriz diagonal. Tras esto, debemos de calcular la inversa de la matriz de vectores propios. Finalmente hacemos el produco de las dos matrices."
   ]
  },
  {
   "cell_type": "code",
   "execution_count": 13,
   "metadata": {},
   "outputs": [
    {
     "name": "stdout",
     "output_type": "stream",
     "text": [
      "[[1. 2. 3.]\n",
      " [4. 5. 6.]\n",
      " [7. 8. 9.]]\n"
     ]
    }
   ],
   "source": [
    "# Generamos un array \n",
    "A = np.array([[1, 2, 3], [4, 5, 6], [7, 8, 9]])\n",
    "\n",
    "#Hacemos la descomposicion\n",
    "values, vectors = eig(A)\n",
    "\n",
    "#Creamos la matriz inversa de nuestra matriz de vectores\n",
    "vectors_inv = inv(vectors)\n",
    "\n",
    "#Generamos la matriz diagonal a partir de los valores propios\n",
    "values_diag = np.diag(values)\n",
    "\n",
    "#Hacemos el producto\n",
    "print(vectors.dot(values_diag).dot(vectors_inv))"
   ]
  }
 ],
 "metadata": {
  "kernelspec": {
   "display_name": "Python 3",
   "language": "python",
   "name": "python3"
  },
  "language_info": {
   "codemirror_mode": {
    "name": "ipython",
    "version": 3
   },
   "file_extension": ".py",
   "mimetype": "text/x-python",
   "name": "python",
   "nbconvert_exporter": "python",
   "pygments_lexer": "ipython3",
   "version": "3.6.3"
  }
 },
 "nbformat": 4,
 "nbformat_minor": 2
}
