{
 "cells": [
  {
   "cell_type": "code",
   "execution_count": 4,
   "metadata": {
    "collapsed": true
   },
   "outputs": [],
   "source": [
    "import numpy as np"
   ]
  },
  {
   "cell_type": "markdown",
   "metadata": {},
   "source": [
    "# De lista de una dimensión a tipo de dato numpy array"
   ]
  },
  {
   "cell_type": "markdown",
   "metadata": {},
   "source": [
    "Da una lista de una dimensión, podemos transformar a tipo de dato numpy array sin más que hacer uso de la función **array()**"
   ]
  },
  {
   "cell_type": "code",
   "execution_count": 5,
   "metadata": {},
   "outputs": [
    {
     "name": "stdout",
     "output_type": "stream",
     "text": [
      "<class 'list'>\n"
     ]
    }
   ],
   "source": [
    "#Generamos una lista de números enteros\n",
    "lista = [10,9,8,7]\n",
    "print(type(lista))"
   ]
  },
  {
   "cell_type": "code",
   "execution_count": 6,
   "metadata": {},
   "outputs": [
    {
     "name": "stdout",
     "output_type": "stream",
     "text": [
      "<class 'numpy.ndarray'>\n"
     ]
    }
   ],
   "source": [
    "#Pasamos a tipo de datos numpy array\n",
    "np_lista = np.array(lista)\n",
    "print(type(np_lista))"
   ]
  },
  {
   "cell_type": "markdown",
   "metadata": {},
   "source": [
    "# Conviertiendo a tipo numpy array datos de dos dimensiones"
   ]
  },
  {
   "cell_type": "markdown",
   "metadata": {},
   "source": [
    "En el campo del aprendizaje automático es muy común con datos de dos dimensiones, donde cada fila suele ser una observación y cada columna se trata de una nueva característica. Este tipo de datos, pueden ser vistos como una lista de listas, donde cada lista se trata de una observación. Para transformar una lista de listas en un tipo de dato numpy array, basta con hacer uso de la función **array()**."
   ]
  },
  {
   "cell_type": "code",
   "execution_count": 7,
   "metadata": {},
   "outputs": [
    {
     "name": "stdout",
     "output_type": "stream",
     "text": [
      "<class 'list'>\n"
     ]
    }
   ],
   "source": [
    "#Nos creamos nuestra lista de listas\n",
    "lista_2D = [[1,2], [3,4], [5,6]]\n",
    "print(type(lista_2D))"
   ]
  },
  {
   "cell_type": "code",
   "execution_count": 8,
   "metadata": {},
   "outputs": [
    {
     "name": "stdout",
     "output_type": "stream",
     "text": [
      "<class 'numpy.ndarray'>\n"
     ]
    }
   ],
   "source": [
    "#Pasamos a tipo de datos numpy array\n",
    "np_lista_2D = np.array(lista_2D)\n",
    "print(type(np_lista_2D))"
   ]
  },
  {
   "cell_type": "markdown",
   "metadata": {},
   "source": [
    "# Seleccionando elementos"
   ]
  },
  {
   "cell_type": "markdown",
   "metadata": {},
   "source": [
    "La forma de seleccionar elementos en el lenguaje de programación Python es muy similar a otros lenguaje de programación como Jave, C# o C++.El principal dato que se debe tener en cuenta es que Python se trata de un lenguaje de programación cero indexado, es decir, el primer elemento de una lista, array, matriz etc se accede mediante el índice 0 y no mediante el índice 1 como pasa en el lenguaje de programación **R**."
   ]
  },
  {
   "cell_type": "markdown",
   "metadata": {},
   "source": [
    "## Seleccionando elementos en datos de una dimensión"
   ]
  },
  {
   "cell_type": "markdown",
   "metadata": {},
   "source": [
    "Para acceder a los elementos de un elemento de una sola dimensión, se hace uso de los corchetes (**[]**), donde en su forma más sencilla recibe el índice del elemento al que deseamos acceder."
   ]
  },
  {
   "cell_type": "code",
   "execution_count": 9,
   "metadata": {},
   "outputs": [
    {
     "name": "stdout",
     "output_type": "stream",
     "text": [
      "11\n"
     ]
    }
   ],
   "source": [
    "#Nos generamos un array\n",
    "np_array = np.array([11,12,13,14,15])\n",
    "\n",
    "#Accedemos al primer elemento \n",
    "print(np_array[0])"
   ]
  },
  {
   "cell_type": "code",
   "execution_count": 10,
   "metadata": {},
   "outputs": [
    {
     "name": "stdout",
     "output_type": "stream",
     "text": [
      "12\n"
     ]
    }
   ],
   "source": [
    "#Accedemos al segundo elemento \n",
    "print(np_array[1])"
   ]
  },
  {
   "cell_type": "markdown",
   "metadata": {},
   "source": [
    "Otra de las novedades que aporta la seleccion de elementos en Python, es la posibilidad de hacer uso del indexado mediante números negativos. Es decir, nos permite seleccionar elementos de atrás adelante, en este caso, para acceder al último elemento de nuestro array podemos hacer uso del índice -1"
   ]
  },
  {
   "cell_type": "code",
   "execution_count": 11,
   "metadata": {},
   "outputs": [
    {
     "name": "stdout",
     "output_type": "stream",
     "text": [
      "15\n"
     ]
    }
   ],
   "source": [
    "print(np_array[-1])"
   ]
  },
  {
   "cell_type": "markdown",
   "metadata": {},
   "source": [
    "## Seleccionando elementos en datos de dos dimensiones"
   ]
  },
  {
   "cell_type": "markdown",
   "metadata": {},
   "source": [
    "La selección de elementos para tipos de dato de dos dimensiones es similar al caso de una sola dimensión, excepto que en el caso de dos dimensiones una coma es usada para separar cada una de las dimensiones."
   ]
  },
  {
   "cell_type": "code",
   "execution_count": 12,
   "metadata": {},
   "outputs": [
    {
     "name": "stdout",
     "output_type": "stream",
     "text": [
      "1\n"
     ]
    }
   ],
   "source": [
    "#Seleccionamos el primer elemento de nuestro conjunto de datos\n",
    "print(np_lista_2D[0,0])"
   ]
  },
  {
   "cell_type": "markdown",
   "metadata": {},
   "source": [
    "Si estamos interesados en seleccionar todo los elementos de la primera fila podemos hacer uso de la notación (1,)"
   ]
  },
  {
   "cell_type": "code",
   "execution_count": 16,
   "metadata": {},
   "outputs": [
    {
     "name": "stdout",
     "output_type": "stream",
     "text": [
      "[1 2]\n"
     ]
    }
   ],
   "source": [
    "#Seleccionamos todos los elementos de la primera fila\n",
    "print(np_lista_2D[(0,)])"
   ]
  },
  {
   "cell_type": "markdown",
   "metadata": {},
   "source": [
    "# Slicing en numpy arrays"
   ]
  },
  {
   "cell_type": "markdown",
   "metadata": {},
   "source": [
    "Las estructuras como listas o numpy arrays pueden ser \"rebanadas\". Esto signfica que una sub secuencia de la estructura puede ser seleccionada y recuperada. Para realizar este tipo de selección debemos de hacer uso del operador **:** mediante el siguiente formato: **data[from:to]**.Se debe tener en cuenta que el último índice no es seleccionado.\n",
    "\n",
    "También podemos hacer uso de la notación **data[from:]** en este caso seleccionamos todos los elementos desde un índice hasta el final. \n",
    "\n",
    "La expresión **data[:to]** nos permite seleccionar todos los elementos desde el principio hasta un determinado valor(no incluido)"
   ]
  },
  {
   "cell_type": "markdown",
   "metadata": {},
   "source": [
    "## Slicing para elementos de una dimensión"
   ]
  },
  {
   "cell_type": "code",
   "execution_count": 18,
   "metadata": {},
   "outputs": [
    {
     "name": "stdout",
     "output_type": "stream",
     "text": [
      "[11 12 13]\n"
     ]
    }
   ],
   "source": [
    "#Seleccionamos los tres primeros elementos\n",
    "print(np_array[0:3])"
   ]
  },
  {
   "cell_type": "code",
   "execution_count": 19,
   "metadata": {},
   "outputs": [
    {
     "name": "stdout",
     "output_type": "stream",
     "text": [
      "[11 12 13]\n"
     ]
    }
   ],
   "source": [
    "#Seleccionamos los tres primeros elementos\n",
    "print(np_array[:3])"
   ]
  },
  {
   "cell_type": "code",
   "execution_count": 21,
   "metadata": {},
   "outputs": [
    {
     "name": "stdout",
     "output_type": "stream",
     "text": [
      "[14 15]\n"
     ]
    }
   ],
   "source": [
    "#Seleccionamos todos los elementos desde un determinado elemento hasta el final\n",
    "print(np_array[3:])"
   ]
  },
  {
   "cell_type": "markdown",
   "metadata": {},
   "source": [
    "## Slicing para elementos de dos dimensiones"
   ]
  },
  {
   "cell_type": "markdown",
   "metadata": {},
   "source": [
    "La forma de hacer slicing con datos de dos dimensiones es exactamento igual que para el caso de una sola dimensión ahora vemos un par de ejemplos."
   ]
  },
  {
   "cell_type": "code",
   "execution_count": 22,
   "metadata": {
    "collapsed": true
   },
   "outputs": [],
   "source": [
    "#Nos generamos un nuevo array\n",
    "datos = np.array([\n",
    "[11, 22, 33],\n",
    "[44, 55, 66],\n",
    "[77, 88, 99]])"
   ]
  },
  {
   "cell_type": "code",
   "execution_count": 23,
   "metadata": {},
   "outputs": [
    {
     "name": "stdout",
     "output_type": "stream",
     "text": [
      "[[11 22]\n",
      " [44 55]\n",
      " [77 88]]\n"
     ]
    }
   ],
   "source": [
    "#Seleccionamos de nuestros datos todos los elementos menos los elementos de la última columna\n",
    "print(datos[:, :-1])"
   ]
  },
  {
   "cell_type": "code",
   "execution_count": 24,
   "metadata": {},
   "outputs": [
    {
     "name": "stdout",
     "output_type": "stream",
     "text": [
      "[33 66 99]\n"
     ]
    }
   ],
   "source": [
    "#Seleccionamos todos los datos de la última columna\n",
    "print(datos[:, -1])"
   ]
  },
  {
   "cell_type": "markdown",
   "metadata": {},
   "source": [
    "# Dimensionando nuestras arrays de forma adecuada"
   ]
  },
  {
   "cell_type": "markdown",
   "metadata": {},
   "source": [
    "Algunas librerías como scikit-learn, requieren que el tamaño de nuestras arrays de una dimensión sean reescaladas a arrays de dos dimensiones. Algunos como algoritmos como LSTM, RNN, requieren que los inputs de sus arrays sean de tres dimensiones."
   ]
  },
  {
   "cell_type": "markdown",
   "metadata": {},
   "source": [
    "## De una dimensión a dos dimensiones"
   ]
  },
  {
   "cell_type": "markdown",
   "metadata": {},
   "source": [
    "A la hora de hacer reshaping, numpy dispone de la función **reshape()**. Esta función toma un solo argumento que especifica el nuevo tamaño de nuestra array."
   ]
  },
  {
   "cell_type": "code",
   "execution_count": 28,
   "metadata": {},
   "outputs": [
    {
     "name": "stdout",
     "output_type": "stream",
     "text": [
      "(5,)\n"
     ]
    }
   ],
   "source": [
    "#Nos generamos un array\n",
    "data = np.array([11, 22, 33, 44, 55])\n",
    "print(data.shape)"
   ]
  },
  {
   "cell_type": "code",
   "execution_count": 30,
   "metadata": {},
   "outputs": [
    {
     "name": "stdout",
     "output_type": "stream",
     "text": [
      "(5, 1)\n"
     ]
    }
   ],
   "source": [
    "#Hacemos el reshape \n",
    "data_reshape = data.reshape(data.shape[0], 1)\n",
    "print(data_reshape.shape)"
   ]
  },
  {
   "cell_type": "markdown",
   "metadata": {},
   "source": [
    "## De dos dimensiones a tres dimensiones"
   ]
  },
  {
   "cell_type": "markdown",
   "metadata": {},
   "source": [
    "En determinados algoritmos como LSTM hacer un reshape de datos de dos dimensiones a datos de tres dimensiones es algo bastante normal."
   ]
  },
  {
   "cell_type": "code",
   "execution_count": 31,
   "metadata": {},
   "outputs": [
    {
     "name": "stdout",
     "output_type": "stream",
     "text": [
      "(3, 2)\n"
     ]
    }
   ],
   "source": [
    "#Generamos nuestros datos \n",
    "data = [[11, 22],\n",
    "[33, 44],\n",
    "[55, 66]]\n",
    "\n",
    "#Pasamos a tipo numpy array\n",
    "data = np.array(data)\n",
    "print(data.shape)"
   ]
  },
  {
   "cell_type": "code",
   "execution_count": 32,
   "metadata": {},
   "outputs": [
    {
     "name": "stdout",
     "output_type": "stream",
     "text": [
      "(3, 2, 1)\n"
     ]
    }
   ],
   "source": [
    "#Convertimos nuestros datos a tres dimensiones\n",
    "data = data.reshape(data.shape[0], data.shape[1], 1)\n",
    "print(data.shape)"
   ]
  }
 ],
 "metadata": {
  "kernelspec": {
   "display_name": "Python 3",
   "language": "python",
   "name": "python3"
  },
  "language_info": {
   "codemirror_mode": {
    "name": "ipython",
    "version": 3
   },
   "file_extension": ".py",
   "mimetype": "text/x-python",
   "name": "python",
   "nbconvert_exporter": "python",
   "pygments_lexer": "ipython3",
   "version": "3.6.3"
  }
 },
 "nbformat": 4,
 "nbformat_minor": 2
}
